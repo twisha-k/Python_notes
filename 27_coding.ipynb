{
  "nbformat": 4,
  "nbformat_minor": 0,
  "metadata": {
    "colab": {
      "provenance": [],
      "include_colab_link": true
    },
    "kernelspec": {
      "name": "python3",
      "display_name": "Python 3"
    }
  },
  "cells": [
    {
      "cell_type": "markdown",
      "metadata": {
        "id": "view-in-github",
        "colab_type": "text"
      },
      "source": [
        "<a href=\"https://colab.research.google.com/github/twisha-k/Python_notes/blob/main/27_coding.ipynb\" target=\"_parent\"><img src=\"https://colab.research.google.com/assets/colab-badge.svg\" alt=\"Open In Colab\"/></a>"
      ]
    },
    {
      "cell_type": "markdown",
      "metadata": {
        "id": "aMbswDYFUt_1"
      },
      "source": [
        "# Lesson 27: Meteorite Landings - Histogram"
      ]
    },
    {
      "cell_type": "markdown",
      "metadata": {
        "id": "dmruqgPqb9BH"
      },
      "source": [
        "### Teacher-Student Activities\n",
        "\n",
        "In the previous classes, we learnt how to create a count plot. In this class, we will learn another type of graph called a histogram.\n",
        "\n",
        "A histogram is very similar to a count plot. It also shows the count of values. However, unlike the discrete counts in a count plot, a histogram shows the continuous counts of values. You will get a better understanding once we start creating a histogram.\n",
        "\n",
        "Let's quickly rush through the activities we covered in the previous class and begin this class from **Activity 1: Count Plot** section.\n",
        "\n"
      ]
    },
    {
      "cell_type": "markdown",
      "metadata": {
        "id": "0btx_ehOLDK5"
      },
      "source": [
        "---"
      ]
    },
    {
      "cell_type": "markdown",
      "metadata": {
        "id": "DoShzic97iBl"
      },
      "source": [
        "#### Recap\n",
        "\n",
        "Dataset Link (don't click on it):\n",
        "\n",
        "https://s3-student-datasets-bucket.whjr.online/whitehat-ds-datasets/meteorite-landings/meteorite-landings.csv\n"
      ]
    },
    {
      "cell_type": "code",
      "metadata": {
        "id": "ThLLbqIzUd9f",
        "colab": {
          "base_uri": "https://localhost:8080/"
        },
        "outputId": "f9b13035-0e06-4846-f256-fee3afa5c0de"
      },
      "source": [
        "# Below are the activities that have been covered in the previous class.\n",
        "# 1. Import the necessary libraries for this class and create a DataFrame.\n",
        "import numpy as np\n",
        "import pandas as pd\n",
        "import matplotlib.pyplot as plt\n",
        "\n",
        "met_df = pd.read_csv('https://s3-student-datasets-bucket.whjr.online/whitehat-ds-datasets/meteorite-landings/meteorite-landings.csv')\n",
        "\n",
        "# 2. Find the number of rows and columns in the DataFrame.\n",
        "print(met_df.shape)\n",
        "\n",
        "# 3. Rows containing the year values less than 860 and greater than 2016.\n",
        "correct_years_df = met_df[(met_df['year'] >= 860) & (met_df['year'] <= 2016)]\n",
        "\n",
        "# 4. Rows having the 'reclong' values greater than or equal to -180 degrees and less than or equal to 180 degrees.\n",
        "correct_long_df = correct_years_df[(correct_years_df['reclong'] >= -180) & (correct_years_df['reclong'] <= 180)]\n",
        "\n",
        "# 5. Rows containing the '0 reclat' and '0 reclong' values from the 'correct_long_df'.\n",
        "correct_lat_long_df = correct_long_df[~((correct_long_df['reclat'] == 0 ) & (correct_long_df['reclong'] == 0))]\n",
        "\n",
        "# 6. Indices of the rows having missing mass values.\n",
        "row_indices = correct_lat_long_df[correct_lat_long_df['mass'].isnull() == True].index\n",
        "\n",
        "# 7. Missing values in the 'mass' column in the 'correct_lat_long_df' DataFrame with median of mass.\n",
        "median_mass = correct_lat_long_df['mass'].median()\n",
        "correct_lat_long_df.loc[row_indices, 'mass'] = median_mass\n",
        "\n",
        "# 8. Convert the 'year' values into an integer type values.\n",
        "correct_lat_long_df.loc[:, 'year'] = correct_lat_long_df.loc[:, 'year'].astype('int')"
      ],
      "execution_count": null,
      "outputs": [
        {
          "output_type": "stream",
          "text": [
            "(45716, 10)\n"
          ],
          "name": "stdout"
        },
        {
          "output_type": "stream",
          "text": [
            "/usr/local/lib/python3.7/dist-packages/pandas/core/indexing.py:1763: SettingWithCopyWarning: \n",
            "A value is trying to be set on a copy of a slice from a DataFrame.\n",
            "Try using .loc[row_indexer,col_indexer] = value instead\n",
            "\n",
            "See the caveats in the documentation: https://pandas.pydata.org/pandas-docs/stable/user_guide/indexing.html#returning-a-view-versus-a-copy\n",
            "  isetter(loc, value)\n",
            "/usr/local/lib/python3.7/dist-packages/pandas/core/indexing.py:1743: SettingWithCopyWarning: \n",
            "A value is trying to be set on a copy of a slice from a DataFrame.\n",
            "Try using .loc[row_indexer,col_indexer] = value instead\n",
            "\n",
            "See the caveats in the documentation: https://pandas.pydata.org/pandas-docs/stable/user_guide/indexing.html#returning-a-view-versus-a-copy\n",
            "  isetter(ilocs[0], value)\n"
          ],
          "name": "stderr"
        }
      ]
    },
    {
      "cell_type": "markdown",
      "metadata": {
        "id": "mAHPBr8hmtGf"
      },
      "source": [
        "---"
      ]
    },
    {
      "cell_type": "markdown",
      "metadata": {
        "id": "P-XzsmGGL25Z"
      },
      "source": [
        "#### Activity 1: Count Plot\n",
        "\n",
        "Recall that in the previous class we couldn't draw count plots for all the meteorites found in a year. We had to divide the years in the 20 to 30 years period and then draw the count plot. The count plot really works well when you want to look at the variation in the count of a feature across a category. E.g., we observed that the count of `Valid` meteorites was more than the count of the `Relict` meteorites for a year. So, this is where the count plots are really helpful.\n",
        "\n",
        "However, if you want to observe the count trend in one single graph, then, in that case, it is better to create a histogram.\n",
        "\n",
        "*A histogram is a type of bar graph which plots the data falling in the same interval together.* Let's understand a histogram through an example.\n",
        "\n",
        "Consider the count of the meteorites between the years `1970` & `2000`. Let's create a count plot for this period."
      ]
    },
    {
      "cell_type": "code",
      "metadata": {
        "id": "n5mVgyomUZQY",
        "colab": {
          "base_uri": "https://localhost:8080/",
          "height": 388
        },
        "outputId": "1c572a36-b1bc-4f0b-f75a-afd82da29710"
      },
      "source": [
        "# Student Action: Create a count plot for the count of the meteorites between the years 1970 & 2000.\n",
        "import seaborn as sns\n",
        "# Create a DataFrame for the meteorites fallen between 1970 and 2000 including both.\n",
        "met_1970_2000=correct_lat_long_df[(correct_lat_long_df['year']>=1970) & (correct_lat_long_df['year']<=2000)]\n",
        "# Create a count plot for the meteorites fallen between 1970 and 2000 including both.\n",
        "met_1970_2000\n",
        "plt.figure(figsize=(12,6))\n",
        "sns.countplot(x='year', data=met_1970_2000)\n",
        "plt.show()"
      ],
      "execution_count": null,
      "outputs": [
        {
          "output_type": "display_data",
          "data": {
            "image/png": "[encoded data removed]",
            "text/plain": [
              "<Figure size 864x432 with 1 Axes>"
            ]
          },
          "metadata": {
            "tags": [],
            "needs_background": "light"
          }
        }
      ]
    },
    {
      "cell_type": "markdown",
      "metadata": {
        "id": "0swSLoOCUqcX"
      },
      "source": [
        "Now, suppose we want to plot a bar graph for the count of the number of meteorites fallen in the interval of 5 years between 1970 and 2000. In this case, we will have 6 intervals. They are:\n",
        "\n",
        "1. 1970 to 1975 (excluding 1975)\n",
        "\n",
        "2. 1975 to 1980 (excluding 1980)\n",
        "\n",
        "3. 1980 to 1985 (excluding 1985)\n",
        "\n",
        "4. 1985 to 1990 (excluding 1990)\n",
        "\n",
        "5. 1990 to 1995 (excluding 1995)\n",
        "\n",
        "6. 1995 to 2000 (**including** 2000)\n",
        "\n"
      ]
    },
    {
      "cell_type": "markdown",
      "metadata": {
        "id": "tXO47iQ3Fo-8"
      },
      "source": [
        "---"
      ]
    },
    {
      "cell_type": "markdown",
      "metadata": {
        "id": "x1sGC6kWFpqI"
      },
      "source": [
        "#### Activity 2: Histogram Using The `hist()` Function\n",
        "\n",
        "To create such bar graphs, we use a histogram. The bars in the count plot merge together to form one bar in the histogram. So, for the interval:\n",
        "\n",
        "1. 1970 to 1975 (excluding 1975), the bars in a count plot for the years 1970, 1971, 1972, 1973 and 1974 will merge together to form one bar in a histogram.\n",
        "\n",
        "2. 1975 to 1980 (excluding 1980), the bars in a count plot for the years 1975, 1976, 1977, 1978 and 1979 will merge together to form one bar in a histogram.\n",
        "\n",
        "3. 1980 to 1985 (excluding 1985), the bars in a count plot for the years 1980, 1981, 1982, 1983 and 1984 will merge together to form one bar in a histogram.\n",
        "\n",
        "4. 1985 to 1980 (excluding 1990), the bars in a count plot for the years 1985, 1986, 1987, 1988 and 1989 will merge together to form one bar in a histogram.\n",
        "\n",
        "5. 1990 to 1995 (excluding 1995), the bars in a count plot for the years 1990, 1991, 1992, 1993 and 1994 will merge together to form one bar in a histogram.\n",
        "\n",
        "6. 1995 to 2000 (**including** 2000), the bars in a count plot for the years 1995, 1996, 1997, 1998 and 2000 will merge together to form one bar in a histogram.\n",
        "\n",
        "To create a histogram, you can use the `hist()` function which exists in the `matplotlib.pyplot` library. The `hist()` function requires a one dimensional array/list/series as an input to create a histogram. Let's create a histogram for the Pandas series which contains the year values between 1970 and 2000 including both of them, i.e.,\n",
        "\n",
        "`correct_lat_long_df.loc[(correct_lat_long_df['year'] >= 1970) & (correct_lat_long_df['year'] < 2001)]`\n"
      ]
    },
    {
      "cell_type": "code",
      "metadata": {
        "colab": {
          "base_uri": "https://localhost:8080/"
        },
        "id": "GZbLB20pZwYN",
        "outputId": "81cd3caf-d7ce-4ff0-eda0-3ec24af518b3"
      },
      "source": [
        "met_1970_2000['year']"
      ],
      "execution_count": null,
      "outputs": [
        {
          "output_type": "execute_result",
          "data": {
            "text/plain": [
              "3        1976\n",
              "10       1974\n",
              "16       1981\n",
              "31       1977\n",
              "41       1971\n",
              "         ... \n",
              "45709    1981\n",
              "45710    1990\n",
              "45711    1990\n",
              "45712    1999\n",
              "45715    1976\n",
              "Name: year, Length: 22368, dtype: int64"
            ]
          },
          "metadata": {
            "tags": []
          },
          "execution_count": 5
        }
      ]
    },
    {
      "cell_type": "code",
      "metadata": {
        "id": "9e2cUJqriWk6",
        "colab": {
          "base_uri": "https://localhost:8080/",
          "height": 265
        },
        "outputId": "4c068796-e1b9-42d7-f80a-d37b9de21a12"
      },
      "source": [
        "# Teacher Action: Create a Pandas series containing the year values between 1970 and 2000 including both of them.\n",
        "import matplotlib.pyplot as plt\n",
        "plt.hist(met_1970_2000['year'],bins=6)\n",
        "plt.grid()\n",
        "plt.show()"
      ],
      "execution_count": null,
      "outputs": [
        {
          "output_type": "display_data",
          "data": {
            "image/png": "[encoded data removed]",
            "text/plain": [
              "<Figure size 432x288 with 1 Axes>"
            ]
          },
          "metadata": {
            "tags": [],
            "needs_background": "light"
          }
        }
      ]
    },
    {
      "cell_type": "markdown",
      "metadata": {
        "id": "BDoQkLKdQqjf"
      },
      "source": [
        "So, we have sliced the `correct_lat_long_df` DataFrame to obtain a Pandas series countaining the year values between the years 1970 and 2000. **Since for every meteorite, we have recorded its fall year. Hence, the number of year values is equal to the number of meteorites fallen on Earth.**\n",
        "\n",
        "Now let's create a histogram for the meteorites fallen between 1970 and 2000 using the `hist()` function. We will provide two inputs to the function. They are:\n",
        "\n",
        "1. The Pandas series `met_bet_1970_and_2000_series` for which the histogram needs to be created.\n",
        "\n",
        "2. The `bins` value to define the number of bars to be created in the histogram. Here, we are going to create 6 bars, hence we will pass `bins=6` as the second input to the `hist()` function.\n",
        "\n"
      ]
    },
    {
      "cell_type": "code",
      "metadata": {
        "id": "cRWZrocPR4Lg",
        "colab": {
          "base_uri": "https://localhost:8080/"
        },
        "outputId": "f30c5297-7247-4613-8ed1-879fdbbffd3b"
      },
      "source": [
        "# Teacher Action: Create a histogram for the Pandas series containing the year values between 1970 and 2000 including both of them.\n",
        "correct_lat_long_df[(correct_lat_long_df['year']>=1970) & (correct_lat_long_df['year']<1975)]['year'].value_counts().sum()"
      ],
      "execution_count": null,
      "outputs": [
        {
          "output_type": "execute_result",
          "data": {
            "text/plain": [
              "846"
            ]
          },
          "metadata": {
            "tags": []
          },
          "execution_count": 7
        }
      ]
    },
    {
      "cell_type": "code",
      "metadata": {
        "colab": {
          "base_uri": "https://localhost:8080/"
        },
        "id": "rn-q1lbZbFdX",
        "outputId": "7630f856-4aa5-4cc7-8e5a-500ba23e3941"
      },
      "source": [
        "print(correct_lat_long_df[(correct_lat_long_df['year']>=1970) & (correct_lat_long_df['year']<1975)]['year'].value_counts().sum())\n",
        "print(correct_lat_long_df[(correct_lat_long_df['year']>=1975) & (correct_lat_long_df['year']<1980)]['year'].value_counts().sum())\n",
        "print(correct_lat_long_df[(correct_lat_long_df['year']>=1980) & (correct_lat_long_df['year']<1985)]['year'].value_counts().sum())\n",
        "print(correct_lat_long_df[(correct_lat_long_df['year']>=1985) & (correct_lat_long_df['year']<1990)]['year'].value_counts().sum())\n",
        "print(correct_lat_long_df[(correct_lat_long_df['year']>=1990) & (correct_lat_long_df['year']<1995)]['year'].value_counts().sum())\n",
        "print(correct_lat_long_df[(correct_lat_long_df['year']>=1995) & (correct_lat_long_df['year']<=2000)]['year'].value_counts().sum())"
      ],
      "execution_count": null,
      "outputs": [
        {
          "output_type": "stream",
          "text": [
            "846\n",
            "4116\n",
            "1708\n",
            "5098\n",
            "4448\n",
            "6152\n"
          ],
          "name": "stdout"
        }
      ]
    },
    {
      "cell_type": "markdown",
      "metadata": {
        "id": "TyPWmfrYqJ3O"
      },
      "source": [
        "In the histogram above, on the horizontal axis, we have the year values and on the vertical axis, we have the count of the meteorites fallen to Earth including both `Fell` & `Found` meteorites. So from the histogram, we can say that\n",
        "\n",
        "1. just below 1000 meteorites fell on Earth from 1970 to 1975 (excluding 1975)\n",
        "\n",
        "2. just over 4000 meteorites fell on Earth from 1975 to 1980 (excluding 1980)\n",
        "\n",
        "3. just below 2000 meteorites fell on Earth from 1980 to 1985 (excluding 1985)\n",
        "\n",
        "4. just over 5000 meteorites fell on Earth from 1985 to 1990 (excluding 1990)\n",
        "\n",
        "5. just below 4500 meteorites fell on Earth from 1990 to 1995 (excluding 1995)\n",
        "\n",
        "6. just over 6000 meteorites fell on Earth from 1995 to 2000 (**including** 2000)\n"
      ]
    },
    {
      "cell_type": "markdown",
      "metadata": {
        "id": "nbghBY4-GAJN"
      },
      "source": [
        "---"
      ]
    },
    {
      "cell_type": "markdown",
      "metadata": {
        "id": "ANCPiCzvGAwB"
      },
      "source": [
        "#### Activity 3: The `sum()` Function^^\n",
        "\n",
        "We can find the actual number of meteorites fell on Earth in each of the six intervals using the `sum()` function which exists in the Pandas module.\n",
        "\n",
        "**Note:** Number of meteorites fell on Earth is equal to the number of year values.\n",
        "\n",
        "To do this exercise, first, obtain a Pandas series containing the year values for each interval of 5 years using the `loc[]` function. E.g.,\n",
        "\n",
        "```\n",
        "correct_lat_long_df.loc[(correct_lat_long_df['year'] >= 1970) & (correct_lat_long_df['year'] < 1975), 'year']\n",
        "```\n",
        "\n",
        "Then apply the `value_counts()` function followed by the `sum()` function. The `value_counts()` function will return another Pandas series containing the count of year values in the 5 year interval. The `sum()` function will return the sum of the all counts. E.g.,\n",
        "\n",
        "```\n",
        "correct_lat_long_df.loc[(correct_lat_long_df['year'] >= 1970) & (correct_lat_long_df['year'] < 1975), 'year'].value_counts().sum()\n",
        "```"
      ]
    },
    {
      "cell_type": "code",
      "metadata": {
        "id": "37_USqMKi1dn"
      },
      "source": [
        "# Student Action: Find the actual number of meteorites fell on Earth in each of the six intervals.\n"
      ],
      "execution_count": null,
      "outputs": []
    },
    {
      "cell_type": "markdown",
      "metadata": {
        "id": "A4n2s76eqi-d"
      },
      "source": [
        "Therefore,\n",
        "\n",
        "- 846 meteorites fell on Earth from 1970 to 1975 (excluding 1975)\n",
        "\n",
        "- 4116 meteorites fell on Earth from 1975 to 1980 (excluding 1980)\n",
        "\n",
        "- 1708 meteorites fell on Earth from 1980 to 1985 (excluding 1985)\n",
        "\n",
        "- 5098 meteorites fell on Earth from 1985 to 1990 (excluding 1990)\n",
        "\n",
        "- 4448 meteorites fell on Earth from 1990 to 1995 (excluding 1995)\n",
        "\n",
        "- 6152 meteorites fell on Earth from 1995 to 2000 (**including** 2000)\n",
        "\n",
        "\n",
        "There's an alternate way to do the above exercise. Create a `while` loop to iterete through each interval of 5 years to count the number of years in each interval.\n"
      ]
    },
    {
      "cell_type": "code",
      "metadata": {
        "id": "dgt0kl5NdmPX",
        "colab": {
          "base_uri": "https://localhost:8080/"
        },
        "outputId": "18317c2c-ef1e-455b-920a-0aa6e835d2e4"
      },
      "source": [
        "year = 1970\n",
        "while year != 1995:\n",
        "  print(correct_lat_long_df.loc[(correct_lat_long_df['year'] >= year) & (correct_lat_long_df['year'] < year + 5), 'year'].value_counts().sum())\n",
        "  year += 5\n",
        "\n",
        "# For the last interval, we want to include the counts of the year '2000'. Hence, let's print the required counts without using the 'while' loop.\n",
        "correct_lat_long_df.loc[(correct_lat_long_df['year'] >= 1995) & (correct_lat_long_df['year'] <= 2000), 'year'].value_counts().sum()"
      ],
      "execution_count": null,
      "outputs": [
        {
          "output_type": "stream",
          "text": [
            "846\n",
            "4116\n",
            "1708\n",
            "5098\n",
            "4448\n"
          ],
          "name": "stdout"
        },
        {
          "output_type": "execute_result",
          "data": {
            "text/plain": [
              "6152"
            ]
          },
          "metadata": {
            "tags": []
          },
          "execution_count": 10
        }
      ]
    },
    {
      "cell_type": "code",
      "metadata": {
        "id": "OYvwnzyTZxjG",
        "colab": {
          "base_uri": "https://localhost:8080/"
        },
        "outputId": "8a74e17a-7009-428c-9e28-a752cf10e58e"
      },
      "source": [
        "# Teacher Action: Create a 'while' loop to iterete through first 5 intervals to obtain the count of the meteorites fallen.\n",
        "year=1970\n",
        "while year != 1995:\n",
        "  print(correct_lat_long_df[(correct_lat_long_df['year']>=year) & (correct_lat_long_df['year']<year)]['year'].value_counts().sum())\n",
        "  year+=5\n",
        "correct_lat_long_df[(correct_lat_long_df['year']>=1995) & (correct_lat_long_df['year']<=2000)]['year'].value_counts().sum()"
      ],
      "execution_count": null,
      "outputs": [
        {
          "output_type": "stream",
          "text": [
            "0\n",
            "0\n",
            "0\n",
            "0\n",
            "0\n"
          ],
          "name": "stdout"
        },
        {
          "output_type": "execute_result",
          "data": {
            "text/plain": [
              "6152"
            ]
          },
          "metadata": {
            "tags": []
          },
          "execution_count": 11
        }
      ]
    },
    {
      "cell_type": "markdown",
      "metadata": {
        "id": "S_Zjx-qtF1fy"
      },
      "source": [
        "---"
      ]
    },
    {
      "cell_type": "markdown",
      "metadata": {
        "id": "mqfVR2K9F2SG"
      },
      "source": [
        "#### Activity 4: Histogram Using The `distplot()` Function^\n",
        "\n",
        "We can also create a histogram using the `distplot()` function from the `seaborn` module. The term `distplot` stands for distribution plot. It also takes a Pandas series / NumPy array / Python list as an input. The other inputs that you can provide are `bins` and `kde` values. The `kde` parameter takes a boolean value, i.e., either `True` or `False`. Let's set the `bins` parameter equal to `6` and the `kde` parameter equal to `False` in the `distplot()` function. We will learn about the `kde` parameter later."
      ]
    },
    {
      "cell_type": "code",
      "metadata": {
        "id": "Fzjd6fRYmkS-",
        "colab": {
          "base_uri": "https://localhost:8080/",
          "height": 333
        },
        "outputId": "28cca162-54df-4d24-d7f9-c1868c751217"
      },
      "source": [
        "# Teacher Action: Create a histogram using the 'displot()' function from the seaborn library.\n",
        "met_1970_2000_ser=correct_lat_long_df.loc[(correct_lat_long_df['year'] >= 1970) & (correct_lat_long_df['year'] < 2000), 'year']\n",
        "met_1970_2000_ser\n",
        "sns.distplot(met_1970_2000_ser,bins=6,kde=False)\n",
        "plt.grid()\n",
        "plt.show()\n"
      ],
      "execution_count": null,
      "outputs": [
        {
          "output_type": "stream",
          "text": [
            "/usr/local/lib/python3.7/dist-packages/seaborn/distributions.py:2557: FutureWarning: `distplot` is a deprecated function and will be removed in a future version. Please adapt your code to use either `displot` (a figure-level function with similar flexibility) or `histplot` (an axes-level function for histograms).\n",
            "  warnings.warn(msg, FutureWarning)\n"
          ],
          "name": "stderr"
        },
        {
          "output_type": "display_data",
          "data": {
            "image/png": "[encoded data removed]",
            "text/plain": [
              "<Figure size 432x288 with 1 Axes>"
            ]
          },
          "metadata": {
            "tags": [],
            "needs_background": "light"
          }
        }
      ]
    },
    {
      "cell_type": "markdown",
      "metadata": {
        "id": "Dmf4kU7S-ABq"
      },
      "source": [
        "As you can see, we have created the same histogram using the `distplot()` function. **The `distplot()` function is smarter in terms of choosing the appropriate default number of bins**. Hence, it is best to create a histogram using the `distplot()` function over the `hist()` function.\n",
        "\n",
        "Now, let's create a histogram to see the distribution of the fall of meteorites over the years starting from the year `860`."
      ]
    },
    {
      "cell_type": "code",
      "metadata": {
        "id": "GCc4tY0NioCQ",
        "colab": {
          "base_uri": "https://localhost:8080/",
          "height": 333
        },
        "outputId": "105e63b2-f5de-4fd4-f03c-142223f01f75"
      },
      "source": [
        "# Student Action: Create a histogram for the 'year' column in the 'correct_lat_long_df' DataFrame using the 'distplot()' function.\n",
        "sns.distplot(correct_lat_long_df['year'],bins=6,kde=False)\n",
        "plt.grid()\n",
        "plt.show()\n"
      ],
      "execution_count": null,
      "outputs": [
        {
          "output_type": "stream",
          "text": [
            "/usr/local/lib/python3.7/dist-packages/seaborn/distributions.py:2557: FutureWarning: `distplot` is a deprecated function and will be removed in a future version. Please adapt your code to use either `displot` (a figure-level function with similar flexibility) or `histplot` (an axes-level function for histograms).\n",
            "  warnings.warn(msg, FutureWarning)\n"
          ],
          "name": "stderr"
        },
        {
          "output_type": "display_data",
          "data": {
            "image/png": "[encoded data removed]",
            "text/plain": [
              "<Figure size 432x288 with 1 Axes>"
            ]
          },
          "metadata": {
            "tags": [],
            "needs_background": "light"
          }
        }
      ]
    },
    {
      "cell_type": "markdown",
      "metadata": {
        "id": "rj1yzh66jF4w"
      },
      "source": [
        "If you look at the graph, the number of meteorites fallen to Earth is almost 0 till the year 1800. After that, there is some increase but it is very little. After 1900, the is a rapid increase in the number of meteorites fallen to Earth.\n",
        "\n",
        "Let's closely observe the period after 1900 to see the variation in the number of meteorites falling to Earth by creating another histogram."
      ]
    },
    {
      "cell_type": "code",
      "metadata": {
        "id": "_0HqVknjL2Dz",
        "colab": {
          "base_uri": "https://localhost:8080/",
          "height": 333
        },
        "outputId": "9512b416-a820-4380-833d-ffcfaf22ae8a"
      },
      "source": [
        "# Student Action: Create a histogram to visualise the number of meteorites fallen after the year 1900 using the 'distplot()' function.\n",
        "met_1900_ser=correct_lat_long_df.loc[(correct_lat_long_df['year'] >= 1900)]\n",
        "met_1900_ser\n",
        "sns.distplot(met_1900_ser['year'],bins=6,kde=False)\n",
        "plt.grid()\n",
        "plt.show()\n"
      ],
      "execution_count": null,
      "outputs": [
        {
          "output_type": "stream",
          "text": [
            "/usr/local/lib/python3.7/dist-packages/seaborn/distributions.py:2557: FutureWarning: `distplot` is a deprecated function and will be removed in a future version. Please adapt your code to use either `displot` (a figure-level function with similar flexibility) or `histplot` (an axes-level function for histograms).\n",
            "  warnings.warn(msg, FutureWarning)\n"
          ],
          "name": "stderr"
        },
        {
          "output_type": "display_data",
          "data": {
            "image/png": "[encoded data removed]",
            "text/plain": [
              "<Figure size 432x288 with 1 Axes>"
            ]
          },
          "metadata": {
            "tags": [],
            "needs_background": "light"
          }
        }
      ]
    },
    {
      "cell_type": "markdown",
      "metadata": {
        "id": "ota6cXm6t78C"
      },
      "source": [
        "If you increase the size of the bins, the width of the bars will decrease whereas if you decrease the size of the bins, the width of the bars will increase.\n"
      ]
    },
    {
      "cell_type": "code",
      "metadata": {
        "id": "WdFD32CbmWop",
        "colab": {
          "base_uri": "https://localhost:8080/",
          "height": 333
        },
        "outputId": "305fd57a-6e4c-49d1-eec8-7714a263c905"
      },
      "source": [
        "# Student Action: Set the bins size equal to 25 in the previous histogram.\n",
        "met_1900_ser=correct_lat_long_df.loc[(correct_lat_long_df['year'] >= 1900)]\n",
        "met_1900_ser\n",
        "sns.distplot(met_1900_ser['year'],bins=24,kde=False)\n",
        "plt.grid()\n",
        "plt.show()\n"
      ],
      "execution_count": null,
      "outputs": [
        {
          "output_type": "stream",
          "text": [
            "/usr/local/lib/python3.7/dist-packages/seaborn/distributions.py:2557: FutureWarning: `distplot` is a deprecated function and will be removed in a future version. Please adapt your code to use either `displot` (a figure-level function with similar flexibility) or `histplot` (an axes-level function for histograms).\n",
            "  warnings.warn(msg, FutureWarning)\n"
          ],
          "name": "stderr"
        },
        {
          "output_type": "display_data",
          "data": {
            "image/png": "[encoded data removed]",
            "text/plain": [
              "<Figure size 432x288 with 1 Axes>"
            ]
          },
          "metadata": {
            "tags": [],
            "needs_background": "light"
          }
        }
      ]
    },
    {
      "cell_type": "code",
      "metadata": {
        "id": "6ZtBae1tu4DV",
        "colab": {
          "base_uri": "https://localhost:8080/",
          "height": 333
        },
        "outputId": "93459614-2d6c-4df7-8d58-dc1cafd3d037"
      },
      "source": [
        "# Student Action: Set the bins size equal to 100 in the previous histogram.\n",
        "met_1900_ser=correct_lat_long_df.loc[(correct_lat_long_df['year'] >= 1900)]\n",
        "met_1900_ser\n",
        "sns.distplot(met_1900_ser['year'],bins=100,kde=False)\n",
        "plt.grid()\n",
        "plt.show()\n"
      ],
      "execution_count": null,
      "outputs": [
        {
          "output_type": "stream",
          "text": [
            "/usr/local/lib/python3.7/dist-packages/seaborn/distributions.py:2557: FutureWarning: `distplot` is a deprecated function and will be removed in a future version. Please adapt your code to use either `displot` (a figure-level function with similar flexibility) or `histplot` (an axes-level function for histograms).\n",
            "  warnings.warn(msg, FutureWarning)\n"
          ],
          "name": "stderr"
        },
        {
          "output_type": "display_data",
          "data": {
            "image/png": "[encoded data removed]",
            "text/plain": [
              "<Figure size 432x288 with 1 Axes>"
            ]
          },
          "metadata": {
            "tags": [],
            "needs_background": "light"
          }
        }
      ]
    },
    {
      "cell_type": "markdown",
      "metadata": {
        "id": "icaFkNH-SciQ"
      },
      "source": [
        "---"
      ]
    },
    {
      "cell_type": "markdown",
      "metadata": {
        "id": "E1dRYFoRzSp_"
      },
      "source": [
        "#### Activity 5: Meteorite Class-wise Histograms^^^\n",
        "\n",
        "Let's create a meteorite class-wise histogram to observe the trend of the fall of meteorites belonging to a class. But first let's find out the number of unqiue class of meteorites present in the dataset and the count of their falls."
      ]
    },
    {
      "cell_type": "code",
      "metadata": {
        "id": "9U3xbkhsd5rw",
        "colab": {
          "base_uri": "https://localhost:8080/"
        },
        "outputId": "16f095ca-20ba-4b1f-9d0b-7ac7510b028f"
      },
      "source": [
        "# Student Action: Calcuate the number of unique class of meteorites.\n",
        "len(correct_lat_long_df['recclass'].unique())"
      ],
      "execution_count": null,
      "outputs": [
        {
          "output_type": "execute_result",
          "data": {
            "text/plain": [
              "394"
            ]
          },
          "metadata": {
            "tags": []
          },
          "execution_count": 21
        }
      ]
    },
    {
      "cell_type": "markdown",
      "metadata": {
        "id": "VnX6b45R0fqe"
      },
      "source": [
        "So there are 394 different class of meteorites. Let's compute the counts for each class of meteorite using the `value_counts()` function."
      ]
    },
    {
      "cell_type": "code",
      "metadata": {
        "id": "zT4HRB2ld9kI",
        "colab": {
          "base_uri": "https://localhost:8080/"
        },
        "outputId": "0fb148d7-a523-40af-b62b-6d95bc9d6ba7"
      },
      "source": [
        "# Student Action: Count of the fall of the different class of meteorites.\n",
        "import seaborn as sns\n",
        "correct_lat_long_df['recclass'].value_counts()"
      ],
      "execution_count": null,
      "outputs": [
        {
          "output_type": "execute_result",
          "data": {
            "text/plain": [
              "L6               6529\n",
              "H5               5590\n",
              "H4               3324\n",
              "H6               3231\n",
              "L5               2725\n",
              "                 ... \n",
              "H/L3.6              1\n",
              "EL7                 1\n",
              "Pallasite?          1\n",
              "Iron, IIIE-an       1\n",
              "EH6-an              1\n",
              "Name: recclass, Length: 394, dtype: int64"
            ]
          },
          "metadata": {
            "tags": []
          },
          "execution_count": 22
        }
      ]
    },
    {
      "cell_type": "markdown",
      "metadata": {
        "id": "LWw5dZk4GnG9"
      },
      "source": [
        "The `value_counts()` function returns a Pandas series. Let's store the series in a variable to do the further analysis."
      ]
    },
    {
      "cell_type": "code",
      "metadata": {
        "id": "MxveeXXCeThX"
      },
      "source": [
        "# Student Action: Store the 'correct_lat_long_df['recclass'].value_counts()' Pandas series in a new variable.\n",
        "met_class_counts=correct_lat_long_df['recclass'].value_counts()"
      ],
      "execution_count": null,
      "outputs": []
    },
    {
      "cell_type": "markdown",
      "metadata": {
        "id": "SLI4XWSk0qm4"
      },
      "source": [
        "Since there are 394 unique meteorite classes, it's not really too useful to create a histogram for every single one of them. Let's create a histogram for the top ten class of meteorites to see if there is any kind of similarity in the pattern of their falls."
      ]
    },
    {
      "cell_type": "code",
      "metadata": {
        "id": "dt8j4JGNese-",
        "colab": {
          "base_uri": "https://localhost:8080/"
        },
        "outputId": "6301c89a-f8eb-4a2c-fc6b-9bb3aad5af0a"
      },
      "source": [
        "# Student Action: Display the top 10 most number of class of meteorites fallen on Earth.\n",
        "met_class_counts[:10]"
      ],
      "execution_count": null,
      "outputs": [
        {
          "output_type": "execute_result",
          "data": {
            "text/plain": [
              "L6      6529\n",
              "H5      5590\n",
              "H4      3324\n",
              "H6      3231\n",
              "L5      2725\n",
              "LL5     1897\n",
              "LL6      963\n",
              "L4       799\n",
              "H4/5     380\n",
              "CM2      281\n",
              "Name: recclass, dtype: int64"
            ]
          },
          "metadata": {
            "tags": []
          },
          "execution_count": 26
        }
      ]
    },
    {
      "cell_type": "markdown",
      "metadata": {
        "id": "5yBhlS4dHC8s"
      },
      "source": [
        "Let's plot the histograms for the top 10 most number of fallen meteorite classes using the `hist()` function. Make sure that each histogram has exactly 50 bins."
      ]
    },
    {
      "cell_type": "code",
      "metadata": {
        "id": "AO_UfL7gfE5w",
        "colab": {
          "base_uri": "https://localhost:8080/",
          "height": 1000
        },
        "outputId": "a1c2ca48-e9b0-413a-c04d-b3c9480f1995"
      },
      "source": [
        "# Teacher Action: Plot the histograms for the top 10 most number of fallen meteorite classes using the 'hist()' function.\n",
        "for i in met_class_counts[:10].index:\n",
        "  plt.figure(figsize=(16,6))\n",
        "  plt.title(i)\n",
        "  plt.hist(correct_lat_long_df.loc[(correct_lat_long_df['recclass']==i) & (correct_lat_long_df['year']>=1990),'year'],bins=50)\n",
        "  plt.show()"
      ],
      "execution_count": null,
      "outputs": [
        {
          "output_type": "display_data",
          "data": {
            "image/png": "[encoded data removed]",
            "text/plain": [
              "<Figure size 1152x432 with 1 Axes>"
            ]
          },
          "metadata": {
            "tags": [],
            "needs_background": "light"
          }
        },
        {
          "output_type": "display_data",
          "data": {
            "image/png": "[encoded data removed]",
            "text/plain": [
              "<Figure size 1152x432 with 1 Axes>"
            ]
          },
          "metadata": {
            "tags": [],
            "needs_background": "light"
          }
        },
        {
          "output_type": "display_data",
          "data": {
            "image/png": "[encoded data removed]",
            "text/plain": [
              "<Figure size 1152x432 with 1 Axes>"
            ]
          },
          "metadata": {
            "tags": [],
            "needs_background": "light"
          }
        },
        {
          "output_type": "display_data",
          "data": {
            "image/png": "[encoded data removed]",
            "text/plain": [
              "<Figure size 1152x432 with 1 Axes>"
            ]
          },
          "metadata": {
            "tags": [],
            "needs_background": "light"
          }
        },
        {
          "output_type": "display_data",
          "data": {
            "image/png": "[encoded data removed]",
            "text/plain": [
              "<Figure size 1152x432 with 1 Axes>"
            ]
          },
          "metadata": {
            "tags": [],
            "needs_background": "light"
          }
        },
        {
          "output_type": "display_data",
          "data": {
            "image/png": "[encoded data removed]",
            "text/plain": [
              "<Figure size 1152x432 with 1 Axes>"
            ]
          },
          "metadata": {
            "tags": [],
            "needs_background": "light"
          }
        },
        {
          "output_type": "display_data",
          "data": {
            "image/png": "[encoded data removed]",
            "text/plain": [
              "<Figure size 1152x432 with 1 Axes>"
            ]
          },
          "metadata": {
            "tags": [],
            "needs_background": "light"
          }
        },
        {
          "output_type": "display_data",
          "data": {
            "image/png": "[encoded data removed]",
            "text/plain": [
              "<Figure size 1152x432 with 1 Axes>"
            ]
          },
          "metadata": {
            "tags": [],
            "needs_background": "light"
          }
        },
        {
          "output_type": "display_data",
          "data": {
            "image/png": "[encoded data removed]",
            "text/plain": [
              "<Figure size 1152x432 with 1 Axes>"
            ]
          },
          "metadata": {
            "tags": [],
            "needs_background": "light"
          }
        },
        {
          "output_type": "display_data",
          "data": {
            "image/png": "[encoded data removed]",
            "text/plain": [
              "<Figure size 1152x432 with 1 Axes>"
            ]
          },
          "metadata": {
            "tags": [],
            "needs_background": "light"
          }
        }
      ]
    },
    {
      "cell_type": "markdown",
      "metadata": {
        "id": "77Ob_q--3MSB"
      },
      "source": [
        "There is no definite recognisable pattern in the fall of the meteorites over the years for a class of a meteorite.\n",
        "\n",
        "The only concrete observation that we can make from the histograms is that the most number of `LL5` class meteorites fell between the years 1995 and 2005 and the most number of the `H4/5` class meteorites fell between the years 1975 and 1980.\n",
        "\n",
        "That's it for now. In the next class, we will learn how to add additional information such as the counts of the meteorites in the histograms and count plots."
      ]
    },
    {
      "cell_type": "markdown",
      "metadata": {
        "id": "jFTqSsa6UuZA"
      },
      "source": [
        "---"
      ]
    }
  ]
}