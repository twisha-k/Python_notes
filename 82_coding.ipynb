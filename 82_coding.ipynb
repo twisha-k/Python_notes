{
  "nbformat": 4,
  "nbformat_minor": 0,
  "metadata": {
    "colab": {
      "provenance": [],
      "include_colab_link": true
    },
    "kernelspec": {
      "name": "python3",
      "display_name": "Python 3"
    },
    "language_info": {
      "name": "python"
    }
  },
  "cells": [
    {
      "cell_type": "markdown",
      "metadata": {
        "id": "view-in-github",
        "colab_type": "text"
      },
      "source": [
        "<a href=\"https://colab.research.google.com/github/twisha-k/Python_notes/blob/main/82_coding.ipynb\" target=\"_parent\"><img src=\"https://colab.research.google.com/assets/colab-badge.svg\" alt=\"Open In Colab\"/></a>"
      ]
    },
    {
      "cell_type": "markdown",
      "metadata": {
        "id": "RoxxrfkNdmSr"
      },
      "source": [
        "# Lesson 82: Support Vector Machines - Introduction"
      ]
    },
    {
      "cell_type": "markdown",
      "metadata": {
        "id": "aQ2n2W6mdq6P"
      },
      "source": [
        "### Teacher-Student Activities\n",
        "\n",
        "So far you have learnt linear and logistic regression in detail. In this class, you learn about support vector machines. It is another machine learning technique that can be used both for regression as well as classification. However, it is most extensively used for classification predominantly for advanced classification problems such as image classification, face detection, voice detection etc. It uses the principle of calculating decision boundaries to separate labels/classes from one another. Specifically, in the case of SVM, we call this decision boundary a **hyperplane**. So any time you hear or read the term \"hyperplane\", just in your mind replace it with a decision boundary and you won't feel lost.\n",
        "\n",
        "In this class, we are going to solve the classification of different types of flower species in the Iris Species Dataset using SVM. Let's explore the dataset."
      ]
    },
    {
      "cell_type": "markdown",
      "metadata": {
        "id": "waLPLj7DcaZv"
      },
      "source": [
        "---"
      ]
    },
    {
      "cell_type": "markdown",
      "metadata": {
        "id": "KqGQ_YRUpbSm"
      },
      "source": [
        "### Data Description\n",
        "\n",
        "The dataset used in the problem statement, popularly known as **Iris Dataset** or **Fisher's Dataset** is published by UCI Machine Learning Repository. It contains 3 classes of 50 instances each, where each class refers to a type of Iris flower namely:\n",
        "- **Iris-setosa**\n",
        "- **Iris-virginica**\n",
        "- **Iris-versicolor**\n",
        "\n",
        "<img src = 'https://student-datasets-bucket.s3.ap-south-1.amazonaws.com/images/Iris-update-1.png' width = 800>\n",
        "\n",
        "***Image Credits:*** https://en.wikipedia.org/wiki/Iris_flower_data_set\n",
        "```\n",
        "  A. Image of Iris setosa by SteinsplitterBot, used under license Attribution-Share Alike 3.0 Unported from Wikimedia Commons.\n",
        "  B. Image of Iris versicolor by Dlanglois, used under license Attribution-Share Alike 2.5 Generic from Wikimedia Commons.\n",
        "  C. Image of Iris virginica by Flickr upload bot, used under license Attribution-Share Alike 2.0 Generic from Wikimedia Commons.\n",
        "```\n",
        "\n",
        "The big idea is that based on the length and width of sepals and petals of a flower, can we build a classification model that can tell us the species of a particular Iris flower? The answer is \"Yes, we can\". This is exactly what we will do in the next few classes.\n",
        "\n",
        "The columns in the dataset are as follows:\n",
        "\n",
        "|Name|Description|\n",
        "|-|-|\n",
        "|Id| Id of the instance or record.|\n",
        "|SepalLengthCm| Length of the sepal in cm.|\n",
        "|SepalWidthCm| Width of the sepal in cm.|\n",
        "|PetalLengthCm| Length of the petal in cm.|\n",
        "|PetalWidthCm|Width of the petal in cm.|\n",
        "|Species|Name of the type of the flower|\n",
        "\n",
        "**Dataset Credits:** https://archive.ics.uci.edu/ml/datasets/iris  \n",
        "\n",
        "**Dataset Creator:** R.A. Fisher\n",
        "\n",
        "**Citation:**\n",
        "```\n",
        "Dua, D., & Graff, C.. (2017). UCI Machine Learning Repository.\n",
        "```\n"
      ]
    },
    {
      "cell_type": "markdown",
      "metadata": {
        "id": "cgMi18G86VjO"
      },
      "source": [
        "---"
      ]
    },
    {
      "cell_type": "markdown",
      "metadata": {
        "id": "R_eGf00TL3k3"
      },
      "source": [
        "#### Activity 1: Data Loading and Preprocessing\n",
        "\n",
        "So let's go through the routine steps before we build a classification model and explore the dataset.\n",
        "\n",
        "Link to the dataset:https://s3-student-datasets-bucket.whjr.online/whitehat-ds-datasets/iris-species.csv"
      ]
    },
    {
      "cell_type": "code",
      "metadata": {
        "id": "KO_-T7xbs_-R",
        "colab": {
          "base_uri": "https://localhost:8080/",
          "height": 424
        },
        "outputId": "e10421eb-224c-4f29-ec1f-dfbdae829870"
      },
      "source": [
        "# S1.1: Load the dataset.\n",
        "import pandas as pd\n",
        "iris_spe_df=pd.read_csv('https://s3-student-datasets-bucket.whjr.online/whitehat-ds-datasets/iris-species.csv')\n",
        "iris_spe_df"
      ],
      "execution_count": null,
      "outputs": [
        {
          "output_type": "execute_result",
          "data": {
            "text/plain": [
              "      Id  SepalLengthCm  SepalWidthCm  PetalLengthCm  PetalWidthCm  \\\n",
              "0      1            5.1           3.5            1.4           0.2   \n",
              "1      2            4.9           3.0            1.4           0.2   \n",
              "2      3            4.7           3.2            1.3           0.2   \n",
              "3      4            4.6           3.1            1.5           0.2   \n",
              "4      5            5.0           3.6            1.4           0.2   \n",
              "..   ...            ...           ...            ...           ...   \n",
              "145  146            6.7           3.0            5.2           2.3   \n",
              "146  147            6.3           2.5            5.0           1.9   \n",
              "147  148            6.5           3.0            5.2           2.0   \n",
              "148  149            6.2           3.4            5.4           2.3   \n",
              "149  150            5.9           3.0            5.1           1.8   \n",
              "\n",
              "            Species  \n",
              "0       Iris-setosa  \n",
              "1       Iris-setosa  \n",
              "2       Iris-setosa  \n",
              "3       Iris-setosa  \n",
              "4       Iris-setosa  \n",
              "..              ...  \n",
              "145  Iris-virginica  \n",
              "146  Iris-virginica  \n",
              "147  Iris-virginica  \n",
              "148  Iris-virginica  \n",
              "149  Iris-virginica  \n",
              "\n",
              "[150 rows x 6 columns]"
            ],
            "text/html": [
              "\n",
              "  <div id=\"df-0c07d6b5-c7ad-468e-9ff0-6cf8ca807213\">\n",
              "    <div class=\"colab-df-container\">\n",
              "      <div>\n",
              "<style scoped>\n",
              "    .dataframe tbody tr th:only-of-type {\n",
              "        vertical-align: middle;\n",
              "    }\n",
              "\n",
              "    .dataframe tbody tr th {\n",
              "        vertical-align: top;\n",
              "    }\n",
              "\n",
              "    .dataframe thead th {\n",
              "        text-align: right;\n",
              "    }\n",
              "</style>\n",
              "<table border=\"1\" class=\"dataframe\">\n",
              "  <thead>\n",
              "    <tr style=\"text-align: right;\">\n",
              "      <th></th>\n",
              "      <th>Id</th>\n",
              "      <th>SepalLengthCm</th>\n",
              "      <th>SepalWidthCm</th>\n",
              "      <th>PetalLengthCm</th>\n",
              "      <th>PetalWidthCm</th>\n",
              "      <th>Species</th>\n",
              "    </tr>\n",
              "  </thead>\n",
              "  <tbody>\n",
              "    <tr>\n",
              "      <th>0</th>\n",
              "      <td>1</td>\n",
              "      <td>5.1</td>\n",
              "      <td>3.5</td>\n",
              "      <td>1.4</td>\n",
              "      <td>0.2</td>\n",
              "      <td>Iris-setosa</td>\n",
              "    </tr>\n",
              "    <tr>\n",
              "      <th>1</th>\n",
              "      <td>2</td>\n",
              "      <td>4.9</td>\n",
              "      <td>3.0</td>\n",
              "      <td>1.4</td>\n",
              "      <td>0.2</td>\n",
              "      <td>Iris-setosa</td>\n",
              "    </tr>\n",
              "    <tr>\n",
              "      <th>2</th>\n",
              "      <td>3</td>\n",
              "      <td>4.7</td>\n",
              "      <td>3.2</td>\n",
              "      <td>1.3</td>\n",
              "      <td>0.2</td>\n",
              "      <td>Iris-setosa</td>\n",
              "    </tr>\n",
              "    <tr>\n",
              "      <th>3</th>\n",
              "      <td>4</td>\n",
              "      <td>4.6</td>\n",
              "      <td>3.1</td>\n",
              "      <td>1.5</td>\n",
              "      <td>0.2</td>\n",
              "      <td>Iris-setosa</td>\n",
              "    </tr>\n",
              "    <tr>\n",
              "      <th>4</th>\n",
              "      <td>5</td>\n",
              "      <td>5.0</td>\n",
              "      <td>3.6</td>\n",
              "      <td>1.4</td>\n",
              "      <td>0.2</td>\n",
              "      <td>Iris-setosa</td>\n",
              "    </tr>\n",
              "    <tr>\n",
              "      <th>...</th>\n",
              "      <td>...</td>\n",
              "      <td>...</td>\n",
              "      <td>...</td>\n",
              "      <td>...</td>\n",
              "      <td>...</td>\n",
              "      <td>...</td>\n",
              "    </tr>\n",
              "    <tr>\n",
              "      <th>145</th>\n",
              "      <td>146</td>\n",
              "      <td>6.7</td>\n",
              "      <td>3.0</td>\n",
              "      <td>5.2</td>\n",
              "      <td>2.3</td>\n",
              "      <td>Iris-virginica</td>\n",
              "    </tr>\n",
              "    <tr>\n",
              "      <th>146</th>\n",
              "      <td>147</td>\n",
              "      <td>6.3</td>\n",
              "      <td>2.5</td>\n",
              "      <td>5.0</td>\n",
              "      <td>1.9</td>\n",
              "      <td>Iris-virginica</td>\n",
              "    </tr>\n",
              "    <tr>\n",
              "      <th>147</th>\n",
              "      <td>148</td>\n",
              "      <td>6.5</td>\n",
              "      <td>3.0</td>\n",
              "      <td>5.2</td>\n",
              "      <td>2.0</td>\n",
              "      <td>Iris-virginica</td>\n",
              "    </tr>\n",
              "    <tr>\n",
              "      <th>148</th>\n",
              "      <td>149</td>\n",
              "      <td>6.2</td>\n",
              "      <td>3.4</td>\n",
              "      <td>5.4</td>\n",
              "      <td>2.3</td>\n",
              "      <td>Iris-virginica</td>\n",
              "    </tr>\n",
              "    <tr>\n",
              "      <th>149</th>\n",
              "      <td>150</td>\n",
              "      <td>5.9</td>\n",
              "      <td>3.0</td>\n",
              "      <td>5.1</td>\n",
              "      <td>1.8</td>\n",
              "      <td>Iris-virginica</td>\n",
              "    </tr>\n",
              "  </tbody>\n",
              "</table>\n",
              "<p>150 rows × 6 columns</p>\n",
              "</div>\n",
              "      <button class=\"colab-df-convert\" onclick=\"convertToInteractive('df-0c07d6b5-c7ad-468e-9ff0-6cf8ca807213')\"\n",
              "              title=\"Convert this dataframe to an interactive table.\"\n",
              "              style=\"display:none;\">\n",
              "        \n",
              "  <svg xmlns=\"http://www.w3.org/2000/svg\" height=\"24px\"viewBox=\"0 0 24 24\"\n",
              "       width=\"24px\">\n",
              "    <path d=\"M0 0h24v24H0V0z\" fill=\"none\"/>\n",
              "    <path d=\"M18.56 5.44l.94 2.06.94-2.06 2.06-.94-2.06-.94-.94-2.06-.94 2.06-2.06.94zm-11 1L8.5 8.5l.94-2.06 2.06-.94-2.06-.94L8.5 2.5l-.94 2.06-2.06.94zm10 10l.94 2.06.94-2.06 2.06-.94-2.06-.94-.94-2.06-.94 2.06-2.06.94z\"/><path d=\"M17.41 7.96l-1.37-1.37c-.4-.4-.92-.59-1.43-.59-.52 0-1.04.2-1.43.59L10.3 9.45l-7.72 7.72c-.78.78-.78 2.05 0 2.83L4 21.41c.39.39.9.59 1.41.59.51 0 1.02-.2 1.41-.59l7.78-7.78 2.81-2.81c.8-.78.8-2.07 0-2.86zM5.41 20L4 18.59l7.72-7.72 1.47 1.35L5.41 20z\"/>\n",
              "  </svg>\n",
              "      </button>\n",
              "      \n",
              "  <style>\n",
              "    .colab-df-container {\n",
              "      display:flex;\n",
              "      flex-wrap:wrap;\n",
              "      gap: 12px;\n",
              "    }\n",
              "\n",
              "    .colab-df-convert {\n",
              "      background-color: #E8F0FE;\n",
              "      border: none;\n",
              "      border-radius: 50%;\n",
              "      cursor: pointer;\n",
              "      display: none;\n",
              "      fill: #1967D2;\n",
              "      height: 32px;\n",
              "      padding: 0 0 0 0;\n",
              "      width: 32px;\n",
              "    }\n",
              "\n",
              "    .colab-df-convert:hover {\n",
              "      background-color: #E2EBFA;\n",
              "      box-shadow: 0px 1px 2px rgba(60, 64, 67, 0.3), 0px 1px 3px 1px rgba(60, 64, 67, 0.15);\n",
              "      fill: #174EA6;\n",
              "    }\n",
              "\n",
              "    [theme=dark] .colab-df-convert {\n",
              "      background-color: #3B4455;\n",
              "      fill: #D2E3FC;\n",
              "    }\n",
              "\n",
              "    [theme=dark] .colab-df-convert:hover {\n",
              "      background-color: #434B5C;\n",
              "      box-shadow: 0px 1px 3px 1px rgba(0, 0, 0, 0.15);\n",
              "      filter: drop-shadow(0px 1px 2px rgba(0, 0, 0, 0.3));\n",
              "      fill: #FFFFFF;\n",
              "    }\n",
              "  </style>\n",
              "\n",
              "      <script>\n",
              "        const buttonEl =\n",
              "          document.querySelector('#df-0c07d6b5-c7ad-468e-9ff0-6cf8ca807213 button.colab-df-convert');\n",
              "        buttonEl.style.display =\n",
              "          google.colab.kernel.accessAllowed ? 'block' : 'none';\n",
              "\n",
              "        async function convertToInteractive(key) {\n",
              "          const element = document.querySelector('#df-0c07d6b5-c7ad-468e-9ff0-6cf8ca807213');\n",
              "          const dataTable =\n",
              "            await google.colab.kernel.invokeFunction('convertToInteractive',\n",
              "                                                     [key], {});\n",
              "          if (!dataTable) return;\n",
              "\n",
              "          const docLinkHtml = 'Like what you see? Visit the ' +\n",
              "            '<a target=\"_blank\" href=https://colab.research.google.com/notebooks/data_table.ipynb>data table notebook</a>'\n",
              "            + ' to learn more about interactive tables.';\n",
              "          element.innerHTML = '';\n",
              "          dataTable['output_type'] = 'display_data';\n",
              "          await google.colab.output.renderOutput(dataTable, element);\n",
              "          const docLink = document.createElement('div');\n",
              "          docLink.innerHTML = docLinkHtml;\n",
              "          element.appendChild(docLink);\n",
              "        }\n",
              "      </script>\n",
              "    </div>\n",
              "  </div>\n",
              "  "
            ]
          },
          "metadata": {},
          "execution_count": 1
        }
      ]
    },
    {
      "cell_type": "markdown",
      "metadata": {
        "id": "6br5tCAT7b1K"
      },
      "source": [
        "Let's look at the kind of values each of the columns have, the number of rows and columns in the dataset and whether the dataset has any missing values or not."
      ]
    },
    {
      "cell_type": "code",
      "metadata": {
        "id": "yUFQSZgStJEj",
        "colab": {
          "base_uri": "https://localhost:8080/"
        },
        "outputId": "6f395dd2-1c8c-4e6a-884b-ff8049b47226"
      },
      "source": [
        "# S1.2: Get the information about the dataset.\n",
        "iris_spe_df.info()"
      ],
      "execution_count": null,
      "outputs": [
        {
          "output_type": "stream",
          "name": "stdout",
          "text": [
            "<class 'pandas.core.frame.DataFrame'>\n",
            "RangeIndex: 150 entries, 0 to 149\n",
            "Data columns (total 6 columns):\n",
            " #   Column         Non-Null Count  Dtype  \n",
            "---  ------         --------------  -----  \n",
            " 0   Id             150 non-null    int64  \n",
            " 1   SepalLengthCm  150 non-null    float64\n",
            " 2   SepalWidthCm   150 non-null    float64\n",
            " 3   PetalLengthCm  150 non-null    float64\n",
            " 4   PetalWidthCm   150 non-null    float64\n",
            " 5   Species        150 non-null    object \n",
            "dtypes: float64(4), int64(1), object(1)\n",
            "memory usage: 7.2+ KB\n"
          ]
        }
      ]
    },
    {
      "cell_type": "markdown",
      "metadata": {
        "id": "EjdnGwKn76N9"
      },
      "source": [
        "Except for the last column, all the columns have floating-point values and the last column has an object-type data-type. There are 150 rows and 6 columns. And there are no missing values in the dataset because all the columns contain 150 non-null values.\n",
        "\n",
        "Now let's verify the count of each type of flower samples in the dataset."
      ]
    },
    {
      "cell_type": "code",
      "metadata": {
        "id": "1d2t_WB5uKNR",
        "colab": {
          "base_uri": "https://localhost:8080/"
        },
        "outputId": "1ee40a9e-84bb-4e2c-be18-4e50f3de9bb5"
      },
      "source": [
        "# S1.3: Get the count of each type of flower samples in the dataset.\n",
        "iris_spe_df['Species'].value_counts()"
      ],
      "execution_count": null,
      "outputs": [
        {
          "output_type": "execute_result",
          "data": {
            "text/plain": [
              "Iris-setosa        50\n",
              "Iris-versicolor    50\n",
              "Iris-virginica     50\n",
              "Name: Species, dtype: int64"
            ]
          },
          "metadata": {},
          "execution_count": 4
        }
      ]
    },
    {
      "cell_type": "markdown",
      "metadata": {
        "id": "6EyjT1H98j-i"
      },
      "source": [
        "As mentioned in the data description, there are 50 samples for each type of flower.\n",
        "\n",
        "Let's add another column `Label` to the DataFrame to convert the non-numeric target column `Species` into numeric using the `map()` function."
      ]
    },
    {
      "cell_type": "code",
      "metadata": {
        "id": "6TJhwTArmey7",
        "colab": {
          "base_uri": "https://localhost:8080/"
        },
        "outputId": "b42037c4-159c-4247-c2f0-268a15df4070"
      },
      "source": [
        "# S1.4: Add a column in the Iris DataFrame to resemble the non-numeric 'Species' column as numeric using 'map()' function.\n",
        "# Create the numeric target column 'Label' to 'iris_df' using 'map()'.\n",
        "iris_spe_df['Label']=iris_spe_df['Species'].map({'Iris-setosa':0,'Iris-versicolor':1,'Iris-virginica':2})\n",
        "# Verify the count of each type of flower samples in the 'Label' column.\n",
        "iris_spe_df['Label'].value_counts()"
      ],
      "execution_count": null,
      "outputs": [
        {
          "output_type": "execute_result",
          "data": {
            "text/plain": [
              "0    50\n",
              "1    50\n",
              "2    50\n",
              "Name: Label, dtype: int64"
            ]
          },
          "metadata": {},
          "execution_count": 6
        }
      ]
    },
    {
      "cell_type": "markdown",
      "metadata": {
        "id": "vjQaeqN8G8sy"
      },
      "source": [
        "----"
      ]
    },
    {
      "cell_type": "markdown",
      "metadata": {
        "id": "1vN-4NpI-LxS"
      },
      "source": [
        "#### Activity 2: Data Visualisation^\n",
        "\n",
        "Let's look into the relationship that may exist between the features of each type of flower.\n",
        "\n",
        "Let's create a scatter plot between `SepalLengthCm` and `SepalWidthCm` columns using the `scatterplot()` function of the `seaborn` module and differentiate between the data points of different classes using the `hue` parameter."
      ]
    },
    {
      "cell_type": "code",
      "metadata": {
        "id": "LnSPHFeNuO2w",
        "colab": {
          "base_uri": "https://localhost:8080/",
          "height": 500
        },
        "outputId": "570c4ba8-ce74-4f2e-ff60-9b7e06b089be"
      },
      "source": [
        "# S2.1: Create a scatter plot between the 'SepalLengthCm' and 'SepalWidthCm' columns using the 'scatterplot()' function of the 'seaborn' module.\n",
        "# Differentiate between the data points of different classes using the 'hue' parameter.\n",
        "import matplotlib.pyplot as plt\n",
        "import seaborn as sns\n",
        "plt.figure(figsize=(14,7))\n",
        "sns.scatterplot(iris_spe_df['SepalLengthCm'],iris_spe_df['SepalWidthCm'],hue=iris_spe_df['Species'])\n",
        "\n",
        "plt.show()"
      ],
      "execution_count": null,
      "outputs": [
        {
          "output_type": "stream",
          "name": "stderr",
          "text": [
            "/usr/local/lib/python3.7/dist-packages/seaborn/_decorators.py:43: FutureWarning: Pass the following variables as keyword args: x, y. From version 0.12, the only valid positional argument will be `data`, and passing other arguments without an explicit keyword will result in an error or misinterpretation.\n",
            "  FutureWarning\n"
          ]
        },
        {
          "output_type": "display_data",
          "data": {
            "text/plain": [
              "<Figure size 1008x504 with 1 Axes>"
            ],
            "image/png": "[encoded data removed]"
          },
          "metadata": {
            "needs_background": "light"
          }
        }
      ]
    },
    {
      "cell_type": "markdown",
      "metadata": {
        "id": "N4qS0XGPIhUw"
      },
      "source": [
        "As it can be observed in the output above, class `Iris-setosa` can be differentiated using `SepalLengthCm` and `SepalWidthCm` but classes `Iris-virginica` and `Iris-versicolor` overlap each other.\n",
        "\n",
        "The reason being **`Iris-setosa`** has a smaller sepal length but high sepal width, **`Iris-versicolor`** has points in the middle for both sepal length and width and  **`Iris-virginica`** has high sepal length and width.\n",
        "\n",
        "Let's create a scatter plot between `PetalLengthCm` and `PetalWidthCm` columns and differentiate between the data points of different classes."
      ]
    },
    {
      "cell_type": "code",
      "metadata": {
        "id": "_EdlsP-SasOI",
        "colab": {
          "base_uri": "https://localhost:8080/",
          "height": 498
        },
        "outputId": "10b2c692-5300-4b01-cbf5-d8ff6bb6292f"
      },
      "source": [
        "# S2.2: Create a scatter plot between the 'SepalLengthCm' & 'SepalWidthCm' columns & differentiate between the data points of different classes.\n",
        "plt.figure(figsize=(14,7))\n",
        "sns.scatterplot(iris_spe_df['PetalLengthCm'],iris_spe_df['PetalWidthCm'],hue=iris_spe_df['Species'])\n",
        "\n",
        "plt.show()"
      ],
      "execution_count": null,
      "outputs": [
        {
          "output_type": "stream",
          "name": "stderr",
          "text": [
            "/usr/local/lib/python3.7/dist-packages/seaborn/_decorators.py:43: FutureWarning: Pass the following variables as keyword args: x, y. From version 0.12, the only valid positional argument will be `data`, and passing other arguments without an explicit keyword will result in an error or misinterpretation.\n",
            "  FutureWarning\n"
          ]
        },
        {
          "output_type": "display_data",
          "data": {
            "text/plain": [
              "<Figure size 1008x504 with 1 Axes>"
            ],
            "image/png": "[encoded data removed]"
          },
          "metadata": {
            "needs_background": "light"
          }
        }
      ]
    },
    {
      "cell_type": "markdown",
      "metadata": {
        "id": "i4PtL9_DJ392"
      },
      "source": [
        "In the output, two clusters of points are separated where one cluster describes **`Iris-setosa`** and the second cluster describes the other two flower types **`Iris-versicolor`** and **`Iris-virginica`**.\n",
        "\n",
        "\n",
        "Again, the output describes the properties, where **`Iris-setosa`** has the smallest petal width and length and **`Iris-versicolor`** has average width and length and **`Iris-virginica`** has the higher petal width and length out of the three flower types\n",
        "\n",
        "Now, let's create a scatter plot for another combination between the `SepalLengthCm` and `PetalLengthCm` columns and differentiate between the data points of different classes."
      ]
    },
    {
      "cell_type": "code",
      "metadata": {
        "id": "7PrBGuMTa6mv",
        "colab": {
          "base_uri": "https://localhost:8080/",
          "height": 498
        },
        "outputId": "0ed83b77-770a-4df6-bc06-a0e2003e41e6"
      },
      "source": [
        "# S2.3: Create a scatter plot between the 'SepalLengthCm' & 'PetalLengthCm' columns and differentiate between the data points of different classes.\n",
        "plt.figure(figsize=(14,7))\n",
        "sns.scatterplot(iris_spe_df['SepalLengthCm'],iris_spe_df['PetalLengthCm'],hue=iris_spe_df['Species'])\n",
        "\n",
        "plt.show()"
      ],
      "execution_count": null,
      "outputs": [
        {
          "output_type": "stream",
          "name": "stderr",
          "text": [
            "/usr/local/lib/python3.7/dist-packages/seaborn/_decorators.py:43: FutureWarning: Pass the following variables as keyword args: x, y. From version 0.12, the only valid positional argument will be `data`, and passing other arguments without an explicit keyword will result in an error or misinterpretation.\n",
            "  FutureWarning\n"
          ]
        },
        {
          "output_type": "display_data",
          "data": {
            "text/plain": [
              "<Figure size 1008x504 with 1 Axes>"
            ],
            "image/png": "[encoded data removed]"
          },
          "metadata": {
            "needs_background": "light"
          }
        }
      ]
    },
    {
      "cell_type": "markdown",
      "metadata": {
        "id": "5C4F2gmER0IO"
      },
      "source": [
        "As per the properties, the output again displays two clusters where the **`Iris-setosa`** has the smallest length of the three classes, **`Iris-versicolor`** has the medium length and **`Iris-virginica`** has a high length. But due to the small margin between the medium and high length, the **`Iris-versicolor`** and **`Iris-virginica`** data points are overlapping each other.\n",
        "\n",
        "Let's create one more scatter plot for another combination between the `SepalWidthCm` and `PetalWidthCm` columns and differentiate between the data points of different classes."
      ]
    },
    {
      "cell_type": "code",
      "metadata": {
        "id": "itplBOAlbeIq",
        "colab": {
          "base_uri": "https://localhost:8080/",
          "height": 498
        },
        "outputId": "15e38f6e-563d-4f75-e9a6-6ce6cb135323"
      },
      "source": [
        "# S2.4: Create a scatter plot between the 'SepalWidthCm' and 'PetalWidthCm' columns and differentiate between the data points of different classes.\n",
        "plt.figure(figsize=(14,7))\n",
        "sns.scatterplot(iris_spe_df['SepalWidthCm'],iris_spe_df['PetalWidthCm'],hue=iris_spe_df['Species'])\n",
        "\n",
        "plt.show()"
      ],
      "execution_count": null,
      "outputs": [
        {
          "output_type": "stream",
          "name": "stderr",
          "text": [
            "/usr/local/lib/python3.7/dist-packages/seaborn/_decorators.py:43: FutureWarning: Pass the following variables as keyword args: x, y. From version 0.12, the only valid positional argument will be `data`, and passing other arguments without an explicit keyword will result in an error or misinterpretation.\n",
            "  FutureWarning\n"
          ]
        },
        {
          "output_type": "display_data",
          "data": {
            "text/plain": [
              "<Figure size 1008x504 with 1 Axes>"
            ],
            "image/png": "[encoded data removed]"
          },
          "metadata": {
            "needs_background": "light"
          }
        }
      ]
    },
    {
      "cell_type": "markdown",
      "metadata": {
        "id": "JR9pzxfkZZTX"
      },
      "source": [
        "Again describing the properties, the graph has two clusters one for **`Iris-setosa`** with with high sepal width and small petal width and another for one **`Iris-versicolor`** and **`Iris-virginica`** for middle and high sepal and petal width respectively.\n",
        "\n",
        "In this graph, however, we can, of course, differentiate data points of  **`Iris-setosa`** class as well as **`Iris-versicolor`** and **`Iris-virginica`**  class from each other with only a few data points of the last two classes overlapping each other.\n",
        "\n",
        "In all four graphs, we can conclude that there is some pattern between the lengths and widths of the sepals and petals of a flower that distinguishes between the different species of Iris flower. So we can create a decision boundary to distinguish them. For this, we will use **Support Vector Machines** (**SVM**).\n",
        "\n",
        "Let's learn more about SVM in the next activity."
      ]
    },
    {
      "cell_type": "markdown",
      "metadata": {
        "id": "qL1-cKSjb2F7"
      },
      "source": [
        "----"
      ]
    },
    {
      "cell_type": "markdown",
      "metadata": {
        "id": "1XpJ7jz1ch1Y"
      },
      "source": [
        "#### Activity 3: Support Vector Machines^^\n",
        "\n",
        "As mentioned at the start of this class, the Support Vector Machine is one of the machine learning algorithms used for solving classification and regression problems. **For classification, we use Support Vector Classifier (SVC) and for regression, we use Support Vector Regressor (SVR).**\n",
        "\n",
        "Just like Logistic Regression, Support Vector Classifier (SVC), also finds a decision boundary to separate the classes/labels from each other. This decision boundary is called a hyperplane.\n",
        "\n",
        "\n",
        "Now, the question is why a hyperplane?\n",
        "\n",
        "Consider the image below where a scatter plot is created for the classification of two classes (colour-coded as orange and green along with the different shapes).\n",
        "\n",
        "<img src = 'https://student-datasets-bucket.s3.ap-south-1.amazonaws.com/images/misclassified-points-1.png' width = 800>\n",
        "\n",
        "A straight line (decision boundary in this case) separates the two classes marked as orange and green. However, two green samples and one orange sample is wrongly classified or misclassified.\n",
        "\n",
        "In SVM, these points are used to create a boundary around each side of the hyperplane as shown in the image below. The area enclosed between the two boundaries around a hyperplane is called a **margin**. The data points (or samples) used for the creation of these boundaries around the hyperplane are known as **Support Vectors**.\n",
        "\n",
        "<img src = 'https://student-datasets-bucket.s3.ap-south-1.amazonaws.com/images/misclassified-points-2.png' width = 800 >\n",
        "\n",
        "\n",
        "**Note:** To easily understand a hyperplane in Support Vector Machines, we consider only two independent variables (or features) out of $N$. So for 2 features, a hyperplane is a straight line. For 3 features, a hyperplane is a plane and for more than 3 features, a hyperplane is some high-dimensional figure which we cannot visualise.\n",
        "\n",
        "Without any further ado, let's create our own model for SVM to classify Iris flower types.\n"
      ]
    },
    {
      "cell_type": "markdown",
      "metadata": {
        "id": "f_pcFcsEkr7P"
      },
      "source": [
        "---"
      ]
    },
    {
      "cell_type": "markdown",
      "metadata": {
        "id": "54AEhT8jks-V"
      },
      "source": [
        "#### Activity 4: Model Building & Kernel Trick^^^\n",
        "\n",
        "Let's create an SVM classification model using the independent features `SepalLengthCm` , `SepalWidthCm`, `PetalLengthCm` , `PetalWidthCm` and target variable as `Label` which will classify the flowers into label `0`, `1` and `2`.\n",
        "\n",
        "Support Vector Classifier can be implemented using the `SVC` class constructor of the `sklearn.svm` module.\n",
        "\n",
        "1. Import `SVC` class from the `sklearn.svm` module.\n",
        "\n",
        "2. Create `X` and `y` variable to store DataFrames containing features  (`SepalLengthCm, SepalWidthCm, PetalLengthCm, PetalWidthCm` columns) and target variable (`Label` column) respectively from the `iris_df` DataFrame.\n",
        "\n",
        "3. Using the `train_test_split()` function, split the data into training and testing sets such that the test set has 33% of one-third of the total samples.\n",
        "\n",
        "4. Create an object of the `SVC` class, say `svc_model` and pass `kernel = \"linear\"` as input to its constructor.\n",
        "\n",
        "5. Call the `fit()` function of the `SVC` class on the object created and pass `X_train` and `y_train` as inputs to the function.\n",
        "\n",
        "In the fourth step, we have used the `kernel = \"linear\"` parameter to define the kind of decision boundary to be created.\n",
        "\n",
        "**Kernel Trick:**\n",
        "\n",
        "As we learnt above, SVM classification is done in higher dimensions which requires transforming and mapping the data points in higher dimensions. To do his transformation, we need to define a parameter so that an optimum decision surface (hyperplane/decision boundary) can be created to classify the data points. Some of the major kernels for SVC are:\n",
        "\n",
        "- **I.**  Linear Kernel (`'linear'`)\n",
        "\n",
        "- **II.** Gaussian Radial Basis Function Kernel (`'rbf'`)\n",
        "\n",
        "- **III.** Polynomial Kernel (`'poly'`)\n",
        "\n",
        "Linear kernels are used for linear hyperplanes (linear classification) and RBF and polynomial kernels are used for non-linear hyperplanes (non-linear classification) for efficient and accurate models.\n",
        "\n",
        "You will learn to use different types of kernels in different problem statements as you move along in this course.\n",
        "\n",
        "Let's start with building an SVC model with a linear kernel for classification."
      ]
    },
    {
      "cell_type": "code",
      "metadata": {
        "id": "VDM0-juF2F54",
        "colab": {
          "base_uri": "https://localhost:8080/"
        },
        "outputId": "474a7b73-d5ec-41b1-e64e-8de3e55cacaa"
      },
      "source": [
        "# S4.1: Create a model for Support Vector classification to classify the flower types into labels '1' , '2', and '3'.\n",
        "# Import all the libraries\n",
        "import numpy as np\n",
        "import pandas as pd\n",
        "import matplotlib.pyplot as plt\n",
        "import seaborn as sns\n",
        "from sklearn.model_selection import train_test_split\n",
        "# Create X and y variables\n",
        "x = iris_spe_df[[\"SepalLengthCm\", \"SepalWidthCm\", \"PetalLengthCm\", \"PetalWidthCm\"]]\n",
        "\n",
        "\n",
        "# Creating the target series that holds last column 'RainTomorrow'\n",
        "y = iris_spe_df['Label']\n",
        "\n",
        "# Splitting the train and test sets using the 'train_test_split()' function.\n",
        "x_train, x_test, y_train, y_test = train_test_split(x, y, test_size = 0.3, random_state = 42)\n",
        "# Split the data into training and testing sets\n",
        "\n",
        "# Create the SVC model\n",
        "from sklearn.svm import SVC\n",
        "svc=SVC(kernel='linear')\n",
        "svc.fit(x_train,y_train)\n",
        "svc.score(x_train,y_train)"
      ],
      "execution_count": null,
      "outputs": [
        {
          "output_type": "execute_result",
          "data": {
            "text/plain": [
              "0.9714285714285714"
            ]
          },
          "metadata": {},
          "execution_count": 15
        }
      ]
    },
    {
      "cell_type": "markdown",
      "metadata": {
        "id": "bVSdR3QFO6RF"
      },
      "source": [
        "The accuracy score is 97% for the Support Vector Classifier (SVC) linear model. However, let's make the predictions on the train set and compare them with the actual labels."
      ]
    },
    {
      "cell_type": "code",
      "metadata": {
        "id": "WfJhe8nxiRPl",
        "colab": {
          "base_uri": "https://localhost:8080/"
        },
        "outputId": "d9035861-adda-419c-cd10-6555749d4b08"
      },
      "source": [
        "# S4.2: Make predictions on the train dataset by using the 'predict()' function.\n",
        "# Compute the predictions\n",
        "y_train_pred=svc.predict(x_train)\n",
        "# Print the occurrence of each flower type computed in the predictions.\n",
        "\n",
        "print(pd.Series(y_train_pred).value_counts())"
      ],
      "execution_count": null,
      "outputs": [
        {
          "output_type": "stream",
          "name": "stdout",
          "text": [
            "2    38\n",
            "1    36\n",
            "0    31\n",
            "dtype: int64\n"
          ]
        }
      ]
    },
    {
      "cell_type": "markdown",
      "metadata": {
        "id": "_haHA0Wpih9m"
      },
      "source": [
        "All three labels have been identified by the SVC model. Let's repeat the above exercise for the test set."
      ]
    },
    {
      "cell_type": "code",
      "metadata": {
        "id": "QZrjCTSl6zXM",
        "colab": {
          "base_uri": "https://localhost:8080/"
        },
        "outputId": "837954eb-0256-4aa7-c3a3-a70ad630a2f0"
      },
      "source": [
        "# S4.3: Make predictions on the test dataset by using the 'predict()' function.\n",
        "# Compute the predictions\n",
        "y_test_pred=svc.predict(x_test)\n",
        "# Print the occurrence of each flower type computed in the predictions.\n",
        "\n",
        "print(pd.Series(y_train_pred).value_counts())\n",
        "# Print the occurrence of each flower type computed in the predictions.\n"
      ],
      "execution_count": null,
      "outputs": [
        {
          "output_type": "stream",
          "name": "stdout",
          "text": [
            "2    38\n",
            "1    36\n",
            "0    31\n",
            "dtype: int64\n"
          ]
        }
      ]
    },
    {
      "cell_type": "markdown",
      "metadata": {
        "id": "bUWZiyrF0EE-"
      },
      "source": [
        "As it can be observed all three labels are identified. Let's create a confusion matrix to calculate True Positives, False Positives, True Negatives and False Negatives to evaluate the SVC linear model."
      ]
    },
    {
      "cell_type": "code",
      "metadata": {
        "id": "MPSbaZxe6zXN",
        "colab": {
          "base_uri": "https://localhost:8080/"
        },
        "outputId": "ada01581-51c4-4aca-d972-6552c85cd2b3"
      },
      "source": [
        "# S4.4: Create a confusion matrix for the test set.\n",
        "# Import the libraries\n",
        "from sklearn.linear_model import LogisticRegression\n",
        "from sklearn.metrics import classification_report,confusion_matrix\n",
        "print(confusion_matrix(y_train,y_train_pred))\n",
        "print(classification_report(y_train,y_train_pred))\n",
        "\n",
        "# Print the confusion matrix\n"
      ],
      "execution_count": null,
      "outputs": [
        {
          "output_type": "stream",
          "name": "stdout",
          "text": [
            "[[31  0  0]\n",
            " [ 0 35  2]\n",
            " [ 0  1 36]]\n",
            "              precision    recall  f1-score   support\n",
            "\n",
            "           0       1.00      1.00      1.00        31\n",
            "           1       0.97      0.95      0.96        37\n",
            "           2       0.95      0.97      0.96        37\n",
            "\n",
            "    accuracy                           0.97       105\n",
            "   macro avg       0.97      0.97      0.97       105\n",
            "weighted avg       0.97      0.97      0.97       105\n",
            "\n"
          ]
        }
      ]
    },
    {
      "cell_type": "markdown",
      "metadata": {
        "id": "FHk-nyeiPe3a"
      },
      "source": [
        "The confusion matrix displays that there are no misclassifications.\n",
        "\n",
        "Let's print the classification report to observe the recall, precision and f1-scores for linear SVC on Iris DataFrame"
      ]
    },
    {
      "cell_type": "code",
      "metadata": {
        "id": "oDbrsVSd6zXN"
      },
      "source": [
        "# S4.5: Display recall, precision and f1-score values for the test set.\n"
      ],
      "execution_count": null,
      "outputs": []
    },
    {
      "cell_type": "markdown",
      "metadata": {
        "id": "ZkD_H5pjR3Zn"
      },
      "source": [
        "The f1-scores for the classes are exactly 1. This means the SVC model has classified all the species of the Iris flower correctly.\n",
        "\n",
        "Let's stop here. In the next class, you will learn to visualise the hyperplanes created by SVC to distinguish between different species of the Iris flower.\n"
      ]
    },
    {
      "cell_type": "markdown",
      "metadata": {
        "id": "ZE5v78q9RqtA"
      },
      "source": [
        "---\n"
      ]
    },
    {
      "cell_type": "markdown",
      "metadata": {
        "id": "7NnqlqLY05s9"
      },
      "source": [
        "### **Project**\n",
        "You can now attempt the **Applied Tech. Project 82 - Support Vector Machines** on your own.\n",
        "\n",
        "**Applied Tech. Project 82 - Support Vector Machines**: https://colab.research.google.com/drive/1HsyTHufbM712sZgbcahy6EEwPQnnobrU"
      ]
    },
    {
      "cell_type": "markdown",
      "metadata": {
        "id": "J7bYS1rW1Agh"
      },
      "source": [
        "---"
      ]
    }
  ]
}