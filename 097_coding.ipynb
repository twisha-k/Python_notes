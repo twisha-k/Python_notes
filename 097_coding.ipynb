{
  "nbformat": 4,
  "nbformat_minor": 0,
  "metadata": {
    "colab": {
      "provenance": [],
      "include_colab_link": true
    },
    "kernelspec": {
      "name": "python3",
      "display_name": "Python 3"
    },
    "language_info": {
      "name": "python"
    }
  },
  "cells": [
    {
      "cell_type": "markdown",
      "metadata": {
        "id": "view-in-github",
        "colab_type": "text"
      },
      "source": [
        "<a href=\"https://colab.research.google.com/github/twisha-k/Python_notes/blob/main/97_coding.ipynb\" target=\"_parent\"><img src=\"https://colab.research.google.com/assets/colab-badge.svg\" alt=\"Open In Colab\"/></a>"
      ]
    },
    {
      "cell_type": "markdown",
      "metadata": {
        "id": "2zKfD5teVlHx"
      },
      "source": [
        "# Lesson 97 -  Multipage Streamlit App II"
      ]
    },
    {
      "cell_type": "markdown",
      "metadata": {
        "id": "wdwT65byXA4A"
      },
      "source": [
        "### Teacher-Student Activities\n",
        "\n",
        "In the previous class, we started building a multi-page web app capable of predicting the price of car using Streamlit.\n",
        "\n",
        "Continuing from the previous class, today we will create the following two Python scripts for our multi-page app which will perform the following tasks:\n",
        "\n",
        "- `plots.py`: This page will visualise the dataset using various charts and plots.\n",
        "\n",
        "- `predict.py`: This page will help to perform prediction for new feature values.\n",
        "\n",
        "Let's quickly go through the activities covered in the previous class and begin this class from **Activity 1: `Visualise Data` Page Configuration** section.\n"
      ]
    },
    {
      "cell_type": "code",
      "source": [
        "Select the apprpriate code to set the Streamlit Web page configuration to 'wide'.\n",
        "\n",
        "st.set_page_configure(layout = 'wide')\n",
        "\n",
        "st.page_configuration(layout = 'wide')\n",
        "\n",
        "st.set_page_config(layout = 'wide')\n",
        "\n",
        "st.page_configure(layout = 'wide')"
      ],
      "metadata": {
        "id": "kPhDQolXCXeD"
      },
      "execution_count": null,
      "outputs": []
    },
    {
      "cell_type": "markdown",
      "metadata": {
        "id": "N2y29RJxvwn5"
      },
      "source": [
        "---"
      ]
    },
    {
      "cell_type": "markdown",
      "metadata": {
        "id": "XsXsFoil2iLY"
      },
      "source": [
        "#### Car Price Prediction - Problem Statement\n",
        "\n",
        "Recall the linear regression model that you had built in one of your previous classes wherein you predicted the price of cars based on its technical specifications such as car manufacturer, its engine capacity, fuel efficiency, body-type etc.\n",
        "\n",
        "\n",
        "**Dataset Description:**\n",
        "\n",
        "The dataset contains 205 rows and 26 columns. Each column represents an attribute of a car as described in the table below.\n",
        "\n",
        "|Sr No.|Attribute|Attribute Information|\n",
        "|-|-|-|\n",
        "|1|Car_ID|Unique id of each car (Integer)|\n",
        "|2|Symboling|Assigned insurance risk rating; a value of +3 indicates that the car is risky; -3 suggests that it is probably a safe car (Categorical)|\n",
        "|3|carCompany|Name of car company (Categorical)|\n",
        "|4|fueltype| fuel-type i.e. petrol or diesel (Categorical)|\n",
        "|5|aspiration|Aspiration used in a car (Categorical)|\n",
        "|6|doornumber|Number of doors in a car (Categorical)|\n",
        "|7|carbody|Body-type of a car (Categorical)|\n",
        "|8|drivewheel|Type of drive wheel (Categorical)|\n",
        "|9|enginelocation|Location of car engine (Categorical)|\n",
        "|10|wheelbase|Weelbase of car (Numeric)|\n",
        "|11|carlength|Length of car (Numeric)|\n",
        "|12|carwidth|Width of car (Numeric)|\n",
        "|13|carheight|Height of car (Numeric)|\n",
        "|14|curbweight|The weight of a car without occupants or baggage (Numeric)|\n",
        "|15|enginetype|Type of engine (Categorical)|\n",
        "|16|cylindernumber|Number of cylinders placed in the car engine (Categorical)|\n",
        "|17|enginesize|Capacity of an engine (Numeric)|\n",
        "|18|fuelsystem|Fuel system of a car (Categorical)|\n",
        "|19|boreratio|Bore ratio of car (Numeric)|\n",
        "|20|stroke|Stroke or volume inside the engine (Numeric)|\n",
        "|21|compressionratio|Compression ratio of an engine (Numeric)|\n",
        "|22|horsepower|Power output of an engine (Numeric)|\n",
        "|23|peakrpm|Peak revolutions per minute (Numeric)|\n",
        "|24|citympg|Mileage in city (Numeric)|\n",
        "|25|highwaympg|Mileage on highway (Numeric)|\n",
        "|26|price(Dependent variable)|Price of a car (Numeric)|\n",
        "\n",
        "\n",
        "**Dataset source:** https://archive.ics.uci.edu/ml/datasets/Automobile\n",
        "\n",
        "\n",
        "For ease of implementation, we will use only following four features that we had obtained after performing feature selection using RFE (Recursive Feature Elimination) in one of the previous lessons:\n",
        "\n",
        "|Sr No.|Features|Target|\n",
        "|-|-|-|\n",
        "|1|`'carwidth'`|price|\n",
        "|2|`'enginesize'`|\n",
        "|3|`'horsepower'`|\n",
        "|4|`'drivewheel_fwd'`|\n",
        "|5|`'car_company_buick'`|\n",
        "\n",
        "\n",
        "\n",
        "\n",
        "\n"
      ]
    },
    {
      "cell_type": "markdown",
      "metadata": {
        "id": "Q5U-rVJv2lV3"
      },
      "source": [
        "---"
      ]
    },
    {
      "cell_type": "markdown",
      "metadata": {
        "id": "xeimjhISx1aN"
      },
      "source": [
        "#### Main Page"
      ]
    },
    {
      "cell_type": "code",
      "metadata": {
        "id": "QzUEUwcNAsf0"
      },
      "source": [
        "# Code for 'main_app.py' file.\n",
        "# Importing the necessary Python modules.\n",
        "import streamlit as st\n",
        "import numpy as np\n",
        "import pandas as pd\n",
        "\n",
        "# Import the individual Python files\n",
        "import home\n",
        "import data\n",
        "import plots\n",
        "import predict\n",
        "\n",
        "# Configure your home page by setting its title and icon that will be displayed in a browser tab.\n",
        "st.set_page_config(page_title = 'Car Price Prediction',\n",
        "                    page_icon = ':car:',\n",
        "                    layout = 'centered',\n",
        "                    initial_sidebar_state = 'auto'\n",
        "                    )\n",
        "\n",
        "# Dictionary containing positive integers in the form of words as keys and corresponding former as values.\n",
        "words_dict = {\"two\": 2, \"three\": 3, \"four\": 4, \"five\": 5, \"six\": 6, \"eight\": 8, \"twelve\": 12}\n",
        "def num_map(series):\n",
        "    return series.map(words_dict)\n",
        "\n",
        "# Loading the dataset.\n",
        "@st.cache()\n",
        "def load_data():\n",
        "    # Reading the dataset\n",
        "    cars_df = pd.read_csv(\"car-prices.csv\")\n",
        "    # Extract the name of the manufactures from the car names and display the first 25 cars to verify whether names are extracted successfully.\n",
        "    car_companies = pd.Series([car.split(\" \")[0] for car in cars_df['CarName']], index = cars_df.index)\n",
        "    # Create a new column named 'car_company'. It should store the company names of a the cars.\n",
        "    cars_df['car_company'] = car_companies\n",
        "    # Replace the misspelled 'car_company' names with their correct names.\n",
        "    cars_df.loc[(cars_df['car_company'] == \"vw\") | (cars_df['car_company'] == \"vokswagen\"), 'car_company'] = 'volkswagen'\n",
        "    cars_df.loc[cars_df['car_company'] == \"porcshce\", 'car_company'] = 'porsche'\n",
        "    cars_df.loc[cars_df['car_company'] == \"toyouta\", 'car_company'] = 'toyota'\n",
        "    cars_df.loc[cars_df['car_company'] == \"Nissan\", 'car_company'] = 'nissan'\n",
        "    cars_df.loc[cars_df['car_company'] == \"maxda\", 'car_company'] = 'mazda'\n",
        "    cars_df.drop(columns= ['CarName'], axis = 1, inplace = True)\n",
        "    cars_numeric_df = cars_df.select_dtypes(include = ['int64', 'float64'])\n",
        "    cars_numeric_df.drop(columns = ['car_ID'], axis = 1, inplace = True)\n",
        "    # Map the values of the 'doornumber' and 'cylindernumber' columns to their corresponding numeric values.\n",
        "    cars_df[['cylindernumber', 'doornumber']] = cars_df[['cylindernumber', 'doornumber']].apply(num_map, axis = 1)\n",
        "    # Create dummy variables for the 'carbody' columns.\n",
        "    car_body_dummies = pd.get_dummies(cars_df['carbody'], dtype = int)\n",
        "    # Create dummy variables for the 'carbody' columns with 1 column less.\n",
        "    car_body_new_dummies = pd.get_dummies(cars_df['carbody'], drop_first = True, dtype = int)\n",
        "    # Create a DataFrame containing all the non-numeric type features.\n",
        "    cars_categorical_df = cars_df.select_dtypes(include = ['object'])\n",
        "    #Get dummy variables for all the categorical type columns using the dummy coding process.\n",
        "    cars_dummies_df = pd.get_dummies(cars_categorical_df, drop_first = True, dtype = int)\n",
        "    #  Drop the categorical type columns from the 'cars_df' DataFrame.\n",
        "    cars_df.drop(list(cars_categorical_df.columns), axis = 1, inplace = True)\n",
        "    # Concatenate the 'cars_df' and 'cars_dummies_df' DataFrames.\n",
        "    cars_df = pd.concat([cars_df, cars_dummies_df], axis = 1)\n",
        "    #  Drop the 'car_ID' column\n",
        "    cars_df.drop('car_ID', axis = 1, inplace = True)\n",
        "    final_columns = ['carwidth', 'enginesize', 'horsepower', 'drivewheel_fwd', 'car_company_buick', 'price']\n",
        "    return cars_df[final_columns]\n",
        "\n",
        "final_cars_df = load_data()\n",
        "\n",
        "# Adding a navigation in the sidebar using radio buttons.\n",
        "# Create a dictionary.\n",
        "pages_dict = {\n",
        "                \"Home\": home,\n",
        "                \"View Data\": data,\n",
        "                \"Visualise Data\": plots,\n",
        "                \"Predict\": predict\n",
        "            }\n",
        "\n",
        "# Add radio buttons in the sidebar for navigation and call the respective pages based on user selection.\n",
        "st.sidebar.title('Navigation')\n",
        "user_choice = st.sidebar.radio(\"Go to\", tuple(pages_dict.keys()))\n",
        "if user_choice == \"Home\":\n",
        "    home.app()\n",
        "else:\n",
        "    selected_page = pages_dict[user_choice]\n",
        "    selected_page.app(final_cars_df)\n",
        "# This 'app()' function is defined in all the 'home.py', data.py', 'plots.py' and 'predict.py' files.\n",
        "# Whichever option out of \"View Data\", \"Visualise Data\" and \"Predict\" a user selects, that option gets stored in the\n",
        "# 'selection' variable and the correspoding value to that key gets stored in the 'page' variable and then the 'app()'\n",
        "# function gets called from that Python file\n",
        "# which could be either of 'home.py', 'data.py', 'plots.py' and 'predict.py' files in this case."
      ],
      "execution_count": null,
      "outputs": []
    },
    {
      "cell_type": "markdown",
      "metadata": {
        "id": "aQvn1hDc2u_I"
      },
      "source": [
        "---"
      ]
    },
    {
      "cell_type": "markdown",
      "metadata": {
        "id": "UZOPD8lVAboB"
      },
      "source": [
        "#### `Home` Page\n"
      ]
    },
    {
      "cell_type": "code",
      "metadata": {
        "id": "rHQtqVIx1SF9"
      },
      "source": [
        "# Code for 'home.py' file.\n",
        "import streamlit as st\n",
        "\n",
        "def app():\n",
        "\tst.header(\"Car Price Prediction App\")\n",
        "\tst.text(\"\"\"\n",
        "            This web app allows a user to predict the prices of a car based on their\n",
        "            engine size, horse power, dimensions and the drive wheel type parameters.\n",
        "        \t\"\"\"\n",
        "        \t)"
      ],
      "execution_count": null,
      "outputs": []
    },
    {
      "cell_type": "markdown",
      "metadata": {
        "id": "JXSHGrv1yWNI"
      },
      "source": [
        "---"
      ]
    },
    {
      "cell_type": "markdown",
      "metadata": {
        "id": "9iE4QfNNyWvv"
      },
      "source": [
        "#### `View Data` Page"
      ]
    },
    {
      "cell_type": "code",
      "metadata": {
        "id": "vViWIkZeyc5-"
      },
      "source": [
        "# Code for 'data.py' file\n",
        "# Import necessary modules\n",
        "import numpy as np\n",
        "import pandas as pd\n",
        "import streamlit as st\n",
        "\n",
        "# Define a function 'app()' which accepts 'car_df' as an input.\n",
        "def app(car_df):\n",
        "    st.header(\"View Data\")\n",
        "    # Add an expander and display the dataset as a static table within the expander.\n",
        "    with st.beta_expander(\"View Dataset\"):\n",
        "        st.table(car_df)\n",
        "\n",
        "    st.subheader(\"Columns Description:\")\n",
        "    if st.checkbox(\"Show summary\"):\n",
        "        st.table(car_df.describe())\n",
        "\n",
        "    beta_col1, beta_col2, beta_col3 = st.beta_columns(3)\n",
        "\n",
        "    # Add a checkbox in the first column. Display the column names of 'car_df' on the click of checkbox.\n",
        "    with beta_col1:\n",
        "        if st.checkbox(\"Show all column names\"):\n",
        "            st.table(list(car_df.columns))\n",
        "\n",
        "    # Add a checkbox in the second column. Display the column data-types of 'car_df' on the click of checkbox.\n",
        "    with beta_col2:\n",
        "        if st.checkbox(\"View column data-type\"):\n",
        "            st.table(car_df.dtypes)\n",
        "\n",
        "    # Add a checkbox in the third column followed by a selectbox which accepts the column name whose data needs to be displayed.\n",
        "    with beta_col3:\n",
        "        if st.checkbox(\"View column data\"):\n",
        "            column_data = st.selectbox('Select column', tuple(car_df.columns))\n",
        "            st.write(car_df[column_data])\n"
      ],
      "execution_count": null,
      "outputs": []
    },
    {
      "cell_type": "markdown",
      "metadata": {
        "id": "V5lQanXiTSf2"
      },
      "source": [
        "---"
      ]
    },
    {
      "cell_type": "markdown",
      "metadata": {
        "id": "OL-6a6tRTTRG"
      },
      "source": [
        "#### Activity 1: `Visualise Data` Page Configuration\n",
        "\n",
        "Now that we have created the first two pages of our web app, let's write a Python program to create different types of charts or plots for `car_df` DataFrame in the empty `plots.py` file.\n",
        "\n",
        "When a user selects the `View Data` option, the `data.py` script will be rendered which contains the code to display raw data and provide data description.\n",
        "\n",
        "Now let's define the `app()` function for the `plots.py` file. It should take a Pandas DataFrame object as an input should not return anything. In the function:\n",
        "\n",
        "- Add a **multiselect** widget that allows the user to choose the $x$-axis values for a scatter plot as the $y$-axis value is fixed i.e. `price` of car.  \n",
        "\n",
        "- Add a **multiselect** widget that allows the user to choose the types of plots out of the following:\n",
        "  - Histogram\n",
        "  - Box Plot\n",
        "  - Correlation Heatmap\n",
        "\n",
        "- Store the plots selected by user in a variable `plot_types`.\n",
        "\n",
        "\n",
        "- If `'Histogram'` exists in `plot_types`, display the histograms for all the continuous numeric columns in the data-frame using the `hist()` function of the `matplotlib.pyplot` module by asking the user to select the column for which the chart is to be plotted using a selectbox widget.\n",
        "\n",
        "- Similarly, if `'Box Plot'` exists in `plot_types`, display the box plots for all the continuous numeric columns in the data-frame using the `boxplot()` function of the `seaborn` module by asking the user to select the column for which the chart is to be plotted using a selectbox widget.\n",
        "\n",
        "- If `'Correlation Heatmap'` exists in `plot_types`, display the correlation heatmap for all the columns. Don't forget to adjust the height of the heatmap.\n",
        "\n",
        "**Note:** Do not run the code shown below. It will throw an error."
      ]
    },
    {
      "cell_type": "code",
      "metadata": {
        "id": "4RB9HWZ8FL3L"
      },
      "source": [
        "# S1.1: Design the \"Visualise Data\" page of the multipage app.\n",
        "import streamlit as st\n",
        "import matplotlib.pyplot as plt\n",
        "import seaborn as sns\n",
        "\n",
        "# Define a function 'app()' which accepts 'car_df' as an input.\n",
        "def app(car_df):\n",
        "    st.header('Visualise data')\n",
        "    # Remove deprecation warning.\n",
        "    st.set_option('deprecation.showPyplotGlobalUse', False)\n",
        "\n",
        "    # Subheader for scatter plot.\n",
        "    st.subheader(\"Scatter plot\")\n",
        "    # Choosing x-axis values for scatter plots.\n",
        "    features_list = st.multiselect(\"Select the x-axis values:\",\n",
        "                                            ('carwidth', 'enginesize', 'horsepower', 'drivewheel_fwd', 'car_company_buick'))\n",
        "    # Create scatter plots.\n",
        "    for feature in features_list:\n",
        "        st.subheader(f\"Scatter plot between {feature} and price\")\n",
        "        plt.figure(figsize = (12, 6))\n",
        "        sns.scatterplot(x = feature, y = 'price', data = car_df)\n",
        "        st.pyplot()\n",
        "\n",
        "    # Add a multiselect widget to allow the user to select multiple visualisation.\n",
        "    # Add a subheader in the sidebar with label \"Visualisation Selector\"\n",
        "    st.subheader(\"Visualisation Selector\")\n",
        "\n",
        "    # Add a multiselect in the sidebar with label 'Select the charts or plots:'\n",
        "    # and pass the remaining 3 plot types as a tuple i.e. ('Histogram', 'Box Plot', 'Correlation Heatmap').\n",
        "    # Store the current value of this widget in a variable 'plot_types'.\n",
        "    plot_types = st.multiselect(\"Select charts or plots:\", ('Histogram', 'Box Plot', 'Correlation Heatmap'))\n",
        "\n",
        "    # Display box plot using the 'matplotlib.pyplot' module and the 'st.pyplot()' function.\n",
        "    if 'Histogram' in plot_types:\n",
        "        st.subheader(\"Histogram\")\n",
        "        columns = st.selectbox(\"Select the column to create its histogram\",\n",
        "                                      ('carwidth', 'enginesize', 'horsepower'))\n",
        "        # Note: Histogram is generally created for continuous values not for discrete values.\n",
        "        plt.figure(figsize = (12, 6))\n",
        "        plt.title(f\"Histogram for {columns}\")\n",
        "        plt.hist(car_df[columns], bins = 'sturges', edgecolor = 'black')\n",
        "        st.pyplot()\n",
        "\n",
        "    # Create box plot using the 'seaborn' module and the 'st.pyplot()' function.\n",
        "    if 'Box Plot' in plot_types:\n",
        "        st.subheader(\"Box Plot\")\n",
        "        columns = st.selectbox(\"Select the column to create its box plot\",\n",
        "                                      ('carwidth', 'enginesize', 'horsepower'))\n",
        "        plt.figure(figsize = (12, 2))\n",
        "        plt.title(f\"Box plot for {columns}\")\n",
        "        sns.boxplot(car_df[columns])\n",
        "        st.pyplot()\n",
        "\n",
        "    # Display correlation heatmap using the 'seaborn' module and the 'st.pyplot()' function.\n",
        "    if 'Correlation Heatmap' in plot_types:\n",
        "        st.subheader(\"Correlation Heatmap\")\n",
        "        plt.figure(figsize = (8, 5))\n",
        "        ax = sns.heatmap(car_df.corr(), annot = True) # Creating an object of seaborn axis and storing it in 'ax' variable\n",
        "        bottom, top = ax.get_ylim() # Getting the top and bottom margin limits.\n",
        "        ax.set_ylim(bottom + 0.5, top - 0.5) # Increasing the bottom and decreasing the bottom margins respectively.\n",
        "        st.pyplot()"
      ],
      "execution_count": null,
      "outputs": []
    },
    {
      "cell_type": "markdown",
      "metadata": {
        "id": "tOU7HQ8ulxhh"
      },
      "source": [
        "After rerunning the entire app and selecting the `Visualise Data` option in the navigation sidebar, we can see the following output:\n",
        "\n",
        "<center>\n",
        "<img src=\"https://s3-whjr-v2-prod-bucket.whjr.online/aca3521b-f50e-4161-89a3-e2bda27482a7.gif\"/></center>\n",
        "\n",
        "**Note to the Teacher:** You can download the entire `plots.py` file from the link given below:\n",
        "\n",
        "https://drive.google.com/file/d/1bc2CTyQJKpDYUz71usnrfuhZ3DR49KYN"
      ]
    },
    {
      "cell_type": "markdown",
      "metadata": {
        "id": "qrbbky93op0P"
      },
      "source": [
        "---"
      ]
    },
    {
      "cell_type": "markdown",
      "metadata": {
        "id": "lRj8cpAJoqr3"
      },
      "source": [
        "#### Activity 2: Predict Page Configuration and  Markdown\n",
        "\n",
        "Now that we have created the first three pages of our web app, let's write a Python program to allow a user to predict the price of a car by selecting some input values for the featuers of the car.\n",
        "\n",
        "When a user selects the `Predict` option, the `predict.py` script will be rendered which contains the code to build an ML model to make predictions.\n",
        "\n",
        "In the `predict.py` fiel:\n",
        "\n",
        "- Imports necessary Python modules including the Streamlit module.\n",
        "\n",
        "- Create a function, say `prediction()` that takes `car_df` DataFrame and all the features of a car as inputs and returns the following:\n",
        "  \n",
        "  - The predicted price of a car\n",
        "  - Accuracy score of the linear regression model deployed\n",
        "  - $R^2$ score of the model deployed\n",
        "  - Mean absolute error of the model deployed\n",
        "  - Mean squared log error of the model deployed\n",
        "  - Root mean squared error of the model deployed\n",
        "  \n",
        "  The `prediction()` function should deploy a linear regression model.\n",
        "\n",
        "**Note:**\n",
        "- In the interest of learning multipage web app and saving time, we are skipping the standard normalisation part.\n",
        "\n",
        "- Do not run the code shown below. It will throw an error."
      ]
    },
    {
      "cell_type": "code",
      "metadata": {
        "id": "JHmlsGojyuts"
      },
      "source": [
        "# S2.1: Import the necessary Python modules and create the 'prediction()' function as directed above.\n",
        "import numpy as np\n",
        "import pandas as pd\n",
        "import streamlit as st\n",
        "from sklearn.model_selection import train_test_split\n",
        "from sklearn.linear_model import LinearRegression\n",
        "from sklearn.metrics import r2_score, mean_absolute_error, mean_squared_error, mean_squared_log_error\n",
        "\n",
        "# Define the 'prediction()' function.\n",
        "@st.cache()\n",
        "def prediction(car_df, car_width, engine_size, horse_power, drive_wheel_fwd, car_comp_buick):\n",
        "    X = car_df.iloc[:, :-1]\n",
        "    y = car_df['price']\n",
        "    X_train, X_test, y_train, y_test = train_test_split(X, y, test_size = 0.3, random_state = 42)\n",
        "\n",
        "    lin_reg = LinearRegression()\n",
        "    lin_reg.fit(X_train, y_train)\n",
        "    score = lin_reg.score(X_train, y_train)\n",
        "\n",
        "    price = lin_reg.predict([[car_width, engine_size, horse_power, drive_wheel_fwd, car_comp_buick]])\n",
        "    price = price[0]\n",
        "\n",
        "    y_test_pred = lin_reg.predict(X_test)\n",
        "    test_r2_score = r2_score(y_test, y_test_pred)\n",
        "    test_mae = mean_absolute_error(y_test, y_test_pred)\n",
        "    test_msle = mean_squared_log_error(y_test, y_test_pred)\n",
        "    test_rmse = np.sqrt(mean_squared_error(y_test, y_test_pred))\n",
        "\n",
        "    return price, score, test_r2_score, test_mae, test_msle, test_rmse"
      ],
      "execution_count": null,
      "outputs": []
    },
    {
      "cell_type": "markdown",
      "metadata": {
        "id": "0dwdE63Z8fQJ"
      },
      "source": [
        "Next step is to define the `app()` function that takes `car_df` as an input and doesn't return anything. It should do the following:\n",
        "\n",
        "- Add a suitable subheader for the `Predict` page.\n",
        "\n",
        "- Asks a user to select the input values of the features of a car.\n",
        "\n",
        "- Deploy the linear regression model and predict the car price based on input values of car features.\n",
        "\n",
        "- Display the model evaluation parameters especially **Mean Squared Log Error (MSLE)** because the price of a car is a large value. Hence, the MSE and MAE values will not be close to zero but MSLE value will be.\n",
        "\n",
        "**Note:**\n",
        "- Be careful with the indentation.\n",
        "\n",
        "- Do not run the code shown below. It will throw an error."
      ]
    },
    {
      "cell_type": "code",
      "metadata": {
        "id": "uH_ybDOz-bRk"
      },
      "source": [
        "# S2.2: Define the 'app()' function as directed above.\n",
        "# S2.2: Define the 'app()' function as directed above.\n",
        "def app(car_df):\n",
        "    st.markdown(\"<p style='color:blue;font-size:25px'>This app uses <b>Linear regression</b> to predict the price of a car based on your inputs.\", unsafe_allow_html = True)\n",
        "    st.subheader(\"Select Values:\")\n",
        "    car_wid = st.slider(\"Car Width\", float(car_df[\"carwidth\"].min()), float(car_df[\"carwidth\"].max()))\n",
        "    eng_siz = st.slider(\"Engine Size\", int(car_df[\"enginesize\"].min()), int(car_df[\"enginesize\"].max()))\n",
        "    hor_pow = st.slider(\"Horse Power\", int(car_df[\"horsepower\"].min()), int(car_df[\"horsepower\"].max()))\n",
        "    drw_fwd = st.radio(\"Is it a forward drive wheel car?\", (\"Yes\", \"No\"))\n",
        "    if drw_fwd == 'No':\n",
        "        drw_fwd = 0\n",
        "    else:\n",
        "        drw_fwd = 1\n",
        "    com_bui = st.radio(\"Is the car manufactured by Buick?\", (\"Yes\", \"No\"))\n",
        "    if com_bui == 'No':\n",
        "        com_bui = 0\n",
        "    else:\n",
        "        com_bui = 1\n",
        "\n",
        "    # When 'Predict' button is clicked, the 'prediction()' function must be called\n",
        "    # and the value returned by it must be stored in a variable, say 'price'.\n",
        "    # Print the value of 'price' and 'score' variable using the 'st.success()' and 'st.info()' functions respectively.\n",
        "    if st.button(\"Predict\"):\n",
        "        st.subheader(\"Prediction results:\")\n",
        "        price, score, car_r2, car_mae, car_msle, car_rmse = prediction(car_df, car_wid, eng_siz, hor_pow, drw_fwd, com_bui)\n",
        "        st.success(\"The predicted price of the car: ${:,}\".format(int(price)))\n",
        "        st.info(\"Accuracy score of this model is: {:2.2%}\".format(score))\n",
        "        st.info(f\"R-squared score of this model is: {car_r2:.3f}\")\n",
        "        st.info(f\"Mean absolute error of this model is: {car_mae:.3f}\")\n",
        "        st.info(f\"Mean squared log error of this model is: {car_msle:.3f}\")\n",
        "        st.info(f\"Root mean squared error of this model is: {car_rmse:.3f}\")\n"
      ],
      "execution_count": null,
      "outputs": []
    },
    {
      "cell_type": "markdown",
      "metadata": {
        "id": "_kekZ3DE7EUk"
      },
      "source": [
        "**Markdown:**\n",
        "\n",
        "In the above code, we have added a short description of your model. You may want to render this description using a different font color and size like this:\n",
        "\n",
        "<center><img src=\"https://s3-whjr-v2-prod-bucket.whjr.online/1d4c402b-b5af-437a-a8af-f22c9a3c7598.PNG\"/></center>\n",
        "\n",
        "The text display widgets like `st.title()`, `st.text()`, `st.header()`, `st.subheader()` and `st.write()` possess a standard set of typography provided by Streamlit and hence, you cannot change the font style of the text written using these widgets. However, this limitation can be overcomed using basic html tags and  `st.markdown()` widget.\n",
        "\n",
        "**HTML:**\n",
        "\n",
        "- HTML (HyperText Markup Language) is a language used to structure a web page and its content.\n",
        "- There are many predefined tags used in HTML to design a web page. Each tag starts with a tag opener (`<>`) and ends with a tag closer (`</>`).\n",
        "- For our app, we will use only two HTML tags:\n",
        "\n",
        "  - `<p></p>`: Creates a new paragraph.\n",
        "  - `<b></b>`: Displays the written text in bold format.\n",
        "\n",
        "  To explore more HTML tags, you can refer this [cheat sheet](https://s3-whjr-v2-prod-bucket.whjr.online/26d0986e-cfaf-4dd0-bfaa-65a8230cd6f4.pdf).\n",
        "\n",
        "- To apply certain styling declaration to an element or tag, we can use `style` attribute as follows:\n",
        "  \n",
        "  ```html\n",
        "  <p style='color:red;font-size:40px'> Welcome to Python </p>\n",
        "  ```\n",
        "  The above html code will display the text \"Welcome to Python\" in red color with size of 40 pixels as follows:\n",
        "\n",
        "  <center><img src=\"https://s3-whjr-v2-prod-bucket.whjr.online/2ca1041d-44f5-4f58-9d18-c229a4242cf6.PNG\"/></center>\n",
        "\n",
        "\n",
        "**The `st.markdown()` widget:**\n",
        "\n",
        "- This widget displays the string formatted as Markdown. Markdown is nothing but a way of specifying the format for writing structured documents.\n",
        "\n",
        "- We will use HTML (HyperText Markup Language) to specify the markdown for this widget.\n",
        "\n",
        "  **Syntax:** `st.markdown(body, unsafe_allow_html = True|False)`\n",
        "\n",
        "where,\n",
        " - `body`: The string to be displayed (enclosed in html tags).\n",
        " - `unsafe_allow_html`: By default, any HTML tags found in the body will be escaped and therefore treated as pure text. To turn off this behaviour, this argument must be set to `True`.\n",
        "\n",
        "Let us add a brief text description in blue color with font size of 25 pixels in our app (as shown in the image above)  using `st.markdown()` and html `<p></p>` and `<b></b>` tags.\n",
        "\n",
        "\n",
        "\n",
        "\n"
      ]
    },
    {
      "cell_type": "markdown",
      "metadata": {
        "id": "QNmajrLnotVa"
      },
      "source": [
        "---"
      ]
    },
    {
      "cell_type": "markdown",
      "metadata": {
        "id": "Le4NRltJot4U"
      },
      "source": [
        "#### Activity 3: Hosting\n",
        "\n",
        "We have completed the entire code for our Multi-page Streamlit app that predicts the price of a car.\n",
        "\n",
        "**Note to the Teacher:** You can download all the python scripts from the link given below:\n",
        "\n",
        "https://drive.google.com/drive/folders/1tpGR50XMsuH4tY5YA7ZrvGbOoiKS_Y8o\n",
        "\n",
        "You can now host the app either on Heroku server or on the Streamlit sharing service. After deploying it on the Streamlit sharing service, your app should look like the following:\n",
        "\n",
        "https://share.streamlit.io/srahuliitb/car-price-predictor-streamlit-sharing/main/main_app.py\n",
        "\n",
        "Here's the GitHub repository for the same:\n",
        "\n",
        "https://github.com/srahuliitb/car-price-predictor-streamlit-sharing"
      ]
    },
    {
      "cell_type": "markdown",
      "metadata": {
        "id": "riM2RlnyvwCZ"
      },
      "source": [
        "---"
      ]
    },
    {
      "cell_type": "markdown",
      "metadata": {
        "id": "fYd07leDkUeY"
      },
      "source": [
        "### **Project**\n",
        "You can now attempt the **Applied Tech.Project 96 - Multipage Streamlit App I** on your own.\n",
        "\n",
        "**Applied Tech.Project 96 - Multipage Streamlit App I**: https://colab.research.google.com/drive/1EXe-W2cfoypdHZ3L7DILHXDHYfnCje4N"
      ]
    },
    {
      "cell_type": "markdown",
      "metadata": {
        "id": "LqqEKi9akfAH"
      },
      "source": [
        "---"
      ]
    }
  ]
}
