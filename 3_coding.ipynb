{
  "nbformat": 4,
  "nbformat_minor": 0,
  "metadata": {
    "colab": {
      "provenance": [],
      "include_colab_link": true
    },
    "kernelspec": {
      "name": "python3",
      "display_name": "Python 3"
    }
  },
  "cells": [
    {
      "cell_type": "markdown",
      "metadata": {
        "id": "view-in-github",
        "colab_type": "text"
      },
      "source": [
        "<a href=\"https://colab.research.google.com/github/twisha-k/Python_notes/blob/main/3_coding.ipynb\" target=\"_parent\"><img src=\"https://colab.research.google.com/assets/colab-badge.svg\" alt=\"Open In Colab\"/></a>"
      ]
    },
    {
      "cell_type": "markdown",
      "metadata": {
        "id": "36AnVJBlmWqU"
      },
      "source": [
        "# Lesson 3: Mind Reader Game - Improving The Algorithm"
      ]
    },
    {
      "cell_type": "markdown",
      "metadata": {
        "id": "QLYAW7dsZp8M"
      },
      "source": [
        "### Teacher-Student Activities\n",
        "\n",
        "In this class, we are going to improve our Mind Reader algorithm so that it can make better predictions instead of making predictions randomly.\n",
        "\n",
        "In this new algorithm, we will store the count of the player inputs. Essentially, we will keep a count of `0` and `1`. At every player input, we will check which count value is greater between the counts of `0` and `1`.\n",
        "\n",
        "- If the count of `0` is greater, the computer will predict `0`. Else if the count of `1` is greater, the computer will predict `1`.\n",
        "\n",
        "- Else if the count values are same, the computer will predict `0` or `1` randomly.\n",
        "\n",
        "Before we look at the steps for improving our algorithm, let's quickly revise variables and functions. Can you recall what variables and functions are and how do they work?\n",
        "\n",
        "To create the improved algorithm we will follow 5 steps. They are:\n",
        "\n",
        "1. Create four variables:\n",
        "\n",
        "    - `count_zero` - to store the count of the number of times a player has entered `0`.\n",
        "    \n",
        "    - `count_one` - to store the count of the number of times a player has entered `1`.\n",
        "\n",
        "    - `player_score` - to keep the score of a player.\n",
        "\n",
        "    - `computer_score` - to keep the score of the computer.\n",
        "\n",
        "2. Create a function and name it `prediction()`. This is to predict `0` or `1` as an output by comparing the values stored in the `count_zero` and `count_one` variables.\n",
        "\n",
        "      - If `count_zero > count_one`, the function should return `0`.\n",
        "\n",
        "      - Else if `count_one > count_zero`, the function should return `1`.\n",
        "\n",
        "      - Else if `count_zero == count_one`, the function should return `0` or `1` randomly.\n",
        "\n",
        "3. Create another function and name it `update_counts()` to update the `count_zero` and `count_one` values based on the player inputs.\n",
        "\n",
        "      - If the player input is `0`, the `count_zero` value should increase by `1`.\n",
        "\n",
        "      - Else if the player input is `1`, the `count_one` value should increase by `1`.\n",
        "\n",
        "4. Create another function and name it `update_scores()` to update the `player_scores` and the `computer_scores` as the game progresses.\n",
        "\n",
        "      - If the predicted value is same as the `player_input` value, increase the `computer_score` value.\n",
        "\n",
        "      - Else, increase the `player_score` value.\n",
        "\n",
        "5. Finally, create one more function and name it `gameplay()` to run the game.\n",
        "\n",
        "By the end of this class, we will create an improved version of the algorithm which is shown in the code below.\n",
        "\n",
        "```\n",
        "import random\n",
        "\n",
        "count_zero = 0\n",
        "count_one = 0\n",
        "\n",
        "player_score = 0\n",
        "computer_score = 0\n",
        "\n",
        "def prediction():\n",
        "  if count_zero > count_one:\n",
        "    predict = 0\n",
        "  elif count_one > count_zero:\n",
        "    predict = 1\n",
        "  else:\n",
        "    predict = random.randint(0, 1)\n",
        "  return predict\n",
        "\n",
        "def update_counts(player_input):\n",
        "  global count_zero, count_one\n",
        "  if player_input == 0:\n",
        "    count_zero = count_zero + 1\n",
        "  else:\n",
        "    count_one = count_one + 1\n",
        "\n",
        "def update_scores(predicted, player_input):\n",
        "  global player_score, computer_score\n",
        "  if predicted == player_input:\n",
        "    computer_score = computer_score + 1\n",
        "    print(\"Computer Score:\", computer_score)\n",
        "    print(\"Player Score:\", player_score)\n",
        "  else:\n",
        "    player_score = player_score + 1\n",
        "    print(\"Computer Score:\", computer_score)\n",
        "    print(\"Player Score:\", player_score)\n",
        "\n",
        "def gameplay():\n",
        "  valid_entries = ['0', '1']\n",
        "  while True:\n",
        "    predicted = prediction()\n",
        "    player_input = input(\"Enter either 0 or 1: \")\n",
        "    while player_input not in valid_entries:\n",
        "      print(\"Invalid Input!\")\n",
        "      player_input = input(\"Please enter either 0 or 1: \")\n",
        "  \n",
        "    player_input = int(player_input)\n",
        "    update_counts(player_input)\n",
        "    update_scores(predicted, player_input)\n",
        "\n",
        "    if player_score == 10:\n",
        "      print(\"Congrats, You Won!\")\n",
        "      break\n",
        "    elif computer_score == 10:\n",
        "      print(\"Bad Luck, You Lost!\")\n",
        "      break\n",
        "```"
      ]
    },
    {
      "cell_type": "markdown",
      "metadata": {
        "id": "PVzucGhM5-M-"
      },
      "source": [
        "---"
      ]
    },
    {
      "cell_type": "markdown",
      "metadata": {
        "id": "T8h_6DdeM8nm"
      },
      "source": [
        "#### Activity 1: Initialise The Variables\n",
        "Let's create four variables:\n",
        "\n",
        "- `count_zero` - to store the count of the number of times a player has entered `0`.\n",
        "    \n",
        "- `count_one` - to store the count of the number of times a player has entered `1`.\n",
        "\n",
        "- `player_score` - to keep the score of a player.\n",
        "\n",
        "- `computer_score` - to keep the score of the computer."
      ]
    },
    {
      "cell_type": "code",
      "metadata": {
        "id": "W4LxntSS4TLQ"
      },
      "source": [
        "# Student Action: Create the 'count_zero', 'count_one', 'player_score' and 'computer_score' variables. Set their initial values equal to 0.\n"
      ],
      "execution_count": null,
      "outputs": []
    },
    {
      "cell_type": "markdown",
      "metadata": {
        "id": "QEV4jQkV4MDR"
      },
      "source": [
        "---"
      ]
    },
    {
      "cell_type": "markdown",
      "metadata": {
        "id": "oA5obgxNw79x"
      },
      "source": [
        "#### Activity 2: Functions^^\n",
        "\n",
        "Now we need to create four functions:\n",
        "\n",
        "- The `prediction()` function to predict `0` or `1`.\n",
        "\n",
        "- The `update_counts()` function to update the `count_zero` and `count_one` values.\n",
        "\n",
        "- The `update_scores()` function to update the `player_score` and `computer_score` values.\n",
        "\n",
        "- The `gameplay()` function to run the game.\n",
        "\n",
        "Unfortunately, we don't have a ready-made function (like the `print()` and `input()` functions) to do this. Hence, we need to create these four functions by ourselves.\n",
        "\n",
        "So before creating these functions, first let's learn the Python functions in detail.\n",
        "\n",
        "*A function is like a machine which takes some input and gives some output.* For example: An ATM machine is a function which takes your debit card and your pin number as inputs and returns the cash as an output.\n",
        "\n",
        "Similarly, in Python, a function takes some input (not always needed) and returns some output (depends whether you want the function to return an output).\n",
        "\n",
        "To create a user-defined function, we use a keyword called `def` followed by the name of the function, followed by common brackets, followed by the colon `(:)` symbol.\n",
        "\n",
        "The input(s) to the function is/are provided within the common brackets.\n",
        "\n",
        "The syntax for creating a user-defined function is\n",
        "\n",
        "`def function_name(input1, input2, ..., inputN):`\n",
        "\n",
        "**Note**:\n",
        "\n",
        "1. The function attributes must be written in the subsequent lines after leaving two blank spaces between the code cell and the code. To exit the function, remove the blank spaces between the code cell and the code in the subsequent lines.\n",
        "\n",
        "2. The function name must begin with a lowercase letter.\n",
        "\n",
        "To understand functions better, let's create a function which takes two numbers as inputs and returns their addition as an output."
      ]
    },
    {
      "cell_type": "code",
      "metadata": {
        "id": "pLGmknOMVy4R",
        "outputId": "52638763-40a6-44c1-c954-0a67ca9594e4",
        "colab": {
          "base_uri": "https://localhost:8080/"
        }
      },
      "source": [
        "# Teacher Action: Write a function which adds two numbers and returns their addition as an output.\n",
        "2+3"
      ],
      "execution_count": null,
      "outputs": [
        {
          "output_type": "execute_result",
          "data": {
            "text/plain": [
              "5"
            ]
          },
          "metadata": {
            "tags": []
          },
          "execution_count": 1
        }
      ]
    },
    {
      "cell_type": "code",
      "metadata": {
        "id": "Sv7QDoBa86It"
      },
      "source": [
        "a = 1\n",
        "b = 3\n",
        "c = 5\n",
        "\n",
        "(a+b)*(b+c)*(c+e)*(f+g)\n"
      ],
      "execution_count": null,
      "outputs": []
    },
    {
      "cell_type": "code",
      "metadata": {
        "id": "v9OiLLTC9NsM",
        "outputId": "06e9413c-7d1f-40ec-c657-b84c735b320f",
        "colab": {
          "base_uri": "https://localhost:8080/"
        }
      },
      "source": [
        "#function definition\n",
        "def add_num(num1,num2):\n",
        "  result = num1+num2\n",
        "  return result\n",
        "\n",
        "#function call\n",
        "print(add_num(2,4))\n",
        "print(add_num(3,5))\n"
      ],
      "execution_count": null,
      "outputs": [
        {
          "output_type": "stream",
          "text": [
            "6\n",
            "8\n"
          ],
          "name": "stdout"
        }
      ]
    },
    {
      "cell_type": "code",
      "metadata": {
        "id": "YSOWNjhY-KbU",
        "outputId": "5650b8a1-c407-4317-e6c0-d83c5bf87ba3",
        "colab": {
          "base_uri": "https://localhost:8080/"
        }
      },
      "source": [
        "add_num(2,3)*add_num(4,5)*add_num(3,5)*add_num(5,6)"
      ],
      "execution_count": null,
      "outputs": [
        {
          "output_type": "execute_result",
          "data": {
            "text/plain": [
              "3960"
            ]
          },
          "metadata": {
            "tags": []
          },
          "execution_count": 3
        }
      ]
    },
    {
      "cell_type": "markdown",
      "metadata": {
        "id": "rkXdZscRgjsA"
      },
      "source": [
        "Here:\n",
        "\n",
        "1. The `add_numbers()` is a function which takes two inputs, `num1` and `num2`. You can provide any name of your choice to the function. However, some of the function names are reserved for the ready-made functions in Python. So, you need to avoid those names for naming a function such as `print(), input(), sum()` etc. For the sake of convenience, we have chosen `add_numbers` as the name of the function.\n",
        "\n",
        "2. The `+` operator adds the values stored in the `num1` and `num2` variables.\n",
        "\n",
        "3. The variable `result` stores the sum of the values stored in the `num1` and `num2` variables.\n",
        "\n",
        "4. The `return` keyword returns the output. If you don't write the `return` statement, then this function will only add the numbers but won't give any output.\n",
        "\n",
        "5. While creating a function, make sure that you follow indentation, i.e., after declaring the function, leave two blank spaces between the code cell and the code in the subsequent lines. Otherwise, your code will throw the `IndentationError` at the time of its execution.\n",
        "\n",
        "6. To exit from the function, remove the blank spaces between the code cell and the code in the subsequent lines.\n"
      ]
    },
    {
      "cell_type": "markdown",
      "metadata": {
        "id": "DDzoZUrp_h1d"
      },
      "source": [
        "For some problem statements, a function doesn't take an input, yet it produces at the output. E.g., you can create a function which prints your name whenever you call it.\n",
        "\n",
        "Let's create a function which returns `\"WhiteHat Jr\"` whenever you call it."
      ]
    },
    {
      "cell_type": "code",
      "metadata": {
        "id": "N5A0HxDHuQIm",
        "outputId": "1e799061-0365-4465-dc54-13285688a071",
        "colab": {
          "base_uri": "https://localhost:8080/",
          "height": 35
        }
      },
      "source": [
        "# Student Action: Create a function and name it \"no_input()\". It should not take any input and should return \"WhiteHat Jr\" as an output.\n",
        "def no_input():\n",
        "  return \"Whitehat Jr\"\n",
        "no_input()"
      ],
      "execution_count": null,
      "outputs": [
        {
          "output_type": "execute_result",
          "data": {
            "application/vnd.google.colaboratory.intrinsic+json": {
              "type": "string"
            },
            "text/plain": [
              "'Whitehat Jr'"
            ]
          },
          "metadata": {
            "tags": []
          },
          "execution_count": 6
        }
      ]
    },
    {
      "cell_type": "markdown",
      "metadata": {
        "id": "k_HyzsvRtpY1"
      },
      "source": [
        "As you can see, we called the `no_input()` function thrice and thrice it returned an output without taking an input.\n",
        "\n",
        "Now we are in the position to create the four functions. Let's start with the `prediction()` function."
      ]
    },
    {
      "cell_type": "markdown",
      "metadata": {
        "id": "CqCzEbrLWWJv"
      },
      "source": [
        "---"
      ]
    },
    {
      "cell_type": "markdown",
      "metadata": {
        "id": "ut_QJ8MgCrit"
      },
      "source": [
        "#### Activity 3: The `prediction()` Function\n",
        "\n",
        "The `prediction()` function should predict `0` or `1` as output by comparing the values stored in the `count_zero` and `count_one` variables.\n",
        "\n",
        "- If `count_zero > count_one`, the function should return `0`.\n",
        "\n",
        "- Else if `count_one > count_zero`, the function should return `1`.\n",
        "\n",
        "- Else if `count_zero == count_one`, the function should return `0` or `1` randomly.\n"
      ]
    },
    {
      "cell_type": "code",
      "metadata": {
        "id": "ahCXZ6KjBbd7"
      },
      "source": [
        "count_zero=0\n",
        "count_one=0\n",
        "player_score=0\n",
        "computer_score=0\n"
      ],
      "execution_count": null,
      "outputs": []
    },
    {
      "cell_type": "code",
      "metadata": {
        "id": "2kYtKEowCaJg"
      },
      "source": [],
      "execution_count": null,
      "outputs": []
    },
    {
      "cell_type": "code",
      "metadata": {
        "id": "3qhYChiwG0XG"
      },
      "source": [
        "# Student Action: Create the 'prediction()' function. It should not take any input and should return the prediction value as an output.\n",
        "import random\n",
        "def prediction():\n",
        "  if count_zero > count_one:\n",
        "    predict=0\n",
        "  elif count_one > count_zero:\n",
        "    predict=1\n",
        "  else:\n",
        "    predict=random.randint(0,1)\n",
        "  return predict\n"
      ],
      "execution_count": null,
      "outputs": []
    },
    {
      "cell_type": "code",
      "metadata": {
        "id": "vbDVyLGRCbc3",
        "outputId": "cf886f72-43fc-4a70-d0f4-5bb0265b0a72",
        "colab": {
          "base_uri": "https://localhost:8080/"
        }
      },
      "source": [
        "prediction()"
      ],
      "execution_count": null,
      "outputs": [
        {
          "output_type": "execute_result",
          "data": {
            "text/plain": [
              "0"
            ]
          },
          "metadata": {
            "tags": []
          },
          "execution_count": 18
        }
      ]
    },
    {
      "cell_type": "markdown",
      "metadata": {
        "id": "Dkl9RHcuHfvs"
      },
      "source": [
        "Currently, since both the `count_zero` and `count_one` values are `0` (or equal), the `prediction()` function will return `0` or `1` randomly. Run the above code again and again to observe the function behaviour.\n",
        "\n",
        "Now, let's create the `update_count()` function.\n"
      ]
    },
    {
      "cell_type": "markdown",
      "metadata": {
        "id": "zbiqUd30JH3j"
      },
      "source": [
        "---"
      ]
    },
    {
      "cell_type": "markdown",
      "metadata": {
        "id": "RSRhb-AKHz2l"
      },
      "source": [
        "#### Activity 4: The `update_counts()` Function And The `global` Keyword\n",
        "\n",
        "The `update_counts()` function should update the values stored in the `count_zero` and `count_one` variables based on the player inputs.\n",
        "\n",
        "- If the `player_input == 0`, the `count_zero` value should increase by `1`.\n",
        "\n",
        "- Else if the `player_input == 1`, the `count_one` value should increase by `1`.\n",
        "\n",
        "The `update_counts()` function should not return anything. It should just update the values stored in the `count_zero` and `count_one` variables.\n",
        "\n",
        "**Note:** To modify the value stored in a variable using a user-defined function, we need to declare that variable with the `global` keyword inside the function. The variables declared **outside** user-defined functions are called the **global** variables. However, the variables declared **inside** a user-defined function is called a **local** variable. The creators of Python have restricted user-defined functions to modify the values stored in the global variables directly without declaring them as `global` in a function.\n",
        "\n",
        "In this case, we are going to modify the `count_zero` and `count_one` values using the `update_counts()` function. Hence, we need to add the `global count_zero, count_one` statement inside the function."
      ]
    },
    {
      "cell_type": "code",
      "metadata": {
        "id": "SzOH8m_2Iyls"
      },
      "source": [
        "# Student Action: Create the 'update_counts' function. It should take 'player_input' variable as input and should not return anything.\n",
        "def update_counts(player_input):\n",
        "  global count_zero,count_one\n",
        "  if player_input==0:\n",
        "     count_zero=count_zero+1\n",
        "\n",
        "  elif player_input==1:\n",
        "     count_one=count_one+1\n",
        ""
      ],
      "execution_count": null,
      "outputs": []
    },
    {
      "cell_type": "markdown",
      "metadata": {
        "id": "Sch4JlDWK5xt"
      },
      "source": [
        "Now let's test the above function by giving `0, 0` and `1` values as the inputs to the `update_counts()` function and printing the values stored in the `count_zero` and `count_one` variables.\n",
        "\n",
        "The output should be `count_zero = 2` and `count_one = 1`"
      ]
    },
    {
      "cell_type": "code",
      "metadata": {
        "id": "8XAlsW5wLKyh"
      },
      "source": [
        "# Student Action: Enter 0, 0 and 1 as inputs to the 'update_counts()' function one-by-one.\n",
        "# Print the values stored in the 'count_zero' and 'count_one' variables.\n",
        "update_counts(0)\n",
        "update_counts(1)\n",
        "update_counts(0)\n",
        "update_counts(1)\n",
        "update_counts(0)\n"
      ],
      "execution_count": null,
      "outputs": []
    },
    {
      "cell_type": "code",
      "metadata": {
        "id": "3Go7AA4_E3AX",
        "outputId": "e54cbd2a-31c6-4ff6-9918-108b31f71d99",
        "colab": {
          "base_uri": "https://localhost:8080/"
        }
      },
      "source": [
        "print(\"the count0 = \",count_zero)\n",
        "print(\"the count1 = \",count_one)"
      ],
      "execution_count": null,
      "outputs": [
        {
          "output_type": "stream",
          "text": [
            "the count0 =  3\n",
            "the count1 =  2\n"
          ],
          "name": "stdout"
        }
      ]
    },
    {
      "cell_type": "markdown",
      "metadata": {
        "id": "JzRet-WyMP06"
      },
      "source": [
        "Similarly, let's create the `update_scores()` function."
      ]
    },
    {
      "cell_type": "markdown",
      "metadata": {
        "id": "ig1UGSn1MWy_"
      },
      "source": [
        "---"
      ]
    },
    {
      "cell_type": "markdown",
      "metadata": {
        "id": "z_qOozBHMYz-"
      },
      "source": [
        "#### Activity 5: The `update_scores()` Function^\n",
        "\n",
        "The `update_scores()` function should take the `predicted` and `player_input` values as inputs and should update the `player_scores` and the `computer_scores` by comparing the `predicted` value with the `player_input` value.\n",
        "\n",
        "- If the predicted value is same as the `player_input` value, increase the `computer_score` by `1`.\n",
        "\n",
        "- Else, increase the `player_score` by `1`.\n",
        "\n",
        "The predicted value is obtained from the `prediction()` function. Immediately after updating the scores, the `update_scores()` function must print the updated values stored in the `player_score` and `computer_score` variables.\n",
        "\n",
        "**Note:** To modify the value stored in a variable using a user-defined function, we need to declare that variable with the `global` keyword inside the function.\n",
        "\n",
        "In this case, we are going to modify the `player_score` and `computer_score` values using the `update_scores()` function. Hence, we need to add the `global player_score, computer_score` statement inside the function."
      ]
    },
    {
      "cell_type": "code",
      "metadata": {
        "id": "0kmauZcVVDEK"
      },
      "source": [
        "# Student Action: Create the 'update_scores()' function. It should take the 'predicted' and 'player_input' variables as inputs.\n",
        "# It should update the 'player_score' and 'computer_score' values and should print them. It should not return anything.\n",
        "def update_scores(player_input,predict):\n",
        "  global player_score,computer_score\n",
        "  if player_input==prediction:\n",
        "    computer_score=computer_score+1\n",
        "    print(\"player score = \",player_score)\n",
        "    print(\"computer score = \",computer_score)\n",
        "  else:\n",
        "    player_score=player_score+1\n",
        "    print(\"player score = \",player_score)\n",
        "    print(\"computer score = \",computer_score)"
      ],
      "execution_count": null,
      "outputs": []
    },
    {
      "cell_type": "markdown",
      "metadata": {
        "id": "akNKltPwWKgA"
      },
      "source": [
        "Let's test the above function by giving `0` as an input to the `update_counts()` and `update_scores()` functions and then printing the values stored in the `player_score` and `computer_scores` variables.\n",
        "\n",
        "Initially, `count_zero` value is the same as the `count_one` value. So, the `prediction()` function will predict `0` or `1` randomly. The `computer_score` value will be equal to `1` if the predicted value is same as the `player_input`, i.e. `0`. Else the `player_score` will be equal to `1`.\n",
        "\n",
        "The second time, if you again give `0` as another input, the `prediction()` function will return `0` as the predicted value because the `count_zero = 2` which is greater than `count_one` value.\n",
        "\n",
        "So, the `computer_score` value should be atleast `1`, i.e. either `1` or `2` after the second input."
      ]
    },
    {
      "cell_type": "code",
      "metadata": {
        "id": "kRXCln3jgpzU",
        "outputId": "a71f0242-8510-47d9-c0d6-12bc39231e04",
        "colab": {
          "base_uri": "https://localhost:8080/"
        }
      },
      "source": [
        "# Student Action: Get the predicted value from the 'prediction()' function and store it in the 'predicted' variable.\n",
        "# Then enter 0 as an input to the 'update_counts()' and 'update_scores()' functions twice.\n",
        "count_zero = 0\n",
        "count_one = 0\n",
        "\n",
        "player_score = 0\n",
        "computer_score = 0\n",
        "\n",
        "# First input.\n",
        "predict = prediction()\n",
        "update_counts(1)\n",
        "update_scores(0,predict)\n",
        "\n",
        "print() # This will add an emtpy line.\n",
        "\n",
        "# Second input.\n"
      ],
      "execution_count": null,
      "outputs": [
        {
          "output_type": "stream",
          "text": [
            "player score =  1\n",
            "computer score =  0\n",
            "\n"
          ],
          "name": "stdout"
        }
      ]
    },
    {
      "cell_type": "markdown",
      "metadata": {
        "id": "RNS0iVQ5g6z-"
      },
      "source": [
        "As you can see, after the second input, the `computer_score` value is at-least `1`. Run this code again and again to observe the behaviour.\n",
        "\n",
        "Now, let's create the `gameplay()` function."
      ]
    },
    {
      "cell_type": "markdown",
      "metadata": {
        "id": "SYoZZ9t7ufNC"
      },
      "source": [
        "---"
      ]
    },
    {
      "cell_type": "markdown",
      "metadata": {
        "id": "vXBQ-FmRhgAh"
      },
      "source": [
        "#### Activity 6: The `gameplay()` Function^^^\n",
        "\n",
        "The `gameplay()` function will run the game. Half of this function will be provided to you. The remaining half you will have to code.\n",
        "\n",
        "In this function, you have to code a few of the functional requirements. They are as follows:\n",
        "\n",
        "1. Get the predicted value using the `prediction()` function and store it in the `predicted` variable.\n",
        "\n",
        "2. Take input from a player using the `input()` function and store it in the `player_input` variable. Print `\"Enter either 0 or 1: \"` while taking the input.\n",
        "\n",
        "3. Convert the `player_input` value to an integer value.\n",
        "\n",
        "4. Update the values stored in the `count_zero` and `count_one` variables using the `update_counts()` function.\n",
        "\n",
        "5. Update the values stored in the `player_score` and `computer_score` variables using the `update_scores()` function."
      ]
    },
    {
      "cell_type": "code",
      "metadata": {
        "id": "_Ih-2w4qj-cq"
      },
      "source": [
        "# Student Action: Create the 'gameplay()' function.\n",
        "def gameplay():\n",
        "  valid_entries = ['0', '1']\n",
        "  while True:\n",
        "    # Get the predicted value and store it in the 'predicted' variable.\n",
        "    prdict=prediction()\n",
        "    # Take input from the player and store it in the 'player_input' variable.\n",
        "    player_input = i\n",
        "    while player_input not in valid_entries:\n",
        "      print(\"Invalid Input!\")\n",
        "      player_input = input(\"Please enter either 0 or 1: \")\n",
        "\n",
        "    # Convert the 'player_input' value to an integer value.\n",
        "    player_input=int(player_input)\n",
        "    # Update the 'count_zero' and 'count_one' values using the 'update_counts()' function.\n",
        "    update_counts(player_input)\n",
        "    update_scores(player_input,predict)\n",
        "    # Update the 'player_score' and 'computer_score' values using the 'update_scores()' function.\n",
        ""
      ],
      "execution_count": null,
      "outputs": []
    },
    {
      "cell_type": "markdown",
      "metadata": {
        "id": "SCNwvrfbkFNq"
      },
      "source": [
        "Now, test the game by putting everything together in one place."
      ]
    },
    {
      "cell_type": "markdown",
      "metadata": {
        "id": "0Zt0_-Wbkh5T"
      },
      "source": [
        "---"
      ]
    },
    {
      "cell_type": "markdown",
      "metadata": {
        "id": "APuw2qqzkWDz"
      },
      "source": [
        "#### Activity 7: Running The Game\n",
        "\n",
        "Let's run the game using the `gameplay()` function. We will run this game only until either the computer or the player has reached a score of `10`. Otherwise, the testing will take a very long time.\n",
        "\n",
        "You can replace `10` with `50` after testing the game."
      ]
    },
    {
      "cell_type": "code",
      "metadata": {
        "id": "QzObGx2Etry5",
        "outputId": "d9b61262-bcb6-4ef3-885c-3225638efe2d",
        "colab": {
          "base_uri": "https://localhost:8080/"
        }
      },
      "source": [
        "# Student Action: Run the game by calling the 'gameplay()' function at the end of the code cell.\n",
        "import random\n",
        "\n",
        "count_zero = 0\n",
        "count_one = 0\n",
        "\n",
        "player_score = 0\n",
        "computer_score = 0\n",
        "\n",
        "def prediction():\n",
        "  if count_zero > count_one:\n",
        "    predict = 0\n",
        "  elif count_one > count_zero:\n",
        "    predict = 1\n",
        "  else:\n",
        "    predict = random.randint(0, 1)\n",
        "\n",
        "  return predict\n",
        "\n",
        "def update_counts(player_input):\n",
        "  global count_zero, count_one\n",
        "  if player_input == 0:\n",
        "    count_zero = count_zero + 1\n",
        "  else:\n",
        "    count_one = count_one + 1\n",
        "\n",
        "def update_scores(predicted, player_input):\n",
        "  global player_score, computer_score\n",
        "  if predicted == player_input:\n",
        "    computer_score = computer_score + 1\n",
        "    print(\"Computer Score:\", computer_score)\n",
        "    print(\"Player Score:\", player_score)\n",
        "  else:\n",
        "    player_score = player_score + 1\n",
        "    print(\"Computer Score:\", computer_score)\n",
        "    print(\"Player Score:\", player_score)\n",
        "\n",
        "def gameplay():\n",
        "  valid_entries = ['0', '1']\n",
        "  while True:\n",
        "    # Get the predicted value and stored it in the 'predicted' variable.\n",
        "    predicted = prediction()\n",
        "    # Take input from the player and store it in the 'player_input' variable.\n",
        "    player_input = input(\"Enter either 0 or 1: \")\n",
        "    while player_input not in valid_entries:\n",
        "      print(\"Invalid Input!\")\n",
        "      player_input = input(\"Please enter either 0 or 1: \")\n",
        "\n",
        "    # Convert the 'player_input' value to an integer value.\n",
        "    player_input = int(player_input)\n",
        "\n",
        "    # Update the 'count_zero' and 'count_one' values using the 'update_counts()' function.\n",
        "    update_counts(player_input)\n",
        "\n",
        "    # Update the 'player_score' and 'computer_score' values using the 'update_scores()' function.\n",
        "    update_scores(predicted, player_input)\n",
        "\n",
        "    if player_score == 10:\n",
        "      print(\"Congrats, You Won!\")\n",
        "      break\n",
        "    elif computer_score == 10:\n",
        "      print(\"Bad Luck, You Lost!\")\n",
        "      break\n",
        "\n",
        "# Call the 'gameplay()' function to run the game.\n",
        "gameplay()11\n"
      ],
      "execution_count": null,
      "outputs": [
        {
          "output_type": "stream",
          "text": [
            "Computer Score: 0\n",
            "Player Score: 1\n",
            "Computer Score: 0\n",
            "Player Score: 2\n",
            "Computer Score: 0\n",
            "Player Score: 3\n",
            "Computer Score: 0\n",
            "Player Score: 4\n",
            "Computer Score: 0\n",
            "Player Score: 5\n",
            "Computer Score: 0\n",
            "Player Score: 6\n",
            "Computer Score: 1\n",
            "Player Score: 6\n",
            "Invalid Input!\n",
            "Computer Score: 2\n",
            "Player Score: 6\n",
            "Computer Score: 2\n",
            "Player Score: 7\n",
            "Computer Score: 3\n",
            "Player Score: 7\n",
            "Computer Score: 4\n",
            "Player Score: 7\n",
            "Computer Score: 5\n",
            "Player Score: 7\n"
          ],
          "name": "stdout"
        }
      ]
    },
    {
      "cell_type": "markdown",
      "metadata": {
        "id": "apcHWj3NvWUf"
      },
      "source": [
        "---"
      ]
    }
  ]
}