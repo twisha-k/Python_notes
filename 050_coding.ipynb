{
  "nbformat": 4,
  "nbformat_minor": 0,
  "metadata": {
    "colab": {
      "provenance": [],
      "include_colab_link": true
    },
    "kernelspec": {
      "name": "python3",
      "display_name": "Python 3"
    }
  },
  "cells": [
    {
      "cell_type": "markdown",
      "metadata": {
        "id": "view-in-github",
        "colab_type": "text"
      },
      "source": [
        "<a href=\"https://colab.research.google.com/github/twisha-k/Python_notes/blob/main/50_coding.ipynb\" target=\"_parent\"><img src=\"https://colab.research.google.com/assets/colab-badge.svg\" alt=\"Open In Colab\"/></a>"
      ]
    },
    {
      "cell_type": "markdown",
      "metadata": {
        "id": "Q7hw3pDcIn2J"
      },
      "source": [
        "# Lesson 50: CLT II And Standard Normal Distribution"
      ]
    },
    {
      "cell_type": "markdown",
      "metadata": {
        "id": "3U_BAlxOnVuh"
      },
      "source": [
        "### Teacher-Student Activities\n",
        "\n",
        "In this class, we will learn the following concepts:\n",
        "\n",
        "- How to calculate the population mean with 95% probability, using the sample mean and sample standard deviation.\n",
        "\n",
        "- Normalise an array/series of numeric values using the standard normalisation technique and plot a standard normal distribution curve.\n",
        "\n",
        "Let's quickly go through the activities covered in the previous class and begin this class from **Activity 1: Sampling Distribution And Standard Error**.\n"
      ]
    },
    {
      "cell_type": "markdown",
      "metadata": {
        "id": "Gn0HLG8mtLo-"
      },
      "source": [
        "---"
      ]
    },
    {
      "cell_type": "markdown",
      "metadata": {
        "id": "ze9uSJt-I-0E"
      },
      "source": [
        "**Data Description**\n",
        "\n",
        "The heart Disease UCI dataset contains data collected on 14 different attributes by examining 303 patients. The dataset focuses only on differentiating patients having heart disease; labelled as value 1 and those not having heart disease; labelled as value 0. The 14 attributes (or columns) are as follows:\n",
        "\n",
        "|Columns|Description|\n",
        "|-|-|\n",
        "|age|age in years|\n",
        "|sex|sex (1 = male; 0 = female)|\n",
        "|cp|chest pain type (4 values)|\n",
        "|trestbps|resting blood pressure (in mm Hg on admission to the hospital)|\n",
        "|chol|serum cholesterol in $\\frac{mg}{dl}$|\n",
        "|fbs|fasting blood sugar > 120 $\\frac{mg}{dl}$|\n",
        "|restecg|resting electrocardiographic results (values 0, 1, 2)|\n",
        "|thalach|maximum heart rate achieved|\n",
        "|exang|exercise induced angina (1 = yes; 0 = no)|\n",
        "|oldpeak|ST depression induced by exercise relative to rest|\n",
        "|slope|the slope of the peak exercise ST segment|\n",
        "|ca|number of major vessels (0-3) colored by fluoroscopy|\n",
        "|thal|A blood disorder called thalassemia|\n",
        "|target|1 = presence of heart disease; 0 = absence of heart disease|\n",
        "\n",
        "**Source:** https://archive.ics.uci.edu/ml/datasets/Heart+Disease\n",
        "\n",
        "\n"
      ]
    },
    {
      "cell_type": "markdown",
      "metadata": {
        "id": "BpKI2pWEtREK"
      },
      "source": [
        "---"
      ]
    },
    {
      "cell_type": "markdown",
      "metadata": {
        "id": "zvlK3lxPrnjT"
      },
      "source": [
        "#### Loading Data"
      ]
    },
    {
      "cell_type": "code",
      "metadata": {
        "id": "tmRB05lddS--",
        "colab": {
          "base_uri": "https://localhost:8080/",
          "height": 206
        },
        "outputId": "4b5820cd-9a80-4416-ba07-9fc3596bcffb"
      },
      "source": [
        "# Import the required modules and load the heart disease dataset. Also, display the first five rows.\n",
        "import numpy as np\n",
        "import pandas as pd\n",
        "import matplotlib.pyplot as plt\n",
        "import seaborn as sns\n",
        "\n",
        "csv_file = 'https://student-datasets-bucket.s3.ap-south-1.amazonaws.com/whitehat-ds-datasets/uci-heart-disease/heart.csv'\n",
        "df = pd.read_csv(csv_file)\n",
        "df.head()"
      ],
      "execution_count": null,
      "outputs": [
        {
          "output_type": "execute_result",
          "data": {
            "text/html": [
              "<div>\n",
              "<style scoped>\n",
              "    .dataframe tbody tr th:only-of-type {\n",
              "        vertical-align: middle;\n",
              "    }\n",
              "\n",
              "    .dataframe tbody tr th {\n",
              "        vertical-align: top;\n",
              "    }\n",
              "\n",
              "    .dataframe thead th {\n",
              "        text-align: right;\n",
              "    }\n",
              "</style>\n",
              "<table border=\"1\" class=\"dataframe\">\n",
              "  <thead>\n",
              "    <tr style=\"text-align: right;\">\n",
              "      <th></th>\n",
              "      <th>age</th>\n",
              "      <th>sex</th>\n",
              "      <th>cp</th>\n",
              "      <th>trestbps</th>\n",
              "      <th>chol</th>\n",
              "      <th>fbs</th>\n",
              "      <th>restecg</th>\n",
              "      <th>thalach</th>\n",
              "      <th>exang</th>\n",
              "      <th>oldpeak</th>\n",
              "      <th>slope</th>\n",
              "      <th>ca</th>\n",
              "      <th>thal</th>\n",
              "      <th>target</th>\n",
              "    </tr>\n",
              "  </thead>\n",
              "  <tbody>\n",
              "    <tr>\n",
              "      <th>0</th>\n",
              "      <td>63</td>\n",
              "      <td>1</td>\n",
              "      <td>3</td>\n",
              "      <td>145</td>\n",
              "      <td>233</td>\n",
              "      <td>1</td>\n",
              "      <td>0</td>\n",
              "      <td>150</td>\n",
              "      <td>0</td>\n",
              "      <td>2.3</td>\n",
              "      <td>0</td>\n",
              "      <td>0</td>\n",
              "      <td>1</td>\n",
              "      <td>1</td>\n",
              "    </tr>\n",
              "    <tr>\n",
              "      <th>1</th>\n",
              "      <td>37</td>\n",
              "      <td>1</td>\n",
              "      <td>2</td>\n",
              "      <td>130</td>\n",
              "      <td>250</td>\n",
              "      <td>0</td>\n",
              "      <td>1</td>\n",
              "      <td>187</td>\n",
              "      <td>0</td>\n",
              "      <td>3.5</td>\n",
              "      <td>0</td>\n",
              "      <td>0</td>\n",
              "      <td>2</td>\n",
              "      <td>1</td>\n",
              "    </tr>\n",
              "    <tr>\n",
              "      <th>2</th>\n",
              "      <td>41</td>\n",
              "      <td>0</td>\n",
              "      <td>1</td>\n",
              "      <td>130</td>\n",
              "      <td>204</td>\n",
              "      <td>0</td>\n",
              "      <td>0</td>\n",
              "      <td>172</td>\n",
              "      <td>0</td>\n",
              "      <td>1.4</td>\n",
              "      <td>2</td>\n",
              "      <td>0</td>\n",
              "      <td>2</td>\n",
              "      <td>1</td>\n",
              "    </tr>\n",
              "    <tr>\n",
              "      <th>3</th>\n",
              "      <td>56</td>\n",
              "      <td>1</td>\n",
              "      <td>1</td>\n",
              "      <td>120</td>\n",
              "      <td>236</td>\n",
              "      <td>0</td>\n",
              "      <td>1</td>\n",
              "      <td>178</td>\n",
              "      <td>0</td>\n",
              "      <td>0.8</td>\n",
              "      <td>2</td>\n",
              "      <td>0</td>\n",
              "      <td>2</td>\n",
              "      <td>1</td>\n",
              "    </tr>\n",
              "    <tr>\n",
              "      <th>4</th>\n",
              "      <td>57</td>\n",
              "      <td>0</td>\n",
              "      <td>0</td>\n",
              "      <td>120</td>\n",
              "      <td>354</td>\n",
              "      <td>0</td>\n",
              "      <td>1</td>\n",
              "      <td>163</td>\n",
              "      <td>1</td>\n",
              "      <td>0.6</td>\n",
              "      <td>2</td>\n",
              "      <td>0</td>\n",
              "      <td>2</td>\n",
              "      <td>1</td>\n",
              "    </tr>\n",
              "  </tbody>\n",
              "</table>\n",
              "</div>"
            ],
            "text/plain": [
              "   age  sex  cp  trestbps  chol  fbs  ...  exang  oldpeak  slope  ca  thal  target\n",
              "0   63    1   3       145   233    1  ...      0      2.3      0   0     1       1\n",
              "1   37    1   2       130   250    0  ...      0      3.5      0   0     2       1\n",
              "2   41    0   1       130   204    0  ...      0      1.4      2   0     2       1\n",
              "3   56    1   1       120   236    0  ...      0      0.8      2   0     2       1\n",
              "4   57    0   0       120   354    0  ...      1      0.6      2   0     2       1\n",
              "\n",
              "[5 rows x 14 columns]"
            ]
          },
          "metadata": {},
          "execution_count": 21
        }
      ]
    },
    {
      "cell_type": "markdown",
      "metadata": {
        "id": "h1a-clG-jqPr"
      },
      "source": [
        "Let's first look at the complete information on the `df` DataFrame."
      ]
    },
    {
      "cell_type": "code",
      "metadata": {
        "id": "M2x3F5XtkAGd",
        "colab": {
          "base_uri": "https://localhost:8080/"
        },
        "outputId": "abbd0592-a322-43b8-9a0e-ca8ad34e5a3e"
      },
      "source": [
        "# DataFrame information.\n",
        "df.info()"
      ],
      "execution_count": null,
      "outputs": [
        {
          "output_type": "stream",
          "name": "stdout",
          "text": [
            "<class 'pandas.core.frame.DataFrame'>\n",
            "RangeIndex: 303 entries, 0 to 302\n",
            "Data columns (total 14 columns):\n",
            " #   Column    Non-Null Count  Dtype  \n",
            "---  ------    --------------  -----  \n",
            " 0   age       303 non-null    int64  \n",
            " 1   sex       303 non-null    int64  \n",
            " 2   cp        303 non-null    int64  \n",
            " 3   trestbps  303 non-null    int64  \n",
            " 4   chol      303 non-null    int64  \n",
            " 5   fbs       303 non-null    int64  \n",
            " 6   restecg   303 non-null    int64  \n",
            " 7   thalach   303 non-null    int64  \n",
            " 8   exang     303 non-null    int64  \n",
            " 9   oldpeak   303 non-null    float64\n",
            " 10  slope     303 non-null    int64  \n",
            " 11  ca        303 non-null    int64  \n",
            " 12  thal      303 non-null    int64  \n",
            " 13  target    303 non-null    int64  \n",
            "dtypes: float64(1), int64(13)\n",
            "memory usage: 33.3 KB\n"
          ]
        }
      ]
    },
    {
      "cell_type": "markdown",
      "metadata": {
        "id": "f6cHtaNIxePz"
      },
      "source": [
        "---"
      ]
    },
    {
      "cell_type": "markdown",
      "metadata": {
        "id": "KY8RUpcogKCP"
      },
      "source": [
        "#### Activity 1: Sampling Distribution And Standard Error\n",
        "\n",
        "*If we take several samples of a dataset (or population) such that each sample contains sufficient number of observations, then the mean of all the sample means will be very close or nearly equal to the population mean*\n",
        "\n",
        "This is called **Central Limit Theorem (CLT)**.\n",
        "The distribution of sample means of a population is called a **sampling distribution.**\n",
        "\n",
        "\n",
        "The sampling distribution has the following three properties:\n",
        "\n",
        "1. The mean of a sampling distribution (denoted by $\\mu_\\bar{X}$) is equal to the population mean (denoted by $\\mu$). Hence,\n",
        "$$\\mu_\\bar{X} = \\mu$$\n",
        "2. The standard deviation (or **standard error**) in the sampling distribution (denotes as $\\text{SE}$) is the ratio of the sample standard deviation ($s$) to the square root of sample size. It is given as $\\text{SE} = \\frac{s}{\\sqrt{n}}$, where $n$ is the sample size.\n",
        "3. For $n \\ge 30$, the sampling distribution follows the normal distribution (bell curve).\n",
        "\n",
        "\n",
        "\n"
      ]
    },
    {
      "cell_type": "markdown",
      "metadata": {
        "id": "8ecokmLLoVNX"
      },
      "source": [
        "---"
      ]
    },
    {
      "cell_type": "markdown",
      "metadata": {
        "id": "CJmv539kn9nq"
      },
      "source": [
        "#### Activity 2: Population Mean Estimation Using CLT^\n",
        "\n",
        "Now using CLT, let's learn to compute the population mean using the sample mean and sample standard deviation.\n",
        "\n",
        "This concept will be helpful when we don't know the population mean. In this case, we can easily calculate the population mean and population standard deviation because we have the dataset for the population. But many times in the real world, we have the dataset for a small sample and using the sample mean and sample standard deviation we will have to find the population mean.\n",
        "\n",
        "To learn this concept, let's consider the population of the patients having heart disease.\n"
      ]
    },
    {
      "cell_type": "code",
      "metadata": {
        "id": "4NDc3zxyhB-z"
      },
      "source": [
        "# S2.1: Create a Pandas series containing cholesterol values for the patients having heart disease.\n",
        "chol_having_disease=df.loc[df['target']==1,'chol']\n"
      ],
      "execution_count": null,
      "outputs": []
    },
    {
      "cell_type": "markdown",
      "metadata": {
        "id": "wAnkyR_2yGl6"
      },
      "source": [
        "So there are 165 patients who have heart disease. Hence, in this case, our population dataset consists of 165 observations. Now, let's calculate the population mean and population standard deviation for this dataset."
      ]
    },
    {
      "cell_type": "code",
      "metadata": {
        "id": "-LwHx7dr6AcA",
        "colab": {
          "base_uri": "https://localhost:8080/"
        },
        "outputId": "325eee08-355d-4e4d-8dc4-3675c839c25e"
      },
      "source": [
        "# S2.2: Calculate population mean and population standard deviation for the patients having heart disease.\n",
        "print('pop_mean=',chol_having_disease.mean())\n",
        "print('pop_std=',chol_having_disease.std())"
      ],
      "execution_count": null,
      "outputs": [
        {
          "output_type": "stream",
          "name": "stdout",
          "text": [
            "pop_mean= 242.23030303030302\n",
            "pop_std= 53.55287155453835\n"
          ]
        }
      ]
    },
    {
      "cell_type": "code",
      "source": [
        "df"
      ],
      "metadata": {
        "colab": {
          "base_uri": "https://localhost:8080/",
          "height": 424
        },
        "id": "XKj6MJYyJagO",
        "outputId": "0e71313e-f279-4344-ea1c-c577247e0733"
      },
      "execution_count": null,
      "outputs": [
        {
          "output_type": "execute_result",
          "data": {
            "text/html": [
              "<div>\n",
              "<style scoped>\n",
              "    .dataframe tbody tr th:only-of-type {\n",
              "        vertical-align: middle;\n",
              "    }\n",
              "\n",
              "    .dataframe tbody tr th {\n",
              "        vertical-align: top;\n",
              "    }\n",
              "\n",
              "    .dataframe thead th {\n",
              "        text-align: right;\n",
              "    }\n",
              "</style>\n",
              "<table border=\"1\" class=\"dataframe\">\n",
              "  <thead>\n",
              "    <tr style=\"text-align: right;\">\n",
              "      <th></th>\n",
              "      <th>age</th>\n",
              "      <th>sex</th>\n",
              "      <th>cp</th>\n",
              "      <th>trestbps</th>\n",
              "      <th>chol</th>\n",
              "      <th>fbs</th>\n",
              "      <th>restecg</th>\n",
              "      <th>thalach</th>\n",
              "      <th>exang</th>\n",
              "      <th>oldpeak</th>\n",
              "      <th>slope</th>\n",
              "      <th>ca</th>\n",
              "      <th>thal</th>\n",
              "      <th>target</th>\n",
              "    </tr>\n",
              "  </thead>\n",
              "  <tbody>\n",
              "    <tr>\n",
              "      <th>0</th>\n",
              "      <td>63</td>\n",
              "      <td>1</td>\n",
              "      <td>3</td>\n",
              "      <td>145</td>\n",
              "      <td>233</td>\n",
              "      <td>1</td>\n",
              "      <td>0</td>\n",
              "      <td>150</td>\n",
              "      <td>0</td>\n",
              "      <td>2.3</td>\n",
              "      <td>0</td>\n",
              "      <td>0</td>\n",
              "      <td>1</td>\n",
              "      <td>1</td>\n",
              "    </tr>\n",
              "    <tr>\n",
              "      <th>1</th>\n",
              "      <td>37</td>\n",
              "      <td>1</td>\n",
              "      <td>2</td>\n",
              "      <td>130</td>\n",
              "      <td>250</td>\n",
              "      <td>0</td>\n",
              "      <td>1</td>\n",
              "      <td>187</td>\n",
              "      <td>0</td>\n",
              "      <td>3.5</td>\n",
              "      <td>0</td>\n",
              "      <td>0</td>\n",
              "      <td>2</td>\n",
              "      <td>1</td>\n",
              "    </tr>\n",
              "    <tr>\n",
              "      <th>2</th>\n",
              "      <td>41</td>\n",
              "      <td>0</td>\n",
              "      <td>1</td>\n",
              "      <td>130</td>\n",
              "      <td>204</td>\n",
              "      <td>0</td>\n",
              "      <td>0</td>\n",
              "      <td>172</td>\n",
              "      <td>0</td>\n",
              "      <td>1.4</td>\n",
              "      <td>2</td>\n",
              "      <td>0</td>\n",
              "      <td>2</td>\n",
              "      <td>1</td>\n",
              "    </tr>\n",
              "    <tr>\n",
              "      <th>3</th>\n",
              "      <td>56</td>\n",
              "      <td>1</td>\n",
              "      <td>1</td>\n",
              "      <td>120</td>\n",
              "      <td>236</td>\n",
              "      <td>0</td>\n",
              "      <td>1</td>\n",
              "      <td>178</td>\n",
              "      <td>0</td>\n",
              "      <td>0.8</td>\n",
              "      <td>2</td>\n",
              "      <td>0</td>\n",
              "      <td>2</td>\n",
              "      <td>1</td>\n",
              "    </tr>\n",
              "    <tr>\n",
              "      <th>4</th>\n",
              "      <td>57</td>\n",
              "      <td>0</td>\n",
              "      <td>0</td>\n",
              "      <td>120</td>\n",
              "      <td>354</td>\n",
              "      <td>0</td>\n",
              "      <td>1</td>\n",
              "      <td>163</td>\n",
              "      <td>1</td>\n",
              "      <td>0.6</td>\n",
              "      <td>2</td>\n",
              "      <td>0</td>\n",
              "      <td>2</td>\n",
              "      <td>1</td>\n",
              "    </tr>\n",
              "    <tr>\n",
              "      <th>...</th>\n",
              "      <td>...</td>\n",
              "      <td>...</td>\n",
              "      <td>...</td>\n",
              "      <td>...</td>\n",
              "      <td>...</td>\n",
              "      <td>...</td>\n",
              "      <td>...</td>\n",
              "      <td>...</td>\n",
              "      <td>...</td>\n",
              "      <td>...</td>\n",
              "      <td>...</td>\n",
              "      <td>...</td>\n",
              "      <td>...</td>\n",
              "      <td>...</td>\n",
              "    </tr>\n",
              "    <tr>\n",
              "      <th>298</th>\n",
              "      <td>57</td>\n",
              "      <td>0</td>\n",
              "      <td>0</td>\n",
              "      <td>140</td>\n",
              "      <td>241</td>\n",
              "      <td>0</td>\n",
              "      <td>1</td>\n",
              "      <td>123</td>\n",
              "      <td>1</td>\n",
              "      <td>0.2</td>\n",
              "      <td>1</td>\n",
              "      <td>0</td>\n",
              "      <td>3</td>\n",
              "      <td>0</td>\n",
              "    </tr>\n",
              "    <tr>\n",
              "      <th>299</th>\n",
              "      <td>45</td>\n",
              "      <td>1</td>\n",
              "      <td>3</td>\n",
              "      <td>110</td>\n",
              "      <td>264</td>\n",
              "      <td>0</td>\n",
              "      <td>1</td>\n",
              "      <td>132</td>\n",
              "      <td>0</td>\n",
              "      <td>1.2</td>\n",
              "      <td>1</td>\n",
              "      <td>0</td>\n",
              "      <td>3</td>\n",
              "      <td>0</td>\n",
              "    </tr>\n",
              "    <tr>\n",
              "      <th>300</th>\n",
              "      <td>68</td>\n",
              "      <td>1</td>\n",
              "      <td>0</td>\n",
              "      <td>144</td>\n",
              "      <td>193</td>\n",
              "      <td>1</td>\n",
              "      <td>1</td>\n",
              "      <td>141</td>\n",
              "      <td>0</td>\n",
              "      <td>3.4</td>\n",
              "      <td>1</td>\n",
              "      <td>2</td>\n",
              "      <td>3</td>\n",
              "      <td>0</td>\n",
              "    </tr>\n",
              "    <tr>\n",
              "      <th>301</th>\n",
              "      <td>57</td>\n",
              "      <td>1</td>\n",
              "      <td>0</td>\n",
              "      <td>130</td>\n",
              "      <td>131</td>\n",
              "      <td>0</td>\n",
              "      <td>1</td>\n",
              "      <td>115</td>\n",
              "      <td>1</td>\n",
              "      <td>1.2</td>\n",
              "      <td>1</td>\n",
              "      <td>1</td>\n",
              "      <td>3</td>\n",
              "      <td>0</td>\n",
              "    </tr>\n",
              "    <tr>\n",
              "      <th>302</th>\n",
              "      <td>57</td>\n",
              "      <td>0</td>\n",
              "      <td>1</td>\n",
              "      <td>130</td>\n",
              "      <td>236</td>\n",
              "      <td>0</td>\n",
              "      <td>0</td>\n",
              "      <td>174</td>\n",
              "      <td>0</td>\n",
              "      <td>0.0</td>\n",
              "      <td>1</td>\n",
              "      <td>1</td>\n",
              "      <td>2</td>\n",
              "      <td>0</td>\n",
              "    </tr>\n",
              "  </tbody>\n",
              "</table>\n",
              "<p>303 rows × 14 columns</p>\n",
              "</div>"
            ],
            "text/plain": [
              "     age  sex  cp  trestbps  chol  fbs  ...  exang  oldpeak  slope  ca  thal  target\n",
              "0     63    1   3       145   233    1  ...      0      2.3      0   0     1       1\n",
              "1     37    1   2       130   250    0  ...      0      3.5      0   0     2       1\n",
              "2     41    0   1       130   204    0  ...      0      1.4      2   0     2       1\n",
              "3     56    1   1       120   236    0  ...      0      0.8      2   0     2       1\n",
              "4     57    0   0       120   354    0  ...      1      0.6      2   0     2       1\n",
              "..   ...  ...  ..       ...   ...  ...  ...    ...      ...    ...  ..   ...     ...\n",
              "298   57    0   0       140   241    0  ...      1      0.2      1   0     3       0\n",
              "299   45    1   3       110   264    0  ...      0      1.2      1   0     3       0\n",
              "300   68    1   0       144   193    1  ...      0      3.4      1   2     3       0\n",
              "301   57    1   0       130   131    0  ...      1      1.2      1   1     3       0\n",
              "302   57    0   1       130   236    0  ...      0      0.0      1   1     2       0\n",
              "\n",
              "[303 rows x 14 columns]"
            ]
          },
          "metadata": {},
          "execution_count": 25
        }
      ]
    },
    {
      "cell_type": "markdown",
      "metadata": {
        "id": "X-z5U3eW_A8A"
      },
      "source": [
        "Now let's take a sample of (say 50) patients out of 165 patients having heart disease and compute the mean cholesterol level along with the standard deviation.\n",
        "\n",
        "**Note:** Choose a sample size of at least 30 so that the sampling distribution follows the normal distribution."
      ]
    },
    {
      "cell_type": "code",
      "metadata": {
        "id": "LBFi6lMh2uke",
        "colab": {
          "base_uri": "https://localhost:8080/"
        },
        "outputId": "6f416340-0ab5-462f-c7dc-9fb2f6ceee96"
      },
      "source": [
        "# S2.3: Create a sample of 50 patients out of 165 patients having heart disease.\n",
        "chol_disease_sample=chol_having_disease.sample(n=50)\n",
        "chol_disease_sample[:10]"
      ],
      "execution_count": null,
      "outputs": [
        {
          "output_type": "execute_result",
          "data": {
            "text/plain": [
              "80     250\n",
              "154    220\n",
              "103    240\n",
              "15     219\n",
              "72     204\n",
              "156    253\n",
              "49     234\n",
              "54     252\n",
              "110    325\n",
              "106    234\n",
              "Name: chol, dtype: int64"
            ]
          },
          "metadata": {},
          "execution_count": 26
        }
      ]
    },
    {
      "cell_type": "markdown",
      "metadata": {
        "id": "VqAXBnuf2oNw"
      },
      "source": [
        "Let's compute mean cholesterol level along with standard deviation for the sample of patients having heart disease."
      ]
    },
    {
      "cell_type": "code",
      "metadata": {
        "id": "pYkn8F1Kxz69",
        "colab": {
          "base_uri": "https://localhost:8080/"
        },
        "outputId": "2a8bf1bf-8b99-4a82-a06c-30a055bc2a8e"
      },
      "source": [
        "# S2.4: Compute mean cholesterol level along with standard deviation for the patients having heart disease.\n",
        "print('pop_sam_mean=',chol_disease_sample.mean())\n",
        "print('pop_sam_std=',chol_disease_sample.std())\n",
        "sample_std=chol_disease_sample.std()\n",
        "sample_mean=chol_disease_sample.mean()"
      ],
      "execution_count": null,
      "outputs": [
        {
          "output_type": "stream",
          "name": "stdout",
          "text": [
            "pop_sam_mean= 244.58\n",
            "pop_sam_std= 54.21540183304342\n"
          ]
        }
      ]
    },
    {
      "cell_type": "markdown",
      "metadata": {
        "id": "Yk9NsLVxyRv6"
      },
      "source": [
        "Now, using CLT, with 95% probability (or confidence), you can say that the population mean $\\mu$ of cholesterol level for the patients having heart disease will lie between $\\left(\\text{sample mean} - 2 \\times \\frac{\\text{sample standard deviation}}{\\sqrt{\\text{sample size}}}\\right)$ and $\\left(\\text{sample mean} + 2 \\times \\frac{\\text{sample standard deviation}}{\\sqrt{\\text{sample size}}}\\right)$\n",
        "\n",
        "**Recall Normal Distribution**\n",
        "\n",
        "1. Approx. 68% of the values lie within one-sigma interval around the mean.\n",
        "\n",
        "2. Approx. 95% of the values lie within a two-sigma interval around the mean.\n",
        "\n",
        "3. Approx. 99.7% of the values lie within a three-sigma interval around the mean.\n",
        "\n",
        "<img src = 'https://student-datasets-bucket.s3.ap-south-1.amazonaws.com/images/vecstock-norm-dist.jpg' width = 700>\n",
        "\n",
        "\n",
        "Now, with 95% probability (or confidence), calculate the population mean of cholesterol level for the patients having heart disease using the sample mean and sample standard deviation."
      ]
    },
    {
      "cell_type": "code",
      "metadata": {
        "id": "teGIVfaOjb7A",
        "colab": {
          "base_uri": "https://localhost:8080/"
        },
        "outputId": "f0116e13-2748-44c4-a994-f1c7671d511d"
      },
      "source": [
        "# S2.5: With 95% probability, calculate the population mean of cholesterol level using the sample mean and sample standard deviation.\n",
        "std_error = sample_std / np.sqrt(chol_disease_sample.size)\n",
        "sample_mean - 2 * std_error, sample_mean + 2 * std_error"
      ],
      "execution_count": null,
      "outputs": [
        {
          "output_type": "execute_result",
          "data": {
            "text/plain": [
              "(229.24556868764057, 259.91443131235945)"
            ]
          },
          "metadata": {},
          "execution_count": 28
        }
      ]
    },
    {
      "cell_type": "markdown",
      "metadata": {
        "id": "tKX_a6-B9WOP"
      },
      "source": [
        "So, with 95% probability (or confidence), the population mean $\\mu$ of cholesterol level for the patients having heart disease will fall in the above interval. In fact, the population mean is 242.23 which falls in the above interval.\n",
        "\n",
        "Similarly, using CLT, with 68% probability (or confidence), you can say that the population mean $\\mu$ of cholesterol level for the patients having heart disease will lie between $\\left(\\text{sample mean} - \\frac{\\text{sample standard deviation}}{\\sqrt{\\text{sample size}}}\\right)$ and $\\left(\\text{sample mean} + \\frac{\\text{sample standard deviation}}{\\sqrt{\\text{sample size}}}\\right)$\n",
        "\n",
        "\n",
        "Now, with 68% probability (or confidence), calculate the population mean of cholesterol level for the patients having heart disease using the sample mean and sample standard deviation."
      ]
    },
    {
      "cell_type": "code",
      "metadata": {
        "id": "oLUKWJc97MZf",
        "colab": {
          "base_uri": "https://localhost:8080/"
        },
        "outputId": "a9e0f36c-b734-41e1-db35-f780bd265247"
      },
      "source": [
        "# S2.6: Calculate the 68% confidence interval for the population mean of cholesterol level using the sample mean and standard error.\n",
        "sample_mean - 1 * std_error, sample_mean + 1 * std_error"
      ],
      "execution_count": null,
      "outputs": [
        {
          "output_type": "execute_result",
          "data": {
            "text/plain": [
              "(236.9127843438203, 252.24721565617972)"
            ]
          },
          "metadata": {},
          "execution_count": 29
        }
      ]
    },
    {
      "cell_type": "markdown",
      "metadata": {
        "id": "sfJVkSIJ7j7i"
      },
      "source": [
        "So, with 68% probability (or confidence), the population mean $\\mu$ of cholesterol level for the patients having heart disease will fall in the above interval. Since the probability is slightly lower, the population mean (which is 242.23 in this case) may or may not fall in the above interval.\n",
        "\n",
        "Now lastly, let's calculate the mean of cholesterol level for the patients not having heart disease to compare it with the average cholesterol level for the patients having heart disease."
      ]
    },
    {
      "cell_type": "code",
      "metadata": {
        "id": "2N7fhAGDLwRE"
      },
      "source": [
        "# S2.7: Calculate the population mean of the cholesterol level for the patients not having heart disease.\n",
        "chol_not_having_disease=df.loc[df['target']==0,'chol']"
      ],
      "execution_count": null,
      "outputs": []
    },
    {
      "cell_type": "markdown",
      "metadata": {
        "id": "LmZkSIW4lbV1"
      },
      "source": [
        "So on comparing only the means of cholesterol values, it is quite clear that on an average people having lower cholesterol levels are likely to have heart disease.\n",
        "\n",
        "You can also create a box plot to visualise the spread of the `chol` values in the case of patients having heart disease and not having heart disease."
      ]
    },
    {
      "cell_type": "code",
      "metadata": {
        "id": "dxBgJme_NEgw",
        "colab": {
          "base_uri": "https://localhost:8080/"
        },
        "outputId": "3a91c12a-6e2a-4439-c7cc-5731377eac7c"
      },
      "source": [
        "# S2.8: Create a box plot to compare the spread of means in the case of patients having heart disease and not having it.\n",
        "chol_not_having_disease.mean()\n"
      ],
      "execution_count": null,
      "outputs": [
        {
          "output_type": "execute_result",
          "data": {
            "text/plain": [
              "251.08695652173913"
            ]
          },
          "metadata": {},
          "execution_count": 37
        }
      ]
    },
    {
      "cell_type": "code",
      "source": [
        "import seaborn as sns\n",
        "plt.figure(figsize=(8,4))\n",
        "sns.boxplot(x=df.chol,y=df.target,orient='h')\n"
      ],
      "metadata": {
        "colab": {
          "base_uri": "https://localhost:8080/",
          "height": 296
        },
        "id": "9ZPQxEHUM6dP",
        "outputId": "580146a3-8a0e-4c90-d4ab-6f388505ee86"
      },
      "execution_count": null,
      "outputs": [
        {
          "output_type": "execute_result",
          "data": {
            "text/plain": [
              "<matplotlib.axes._subplots.AxesSubplot at 0x7f5596a96b90>"
            ]
          },
          "metadata": {},
          "execution_count": 39
        },
        {
          "output_type": "display_data",
          "data": {
            "image/png": "[encoded data removed]",
            "text/plain": [
              "<Figure size 576x288 with 1 Axes>"
            ]
          },
          "metadata": {
            "needs_background": "light"
          }
        }
      ]
    },
    {
      "cell_type": "markdown",
      "metadata": {
        "id": "nkVP2G1jPwdA"
      },
      "source": [
        "From the box plot, you can see that the first, second (or median) and third quartiles of the cholesterol values for the patients having heart disease (shown with the orange colour) are lower as compared to the ones for the patients not having it (shown with the blue colour). Hence, we can confidently say that people having lower cholesterol levels are more likely to have heart disease."
      ]
    },
    {
      "cell_type": "markdown",
      "metadata": {
        "id": "I0XiVy43oHJy"
      },
      "source": [
        "---"
      ]
    },
    {
      "cell_type": "markdown",
      "metadata": {
        "id": "AXBc5OBVZc_E"
      },
      "source": [
        "#### Activity 3: Standard Normalisation (or Scaling)^^\n",
        "\n",
        "Now let's learn the concept of standard normalisation which is another normalisation technique to reduce the size of the numeric values. When you normalise an array/series of values using the standard normalisation technique, the mean of all the normalised values will be 0 and the standard deviation will be 1.\n",
        "\n",
        "Let's normalise all the `chol` values to understand this concept. To do this, you need to calculate  $Z$-score for each value. It is given by the following expression:\n",
        "\n",
        "$$Z = \\frac{X - \\mu}{\\sigma}$$\n",
        "\n",
        "where\n",
        "\n",
        "- $X$ is an observation\n",
        "\n",
        "- $\\mu$ is the population mean\n",
        "\n",
        "- $\\sigma$ is the population standard deviation\n"
      ]
    },
    {
      "cell_type": "code",
      "metadata": {
        "id": "rsl2hOUXcusP"
      },
      "source": [
        "# S3.1 Calculate the z-score for the first observation in the 'chol_having_disease' Pandas series.\n",
        "(chol_having_disease[0]-chol_having_disease.mean())/chol_having_disease.std()"
      ],
      "execution_count": null,
      "outputs": []
    },
    {
      "cell_type": "markdown",
      "metadata": {
        "id": "wvDSIzFWd68a"
      },
      "source": [
        "Let's create a function to calculate the $Z$-score for each value in the `chol_having_disease` series."
      ]
    },
    {
      "cell_type": "code",
      "metadata": {
        "id": "99yEHaEUh7eq",
        "colab": {
          "base_uri": "https://localhost:8080/"
        },
        "outputId": "35112af1-d125-4c3f-c942-185e215bd719"
      },
      "source": [
        "# S3.2: Calculate the Z-score for all the values in the 'chol_having_disease' Pandas series.\n",
        "def get_zscore(array):\n",
        "    zscore = (array - array.mean()) / np.std(array)\n",
        "    return zscore\n",
        "\n",
        "chol_having_disease_zscores = get_zscore(chol_having_disease)\n",
        "chol_having_disease_zscores"
      ],
      "execution_count": null,
      "outputs": [
        {
          "output_type": "execute_result",
          "data": {
            "text/plain": [
              "0     -0.172883\n",
              "1      0.145526\n",
              "2     -0.716053\n",
              "3     -0.116693\n",
              "4      2.093444\n",
              "         ...   \n",
              "160   -0.041774\n",
              "161    1.868684\n",
              "162   -1.596362\n",
              "163   -1.259222\n",
              "164   -1.259222\n",
              "Name: chol, Length: 165, dtype: float64"
            ]
          },
          "metadata": {},
          "execution_count": 41
        }
      ]
    },
    {
      "cell_type": "markdown",
      "metadata": {
        "id": "J3y8bE4FenwB"
      },
      "source": [
        "Now let's calculate the mean and standard deviation of all the $Z$-scores. The mean value should be 0 and the standard deviation should be 1."
      ]
    },
    {
      "cell_type": "code",
      "metadata": {
        "id": "mcG_inwFaFKJ",
        "colab": {
          "base_uri": "https://localhost:8080/"
        },
        "outputId": "510712ef-0e8b-42fe-c2c8-33465f15c0e9"
      },
      "source": [
        "# S3.3: Calculate the mean and standard deviation of all the Z-scores.\n",
        "print('chol_disease_zscore_mean=',chol_having_disease_zscores.mean())\n",
        "print('chol_disease_zscore_std=',chol_having_disease_zscores.std())"
      ],
      "execution_count": null,
      "outputs": [
        {
          "output_type": "stream",
          "name": "stdout",
          "text": [
            "chol_disease_zscore_mean= 1.803271336966921e-16\n",
            "chol_disease_zscore_std= 1.0030441470721063\n"
          ]
        }
      ]
    },
    {
      "cell_type": "markdown",
      "metadata": {
        "id": "FLSUsxtEfa0E"
      },
      "source": [
        "The process of calculating the $Z$-score for all the observations in an array/series is called **standard normalisation** or **standard scaling**.\n",
        "\n",
        "*Remember that the mean and standard deviation of the standard normalised values will be always 0 and 1 respectively.*"
      ]
    },
    {
      "cell_type": "markdown",
      "metadata": {
        "id": "mwlmPZa0ZcGQ"
      },
      "source": [
        "---"
      ]
    },
    {
      "cell_type": "markdown",
      "metadata": {
        "id": "ktMqpzEWkMKO"
      },
      "source": [
        "#### Activity 4: Standard Normal Distribution^^^\n",
        "\n",
        "After normalising the values in an array/sereies (that follows normal distribution), if you plot it again, you will get a normal distribution as shown in the image below.\n",
        "\n",
        "<img src='https://student-datasets-bucket.s3.ap-south-1.amazonaws.com/images/standard-normal-distribution.png' width = 800>\n",
        "\n",
        "The values on the $x$-axis can be represented with their corresponding $Z$-scores.\n",
        "\n",
        "In the case of standard normal distribution,\n",
        "\n",
        "- $\\mu = 0$ therefore, $Z = 0$ and\n",
        "\n",
        "- $\\sigma = 1$ therefore, $Z = 1$\n",
        "\n",
        "So\n",
        "\n",
        "- $\\mu - \\sigma = -1 \\Rightarrow Z = -1$\n",
        "\n",
        "- $\\mu - 2\\sigma = -2 \\Rightarrow Z = -2$\n",
        "\n",
        "- $\\mu - 3\\sigma = -3 \\Rightarrow Z = -3$\n",
        "\n",
        "- $\\mu + \\sigma = 1 \\Rightarrow Z = 1$\n",
        "\n",
        "- $\\mu + 2\\sigma = 2 \\Rightarrow Z = 2$\n",
        "\n",
        "- $\\mu + 3\\sigma = 3 \\Rightarrow Z = 3$\n",
        "\n",
        "\n",
        "\n",
        "\n",
        "Let's, calculate the $Z$-score for all the values in the `chol_not_having_disease` Pandas series and then plot its probability distribution without histogram."
      ]
    },
    {
      "cell_type": "code",
      "metadata": {
        "id": "FxoHjz6KsHNb",
        "colab": {
          "base_uri": "https://localhost:8080/"
        },
        "outputId": "1454a7f2-d323-4be9-c932-fea74b79dee8"
      },
      "source": [
        "# S4.1: Calculate the Z-score for all the values in the 'chol_not_having_disease' Pandas series and plot its probability distribution.\n",
        "chol_not_having_disease_zscores = get_zscore(chol_not_having_disease)\n",
        "chol_not_having_disease_zscores"
      ],
      "execution_count": null,
      "outputs": [
        {
          "output_type": "execute_result",
          "data": {
            "text/plain": [
              "165    0.708533\n",
              "166   -0.448238\n",
              "167    0.343237\n",
              "168    0.059118\n",
              "169   -0.975887\n",
              "         ...   \n",
              "298   -0.204707\n",
              "299    0.262060\n",
              "300   -1.178830\n",
              "301   -2.437072\n",
              "302   -0.306178\n",
              "Name: chol, Length: 138, dtype: float64"
            ]
          },
          "metadata": {},
          "execution_count": 43
        }
      ]
    },
    {
      "cell_type": "code",
      "source": [
        "plt.figure(figsize=(14,4),dpi=95)\n",
        "sns.distplot(chol_not_having_disease_zscores,hist=False,bins='sturges')\n",
        "plt.axvline(x=chol_not_having_disease_zscores.mean())\n",
        "plt.show()"
      ],
      "metadata": {
        "colab": {
          "base_uri": "https://localhost:8080/",
          "height": 417
        },
        "id": "vL4i7a_sRW3b",
        "outputId": "0d44bc0a-0fd7-4aea-e6f1-fa00372c4af8"
      },
      "execution_count": null,
      "outputs": [
        {
          "output_type": "stream",
          "name": "stderr",
          "text": [
            "/usr/local/lib/python3.7/dist-packages/seaborn/distributions.py:2619: FutureWarning: `distplot` is a deprecated function and will be removed in a future version. Please adapt your code to use either `displot` (a figure-level function with similar flexibility) or `kdeplot` (an axes-level function for kernel density plots).\n",
            "  warnings.warn(msg, FutureWarning)\n"
          ]
        },
        {
          "output_type": "display_data",
          "data": {
            "image/png": "[encoded data removed]",
            "text/plain": [
              "<Figure size 1330x380 with 1 Axes>"
            ]
          },
          "metadata": {
            "needs_background": "light"
          }
        }
      ]
    },
    {
      "cell_type": "markdown",
      "metadata": {
        "id": "HtgyLs0SYdKi"
      },
      "source": [
        "Since the `chol_not_having_disease` follows normal distribution, its normalised version, i.e., `chol_no_disease_zscores` also follows normal distribution.\n",
        "\n",
        "Let's stop here. In the next class, we will learn to calculate probability of a continuous random variable using $Z$-score and cumulative distribution function."
      ]
    },
    {
      "cell_type": "markdown",
      "metadata": {
        "id": "BY4GdquPkK5h"
      },
      "source": [
        "---"
      ]
    }
  ]
}
