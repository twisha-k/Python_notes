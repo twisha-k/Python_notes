{
  "nbformat": 4,
  "nbformat_minor": 0,
  "metadata": {
    "colab": {
      "provenance": [],
      "include_colab_link": true
    },
    "kernelspec": {
      "name": "python3",
      "display_name": "Python 3"
    },
    "language_info": {
      "name": "python"
    }
  },
  "cells": [
    {
      "cell_type": "markdown",
      "metadata": {
        "id": "view-in-github",
        "colab_type": "text"
      },
      "source": [
        "<a href=\"https://colab.research.google.com/github/twisha-k/Python_notes/blob/main/108_coding.ipynb\" target=\"_parent\"><img src=\"https://colab.research.google.com/assets/colab-badge.svg\" alt=\"Open In Colab\"/></a>"
      ]
    },
    {
      "cell_type": "markdown",
      "metadata": {
        "id": "b_RIOW8yUrd0"
      },
      "source": [
        "#Lesson 108: K-Means Clustering - Elbow Method and Silhouette Score"
      ]
    },
    {
      "cell_type": "markdown",
      "metadata": {
        "id": "kk7HmTyEn348"
      },
      "source": [
        "---"
      ]
    },
    {
      "cell_type": "markdown",
      "metadata": {
        "id": "EL8AB1d5_zeX"
      },
      "source": [
        "### Teacher-Student Activities\n",
        "\n",
        "In the previous class, we explored K-means clustering - our first unsupervised learning algorithm. We learned how to cluster one-dimensional and two-dimensional dataset by implementing K-Means algorithm using `sklearn` library.\n",
        "\n",
        "In this class, we will implement K-Means algorithm on **Mall Customers** dataset. We will create clusters of customers based on their age, income and spending. Also, we will learn different techniques to determine optimal number of clusters for  clustering.\n",
        "\n",
        "Let us first understand the problem statement that we will solve today using K-Means clustering."
      ]
    },
    {
      "cell_type": "markdown",
      "metadata": {
        "id": "KPgOQQlKEUm7"
      },
      "source": [
        "---"
      ]
    },
    {
      "cell_type": "markdown",
      "metadata": {
        "id": "-p09fhvwzkaN"
      },
      "source": [
        "#### Problem Statement\n",
        "\n",
        "You own a marketing company and working on formulating marketing strategies for a mall based on the customers spending patterns.\n",
        "\n",
        "The mall has provided the consumer dataset comprising of details for 200 customers with following attributes:\n",
        "\n",
        "|Attribute| Description\n",
        "|-|-|\n",
        "|CustomerID|Unique ID assigned to the customer|\n",
        "|Genre|Gender of the customer|\n",
        "| Age | Customer's  Age in years |\n",
        "| Annual Income (k$)| Customer's annual income in multiples of thousands (USD) |\n",
        "| Spending Score (1-100)| Score assigned by the mall based on customer behavior and spending nature (1-100) |\n",
        "\n",
        "Your job is to segregate customers in different groups or clusters, so that different marketing strategies can be devised for different groups.\n",
        "\n",
        "\n",
        "**Dataset Source:** https://www.kaggle.com/shwetabh123/mall-customers"
      ]
    },
    {
      "cell_type": "markdown",
      "metadata": {
        "id": "xz8bPUzc4kZt"
      },
      "source": [
        "---"
      ]
    },
    {
      "cell_type": "markdown",
      "metadata": {
        "id": "ssNK8b5j4lTc"
      },
      "source": [
        "#### Activity 1: Importing Modules and Reading Data\n",
        "\n",
        "Let's import the necessary Python modules, read the data from a csv file to create a Pandas DataFrame and go through the necessary data-cleaning process (if required).\n",
        "\n",
        "Here is the link to the dataset:\n",
        "https://s3-student-datasets-bucket.whjr.online/whitehat-ds-datasets/Mall_Customers.csv\n"
      ]
    },
    {
      "cell_type": "code",
      "metadata": {
        "id": "fjwnqUSX5Yno",
        "colab": {
          "base_uri": "https://localhost:8080/",
          "height": 206
        },
        "outputId": "1fc7bbd8-525d-45cd-9092-72d3e824b72a"
      },
      "source": [
        "# S1.1: Import the modules, read the dataset and create a Pandas DataFrame.\n",
        "import numpy as np\n",
        "import pandas as pd\n",
        "import seaborn as sns\n",
        "import matplotlib.pyplot as plt\n",
        "\n",
        "mall_df = pd.read_csv(\"https://s3-student-datasets-bucket.whjr.online/whitehat-ds-datasets/Mall_Customers.csv\")\n",
        "\n",
        "# Print the first five records\n",
        "mall_df.head()"
      ],
      "execution_count": null,
      "outputs": [
        {
          "output_type": "execute_result",
          "data": {
            "text/plain": [
              "   CustomerID   Genre  Age  Annual Income (k$)  Spending Score (1-100)\n",
              "0           1    Male   19                  15                      39\n",
              "1           2    Male   21                  15                      81\n",
              "2           3  Female   20                  16                       6\n",
              "3           4  Female   23                  16                      77\n",
              "4           5  Female   31                  17                      40"
            ],
            "text/html": [
              "\n",
              "  <div id=\"df-ce8d7e81-9436-4b21-90e7-1a21547980d1\">\n",
              "    <div class=\"colab-df-container\">\n",
              "      <div>\n",
              "<style scoped>\n",
              "    .dataframe tbody tr th:only-of-type {\n",
              "        vertical-align: middle;\n",
              "    }\n",
              "\n",
              "    .dataframe tbody tr th {\n",
              "        vertical-align: top;\n",
              "    }\n",
              "\n",
              "    .dataframe thead th {\n",
              "        text-align: right;\n",
              "    }\n",
              "</style>\n",
              "<table border=\"1\" class=\"dataframe\">\n",
              "  <thead>\n",
              "    <tr style=\"text-align: right;\">\n",
              "      <th></th>\n",
              "      <th>CustomerID</th>\n",
              "      <th>Genre</th>\n",
              "      <th>Age</th>\n",
              "      <th>Annual Income (k$)</th>\n",
              "      <th>Spending Score (1-100)</th>\n",
              "    </tr>\n",
              "  </thead>\n",
              "  <tbody>\n",
              "    <tr>\n",
              "      <th>0</th>\n",
              "      <td>1</td>\n",
              "      <td>Male</td>\n",
              "      <td>19</td>\n",
              "      <td>15</td>\n",
              "      <td>39</td>\n",
              "    </tr>\n",
              "    <tr>\n",
              "      <th>1</th>\n",
              "      <td>2</td>\n",
              "      <td>Male</td>\n",
              "      <td>21</td>\n",
              "      <td>15</td>\n",
              "      <td>81</td>\n",
              "    </tr>\n",
              "    <tr>\n",
              "      <th>2</th>\n",
              "      <td>3</td>\n",
              "      <td>Female</td>\n",
              "      <td>20</td>\n",
              "      <td>16</td>\n",
              "      <td>6</td>\n",
              "    </tr>\n",
              "    <tr>\n",
              "      <th>3</th>\n",
              "      <td>4</td>\n",
              "      <td>Female</td>\n",
              "      <td>23</td>\n",
              "      <td>16</td>\n",
              "      <td>77</td>\n",
              "    </tr>\n",
              "    <tr>\n",
              "      <th>4</th>\n",
              "      <td>5</td>\n",
              "      <td>Female</td>\n",
              "      <td>31</td>\n",
              "      <td>17</td>\n",
              "      <td>40</td>\n",
              "    </tr>\n",
              "  </tbody>\n",
              "</table>\n",
              "</div>\n",
              "      <button class=\"colab-df-convert\" onclick=\"convertToInteractive('df-ce8d7e81-9436-4b21-90e7-1a21547980d1')\"\n",
              "              title=\"Convert this dataframe to an interactive table.\"\n",
              "              style=\"display:none;\">\n",
              "        \n",
              "  <svg xmlns=\"http://www.w3.org/2000/svg\" height=\"24px\"viewBox=\"0 0 24 24\"\n",
              "       width=\"24px\">\n",
              "    <path d=\"M0 0h24v24H0V0z\" fill=\"none\"/>\n",
              "    <path d=\"M18.56 5.44l.94 2.06.94-2.06 2.06-.94-2.06-.94-.94-2.06-.94 2.06-2.06.94zm-11 1L8.5 8.5l.94-2.06 2.06-.94-2.06-.94L8.5 2.5l-.94 2.06-2.06.94zm10 10l.94 2.06.94-2.06 2.06-.94-2.06-.94-.94-2.06-.94 2.06-2.06.94z\"/><path d=\"M17.41 7.96l-1.37-1.37c-.4-.4-.92-.59-1.43-.59-.52 0-1.04.2-1.43.59L10.3 9.45l-7.72 7.72c-.78.78-.78 2.05 0 2.83L4 21.41c.39.39.9.59 1.41.59.51 0 1.02-.2 1.41-.59l7.78-7.78 2.81-2.81c.8-.78.8-2.07 0-2.86zM5.41 20L4 18.59l7.72-7.72 1.47 1.35L5.41 20z\"/>\n",
              "  </svg>\n",
              "      </button>\n",
              "      \n",
              "  <style>\n",
              "    .colab-df-container {\n",
              "      display:flex;\n",
              "      flex-wrap:wrap;\n",
              "      gap: 12px;\n",
              "    }\n",
              "\n",
              "    .colab-df-convert {\n",
              "      background-color: #E8F0FE;\n",
              "      border: none;\n",
              "      border-radius: 50%;\n",
              "      cursor: pointer;\n",
              "      display: none;\n",
              "      fill: #1967D2;\n",
              "      height: 32px;\n",
              "      padding: 0 0 0 0;\n",
              "      width: 32px;\n",
              "    }\n",
              "\n",
              "    .colab-df-convert:hover {\n",
              "      background-color: #E2EBFA;\n",
              "      box-shadow: 0px 1px 2px rgba(60, 64, 67, 0.3), 0px 1px 3px 1px rgba(60, 64, 67, 0.15);\n",
              "      fill: #174EA6;\n",
              "    }\n",
              "\n",
              "    [theme=dark] .colab-df-convert {\n",
              "      background-color: #3B4455;\n",
              "      fill: #D2E3FC;\n",
              "    }\n",
              "\n",
              "    [theme=dark] .colab-df-convert:hover {\n",
              "      background-color: #434B5C;\n",
              "      box-shadow: 0px 1px 3px 1px rgba(0, 0, 0, 0.15);\n",
              "      filter: drop-shadow(0px 1px 2px rgba(0, 0, 0, 0.3));\n",
              "      fill: #FFFFFF;\n",
              "    }\n",
              "  </style>\n",
              "\n",
              "      <script>\n",
              "        const buttonEl =\n",
              "          document.querySelector('#df-ce8d7e81-9436-4b21-90e7-1a21547980d1 button.colab-df-convert');\n",
              "        buttonEl.style.display =\n",
              "          google.colab.kernel.accessAllowed ? 'block' : 'none';\n",
              "\n",
              "        async function convertToInteractive(key) {\n",
              "          const element = document.querySelector('#df-ce8d7e81-9436-4b21-90e7-1a21547980d1');\n",
              "          const dataTable =\n",
              "            await google.colab.kernel.invokeFunction('convertToInteractive',\n",
              "                                                     [key], {});\n",
              "          if (!dataTable) return;\n",
              "\n",
              "          const docLinkHtml = 'Like what you see? Visit the ' +\n",
              "            '<a target=\"_blank\" href=https://colab.research.google.com/notebooks/data_table.ipynb>data table notebook</a>'\n",
              "            + ' to learn more about interactive tables.';\n",
              "          element.innerHTML = '';\n",
              "          dataTable['output_type'] = 'display_data';\n",
              "          await google.colab.output.renderOutput(dataTable, element);\n",
              "          const docLink = document.createElement('div');\n",
              "          docLink.innerHTML = docLinkHtml;\n",
              "          element.appendChild(docLink);\n",
              "        }\n",
              "      </script>\n",
              "    </div>\n",
              "  </div>\n",
              "  "
            ]
          },
          "metadata": {},
          "execution_count": 1
        }
      ]
    },
    {
      "cell_type": "markdown",
      "metadata": {
        "id": "YFroMUd65vYo"
      },
      "source": [
        "Now, let's find out the total number of rows and columns, data-types of columns and missing values (if exist) in the dataset."
      ]
    },
    {
      "cell_type": "code",
      "metadata": {
        "id": "PXvVa0Kb5nhO",
        "colab": {
          "base_uri": "https://localhost:8080/"
        },
        "outputId": "d14b9eb9-da7a-499c-ddf9-844376b1c43b"
      },
      "source": [
        "# S1.2: Get the total number of rows and columns, data-types of columns and missing values (if exist) in the dataset.\n",
        "mall_df.info()"
      ],
      "execution_count": null,
      "outputs": [
        {
          "output_type": "stream",
          "name": "stdout",
          "text": [
            "<class 'pandas.core.frame.DataFrame'>\n",
            "RangeIndex: 200 entries, 0 to 199\n",
            "Data columns (total 5 columns):\n",
            " #   Column                  Non-Null Count  Dtype \n",
            "---  ------                  --------------  ----- \n",
            " 0   CustomerID              200 non-null    int64 \n",
            " 1   Genre                   200 non-null    object\n",
            " 2   Age                     200 non-null    int64 \n",
            " 3   Annual Income (k$)      200 non-null    int64 \n",
            " 4   Spending Score (1-100)  200 non-null    int64 \n",
            "dtypes: int64(4), object(1)\n",
            "memory usage: 7.9+ KB\n"
          ]
        }
      ]
    },
    {
      "cell_type": "markdown",
      "metadata": {
        "id": "tTBK5Jnx5-t2"
      },
      "source": [
        "There are 200 rows and 5 columns and 0 missing (or null) values in the dataset.\n",
        "\n",
        "We will rename the following columns for convenience:\n",
        "- `Genre` to `Gender`.\n",
        "- `Annual Income (k$)` to `Annual Income`.\n",
        "- `Spending Score (1-100)` to `Spending Score`.\n",
        "\n"
      ]
    },
    {
      "cell_type": "code",
      "metadata": {
        "id": "RsV67XYF7ogl",
        "colab": {
          "base_uri": "https://localhost:8080/",
          "height": 206
        },
        "outputId": "6c2238d7-6258-4f9f-e287-3b21433e84a1"
      },
      "source": [
        "# S1.3: Rename 'Genre' to 'Gender', 'Annual Income (k$)' to 'Annual Income' and 'Spending Score (1-100)' to 'Spending Score'.\n",
        "mall_df.rename(columns = {\"Genre\": \"Gender\"}, inplace = True)\n",
        "mall_df.rename(columns = {\"Annual Income (k$)\": \"Annual Income\"}, inplace = True)\n",
        "mall_df.rename(columns = {\"Spending Score (1-100)\": \"Spending Score\"}, inplace = True)\n",
        "\n",
        "# Again print the first five records.\n",
        "mall_df.head()"
      ],
      "execution_count": null,
      "outputs": [
        {
          "output_type": "execute_result",
          "data": {
            "text/plain": [
              "   CustomerID  Gender  Age  Annual Income  Spending Score\n",
              "0           1    Male   19             15              39\n",
              "1           2    Male   21             15              81\n",
              "2           3  Female   20             16               6\n",
              "3           4  Female   23             16              77\n",
              "4           5  Female   31             17              40"
            ],
            "text/html": [
              "\n",
              "  <div id=\"df-b4f1341c-1a46-4c1c-990b-e83a4f1f22bf\">\n",
              "    <div class=\"colab-df-container\">\n",
              "      <div>\n",
              "<style scoped>\n",
              "    .dataframe tbody tr th:only-of-type {\n",
              "        vertical-align: middle;\n",
              "    }\n",
              "\n",
              "    .dataframe tbody tr th {\n",
              "        vertical-align: top;\n",
              "    }\n",
              "\n",
              "    .dataframe thead th {\n",
              "        text-align: right;\n",
              "    }\n",
              "</style>\n",
              "<table border=\"1\" class=\"dataframe\">\n",
              "  <thead>\n",
              "    <tr style=\"text-align: right;\">\n",
              "      <th></th>\n",
              "      <th>CustomerID</th>\n",
              "      <th>Gender</th>\n",
              "      <th>Age</th>\n",
              "      <th>Annual Income</th>\n",
              "      <th>Spending Score</th>\n",
              "    </tr>\n",
              "  </thead>\n",
              "  <tbody>\n",
              "    <tr>\n",
              "      <th>0</th>\n",
              "      <td>1</td>\n",
              "      <td>Male</td>\n",
              "      <td>19</td>\n",
              "      <td>15</td>\n",
              "      <td>39</td>\n",
              "    </tr>\n",
              "    <tr>\n",
              "      <th>1</th>\n",
              "      <td>2</td>\n",
              "      <td>Male</td>\n",
              "      <td>21</td>\n",
              "      <td>15</td>\n",
              "      <td>81</td>\n",
              "    </tr>\n",
              "    <tr>\n",
              "      <th>2</th>\n",
              "      <td>3</td>\n",
              "      <td>Female</td>\n",
              "      <td>20</td>\n",
              "      <td>16</td>\n",
              "      <td>6</td>\n",
              "    </tr>\n",
              "    <tr>\n",
              "      <th>3</th>\n",
              "      <td>4</td>\n",
              "      <td>Female</td>\n",
              "      <td>23</td>\n",
              "      <td>16</td>\n",
              "      <td>77</td>\n",
              "    </tr>\n",
              "    <tr>\n",
              "      <th>4</th>\n",
              "      <td>5</td>\n",
              "      <td>Female</td>\n",
              "      <td>31</td>\n",
              "      <td>17</td>\n",
              "      <td>40</td>\n",
              "    </tr>\n",
              "  </tbody>\n",
              "</table>\n",
              "</div>\n",
              "      <button class=\"colab-df-convert\" onclick=\"convertToInteractive('df-b4f1341c-1a46-4c1c-990b-e83a4f1f22bf')\"\n",
              "              title=\"Convert this dataframe to an interactive table.\"\n",
              "              style=\"display:none;\">\n",
              "        \n",
              "  <svg xmlns=\"http://www.w3.org/2000/svg\" height=\"24px\"viewBox=\"0 0 24 24\"\n",
              "       width=\"24px\">\n",
              "    <path d=\"M0 0h24v24H0V0z\" fill=\"none\"/>\n",
              "    <path d=\"M18.56 5.44l.94 2.06.94-2.06 2.06-.94-2.06-.94-.94-2.06-.94 2.06-2.06.94zm-11 1L8.5 8.5l.94-2.06 2.06-.94-2.06-.94L8.5 2.5l-.94 2.06-2.06.94zm10 10l.94 2.06.94-2.06 2.06-.94-2.06-.94-.94-2.06-.94 2.06-2.06.94z\"/><path d=\"M17.41 7.96l-1.37-1.37c-.4-.4-.92-.59-1.43-.59-.52 0-1.04.2-1.43.59L10.3 9.45l-7.72 7.72c-.78.78-.78 2.05 0 2.83L4 21.41c.39.39.9.59 1.41.59.51 0 1.02-.2 1.41-.59l7.78-7.78 2.81-2.81c.8-.78.8-2.07 0-2.86zM5.41 20L4 18.59l7.72-7.72 1.47 1.35L5.41 20z\"/>\n",
              "  </svg>\n",
              "      </button>\n",
              "      \n",
              "  <style>\n",
              "    .colab-df-container {\n",
              "      display:flex;\n",
              "      flex-wrap:wrap;\n",
              "      gap: 12px;\n",
              "    }\n",
              "\n",
              "    .colab-df-convert {\n",
              "      background-color: #E8F0FE;\n",
              "      border: none;\n",
              "      border-radius: 50%;\n",
              "      cursor: pointer;\n",
              "      display: none;\n",
              "      fill: #1967D2;\n",
              "      height: 32px;\n",
              "      padding: 0 0 0 0;\n",
              "      width: 32px;\n",
              "    }\n",
              "\n",
              "    .colab-df-convert:hover {\n",
              "      background-color: #E2EBFA;\n",
              "      box-shadow: 0px 1px 2px rgba(60, 64, 67, 0.3), 0px 1px 3px 1px rgba(60, 64, 67, 0.15);\n",
              "      fill: #174EA6;\n",
              "    }\n",
              "\n",
              "    [theme=dark] .colab-df-convert {\n",
              "      background-color: #3B4455;\n",
              "      fill: #D2E3FC;\n",
              "    }\n",
              "\n",
              "    [theme=dark] .colab-df-convert:hover {\n",
              "      background-color: #434B5C;\n",
              "      box-shadow: 0px 1px 3px 1px rgba(0, 0, 0, 0.15);\n",
              "      filter: drop-shadow(0px 1px 2px rgba(0, 0, 0, 0.3));\n",
              "      fill: #FFFFFF;\n",
              "    }\n",
              "  </style>\n",
              "\n",
              "      <script>\n",
              "        const buttonEl =\n",
              "          document.querySelector('#df-b4f1341c-1a46-4c1c-990b-e83a4f1f22bf button.colab-df-convert');\n",
              "        buttonEl.style.display =\n",
              "          google.colab.kernel.accessAllowed ? 'block' : 'none';\n",
              "\n",
              "        async function convertToInteractive(key) {\n",
              "          const element = document.querySelector('#df-b4f1341c-1a46-4c1c-990b-e83a4f1f22bf');\n",
              "          const dataTable =\n",
              "            await google.colab.kernel.invokeFunction('convertToInteractive',\n",
              "                                                     [key], {});\n",
              "          if (!dataTable) return;\n",
              "\n",
              "          const docLinkHtml = 'Like what you see? Visit the ' +\n",
              "            '<a target=\"_blank\" href=https://colab.research.google.com/notebooks/data_table.ipynb>data table notebook</a>'\n",
              "            + ' to learn more about interactive tables.';\n",
              "          element.innerHTML = '';\n",
              "          dataTable['output_type'] = 'display_data';\n",
              "          await google.colab.output.renderOutput(dataTable, element);\n",
              "          const docLink = document.createElement('div');\n",
              "          docLink.innerHTML = docLinkHtml;\n",
              "          element.appendChild(docLink);\n",
              "        }\n",
              "      </script>\n",
              "    </div>\n",
              "  </div>\n",
              "  "
            ]
          },
          "metadata": {},
          "execution_count": 4
        }
      ]
    },
    {
      "cell_type": "markdown",
      "metadata": {
        "id": "oCC36w1r-4Fc"
      },
      "source": [
        "We can see that the columns have been renamed.\n",
        "\n",
        "Let us now implement K-means clustering based on two features `Annual Income` and `Spending Score`.\n",
        "\n",
        "\n"
      ]
    },
    {
      "cell_type": "markdown",
      "metadata": {
        "id": "uslmt6DT_VZ_"
      },
      "source": [
        "---"
      ]
    },
    {
      "cell_type": "markdown",
      "metadata": {
        "id": "9drYQ8YAtcxY"
      },
      "source": [
        "####Activity 2: Clustering based on Two Features\n",
        "\n",
        "Let's first create a subset of our dataset consisting of only two columns i.e `Annual Income` and `Spending Score`.\n",
        "\n"
      ]
    },
    {
      "cell_type": "code",
      "metadata": {
        "id": "zKydj_zBENy0",
        "colab": {
          "base_uri": "https://localhost:8080/",
          "height": 206
        },
        "outputId": "061d93f8-42ca-42c6-ede8-aa7956bdfdfd"
      },
      "source": [
        "# S2.1: Create a new dataframe consisting of two columns 'Annual Income' and 'Spending Score'\n",
        "data_2d=mall_df[['Annual Income','Spending Score']]\n",
        "\n",
        "# Print first 5 rows of this new dataframe.\n",
        "data_2d.head()"
      ],
      "execution_count": null,
      "outputs": [
        {
          "output_type": "execute_result",
          "data": {
            "text/plain": [
              "   Annual Income  Spending Score\n",
              "0             15              39\n",
              "1             15              81\n",
              "2             16               6\n",
              "3             16              77\n",
              "4             17              40"
            ],
            "text/html": [
              "\n",
              "  <div id=\"df-8dc22bd7-a650-4906-a9b1-6db5a366f913\">\n",
              "    <div class=\"colab-df-container\">\n",
              "      <div>\n",
              "<style scoped>\n",
              "    .dataframe tbody tr th:only-of-type {\n",
              "        vertical-align: middle;\n",
              "    }\n",
              "\n",
              "    .dataframe tbody tr th {\n",
              "        vertical-align: top;\n",
              "    }\n",
              "\n",
              "    .dataframe thead th {\n",
              "        text-align: right;\n",
              "    }\n",
              "</style>\n",
              "<table border=\"1\" class=\"dataframe\">\n",
              "  <thead>\n",
              "    <tr style=\"text-align: right;\">\n",
              "      <th></th>\n",
              "      <th>Annual Income</th>\n",
              "      <th>Spending Score</th>\n",
              "    </tr>\n",
              "  </thead>\n",
              "  <tbody>\n",
              "    <tr>\n",
              "      <th>0</th>\n",
              "      <td>15</td>\n",
              "      <td>39</td>\n",
              "    </tr>\n",
              "    <tr>\n",
              "      <th>1</th>\n",
              "      <td>15</td>\n",
              "      <td>81</td>\n",
              "    </tr>\n",
              "    <tr>\n",
              "      <th>2</th>\n",
              "      <td>16</td>\n",
              "      <td>6</td>\n",
              "    </tr>\n",
              "    <tr>\n",
              "      <th>3</th>\n",
              "      <td>16</td>\n",
              "      <td>77</td>\n",
              "    </tr>\n",
              "    <tr>\n",
              "      <th>4</th>\n",
              "      <td>17</td>\n",
              "      <td>40</td>\n",
              "    </tr>\n",
              "  </tbody>\n",
              "</table>\n",
              "</div>\n",
              "      <button class=\"colab-df-convert\" onclick=\"convertToInteractive('df-8dc22bd7-a650-4906-a9b1-6db5a366f913')\"\n",
              "              title=\"Convert this dataframe to an interactive table.\"\n",
              "              style=\"display:none;\">\n",
              "        \n",
              "  <svg xmlns=\"http://www.w3.org/2000/svg\" height=\"24px\"viewBox=\"0 0 24 24\"\n",
              "       width=\"24px\">\n",
              "    <path d=\"M0 0h24v24H0V0z\" fill=\"none\"/>\n",
              "    <path d=\"M18.56 5.44l.94 2.06.94-2.06 2.06-.94-2.06-.94-.94-2.06-.94 2.06-2.06.94zm-11 1L8.5 8.5l.94-2.06 2.06-.94-2.06-.94L8.5 2.5l-.94 2.06-2.06.94zm10 10l.94 2.06.94-2.06 2.06-.94-2.06-.94-.94-2.06-.94 2.06-2.06.94z\"/><path d=\"M17.41 7.96l-1.37-1.37c-.4-.4-.92-.59-1.43-.59-.52 0-1.04.2-1.43.59L10.3 9.45l-7.72 7.72c-.78.78-.78 2.05 0 2.83L4 21.41c.39.39.9.59 1.41.59.51 0 1.02-.2 1.41-.59l7.78-7.78 2.81-2.81c.8-.78.8-2.07 0-2.86zM5.41 20L4 18.59l7.72-7.72 1.47 1.35L5.41 20z\"/>\n",
              "  </svg>\n",
              "      </button>\n",
              "      \n",
              "  <style>\n",
              "    .colab-df-container {\n",
              "      display:flex;\n",
              "      flex-wrap:wrap;\n",
              "      gap: 12px;\n",
              "    }\n",
              "\n",
              "    .colab-df-convert {\n",
              "      background-color: #E8F0FE;\n",
              "      border: none;\n",
              "      border-radius: 50%;\n",
              "      cursor: pointer;\n",
              "      display: none;\n",
              "      fill: #1967D2;\n",
              "      height: 32px;\n",
              "      padding: 0 0 0 0;\n",
              "      width: 32px;\n",
              "    }\n",
              "\n",
              "    .colab-df-convert:hover {\n",
              "      background-color: #E2EBFA;\n",
              "      box-shadow: 0px 1px 2px rgba(60, 64, 67, 0.3), 0px 1px 3px 1px rgba(60, 64, 67, 0.15);\n",
              "      fill: #174EA6;\n",
              "    }\n",
              "\n",
              "    [theme=dark] .colab-df-convert {\n",
              "      background-color: #3B4455;\n",
              "      fill: #D2E3FC;\n",
              "    }\n",
              "\n",
              "    [theme=dark] .colab-df-convert:hover {\n",
              "      background-color: #434B5C;\n",
              "      box-shadow: 0px 1px 3px 1px rgba(0, 0, 0, 0.15);\n",
              "      filter: drop-shadow(0px 1px 2px rgba(0, 0, 0, 0.3));\n",
              "      fill: #FFFFFF;\n",
              "    }\n",
              "  </style>\n",
              "\n",
              "      <script>\n",
              "        const buttonEl =\n",
              "          document.querySelector('#df-8dc22bd7-a650-4906-a9b1-6db5a366f913 button.colab-df-convert');\n",
              "        buttonEl.style.display =\n",
              "          google.colab.kernel.accessAllowed ? 'block' : 'none';\n",
              "\n",
              "        async function convertToInteractive(key) {\n",
              "          const element = document.querySelector('#df-8dc22bd7-a650-4906-a9b1-6db5a366f913');\n",
              "          const dataTable =\n",
              "            await google.colab.kernel.invokeFunction('convertToInteractive',\n",
              "                                                     [key], {});\n",
              "          if (!dataTable) return;\n",
              "\n",
              "          const docLinkHtml = 'Like what you see? Visit the ' +\n",
              "            '<a target=\"_blank\" href=https://colab.research.google.com/notebooks/data_table.ipynb>data table notebook</a>'\n",
              "            + ' to learn more about interactive tables.';\n",
              "          element.innerHTML = '';\n",
              "          dataTable['output_type'] = 'display_data';\n",
              "          await google.colab.output.renderOutput(dataTable, element);\n",
              "          const docLink = document.createElement('div');\n",
              "          docLink.innerHTML = docLinkHtml;\n",
              "          element.appendChild(docLink);\n",
              "        }\n",
              "      </script>\n",
              "    </div>\n",
              "  </div>\n",
              "  "
            ]
          },
          "metadata": {},
          "execution_count": 5
        }
      ]
    },
    {
      "cell_type": "markdown",
      "metadata": {
        "id": "YprphVZ4E40R"
      },
      "source": [
        "Next, create a scatter plot to visualise the distribution for `Annual Income` vs `Spending Score`."
      ]
    },
    {
      "cell_type": "code",
      "metadata": {
        "id": "ovMT6luMFJ8K",
        "colab": {
          "base_uri": "https://localhost:8080/",
          "height": 357
        },
        "outputId": "6ed817a2-9969-469c-fc3a-6f0a5af922c4"
      },
      "source": [
        "# S2.2: Create a scatter plot with 'Annual Income' on X-axis and 'Spending Score' on Y-axis.\n",
        "plt.figure(figsize = (14,5))\n",
        "plt.scatter(data_2d['Annual Income'], data_2d['Spending Score'])\n",
        "plt.title('Annual Income vs Spending Score')\n",
        "plt.xlabel('Annual Income')\n",
        "plt.ylabel('Spending Score')\n",
        "plt.show()"
      ],
      "execution_count": null,
      "outputs": [
        {
          "output_type": "display_data",
          "data": {
            "text/plain": [
              "<Figure size 1400x500 with 1 Axes>"
            ],
            "image/png": "[encoded data removed]"
          },
          "metadata": {}
        }
      ]
    },
    {
      "cell_type": "markdown",
      "metadata": {
        "id": "3b9uN4u-GCrk"
      },
      "source": [
        "From the above scatter plot, we can anticipate a possibility of having 5 clusters. So for now, assume number of clusters i.e `K` to be `5`. In the upcoming section, we will discuss methods used to determine this `K` value.\n",
        "\n",
        "\n",
        "Let us now determine the clusters for our 2D dataset using the steps given below:\n",
        "\n",
        "1. Import `KMeans` class from `sklearn.clusters` module.\n",
        "\n",
        "2. Create an object (say `kmeans_2d`) of the `KMeans` constructor and provide following inputs:\n",
        "\n",
        " - `n_clusters = 5`:    \n",
        " - `random_state = 10`\n",
        "\n",
        "- Call the `fit()` function using the object of  `KMeans` class and pass the subset dataframe `data_2d` as input.\n",
        "\n",
        "- Get the predicted clusters for the data points by calling the `predict()` function on `kmeans_2d` and pass the `data_2d` dataframe.\n",
        "\n",
        "- Print the labels obtained after using `predict()` function."
      ]
    },
    {
      "cell_type": "code",
      "metadata": {
        "id": "c_uJYVQCJG-c",
        "colab": {
          "base_uri": "https://localhost:8080/"
        },
        "outputId": "20098b86-c568-4a0d-bf54-42b242f896cb"
      },
      "source": [
        "# S2.3: Determine the clusters for 2D dataset.\n",
        "from sklearn.cluster import KMeans\n",
        "kmeans_2d = KMeans(n_clusters = 5, random_state = 10)\n",
        "kmeans_2d.fit(data_2d)\n",
        "labels_2d = kmeans_2d.predict(data_2d)\n",
        "print(labels_2d)"
      ],
      "execution_count": null,
      "outputs": [
        {
          "output_type": "stream",
          "name": "stdout",
          "text": [
            "[3 0 3 0 3 0 3 0 3 0 3 0 3 0 3 0 3 0 3 0 3 0 3 0 3 0 3 0 3 0 3 0 3 0 3 0 3\n",
            " 0 3 0 3 0 3 1 3 0 1 1 1 1 1 1 1 1 1 1 1 1 1 1 1 1 1 1 1 1 1 1 1 1 1 1 1 1\n",
            " 1 1 1 1 1 1 1 1 1 1 1 1 1 1 1 1 1 1 1 1 1 1 1 1 1 1 1 1 1 1 1 1 1 1 1 1 1\n",
            " 1 1 1 1 1 1 1 1 1 1 1 1 2 4 2 1 2 4 2 4 2 1 2 4 2 4 2 4 2 4 2 1 2 4 2 4 2\n",
            " 4 2 4 2 4 2 4 2 4 2 4 2 4 2 4 2 4 2 4 2 4 2 4 2 4 2 4 2 4 2 4 2 4 2 4 2 4\n",
            " 2 4 2 4 2 4 2 4 2 4 2 4 2 4 2]\n"
          ]
        },
        {
          "output_type": "stream",
          "name": "stderr",
          "text": [
            "/usr/local/lib/python3.10/dist-packages/sklearn/cluster/_kmeans.py:870: FutureWarning: The default value of `n_init` will change from 10 to 'auto' in 1.4. Set the value of `n_init` explicitly to suppress the warning\n",
            "  warnings.warn(\n"
          ]
        }
      ]
    },
    {
      "cell_type": "markdown",
      "metadata": {
        "id": "FqlGKOHJJsdw"
      },
      "source": [
        "As you can see in the output, our 2D data is divided into 5 clusters labelled from `0` to `4`.\n",
        "\n",
        "Let us add these predicted labels as a new column to our subset dataframe `data_2d`."
      ]
    },
    {
      "cell_type": "code",
      "metadata": {
        "id": "Ya9bR-JHOtrD",
        "colab": {
          "base_uri": "https://localhost:8080/",
          "height": 206
        },
        "outputId": "dc0a679e-364f-4868-eab2-c1bb926f4cb3"
      },
      "source": [
        "# S2.4: Add the predicted labels to a column named 'Label'\n",
        "import warnings\n",
        "warnings.filterwarnings(\"ignore\")\n",
        "\n",
        "data_2d['Label'] = labels_2d\n",
        "data_2d.head()"
      ],
      "execution_count": null,
      "outputs": [
        {
          "output_type": "execute_result",
          "data": {
            "text/plain": [
              "   Annual Income  Spending Score  Label\n",
              "0             15              39      3\n",
              "1             15              81      0\n",
              "2             16               6      3\n",
              "3             16              77      0\n",
              "4             17              40      3"
            ],
            "text/html": [
              "\n",
              "  <div id=\"df-39ae0394-7eab-4d99-a4de-1a5e50555dca\">\n",
              "    <div class=\"colab-df-container\">\n",
              "      <div>\n",
              "<style scoped>\n",
              "    .dataframe tbody tr th:only-of-type {\n",
              "        vertical-align: middle;\n",
              "    }\n",
              "\n",
              "    .dataframe tbody tr th {\n",
              "        vertical-align: top;\n",
              "    }\n",
              "\n",
              "    .dataframe thead th {\n",
              "        text-align: right;\n",
              "    }\n",
              "</style>\n",
              "<table border=\"1\" class=\"dataframe\">\n",
              "  <thead>\n",
              "    <tr style=\"text-align: right;\">\n",
              "      <th></th>\n",
              "      <th>Annual Income</th>\n",
              "      <th>Spending Score</th>\n",
              "      <th>Label</th>\n",
              "    </tr>\n",
              "  </thead>\n",
              "  <tbody>\n",
              "    <tr>\n",
              "      <th>0</th>\n",
              "      <td>15</td>\n",
              "      <td>39</td>\n",
              "      <td>3</td>\n",
              "    </tr>\n",
              "    <tr>\n",
              "      <th>1</th>\n",
              "      <td>15</td>\n",
              "      <td>81</td>\n",
              "      <td>0</td>\n",
              "    </tr>\n",
              "    <tr>\n",
              "      <th>2</th>\n",
              "      <td>16</td>\n",
              "      <td>6</td>\n",
              "      <td>3</td>\n",
              "    </tr>\n",
              "    <tr>\n",
              "      <th>3</th>\n",
              "      <td>16</td>\n",
              "      <td>77</td>\n",
              "      <td>0</td>\n",
              "    </tr>\n",
              "    <tr>\n",
              "      <th>4</th>\n",
              "      <td>17</td>\n",
              "      <td>40</td>\n",
              "      <td>3</td>\n",
              "    </tr>\n",
              "  </tbody>\n",
              "</table>\n",
              "</div>\n",
              "      <button class=\"colab-df-convert\" onclick=\"convertToInteractive('df-39ae0394-7eab-4d99-a4de-1a5e50555dca')\"\n",
              "              title=\"Convert this dataframe to an interactive table.\"\n",
              "              style=\"display:none;\">\n",
              "        \n",
              "  <svg xmlns=\"http://www.w3.org/2000/svg\" height=\"24px\"viewBox=\"0 0 24 24\"\n",
              "       width=\"24px\">\n",
              "    <path d=\"M0 0h24v24H0V0z\" fill=\"none\"/>\n",
              "    <path d=\"M18.56 5.44l.94 2.06.94-2.06 2.06-.94-2.06-.94-.94-2.06-.94 2.06-2.06.94zm-11 1L8.5 8.5l.94-2.06 2.06-.94-2.06-.94L8.5 2.5l-.94 2.06-2.06.94zm10 10l.94 2.06.94-2.06 2.06-.94-2.06-.94-.94-2.06-.94 2.06-2.06.94z\"/><path d=\"M17.41 7.96l-1.37-1.37c-.4-.4-.92-.59-1.43-.59-.52 0-1.04.2-1.43.59L10.3 9.45l-7.72 7.72c-.78.78-.78 2.05 0 2.83L4 21.41c.39.39.9.59 1.41.59.51 0 1.02-.2 1.41-.59l7.78-7.78 2.81-2.81c.8-.78.8-2.07 0-2.86zM5.41 20L4 18.59l7.72-7.72 1.47 1.35L5.41 20z\"/>\n",
              "  </svg>\n",
              "      </button>\n",
              "      \n",
              "  <style>\n",
              "    .colab-df-container {\n",
              "      display:flex;\n",
              "      flex-wrap:wrap;\n",
              "      gap: 12px;\n",
              "    }\n",
              "\n",
              "    .colab-df-convert {\n",
              "      background-color: #E8F0FE;\n",
              "      border: none;\n",
              "      border-radius: 50%;\n",
              "      cursor: pointer;\n",
              "      display: none;\n",
              "      fill: #1967D2;\n",
              "      height: 32px;\n",
              "      padding: 0 0 0 0;\n",
              "      width: 32px;\n",
              "    }\n",
              "\n",
              "    .colab-df-convert:hover {\n",
              "      background-color: #E2EBFA;\n",
              "      box-shadow: 0px 1px 2px rgba(60, 64, 67, 0.3), 0px 1px 3px 1px rgba(60, 64, 67, 0.15);\n",
              "      fill: #174EA6;\n",
              "    }\n",
              "\n",
              "    [theme=dark] .colab-df-convert {\n",
              "      background-color: #3B4455;\n",
              "      fill: #D2E3FC;\n",
              "    }\n",
              "\n",
              "    [theme=dark] .colab-df-convert:hover {\n",
              "      background-color: #434B5C;\n",
              "      box-shadow: 0px 1px 3px 1px rgba(0, 0, 0, 0.15);\n",
              "      filter: drop-shadow(0px 1px 2px rgba(0, 0, 0, 0.3));\n",
              "      fill: #FFFFFF;\n",
              "    }\n",
              "  </style>\n",
              "\n",
              "      <script>\n",
              "        const buttonEl =\n",
              "          document.querySelector('#df-39ae0394-7eab-4d99-a4de-1a5e50555dca button.colab-df-convert');\n",
              "        buttonEl.style.display =\n",
              "          google.colab.kernel.accessAllowed ? 'block' : 'none';\n",
              "\n",
              "        async function convertToInteractive(key) {\n",
              "          const element = document.querySelector('#df-39ae0394-7eab-4d99-a4de-1a5e50555dca');\n",
              "          const dataTable =\n",
              "            await google.colab.kernel.invokeFunction('convertToInteractive',\n",
              "                                                     [key], {});\n",
              "          if (!dataTable) return;\n",
              "\n",
              "          const docLinkHtml = 'Like what you see? Visit the ' +\n",
              "            '<a target=\"_blank\" href=https://colab.research.google.com/notebooks/data_table.ipynb>data table notebook</a>'\n",
              "            + ' to learn more about interactive tables.';\n",
              "          element.innerHTML = '';\n",
              "          dataTable['output_type'] = 'display_data';\n",
              "          await google.colab.output.renderOutput(dataTable, element);\n",
              "          const docLink = document.createElement('div');\n",
              "          docLink.innerHTML = docLinkHtml;\n",
              "          element.appendChild(docLink);\n",
              "        }\n",
              "      </script>\n",
              "    </div>\n",
              "  </div>\n",
              "  "
            ]
          },
          "metadata": {},
          "execution_count": 8
        }
      ]
    },
    {
      "cell_type": "markdown",
      "metadata": {
        "id": "l9vy76boKaJU"
      },
      "source": [
        "As the cluster of each data point is now obtained, let's display those clusters using `plt.scatter()` function again, but this one using the values of `labels_2d` to colour-code the clusters.\n",
        "\n",
        "Also plot the cluster centers or centroids of these 5 clusters. Recall that the centroids can be obtained using `cluster_centers_` attribute.\n",
        "\n"
      ]
    },
    {
      "cell_type": "code",
      "metadata": {
        "id": "msfMAJooLy7n",
        "colab": {
          "base_uri": "https://localhost:8080/",
          "height": 357
        },
        "outputId": "fb11f037-1600-42d1-d58a-a164d1611c5a"
      },
      "source": [
        "# S2.5: Plot the datapoints corresponding to clusters\n",
        "plt.figure(figsize = (14,5))\n",
        "plt.scatter(data_2d['Annual Income'], data_2d['Spending Score'],c= labels_2d)\n",
        "plt.title('Annual Income vs Spending Score')\n",
        "plt.xlabel('Annual Income')\n",
        "plt.ylabel('Spending Score')\n",
        "plt.scatter(kmeans_2d.cluster_centers_[:, 0],\n",
        "            kmeans_2d.cluster_centers_[:, 1],\n",
        "            marker = 'x', c = 'black', s = 75)\n",
        "plt.show()"
      ],
      "execution_count": null,
      "outputs": [
        {
          "output_type": "display_data",
          "data": {
            "text/plain": [
              "<Figure size 1400x500 with 1 Axes>"
            ],
            "image/png": "[encoded data removed]"
          },
          "metadata": {}
        }
      ]
    },
    {
      "cell_type": "markdown",
      "metadata": {
        "id": "xnNs-b93NxI_"
      },
      "source": [
        "In the above plot, observe the 5 clusters having different colours with their centroids.\n",
        "\n",
        "You can also give your desired colour to the clusters in the following way:\n",
        "\n",
        "1. Create a dictionary `color_dict`, where keys of this dictionary will be the predicted labels (in our case, it is `0` to `4`) and the values will be the desired colour for each label.\n",
        "  ```python\n",
        "  color_dict = {0: 'red', 1: 'blue', 2: 'green', 3: 'yellow', 4: 'magenta'}\n",
        "  ```\n",
        "\n",
        "2. Create an empty list `color_list`.\n",
        "\n",
        "3. Initiate a `for` loop which iterates for every `label` in `labels_2d`. Pass the current `label` as key to `color_dict` dictionary. This will return the corresponding value of that key i.e the colour from the `color_dict` dictionary. Append this colour to the `color_list` list.\n",
        "\n",
        "4. Plot the scatter plot again as plotted in the above code cell, but this time the value of `c` attribute of `plt.scatter()` will be `color_list` obtained after the `for` loop."
      ]
    },
    {
      "cell_type": "code",
      "metadata": {
        "id": "KJTjKNVdSGuh",
        "colab": {
          "base_uri": "https://localhost:8080/",
          "height": 357
        },
        "outputId": "19ed46a1-e8e2-4f42-aa0e-d359056cc5ec"
      },
      "source": [
        "# S2.6: Give desired colors to the clusters\n",
        "\n",
        "color_dict = {0: 'red', 1: 'blue', 2: 'green', 3: 'yellow', 4: 'magenta'}\n",
        "\n",
        "# Determine the colour for each predicted label using the dictionary.\n",
        "# Store an empty list in a variable 'color_list'.\n",
        "color_list = []\n",
        "# Iterate through the labels in 'labels_2d' using a 'for' loop\n",
        "for label in labels_2d:\n",
        "  # Append the color for the label in 'color_dict' to the 'color_list'\n",
        "  color_list.append(color_dict[label])\n",
        "\n",
        "# Plot the 2D dataset with the desired colours for clusters.\n",
        "plt.figure(figsize = (14, 5))\n",
        "plt.scatter(data_2d['Annual Income'], data_2d['Spending Score'], c = color_list)\n",
        "plt.scatter(kmeans_2d.cluster_centers_[:, 0], kmeans_2d.cluster_centers_[:, 1], marker = 'x', c ='black', s=75)\n",
        "plt.title('Annual Income vs Spending Score')\n",
        "plt.xlabel('Annual Income')\n",
        "plt.ylabel('Spending Score')\n",
        "plt.show()\n"
      ],
      "execution_count": null,
      "outputs": [
        {
          "output_type": "display_data",
          "data": {
            "text/plain": [
              "<Figure size 1400x500 with 1 Axes>"
            ],
            "image/png": "[encoded data removed]"
          },
          "metadata": {}
        }
      ]
    },
    {
      "cell_type": "markdown",
      "metadata": {
        "id": "fYxsRaNxNxF8"
      },
      "source": [
        "From the above scatter plot and based on the values of `color_dict` dictionary, we can say that:\n",
        "- Label `0` cluster is in <font color=red>red</font> colour.\n",
        "- Label `1` cluster is in <font color=blue>blue</font> colour.\n",
        "- Label `2` cluster is in <font color=green>green</font> colour.\n",
        "- Label `3` cluster is in <mark>yellow</mark> colour.\n",
        "- Label `4` cluster is in <font color=magenta>magenta</font> colour.\n",
        "\n",
        "But, *what can we conclude from these clusters? How these clusters can help us in identifying the target audience for a marketing strategy?* Let us try to interpret these clusters.\n",
        "\n",
        "**Interpreting clusters:**\n",
        "\n",
        "We obtained the following cluster of customers based on `Annual Income` and `Spending Score`:\n",
        "\n",
        "1. **Red cluster (Label `0`):**  Customers in this cluster are average in terms of income and spending.\n",
        "\n",
        "2. **Blue cluster (Label `1`):**  These are the customers with the highest income and  highest spending score.\n",
        "\n",
        "3. **Green cluster (Label `2`):**  These are the customers with the least income and least spending score.\n",
        "4. **Yellow cluster (Label `3`):**  These are the customers with the least income but more spending score.\n",
        "5. **Magenta cluster (Label `4`):**  These are the customers with the good income but they spend less money.\n",
        "\n",
        "\n",
        "The customers belonging to **blue** cluster is a more interesting category as compared to other categories as they make much money and at the same time spend much as well. Thus, the marketing division of your company must send advertisements through emails or chats more often to this group compared to those in other clusters.\n",
        "\n",
        "Suppose you want to obtain the Customer ID of the customers belonging to <font color = blue>blue </font>cluster so that you can send them advertisements related to a new product launch. Follow the steps given below to achieve this:\n",
        "\n",
        "1. Obtain only those rows from the original dataframe `mall_df` which satisfies the following condition:\n",
        "\n",
        "  `data_2d['Label'] == 1`, as Label `1` customers belongs to blue cluster.\n",
        "\n",
        "2. Store this filtered dataframe in a new dataframe `cust_blue`.\n",
        "\n",
        "3. Print the number of customers in `cust_blue`.\n",
        "\n",
        "4. As we need only Customer ID of blue cluster customers, print the values of `CustomerID` column of `cust_blue` dataframe in the form of a list.\n",
        "\n"
      ]
    },
    {
      "cell_type": "code",
      "metadata": {
        "id": "4r6bQ3h7cYqY",
        "colab": {
          "base_uri": "https://localhost:8080/"
        },
        "outputId": "1f4014c5-8b22-456d-e743-3342483fe600"
      },
      "source": [
        "# S2.7: Obtain the customer IDs of the customers belonging to green cluster.\n",
        "cust_green = mall_df[data_2d[\"Label\"] == 2]\n",
        "print('Number of customer in green cluster =', len(cust_green))\n",
        "print('They are:', list(cust_green['CustomerID']))"
      ],
      "execution_count": null,
      "outputs": [
        {
          "output_type": "stream",
          "name": "stdout",
          "text": [
            "Number of customer in green cluster = 39\n",
            "They are: [124, 126, 128, 130, 132, 134, 136, 138, 140, 142, 144, 146, 148, 150, 152, 154, 156, 158, 160, 162, 164, 166, 168, 170, 172, 174, 176, 178, 180, 182, 184, 186, 188, 190, 192, 194, 196, 198, 200]\n"
          ]
        }
      ]
    },
    {
      "cell_type": "markdown",
      "metadata": {
        "id": "IHtNHEl9fJ_f"
      },
      "source": [
        "Thus, we obtained the Customer IDs of 39 customers who earn more and spend more. Similarly, you can obtain Customer IDs and other information of customers belonging to any other cluster also using the cluster labels.\n",
        "\n",
        "In this way, the k-means clustering performs customer segmentation to obtain a better understanding of customers which will eventually contribute in increasing the revenue of the company.\n",
        "\n",
        "Now, let's just make sure that 5 is a good number of clusters by constructing an elbow plot."
      ]
    },
    {
      "cell_type": "markdown",
      "metadata": {
        "id": "uVURqHRviXzC"
      },
      "source": [
        "---"
      ]
    },
    {
      "cell_type": "markdown",
      "metadata": {
        "id": "WrdMv8uGjMNy"
      },
      "source": [
        "#### Activity 3: Selecting `k` using Elbow Method\n",
        "\n",
        "What we did in the previous activity was choosing the value of `k` i.e number of clusters by directly looking at the scatter plot.\n",
        "\n",
        "What if we got more than 2 attributes or columns for clustering? For example, what if we also take the values of `Age` and `Gender` column into account? There will be 4 features in total and in such cases, visual inspection can not be used to determine the number of clusters.\n",
        "\n",
        "\n",
        "There exists two methods to systematically determine the value of `k`.\n",
        "\n",
        "1. Elbow Method.\n",
        "2. Silhouette Method.\n",
        "\n",
        "\n",
        "**Elbow Method:**\n",
        "\n",
        "The Elbow method is used to determine the optimal value of `k` by calculating Within-Cluster-Sum-of-Squares (WCSS).\n",
        "\n",
        "**WCSS** is the sum of squared distance between each data point and the centroid in a cluster. Thus, it is calculated by measuring the distance between each data point and its centroid, squaring this distance, and summing these squares across one cluster.\n",
        "\n",
        "WCSS is also known as **Inertia** and is given\n",
        "\n",
        "\\begin{align}\n",
        "  WCSS = \\sum_{i \\in n} (d_i - \\bar{c_i})^2\n",
        "\\end{align}\n",
        "\n",
        "where, $\\bar{c_i}$ is the centroid for data point $d_i$.\n",
        "\n",
        "For example, the following figure displays the distance between few points of a cluster from the cluster centroid.\n",
        "\n",
        "<center><img src=https://s3-whjr-v2-prod-bucket.whjr.online/whjr-v2-prod-bucket/53ba1484-b134-432d-9c27-a1f1a085e64c.png></center>\n",
        "\n",
        "The Elbow method works as follows:\n",
        "1. First, the K-Means algorithm is randomly initialised  for a range of `K` values.\n",
        "\n",
        "2. For each `K` value, WCSS or inertia is calculated.\n",
        "\n",
        "3. Then, WCSS for each `K`  is plotted against their respective `K` value.\n",
        "\n",
        "4. The location of a bend (knee) in the plot is generally considered as an indicator of the appropriate number of clusters.\n",
        "\n",
        "Let us first compute K-Means clustering for our 2D dataset `data_2d` by varying `K` from `1` to `10` clusters. Also, for each `K`, calculate WCSS using `inertia_` attribute of `Kmeans` object.\n",
        "\n",
        "\n",
        "\n",
        "\n",
        "\n",
        "\n",
        "\n",
        "\n",
        "\n",
        "\n",
        "\n"
      ]
    },
    {
      "cell_type": "code",
      "metadata": {
        "id": "T9TCXJIjuAgC",
        "colab": {
          "base_uri": "https://localhost:8080/",
          "height": 363
        },
        "outputId": "514f30e1-ef1d-4b83-fbc9-e6155b87960e"
      },
      "source": [
        "# S3.1: Calculate inertia for different values of 'K'.\n",
        "# Create an empty list to store wcss value obtained for each 'K'\n",
        "wcss = []\n",
        "\n",
        "clusters = range(1, 11)\n",
        "# Initiate a for loop that ranges from 1 to 10.\n",
        "for k in clusters :\n",
        "    # Inside for loop, perform K-Means clustering for current value of K. Use 'fit()' to train the model.\n",
        "    kmeans = KMeans(n_clusters = k, random_state = 10)\n",
        "    kmeans.fit(data_2d)\n",
        "    # Find wcss for current K value using 'inertia_' attribute and append it to the empty list.\n",
        "    wcss.append(kmeans.inertia_)\n",
        "\n",
        "# Create a DataFrame with two columns.\n",
        "# First column must contain K values from 1 to 10 and second column must contain wcss values obtained after the for loop.\n",
        "wcss_data = pd.DataFrame({'Clusters': clusters, 'WCSS': wcss})\n",
        "wcss_data"
      ],
      "execution_count": null,
      "outputs": [
        {
          "output_type": "execute_result",
          "data": {
            "text/plain": [
              "   Clusters           WCSS\n",
              "0         1  270308.160000\n",
              "1         2  181636.686869\n",
              "2         3  106482.558556\n",
              "3         4   73721.817461\n",
              "4         5   44448.455448\n",
              "5         6   37265.865205\n",
              "6         7   30290.060979\n",
              "7         8   25056.396738\n",
              "8         9   21901.020399\n",
              "9        10   19694.598086"
            ],
            "text/html": [
              "\n",
              "  <div id=\"df-ebbcc4c6-1f28-49b2-8f36-c5f95a169357\">\n",
              "    <div class=\"colab-df-container\">\n",
              "      <div>\n",
              "<style scoped>\n",
              "    .dataframe tbody tr th:only-of-type {\n",
              "        vertical-align: middle;\n",
              "    }\n",
              "\n",
              "    .dataframe tbody tr th {\n",
              "        vertical-align: top;\n",
              "    }\n",
              "\n",
              "    .dataframe thead th {\n",
              "        text-align: right;\n",
              "    }\n",
              "</style>\n",
              "<table border=\"1\" class=\"dataframe\">\n",
              "  <thead>\n",
              "    <tr style=\"text-align: right;\">\n",
              "      <th></th>\n",
              "      <th>Clusters</th>\n",
              "      <th>WCSS</th>\n",
              "    </tr>\n",
              "  </thead>\n",
              "  <tbody>\n",
              "    <tr>\n",
              "      <th>0</th>\n",
              "      <td>1</td>\n",
              "      <td>270308.160000</td>\n",
              "    </tr>\n",
              "    <tr>\n",
              "      <th>1</th>\n",
              "      <td>2</td>\n",
              "      <td>181636.686869</td>\n",
              "    </tr>\n",
              "    <tr>\n",
              "      <th>2</th>\n",
              "      <td>3</td>\n",
              "      <td>106482.558556</td>\n",
              "    </tr>\n",
              "    <tr>\n",
              "      <th>3</th>\n",
              "      <td>4</td>\n",
              "      <td>73721.817461</td>\n",
              "    </tr>\n",
              "    <tr>\n",
              "      <th>4</th>\n",
              "      <td>5</td>\n",
              "      <td>44448.455448</td>\n",
              "    </tr>\n",
              "    <tr>\n",
              "      <th>5</th>\n",
              "      <td>6</td>\n",
              "      <td>37265.865205</td>\n",
              "    </tr>\n",
              "    <tr>\n",
              "      <th>6</th>\n",
              "      <td>7</td>\n",
              "      <td>30290.060979</td>\n",
              "    </tr>\n",
              "    <tr>\n",
              "      <th>7</th>\n",
              "      <td>8</td>\n",
              "      <td>25056.396738</td>\n",
              "    </tr>\n",
              "    <tr>\n",
              "      <th>8</th>\n",
              "      <td>9</td>\n",
              "      <td>21901.020399</td>\n",
              "    </tr>\n",
              "    <tr>\n",
              "      <th>9</th>\n",
              "      <td>10</td>\n",
              "      <td>19694.598086</td>\n",
              "    </tr>\n",
              "  </tbody>\n",
              "</table>\n",
              "</div>\n",
              "      <button class=\"colab-df-convert\" onclick=\"convertToInteractive('df-ebbcc4c6-1f28-49b2-8f36-c5f95a169357')\"\n",
              "              title=\"Convert this dataframe to an interactive table.\"\n",
              "              style=\"display:none;\">\n",
              "        \n",
              "  <svg xmlns=\"http://www.w3.org/2000/svg\" height=\"24px\"viewBox=\"0 0 24 24\"\n",
              "       width=\"24px\">\n",
              "    <path d=\"M0 0h24v24H0V0z\" fill=\"none\"/>\n",
              "    <path d=\"M18.56 5.44l.94 2.06.94-2.06 2.06-.94-2.06-.94-.94-2.06-.94 2.06-2.06.94zm-11 1L8.5 8.5l.94-2.06 2.06-.94-2.06-.94L8.5 2.5l-.94 2.06-2.06.94zm10 10l.94 2.06.94-2.06 2.06-.94-2.06-.94-.94-2.06-.94 2.06-2.06.94z\"/><path d=\"M17.41 7.96l-1.37-1.37c-.4-.4-.92-.59-1.43-.59-.52 0-1.04.2-1.43.59L10.3 9.45l-7.72 7.72c-.78.78-.78 2.05 0 2.83L4 21.41c.39.39.9.59 1.41.59.51 0 1.02-.2 1.41-.59l7.78-7.78 2.81-2.81c.8-.78.8-2.07 0-2.86zM5.41 20L4 18.59l7.72-7.72 1.47 1.35L5.41 20z\"/>\n",
              "  </svg>\n",
              "      </button>\n",
              "      \n",
              "  <style>\n",
              "    .colab-df-container {\n",
              "      display:flex;\n",
              "      flex-wrap:wrap;\n",
              "      gap: 12px;\n",
              "    }\n",
              "\n",
              "    .colab-df-convert {\n",
              "      background-color: #E8F0FE;\n",
              "      border: none;\n",
              "      border-radius: 50%;\n",
              "      cursor: pointer;\n",
              "      display: none;\n",
              "      fill: #1967D2;\n",
              "      height: 32px;\n",
              "      padding: 0 0 0 0;\n",
              "      width: 32px;\n",
              "    }\n",
              "\n",
              "    .colab-df-convert:hover {\n",
              "      background-color: #E2EBFA;\n",
              "      box-shadow: 0px 1px 2px rgba(60, 64, 67, 0.3), 0px 1px 3px 1px rgba(60, 64, 67, 0.15);\n",
              "      fill: #174EA6;\n",
              "    }\n",
              "\n",
              "    [theme=dark] .colab-df-convert {\n",
              "      background-color: #3B4455;\n",
              "      fill: #D2E3FC;\n",
              "    }\n",
              "\n",
              "    [theme=dark] .colab-df-convert:hover {\n",
              "      background-color: #434B5C;\n",
              "      box-shadow: 0px 1px 3px 1px rgba(0, 0, 0, 0.15);\n",
              "      filter: drop-shadow(0px 1px 2px rgba(0, 0, 0, 0.3));\n",
              "      fill: #FFFFFF;\n",
              "    }\n",
              "  </style>\n",
              "\n",
              "      <script>\n",
              "        const buttonEl =\n",
              "          document.querySelector('#df-ebbcc4c6-1f28-49b2-8f36-c5f95a169357 button.colab-df-convert');\n",
              "        buttonEl.style.display =\n",
              "          google.colab.kernel.accessAllowed ? 'block' : 'none';\n",
              "\n",
              "        async function convertToInteractive(key) {\n",
              "          const element = document.querySelector('#df-ebbcc4c6-1f28-49b2-8f36-c5f95a169357');\n",
              "          const dataTable =\n",
              "            await google.colab.kernel.invokeFunction('convertToInteractive',\n",
              "                                                     [key], {});\n",
              "          if (!dataTable) return;\n",
              "\n",
              "          const docLinkHtml = 'Like what you see? Visit the ' +\n",
              "            '<a target=\"_blank\" href=https://colab.research.google.com/notebooks/data_table.ipynb>data table notebook</a>'\n",
              "            + ' to learn more about interactive tables.';\n",
              "          element.innerHTML = '';\n",
              "          dataTable['output_type'] = 'display_data';\n",
              "          await google.colab.output.renderOutput(dataTable, element);\n",
              "          const docLink = document.createElement('div');\n",
              "          docLink.innerHTML = docLinkHtml;\n",
              "          element.appendChild(docLink);\n",
              "        }\n",
              "      </script>\n",
              "    </div>\n",
              "  </div>\n",
              "  "
            ]
          },
          "metadata": {},
          "execution_count": 14
        }
      ]
    },
    {
      "cell_type": "markdown",
      "metadata": {
        "id": "27zXn7HAyWcZ"
      },
      "source": [
        "You may observe that as the number of clusters (`K`) increases, WCSS decreases.\n",
        "\n",
        "WCSS is highest when `K = 1` as every point in the datset belongs to a single cluster. It will eventually become `0` when `K` is equal to the number of data points. This is because, as the number of cluster increases, the number of centroids also increases. Thus, distance between the centroids and the data points starts decreasing and it will eventually become `0` when each data point becomes a centroid.\n",
        "\n",
        "Let us now create a line plot with `K` ranging from `1` to `10`  on $x$-axis and the WCSS values stored in `wcss` list on $y$-axis."
      ]
    },
    {
      "cell_type": "code",
      "metadata": {
        "id": "6gtY80dj1Ttz",
        "colab": {
          "base_uri": "https://localhost:8080/",
          "height": 381
        },
        "outputId": "c8f810f0-590e-48b1-d466-3b3ca0f4cd0c"
      },
      "source": [
        "# S3.2: Plot WCSS vs number of clusters.\n",
        "plt.figure(figsize=(12,5))\n",
        "plt.plot(clusters,wcss)\n",
        "\n",
        "plt.xlabel('clusters')\n",
        "plt.ylabel('wcss')\n",
        "plt.xticks(range(1,11))\n",
        "plt.grid()\n",
        "plt.show()"
      ],
      "execution_count": null,
      "outputs": [
        {
          "output_type": "display_data",
          "data": {
            "text/plain": [
              "<Figure size 1200x500 with 1 Axes>"
            ],
            "image/png": "[encoded data removed]"
          },
          "metadata": {}
        }
      ]
    },
    {
      "cell_type": "markdown",
      "metadata": {
        "id": "CmrE3J1E2F3i"
      },
      "source": [
        "From the above graph, you may observe that the decrease in WCSS or inertia after `K = 5` is not drastic. Thus, `K = 5` is the \"elbow\" of this graph.\n",
        "\n",
        "Hence, we can conclude that the optimal number of clusters for our 2D dataset is `5`. This means our initial guess was correct.\n",
        "\n",
        "Another way to find out the optimal number of clusters is by using the **Silhouette Method**."
      ]
    },
    {
      "cell_type": "markdown",
      "metadata": {
        "id": "sqSmKoeo3jGK"
      },
      "source": [
        "---"
      ]
    },
    {
      "cell_type": "markdown",
      "metadata": {
        "id": "ufHhXMuk_EO7"
      },
      "source": [
        "#### Activity 4: Silhouette Score Analysis\n",
        "\n",
        "\n",
        "\n",
        "Just like the elbow method uses WCSS to find the optimal value of `K`, the silhouette method uses the **silhouette score** to determine `K`. Before computing silhouette score, we need to first understand **Silhouette Coefficient**.\n",
        "\n",
        "**What is Silhouette Coefficient?**\n",
        "\n",
        "- We know that the goal of clustering algorithms is to split the data set into clusters of objects, such that:\n",
        "  - The objects in the same cluster are similar or to each other as much as possible, and\n",
        "  - The objects belonging to different clusters are highly distinct from each other.\n",
        "\n",
        "- The silhouette coefficient of each data point measures how much that data point is similar or close to its own cluster and how much it is distinct from other clusters. Thus, the silhouette coefficient assesses the quality of clusters obtained from a clustering algorithm.\n",
        "\n",
        "Consider a data point $i$. Let us learn how to calculate the silhouette coefficient for $i$.\n",
        "\n",
        "\n",
        "**Step 1: Compute $a(i)$**\n",
        "\n",
        "It is defined as the average distance of data point $i$ with all other points in the same clusters. It is also known as *Mean Intra-cluster distance*.\n",
        "\n",
        "  **Note:** Here, distance refers to the Euclidean distance.\n",
        "\n",
        "<center>\n",
        "<img src=\"https://s3-whjr-v2-prod-bucket.whjr.online/dfa627bd-9097-43df-b54b-0e327c417163.gif\"/></center>\n",
        "\n",
        "\n",
        "**Step 2: Compute $b(i)$**\n",
        "\n",
        "It is defined as the average distance of the data point $i$ with all the points in the closest cluster to its cluster. It is also known as *Mean Inter-cluster distance*.\n",
        "  \n",
        "  **Note:** If there are more than one neighbouring clusters, then consider only the nearest cluster to the data point $i$.\n",
        "\n",
        "<center><img src=\"https://s3-whjr-v2-prod-bucket.whjr.online/6a2b08d7-145c-4c9b-957f-9ab9be8dc685.gif\"/></center>\n",
        "\n",
        "  \n",
        "\n",
        "**Step 3: Compute $s(i)$**\n",
        "\n",
        "The silhouette coefficient of data point $i$ is calculated as:\n",
        "\n",
        "\\begin{align}\n",
        "  s(i) = \\frac{b(i)-a(i)}{max(b(i),a(i))}\n",
        "\\end{align}\n",
        "\n",
        "After calculating the silhouette coefficient for each point, average it out to get the **Silhouette Score**.\n",
        "\n",
        "The silhouette scores  falls within the range `[-1, 1]`. Higher silhouette scores indicates dense and well-separated clusters.\n",
        "\n",
        "We can obtain the silhouette score using the `silhouette_score` class of `sklearn.metrics` module.\n",
        "\n",
        "> **Syntax:** `sklearn.metrics.silhouette_score(dataset, cluster_labels`)\n",
        "\n",
        "> where,\n",
        "  - `dataset`: The dataset which needs to be clustered.\n",
        "  - `cluster_labels`: The cluster labels predicted by clustering algorithm.\n",
        "\n",
        "\n",
        "**Finding optimal value of `K`:**\n",
        "\n",
        "Let us compute K-Means clustering for our 2D dataset `data_2d` by varying `K` from `2` to `10` clusters. Also, for each `K`, calculate silhouette score using `silhouette_score` function. This is same as that done for Elbow method except that, we are calculating silhouette score instead of WCSS.\n",
        "\n",
        "**Note:** The `for` loop must iterate from `2` to `10` and not from `1` to `10` as done for elbow method. If we try to calculate silhouette score for `K = 1`, it will throw error. This is because, the silhouette score calculates distance between neighbouring clusters, thus it's computation needs at least 2 clusters."
      ]
    },
    {
      "cell_type": "code",
      "metadata": {
        "id": "ePMqZ-MVXhEb",
        "colab": {
          "base_uri": "https://localhost:8080/",
          "height": 332
        },
        "outputId": "123b47f9-414a-4e44-b607-138b8b47a016"
      },
      "source": [
        "# S4.1: Calculate inertia for different values of 'K'.\n",
        "\n",
        "from sklearn.metrics import silhouette_score\n",
        "# Create an empty list to store Silhouette scores obtained for each 'K'\n",
        "sil_scores = []\n",
        "\n",
        "clusters = range(2, 11)\n",
        "# Initiate a for loop that ranges from 2 to 10.\n",
        "for k in clusters:\n",
        "    # Inside for loop, perform K-Means clustering for current value of K.\n",
        "    # Use 'fit()'and 'predict()' to create clusters.\n",
        "\n",
        "    kmeans_k = KMeans(n_clusters = k, random_state = 10)\n",
        "    kmeans_k.fit(data_2d)\n",
        "    cluster_labels = kmeans_k.predict(data_2d)\n",
        "    # Find Silhouette score for current K value using 'silhouette_score()' function\n",
        "    # and append it to the empty list.\n",
        "    sil_scores.append(silhouette_score(data_2d, cluster_labels))\n",
        "\n",
        "# Create a DataFrame with two columns.\n",
        "# First column must contain K values from 2 to 10 and second column must contain Silhouette values obtained after the for loop.\n",
        "sil_data = pd.DataFrame({'Clusters': clusters, 'Silhouette Scores': sil_scores})\n",
        "sil_data\n"
      ],
      "execution_count": null,
      "outputs": [
        {
          "output_type": "execute_result",
          "data": {
            "text/plain": [
              "   Clusters  Silhouette Scores\n",
              "0         2           0.296655\n",
              "1         3           0.467764\n",
              "2         4           0.493713\n",
              "3         5           0.554655\n",
              "4         6           0.538658\n",
              "5         7           0.527400\n",
              "6         8           0.457076\n",
              "7         9           0.458882\n",
              "8        10           0.446714"
            ],
            "text/html": [
              "\n",
              "  <div id=\"df-0fa98b35-0352-48e9-ae5d-2a2ae43ab061\">\n",
              "    <div class=\"colab-df-container\">\n",
              "      <div>\n",
              "<style scoped>\n",
              "    .dataframe tbody tr th:only-of-type {\n",
              "        vertical-align: middle;\n",
              "    }\n",
              "\n",
              "    .dataframe tbody tr th {\n",
              "        vertical-align: top;\n",
              "    }\n",
              "\n",
              "    .dataframe thead th {\n",
              "        text-align: right;\n",
              "    }\n",
              "</style>\n",
              "<table border=\"1\" class=\"dataframe\">\n",
              "  <thead>\n",
              "    <tr style=\"text-align: right;\">\n",
              "      <th></th>\n",
              "      <th>Clusters</th>\n",
              "      <th>Silhouette Scores</th>\n",
              "    </tr>\n",
              "  </thead>\n",
              "  <tbody>\n",
              "    <tr>\n",
              "      <th>0</th>\n",
              "      <td>2</td>\n",
              "      <td>0.296655</td>\n",
              "    </tr>\n",
              "    <tr>\n",
              "      <th>1</th>\n",
              "      <td>3</td>\n",
              "      <td>0.467764</td>\n",
              "    </tr>\n",
              "    <tr>\n",
              "      <th>2</th>\n",
              "      <td>4</td>\n",
              "      <td>0.493713</td>\n",
              "    </tr>\n",
              "    <tr>\n",
              "      <th>3</th>\n",
              "      <td>5</td>\n",
              "      <td>0.554655</td>\n",
              "    </tr>\n",
              "    <tr>\n",
              "      <th>4</th>\n",
              "      <td>6</td>\n",
              "      <td>0.538658</td>\n",
              "    </tr>\n",
              "    <tr>\n",
              "      <th>5</th>\n",
              "      <td>7</td>\n",
              "      <td>0.527400</td>\n",
              "    </tr>\n",
              "    <tr>\n",
              "      <th>6</th>\n",
              "      <td>8</td>\n",
              "      <td>0.457076</td>\n",
              "    </tr>\n",
              "    <tr>\n",
              "      <th>7</th>\n",
              "      <td>9</td>\n",
              "      <td>0.458882</td>\n",
              "    </tr>\n",
              "    <tr>\n",
              "      <th>8</th>\n",
              "      <td>10</td>\n",
              "      <td>0.446714</td>\n",
              "    </tr>\n",
              "  </tbody>\n",
              "</table>\n",
              "</div>\n",
              "      <button class=\"colab-df-convert\" onclick=\"convertToInteractive('df-0fa98b35-0352-48e9-ae5d-2a2ae43ab061')\"\n",
              "              title=\"Convert this dataframe to an interactive table.\"\n",
              "              style=\"display:none;\">\n",
              "        \n",
              "  <svg xmlns=\"http://www.w3.org/2000/svg\" height=\"24px\"viewBox=\"0 0 24 24\"\n",
              "       width=\"24px\">\n",
              "    <path d=\"M0 0h24v24H0V0z\" fill=\"none\"/>\n",
              "    <path d=\"M18.56 5.44l.94 2.06.94-2.06 2.06-.94-2.06-.94-.94-2.06-.94 2.06-2.06.94zm-11 1L8.5 8.5l.94-2.06 2.06-.94-2.06-.94L8.5 2.5l-.94 2.06-2.06.94zm10 10l.94 2.06.94-2.06 2.06-.94-2.06-.94-.94-2.06-.94 2.06-2.06.94z\"/><path d=\"M17.41 7.96l-1.37-1.37c-.4-.4-.92-.59-1.43-.59-.52 0-1.04.2-1.43.59L10.3 9.45l-7.72 7.72c-.78.78-.78 2.05 0 2.83L4 21.41c.39.39.9.59 1.41.59.51 0 1.02-.2 1.41-.59l7.78-7.78 2.81-2.81c.8-.78.8-2.07 0-2.86zM5.41 20L4 18.59l7.72-7.72 1.47 1.35L5.41 20z\"/>\n",
              "  </svg>\n",
              "      </button>\n",
              "      \n",
              "  <style>\n",
              "    .colab-df-container {\n",
              "      display:flex;\n",
              "      flex-wrap:wrap;\n",
              "      gap: 12px;\n",
              "    }\n",
              "\n",
              "    .colab-df-convert {\n",
              "      background-color: #E8F0FE;\n",
              "      border: none;\n",
              "      border-radius: 50%;\n",
              "      cursor: pointer;\n",
              "      display: none;\n",
              "      fill: #1967D2;\n",
              "      height: 32px;\n",
              "      padding: 0 0 0 0;\n",
              "      width: 32px;\n",
              "    }\n",
              "\n",
              "    .colab-df-convert:hover {\n",
              "      background-color: #E2EBFA;\n",
              "      box-shadow: 0px 1px 2px rgba(60, 64, 67, 0.3), 0px 1px 3px 1px rgba(60, 64, 67, 0.15);\n",
              "      fill: #174EA6;\n",
              "    }\n",
              "\n",
              "    [theme=dark] .colab-df-convert {\n",
              "      background-color: #3B4455;\n",
              "      fill: #D2E3FC;\n",
              "    }\n",
              "\n",
              "    [theme=dark] .colab-df-convert:hover {\n",
              "      background-color: #434B5C;\n",
              "      box-shadow: 0px 1px 3px 1px rgba(0, 0, 0, 0.15);\n",
              "      filter: drop-shadow(0px 1px 2px rgba(0, 0, 0, 0.3));\n",
              "      fill: #FFFFFF;\n",
              "    }\n",
              "  </style>\n",
              "\n",
              "      <script>\n",
              "        const buttonEl =\n",
              "          document.querySelector('#df-0fa98b35-0352-48e9-ae5d-2a2ae43ab061 button.colab-df-convert');\n",
              "        buttonEl.style.display =\n",
              "          google.colab.kernel.accessAllowed ? 'block' : 'none';\n",
              "\n",
              "        async function convertToInteractive(key) {\n",
              "          const element = document.querySelector('#df-0fa98b35-0352-48e9-ae5d-2a2ae43ab061');\n",
              "          const dataTable =\n",
              "            await google.colab.kernel.invokeFunction('convertToInteractive',\n",
              "                                                     [key], {});\n",
              "          if (!dataTable) return;\n",
              "\n",
              "          const docLinkHtml = 'Like what you see? Visit the ' +\n",
              "            '<a target=\"_blank\" href=https://colab.research.google.com/notebooks/data_table.ipynb>data table notebook</a>'\n",
              "            + ' to learn more about interactive tables.';\n",
              "          element.innerHTML = '';\n",
              "          dataTable['output_type'] = 'display_data';\n",
              "          await google.colab.output.renderOutput(dataTable, element);\n",
              "          const docLink = document.createElement('div');\n",
              "          docLink.innerHTML = docLinkHtml;\n",
              "          element.appendChild(docLink);\n",
              "        }\n",
              "      </script>\n",
              "    </div>\n",
              "  </div>\n",
              "  "
            ]
          },
          "metadata": {},
          "execution_count": 20
        }
      ]
    },
    {
      "cell_type": "markdown",
      "metadata": {
        "id": "htcMXERDlJrQ"
      },
      "source": [
        "From the output, you may observe that the maximum silhouette score is obtained at `K = 5`.\n",
        "\n",
        "Let us now create a line plot with `K` ranging from `2` to `10`  on $x$-axis and the silhouette scores stored in `sil_scores` list on $y$-axis."
      ]
    },
    {
      "cell_type": "code",
      "metadata": {
        "id": "fQFNagAolxtI",
        "colab": {
          "base_uri": "https://localhost:8080/",
          "height": 639
        },
        "outputId": "a28b1dcf-80a5-4112-b3ed-7bbc0922d157"
      },
      "source": [
        "# S4.2: Plot silhouette scores vs number of clusters.\n",
        "plt.figure(figsize=(14,7))\n",
        "plt.plot(clusters,sil_scores)\n",
        "plt.xlabel('clusters')\n",
        "plt.ylabel('sil_score')\n",
        "plt.xticks(range(2,11))\n",
        "plt.grid()\n",
        "plt.show()"
      ],
      "execution_count": null,
      "outputs": [
        {
          "output_type": "display_data",
          "data": {
            "text/plain": [
              "<Figure size 1400x700 with 1 Axes>"
            ],
            "image/png": "[encoded data removed]"
          },
          "metadata": {}
        }
      ]
    },
    {
      "cell_type": "markdown",
      "metadata": {
        "id": "k3-3GDNmmIX8"
      },
      "source": [
        "From the above graph, you may observe that the silhouette score is at its peak at `K = 5`, after which it starts declining.\n",
        "\n",
        "Thus, both elbow method and silhouette analysis confirms that the optimal number of clusters for our 2D dataset is indeed `5`.\n",
        "\n",
        "We will stop here. In the next class, we will perform K-Means clustering on a 3-dimensional dataset and will proceed with the customer segmentation problem statement."
      ]
    },
    {
      "cell_type": "markdown",
      "metadata": {
        "id": "pEBm9E1V_71a"
      },
      "source": [
        "----"
      ]
    },
    {
      "cell_type": "markdown",
      "metadata": {
        "id": "dWeptGFNp2VT"
      },
      "source": [
        "### **Project**\n",
        "You can now attempt the **Applied Tech. Project 108 - K-Means Clustering II** on your own.\n",
        "\n",
        "**Applied Tech. Project 108 - K-Means Clustering II**: https://colab.research.google.com/drive/1E2WxEXblFuivloKI-cS-J-MWnxFEVOV4"
      ]
    },
    {
      "cell_type": "markdown",
      "metadata": {
        "id": "rNS-0oCbp9lq"
      },
      "source": [
        "---"
      ]
    }
  ]
}