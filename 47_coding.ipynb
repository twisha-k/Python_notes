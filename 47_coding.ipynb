{
  "nbformat": 4,
  "nbformat_minor": 0,
  "metadata": {
    "colab": {
      "provenance": [],
      "include_colab_link": true
    },
    "kernelspec": {
      "name": "python3",
      "display_name": "Python 3"
    }
  },
  "cells": [
    {
      "cell_type": "markdown",
      "metadata": {
        "id": "view-in-github",
        "colab_type": "text"
      },
      "source": [
        "<a href=\"https://colab.research.google.com/github/twisha-k/Python_notes/blob/main/47_coding.ipynb\" target=\"_parent\"><img src=\"https://colab.research.google.com/assets/colab-badge.svg\" alt=\"Open In Colab\"/></a>"
      ]
    },
    {
      "cell_type": "markdown",
      "metadata": {
        "id": "Vcvmc_dgH1Ry"
      },
      "source": [
        "# Lesson 47: Random Variable & Binomial Distribution"
      ]
    },
    {
      "cell_type": "markdown",
      "metadata": {
        "id": "Y36SOhIIIcfJ"
      },
      "source": [
        "### Teacher-Student Activities\n",
        "\n",
        "In this class, you will learn the concepts of random variable and binomial distribution. Using these two concepts, you will also learn that you should always prepare for your tests and not to answer questions by fluke in a test."
      ]
    },
    {
      "cell_type": "markdown",
      "metadata": {
        "id": "aI_I1LXxI5Lg"
      },
      "source": [
        "---"
      ]
    },
    {
      "cell_type": "markdown",
      "metadata": {
        "id": "hUKKRWg8ncnj"
      },
      "source": [
        "#### Activity 1: Random Variable\n",
        "\n",
        "A random variable defines your set of favourable outcomes in an experiment. Let's understand this concept with the help of an example.\n",
        "\n",
        "Consider that you are attempting an MCQ (Multiple Choice Questions) test having 4 questions.\n",
        "\n",
        "<img src=\"https://student-datasets-bucket.s3.ap-south-1.amazonaws.com/images/sample_mcq.png\" alt=\"MCQ\" align=\"center\" width=500>\n",
        "\n",
        "Each question has 4 options out of which only one option is correct. Also, each question carries $3$ marks for every correct choice and $-1$ mark for every incorrect choice. Using random variables, you can find the probability of solving\n",
        "\n",
        "- 0 questions correctly by fluke.\n",
        "\n",
        "- 1 question correctly by fluke.\n",
        "\n",
        "- 2 questions correctly by fluke.\n",
        "\n",
        "- 3 questions correctly by fluke.\n",
        "\n",
        "- 4 questions correctly by fluke.\n",
        "\n",
        "To represent the above five cases mathematically, you can define a **random variable** $X$ where $X$ denotes solving the number of questions correctly by fluke. Therefore,\n",
        "\n",
        "- $X = 0$ denotes solving 0 questions correctly by fluke.\n",
        "\n",
        "- $X = 1$ denotes solving 1 question correctly by fluke.\n",
        "\n",
        "- $X = 2$ denotes solving 2 questions correctly by fluke.\n",
        "\n",
        "- $X = 3$ denotes solving 3 questions correctly by fluke.\n",
        "\n",
        "- $X = 4$ denotes solving 4 questions correctly by fluke.\n",
        "\n"
      ]
    },
    {
      "cell_type": "markdown",
      "metadata": {
        "id": "MWMHXF61MgPm"
      },
      "source": [
        "**Probability of Solving Zero Questions Correctly**\n",
        "\n",
        "Let's find out the probability of solving zero questions correctly. This can be done in one way that is to choose an incorrect option for all the questions $1, 2, 3$ and $4$.\n",
        "\n",
        "So in this case, the random variable $X = 0$ represents the set $\\{1', 2', 3', 4'\\}$\n",
        "\n",
        "where\n",
        "\n",
        "- $1'$ denotes solving the first question incorrectly\n",
        "\n",
        "- $2'$ denotes solving the second question incorrectly\n",
        "\n",
        "- $3'$ denotes solving the third question incorrectly\n",
        "\n",
        "- $4'$ denotes solving the fourth question incorrectly\n",
        "\n",
        "Now, every question has only one correct choice (or option) out of four choices. So, the probability of selecting a correct choice for a question is $\\frac{1}{4}$. Hence, the probability of selecting an incorrect choice for the question is $\\frac{3}{4}$.\n",
        "\n",
        "\n",
        "So, the probability of\n",
        "\n",
        "- solving the first question incorrectly is $P(1') = \\frac{3}{4}$\n",
        "\n",
        "- solving the second question incorrectly is $P(2') = \\frac{3}{4}$\n",
        "\n",
        "- solving the third question incorrectly is $P(3') = \\frac{3}{4}$\n",
        "\n",
        "- solving the fourth question incorrectly is $P(4') = \\frac{3}{4}$\n",
        "\n",
        "Therefore, the probability of solving no questions correctly is\n",
        "\n",
        "$$P(X=0) = P(1') \\times P(2') \\times P(3') \\times P(4')$$\n",
        "\n",
        "$$\\Rightarrow P(X=0) = \\frac{3}{4} \\times \\frac{3}{4} \\times \\frac{3}{4} \\times \\frac{3}{4} = \\left(\\frac{3}{4}\\right)^4$$\n",
        "\n",
        "In terms of random variable, you can read it as the probability of a random variable $X = 0$ is $$P(X=0) = \\left(\\frac{3}{4}\\right)^4$$\n"
      ]
    },
    {
      "cell_type": "code",
      "metadata": {
        "id": "WxpPR4LaoC6R",
        "colab": {
          "base_uri": "https://localhost:8080/"
        },
        "outputId": "e13f6dcd-9f24-4b1e-a81d-fc8676b2778b"
      },
      "source": [
        "# S1.1: Calculate the probability of solving zero questions correctly by fluke.\n",
        "prob_ques_0=(3/4)**4\n",
        "prob_ques_0"
      ],
      "execution_count": null,
      "outputs": [
        {
          "output_type": "execute_result",
          "data": {
            "text/plain": [
              "0.31640625"
            ]
          },
          "metadata": {},
          "execution_count": 2
        }
      ]
    },
    {
      "cell_type": "markdown",
      "metadata": {
        "id": "NsGEFvuvof9l"
      },
      "source": [
        "It is quite unlikely that you would solve zero questions correctly by fluke because the probability value is less than 0.5.\n",
        "\n",
        "\n",
        "**Probability of Solving 1 Question Correctly**\n",
        "\n",
        "Let's find out the probability of solving one question correctly. Here we can define a random variable $X$ where $X = 1$ which denotes solving 1 question correctly by fluke.\n",
        "\n",
        "In other words, you are choosing the correct option for one of the four questions. This can be done in the following four ways:\n",
        "\n",
        "- Solve question 1 **correctly** and questions 2, 3 and 4 incorrectly.\n",
        "\n",
        "- Solve question 2 **correctly** and questions 1, 3 and 4 incorrectly.\n",
        "\n",
        "- Solve question 3 **correctly** and questions 1, 2 and 4 incorrectly.\n",
        "\n",
        "- Solve question 4 **correctly** and questions 1, 2 and 3 incorrectly.\n",
        "\n",
        "Mathematically, the above four cases can be written as\n",
        "\n",
        "$$\\{\\{1, 2', 3', 4'\\}, \\{2, 1', 3', 4'\\}, \\{3, 1', 2', 4'\\}, \\{4, 1', 2', 3'\\}\\}$$\n",
        "\n",
        "This entire set can be denoted by the random variable $X = 1$ where\n",
        "\n",
        "- the set $\\{1, 2', 3', 4'\\}$ denotes solving question 1 **correctly** and questions 2, 3 and 4 incorrectly.\n",
        "\n",
        "- the set $\\{2, 1', 3', 4'\\}$ denotes solving question 2 **correctly** and questions 1, 3 and 4 incorrectly.\n",
        "\n",
        "- the set $\\{3, 1', 2', 4'\\}$ denotes solving question 3 **correctly** and questions 1, 2 and 4 incorrectly.\n",
        "\n",
        "- the set $\\{4, 1', 2', 3'\\}$ denotes solving question 4 **correctly** and questions 1, 2, and 3 incorrectly.\n",
        "\n",
        "Every question has only one correct choice (or option) out of four choices. So, the probability of selecting a correct choice is $\\frac{1}{4}$. Hence, the probability of selecting an incorrect choice is $\\frac{3}{4}$\n",
        "\n",
        "\n",
        "So the probability of\n",
        "\n",
        "- solving question 1 **correctly** and questions 2, 3 and 4 incorrectly is $P(\\{1, 2', 3', 4'\\}) = \\frac{1}{4} \\times \\frac{3}{4} \\times \\frac{3}{4} \\times \\frac{3}{4} = \\frac{1}{4} \\times \\left(\\frac{3}{4}\\right)^3$\n",
        "\n",
        "- solving question 2 **correctly** and questions 1, 3 and 4 incorrectly is $P(\\{2, 1', 3', 4'\\}) = \\frac{1}{4} \\times \\frac{3}{4} \\times \\frac{3}{4} \\times \\frac{3}{4} = \\frac{1}{4} \\times \\left(\\frac{3}{4}\\right)^3$\n",
        "\n",
        "- solving question 3 **correctly** and questions 1, 2 and 4 incorrectly is $P(\\{3, 1', 2', 4'\\}) = \\frac{1}{4} \\times \\frac{3}{4} \\times \\frac{3}{4} \\times \\frac{3}{4} = \\frac{1}{4} \\times \\left(\\frac{3}{4}\\right)^3$\n",
        "\n",
        "- solving question 4 **correctly** and questions 1, 2, and 3 incorrectly is $P(\\{4, 1', 2', 3'\\}) = \\frac{1}{4} \\times \\frac{3}{4} \\times \\frac{3}{4} \\times \\frac{3}{4} = \\frac{1}{4} \\times \\left(\\frac{3}{4}\\right)^3$\n",
        "\n",
        "Therefore, the probability of solving one question correctly is\n",
        "\n",
        "$$P(X = 1) = P(\\{1, 2', 3', 4'\\}) + P(\\{2, 1', 3', 4'\\}) + P(\\{3, 1', 2', 4'\\}) + P(\\{4, 1', 2', 3'\\})$$\n",
        "\n",
        "$$\\Rightarrow P(X = 1) = \\frac{1}{4} \\times \\left(\\frac{3}{4}\\right)^3 + \\frac{1}{4} \\times \\left(\\frac{3}{4}\\right)^3 + \\frac{1}{4} \\times \\left(\\frac{3}{4}\\right)^3 + \\frac{1}{4} \\times \\left(\\frac{3}{4}\\right)^3$$\n",
        "\n",
        "$$\\Rightarrow P(X = 1) = 4 \\times \\frac{1}{4} \\times \\left(\\frac{3}{4}\\right)^3$$\n",
        "\n",
        "Let's not simplify the above expression. You will soon get to know the reason.\n",
        "\n",
        "In terms of random variable, you can read it as the probability of a random variable $X = 1$ is $$P(X = 1) = 4 \\times \\frac{1}{4} \\times \\left(\\frac{3}{4}\\right)^3$$\n"
      ]
    },
    {
      "cell_type": "code",
      "metadata": {
        "id": "RvlBmKC13NmW",
        "colab": {
          "base_uri": "https://localhost:8080/"
        },
        "outputId": "da49868f-f9f0-466e-a70e-98e670e88bf2"
      },
      "source": [
        "# S1.2: Calculate the probability of solving 1 question correctly by fluke.\n",
        "prob_ques_1=(3/4)**3\n",
        "prob_ques_1"
      ],
      "execution_count": null,
      "outputs": [
        {
          "output_type": "execute_result",
          "data": {
            "text/plain": [
              "0.421875"
            ]
          },
          "metadata": {},
          "execution_count": 4
        }
      ]
    },
    {
      "cell_type": "markdown",
      "metadata": {
        "id": "2V_8Npnc5Jke"
      },
      "source": [
        "It is quite unlikely that you would solve 1 question correctly by fluke because the probability value is less than 0.5.\n",
        "\n",
        "**Probability of Solving 2 Questions Correctly**\n",
        "\n",
        "Let's find out the probability of solving two questions correctly. Here we can define a random variable $X$ where $X = 2$ which denotes solving 2 questions correctly by fluke.\n",
        "\n",
        "In other words, you are choosing the correct option for one of the four questions. This can be done in the following six ways:\n",
        "\n",
        "- Solve questions 1 & 2 **correctly** and questions 3 & 4 incorrectly.\n",
        "\n",
        "- Solve questions 1 & 3 **correctly** and questions 2 & 4 incorrectly.\n",
        "\n",
        "- Solve questions 1 & 4 **correctly** and questions 2 & 3 incorrectly.\n",
        "\n",
        "- Solve questions 2 & 3 **correctly** and questions 1 & 4 incorrectly.\n",
        "\n",
        "- Solve questions 2 & 4 **correctly** and questions 1 & 3 incorrectly.\n",
        "\n",
        "- Solve questions 3 & 4 **correctly** and questions 1 & 2 incorrectly.\n",
        "\n",
        "Mathematically, the above four cases can be written as\n",
        "\n",
        "$$\\{\\{1, 2, 3', 4'\\}, \\{1, 3, 2', 4'\\}, \\{1, 4, 2', 3'\\}, \\{2, 3, 1', 4'\\}, \\{2, 4, 1', 3'\\}, \\{3, 4, 1', 2'\\}\\}$$\n",
        "\n",
        "This entire set can be denoted by the random variable $X = 1$ where\n",
        "\n",
        "1. the set $\\{1, 2, 3', 4'\\}$ denotes solving questions 1 & 2 **correctly** and questions 3 & 4 incorrectly.\n",
        "\n",
        "2. the set $\\{1, 3, 2', 4'\\}$ denotes solving questions 1 & 3 **correctly** and questions 2 & 4 incorrectly.\n",
        "\n",
        "3. the set $\\{1, 4, 2', 3'\\}$ denotes solving questions 1 & 4 **correctly** and questions 2 & 3 incorrectly.\n",
        "\n",
        "4. the set $\\{2, 3, 1', 4'\\}$ denotes solving questions 2 & 3 **correctly** and questions 1 & 4 incorrectly.\n",
        "\n",
        "5. the set $\\{2, 4, 1', 3'\\}$ denotes solving questions 2 & 4 **correctly** and questions 1 & 3 incorrectly.\n",
        "\n",
        "6. the set $\\{3, 4, 1', 2'\\}$ denotes solving questions 3 & 4 **correctly** and questions 1 & 2 incorrectly.\n",
        "\n",
        "Every question has only one correct choice (or option) out of four choices. So, the probability of selecting a correct choice is $\\frac{1}{4}$. Hence, the probability of selecting an incorrect choice is $\\frac{3}{4}$\n",
        "\n",
        "So the probability of\n",
        "\n",
        "1. solving questions 1 & 2 **correctly** and questions 3 & 4 incorrectly is $P(\\{1, 2, 3', 4'\\}) = \\frac{1}{4} \\times \\frac{1}{4} \\times \\frac{3}{4} \\times \\frac{3}{4} = \\left(\\frac{1}{4}\\right)^2 \\times \\left(\\frac{3}{4}\\right)^2$\n",
        "\n",
        "2. solving questions 1 & 3 **correctly** and questions 2 & 4 incorrectly is $P(\\{1, 3, 2', 4'\\}) = \\frac{1}{4} \\times \\frac{1}{4} \\times \\frac{3}{4} \\times \\frac{3}{4} = \\left(\\frac{1}{4}\\right)^2 \\times \\left(\\frac{3}{4}\\right)^2$\n",
        "\n",
        "3. solving questions 1 & 4 **correctly** and questions 2 & 3 incorrectly is $P(\\{1, 4, 2', 3'\\})= \\frac{1}{4} \\times \\frac{1}{4} \\times \\frac{3}{4} \\times \\frac{3}{4} = \\left(\\frac{1}{4}\\right)^2 \\times \\left(\\frac{3}{4}\\right)^2$\n",
        "\n",
        "4. solving questions 2 & 3 **correctly** and questions 1 & 4 incorrectly is $P(\\{2, 3, 1', 4'\\}) = \\frac{1}{4} \\times \\frac{1}{4} \\times \\frac{3}{4} \\times \\frac{3}{4} = \\left(\\frac{1}{4}\\right)^2 \\times \\left(\\frac{3}{4}\\right)^2$\n",
        "\n",
        "5. solving questions 2 & 4 **correctly** and questions 1 & 3 incorrectly is $P(\\{2, 4, 1', 3'\\}) = \\frac{1}{4} \\times \\frac{1}{4} \\times \\frac{3}{4} \\times \\frac{3}{4} = \\left(\\frac{1}{4}\\right)^2 \\times \\left(\\frac{3}{4}\\right)^2$\n",
        "\n",
        "6. solving questions 3 & 4 **correctly** and questions 1 & 2 incorrectly is $P(\\{3, 4, 1', 2'\\}) = \\frac{1}{4} \\times \\frac{1}{4} \\times \\frac{3}{4} \\times \\frac{3}{4} = \\left(\\frac{1}{4}\\right)^2 \\times \\left(\\frac{3}{4}\\right)^2$\n",
        "\n",
        "Therefore, the probability of solving two questions correctly is\n",
        "\n",
        "$$P(X = 2) = P(\\{1, 2, 3', 4'\\}) + P(\\{1, 3, 2', 4'\\}) + P(\\{1, 4, 2', 3'\\}) + P(\\{2, 3, 1', 4'\\}) + P(\\{2, 4, 1', 3'\\}) + P(\\{3, 4, 1', 2'\\})$$\n",
        "\n",
        "$$\\Rightarrow P(X = 1) = \\left(\\frac{1}{4}\\right)^2 \\times \\left(\\frac{3}{4}\\right)^2 + \\left(\\frac{1}{4}\\right)^2 \\times \\left(\\frac{3}{4}\\right)^2 + \\left(\\frac{1}{4}\\right)^2 \\times \\left(\\frac{3}{4}\\right)^2 + \\left(\\frac{1}{4}\\right)^2 \\times \\left(\\frac{3}{4}\\right)^2 + \\left(\\frac{1}{4}\\right)^2 \\times \\left(\\frac{3}{4}\\right)^2 + \\left(\\frac{1}{4}\\right)^2 \\times \\left(\\frac{3}{4}\\right)^2$$\n",
        "\n",
        "$$\\Rightarrow P(X = 2) = 6 \\times \\left(\\frac{1}{4}\\right)^2 \\times \\left(\\frac{3}{4}\\right)^2$$\n",
        "\n",
        "Let's not simplify the above expression. You will soon get to know the reason.\n",
        "\n",
        "In terms of random variable, you can read it as the probability of a random variable $X = 2$ is $$P(X = 2) = 6 \\times \\left(\\frac{1}{4}\\right)^2 \\times \\left(\\frac{3}{4}\\right)^2$$\n"
      ]
    },
    {
      "cell_type": "code",
      "metadata": {
        "id": "-b_k-y5RNxKn",
        "colab": {
          "base_uri": "https://localhost:8080/"
        },
        "outputId": "f4eae970-8a88-4171-8e71-f61fe6d8bb86"
      },
      "source": [
        "# S1.3: Calculate the probability of solving 2 questions correctly by fluke.\n",
        "prob_ques_2=6*(1/4)**2*(3/4)**2\n",
        "prob_ques_2"
      ],
      "execution_count": null,
      "outputs": [
        {
          "output_type": "execute_result",
          "data": {
            "text/plain": [
              "0.2109375"
            ]
          },
          "metadata": {},
          "execution_count": 5
        }
      ]
    },
    {
      "cell_type": "markdown",
      "metadata": {
        "id": "_epq9WMUOVVd"
      },
      "source": [
        "It is very unlikely that you would solve 2 questions correctly by fluke because the probability value is less than 0.5.\n",
        "\n",
        "\n",
        "**Probability of Solving 3 Questions Correctly**\n",
        "\n",
        "Let's find out the probability of solving 3 questions correctly. Here we can define a random variable $X$ where $X = 3$ which denotes solving 3 questions correctly by fluke.\n",
        "\n",
        "In other words, you are solving for one out of the four questions incorrectly. This can be done in the following four ways:\n",
        "\n",
        "- Solve question 1 **incorrectly** and questions 2, 3 and 4 correctly.\n",
        "\n",
        "- Solve question 2 **incorrectly** and questions 1, 3 and 4 correctly.\n",
        "\n",
        "- Solve question 3 **incorrectly** and questions 1, 2 and 4 correctly.\n",
        "\n",
        "- Solve question 4 **incorrectly** and questions 1, 2 and 3 correctly.\n",
        "\n",
        "Mathematically, the above four cases can be written as\n",
        "\n",
        "$$\\{\\{1', 2, 3, 4\\}, \\{2', 1, 3, 4\\}, \\{3', 1, 2, 4\\}, \\{4', 1, 2, 3\\}\\}$$\n",
        "\n",
        "This entire set can be denoted by the random variable $X = 3$ where\n",
        "\n",
        "- the set $\\{1', 2, 3, 4\\}$ denotes solving question 1 **incorrectly** and questions 2, 3 and 4 correctly.\n",
        "\n",
        "- the set $\\{2', 1, 3, 4\\}$ denotes solving question 2 **incorrectly** and questions 1, 3 and 4 correctly.\n",
        "\n",
        "- the set $\\{3', 1, 2, 4\\}$ denotes solving question 3 **incorrectly** and questions 1, 2 and 4 correctly.\n",
        "\n",
        "- the set $\\{4', 1, 2, 3\\}$ denotes solving question 4 **incorrectly** and questions 1, 2, and 3 correctly.\n",
        "\n",
        "Every question has only one correct choice (or option) out of four choices. So, the probability of selecting a correct choice is $\\frac{1}{4}$. Hence, the probability of selecting an incorrect choice is $\\frac{3}{4}$\n",
        "\n",
        "\n",
        "So the probability of\n",
        "\n",
        "- solving question 1 **incorrectly** and questions 2, 3 and 4 correctly is $P(\\{1', 2, 3, 4\\}) = \\frac{3}{4} \\times \\frac{1}{4} \\times \\frac{1}{4} \\times \\frac{1}{4} = \\left(\\frac{1}{4}\\right)^3 \\times \\frac{3}{4}$\n",
        "\n",
        "- solving question 2 **incorrectly** and questions 1, 3 and 4 correctly is $P(\\{2', 1, 3, 4\\}) = \\frac{3}{4} \\times \\frac{1}{4} \\times \\frac{1}{4} \\times \\frac{1}{4} = \\left(\\frac{1}{4}\\right)^3 \\times \\frac{3}{4}$\n",
        "\n",
        "- solving question 3 **incorrectly** and questions 1, 2 and 4 correctly is $P(\\{3', 1, 2, 4\\})= \\frac{3}{4} \\times \\frac{1}{4} \\times \\frac{1}{4} \\times \\frac{1}{4} = \\left(\\frac{1}{4}\\right)^3 \\times \\frac{3}{4}$\n",
        "\n",
        "- solving question 4 **incorrectly** and questions 1, 2, and 3 correctly is $P(\\{4', 1, 2, 3\\}) = \\frac{3}{4} \\times \\frac{1}{4} \\times \\frac{1}{4} \\times \\frac{1}{4} = \\left(\\frac{1}{4}\\right)^3 \\times \\frac{3}{4}$\n",
        "\n",
        "Therefore, the probability of solving three questions correctly is\n",
        "\n",
        "$$P(X = 3) = P(\\{1', 2, 3, 4\\}) + P(\\{2', 1, 3, 4\\}) + P(\\{3', 1, 2, 4\\}) + P(\\{4', 1, 2, 3\\})$$\n",
        "\n",
        "$$\\Rightarrow P(X = 3) = \\left(\\frac{1}{4}\\right)^3 \\times \\frac{3}{4} + \\left(\\frac{1}{4}\\right)^3 \\times \\frac{3}{4} + \\left(\\frac{1}{4}\\right)^3 \\times \\frac{3}{4} + \\left(\\frac{1}{4}\\right)^3 \\times \\frac{3}{4}$$\n",
        "\n",
        "$$\\Rightarrow P(X = 3) = 4 \\times \\left(\\frac{1}{4}\\right)^3 \\times \\frac{3}{4}$$\n",
        "\n",
        "Let's not simplify the above expression further. You will soon know why.\n",
        "\n",
        "In terms of random variable, you can read it as the probability of a random variable $X = 3$ is $$P(X = 3) = 4 \\times \\left(\\frac{1}{4}\\right)^3 \\times \\frac{3}{4}$$\n"
      ]
    },
    {
      "cell_type": "code",
      "metadata": {
        "id": "BbaKQxVXYGR6",
        "colab": {
          "base_uri": "https://localhost:8080/"
        },
        "outputId": "3be7e3bd-494d-46a6-f1c7-65b1f7d1df8e"
      },
      "source": [
        "# S1.4: Calculate the probability of solving 3 questions correctly by fluke.\n",
        "prob_ques_3=4*(1/4)**3*3/4\n",
        "prob_ques_3"
      ],
      "execution_count": null,
      "outputs": [
        {
          "output_type": "execute_result",
          "data": {
            "text/plain": [
              "0.046875"
            ]
          },
          "metadata": {},
          "execution_count": 6
        }
      ]
    },
    {
      "cell_type": "markdown",
      "metadata": {
        "id": "joqyY6JbYfeu"
      },
      "source": [
        "**Probability of Solving All Questions Correctly**\n",
        "\n",
        "Let's find out the probability of solving all four questions correctly. Here we can define a random variable $X$ where $X = 4$ which denotes solving 4 questions correctly by fluke.\n",
        "\n",
        "So in this case, the random variable $X = 4$ represents the set $\\{1, 2, 3, 4\\}$\n",
        "\n",
        "where\n",
        "\n",
        "- $1$ denotes solving the first question correctly\n",
        "\n",
        "- $2$ denotes solving the second question correctly\n",
        "\n",
        "- $3$ denotes solving the third question correctly\n",
        "\n",
        "- $4$ denotes solving the fourth question correctly\n",
        "\n",
        "So the probability of\n",
        "\n",
        "1. solving the first question correctly is $P(1) = \\frac{1}{4}$\n",
        "\n",
        "2. solving the second question correctly is $P(2) = \\frac{1}{4}$\n",
        "\n",
        "3. solving the third question correctly is $P(3) = \\frac{1}{4}$\n",
        "\n",
        "4. solving the fourth question correctly is $P(4) = \\frac{1}{4}$\n",
        "\n",
        "Therefore, the probability of solving all the questions correctly is\n",
        "\n",
        "$$P(X = 4) = P(1) \\times P(2) \\times P(3) \\times P(4)$$\n",
        "\n",
        "$$\\Rightarrow P(X = 4) = \\frac{1}{4} \\times \\frac{1}{4} \\times \\frac{1}{4} \\times \\frac{1}{4} = \\left(\\frac{1}{4}\\right)^4$$\n",
        "\n",
        "In terms of random variable, you can read it as the probability of a random variable $X = 4$ is $$P(X = 4) = \\left(\\frac{1}{4}\\right)^4$$\n",
        "\n",
        "\n",
        "\n"
      ]
    },
    {
      "cell_type": "code",
      "metadata": {
        "id": "vEBJi4pAaCwf",
        "colab": {
          "base_uri": "https://localhost:8080/"
        },
        "outputId": "bbb07d93-a1fc-476c-ee29-72961c8e95d4"
      },
      "source": [
        "# S1.5: Calculate the probability of solving all the questions correctly by fluke.\n",
        "prob_ques_correct=(1/4)**4\n",
        "prob_ques_correct"
      ],
      "execution_count": null,
      "outputs": [
        {
          "output_type": "execute_result",
          "data": {
            "text/plain": [
              "0.00390625"
            ]
          },
          "metadata": {},
          "execution_count": 7
        }
      ]
    },
    {
      "cell_type": "code",
      "metadata": {
        "colab": {
          "base_uri": "https://localhost:8080/"
        },
        "id": "-dcoe1DL13T8",
        "outputId": "79c58e0d-0cff-40d5-f48a-af97b5d73d16"
      },
      "source": [
        "prob_ques_0+prob_ques_1+prob_ques_2+prob_ques_3+prob_ques_correct"
      ],
      "execution_count": null,
      "outputs": [
        {
          "output_type": "execute_result",
          "data": {
            "text/plain": [
              "1.0"
            ]
          },
          "metadata": {},
          "execution_count": 8
        }
      ]
    },
    {
      "cell_type": "markdown",
      "metadata": {
        "id": "RBfaqkHPbj-c"
      },
      "source": [
        "It is almost impossible to solve all the four questions correctly by fluke."
      ]
    },
    {
      "cell_type": "markdown",
      "metadata": {
        "id": "8b27Tx9BzMBL"
      },
      "source": [
        "---"
      ]
    },
    {
      "cell_type": "markdown",
      "metadata": {
        "id": "R5R3b_48nKTP"
      },
      "source": [
        "#### Activity 2: Binomial Distribution\n",
        "\n",
        "Let's look at the probabilities of the random variables $X = 0, 1, 2, 3, 4$ again\n",
        "\n",
        "- $P(X = 0) = 1 \\times \\left(\\frac{3}{4}\\right)^4$\n",
        "\n",
        "- $P(X = 1) = 4 \\times \\frac{1}{4} \\times \\left(\\frac{3}{4}\\right)^3$\n",
        "\n",
        "- $P(X = 2) = 6 \\times \\left(\\frac{1}{4}\\right)^2 \\times \\left(\\frac{3}{4}\\right)^2$\n",
        "\n",
        "- $P(X = 3) = 4 \\times \\left(\\frac{1}{4}\\right)^3 \\times \\frac{3}{4}$\n",
        "\n",
        "- $P(X = 4) = 1 \\times \\left(\\frac{1}{4}\\right)^4$\n",
        "\n",
        "Consider the expression,\n",
        "\n",
        "$${}^nC_{r} = \\frac{n!}{(n-r)! \\times r!}$$\n",
        "\n",
        "Therefore, the numbers $1, 4, 6, 4, 1$ in the above probabilities can also be written as ${}^4C_0, {}^4C_1, {}^4C_2, {}^4C_3, {}^4C_4$ respectively, where\n",
        "\n",
        "- ${}^4C_0$ denotes the **number of ways** in which you can solve **0 questions correctly out of 4 questions**. $$\\therefore {}^4C_0 = \\frac{4!}{4! \\times 0!} = 1$$\n",
        "\n",
        "- ${}^4C_1$ denotes the **number of ways** in which you can solve **1 question correctly out of 4 questions**. $$\\therefore {}^4C_1 = \\frac{4!}{3! \\times 1!} = \\frac{4 \\times 3 \\times 2 \\times 1}{3 \\times 2 \\times 1} = 4$$\n",
        "\n",
        "- ${}^4C_2$ denotes the **number of ways** in which you can solve **2 questions correctly out of 4 questions**. $$\\therefore {}^4C_2 = \\frac{4!}{2! \\times 2!} = \\frac{4 \\times 3 \\times 2 \\times 1}{2 \\times 1 \\times 2 \\times 1} = 6$$\n",
        "\n",
        "- ${}^4C_3$ denotes the **number of ways** in which you can solve **3 questions correctly out of 4 questions**. $$\\therefore {}^4C_3 = \\frac{4!}{1! \\times 3!}= \\frac{4 \\times 3 \\times 2 \\times 1}{3 \\times 2 \\times 1} = 4$$\n",
        "\n",
        "- ${}^4C_4$ denotes the **number of ways** in which you can solve **4 questions correctly out of 4 questions**. $$\\therefore {}^4C_4 = \\frac{4!}{0! \\times 4!}= 1$$\n",
        "\n",
        "If you look closely, in general,\n",
        "\n",
        "$${}^nC_{r} = \\frac{n!}{(n-r)! \\times r!} = {}^nC_{n - r}$$\n",
        "\n",
        "where $n$ is a natural number and $r$ is a whole number but $r \\le n$.\n",
        "\n",
        "In the context of this question,\n",
        "\n",
        "- $n$ is the total number of questions in an MCQ test\n",
        "\n",
        "- $r$ is the number of questions to be solved correctly by fluke out of $n$ questions\n",
        "\n",
        "- ${}^nC_r$ is the number of ways in which $r$ questions can be solved out of $n$ questions correctly by fluke\n",
        "\n",
        "Once again let's look at the probabilities of the random variables $X = 0, 1, 2, 3, 4$\n",
        "\n",
        "- The $P(X = 0)$ expression can also be written as $P(X = 0) = {}^4C_0 \\times \\left(\\frac{1}{4}\\right)^0 \\times \\left(\\frac{3}{4}\\right)^4$\n",
        "\n",
        "- The $P(X = 1)$ expression can also be written as $P(X = 1) = {}^4C_1 \\times \\frac{1}{4} \\times \\left(\\frac{3}{4}\\right)^3$\n",
        "\n",
        "- The $P(X = 2)$ expression can also be written as $P(X = 2) = {}^4C_2 \\times \\left(\\frac{1}{4}\\right)^2 \\times \\left(\\frac{3}{4}\\right)^2$\n",
        "\n",
        "- The $P(X = 3)$ expression can also be written as $P(X = 3) = {}^4C_3 \\times \\left(\\frac{1}{4}\\right)^3 \\times \\frac{3}{4}$\n",
        "\n",
        "- The $P(X = 4)$ expression can also be written as $P(X = 4) = {}^4C_4 \\times \\left(\\frac{1}{4}\\right)^4 \\times \\left(\\frac{3}{4}\\right)^0$\n",
        "\n",
        "In general, in any experiment having total $n$ possible trials, the probability of success in $r$ trials out of $n$ trials is given by\n",
        "\n",
        "$$P(X = r) = {}^nC_r \\times s^r \\times f^{n - r}$$\n",
        "\n",
        "where $s$ denotes the probability of **success**, $f$ denotes the probability of **failure** and $s + f = 1$\n",
        "\n",
        "In our MCQ test problem, **success** is choosing the one correct option out of four options and the **failure** is choosing an incorrect option.\n",
        "\n",
        "\n",
        "This is called **binomial distribution**. In other words, distribution of two terms.\n",
        "\n",
        "Also, the sum of all the probabilities will be equal to one, i.e. ,\n",
        "\n",
        "$P(X = 0) + P(X = 1) + P(X = 2) + \\dots + P(X = n - 1) + P(X = n) = 1$\n",
        "\n",
        "$${}^nC_0 \\times s^0 \\times f^{n - 0}$$\n",
        "\n",
        "$$+$$\n",
        "\n",
        "$${}^nC_1 \\times s^1 \\times f^{n - 1}$$\n",
        "\n",
        "$$+$$\n",
        "\n",
        "$${}^nC_r \\times s^r \\times f^{n - r}$$\n",
        "\n",
        "$$\\dots$$\n",
        "\n",
        "$$\\dots$$\n",
        "\n",
        "$$\\dots$$\n",
        "\n",
        "$${}^nC_{n - 1} \\times s^{n - 1} \\times f^{1}$$\n",
        "\n",
        "$$+$$\n",
        "\n",
        "$${}^nC_n \\times s^n \\times f^0$$\n",
        "\n",
        "$$= 1$$"
      ]
    },
    {
      "cell_type": "code",
      "metadata": {
        "id": "3FoYr3g9B1eI"
      },
      "source": [
        "# S2.1: Find the sum of all the probabilities calculated above.\n",
        "prob_ques_0+prob_ques_1+prob_ques_2+prob_ques_3+prob_ques_correct"
      ],
      "execution_count": null,
      "outputs": []
    },
    {
      "cell_type": "markdown",
      "metadata": {
        "id": "nTZhaOceF0x9"
      },
      "source": [
        "We can also create functions to calculate the factorial value of a number $n$ and to get the probability of a random variable $X = r$."
      ]
    },
    {
      "cell_type": "code",
      "metadata": {
        "id": "CBXukb_QpBnS",
        "colab": {
          "base_uri": "https://localhost:8080/"
        },
        "outputId": "f13e4e1e-e549-4642-e769-0bcd3bdfd500"
      },
      "source": [
        "# S2.2: Create functions to calculate the factorial value of a number 'n' and to get the probability of a random variable X = r.\n",
        "def factorial(num):\n",
        "  factorial = 1\n",
        "  if num < 0:\n",
        "    return \"Undefined.\"\n",
        "  else:\n",
        "    while num > 0:\n",
        "      factorial *= num\n",
        "      num -= 1\n",
        "    return factorial\n",
        "\n",
        "# print(factorial(4))\n",
        "\n",
        "def prob_random_var(num_trials, random_var, prob_success):\n",
        "  num_trials_choose_random_var = factorial(num_trials) / ((factorial(num_trials - random_var)) * (factorial(random_var))) # nCr\n",
        "  prob_random_var = num_trials_choose_random_var * (prob_success ** random_var) * ((1 - prob_success) ** (num_trials - random_var))\n",
        "  return prob_random_var\n",
        "\n",
        "prob_random_var(4, 3, 0.25)"
      ],
      "execution_count": null,
      "outputs": [
        {
          "output_type": "execute_result",
          "data": {
            "text/plain": [
              "0.046875"
            ]
          },
          "metadata": {},
          "execution_count": 2
        }
      ]
    },
    {
      "cell_type": "markdown",
      "metadata": {
        "id": "LAEZ8qsN9Zi8"
      },
      "source": [
        "In the above code:\n",
        "\n",
        "1. First, we are creating a function to calculate the factorial of a number. It takes an integer as an input for which the factorial value needs to be calculated.\n",
        "\n",
        "   - A factorial value is valid only for a non-negative integer. So the function should return 0 for negative integers.\n",
        "\n",
        "   - For positive integers, the function should return the factorial of a number.\n",
        "\n",
        "\n",
        "2. Then we are creating a function to calculate the probability of a random variable. It takes the total number of trials `num_trials`, a random variable `random_var` and the probability of success `prob_success` as inputs\n",
        "\n",
        "   - First, we calculate the value of ${}^nC_{r} = \\frac{n!}{(n - r)! \\times r!}$ which we store in the `num_trials_choose_random_var` variable.\n",
        "\n",
        "   - Then we calculate the probability of random variable $P(X = r) = {}^nC_r \\times s^r \\times f^{n - r}$ which we store in the `prob_random_var` variable.\n",
        "\n",
        "   - The function returns the value of `prob_random_var`.\n",
        "\n",
        "   - Note that the probability of failure is `1 - prob_success`.\n",
        "\n"
      ]
    },
    {
      "cell_type": "markdown",
      "metadata": {
        "id": "eJHrPOaaGWFa"
      },
      "source": [
        "What will be the probability of solving say 50 questions correctly by fluke in an MCQ test having 100 questions?"
      ]
    },
    {
      "cell_type": "code",
      "metadata": {
        "id": "E3fvlDF48Z1-"
      },
      "source": [
        "# S2.3: Solve the above question.\n",
        "prob_random_var(4, 3, 0.25)"
      ],
      "execution_count": null,
      "outputs": []
    },
    {
      "cell_type": "markdown",
      "metadata": {
        "id": "FxjItcFEGz94"
      },
      "source": [
        "\n",
        "The probability value is so low that it is nearly impossible to solve even half the number of questions correctly by fluke in an MCQ test. Hence, you should always prepare for tests.\n",
        "\n",
        "It's almost time for the Capstone class. And by now, you already know why it is important. This time around, we will also learn an important lesson in the Capstone class.\n",
        "\n",
        "You may have watched movies showcasing people winning lotteries and becoming  millionaires overnight. Have you ever wondered what's the probability of winning in the game of chances like lottery? Let's find out in the next class.\n",
        "\n",
        "Please invite your parents for the Capstone class."
      ]
    },
    {
      "cell_type": "markdown",
      "metadata": {
        "id": "_LuEG2lFGT-i"
      },
      "source": [
        "---"
      ]
    }
  ]
}