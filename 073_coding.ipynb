{
  "nbformat": 4,
  "nbformat_minor": 0,
  "metadata": {
    "colab": {
      "provenance": [],
      "include_colab_link": true
    },
    "kernelspec": {
      "name": "python3",
      "display_name": "Python 3"
    }
  },
  "cells": [
    {
      "cell_type": "markdown",
      "metadata": {
        "id": "view-in-github",
        "colab_type": "text"
      },
      "source": [
        "<a href=\"https://colab.research.google.com/github/twisha-k/Python_notes/blob/main/73_coding.ipynb\" target=\"_parent\"><img src=\"https://colab.research.google.com/assets/colab-badge.svg\" alt=\"Open In Colab\"/></a>"
      ]
    },
    {
      "cell_type": "markdown",
      "metadata": {
        "id": "F2cCUUgEuhKm"
      },
      "source": [
        "# Lesson 73: Logistic Regression - Univariate Classification II"
      ]
    },
    {
      "cell_type": "markdown",
      "metadata": {
        "id": "ze9uSJt-I-0E"
      },
      "source": [
        "### Teacher-Student Activities\n",
        "\n",
        "In this class, you  will learn a concept called the **sigmoid** function that is used by logistic regression to perform classification."
      ]
    },
    {
      "cell_type": "markdown",
      "metadata": {
        "id": "p8T9SB9W3kuR"
      },
      "source": [
        "----"
      ]
    },
    {
      "cell_type": "markdown",
      "metadata": {
        "id": "uE7EERr3iUsQ"
      },
      "source": [
        "### Recap"
      ]
    },
    {
      "cell_type": "code",
      "metadata": {
        "id": "x-ljB0Zr87CT",
        "colab": {
          "base_uri": "https://localhost:8080/",
          "height": 384
        },
        "outputId": "06520cd2-fa9f-4d61-c271-6d50ccac6f16"
      },
      "source": [
        "# Import the required modules and load the heart disease dataset.\n",
        "import numpy as np\n",
        "import pandas as pd\n",
        "import matplotlib.pyplot as plt\n",
        "import seaborn as sns\n",
        "\n",
        "csv_file = 'https://s3-student-datasets-bucket.whjr.online/whitehat-ds-datasets/uci-heart-disease/heart.csv'\n",
        "df = pd.read_csv(csv_file)\n",
        "\n",
        "# Print the number of records with and without heart disease.\n",
        "print(\"Number of records in each label are\")\n",
        "print(df['target'].value_counts())\n",
        "\n",
        "# Print the percentage of each label\n",
        "print(\"\\nPercentage of records in each label are\")\n",
        "print(df['target'].value_counts() * 100 / df.shape[0], \"\\n\")\n",
        "\n",
        "# Print the first five rows of Dataframe.\n",
        "df.head()"
      ],
      "execution_count": null,
      "outputs": [
        {
          "output_type": "stream",
          "name": "stdout",
          "text": [
            "Number of records in each label are\n",
            "1    165\n",
            "0    138\n",
            "Name: target, dtype: int64\n",
            "\n",
            "Percentage of records in each label are\n",
            "1    54.455446\n",
            "0    45.544554\n",
            "Name: target, dtype: float64 \n",
            "\n"
          ]
        },
        {
          "output_type": "execute_result",
          "data": {
            "text/plain": [
              "   age  sex  cp  trestbps  chol  fbs  restecg  thalach  exang  oldpeak  slope  \\\n",
              "0   63    1   3       145   233    1        0      150      0      2.3      0   \n",
              "1   37    1   2       130   250    0        1      187      0      3.5      0   \n",
              "2   41    0   1       130   204    0        0      172      0      1.4      2   \n",
              "3   56    1   1       120   236    0        1      178      0      0.8      2   \n",
              "4   57    0   0       120   354    0        1      163      1      0.6      2   \n",
              "\n",
              "   ca  thal  target  \n",
              "0   0     1       1  \n",
              "1   0     2       1  \n",
              "2   0     2       1  \n",
              "3   0     2       1  \n",
              "4   0     2       1  "
            ],
            "text/html": [
              "\n",
              "  <div id=\"df-6e9fefb9-ec16-4340-8ded-53f473e695da\">\n",
              "    <div class=\"colab-df-container\">\n",
              "      <div>\n",
              "<style scoped>\n",
              "    .dataframe tbody tr th:only-of-type {\n",
              "        vertical-align: middle;\n",
              "    }\n",
              "\n",
              "    .dataframe tbody tr th {\n",
              "        vertical-align: top;\n",
              "    }\n",
              "\n",
              "    .dataframe thead th {\n",
              "        text-align: right;\n",
              "    }\n",
              "</style>\n",
              "<table border=\"1\" class=\"dataframe\">\n",
              "  <thead>\n",
              "    <tr style=\"text-align: right;\">\n",
              "      <th></th>\n",
              "      <th>age</th>\n",
              "      <th>sex</th>\n",
              "      <th>cp</th>\n",
              "      <th>trestbps</th>\n",
              "      <th>chol</th>\n",
              "      <th>fbs</th>\n",
              "      <th>restecg</th>\n",
              "      <th>thalach</th>\n",
              "      <th>exang</th>\n",
              "      <th>oldpeak</th>\n",
              "      <th>slope</th>\n",
              "      <th>ca</th>\n",
              "      <th>thal</th>\n",
              "      <th>target</th>\n",
              "    </tr>\n",
              "  </thead>\n",
              "  <tbody>\n",
              "    <tr>\n",
              "      <th>0</th>\n",
              "      <td>63</td>\n",
              "      <td>1</td>\n",
              "      <td>3</td>\n",
              "      <td>145</td>\n",
              "      <td>233</td>\n",
              "      <td>1</td>\n",
              "      <td>0</td>\n",
              "      <td>150</td>\n",
              "      <td>0</td>\n",
              "      <td>2.3</td>\n",
              "      <td>0</td>\n",
              "      <td>0</td>\n",
              "      <td>1</td>\n",
              "      <td>1</td>\n",
              "    </tr>\n",
              "    <tr>\n",
              "      <th>1</th>\n",
              "      <td>37</td>\n",
              "      <td>1</td>\n",
              "      <td>2</td>\n",
              "      <td>130</td>\n",
              "      <td>250</td>\n",
              "      <td>0</td>\n",
              "      <td>1</td>\n",
              "      <td>187</td>\n",
              "      <td>0</td>\n",
              "      <td>3.5</td>\n",
              "      <td>0</td>\n",
              "      <td>0</td>\n",
              "      <td>2</td>\n",
              "      <td>1</td>\n",
              "    </tr>\n",
              "    <tr>\n",
              "      <th>2</th>\n",
              "      <td>41</td>\n",
              "      <td>0</td>\n",
              "      <td>1</td>\n",
              "      <td>130</td>\n",
              "      <td>204</td>\n",
              "      <td>0</td>\n",
              "      <td>0</td>\n",
              "      <td>172</td>\n",
              "      <td>0</td>\n",
              "      <td>1.4</td>\n",
              "      <td>2</td>\n",
              "      <td>0</td>\n",
              "      <td>2</td>\n",
              "      <td>1</td>\n",
              "    </tr>\n",
              "    <tr>\n",
              "      <th>3</th>\n",
              "      <td>56</td>\n",
              "      <td>1</td>\n",
              "      <td>1</td>\n",
              "      <td>120</td>\n",
              "      <td>236</td>\n",
              "      <td>0</td>\n",
              "      <td>1</td>\n",
              "      <td>178</td>\n",
              "      <td>0</td>\n",
              "      <td>0.8</td>\n",
              "      <td>2</td>\n",
              "      <td>0</td>\n",
              "      <td>2</td>\n",
              "      <td>1</td>\n",
              "    </tr>\n",
              "    <tr>\n",
              "      <th>4</th>\n",
              "      <td>57</td>\n",
              "      <td>0</td>\n",
              "      <td>0</td>\n",
              "      <td>120</td>\n",
              "      <td>354</td>\n",
              "      <td>0</td>\n",
              "      <td>1</td>\n",
              "      <td>163</td>\n",
              "      <td>1</td>\n",
              "      <td>0.6</td>\n",
              "      <td>2</td>\n",
              "      <td>0</td>\n",
              "      <td>2</td>\n",
              "      <td>1</td>\n",
              "    </tr>\n",
              "  </tbody>\n",
              "</table>\n",
              "</div>\n",
              "      <button class=\"colab-df-convert\" onclick=\"convertToInteractive('df-6e9fefb9-ec16-4340-8ded-53f473e695da')\"\n",
              "              title=\"Convert this dataframe to an interactive table.\"\n",
              "              style=\"display:none;\">\n",
              "        \n",
              "  <svg xmlns=\"http://www.w3.org/2000/svg\" height=\"24px\"viewBox=\"0 0 24 24\"\n",
              "       width=\"24px\">\n",
              "    <path d=\"M0 0h24v24H0V0z\" fill=\"none\"/>\n",
              "    <path d=\"M18.56 5.44l.94 2.06.94-2.06 2.06-.94-2.06-.94-.94-2.06-.94 2.06-2.06.94zm-11 1L8.5 8.5l.94-2.06 2.06-.94-2.06-.94L8.5 2.5l-.94 2.06-2.06.94zm10 10l.94 2.06.94-2.06 2.06-.94-2.06-.94-.94-2.06-.94 2.06-2.06.94z\"/><path d=\"M17.41 7.96l-1.37-1.37c-.4-.4-.92-.59-1.43-.59-.52 0-1.04.2-1.43.59L10.3 9.45l-7.72 7.72c-.78.78-.78 2.05 0 2.83L4 21.41c.39.39.9.59 1.41.59.51 0 1.02-.2 1.41-.59l7.78-7.78 2.81-2.81c.8-.78.8-2.07 0-2.86zM5.41 20L4 18.59l7.72-7.72 1.47 1.35L5.41 20z\"/>\n",
              "  </svg>\n",
              "      </button>\n",
              "      \n",
              "  <style>\n",
              "    .colab-df-container {\n",
              "      display:flex;\n",
              "      flex-wrap:wrap;\n",
              "      gap: 12px;\n",
              "    }\n",
              "\n",
              "    .colab-df-convert {\n",
              "      background-color: #E8F0FE;\n",
              "      border: none;\n",
              "      border-radius: 50%;\n",
              "      cursor: pointer;\n",
              "      display: none;\n",
              "      fill: #1967D2;\n",
              "      height: 32px;\n",
              "      padding: 0 0 0 0;\n",
              "      width: 32px;\n",
              "    }\n",
              "\n",
              "    .colab-df-convert:hover {\n",
              "      background-color: #E2EBFA;\n",
              "      box-shadow: 0px 1px 2px rgba(60, 64, 67, 0.3), 0px 1px 3px 1px rgba(60, 64, 67, 0.15);\n",
              "      fill: #174EA6;\n",
              "    }\n",
              "\n",
              "    [theme=dark] .colab-df-convert {\n",
              "      background-color: #3B4455;\n",
              "      fill: #D2E3FC;\n",
              "    }\n",
              "\n",
              "    [theme=dark] .colab-df-convert:hover {\n",
              "      background-color: #434B5C;\n",
              "      box-shadow: 0px 1px 3px 1px rgba(0, 0, 0, 0.15);\n",
              "      filter: drop-shadow(0px 1px 2px rgba(0, 0, 0, 0.3));\n",
              "      fill: #FFFFFF;\n",
              "    }\n",
              "  </style>\n",
              "\n",
              "      <script>\n",
              "        const buttonEl =\n",
              "          document.querySelector('#df-6e9fefb9-ec16-4340-8ded-53f473e695da button.colab-df-convert');\n",
              "        buttonEl.style.display =\n",
              "          google.colab.kernel.accessAllowed ? 'block' : 'none';\n",
              "\n",
              "        async function convertToInteractive(key) {\n",
              "          const element = document.querySelector('#df-6e9fefb9-ec16-4340-8ded-53f473e695da');\n",
              "          const dataTable =\n",
              "            await google.colab.kernel.invokeFunction('convertToInteractive',\n",
              "                                                     [key], {});\n",
              "          if (!dataTable) return;\n",
              "\n",
              "          const docLinkHtml = 'Like what you see? Visit the ' +\n",
              "            '<a target=\"_blank\" href=https://colab.research.google.com/notebooks/data_table.ipynb>data table notebook</a>'\n",
              "            + ' to learn more about interactive tables.';\n",
              "          element.innerHTML = '';\n",
              "          dataTable['output_type'] = 'display_data';\n",
              "          await google.colab.output.renderOutput(dataTable, element);\n",
              "          const docLink = document.createElement('div');\n",
              "          docLink.innerHTML = docLinkHtml;\n",
              "          element.appendChild(docLink);\n",
              "        }\n",
              "      </script>\n",
              "    </div>\n",
              "  </div>\n",
              "  "
            ]
          },
          "metadata": {},
          "execution_count": 106
        }
      ]
    },
    {
      "cell_type": "code",
      "source": [
        "\"\"\"Select the correct option that defines the Logistic Regression.\n",
        "\n",
        "It is a type of classification algorithm which classifies different class labels into a single class label.\n",
        "\n",
        "It is a type of sampling algorithm which categorise a given set of data into different class labels.\n",
        "\n",
        "It is a type of classification algorithm which classifies a given set of data into different class labels.\n",
        "\n",
        "It is a binary classification algorithm which classifies a given set of data into another set of data.\n",
        "\n",
        "solution:\n",
        "Logistic Regression is a type of classification algorithm which classifies or categorises a given set of data into different class labels.\n",
        "\n",
        "Logistic Regression is used to predict the probability of an outcome for an event.\n",
        "\"\"\""
      ],
      "metadata": {
        "id": "OooT5V90Lsnl",
        "colab": {
          "base_uri": "https://localhost:8080/",
          "height": 142
        },
        "outputId": "364821d6-4f05-4f1e-a84f-89f591967414"
      },
      "execution_count": null,
      "outputs": [
        {
          "output_type": "execute_result",
          "data": {
            "text/plain": [
              "'Select the correct option that defines the Logistic Regression.\\n\\nIt is a type of classification algorithm which classifies different class labels into a single class label.\\n\\nIt is a type of sampling algorithm which categorise a given set of data into different class labels.\\n\\nIt is a type of classification algorithm which classifies a given set of data into different class labels.\\n\\nIt is a binary classification algorithm which classifies a given set of data into another set of data.\\n\\nsolution:\\nLogistic Regression is a type of classification algorithm which classifies or categorises a given set of data into different class labels.\\n\\nLogistic Regression is used to predict the probability of an outcome for an event. \\n'"
            ],
            "application/vnd.google.colaboratory.intrinsic+json": {
              "type": "string"
            }
          },
          "metadata": {},
          "execution_count": 107
        }
      ]
    },
    {
      "cell_type": "markdown",
      "metadata": {
        "id": "qw5HuSy1OWf1"
      },
      "source": [
        "-----"
      ]
    },
    {
      "cell_type": "markdown",
      "metadata": {
        "id": "HO30ZL7_mTXu"
      },
      "source": [
        "#### Activity 1: Sigmoid Function\n",
        "\n",
        "The sigmoid function, in maths, classifies any data point between **0** and **1**. The graph of a sigmoid function follows the shape of English letter **S**. Mathematically, the sigmoid function is given as\n",
        "\n",
        "$$y =  \\frac{1}{1 + e^{-x}}$$\n",
        "\n",
        "where,  \n",
        "\n",
        "- $y$ is the output of the sigmoid function\n",
        "\n",
        "- $x$ is an independent variable\n",
        "\n",
        "- $e$ is Euler's constant\n",
        "\n",
        "The $x$ takes all the values between $- \\infty$ to $\\infty$ i.e., $x \\in (-\\infty, \\infty)$ and the $y$ ranges between $0$ to $1$ i.e., $y \\in (0, 1)$.\n",
        "\n",
        "**Q: What is so great about sigmoid function in machine learning?**\n",
        "\n",
        "The sigmoid function in the context of machine learning returns the probability of occurrence of an event. As you know, the probability of an event ranges between 0 and 1. So does the output of the sigmoid function. Hence, usage of sigmoid function to calculate probabilities to classify outcomes (say 0 and 1) seems like a natural fit.\n",
        "\n",
        "Before we go deep into the sigmoid function, let's create a function in Python and name it `sigmoid()` that takes a series/array as an input and returns a numeric output.\n"
      ]
    },
    {
      "cell_type": "code",
      "metadata": {
        "id": "Lp0hj9SZiIAa"
      },
      "source": [
        "# S1.1: Create a sigmoid function using the above formula.\n",
        "def sigmoid(x):\n",
        "  y=1/(1+np.exp(-x))\n",
        "  return y"
      ],
      "execution_count": null,
      "outputs": []
    },
    {
      "cell_type": "markdown",
      "metadata": {
        "id": "Q_B6tCWkOZ6P"
      },
      "source": [
        "Now that you have the sigmoid function, you can calculate the probabilities of a few random integers between -10 and 10 and plot the output on a scatter plot with the corresponding input to see the shape of the curve."
      ]
    },
    {
      "cell_type": "code",
      "metadata": {
        "id": "G5GSRu-pjZwg",
        "colab": {
          "base_uri": "https://localhost:8080/"
        },
        "outputId": "68a5218f-5750-4660-cf0a-37121119a85b"
      },
      "source": [
        "# S1.2: Create a numpy array having 100 random integers between -10 and 10. Pass the array as an input to the 'sigmoid()' function.\n",
        "input_array=np.random.randint(-10,11,size=100)\n",
        "print(input_array,len(input_array))\n",
        "output_array=sigmoid(input_array)\n",
        "print(output_array)"
      ],
      "execution_count": null,
      "outputs": [
        {
          "output_type": "stream",
          "name": "stdout",
          "text": [
            "[  8  -1  -9   6   9  -8   3   8  -9  -2   0  -3  10   5  -2  -3   3  -6\n",
            "   6  -4  -2  -4 -10  -6   6  -2   2   6   0   6  -7  -9  -9   6 -10  -2\n",
            "   9   2   2   3  -1  10  -4   0 -10  -9   6   6   6   3   1  -3   9 -10\n",
            "   5   7  -1  -2  -6   0   4   4  -2  -9  -6  10  -2  -3   6   1  -3   9\n",
            "  -7   9   2   5  -4   7  -3   5   7  -6   2   3   6  -5  -4   4   1  -6\n",
            " -10  -5 -10   8   9   2  -6   4  -2  -8] 100\n",
            "[9.99664650e-01 2.68941421e-01 1.23394576e-04 9.97527377e-01\n",
            " 9.99876605e-01 3.35350130e-04 9.52574127e-01 9.99664650e-01\n",
            " 1.23394576e-04 1.19202922e-01 5.00000000e-01 4.74258732e-02\n",
            " 9.99954602e-01 9.93307149e-01 1.19202922e-01 4.74258732e-02\n",
            " 9.52574127e-01 2.47262316e-03 9.97527377e-01 1.79862100e-02\n",
            " 1.19202922e-01 1.79862100e-02 4.53978687e-05 2.47262316e-03\n",
            " 9.97527377e-01 1.19202922e-01 8.80797078e-01 9.97527377e-01\n",
            " 5.00000000e-01 9.97527377e-01 9.11051194e-04 1.23394576e-04\n",
            " 1.23394576e-04 9.97527377e-01 4.53978687e-05 1.19202922e-01\n",
            " 9.99876605e-01 8.80797078e-01 8.80797078e-01 9.52574127e-01\n",
            " 2.68941421e-01 9.99954602e-01 1.79862100e-02 5.00000000e-01\n",
            " 4.53978687e-05 1.23394576e-04 9.97527377e-01 9.97527377e-01\n",
            " 9.97527377e-01 9.52574127e-01 7.31058579e-01 4.74258732e-02\n",
            " 9.99876605e-01 4.53978687e-05 9.93307149e-01 9.99088949e-01\n",
            " 2.68941421e-01 1.19202922e-01 2.47262316e-03 5.00000000e-01\n",
            " 9.82013790e-01 9.82013790e-01 1.19202922e-01 1.23394576e-04\n",
            " 2.47262316e-03 9.99954602e-01 1.19202922e-01 4.74258732e-02\n",
            " 9.97527377e-01 7.31058579e-01 4.74258732e-02 9.99876605e-01\n",
            " 9.11051194e-04 9.99876605e-01 8.80797078e-01 9.93307149e-01\n",
            " 1.79862100e-02 9.99088949e-01 4.74258732e-02 9.93307149e-01\n",
            " 9.99088949e-01 2.47262316e-03 8.80797078e-01 9.52574127e-01\n",
            " 9.97527377e-01 6.69285092e-03 1.79862100e-02 9.82013790e-01\n",
            " 7.31058579e-01 2.47262316e-03 4.53978687e-05 6.69285092e-03\n",
            " 4.53978687e-05 9.99664650e-01 9.99876605e-01 8.80797078e-01\n",
            " 2.47262316e-03 9.82013790e-01 1.19202922e-01 3.35350130e-04]\n"
          ]
        }
      ]
    },
    {
      "cell_type": "markdown",
      "metadata": {
        "id": "lKA7I_ltj2nr"
      },
      "source": [
        "As you can see, the sigmoid function output is in the range of 0 to 1.\n",
        "\n",
        "Let's create a scatter plot between the random integers and their corresponding sigmoid function output to check the shape of the curve."
      ]
    },
    {
      "cell_type": "code",
      "metadata": {
        "id": "8CkVXsLGkBUc",
        "colab": {
          "base_uri": "https://localhost:8080/",
          "height": 446
        },
        "outputId": "b42ad0d2-c61d-438b-cd12-57c26539f87e"
      },
      "source": [
        "# S1.3: Create a scatter plot for output array for the sigmoid function\n",
        "import matplotlib.pyplot as plt\n",
        "plt.figure(figsize=(14,7))\n",
        "plt.scatter(input_array,output_array)\n"
      ],
      "execution_count": null,
      "outputs": [
        {
          "output_type": "execute_result",
          "data": {
            "text/plain": [
              "<matplotlib.collections.PathCollection at 0x7f4cfd3e6cd0>"
            ]
          },
          "metadata": {},
          "execution_count": 110
        },
        {
          "output_type": "display_data",
          "data": {
            "text/plain": [
              "<Figure size 1008x504 with 1 Axes>"
            ],
            "image/png": "[encoded data removed]"
          },
          "metadata": {
            "needs_background": "light"
          }
        }
      ]
    },
    {
      "cell_type": "markdown",
      "metadata": {
        "id": "v60RyyD8lN_A"
      },
      "source": [
        "As you can see, the arrangement of the points appears to form a shape of the English letter 'S'.\n",
        "\n",
        "**Important Observations**\n",
        "\n",
        "- *Observation 1:* If $x = 0$, then the output of the sigmoid function is $y = 0.5$ because\n",
        "\n",
        "  $$y = \\frac{1}{1 + e^{0}} = \\frac{1}{1 + 1} = \\frac{1}{2} = 0.5$$\n",
        "\n",
        "  Similarly, if $x = -1$, then the output of the sigmoid function is $y < 0.5$ because\n",
        "\n",
        "  $$y = \\frac{1}{1 + e^{1}} = \\frac{1}{1 + 2.71} = \\frac{1}{3.71} < 0.5$$\n",
        "\n",
        "  And, if $x = 1$, then the output of the sigmoid function is $y > 0.5$ because\n",
        "\n",
        "  $$y = \\frac{1}{1 + e^{-1}} = \\frac{e}{e + 1} = \\frac{2.71}{3.71} = 0.73 > 0.5$$\n",
        "\n",
        "- *Observation 2:* From the curve, you can also see that as the values on the $x$-axis increase, the values on the $y$-axis also increase. So you can say that **the sigmoid curve is continuously increasing**.\n",
        "\n",
        "Based on the above two observations, you can say that the input values to the sigmoid function should be both negative and positive. Hence, before building a univariate logistic regression model, first inspect the polarity (i.e. sign) of values of the independent variable. If all the values are non-negative, then use the standard scaler method to normalise values so that you get a few negative values as well in the independent variable."
      ]
    },
    {
      "cell_type": "markdown",
      "metadata": {
        "id": "TetpyTkL8te7"
      },
      "source": [
        "---"
      ]
    },
    {
      "cell_type": "markdown",
      "metadata": {
        "id": "iOy3ckaFKgZd"
      },
      "source": [
        "#### Activity 2: Classification Criteria in Logistic Regression\n",
        "\n",
        "To classify an outcome as either **yes** or **no** (1 or 0), you need to randomly assign a probability value as the **threshold value**. Let's say the threshold probability value is $0.5$. If for any input value, the corresponding sigmoid function output is\n",
        "- less than 0.5, then you can label that outcome as 0 or **no**\n",
        "- else, you can label that outcome as 1 or **yes**.\n",
        "\n",
        "Let's create a function called `predict()` in Python that takes the output of the `sigmoid()` function and returns a Pandas series containing 0s and 1s as the output."
      ]
    },
    {
      "cell_type": "code",
      "metadata": {
        "id": "8jP5VnNCqv0y"
      },
      "source": [
        "# S2.1: Create the 'predict()' function as described above.\n",
        "def predict(sigmoid_output,threshold):\n",
        "  lst=[]\n",
        "  for i in sigmoid_output:\n",
        "    if i>threshold:\n",
        "      lst.append(1)\n",
        "    else:\n",
        "      lst.append(0)\n",
        "  return pd.Series(lst)\n",
        ""
      ],
      "execution_count": null,
      "outputs": []
    },
    {
      "cell_type": "markdown",
      "metadata": {
        "id": "kRccBz4WyVyC"
      },
      "source": [
        "In the above code,\n",
        "\n",
        "- we iterate through each item of the `sigmoid_output` series,\n",
        "\n",
        "- compare each item with the threshold value,\n",
        "\n",
        "- if the item is is greater than or equals to 0.5, we add `1` to a Python list, else add `0` to it,\n",
        "\n",
        "- convert the Python list to a Pandas series using the `pd.Series()` function,\n",
        "\n",
        "- return the Pandas series created\n",
        "\n",
        "Now let's use the `predict()` function to classify the `sigmoid()` function outputs as 0 and 1."
      ]
    },
    {
      "cell_type": "code",
      "metadata": {
        "id": "UnPmYQaFEk4v",
        "colab": {
          "base_uri": "https://localhost:8080/"
        },
        "outputId": "22cf8bf1-2cec-4258-ad2c-69dcf92c2728"
      },
      "source": [
        "# S2.2: Use the 'predict()' function to classify the 'sigmoid()' function outputs as 0 and 1.\n",
        "threshold=0.5\n",
        "y_pred=predict(output_array,threshold)\n",
        "y_pred"
      ],
      "execution_count": null,
      "outputs": [
        {
          "output_type": "execute_result",
          "data": {
            "text/plain": [
              "0     1\n",
              "1     0\n",
              "2     0\n",
              "3     1\n",
              "4     1\n",
              "     ..\n",
              "95    1\n",
              "96    0\n",
              "97    1\n",
              "98    0\n",
              "99    0\n",
              "Length: 100, dtype: int64"
            ]
          },
          "metadata": {},
          "execution_count": 112
        }
      ]
    },
    {
      "cell_type": "markdown",
      "metadata": {
        "id": "zR7SVwUZFFnv"
      },
      "source": [
        "Let's create a scatter plot between the random integers and their corresponding binary labels (i.e. 0 and 1)."
      ]
    },
    {
      "cell_type": "code",
      "metadata": {
        "id": "2gB-u_kHFELR",
        "colab": {
          "base_uri": "https://localhost:8080/",
          "height": 283
        },
        "outputId": "96e527ce-1248-4b27-e15b-66f32c5005bd"
      },
      "source": [
        "# S2.3: Create a scatter plot between the random integers and their corresponding binary labels (i.e. 0 and 1).\n",
        "plt.scatter(input_array,y_pred)\n",
        "plt.axhline(threshold)"
      ],
      "execution_count": null,
      "outputs": [
        {
          "output_type": "execute_result",
          "data": {
            "text/plain": [
              "<matplotlib.lines.Line2D at 0x7f4cfdaba310>"
            ]
          },
          "metadata": {},
          "execution_count": 113
        },
        {
          "output_type": "display_data",
          "data": {
            "text/plain": [
              "<Figure size 432x288 with 1 Axes>"
            ],
            "image/png": "[encoded data removed]"
          },
          "metadata": {
            "needs_background": "light"
          }
        }
      ]
    },
    {
      "cell_type": "markdown",
      "metadata": {
        "id": "1gaKaIwJTsc0"
      },
      "source": [
        "With different threshold values, you will get different classifications but the most optimal threshold value is that value which classifies most sigmoid function outputs correctly as 0 and 1.\n",
        "\n",
        "Let's consider five different threshold probability values and classify the sigmoid function outputs as 0 and 1 based on them. Let's also create their scatter plots."
      ]
    },
    {
      "cell_type": "code",
      "metadata": {
        "id": "Z6EB9UBamLXr",
        "colab": {
          "base_uri": "https://localhost:8080/",
          "height": 1000
        },
        "outputId": "48a8de07-4c13-4f91-ed0b-9bbd78f65f98"
      },
      "source": [
        "# S2.4: Consider 5 different threshold probability values and classify the sigmoid function outputs as 0 and 1 based on them.\n",
        "# Also create their scatter plots.\n",
        "thresholds=np.linspace(0.1,0.9,5)\n",
        "predictions= [[i,list(predict(output_array,i))] for i in thresholds]\n",
        "for i in range(len(predictions)):\n",
        "  plt.figure(figsize=(15,7))\n",
        "  plt.scatter(input_array,predictions[i][1]) #i is ranging from 0 to 4\n",
        "  plt.axhline(predictions[i][0])\n",
        "  plt.xticks(np.arange(-10, 12))\n",
        "  plt.grid(axis = 'x')\n",
        "  plt.legend()\n",
        "  plt.show()\n"
      ],
      "execution_count": null,
      "outputs": [
        {
          "output_type": "stream",
          "name": "stderr",
          "text": [
            "No handles with labels found to put in legend.\n"
          ]
        },
        {
          "output_type": "display_data",
          "data": {
            "text/plain": [
              "<Figure size 1080x504 with 1 Axes>"
            ],
            "image/png": "[encoded data removed]"
          },
          "metadata": {
            "needs_background": "light"
          }
        },
        {
          "output_type": "stream",
          "name": "stderr",
          "text": [
            "No handles with labels found to put in legend.\n"
          ]
        },
        {
          "output_type": "display_data",
          "data": {
            "text/plain": [
              "<Figure size 1080x504 with 1 Axes>"
            ],
            "image/png": "[encoded data removed]"
          },
          "metadata": {
            "needs_background": "light"
          }
        },
        {
          "output_type": "stream",
          "name": "stderr",
          "text": [
            "No handles with labels found to put in legend.\n"
          ]
        },
        {
          "output_type": "display_data",
          "data": {
            "text/plain": [
              "<Figure size 1080x504 with 1 Axes>"
            ],
            "image/png": "[encoded data removed]"
          },
          "metadata": {
            "needs_background": "light"
          }
        },
        {
          "output_type": "stream",
          "name": "stderr",
          "text": [
            "No handles with labels found to put in legend.\n"
          ]
        },
        {
          "output_type": "display_data",
          "data": {
            "text/plain": [
              "<Figure size 1080x504 with 1 Axes>"
            ],
            "image/png": "[encoded data removed]"
          },
          "metadata": {
            "needs_background": "light"
          }
        },
        {
          "output_type": "stream",
          "name": "stderr",
          "text": [
            "No handles with labels found to put in legend.\n"
          ]
        },
        {
          "output_type": "display_data",
          "data": {
            "text/plain": [
              "<Figure size 1080x504 with 1 Axes>"
            ],
            "image/png": "[encoded data removed]"
          },
          "metadata": {
            "needs_background": "light"
          }
        }
      ]
    },
    {
      "cell_type": "code",
      "source": [
        "thresholds=np.linspace(0.1,0.9,5)\n",
        "predictions= [[i,list(predict(input_array,i))] for i in thresholds]\n",
        "print(thresholds)\n",
        "print(predictions)"
      ],
      "metadata": {
        "colab": {
          "base_uri": "https://localhost:8080/"
        },
        "id": "VwKOHE9YYO04",
        "outputId": "043764a6-c46d-4710-d415-55422ad35e4a"
      },
      "execution_count": null,
      "outputs": [
        {
          "output_type": "stream",
          "name": "stdout",
          "text": [
            "[0.1 0.3 0.5 0.7 0.9]\n",
            "[[0.1, [1, 0, 0, 1, 1, 0, 1, 1, 0, 0, 0, 0, 1, 1, 0, 0, 1, 0, 1, 0, 0, 0, 0, 0, 1, 0, 1, 1, 0, 1, 0, 0, 0, 1, 0, 0, 1, 1, 1, 1, 0, 1, 0, 0, 0, 0, 1, 1, 1, 1, 1, 0, 1, 0, 1, 1, 0, 0, 0, 0, 1, 1, 0, 0, 0, 1, 0, 0, 1, 1, 0, 1, 0, 1, 1, 1, 0, 1, 0, 1, 1, 0, 1, 1, 1, 0, 0, 1, 1, 0, 0, 0, 0, 1, 1, 1, 0, 1, 0, 0]], [0.30000000000000004, [1, 0, 0, 1, 1, 0, 1, 1, 0, 0, 0, 0, 1, 1, 0, 0, 1, 0, 1, 0, 0, 0, 0, 0, 1, 0, 1, 1, 0, 1, 0, 0, 0, 1, 0, 0, 1, 1, 1, 1, 0, 1, 0, 0, 0, 0, 1, 1, 1, 1, 1, 0, 1, 0, 1, 1, 0, 0, 0, 0, 1, 1, 0, 0, 0, 1, 0, 0, 1, 1, 0, 1, 0, 1, 1, 1, 0, 1, 0, 1, 1, 0, 1, 1, 1, 0, 0, 1, 1, 0, 0, 0, 0, 1, 1, 1, 0, 1, 0, 0]], [0.5, [1, 0, 0, 1, 1, 0, 1, 1, 0, 0, 0, 0, 1, 1, 0, 0, 1, 0, 1, 0, 0, 0, 0, 0, 1, 0, 1, 1, 0, 1, 0, 0, 0, 1, 0, 0, 1, 1, 1, 1, 0, 1, 0, 0, 0, 0, 1, 1, 1, 1, 1, 0, 1, 0, 1, 1, 0, 0, 0, 0, 1, 1, 0, 0, 0, 1, 0, 0, 1, 1, 0, 1, 0, 1, 1, 1, 0, 1, 0, 1, 1, 0, 1, 1, 1, 0, 0, 1, 1, 0, 0, 0, 0, 1, 1, 1, 0, 1, 0, 0]], [0.7000000000000001, [1, 0, 0, 1, 1, 0, 1, 1, 0, 0, 0, 0, 1, 1, 0, 0, 1, 0, 1, 0, 0, 0, 0, 0, 1, 0, 1, 1, 0, 1, 0, 0, 0, 1, 0, 0, 1, 1, 1, 1, 0, 1, 0, 0, 0, 0, 1, 1, 1, 1, 1, 0, 1, 0, 1, 1, 0, 0, 0, 0, 1, 1, 0, 0, 0, 1, 0, 0, 1, 1, 0, 1, 0, 1, 1, 1, 0, 1, 0, 1, 1, 0, 1, 1, 1, 0, 0, 1, 1, 0, 0, 0, 0, 1, 1, 1, 0, 1, 0, 0]], [0.9, [1, 0, 0, 1, 1, 0, 1, 1, 0, 0, 0, 0, 1, 1, 0, 0, 1, 0, 1, 0, 0, 0, 0, 0, 1, 0, 1, 1, 0, 1, 0, 0, 0, 1, 0, 0, 1, 1, 1, 1, 0, 1, 0, 0, 0, 0, 1, 1, 1, 1, 1, 0, 1, 0, 1, 1, 0, 0, 0, 0, 1, 1, 0, 0, 0, 1, 0, 0, 1, 1, 0, 1, 0, 1, 1, 1, 0, 1, 0, 1, 1, 0, 1, 1, 1, 0, 0, 1, 1, 0, 0, 0, 0, 1, 1, 1, 0, 1, 0, 0]]]\n"
          ]
        }
      ]
    },
    {
      "cell_type": "markdown",
      "metadata": {
        "id": "_UUe1ZOjGelk"
      },
      "source": [
        "Now let's apply the same logic to classify the heart disease patients as 0 and 1 based on their cholesterol levels. But before that let's check the range of values in the `chol` column."
      ]
    },
    {
      "cell_type": "code",
      "metadata": {
        "id": "1pmRMY-f_vVc",
        "colab": {
          "base_uri": "https://localhost:8080/",
          "height": 336
        },
        "outputId": "680e33ad-61ab-4a2d-e58d-2436f2ea29c2"
      },
      "source": [
        "# S2.5: Get the descriptive statistics for the 'chol' column.\n",
        "df['chol'].describe()\n",
        "plt.hist(df['chol'])"
      ],
      "execution_count": null,
      "outputs": [
        {
          "output_type": "execute_result",
          "data": {
            "text/plain": [
              "(array([ 12.,  73., 106.,  69.,  35.,   3.,   4.,   0.,   0.,   1.]),\n",
              " array([126. , 169.8, 213.6, 257.4, 301.2, 345. , 388.8, 432.6, 476.4,\n",
              "        520.2, 564. ]),\n",
              " <a list of 10 Patch objects>)"
            ]
          },
          "metadata": {},
          "execution_count": 116
        },
        {
          "output_type": "display_data",
          "data": {
            "text/plain": [
              "<Figure size 432x288 with 1 Axes>"
            ],
            "image/png": "[encoded data removed]"
          },
          "metadata": {
            "needs_background": "light"
          }
        }
      ]
    },
    {
      "cell_type": "markdown",
      "metadata": {
        "id": "AJcKkR0lAhNK"
      },
      "source": [
        "As you can see, all the values in the cholesterol column are non-negative. Let's first normalise them by calculating their $Z$-scores (or standard scaler)."
      ]
    },
    {
      "cell_type": "code",
      "metadata": {
        "id": "evSbSoiEAzRm",
        "colab": {
          "base_uri": "https://localhost:8080/",
          "height": 567
        },
        "outputId": "a8059628-e139-4311-cdfa-d3b4cc0bf47f"
      },
      "source": [
        "# S2.6: Normalise the 'chol' column values using the standard scaler method.\n",
        "def standard_scalar(series):\n",
        "  return (series-series.mean())/series.std()\n",
        "chol_scale=standard_scalar(df['chol'])\n",
        "print(chol_scale)\n",
        "plt.hist(chol_scale)"
      ],
      "execution_count": null,
      "outputs": [
        {
          "output_type": "stream",
          "name": "stdout",
          "text": [
            "0     -0.255910\n",
            "1      0.072080\n",
            "2     -0.815424\n",
            "3     -0.198030\n",
            "4      2.078611\n",
            "         ...   \n",
            "298   -0.101562\n",
            "299    0.342190\n",
            "300   -1.027653\n",
            "301   -2.223854\n",
            "302   -0.198030\n",
            "Name: chol, Length: 303, dtype: float64\n"
          ]
        },
        {
          "output_type": "execute_result",
          "data": {
            "text/plain": [
              "(array([ 12.,  73., 106.,  69.,  35.,   3.,   4.,   0.,   0.,   1.]),\n",
              " array([-2.3203219 , -1.47526372, -0.63020554,  0.21485264,  1.05991082,\n",
              "         1.90496899,  2.75002717,  3.59508535,  4.44014353,  5.28520171,\n",
              "         6.13025989]),\n",
              " <a list of 10 Patch objects>)"
            ]
          },
          "metadata": {},
          "execution_count": 117
        },
        {
          "output_type": "display_data",
          "data": {
            "text/plain": [
              "<Figure size 432x288 with 1 Axes>"
            ],
            "image/png": "[encoded data removed]"
          },
          "metadata": {
            "needs_background": "light"
          }
        }
      ]
    },
    {
      "cell_type": "code",
      "metadata": {
        "id": "A1nKD8jq1qBj",
        "colab": {
          "base_uri": "https://localhost:8080/"
        },
        "outputId": "aba0749d-dc80-4fcd-c6b0-774d2b97663f"
      },
      "source": [
        "# S2.7: Calculate the sigmoid output for both the scaled (or normalised) and non-scaled cholesterol values.\n",
        "chol_sigmoid_output=sigmoid(df['chol'])\n",
        "chol_scale_sigmoid_output=sigmoid(chol_scale)\n",
        "print(chol_sigmoid_output.describe())\n",
        "print(chol_scale_sigmoid_output.describe())"
      ],
      "execution_count": null,
      "outputs": [
        {
          "output_type": "stream",
          "name": "stdout",
          "text": [
            "count    303.0\n",
            "mean       1.0\n",
            "std        0.0\n",
            "min        1.0\n",
            "25%        1.0\n",
            "50%        1.0\n",
            "75%        1.0\n",
            "max        1.0\n",
            "Name: chol, dtype: float64\n",
            "count    303.000000\n",
            "mean       0.492837\n",
            "std        0.198175\n",
            "min        0.089454\n",
            "25%        0.336179\n",
            "50%        0.469823\n",
            "75%        0.632919\n",
            "max        0.997829\n",
            "Name: chol, dtype: float64\n"
          ]
        }
      ]
    },
    {
      "cell_type": "markdown",
      "metadata": {
        "id": "iNhYkQIUEUgD"
      },
      "source": [
        "As you can see, all the probabilities (sigmoid outputs) for the non-scaled cholesterol values are 1 whereas they range between 0 and 1 for the scaled `chol` values.\n",
        "\n",
        "Now for different thresholds between 0 and 1, let's classify whether a patient has heart disease or not based on the scaled cholesterol values.\n",
        "\n"
      ]
    },
    {
      "cell_type": "code",
      "metadata": {
        "id": "t5G8OGnnE6f5",
        "colab": {
          "base_uri": "https://localhost:8080/",
          "height": 1000
        },
        "outputId": "93e0f8f4-f829-4f1b-f181-13529a1992b8"
      },
      "source": [
        "# S2.8: Consider 5 different threshold probability values and classify the sigmoid function outputs as 0 and 1 based on them.\n",
        "# Also create their scatter plots.\n",
        "thresholds=np.linspace(0.1,0.9,5)\n",
        "heart_disease_predictions= [[i,list(predict(chol_scale_sigmoid_output,i))] for i in thresholds]\n",
        "for i in range(len(heart_disease_predictions)):\n",
        "  plt.figure(figsize=(15,7))\n",
        "  plt.scatter(chol_scale,heart_disease_predictions[i][1]) #i is ranging from 0 to 4\n",
        "  plt.axhline(heart_disease_predictions[i][0])\n",
        "  plt.xticks(np.arange(-10, 12))\n",
        "  plt.grid(axis = 'x')\n",
        "  plt.legend()\n",
        "  plt.show()"
      ],
      "execution_count": null,
      "outputs": [
        {
          "output_type": "stream",
          "name": "stderr",
          "text": [
            "No handles with labels found to put in legend.\n"
          ]
        },
        {
          "output_type": "display_data",
          "data": {
            "text/plain": [
              "<Figure size 1080x504 with 1 Axes>"
            ],
            "image/png": "[encoded data removed]"
          },
          "metadata": {
            "needs_background": "light"
          }
        },
        {
          "output_type": "stream",
          "name": "stderr",
          "text": [
            "No handles with labels found to put in legend.\n"
          ]
        },
        {
          "output_type": "display_data",
          "data": {
            "text/plain": [
              "<Figure size 1080x504 with 1 Axes>"
            ],
            "image/png": "[encoded data removed]"
          },
          "metadata": {
            "needs_background": "light"
          }
        },
        {
          "output_type": "stream",
          "name": "stderr",
          "text": [
            "No handles with labels found to put in legend.\n"
          ]
        },
        {
          "output_type": "display_data",
          "data": {
            "text/plain": [
              "<Figure size 1080x504 with 1 Axes>"
            ],
            "image/png": "[encoded data removed]"
          },
          "metadata": {
            "needs_background": "light"
          }
        },
        {
          "output_type": "stream",
          "name": "stderr",
          "text": [
            "No handles with labels found to put in legend.\n"
          ]
        },
        {
          "output_type": "display_data",
          "data": {
            "text/plain": [
              "<Figure size 1080x504 with 1 Axes>"
            ],
            "image/png": "[encoded data removed]"
          },
          "metadata": {
            "needs_background": "light"
          }
        },
        {
          "output_type": "stream",
          "name": "stderr",
          "text": [
            "No handles with labels found to put in legend.\n"
          ]
        },
        {
          "output_type": "display_data",
          "data": {
            "text/plain": [
              "<Figure size 1080x504 with 1 Axes>"
            ],
            "image/png": "[encoded data removed]"
          },
          "metadata": {
            "needs_background": "light"
          }
        }
      ]
    },
    {
      "cell_type": "markdown",
      "metadata": {
        "id": "Pvx4eJmLu-ta"
      },
      "source": [
        "Now let's find out the number of 1s and 0s classified by the `predict()` function w.r.t. the threshold of 0.5."
      ]
    },
    {
      "cell_type": "code",
      "metadata": {
        "id": "k3e85L9ISNRL",
        "colab": {
          "base_uri": "https://localhost:8080/"
        },
        "outputId": "ca7376aa-be4f-4362-a747-51c3cd07a617"
      },
      "source": [
        "# S2.9: Find out the number of 1s and 0s classified by the 'predict()' function for a threshold of 0.5.\n",
        "print(thresholds)\n",
        "print(pd.Series(heart_disease_predictions[2][1]).value_counts())\n",
        "print(df['target'].value_counts())"
      ],
      "execution_count": null,
      "outputs": [
        {
          "output_type": "stream",
          "name": "stdout",
          "text": [
            "[0.1 0.3 0.5 0.7 0.9]\n",
            "0    167\n",
            "1    136\n",
            "dtype: int64\n",
            "1    165\n",
            "0    138\n",
            "Name: target, dtype: int64\n"
          ]
        }
      ]
    },
    {
      "cell_type": "markdown",
      "metadata": {
        "id": "YU-_F-1Ovbxv"
      },
      "source": [
        "As you can see the number of values classified as 0 and 1 is almost the same as the number of actual 0s and 1s in the dataset.\n",
        "\n",
        "However, are the predicted 0s  correctly classified as 0s and the predicted 1s  correctly classified as 1s?\n",
        "\n",
        "Let's find out by creating a confusion matrix."
      ]
    },
    {
      "cell_type": "code",
      "metadata": {
        "id": "qC1UHVtCsFLQ",
        "outputId": "530d0583-4d88-47df-f65d-55248fbbb019",
        "colab": {
          "base_uri": "https://localhost:8080/"
        }
      },
      "source": [
        "# S2.10: Create a confusion matrix for the predicted values.\n",
        "from sklearn.metrics import confusion_matrix\n",
        "\n",
        "print(confusion_matrix(df['target'], heart_disease_predictions[2][1]))#for 0.5 threshold"
      ],
      "execution_count": null,
      "outputs": [
        {
          "output_type": "stream",
          "name": "stdout",
          "text": [
            "[[ 65  73]\n",
            " [102  63]]\n"
          ]
        }
      ]
    },
    {
      "cell_type": "markdown",
      "metadata": {
        "id": "pI5_jyvGwkdu"
      },
      "source": [
        "There are a lot of false positives and false negatives in the predicted values. Let's print the f1-scores."
      ]
    },
    {
      "cell_type": "code",
      "metadata": {
        "id": "gf9wAus0wer8",
        "outputId": "9991c624-c4b1-4472-e096-70f0290f9710",
        "colab": {
          "base_uri": "https://localhost:8080/"
        }
      },
      "source": [
        "# S2.11: Print the f1-scores for the predicted values.\n",
        "from sklearn.metrics import classification_report\n",
        "\n",
        "print(classification_report(df['target'], heart_disease_predictions[2][1]))"
      ],
      "execution_count": null,
      "outputs": [
        {
          "output_type": "stream",
          "name": "stdout",
          "text": [
            "              precision    recall  f1-score   support\n",
            "\n",
            "           0       0.39      0.47      0.43       138\n",
            "           1       0.46      0.38      0.42       165\n",
            "\n",
            "    accuracy                           0.42       303\n",
            "   macro avg       0.43      0.43      0.42       303\n",
            "weighted avg       0.43      0.42      0.42       303\n",
            "\n"
          ]
        }
      ]
    },
    {
      "cell_type": "markdown",
      "metadata": {
        "id": "c8gCtw1tzR1z"
      },
      "source": [
        "The f1-scores are also lower. Hence, clearly, the cholesterol values alone cannot  accurately predict whether a person has heart disease or not. You need to consider more features to build a logistic regression model for this purpose.\n",
        "\n",
        "Let's stop here. In the next class, we will create a linear function using with one of the features in the dataset and pass it as an input to the sigmoid function."
      ]
    },
    {
      "cell_type": "markdown",
      "metadata": {
        "id": "xU23oaNKzqRK"
      },
      "source": [
        "---"
      ]
    }
  ]
}
