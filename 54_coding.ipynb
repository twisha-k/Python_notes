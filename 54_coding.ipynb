{
  "nbformat": 4,
  "nbformat_minor": 0,
  "metadata": {
    "colab": {
      "provenance": [],
      "include_colab_link": true
    },
    "kernelspec": {
      "name": "python3",
      "display_name": "Python 3"
    }
  },
  "cells": [
    {
      "cell_type": "markdown",
      "metadata": {
        "id": "view-in-github",
        "colab_type": "text"
      },
      "source": [
        "<a href=\"https://colab.research.google.com/github/twisha-k/Python_notes/blob/main/54_coding.ipynb\" target=\"_parent\"><img src=\"https://colab.research.google.com/assets/colab-badge.svg\" alt=\"Open In Colab\"/></a>"
      ]
    },
    {
      "cell_type": "markdown",
      "metadata": {
        "id": "wXOH90ddtwL2"
      },
      "source": [
        "# Lesson 54: OOP - Encapsulation\n"
      ]
    },
    {
      "cell_type": "markdown",
      "metadata": {
        "id": "GKxriZHwm33R"
      },
      "source": [
        "---"
      ]
    },
    {
      "cell_type": "markdown",
      "metadata": {
        "id": "GbhgAn5kfd-K"
      },
      "source": [
        "### Teacher-Student Activities\n",
        "\n",
        "In this class, we will learn about **Multi-level Inheritance** and an another concept of OOP called **Encapsulation**.\n",
        "\n",
        "Let's have a quick recap of what we did in the last class .\n"
      ]
    },
    {
      "cell_type": "markdown",
      "metadata": {
        "id": "DP-8XrZ_i2yZ"
      },
      "source": [
        "---"
      ]
    },
    {
      "cell_type": "markdown",
      "metadata": {
        "id": "DoShzic97iBl"
      },
      "source": [
        "#### Recap\n",
        "\n",
        "In the previous lesson, we created a parent class `Person` and a child class `Student` using **single-level inheritance**.\n"
      ]
    },
    {
      "cell_type": "code",
      "metadata": {
        "id": "K_ry2pvE8Amu"
      },
      "source": [
        "# Create the class 'Person' as the parent class\n",
        "class Person:\n",
        "  def __init__(self, name, age, gender):\n",
        "    self.name = name\n",
        "    self.age = age\n",
        "    self.gender = gender\n",
        "\n",
        "\n",
        "# Create the 'Student' class as the child class of 'Person'.\n",
        "class Student(Person):\n",
        "  def __init__(self, name, age, gender, grade, class_teacher, school_fee):\n",
        "    Person.__init__(self, name, age, gender)\n",
        "    self.grade = grade\n",
        "    self.class_teacher = class_teacher\n",
        "    self.school_fee = school_fee\n",
        "\n",
        "  def increase_school_fee(self):\n",
        "    self.school_fee = self.school_fee * 1.05\n",
        "    return self.school_fee\n",
        ""
      ],
      "execution_count": null,
      "outputs": []
    },
    {
      "cell_type": "markdown",
      "metadata": {
        "id": "0giy1f829IqA"
      },
      "source": [
        "We know that we can inherit the properties of a parent class in a child class using Single-level Inheritance.\n",
        "Let’s see how we can make a child class of a child class using **Multi-level Inheritance.**"
      ]
    },
    {
      "cell_type": "markdown",
      "metadata": {
        "id": "PmWt3O-WNj2x"
      },
      "source": [
        "---"
      ]
    },
    {
      "cell_type": "markdown",
      "metadata": {
        "id": "HQS14ccHeKlU"
      },
      "source": [
        "#### Activity 1: Multi-level Inheritance^^^\n",
        "\n",
        "Multi-level inheritance means that a child class also has its own child class. Since the inheritance extends one level beyond, it is called **multi-level inheritance**.\n",
        "\n",
        "Because of multi-level inheritance, you could say the new child class is a grandchild class of the parent class.\n",
        "\n",
        "The grandchild class will also be able to inherit the properties of the parent class because the child class inherits the properties of the parent class.\n",
        "\n",
        "Let's understand this concept by creating `Alumni` class which inherits all the properties of the `Student` class except for the `school_fee` property. It also has a new property called graduation year (`grad_year`) to specify the year of graduation or transfer from the school.\n"
      ]
    },
    {
      "cell_type": "code",
      "metadata": {
        "id": "K8-IC8xldDUK"
      },
      "source": [
        "# S1.1: Create the 'Alumni' class.\n",
        "class Alumni:\n",
        "  def __init__(self, name, age, gender, grade, class_teacher, grad_year):\n",
        "    self.grad_year=grad_year\n",
        "    Student.__init__(self, name, age, gender, grade, class_teacher, school_fee=None)\n",
        "\n"
      ],
      "execution_count": null,
      "outputs": []
    },
    {
      "cell_type": "markdown",
      "metadata": {
        "id": "96cTKHu_7P-L"
      },
      "source": [
        "After creating the grandchild class, let's create an object of the `Alumni` class to see if we can access the properties of the child class, i.e., `Student` and parent class, i.e., `Person`."
      ]
    },
    {
      "cell_type": "code",
      "metadata": {
        "id": "2dUkLpRKlx9L",
        "colab": {
          "base_uri": "https://localhost:8080/"
        },
        "outputId": "88da65f2-5be4-4f80-d128-398046881496"
      },
      "source": [
        "# S1.2: Create an object of the 'Alumni' class and retrieve all the 'Alumni' class attributes.\n",
        "alumni=Alumni('Twisha','16','Female',11,'Shalini Vaid',2024)\n",
        "alumni\n",
        "print(alumni.name,alumni.age,alumni.gender,alumni.grade,alumni.class_teacher,alumni.grad_year)"
      ],
      "execution_count": null,
      "outputs": [
        {
          "output_type": "stream",
          "name": "stdout",
          "text": [
            "Twisha 16 Female 11 Shalini Vaid 2024\n"
          ]
        }
      ]
    },
    {
      "cell_type": "markdown",
      "metadata": {
        "id": "OlVDMS2J-brI"
      },
      "source": [
        "As you can see, the object can be used to initialise and retrieve the variables of all the classes inherited sequentially.\n",
        "\n",
        "In this way, we can create any level of the hierarchy to make our code modular and be able to reuse the code created earlier.\n",
        "\n",
        "Now, let's try to make our varibles secure using encapsulation.\n",
        "In encapsulation, we hide the instance (or object) variables and methods. In other words, we make them private so that their values can neither be accessed nor be modified through the direct reference.\n",
        "\n"
      ]
    },
    {
      "cell_type": "markdown",
      "metadata": {
        "id": "rScFyGaSOM2K"
      },
      "source": [
        "---"
      ]
    },
    {
      "cell_type": "markdown",
      "metadata": {
        "id": "y-W-e6w93oNS"
      },
      "source": [
        "#### Activity 2: The `BankAccount` Class\n",
        "\n",
        "Let's create a class called `BankAccount` having the following attributes and methods:\n",
        "\n",
        "**Attributes:**\n",
        "\n",
        "1. Name of the account holder in a bank\n",
        "\n",
        "2. Account number of that account holder\n",
        "\n",
        "3. Current available amount (or balance) in the account\n",
        "\n",
        "**Methods:**\n",
        "\n",
        "1. A function to increase the current balance upon deposit of some additional amount.\n",
        "\n",
        "2. A function to decrease the current balance upon withdrawal of some amount.\n",
        "\n"
      ]
    },
    {
      "cell_type": "code",
      "metadata": {
        "id": "u9b5Les9i3gi"
      },
      "source": [
        "# S2.1: Create the 'BankAccount' class as specified above.\n",
        "class BankAccount:\n",
        "  def __init__(self,ac_name,ac_num,current_balance):\n",
        "    self.ac_name=ac_name\n",
        "    self.ac_num=ac_num\n",
        "    self.current_balance=current_balance\n",
        "  def deposit(self,amount_deposit):\n",
        "    self.current_balance+=amount_deposit\n",
        "    return 'amount after deposit'+str(self.current_balance)\n",
        "  def withdrawl(self,amount_withdrawl):\n",
        "    self.current_balance-=amount_withdrawl\n",
        "    return 'amount after withdrawl'+str(self.current_balance)\n"
      ],
      "execution_count": null,
      "outputs": []
    },
    {
      "cell_type": "markdown",
      "metadata": {
        "id": "A2GWB85RrsHk"
      },
      "source": [
        "Now, let's create an object of the `BankAccount` class to test whether it is working correctly or not."
      ]
    },
    {
      "cell_type": "code",
      "metadata": {
        "id": "RQwLf-qJjvBf",
        "colab": {
          "base_uri": "https://localhost:8080/"
        },
        "outputId": "08b74aea-b9b1-4fc5-961e-0e4c2c9a56eb"
      },
      "source": [
        "# S2.2: Create an object of the 'BankAccount' class and retrieve all of its attributes.\n",
        "bank_acc=BankAccount('Twisha Kamani',2005,20000)\n",
        "print(bank_acc.ac_name,bank_acc.ac_num,bank_acc.current_balance)"
      ],
      "execution_count": null,
      "outputs": [
        {
          "output_type": "stream",
          "name": "stdout",
          "text": [
            "Twisha Kamani 2005 20000\n"
          ]
        }
      ]
    },
    {
      "cell_type": "code",
      "metadata": {
        "id": "CYNlVtENN2Bs",
        "colab": {
          "base_uri": "https://localhost:8080/",
          "height": 35
        },
        "outputId": "d6f7813a-ef71-4658-c47d-fe41072524ed"
      },
      "source": [
        "# S2.3: Now add some amount, say 55000, to the 'BankAccount' object created above.\n",
        "bank_acc.deposit(60000)\n"
      ],
      "execution_count": null,
      "outputs": [
        {
          "output_type": "execute_result",
          "data": {
            "application/vnd.google.colaboratory.intrinsic+json": {
              "type": "string"
            },
            "text/plain": [
              "'amount after deposit80000'"
            ]
          },
          "metadata": {},
          "execution_count": 6
        }
      ]
    },
    {
      "cell_type": "markdown",
      "metadata": {
        "id": "Pwe0kDhWOJ_o"
      },
      "source": [
        "Similarly, you can also withdraw some amount from the bank account."
      ]
    },
    {
      "cell_type": "code",
      "metadata": {
        "id": "bhAwqz0sj4QW",
        "colab": {
          "base_uri": "https://localhost:8080/",
          "height": 35
        },
        "outputId": "a1ebb165-d3ed-472b-fc62-ba6692011787"
      },
      "source": [
        "# S2.4: Now withdraw some amount, say 50000, from the 'BankAccount' object created above.\n",
        "bank_acc.withdrawl(20000)"
      ],
      "execution_count": null,
      "outputs": [
        {
          "output_type": "execute_result",
          "data": {
            "application/vnd.google.colaboratory.intrinsic+json": {
              "type": "string"
            },
            "text/plain": [
              "'amount after withdrawl60000'"
            ]
          },
          "metadata": {},
          "execution_count": 7
        }
      ]
    },
    {
      "cell_type": "markdown",
      "metadata": {
        "id": "PMCGHA8pfcqL"
      },
      "source": [
        "---"
      ]
    },
    {
      "cell_type": "markdown",
      "metadata": {
        "id": "zhj3DBPhgtwe"
      },
      "source": [
        "#### Activity 3: Encapsulation\n",
        "\n",
        "\n",
        "**What is Encapsulation?**\n",
        "\n",
        "Encapsulation is the process of hiding the variables and methods of an instance of a class in such a way that their values cannot be accessed directly by calling the attributes using the dot operator. It serves as an additional layer of security to the data of an individual object.\n",
        "\n",
        "Let's understand it better with the help of a new object called `millionaire` of the `BankAccount` class.\n",
        "\n",
        "In the current version of the `BankAccount` class, all the three attributes, i.e., account number, name and balance can easily be changed (or modified) using the assignment operator (`=`). Imagine someone having $100 million in their account getting their money transferred to some other person."
      ]
    },
    {
      "cell_type": "code",
      "metadata": {
        "id": "LEbo4whshb_8"
      },
      "source": [
        "# S3.1: Create a new 'BankAccount' object called 'millionaire' with a balance of 100 million.\n",
        "millionaire=BankAccount('Twisha Kamani',2005,24E10)"
      ],
      "execution_count": null,
      "outputs": []
    },
    {
      "cell_type": "markdown",
      "metadata": {
        "id": "6ddpChszh0RZ"
      },
      "source": [
        "You easily change the current account holder name to your name and just like that you can become a millionaire."
      ]
    },
    {
      "cell_type": "code",
      "metadata": {
        "id": "MLOxH785h77P",
        "colab": {
          "base_uri": "https://localhost:8080/"
        },
        "outputId": "38d967b7-7b64-44a9-f988-b68cf5777e09"
      },
      "source": [
        "# S3.2: Change the account holder name using the assignment operator ('=').\n",
        "millionaire.ac_name = \"Aditi\"\n",
        "\n",
        "print(millionaire.ac_name,millionaire.ac_num,millionaire.current_balance)\n"
      ],
      "execution_count": null,
      "outputs": [
        {
          "output_type": "stream",
          "name": "stdout",
          "text": [
            "Aditi 2005 240000000000.0\n"
          ]
        }
      ]
    },
    {
      "cell_type": "markdown",
      "metadata": {
        "id": "oMbZrnaviI0F"
      },
      "source": [
        "As you can see, the original account holder's name is changed to a new name. To protect the account of the original account holder from such modifications, we can use encapsulation.\n",
        "\n",
        "**General need for encapsulation:**\n",
        "\n",
        "In many areas such as banking, it is very important that such changes or modifications are restricted by making attributes private. We must create private variables and methods for the object of a class to protect them from any kind of change or modifications outside the class.\n",
        "\n",
        "**How to define private variables?**\n",
        "\n",
        "To create a private instance variable or an instance method, simply put two underscore symbols (`__`) before a variable name or a function name as a prefix.\n",
        "\n",
        "**Syntax:** `__attributeName` or `__methodName`\n",
        "\n",
        "Let's create the `BankAccount` class again having the private instance variables. Let's try to access and change them from outside the class."
      ]
    },
    {
      "cell_type": "code",
      "metadata": {
        "id": "xgCTgGw2iuIQ"
      },
      "source": [
        "# S3.3: Create the 'BankAccount' class again with the private attributes.\n",
        "class BankAccount:\n",
        "  def __init__(self,ac_name,ac_num,current_balance):\n",
        "    self.__ac_name=ac_name\n",
        "    self.__ac_num=ac_num\n",
        "    self.__current_balance=current_balance\n",
        "  def deposit(self,amount_deposit):\n",
        "    self.current_balance+=amount_deposit\n",
        "    return 'amount after deposit'+str(self.current_balance)\n",
        "  def withdrawl(self,amount_withdrawl):\n",
        "    self.current_balance-=amount_withdrawl\n",
        "    return 'amount after withdrawl'+str(self.current_balance)\n"
      ],
      "execution_count": null,
      "outputs": []
    },
    {
      "cell_type": "markdown",
      "metadata": {
        "id": "gP_a8iIalapd"
      },
      "source": [
        "Now let's create a new `BankAccount` object with the account holder having 100 million dollars. Also, try to get the balance amount through the direct reference.\n",
        "\n",
        "**Note:** Referencing the value of a private attribute directly will throw `AttributeError`."
      ]
    },
    {
      "cell_type": "code",
      "metadata": {
        "id": "_SyY-5_hi6ZG"
      },
      "source": [
        "# S3.4: Create the 'millionaire' object again and try to retrieve any of the attribute values.\n",
        "millionaire=BankAccount('Twisha Kamani',2005,24E10)\n",
        "millionaire.__ac_name = \"Aditi\"\n",
        "\n",
        "print(millionaire.__ac_name,millionaire.__ac_num,millionaire.__current_balance)\n"
      ],
      "execution_count": null,
      "outputs": []
    },
    {
      "cell_type": "markdown",
      "metadata": {
        "id": "uMaF-s0aB0LJ"
      },
      "source": [
        "As we can clearly see that the `__balance` variable is not accessible from the object directly (or outside of the `BankAccount` class) because of the presence of double underscores (__).\n",
        "\n",
        "Now let's learn how to access the private attribute values outside the class."
      ]
    },
    {
      "cell_type": "markdown",
      "metadata": {
        "id": "6fUcCF7q4h4S"
      },
      "source": [
        "---"
      ]
    },
    {
      "cell_type": "markdown",
      "metadata": {
        "id": "a0Xu6EXQlzl8"
      },
      "source": [
        "#### Activity 4: Getter Functions\n",
        "\n",
        "Now that we have hidden or made the attributes private, we still want to get their values. To do this, we can create a **getter** function.\n",
        "\n",
        "A getter function is also known as an accessor. It is used to print the current value of a private variable. The recommended syntax is:\n",
        "\n",
        "```\n",
        "def get_variable_name(self):            \n",
        "  return self.__variable_name\n",
        "```\n",
        "\n",
        "Let's create **getter** functions to get the account holder name, number and balance values outside the class.\n",
        "\n",
        "**Note:** The getter functions should always return a value."
      ]
    },
    {
      "cell_type": "code",
      "metadata": {
        "id": "0YpDSQ02i9gb"
      },
      "source": [
        "# S4.1: Add the getter methods (or functions) in the 'BankAccount' class to get account holder name, number and balance.\n",
        "class BankAccount:\n",
        "  def __init__(self,ac_name,ac_num,current_balance):\n",
        "    self.__ac_name=ac_name\n",
        "    self.__ac_num=ac_num\n",
        "    self.__current_balance=current_balance\n",
        "  def deposit(self,amount_deposit):\n",
        "    self.current_balance+=amount_deposit\n",
        "    return 'amount after deposit'+str(self.current_balance)\n",
        "  def withdrawl(self,amount_withdrawl):\n",
        "    self.__current_balance-=amount_withdrawl\n",
        "    return 'amount after withdrawl'+str(self.__current_balance)\n",
        "\n",
        "  def get_acc_num(self):\n",
        "    return self.__ac_name\n",
        "  def get_acc_name(self):\n",
        "    return self.__ac_name"
      ],
      "execution_count": null,
      "outputs": []
    },
    {
      "cell_type": "markdown",
      "metadata": {
        "id": "daXB7VgR5M9U"
      },
      "source": [
        "Now let's create a new `BankAccount` object and try to get the values of the hidden attributes using the getter functions."
      ]
    },
    {
      "cell_type": "code",
      "metadata": {
        "id": "EFsAkquYjGsj",
        "colab": {
          "base_uri": "https://localhost:8080/"
        },
        "outputId": "391c2366-f06f-470f-98e0-e272cb166612"
      },
      "source": [
        "# S4.2: Create the 'millionaire' object again and try to retrieve any of the attribute values using the getter method(s).\n",
        "millionaire=BankAccount('Twisha Kamani',2005,24E10)\n",
        "millionaire.get_acc_num(),millionaire.get_acc_name()"
      ],
      "execution_count": null,
      "outputs": [
        {
          "output_type": "execute_result",
          "data": {
            "text/plain": [
              "('Twisha Kamani', 'Twisha Kamani')"
            ]
          },
          "metadata": {},
          "execution_count": 32
        }
      ]
    },
    {
      "cell_type": "markdown",
      "metadata": {
        "id": "fSS6bbZNkjUi"
      },
      "source": [
        "This time you could get the values of the hidden (or private) attributes. So this process of **restricting access to the instance attributes** through the direct reference is called encapsulation.\n",
        "\n",
        "You can also hide the `withdraw_money()` method so that nobody can withdraw an amount outside the class. Let's first withdraw an amount of say $500,000 from Jeff Bezos' account."
      ]
    },
    {
      "cell_type": "code",
      "metadata": {
        "id": "D_XXMcZ0xGkr",
        "colab": {
          "base_uri": "https://localhost:8080/",
          "height": 35
        },
        "outputId": "e9915ab7-edb5-490c-ca66-04e411197232"
      },
      "source": [
        "# S4.3: Withdraw an amount of say $500,000 from Jeff Bezos' account.\n",
        "millionaire=BankAccount('Twisha Kamani',2005,24E10)\n",
        "millionaire.withdrawl(67676)"
      ],
      "execution_count": null,
      "outputs": [
        {
          "output_type": "execute_result",
          "data": {
            "application/vnd.google.colaboratory.intrinsic+json": {
              "type": "string"
            },
            "text/plain": [
              "'amount after withdrawl239999932324.0'"
            ]
          },
          "metadata": {},
          "execution_count": 4
        }
      ]
    },
    {
      "cell_type": "markdown",
      "metadata": {
        "id": "m6vG5oDVxiLA"
      },
      "source": [
        "Now, hide the `withdraw_money()` function."
      ]
    },
    {
      "cell_type": "code",
      "metadata": {
        "id": "Swhpns-TxBSB"
      },
      "source": [
        "# S4.4: Hide the 'withdraw_money()' function.\n",
        "class BankAccount:\n",
        "  def __init__(self,ac_name,ac_num,current_balance):\n",
        "    self.__ac_name=ac_name\n",
        "    self.__ac_num=ac_num\n",
        "    self.__current_balance=current_balance\n",
        "  def deposit(self,amount_deposit):\n",
        "    self.current_balance+=amount_deposit\n",
        "    return 'amount after deposit'+str(self.current_balance)\n",
        "  def __withdrawl(self,amount_withdrawl):\n",
        "    self.__current_balance-=amount_withdrawl\n",
        "    return 'amount after withdrawl'+str(self.__current_balance)\n",
        "\n",
        "  def get_acc_num(self):\n",
        "    return self.__ac_name\n",
        "  def get_acc_name(self):\n",
        "    return self.__ac_name"
      ],
      "execution_count": null,
      "outputs": []
    },
    {
      "cell_type": "markdown",
      "metadata": {
        "id": "v6bSExyexzLS"
      },
      "source": [
        "Now try to withdraw an amount of $1 million using the `withdraw_money()` function.\n",
        "\n",
        "**Note:** The code below should throw `AttributeError`."
      ]
    },
    {
      "cell_type": "code",
      "metadata": {
        "id": "VWAXwijuxEdl",
        "colab": {
          "base_uri": "https://localhost:8080/",
          "height": 201
        },
        "outputId": "9407cda8-0f45-404d-e989-4024e8d3b8c4"
      },
      "source": [
        "# S4.5: Create the 'millionaire' object again and try to withdraw an amount of $1 million using the withdraw_money() function.\n",
        "millionaire=BankAccount('Twisha Kamani',2005,24E10)\n",
        "millionaire.withdrawl(67676)"
      ],
      "execution_count": null,
      "outputs": [
        {
          "output_type": "error",
          "ename": "AttributeError",
          "evalue": "ignored",
          "traceback": [
            "\u001b[0;31m---------------------------------------------------------------------------\u001b[0m",
            "\u001b[0;31mAttributeError\u001b[0m                            Traceback (most recent call last)",
            "\u001b[0;32m<ipython-input-6-de383ca6fe1d>\u001b[0m in \u001b[0;36m<module>\u001b[0;34m()\u001b[0m\n\u001b[1;32m      1\u001b[0m \u001b[0;31m# S4.5: Create the 'millionaire' object again and try to withdraw an amount of $1 million using the withdraw_money() function.\u001b[0m\u001b[0;34m\u001b[0m\u001b[0;34m\u001b[0m\u001b[0;34m\u001b[0m\u001b[0m\n\u001b[1;32m      2\u001b[0m \u001b[0mmillionaire\u001b[0m\u001b[0;34m=\u001b[0m\u001b[0mBankAccount\u001b[0m\u001b[0;34m(\u001b[0m\u001b[0;34m'Twisha Kamani'\u001b[0m\u001b[0;34m,\u001b[0m\u001b[0;36m2005\u001b[0m\u001b[0;34m,\u001b[0m\u001b[0;36m24E10\u001b[0m\u001b[0;34m)\u001b[0m\u001b[0;34m\u001b[0m\u001b[0;34m\u001b[0m\u001b[0m\n\u001b[0;32m----> 3\u001b[0;31m \u001b[0mmillionaire\u001b[0m\u001b[0;34m.\u001b[0m\u001b[0mwithdrawl\u001b[0m\u001b[0;34m(\u001b[0m\u001b[0;36m67676\u001b[0m\u001b[0;34m)\u001b[0m\u001b[0;34m\u001b[0m\u001b[0;34m\u001b[0m\u001b[0m\n\u001b[0m",
            "\u001b[0;31mAttributeError\u001b[0m: 'BankAccount' object has no attribute 'withdrawl'"
          ]
        }
      ]
    },
    {
      "cell_type": "markdown",
      "metadata": {
        "id": "xI1Jl6JxyWOK"
      },
      "source": [
        "As you can see, now you can't even withdraw money because the `withdraw_money()` function is now a private function.\n",
        "\n",
        "Let's stop here. We will continue to learn encapsulation in the next class."
      ]
    },
    {
      "cell_type": "markdown",
      "metadata": {
        "id": "4gGG3CmJ6ado"
      },
      "source": [
        "---"
      ]
    }
  ]
}