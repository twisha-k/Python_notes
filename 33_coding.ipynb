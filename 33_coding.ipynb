{
  "nbformat": 4,
  "nbformat_minor": 0,
  "metadata": {
    "colab": {
      "provenance": [],
      "include_colab_link": true
    },
    "kernelspec": {
      "name": "python3",
      "display_name": "Python 3"
    }
  },
  "cells": [
    {
      "cell_type": "markdown",
      "metadata": {
        "id": "view-in-github",
        "colab_type": "text"
      },
      "source": [
        "<a href=\"https://colab.research.google.com/github/twisha-k/Python_notes/blob/main/33_coding.ipynb\" target=\"_parent\"><img src=\"https://colab.research.google.com/assets/colab-badge.svg\" alt=\"Open In Colab\"/></a>"
      ]
    },
    {
      "cell_type": "markdown",
      "metadata": {
        "id": "DOQ43Vq9IBwE"
      },
      "source": [
        "# Lesson 33: Python Tuples I"
      ]
    },
    {
      "cell_type": "markdown",
      "metadata": {
        "id": "s2pZAC4BWtxM"
      },
      "source": [
        "### Teacher-Student Activities\n",
        "\n",
        "So far you have learned two data-structures: lists and dictionaries. In this class, we will learn Python tuples in detail. We have been using them but never really discussed them much.\n",
        "\n",
        "Essentially, Python tuples behave exactly like Python lists with just one difference. Python tuples are immutable in nature. In other words, the contents of a tuple are unchangeable. Once a tuple is created, you cannot add a new item, cannot update an existing item and cannot delete an item.\n",
        "\n",
        "To sum it up, a Python tuple is an **ordered and immutable** collection of items. A Python list, on the other hand, is an ordered but mutable collection of items.\n",
        "\n",
        "In real-life situations, a tuple is used to store unchangeable information such as bank account number, email-id, coordinates of a location or any universally true fact such as water has two molecules of hydrogen and one molecule of oxygen.\n"
      ]
    },
    {
      "cell_type": "markdown",
      "metadata": {
        "id": "3kS83R_RkxZt"
      },
      "source": [
        "---"
      ]
    },
    {
      "cell_type": "markdown",
      "metadata": {
        "id": "UL4aH3IwkyTs"
      },
      "source": [
        "#### Activity 1: Create Python Tuple\n",
        "\n",
        "Let's create a tuple which stores the names of the six naturally occurring noble gases. They are as follows:\n",
        "\n",
        "`helium (He), neon (Ne), argon (Ar), krypton (Kr), xenon (Xe), radon (Rn)`\n",
        "\n",
        "To create a tuple, you simply have to write the items enclosed between the common brackets `()` such that the items are separated by a comma."
      ]
    },
    {
      "cell_type": "code",
      "metadata": {
        "id": "sGXjP_9XLI0X",
        "colab": {
          "base_uri": "https://localhost:8080/"
        },
        "outputId": "6b9df4f2-d145-4329-812c-d9fe3b41727b"
      },
      "source": [
        "# Student Action: Create a tuple containing the names of the six naturally occurring noble gases.\n",
        "elements=('helium','neon','argon','krypton','xenon','radon')\n",
        "elements"
      ],
      "execution_count": null,
      "outputs": [
        {
          "output_type": "execute_result",
          "data": {
            "text/plain": [
              "('helium', 'neon', 'argon', 'krypton', 'xenon', 'radon')"
            ]
          },
          "metadata": {
            "tags": []
          },
          "execution_count": 1
        }
      ]
    },
    {
      "cell_type": "markdown",
      "metadata": {
        "id": "mlP16hWpXgd3"
      },
      "source": [
        " To verify whether a data structure is a tuple or not, you can use the `type()` function."
      ]
    },
    {
      "cell_type": "code",
      "metadata": {
        "id": "uYRMrXEaXe51",
        "colab": {
          "base_uri": "https://localhost:8080/"
        },
        "outputId": "af615030-b53f-41d8-fbf8-e79b0715435b"
      },
      "source": [
        "# Student Action: Verify whether the data-structure stored in the 'noble_gases' variable is a tuple or not.\n",
        "type(elements)"
      ],
      "execution_count": null,
      "outputs": [
        {
          "output_type": "execute_result",
          "data": {
            "text/plain": [
              "tuple"
            ]
          },
          "metadata": {
            "tags": []
          },
          "execution_count": 2
        }
      ]
    },
    {
      "cell_type": "markdown",
      "metadata": {
        "id": "YiIAzbVIY0Hq"
      },
      "source": [
        "Similar to a Python list, a Python tuple can also contain different types of items such as integer, float, string, list, boolean, tuple etc. Let's learn this concept with the help of an example.\n",
        "\n",
        "Consider the following properties of helium.\n",
        "\n",
        "|Properties of Helium (He) |Values|\n",
        "|-|-|\n",
        "|Atomic number|2|\n",
        "|Atomic mass $\\left(\\frac{g}{mol}\\right)$|4.0026|\n",
        "|Electronegativity according to Pauling|unknown|\n",
        "|Present in Earth's atmosphere|Yes|\n",
        "|Stable isotopes|helium-3, helium-4|\n",
        "\n",
        "The `Values` column in the above list contains items of all the types. Let's put the same items in a tuple and store it in the `helium_props` variable.\n",
        "\n",
        "\n"
      ]
    },
    {
      "cell_type": "code",
      "metadata": {
        "id": "uU_TcNO7TxQy",
        "colab": {
          "base_uri": "https://localhost:8080/"
        },
        "outputId": "5759e89f-c4c1-41cd-8e77-b9d7d0525e7a"
      },
      "source": [
        "# Student Action: Create a tuple containing all the properties of Helium.\n",
        "helium_props=(2,4.0026,'unknown',True,['helium-3','helium-4'])\n",
        "helium_props"
      ],
      "execution_count": null,
      "outputs": [
        {
          "output_type": "execute_result",
          "data": {
            "text/plain": [
              "(2, 4.0026, 'unknown', True, ['helium-3', 'helium-4'])"
            ]
          },
          "metadata": {
            "tags": []
          },
          "execution_count": 3
        }
      ]
    },
    {
      "cell_type": "markdown",
      "metadata": {
        "id": "ZfCaFwjJYX2b"
      },
      "source": [
        "As you can see, a tuple can contain different types of items.\n"
      ]
    },
    {
      "cell_type": "markdown",
      "metadata": {
        "id": "9RV3-ZMkxrZG"
      },
      "source": [
        "---"
      ]
    },
    {
      "cell_type": "markdown",
      "metadata": {
        "id": "gCe9LYbXaSvI"
      },
      "source": [
        "#### Activity 2: Tuple Length\n",
        "\n",
        "The length of a tuple (or tuple length) is the number of items contained in the tuple. To calculate the length of a tuple (or the number of items present in a tuple), you can use the `len()` function (the same function that you have been using for Python lists)."
      ]
    },
    {
      "cell_type": "code",
      "metadata": {
        "id": "J-Z09gTba5Gt",
        "colab": {
          "base_uri": "https://localhost:8080/"
        },
        "outputId": "3dae7d93-3723-4724-a0f4-0ae711cebaee"
      },
      "source": [
        "# Student Action: Calculate the number of items contained in the 'helium_props' tuple.\n",
        "len(helium_props)"
      ],
      "execution_count": null,
      "outputs": [
        {
          "output_type": "execute_result",
          "data": {
            "text/plain": [
              "5"
            ]
          },
          "metadata": {
            "tags": []
          },
          "execution_count": 4
        }
      ]
    },
    {
      "cell_type": "markdown",
      "metadata": {
        "id": "WuND4hQYa7Lw"
      },
      "source": [
        "The last item `['helium-3', 'helium-4']` is a list acting as a singular item contained in the `helium_props` tuple."
      ]
    },
    {
      "cell_type": "markdown",
      "metadata": {
        "id": "2uI5LyWYNiXr"
      },
      "source": [
        "---"
      ]
    },
    {
      "cell_type": "markdown",
      "metadata": {
        "id": "mDDIaAO7xVrl"
      },
      "source": [
        "#### Activity 3: Empty Tuple & One-Item Tuple\n",
        "\n",
        "You can also create an empty tuple (a tuple having no item) by simply writing the common brackets (or parentheses)."
      ]
    },
    {
      "cell_type": "code",
      "metadata": {
        "id": "ouw082yTu95T",
        "colab": {
          "base_uri": "https://localhost:8080/"
        },
        "outputId": "90b664f8-f9db-44f1-8f61-48ced022c231"
      },
      "source": [
        "# Student Action: Create an empty tuple.\n",
        "empty=()\n",
        "empty"
      ],
      "execution_count": null,
      "outputs": [
        {
          "output_type": "execute_result",
          "data": {
            "text/plain": [
              "()"
            ]
          },
          "metadata": {
            "tags": []
          },
          "execution_count": 5
        }
      ]
    },
    {
      "cell_type": "markdown",
      "metadata": {
        "id": "KVm8f5k1vRh1"
      },
      "source": [
        "Interestingly, creating a tuple containing only one item is quite tricky. As an experiment, create the following five tuples containing only one item and check their types using the `type` function.\n",
        "\n",
        "```\n",
        "atomic_num = (2)\n",
        "atomic_mass = (4.0026)\n",
        "elec_neg = ('unknown')\n",
        "in_earth_atmos = (True)\n",
        "stable_isotopes = (['helium-3', 'helium-4'])\n",
        "```"
      ]
    },
    {
      "cell_type": "code",
      "metadata": {
        "id": "RSPj_JS0vZG3",
        "colab": {
          "base_uri": "https://localhost:8080/"
        },
        "outputId": "ab76fa60-3413-4e6d-e50a-0df91ccb9607"
      },
      "source": [
        "# Student Action: Create the above five tuples and check their types.\n",
        "atomic_num = (2)\n",
        "atomic_mass = (4.0026)\n",
        "elec_neg = ('unknown')\n",
        "in_earth_atmos = (True)\n",
        "stable_isotopes = (['helium-3', 'helium-4'])\n",
        "print(type(atomic_num))\n",
        "print(type(atomic_mass))\n",
        "print(type(elec_neg))\n",
        "print(type(in_earth_atmos))\n",
        "print(type(stable_isotopes))"
      ],
      "execution_count": null,
      "outputs": [
        {
          "output_type": "stream",
          "text": [
            "<class 'int'>\n",
            "<class 'float'>\n",
            "<class 'str'>\n",
            "<class 'bool'>\n",
            "<class 'list'>\n"
          ],
          "name": "stdout"
        }
      ]
    },
    {
      "cell_type": "code",
      "metadata": {
        "colab": {
          "base_uri": "https://localhost:8080/"
        },
        "id": "CpkuaqommaWA",
        "outputId": "b81e47ab-e81c-4ae6-a5a6-ec4a47a7567c"
      },
      "source": [
        "list1=['atom']\n",
        "print(type(list1))"
      ],
      "execution_count": null,
      "outputs": [
        {
          "output_type": "stream",
          "text": [
            "<class 'list'>\n"
          ],
          "name": "stdout"
        }
      ]
    },
    {
      "cell_type": "code",
      "metadata": {
        "id": "noyl2SvymuAR"
      },
      "source": [],
      "execution_count": null,
      "outputs": []
    },
    {
      "cell_type": "markdown",
      "metadata": {
        "id": "g3Zw7bK-yI6m"
      },
      "source": [
        "As you can see, the `type()` function returns all the other types except for `tuple`. This is how the Python interpreter works. We can't do anything about it.\n",
        "\n",
        "Now, put a comma after the item in each of the above five tuples and check their types again."
      ]
    },
    {
      "cell_type": "code",
      "metadata": {
        "id": "EJYYKtsZyoFt",
        "colab": {
          "base_uri": "https://localhost:8080/"
        },
        "outputId": "101d4706-08f7-4d72-b1c7-011f2fdea81a"
      },
      "source": [
        "# Student Action: Create the above five tuples again by putting a comma after item in each tuple and check their types.\n",
        "atomic_num = (2,)\n",
        "atomic_mass = (4.0026,)\n",
        "elec_neg = ('unknown',)\n",
        "in_earth_atmos = (True,)\n",
        "stable_isotopes = (['helium-3', 'helium-4'],)\n",
        "print(type(atomic_num))\n",
        "print(type(atomic_mass))\n",
        "print(type(elec_neg))\n",
        "print(type(in_earth_atmos))\n",
        "print(type(stable_isotopes))"
      ],
      "execution_count": null,
      "outputs": [
        {
          "output_type": "stream",
          "text": [
            "<class 'tuple'>\n",
            "<class 'tuple'>\n",
            "<class 'tuple'>\n",
            "<class 'tuple'>\n",
            "<class 'tuple'>\n"
          ],
          "name": "stdout"
        }
      ]
    },
    {
      "cell_type": "markdown",
      "metadata": {
        "id": "5z7-el8VzNq7"
      },
      "source": [
        "As you can see, we have now created five tuples. Each of them contains only one item. Hence, the trick to create a tuple having only one item is to put a comma after the item.\n",
        "\n",
        "**Note:** Even if you don't enclose the items within parentheses but put a trailing comma, then also Python will create a tuple."
      ]
    },
    {
      "cell_type": "code",
      "metadata": {
        "id": "inB4D0glz5Us",
        "colab": {
          "base_uri": "https://localhost:8080/"
        },
        "outputId": "52e54382-5458-4be4-e3ac-8a5d781bd653"
      },
      "source": [
        "# Student Action: Create two tuples without putting parentheses: one having only one item and another having at least two items.\n",
        "# Verify whether they both are tuples or not.\n",
        "tuple1=1,\n",
        "type(tuple1)"
      ],
      "execution_count": null,
      "outputs": [
        {
          "output_type": "execute_result",
          "data": {
            "text/plain": [
              "tuple"
            ]
          },
          "metadata": {
            "tags": []
          },
          "execution_count": 9
        }
      ]
    },
    {
      "cell_type": "code",
      "metadata": {
        "colab": {
          "base_uri": "https://localhost:8080/"
        },
        "id": "SORQc7VGnOcA",
        "outputId": "92eeb7fb-079e-4f42-ff8d-f83d562202d7"
      },
      "source": [
        "tuple2=1,2,3\n",
        "type(tuple2)"
      ],
      "execution_count": null,
      "outputs": [
        {
          "output_type": "execute_result",
          "data": {
            "text/plain": [
              "tuple"
            ]
          },
          "metadata": {
            "tags": []
          },
          "execution_count": 10
        }
      ]
    },
    {
      "cell_type": "markdown",
      "metadata": {
        "id": "JfGAxG_i0MA6"
      },
      "source": [
        "As you can see, even without putting parentheses, we can create a tuple. This is a very unique property of a Python tuple."
      ]
    },
    {
      "cell_type": "markdown",
      "metadata": {
        "id": "axkkh0lFbN9m"
      },
      "source": [
        "---"
      ]
    },
    {
      "cell_type": "markdown",
      "metadata": {
        "id": "zX2UYla-ZZr7"
      },
      "source": [
        "#### Activity 4: Tuple Indexing^\n",
        "\n",
        "Tuple indexing is exactly the same as list indexing. Every item in a Python tuple, occupies a unique position called index.\n",
        "\n",
        "- The first item in a tuple occupies `index = 0`.\n",
        "\n",
        "- Similarly, the second item occupies `index = 1` and so on.\n",
        "\n",
        "- The last item occupies `index = (n - 1)`, where `n` is the number of items contained in a tuple.\n",
        "\n",
        "To get an item of a specific index, write the name of the variable storing the tuple followed by the index value enclosed between square brackets `[]`.\n",
        "\n",
        "**Syntax:** `tuple_name[index_value]`\n"
      ]
    },
    {
      "cell_type": "markdown",
      "metadata": {
        "id": "MTQcsObYeTAk"
      },
      "source": [
        "Here's the expected output for the following exercise:\n",
        "\n",
        "```\n",
        "Item at index 0 is 2\n",
        "Item at index 1 is 4.0026\n",
        "Item at index 2 is unknown\n",
        "Item at index 3 is True\n",
        "Item at index 4 is ['helium-3', 'helium-4']\n",
        "```\n"
      ]
    },
    {
      "cell_type": "code",
      "metadata": {
        "id": "r9YReDgvYbnJ",
        "colab": {
          "base_uri": "https://localhost:8080/"
        },
        "outputId": "3da5e36a-c2e2-4b2d-b053-3ff2c17fe1db"
      },
      "source": [
        "# Student Action: Print all the items one-by-one contained in the 'helium_props' tuple using the indexing method along with a 'for' loop.\n",
        "for i in range(len(helium_props)):\n",
        "  print('item at index',i,\"is\",helium_props[i])"
      ],
      "execution_count": null,
      "outputs": [
        {
          "output_type": "stream",
          "text": [
            "item at index 0 is 2\n",
            "item at index 1 is 4.0026\n",
            "item at index 2 is unknown\n",
            "item at index 3 is True\n",
            "item at index 4 is ['helium-3', 'helium-4']\n"
          ],
          "name": "stdout"
        }
      ]
    },
    {
      "cell_type": "code",
      "metadata": {
        "colab": {
          "base_uri": "https://localhost:8080/"
        },
        "id": "eJy_y0amolte",
        "outputId": "3dd6bd51-a399-4d1e-a035-df20ab603d1b"
      },
      "source": [
        "#static values\n",
        "for i in range(5):\n",
        "  print('item at index',i,\"is\",helium_props[i])\n",
        "\n",
        "#helium_props=(2, 4.0026, 'unknown', True)  when you change this we get index error.\n",
        "#so use len(tuple) to iterate in the loop to avoid the error"
      ],
      "execution_count": null,
      "outputs": [
        {
          "output_type": "stream",
          "text": [
            "item at index 0 is 2\n",
            "item at index 1 is 4.0026\n",
            "item at index 2 is unknown\n",
            "item at index 3 is True\n",
            "item at index 4 is ['helium-3', 'helium-4']\n"
          ],
          "name": "stdout"
        }
      ]
    },
    {
      "cell_type": "markdown",
      "metadata": {
        "id": "_Rv7qabdcnoD"
      },
      "source": [
        "As you can see, you can get individual items by writing their indices enclosed between square brackets after the variable containing the tuple.\n",
        "\n",
        "Just like a Python list, you can use negative indexing as well to retrieve an item from a tuple.\n"
      ]
    },
    {
      "cell_type": "markdown",
      "metadata": {
        "id": "fOjwNFdceWWM"
      },
      "source": [
        "Here's the expected output for the following exercise:\n",
        "\n",
        "```\n",
        "Item at index -5 is 2\n",
        "Item at index -4 is 4.0026\n",
        "Item at index -3 is unknown\n",
        "Item at index -2 is True\n",
        "Item at index -1 is ['helium-3', 'helium-4']\n",
        "```"
      ]
    },
    {
      "cell_type": "code",
      "metadata": {
        "id": "oV_NMDsjgS86",
        "colab": {
          "base_uri": "https://localhost:8080/"
        },
        "outputId": "d1783d02-f08f-40d5-c634-333840cf741c"
      },
      "source": [
        "# Student Action: Print all the items one-by-one contained in the 'helium_props' tuple using the negative indexing method along with a 'for' loop.\n",
        "for j in range(-5,0):\n",
        "  print('item at index',j,'is',helium_props[j])\n"
      ],
      "execution_count": null,
      "outputs": [
        {
          "output_type": "stream",
          "text": [
            "item at index -5 is 2\n",
            "item at index -4 is 4.0026\n",
            "item at index -3 is unknown\n",
            "item at index -2 is True\n",
            "item at index -1 is ['helium-3', 'helium-4']\n"
          ],
          "name": "stdout"
        }
      ]
    },
    {
      "cell_type": "markdown",
      "metadata": {
        "id": "twJpb_FYdGg1"
      },
      "source": [
        "Here's the expected output for the following exercise:\n",
        "\n",
        "```\n",
        "Item at index -1 is ['helium-3', 'helium-4']\n",
        "Item at index -2 is True\n",
        "Item at index -3 is unknown\n",
        "Item at index -4 is 4.0026\n",
        "Item at index -5 is 2\n",
        "```"
      ]
    },
    {
      "cell_type": "code",
      "metadata": {
        "id": "xgpEp-eQbW12",
        "colab": {
          "base_uri": "https://localhost:8080/"
        },
        "outputId": "b2937a13-d7aa-4521-ca71-764e28fa1342"
      },
      "source": [
        "# Student Action: Get all the items of the 'helium_props' tuple in the reverse order using the negative indexing method along with a 'for' loop.\n",
        "for j in range(1,len(helium_props)+1):\n",
        "  print('item at index',-j,'is',helium_props[-j])"
      ],
      "execution_count": null,
      "outputs": [
        {
          "output_type": "stream",
          "text": [
            "item at index -1 is ['helium-3', 'helium-4']\n",
            "item at index -2 is True\n",
            "item at index -3 is unknown\n",
            "item at index -4 is 4.0026\n",
            "item at index -5 is 2\n"
          ],
          "name": "stdout"
        }
      ]
    },
    {
      "cell_type": "markdown",
      "metadata": {
        "id": "A9GPlohcvxU7"
      },
      "source": [
        "You can also retrieve all the items from a tuple without using the `range()` function in a `for` loop.\n",
        "\n"
      ]
    },
    {
      "cell_type": "markdown",
      "metadata": {
        "id": "ULb6zpkJej5l"
      },
      "source": [
        "Here's the expected output for the following exercise:\n",
        "\n",
        "```\n",
        "Item at index 0 is 2\n",
        "Item at index 1 is 4.0026\n",
        "Item at index 2 is unknown\n",
        "Item at index 3 is True\n",
        "Item at index 4 is ['helium-3', 'helium-4']\n",
        "```\n"
      ]
    },
    {
      "cell_type": "code",
      "metadata": {
        "id": "dOQoESx4wmOr",
        "colab": {
          "base_uri": "https://localhost:8080/"
        },
        "outputId": "bead6671-ec6b-4293-fe86-648345290aa8"
      },
      "source": [
        "# Student Action: Retrieve all the items from 'helium_props' tuple without using the 'range()' function in a 'for' loop.\n",
        "i=0\n",
        "for j in helium_props:\n",
        "  print('index at', i ,'is', j)\n",
        "  i=i+1\n",
        "\n"
      ],
      "execution_count": null,
      "outputs": [
        {
          "output_type": "stream",
          "text": [
            "index at 0 is 2\n",
            "index at 1 is 4.0026\n",
            "index at 2 is unknown\n",
            "index at 3 is True\n",
            "index at 4 is ['helium-3', 'helium-4']\n"
          ],
          "name": "stdout"
        }
      ]
    },
    {
      "cell_type": "markdown",
      "metadata": {
        "id": "ain-xGoSdeJG"
      },
      "source": [
        "**Note:** The `i += 1` is another way of writing `i = i + 1`. Similarly,\n",
        "\n",
        "- `i -= 1` is another way of writing `i = i - 1`.\n",
        "\n",
        "- `i *= 2` is another way of writing `i = i * 2` and so on."
      ]
    },
    {
      "cell_type": "markdown",
      "metadata": {
        "id": "ehuJdrrDdbf3"
      },
      "source": [
        "---"
      ]
    },
    {
      "cell_type": "markdown",
      "metadata": {
        "id": "Gl6PMYFzdcuY"
      },
      "source": [
        "#### Activity 5: Tuple Slicing^^\n",
        "\n",
        "Again, tuple slicing is exactly the same as the list slicing. We will quickly go through this concept."
      ]
    },
    {
      "cell_type": "code",
      "metadata": {
        "id": "g4St23LCckp5",
        "colab": {
          "base_uri": "https://localhost:8080/"
        },
        "outputId": "6721f800-0640-4ada-a54b-785007609df8"
      },
      "source": [
        "# Student Action: Get the first four items from the 'helium_props' tuple.\n",
        "helium_props[:4]"
      ],
      "execution_count": null,
      "outputs": [
        {
          "output_type": "execute_result",
          "data": {
            "text/plain": [
              "(2, 4.0026, 'unknown', True)"
            ]
          },
          "metadata": {
            "tags": []
          },
          "execution_count": 16
        }
      ]
    },
    {
      "cell_type": "code",
      "metadata": {
        "id": "8awzIZSGfAz9",
        "colab": {
          "base_uri": "https://localhost:8080/"
        },
        "outputId": "a7a0f3eb-12cb-4791-87ee-7fbc519bbeb1"
      },
      "source": [
        "# Student Action: Get all the items from the 'helium_props' tuple in the reverse order.\n",
        "helium_props[::-1]"
      ],
      "execution_count": null,
      "outputs": [
        {
          "output_type": "execute_result",
          "data": {
            "text/plain": [
              "(['helium-3', 'helium-4'], True, 'unknown', 4.0026, 2)"
            ]
          },
          "metadata": {
            "tags": []
          },
          "execution_count": 17
        }
      ]
    },
    {
      "cell_type": "code",
      "metadata": {
        "id": "qOtYwIANhkZD",
        "colab": {
          "base_uri": "https://localhost:8080/"
        },
        "outputId": "0dc64d37-1fc3-46e6-b72d-72b1318434c4"
      },
      "source": [
        "# Student Action: Get the alternate items from the 'helium_props' tuple.\n",
        "helium_props[::2]"
      ],
      "execution_count": null,
      "outputs": [
        {
          "output_type": "execute_result",
          "data": {
            "text/plain": [
              "(2, 'unknown', ['helium-3', 'helium-4'])"
            ]
          },
          "metadata": {
            "tags": []
          },
          "execution_count": 18
        }
      ]
    },
    {
      "cell_type": "code",
      "metadata": {
        "id": "gtS9zNIejcqV",
        "colab": {
          "base_uri": "https://localhost:8080/"
        },
        "outputId": "d4d6b5ef-ebe7-4d4e-f6f2-8ba91b748cd6"
      },
      "source": [
        "# Student Action: Get the last three items from the 'helium_props' tuple.\n",
        "helium_props[2:]"
      ],
      "execution_count": null,
      "outputs": [
        {
          "output_type": "execute_result",
          "data": {
            "text/plain": [
              "('unknown', True, ['helium-3', 'helium-4'])"
            ]
          },
          "metadata": {
            "tags": []
          },
          "execution_count": 19
        }
      ]
    },
    {
      "cell_type": "code",
      "metadata": {
        "id": "6SudkgSafxNx",
        "colab": {
          "base_uri": "https://localhost:8080/"
        },
        "outputId": "9f3f3594-cf06-499b-e6f9-e0a9393b5276"
      },
      "source": [
        "# Student Action: Get all the items from the 'helium_props' tuple using negative indexing except for the first and the last items.\n",
        "helium_props[-4:-1]"
      ],
      "execution_count": null,
      "outputs": [
        {
          "output_type": "execute_result",
          "data": {
            "text/plain": [
              "(4.0026, 'unknown', True)"
            ]
          },
          "metadata": {
            "tags": []
          },
          "execution_count": 20
        }
      ]
    },
    {
      "cell_type": "code",
      "metadata": {
        "id": "wN2ip7IXOA3a",
        "colab": {
          "base_uri": "https://localhost:8080/",
          "height": 35
        },
        "outputId": "619ea891-225b-40c4-c6fa-afa9721f9b3b"
      },
      "source": [
        "# Student Action: Get the second item of the list stored in the 'helium_props' tuple.\n",
        "helium_props[-1][1]"
      ],
      "execution_count": null,
      "outputs": [
        {
          "output_type": "execute_result",
          "data": {
            "application/vnd.google.colaboratory.intrinsic+json": {
              "type": "string"
            },
            "text/plain": [
              "'helium-4'"
            ]
          },
          "metadata": {
            "tags": []
          },
          "execution_count": 21
        }
      ]
    },
    {
      "cell_type": "markdown",
      "metadata": {
        "id": "34tM0N5Pl4gc"
      },
      "source": [
        "---"
      ]
    },
    {
      "cell_type": "code",
      "metadata": {
        "colab": {
          "base_uri": "https://localhost:8080/"
        },
        "id": "tLMm7Z1YJa3I",
        "outputId": "9d3ce15a-97ac-4176-873e-0d7a75202a04"
      },
      "source": [
        "helium_props"
      ],
      "execution_count": null,
      "outputs": [
        {
          "output_type": "execute_result",
          "data": {
            "text/plain": [
              "(2, 4.0026, 'unknown', True, ['helium-3', 'helium-4'])"
            ]
          },
          "metadata": {
            "tags": []
          },
          "execution_count": 23
        }
      ]
    },
    {
      "cell_type": "markdown",
      "metadata": {
        "id": "tBXa9yhPukbh"
      },
      "source": [
        "#### Activity 6: The `index()` Function\n",
        "\n",
        "You can use the `index()` function to find out the index of an item in a tuple. The same function can also be used for a Python list.\n",
        "\n",
        "**Syntax:** `tuple_name.index(item)`"
      ]
    },
    {
      "cell_type": "code",
      "metadata": {
        "id": "TV_dXbgYlzxw",
        "colab": {
          "base_uri": "https://localhost:8080/"
        },
        "outputId": "a37501d9-decc-4515-f7d6-8d27bd751b17"
      },
      "source": [
        "# Student Action: Get the index of the item 'unknown' that is present in the 'helium_props' tuple.\n",
        "helium_props.index(True)"
      ],
      "execution_count": null,
      "outputs": [
        {
          "output_type": "execute_result",
          "data": {
            "text/plain": [
              "3"
            ]
          },
          "metadata": {
            "tags": []
          },
          "execution_count": 25
        }
      ]
    },
    {
      "cell_type": "markdown",
      "metadata": {
        "id": "ushE05W8PZSs"
      },
      "source": [
        "**Note:** The `index()` function throws `ValueError` if an item does not exist in the tuple."
      ]
    },
    {
      "cell_type": "markdown",
      "metadata": {
        "id": "73bW5MU8PwUm"
      },
      "source": [
        "---"
      ]
    },
    {
      "cell_type": "markdown",
      "metadata": {
        "id": "zKlZahzS8GuO"
      },
      "source": [
        "#### Activity 7: The `count()` Function\n",
        "\n",
        "The `count()` function in tuple counts the number of times an item occurs in a tuple. The same function can also be used for a Python list.\n",
        "\n",
        "Here we have a tuple containing the FIFA football world cup winners starting from the year 1982 till 2018.\n",
        "\n",
        "`fifa_wc_winners = ('Italy', 'Argentina', 'Germany', 'Brazil', 'France', 'Brazil', 'Italy', 'Spain', 'Germany', 'France')`\n",
        "\n",
        "Find out how many times France and Brazil have won the world cup in the given period."
      ]
    },
    {
      "cell_type": "code",
      "metadata": {
        "id": "paKTAiIq7Acp",
        "colab": {
          "base_uri": "https://localhost:8080/"
        },
        "outputId": "0e8eea59-1574-4f31-867b-69d6cb66f9ff"
      },
      "source": [
        "# Student Action: Count the number of times 'France' & 'Brazil' have won the world cup between the years 1982 and 2018.\n",
        "fifa_wc_winners = ('Italy', 'Argentina', 'Germany', 'Brazil', 'France', 'Brazil', 'Italy', 'Spain', 'Germany', 'France')\n",
        "fifa_wc_winners.count('Italy')"
      ],
      "execution_count": null,
      "outputs": [
        {
          "output_type": "execute_result",
          "data": {
            "text/plain": [
              "2"
            ]
          },
          "metadata": {
            "tags": []
          },
          "execution_count": 26
        }
      ]
    },
    {
      "cell_type": "markdown",
      "metadata": {
        "id": "QwedUG329Gpd"
      },
      "source": [
        "So, both the countries have won the FIFA world cup twice between the years 1982 and 2018. This also proves that a tuple can contain repeated elements (or items)."
      ]
    },
    {
      "cell_type": "markdown",
      "metadata": {
        "id": "44YH35S_RITK"
      },
      "source": [
        "---"
      ]
    },
    {
      "cell_type": "markdown",
      "metadata": {
        "id": "348_q6lxSZYV"
      },
      "source": [
        "#### Activity 8: Add, Replace & Delete Item^^^\n",
        "\n",
        "As discussed at the beginning of this class, we cannot add, replace (or update) & delete an item from a tuple. Let's verify this theory.\n",
        "\n",
        "Let's try to replace the item `'unknown'` contained in the `helium_props` tuple with the string `'Not Available'`. We should get an error."
      ]
    },
    {
      "cell_type": "code",
      "metadata": {
        "id": "ZvW7-FvETYqm",
        "colab": {
          "base_uri": "https://localhost:8080/",
          "height": 217
        },
        "outputId": "4aa9c982-b830-4aab-d20d-452ea69f4259"
      },
      "source": [
        "# Student Action: Try to replace the item 'unknown' contained in the 'helium_props' tuple with the string 'Not Available'.\n",
        "index_unknown=helium_props.index('unknown')\n",
        "print(index_unknown)\n",
        "helium_props[index_unknown]='not_avaliable'"
      ],
      "execution_count": null,
      "outputs": [
        {
          "output_type": "stream",
          "text": [
            "2\n"
          ],
          "name": "stdout"
        },
        {
          "output_type": "error",
          "ename": "TypeError",
          "evalue": "ignored",
          "traceback": [
            "\u001b[0;31m---------------------------------------------------------------------------\u001b[0m",
            "\u001b[0;31mTypeError\u001b[0m                                 Traceback (most recent call last)",
            "\u001b[0;32m<ipython-input-28-e84b2cbe73ef>\u001b[0m in \u001b[0;36m<module>\u001b[0;34m()\u001b[0m\n\u001b[1;32m      2\u001b[0m \u001b[0mindex_unknown\u001b[0m\u001b[0;34m=\u001b[0m\u001b[0mhelium_props\u001b[0m\u001b[0;34m.\u001b[0m\u001b[0mindex\u001b[0m\u001b[0;34m(\u001b[0m\u001b[0;34m'unknown'\u001b[0m\u001b[0;34m)\u001b[0m\u001b[0;34m\u001b[0m\u001b[0;34m\u001b[0m\u001b[0m\n\u001b[1;32m      3\u001b[0m \u001b[0mprint\u001b[0m\u001b[0;34m(\u001b[0m\u001b[0mindex_unknown\u001b[0m\u001b[0;34m)\u001b[0m\u001b[0;34m\u001b[0m\u001b[0;34m\u001b[0m\u001b[0m\n\u001b[0;32m----> 4\u001b[0;31m \u001b[0mhelium_props\u001b[0m\u001b[0;34m[\u001b[0m\u001b[0mindex_unknown\u001b[0m\u001b[0;34m]\u001b[0m\u001b[0;34m=\u001b[0m\u001b[0;34m'not_avaliable'\u001b[0m\u001b[0;34m\u001b[0m\u001b[0;34m\u001b[0m\u001b[0m\n\u001b[0m",
            "\u001b[0;31mTypeError\u001b[0m: 'tuple' object does not support item assignment"
          ]
        }
      ]
    },
    {
      "cell_type": "markdown",
      "metadata": {
        "id": "csp3eeh3UBBr"
      },
      "source": [
        "As you can see, Python throws `TypeError` saying that `'tuple' object does not support item assignment`. Hence, we have verified that we cannot replace or update an existing item in a tuple.\n",
        "\n",
        "Let's try to delete the item `'unknown'` using the `del` keyword. It works for a Python list as well. There exists no `remove()` function for a Python tuple like the one that exists for a Python list.\n",
        "\n",
        "**Note:** Again you will get an error."
      ]
    },
    {
      "cell_type": "code",
      "metadata": {
        "id": "2cgn3b0pUuVL",
        "colab": {
          "base_uri": "https://localhost:8080/",
          "height": 183
        },
        "outputId": "66bd76fb-6bda-45c5-bdba-59db98d7526c"
      },
      "source": [
        "# Student Action: Try to delete the item 'unknown' from the 'helium_props' tuple. using the 'del' keyword.\n",
        "del helium_props[2]"
      ],
      "execution_count": null,
      "outputs": [
        {
          "output_type": "error",
          "ename": "TypeError",
          "evalue": "ignored",
          "traceback": [
            "\u001b[0;31m---------------------------------------------------------------------------\u001b[0m",
            "\u001b[0;31mTypeError\u001b[0m                                 Traceback (most recent call last)",
            "\u001b[0;32m<ipython-input-29-e2c8a8d55af2>\u001b[0m in \u001b[0;36m<module>\u001b[0;34m()\u001b[0m\n\u001b[1;32m      1\u001b[0m \u001b[0;31m# Student Action: Try to delete the item 'unknown' from the 'helium_props' tuple. using the 'del' keyword.\u001b[0m\u001b[0;34m\u001b[0m\u001b[0;34m\u001b[0m\u001b[0;34m\u001b[0m\u001b[0m\n\u001b[0;32m----> 2\u001b[0;31m \u001b[0;32mdel\u001b[0m \u001b[0mhelium_props\u001b[0m\u001b[0;34m[\u001b[0m\u001b[0;36m2\u001b[0m\u001b[0;34m]\u001b[0m\u001b[0;34m\u001b[0m\u001b[0;34m\u001b[0m\u001b[0m\n\u001b[0m",
            "\u001b[0;31mTypeError\u001b[0m: 'tuple' object doesn't support item deletion"
          ]
        }
      ]
    },
    {
      "cell_type": "markdown",
      "metadata": {
        "id": "g5QBOAkhVHyg"
      },
      "source": [
        "As you can see, Python throws `TypeError` saying that `'tuple' object doesn't support item deletion`. Hence, we have verified that we cannot delete an existing item from a tuple.\n",
        "\n",
        "There exists no function like the `append()` function (exists for a Python list) that can add an item to a tuple. But can concatenate or join two or more tuples.\n",
        "\n",
        "We will pause here and will continue the discussion on Python tuples in the next class."
      ]
    },
    {
      "cell_type": "code",
      "metadata": {
        "colab": {
          "base_uri": "https://localhost:8080/"
        },
        "id": "iNWkmgaqLj-7",
        "outputId": "1e08d74d-9db8-40ad-bbc1-87cc964056ca"
      },
      "source": [
        "t_a='a','b'\n",
        "t_b=('a','b')\n",
        "print(t_a==t_b)"
      ],
      "execution_count": null,
      "outputs": [
        {
          "output_type": "stream",
          "text": [
            "True\n"
          ],
          "name": "stdout"
        }
      ]
    },
    {
      "cell_type": "markdown",
      "metadata": {
        "id": "XKPonIJBSX3c"
      },
      "source": [
        "---"
      ]
    }
  ]
}