{
  "nbformat": 4,
  "nbformat_minor": 0,
  "metadata": {
    "colab": {
      "provenance": [],
      "include_colab_link": true
    },
    "kernelspec": {
      "name": "python3",
      "display_name": "Python 3"
    }
  },
  "cells": [
    {
      "cell_type": "markdown",
      "metadata": {
        "id": "view-in-github",
        "colab_type": "text"
      },
      "source": [
        "<a href=\"https://colab.research.google.com/github/twisha-k/Python_notes/blob/main/55_coding.ipynb\" target=\"_parent\"><img src=\"https://colab.research.google.com/assets/colab-badge.svg\" alt=\"Open In Colab\"/></a>"
      ]
    },
    {
      "cell_type": "markdown",
      "metadata": {
        "id": "wXOH90ddtwL2"
      },
      "source": [
        "# Lesson 55: OOP - Encapsulation II\n"
      ]
    },
    {
      "cell_type": "markdown",
      "metadata": {
        "id": "GKxriZHwm33R"
      },
      "source": [
        "---"
      ]
    },
    {
      "cell_type": "markdown",
      "metadata": {
        "id": "GbhgAn5kfd-K"
      },
      "source": [
        "### Teacher-Student Activities\n",
        "\n",
        "In this class, we will learn about setter functions used in encapsulation. Also, we will create class variables and class methods. But before that, let's revise what we did in the previous class.\n"
      ]
    },
    {
      "cell_type": "markdown",
      "metadata": {
        "id": "DP-8XrZ_i2yZ"
      },
      "source": [
        "---"
      ]
    },
    {
      "cell_type": "markdown",
      "metadata": {
        "id": "DoShzic97iBl"
      },
      "source": [
        "#### Recap\n",
        "\n",
        "In the previous class, we had created a class `BankAccount` and made its instance variables as private. Also, we added getter functions for each private variable to access them outside the class.\n"
      ]
    },
    {
      "cell_type": "code",
      "metadata": {
        "id": "MgYh075lBrIp"
      },
      "source": [
        "# Create a 'BankAccount' class with its instance variables as private. Add getter functions\n",
        "class BankAccount:\n",
        "  def __init__(self, account_num, account_name, balance):\n",
        "    self.__account_num = account_num\n",
        "    self.__account_name = account_name\n",
        "    self.__balance = balance\n",
        "\n",
        "  # Getter method to get account number of the account holder.\n",
        "  def get_account_num(self):\n",
        "  \treturn self.__account_num\n",
        "\n",
        "  # Getter method to get the name of the account holder.\n",
        "  def get_account_name(self):\n",
        "  \treturn self.__account_name.title()\n",
        "\n",
        "  # Getter method to get the current balance of the account holder.\n",
        "  def get_balance(self):\n",
        "  \treturn self.__balance\n",
        "\n",
        "  def add_money(self, deposit_amount):\n",
        "    self.__balance += deposit_amount\n",
        "    print(f\"{deposit_amount} is successfully added.\\nAvailable amount is {self.__balance:,}\")\n",
        "\n",
        "  def withdraw_money(self, withdrawal_amount):\n",
        "    if withdrawal_amount > self.__balance:\n",
        "      print(\"Insufficient balance!\")\n",
        "    else:\n",
        "      self.__balance -= withdrawal_amount\n",
        "      print(f\"{withdrawal_amount} is successfully withdrawn.\\nAvailable amount is {self.__balance:,}\")"
      ],
      "execution_count": null,
      "outputs": []
    },
    {
      "cell_type": "code",
      "source": [
        "bank_acc =BankAccount(122287,\"abc\",7989)\n",
        "#bank_acc.__account_num#this will give error as its encapsulated and its a private variable\n",
        "bank_acc.get_account_num()#we are using the getter functions to access the private variables"
      ],
      "metadata": {
        "colab": {
          "base_uri": "https://localhost:8080/"
        },
        "id": "6-JanmULGwGN",
        "outputId": "fc150a37-9db5-4a68-c818-58ab2455616c"
      },
      "execution_count": null,
      "outputs": [
        {
          "output_type": "execute_result",
          "data": {
            "text/plain": [
              "122287"
            ]
          },
          "metadata": {},
          "execution_count": 2
        }
      ]
    },
    {
      "cell_type": "markdown",
      "metadata": {
        "id": "6fUcCF7q4h4S"
      },
      "source": [
        "---"
      ]
    },
    {
      "cell_type": "markdown",
      "metadata": {
        "id": "924aG9Mhv-ys"
      },
      "source": [
        "#### Activity 1: The Setter Function\n",
        "\n",
        "Suppose you still want to change the name of the account holder (because of some kind of spelling mistake) without making the name attribute public, then you can create a **setter** method (or function) to do this task.\n",
        "\n",
        "Setter functions are used to control the updates on the class variables. This way all the recent updates can be validated individually as well. The recommended syntax is:\n",
        "\n",
        "```\n",
        "def set_variable_name(self, new_variable_value):            \n",
        "  self.__variable_name = new_variable_value\n",
        "```\n",
        "\n",
        "\n",
        "\n",
        "Also let's add a new attribute called city whose value can be modified using a setter method in case the account holder changes their city.\n",
        "\n",
        "**Note:** The setter functions should never return anything."
      ]
    },
    {
      "cell_type": "code",
      "metadata": {
        "id": "BmAHZocuwCrM"
      },
      "source": [
        "# S1.1: Create setter functions to change the value stored in the 'account_name' and 'city' attributes in the 'BankAccount' class.\n",
        "class BankAccount:\n",
        "  def __init__(self, account_num, account_name, balance, city):\n",
        "    self.__account_num = account_num\n",
        "    self.__account_name = account_name\n",
        "    self.__balance = balance\n",
        "    self.__city=city\n",
        "    def get_account_num(self):\n",
        "  \t  return self.__account_num\n",
        "\n",
        "  # Getter method to get the name of the account holder.\n",
        "  def get_account_name(self):\n",
        "  \treturn self.__account_name.title()\n",
        "  def get_city_name(self):\n",
        "    return self.__city\n",
        "  # Getter method to get the current balance of the account holder.\n",
        "  def get_balance(self):\n",
        "  \treturn self.__balance\n",
        "  def set_city(self,new_city_name):\n",
        "   self.__city=new_city_name\n",
        "\n",
        "  def add_money(self, deposit_amount):\n",
        "    self.__balance += deposit_amount\n",
        "    print(f\"{deposit_amount} is successfully added.\\nAvailable amount is {self.__balance:,}\")\n",
        "\n",
        "  def withdraw_money(self, withdrawal_amount):\n",
        "    if withdrawal_amount > self.__balance:\n",
        "      print(\"Insufficient balance!\")\n",
        "    else:\n",
        "      self.__balance -= withdrawal_amount\n",
        "      print(f\"{withdrawal_amount} is successfully withdrawn.\\nAvailable amount is {self.__balance:,}\")"
      ],
      "execution_count": null,
      "outputs": []
    },
    {
      "cell_type": "markdown",
      "metadata": {
        "id": "mz24c83LwFDU"
      },
      "source": [
        "Let's create the `millionaire` object again with a wrong name along with some city name and update both the attributes using their setter methods."
      ]
    },
    {
      "cell_type": "code",
      "metadata": {
        "id": "UzCxQ7FAwHON",
        "colab": {
          "base_uri": "https://localhost:8080/",
          "height": 35
        },
        "outputId": "675bc4ce-20dc-4bea-83f0-807e1fc52803"
      },
      "source": [
        "# S1.2: Create a new 'BankAccount' object with the wrong name and some random city. Then change those values using their setter functions.\n",
        "bank_account=BankAccount(345,'Twisha',50000,'Jaipur')\n",
        "bank_account.get_city_name()\n"
      ],
      "execution_count": null,
      "outputs": [
        {
          "output_type": "execute_result",
          "data": {
            "application/vnd.google.colaboratory.intrinsic+json": {
              "type": "string"
            },
            "text/plain": [
              "'Jaipur'"
            ]
          },
          "metadata": {},
          "execution_count": 19
        }
      ]
    },
    {
      "cell_type": "code",
      "source": [
        "bank_account.set_city('Rajkot')\n",
        "bank_account.get_city_name()"
      ],
      "metadata": {
        "colab": {
          "base_uri": "https://localhost:8080/",
          "height": 35
        },
        "id": "A71HftYOLb-d",
        "outputId": "f93b32d9-4882-4c87-af32-c159c06ca2be"
      },
      "execution_count": null,
      "outputs": [
        {
          "output_type": "execute_result",
          "data": {
            "application/vnd.google.colaboratory.intrinsic+json": {
              "type": "string"
            },
            "text/plain": [
              "'Rajkot'"
            ]
          },
          "metadata": {},
          "execution_count": 21
        }
      ]
    },
    {
      "cell_type": "markdown",
      "metadata": {
        "id": "V3cFS5CeXsiC"
      },
      "source": [
        "---"
      ]
    },
    {
      "cell_type": "markdown",
      "metadata": {
        "id": "Fm35cJCho4FI"
      },
      "source": [
        "#### Activity 2: Important Points on Encapsulation\n",
        "\n",
        "Even if you try to change/modify the private attribute value through the private attribute itself using the assignment operator (`=`), it won't change."
      ]
    },
    {
      "cell_type": "code",
      "metadata": {
        "id": "feAdcbRLo_9b",
        "colab": {
          "base_uri": "https://localhost:8080/"
        },
        "outputId": "4785869c-154f-451b-f953-5395a29e9d8a"
      },
      "source": [
        "# S2.1: Update the value of '__balance' attribute using the 'millionaire' object created above directly without using its setter function.\n",
        "# Print and verify the result using the getter function.\n",
        "millionaire=BankAccount(567,'Deep',40000,'Jaipur')\n",
        "millionaire.__balance=40\n",
        "millionaire.get_balance()"
      ],
      "execution_count": null,
      "outputs": [
        {
          "output_type": "execute_result",
          "data": {
            "text/plain": [
              "40000"
            ]
          },
          "metadata": {},
          "execution_count": 24
        }
      ]
    },
    {
      "cell_type": "markdown",
      "metadata": {
        "id": "AumLAUDTpM57"
      },
      "source": [
        "So even though you changed the attribute value, the getter function returned the original value of the attribute that is $100 million. This is because `millionaire.__balance = 10` statement creates a new attribute storing the value `10` with the same name, i.e., `__balance` but it is not the instance variable for the `millionaire` object.\n",
        "\n",
        "You can verify this by retrieving a dictionary containing all the attributes and methods of the `millionaire` instance. It's a special built-in attribute of the `__main__` class of Python which stores all the members of a class.\n",
        "\n",
        "**Note:** Every object in Python is an instance of the `__main__` class.\n",
        "\n",
        "\n",
        "Here's the syntax to call the `__dict__` attribute on an object.\n",
        "\n",
        "> **Syntax**: ` object_name.__dict__`\n",
        "\n",
        "Let's print the dictionary of attributes for the `millionaire` object.\n",
        "\n",
        "\n",
        "\n",
        "\n",
        "\n",
        "\n"
      ]
    },
    {
      "cell_type": "code",
      "metadata": {
        "id": "Gaz3Qrn6pa51",
        "colab": {
          "base_uri": "https://localhost:8080/"
        },
        "outputId": "30f4052b-f130-41a9-8e5e-bb291f8f9db0"
      },
      "source": [
        "# S2.2: Print the dictionary of attributes for the 'millionaire' object.\n",
        "millionaire.__dict__\n"
      ],
      "execution_count": null,
      "outputs": [
        {
          "output_type": "execute_result",
          "data": {
            "text/plain": [
              "{'_BankAccount__account_name': 'Deep',\n",
              " '_BankAccount__account_num': 567,\n",
              " '_BankAccount__balance': 40000,\n",
              " '_BankAccount__city': 'Jaipur',\n",
              " '__balance': 40}"
            ]
          },
          "metadata": {},
          "execution_count": 25
        }
      ]
    },
    {
      "cell_type": "markdown",
      "metadata": {
        "id": "luqEuzeEp7SI"
      },
      "source": [
        "The actual `__balance` attribute for the `millionaire` object is `_BankAccount__balance` whose value is returned by its getter function.\n",
        "\n",
        "**Note:** The `millionaire` object is an instance of the `BankAccount` class, so its actual `__balance` instance variable is reported as `_BankAccount__balance`. In general, any attribute of some class is recorded as `_SomeClass__atttributeName`.\n",
        "\n",
        "You can remove the additional `__balance` attribute which is NOT an instance variable of the `millionaire` object with the help of the `del` keyword.\n",
        "\n",
        "> **Syntax**: `del object_name.__variable_name`"
      ]
    },
    {
      "cell_type": "code",
      "metadata": {
        "id": "TXtGCOFIqWaj"
      },
      "source": [
        "# S2.3: Delete the '__balance' variable from the object and print the dictionary.\n",
        "del millionaire.__balance"
      ],
      "execution_count": null,
      "outputs": []
    },
    {
      "cell_type": "code",
      "source": [
        "millionaire._BankAccount__balance=40\n",
        "millionaire.get_balance()"
      ],
      "metadata": {
        "id": "UftpBIBIOEYT"
      },
      "execution_count": null,
      "outputs": []
    },
    {
      "cell_type": "markdown",
      "metadata": {
        "id": "oDWdHoq2qbaw"
      },
      "source": [
        "As you can see, the additional `__balance` attribute is now removed.\n",
        "\n",
        "If you still want to change the values of the private attributes, then you have to follow the given syntax\n",
        "\n",
        "**Syntax:** `object._ClassName__attributeName = new_value`"
      ]
    },
    {
      "cell_type": "code",
      "metadata": {
        "id": "rX_NgIEouhfE",
        "colab": {
          "base_uri": "https://localhost:8080/"
        },
        "outputId": "2c01b44c-3e6c-4648-d373-79da4455557e"
      },
      "source": [
        "# S2.4: Change the value of '__balance' attribute without using the setter function.\n",
        "millionaire.__dict__"
      ],
      "execution_count": null,
      "outputs": [
        {
          "output_type": "execute_result",
          "data": {
            "text/plain": [
              "{'_BankAccount__account_name': 'Deep',\n",
              " '_BankAccount__account_num': 567,\n",
              " '_BankAccount__balance': 40000,\n",
              " '_BankAccount__city': 'Jaipur'}"
            ]
          },
          "metadata": {},
          "execution_count": 28
        }
      ]
    },
    {
      "cell_type": "markdown",
      "metadata": {
        "id": "wxYbcZ_4uzgE"
      },
      "source": [
        "As you can see, the initial value of the `__balance` attribute is now changed to `10` using the assignment operator.\n",
        "\n",
        "However, such practice should be avoided. **Always modify the value of a private member using its setter method only** as it defeats the purpose of encapsulation."
      ]
    },
    {
      "cell_type": "markdown",
      "metadata": {
        "id": "HueeTO1ngstH"
      },
      "source": [
        "---"
      ]
    },
    {
      "cell_type": "markdown",
      "metadata": {
        "id": "kothEsP89In4"
      },
      "source": [
        "#### Activity 3: Class Members\n",
        "\n",
        "Class members are the members that are bound to a class and not to an object i.e., they can be accessed through the **class name** rather than the **object name**.\n",
        "\n",
        "\n",
        "**How to create class variables?**\n",
        "\n",
        "Just add the variable(s) between the class declaration and the class constructor as illustrated below.\n",
        "\n",
        "\n",
        "```\n",
        "class SomeClass:\n",
        "  class_variable1 = value1\n",
        "  class_variable2 = value2\n",
        "\n",
        "  def __init__(self):\n",
        "    pass\n",
        "```\n",
        "\n",
        "**How to create class methods?**\n",
        "\n",
        "To create a class method you have to use the `def` keyword as usual followed by the method name along with the parenthesis. Inside the parenthesis, you have to add the `cls` keyword (which refers to `class`). On top of the class method, you have to put a class decorator called `@classmethod`. The `@` symbol is an operator for a decorator.\n",
        "\n",
        "**Syntax:**\n",
        "```\n",
        "  @classmethod\n",
        "  def class_method1(cls):\n",
        "    return some_value\n",
        "\n",
        "  @classmethod\n",
        "  def class_method2(cls):\n",
        "    some_class_operation\n",
        "```\n",
        "\n",
        "**Note:** A class method should always have the `cls` keyword as the first input which signifies that the method is a class method.\n",
        "\n",
        "\n",
        "Let's add the following class members to our `BankAccount` class:\n",
        "\n",
        "**Class Attributes**\n",
        "\n",
        "> `interest_rate` that stores the rate of interest offered by the bank.\n",
        "\n",
        "> `count_account_holders` that stores the number of accounts created in the bank. The count should get increased by 1 whenever a new account is created (i.e., whenever a new object of the `BankAccount` class gets created).\n",
        "\n",
        "**Class Methods**\n",
        "\n",
        "> `get_interest_rate` that returns the interest rate offered by the bank.\n",
        "\n",
        "> `total_num_accounts` that returns the total number of accounts opened in the bank.\n",
        "\n",
        "> `increase_count_accounts` that increases the `count_account_holders` value. This function gets called whenever a new object of the `BankAccount` class is created.\n",
        "\n",
        "Let's also add two more new instance methods called:\n",
        "\n",
        "1. `simple_interest()` that calculates simple interest for a time period.\n",
        "\n",
        "2. `amount_after_interest()` that calculates the amount payable by the Bank to the account holder after applying simple interest for a time period."
      ]
    },
    {
      "cell_type": "code",
      "metadata": {
        "id": "W1dl5c00GuU8"
      },
      "source": [
        "# T3.1: Create the 'BankAccount' class and add new variables and methods\n",
        "class BankAccount:\n",
        "  interest_rate=5\n",
        "  count_account_holders=0\n",
        "\n",
        "\n",
        "  @classmethod\n",
        "  def get_interest_rate(cls):\n",
        "    return cls.interest_rate\n",
        "\n",
        "\n",
        "  @classmethod\n",
        "  def count_account_holders(cls):\n",
        "    return cls.count_account_holders\n",
        "\n",
        "  @classmethod\n",
        "  def increase_count_accounts(cls):\n",
        "    cls.count_account_holders+=1\n",
        "    return cls.count_account_holders\n",
        "\n",
        "  def simple_interest(self, time_period):#  THIS IS AN INSTANCE METHOD\n",
        "    return self.__balance * (BankAccount.interest_rate / 100) * time_period\n",
        "\n",
        "  def amount_after_interest(self, time_period):\n",
        "    return self.__balance + self.simple_interest(time_period)\n",
        "\n",
        "\n",
        "  def __init__(self, account_num, account_name, balance, city):\n",
        "    self.__account_num = account_num\n",
        "    self.__account_name = account_name\n",
        "    self.__balance = balance\n",
        "    self.__city=city\n",
        "    def get_account_num(self):\n",
        "  \t  return self.__account_num\n",
        "\n",
        "  # Getter method to get the name of the account holder.\n",
        "  def get_account_name(self):\n",
        "  \treturn self.__account_name.title()\n",
        "  def get_city_name(self):\n",
        "    return self.__city\n",
        "  # Getter method to get the current balance of the account holder.\n",
        "  def get_balance(self):\n",
        "  \treturn self.__balance\n",
        "  def set_city(self,new_city_name):\n",
        "   self.__city=new_city_name\n",
        "\n",
        "  def add_money(self, deposit_amount):\n",
        "    self.__balance += deposit_amount\n",
        "    print(f\"{deposit_amount} is successfully added.\\nAvailable amount is {self.__balance:,}\")\n",
        "\n",
        "  def withdraw_money(self, withdrawal_amount):\n",
        "    if withdrawal_amount > self.__balance:\n",
        "      print(\"Insufficient balance!\")\n",
        "    else:\n",
        "      self.__balance -= withdrawal_amount\n",
        "      print(f\"{withdrawal_amount} is successfully withdrawn.\\nAvailable amount is {self.__balance:,}\")"
      ],
      "execution_count": null,
      "outputs": []
    },
    {
      "cell_type": "markdown",
      "metadata": {
        "id": "q6YCuhOCWVQE"
      },
      "source": [
        "Now let's create the object and access the class methods using the syntax below:\n",
        "\n",
        "> `ClassName.function_name()`\n",
        "\n"
      ]
    },
    {
      "cell_type": "code",
      "metadata": {
        "id": "0xTnhQrZGvKn"
      },
      "source": [
        "# T3.2: Create the 'millionaire' object of the 'BankAccount' class and get the interest rate offered by the bank.\n"
      ],
      "execution_count": null,
      "outputs": []
    },
    {
      "cell_type": "markdown",
      "metadata": {
        "id": "SyShd6YxW-hx"
      },
      "source": [
        "As it can be observed the interest rate is as initialised in the class. Now let's find out the total number of accounts created in the bank."
      ]
    },
    {
      "cell_type": "code",
      "metadata": {
        "id": "fNCJTSluGzI_"
      },
      "source": [
        "# T3.3: Find out the total number of accounts created in the bank.\n"
      ],
      "execution_count": null,
      "outputs": []
    },
    {
      "cell_type": "markdown",
      "metadata": {
        "id": "I7pF66gKXpHX"
      },
      "source": [
        "As you can see, whenever you create a new object of the `BankAccount` class, the `increase_count_accounts()` function gets called inside the constructor  which increases the value of the `count_account_holders` by 1. And the `total_num_accounts()` function returns the updated value of the `count_accounts_holders` variable."
      ]
    },
    {
      "cell_type": "code",
      "metadata": {
        "id": "PlBIvH3hIyLJ"
      },
      "source": [
        "# T3.4: Calculate the simple interest applicable for 5 years and the amount payable by the bank after simple interest.\n"
      ],
      "execution_count": null,
      "outputs": []
    },
    {
      "cell_type": "markdown",
      "metadata": {
        "id": "O3qOSEI-YLHA"
      },
      "source": [
        "Let's create a new object and observe these class methods and attributes again."
      ]
    },
    {
      "cell_type": "code",
      "metadata": {
        "id": "unm0SEO4Jwvx"
      },
      "source": [
        "# S3.1: Create a new object of the 'BankAccount' class and find out the total number of accounts created in the bank.\n"
      ],
      "execution_count": null,
      "outputs": []
    },
    {
      "cell_type": "markdown",
      "metadata": {
        "id": "n204xw62Yp-T"
      },
      "source": [
        "As a new object is created, the number of accounts has been increased."
      ]
    },
    {
      "cell_type": "code",
      "metadata": {
        "id": "dK7ZJ3uBLUW2"
      },
      "source": [
        "# S3.2: Calculate the amount after simple interest.\n"
      ],
      "execution_count": null,
      "outputs": []
    },
    {
      "cell_type": "markdown",
      "metadata": {
        "id": "CYjF4sKLZTGw"
      },
      "source": [
        "From the outputs, we can see that the same interest rate is applied on both the objects.\n",
        "\n",
        "Let's stop here. In the next class, we will learn more concepts of OOP."
      ]
    },
    {
      "cell_type": "markdown",
      "metadata": {
        "id": "PrEabrKf9HxM"
      },
      "source": [
        "---"
      ]
    },
    {
      "cell_type": "markdown",
      "metadata": {
        "id": "L1PWkQ5m7jGM"
      },
      "source": [
        "### **Project**\n",
        "You can now attempt the **Applied Tech. Project 55 - Encapsulation II** on your own.\n",
        "\n",
        "**Applied Tech. Project 55 - Encapsulation II**: https://colab.research.google.com/drive/1zvCUZ13FqEnatGnafkz72X5_zutg66h9?usp=sharing"
      ]
    },
    {
      "cell_type": "markdown",
      "metadata": {
        "id": "g6M0OHgW7qKi"
      },
      "source": [
        "---"
      ]
    }
  ]
}
