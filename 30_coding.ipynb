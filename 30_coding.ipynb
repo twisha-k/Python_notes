{
  "nbformat": 4,
  "nbformat_minor": 0,
  "metadata": {
    "colab": {
      "provenance": [],
      "include_colab_link": true
    },
    "kernelspec": {
      "name": "python3",
      "display_name": "Python 3"
    }
  },
  "cells": [
    {
      "cell_type": "markdown",
      "metadata": {
        "id": "view-in-github",
        "colab_type": "text"
      },
      "source": [
        "<a href=\"https://colab.research.google.com/github/twisha-k/Python_notes/blob/main/30_coding.ipynb\" target=\"_parent\"><img src=\"https://colab.research.google.com/assets/colab-badge.svg\" alt=\"Open In Colab\"/></a>"
      ]
    },
    {
      "cell_type": "markdown",
      "metadata": {
        "id": "reRBe_cVB1Kq"
      },
      "source": [
        "# Lesson 30: Introduction to Python Dictionaries\n",
        "\n"
      ]
    },
    {
      "cell_type": "markdown",
      "metadata": {
        "id": "NAvjWIuwe-A9"
      },
      "source": [
        "### Teacher-Student Activities\n",
        "\n",
        "In the previous classes, you have used a CSV file to explore data, clean it and analyse it for the respective problem statements. Today, you will learn how you can create a CSV using Pandas DataFrame. Later you use the same CSV file to do your work either in Google Sheets or Microsoft Excel or in some other spreadsheet processing software. In the process, we will also learn another data-structure called Python dictionaries which becomes an integral data-structure in the domain of data engineering (to acquire the raw data in real-time or non-real-time and make it usable by structuring and organising it) and data analysis.\n",
        "\n",
        "So far, you learnt about Python lists in detail and Python tuples very briefly. From this class onwards, you will learn about a Python dictionary and its usefulness in terms of data storage."
      ]
    },
    {
      "cell_type": "markdown",
      "metadata": {
        "id": "MxZGned78BUo"
      },
      "source": [
        "---"
      ]
    },
    {
      "cell_type": "markdown",
      "metadata": {
        "id": "a56GqbMXlwRU"
      },
      "source": [
        "#### Activity 1: Python Dictionary\n",
        "\n",
        "Let's quickly create a CSV file from a Python dictionary. Then, we will learn it in detail. The CSV file should contain five columns namely `\"linear\", \"squared\", \"cubed\"` and `\"power_of_two\"`. Each of these columns should contain the corresponding values between 1 to 100 such that\n",
        "\n",
        "- The `\"linear\"` column contains the first 100 natural numbers.\n",
        "\n",
        "- The `\"squared\"` column contains the squares of the first 100 natural numbers.\n",
        "\n",
        "- The `\"cubed\"` column contains the cubes of the first 100 natural numbers.\n",
        "\n",
        "- The `\"power_of_two\"` column contains the values which are two raised to the power of the first 100 natural numbers."
      ]
    },
    {
      "cell_type": "code",
      "metadata": {
        "id": "znDLWJ3UmQCe",
        "colab": {
          "base_uri": "https://localhost:8080/"
        },
        "outputId": "53280e4b-102b-414a-eb3b-bea44afb8aee"
      },
      "source": [
        "# Student Action: Write the codes as directed below.\n",
        "new_dict = {\n",
        "    \"linear\" :[i for i in range(100)] , # Create a Python list containing the first 100 natural numbers.\n",
        "    \"squared\" :[i*i for i in range(100)] , # Create a Python list containing the squares of the first 100 natural numbers.\n",
        "    \"cubed\" :[i**3 for i in range(100)] , # Create a Python list containing the cubes of the first 100 natural numbers\n",
        "    \"power_of_two\" :[2**i for i in range(100)]  # Create a Python list containing the powers of the two of the first 100 natural numbers\n",
        "}\n",
        "new_dict"
      ],
      "execution_count": null,
      "outputs": [
        {
          "output_type": "execute_result",
          "data": {
            "text/plain": [
              "{'cubed': [0,\n",
              "  1,\n",
              "  8,\n",
              "  27,\n",
              "  64,\n",
              "  125,\n",
              "  216,\n",
              "  343,\n",
              "  512,\n",
              "  729,\n",
              "  1000,\n",
              "  1331,\n",
              "  1728,\n",
              "  2197,\n",
              "  2744,\n",
              "  3375,\n",
              "  4096,\n",
              "  4913,\n",
              "  5832,\n",
              "  6859,\n",
              "  8000,\n",
              "  9261,\n",
              "  10648,\n",
              "  12167,\n",
              "  13824,\n",
              "  15625,\n",
              "  17576,\n",
              "  19683,\n",
              "  21952,\n",
              "  24389,\n",
              "  27000,\n",
              "  29791,\n",
              "  32768,\n",
              "  35937,\n",
              "  39304,\n",
              "  42875,\n",
              "  46656,\n",
              "  50653,\n",
              "  54872,\n",
              "  59319,\n",
              "  64000,\n",
              "  68921,\n",
              "  74088,\n",
              "  79507,\n",
              "  85184,\n",
              "  91125,\n",
              "  97336,\n",
              "  103823,\n",
              "  110592,\n",
              "  117649,\n",
              "  125000,\n",
              "  132651,\n",
              "  140608,\n",
              "  148877,\n",
              "  157464,\n",
              "  166375,\n",
              "  175616,\n",
              "  185193,\n",
              "  195112,\n",
              "  205379,\n",
              "  216000,\n",
              "  226981,\n",
              "  238328,\n",
              "  250047,\n",
              "  262144,\n",
              "  274625,\n",
              "  287496,\n",
              "  300763,\n",
              "  314432,\n",
              "  328509,\n",
              "  343000,\n",
              "  357911,\n",
              "  373248,\n",
              "  389017,\n",
              "  405224,\n",
              "  421875,\n",
              "  438976,\n",
              "  456533,\n",
              "  474552,\n",
              "  493039,\n",
              "  512000,\n",
              "  531441,\n",
              "  551368,\n",
              "  571787,\n",
              "  592704,\n",
              "  614125,\n",
              "  636056,\n",
              "  658503,\n",
              "  681472,\n",
              "  704969,\n",
              "  729000,\n",
              "  753571,\n",
              "  778688,\n",
              "  804357,\n",
              "  830584,\n",
              "  857375,\n",
              "  884736,\n",
              "  912673,\n",
              "  941192,\n",
              "  970299],\n",
              " 'linear': [0,\n",
              "  1,\n",
              "  2,\n",
              "  3,\n",
              "  4,\n",
              "  5,\n",
              "  6,\n",
              "  7,\n",
              "  8,\n",
              "  9,\n",
              "  10,\n",
              "  11,\n",
              "  12,\n",
              "  13,\n",
              "  14,\n",
              "  15,\n",
              "  16,\n",
              "  17,\n",
              "  18,\n",
              "  19,\n",
              "  20,\n",
              "  21,\n",
              "  22,\n",
              "  23,\n",
              "  24,\n",
              "  25,\n",
              "  26,\n",
              "  27,\n",
              "  28,\n",
              "  29,\n",
              "  30,\n",
              "  31,\n",
              "  32,\n",
              "  33,\n",
              "  34,\n",
              "  35,\n",
              "  36,\n",
              "  37,\n",
              "  38,\n",
              "  39,\n",
              "  40,\n",
              "  41,\n",
              "  42,\n",
              "  43,\n",
              "  44,\n",
              "  45,\n",
              "  46,\n",
              "  47,\n",
              "  48,\n",
              "  49,\n",
              "  50,\n",
              "  51,\n",
              "  52,\n",
              "  53,\n",
              "  54,\n",
              "  55,\n",
              "  56,\n",
              "  57,\n",
              "  58,\n",
              "  59,\n",
              "  60,\n",
              "  61,\n",
              "  62,\n",
              "  63,\n",
              "  64,\n",
              "  65,\n",
              "  66,\n",
              "  67,\n",
              "  68,\n",
              "  69,\n",
              "  70,\n",
              "  71,\n",
              "  72,\n",
              "  73,\n",
              "  74,\n",
              "  75,\n",
              "  76,\n",
              "  77,\n",
              "  78,\n",
              "  79,\n",
              "  80,\n",
              "  81,\n",
              "  82,\n",
              "  83,\n",
              "  84,\n",
              "  85,\n",
              "  86,\n",
              "  87,\n",
              "  88,\n",
              "  89,\n",
              "  90,\n",
              "  91,\n",
              "  92,\n",
              "  93,\n",
              "  94,\n",
              "  95,\n",
              "  96,\n",
              "  97,\n",
              "  98,\n",
              "  99],\n",
              " 'power_of_two': [1,\n",
              "  2,\n",
              "  4,\n",
              "  8,\n",
              "  16,\n",
              "  32,\n",
              "  64,\n",
              "  128,\n",
              "  256,\n",
              "  512,\n",
              "  1024,\n",
              "  2048,\n",
              "  4096,\n",
              "  8192,\n",
              "  16384,\n",
              "  32768,\n",
              "  65536,\n",
              "  131072,\n",
              "  262144,\n",
              "  524288,\n",
              "  1048576,\n",
              "  2097152,\n",
              "  4194304,\n",
              "  8388608,\n",
              "  16777216,\n",
              "  33554432,\n",
              "  67108864,\n",
              "  134217728,\n",
              "  268435456,\n",
              "  536870912,\n",
              "  1073741824,\n",
              "  2147483648,\n",
              "  4294967296,\n",
              "  8589934592,\n",
              "  17179869184,\n",
              "  34359738368,\n",
              "  68719476736,\n",
              "  137438953472,\n",
              "  274877906944,\n",
              "  549755813888,\n",
              "  1099511627776,\n",
              "  2199023255552,\n",
              "  4398046511104,\n",
              "  8796093022208,\n",
              "  17592186044416,\n",
              "  35184372088832,\n",
              "  70368744177664,\n",
              "  140737488355328,\n",
              "  281474976710656,\n",
              "  562949953421312,\n",
              "  1125899906842624,\n",
              "  2251799813685248,\n",
              "  4503599627370496,\n",
              "  9007199254740992,\n",
              "  18014398509481984,\n",
              "  36028797018963968,\n",
              "  72057594037927936,\n",
              "  144115188075855872,\n",
              "  288230376151711744,\n",
              "  576460752303423488,\n",
              "  1152921504606846976,\n",
              "  2305843009213693952,\n",
              "  4611686018427387904,\n",
              "  9223372036854775808,\n",
              "  18446744073709551616,\n",
              "  36893488147419103232,\n",
              "  73786976294838206464,\n",
              "  147573952589676412928,\n",
              "  295147905179352825856,\n",
              "  590295810358705651712,\n",
              "  1180591620717411303424,\n",
              "  2361183241434822606848,\n",
              "  4722366482869645213696,\n",
              "  9444732965739290427392,\n",
              "  18889465931478580854784,\n",
              "  37778931862957161709568,\n",
              "  75557863725914323419136,\n",
              "  151115727451828646838272,\n",
              "  302231454903657293676544,\n",
              "  604462909807314587353088,\n",
              "  1208925819614629174706176,\n",
              "  2417851639229258349412352,\n",
              "  4835703278458516698824704,\n",
              "  9671406556917033397649408,\n",
              "  19342813113834066795298816,\n",
              "  38685626227668133590597632,\n",
              "  77371252455336267181195264,\n",
              "  154742504910672534362390528,\n",
              "  309485009821345068724781056,\n",
              "  618970019642690137449562112,\n",
              "  1237940039285380274899124224,\n",
              "  2475880078570760549798248448,\n",
              "  4951760157141521099596496896,\n",
              "  9903520314283042199192993792,\n",
              "  19807040628566084398385987584,\n",
              "  39614081257132168796771975168,\n",
              "  79228162514264337593543950336,\n",
              "  158456325028528675187087900672,\n",
              "  316912650057057350374175801344,\n",
              "  633825300114114700748351602688],\n",
              " 'squared': [0,\n",
              "  1,\n",
              "  4,\n",
              "  9,\n",
              "  16,\n",
              "  25,\n",
              "  36,\n",
              "  49,\n",
              "  64,\n",
              "  81,\n",
              "  100,\n",
              "  121,\n",
              "  144,\n",
              "  169,\n",
              "  196,\n",
              "  225,\n",
              "  256,\n",
              "  289,\n",
              "  324,\n",
              "  361,\n",
              "  400,\n",
              "  441,\n",
              "  484,\n",
              "  529,\n",
              "  576,\n",
              "  625,\n",
              "  676,\n",
              "  729,\n",
              "  784,\n",
              "  841,\n",
              "  900,\n",
              "  961,\n",
              "  1024,\n",
              "  1089,\n",
              "  1156,\n",
              "  1225,\n",
              "  1296,\n",
              "  1369,\n",
              "  1444,\n",
              "  1521,\n",
              "  1600,\n",
              "  1681,\n",
              "  1764,\n",
              "  1849,\n",
              "  1936,\n",
              "  2025,\n",
              "  2116,\n",
              "  2209,\n",
              "  2304,\n",
              "  2401,\n",
              "  2500,\n",
              "  2601,\n",
              "  2704,\n",
              "  2809,\n",
              "  2916,\n",
              "  3025,\n",
              "  3136,\n",
              "  3249,\n",
              "  3364,\n",
              "  3481,\n",
              "  3600,\n",
              "  3721,\n",
              "  3844,\n",
              "  3969,\n",
              "  4096,\n",
              "  4225,\n",
              "  4356,\n",
              "  4489,\n",
              "  4624,\n",
              "  4761,\n",
              "  4900,\n",
              "  5041,\n",
              "  5184,\n",
              "  5329,\n",
              "  5476,\n",
              "  5625,\n",
              "  5776,\n",
              "  5929,\n",
              "  6084,\n",
              "  6241,\n",
              "  6400,\n",
              "  6561,\n",
              "  6724,\n",
              "  6889,\n",
              "  7056,\n",
              "  7225,\n",
              "  7396,\n",
              "  7569,\n",
              "  7744,\n",
              "  7921,\n",
              "  8100,\n",
              "  8281,\n",
              "  8464,\n",
              "  8649,\n",
              "  8836,\n",
              "  9025,\n",
              "  9216,\n",
              "  9409,\n",
              "  9604,\n",
              "  9801]}"
            ]
          },
          "metadata": {
            "tags": []
          },
          "execution_count": 6
        }
      ]
    },
    {
      "cell_type": "markdown",
      "metadata": {
        "id": "we219QOyDBU5"
      },
      "source": [
        "---"
      ]
    },
    {
      "cell_type": "markdown",
      "metadata": {
        "id": "kNj4Z0ppDCHW"
      },
      "source": [
        "#### Activity 2: The `from_dict()` Function\n",
        "\n",
        "Now, let's convert the above dictionary into a Pandas DataFrame using the `from_dict()` function. To apply this function, you have to use the following syntax.\n",
        "\n",
        "**Syntax:** `pd.DataFrame.from_dict(some_dictionary)`"
      ]
    },
    {
      "cell_type": "code",
      "metadata": {
        "id": "t0mLxCI9mZjv",
        "colab": {
          "base_uri": "https://localhost:8080/",
          "height": 419
        },
        "outputId": "aa8d4594-e1b3-4074-f3f2-3a92fe2a908f"
      },
      "source": [
        "# Student Action: Create a Pandas DataFrame using the 'new_dict' dictionary by applying the 'from_dict()' function.\n",
        "import pandas as pd\n",
        "new_df=pd.DataFrame.from_dict(new_dict)\n",
        "new_df"
      ],
      "execution_count": null,
      "outputs": [
        {
          "output_type": "execute_result",
          "data": {
            "text/html": [
              "<div>\n",
              "<style scoped>\n",
              "    .dataframe tbody tr th:only-of-type {\n",
              "        vertical-align: middle;\n",
              "    }\n",
              "\n",
              "    .dataframe tbody tr th {\n",
              "        vertical-align: top;\n",
              "    }\n",
              "\n",
              "    .dataframe thead th {\n",
              "        text-align: right;\n",
              "    }\n",
              "</style>\n",
              "<table border=\"1\" class=\"dataframe\">\n",
              "  <thead>\n",
              "    <tr style=\"text-align: right;\">\n",
              "      <th></th>\n",
              "      <th>linear</th>\n",
              "      <th>squared</th>\n",
              "      <th>cubed</th>\n",
              "      <th>power_of_two</th>\n",
              "    </tr>\n",
              "  </thead>\n",
              "  <tbody>\n",
              "    <tr>\n",
              "      <th>0</th>\n",
              "      <td>0</td>\n",
              "      <td>0</td>\n",
              "      <td>0</td>\n",
              "      <td>1</td>\n",
              "    </tr>\n",
              "    <tr>\n",
              "      <th>1</th>\n",
              "      <td>1</td>\n",
              "      <td>1</td>\n",
              "      <td>1</td>\n",
              "      <td>2</td>\n",
              "    </tr>\n",
              "    <tr>\n",
              "      <th>2</th>\n",
              "      <td>2</td>\n",
              "      <td>4</td>\n",
              "      <td>8</td>\n",
              "      <td>4</td>\n",
              "    </tr>\n",
              "    <tr>\n",
              "      <th>3</th>\n",
              "      <td>3</td>\n",
              "      <td>9</td>\n",
              "      <td>27</td>\n",
              "      <td>8</td>\n",
              "    </tr>\n",
              "    <tr>\n",
              "      <th>4</th>\n",
              "      <td>4</td>\n",
              "      <td>16</td>\n",
              "      <td>64</td>\n",
              "      <td>16</td>\n",
              "    </tr>\n",
              "    <tr>\n",
              "      <th>...</th>\n",
              "      <td>...</td>\n",
              "      <td>...</td>\n",
              "      <td>...</td>\n",
              "      <td>...</td>\n",
              "    </tr>\n",
              "    <tr>\n",
              "      <th>95</th>\n",
              "      <td>95</td>\n",
              "      <td>9025</td>\n",
              "      <td>857375</td>\n",
              "      <td>39614081257132168796771975168</td>\n",
              "    </tr>\n",
              "    <tr>\n",
              "      <th>96</th>\n",
              "      <td>96</td>\n",
              "      <td>9216</td>\n",
              "      <td>884736</td>\n",
              "      <td>79228162514264337593543950336</td>\n",
              "    </tr>\n",
              "    <tr>\n",
              "      <th>97</th>\n",
              "      <td>97</td>\n",
              "      <td>9409</td>\n",
              "      <td>912673</td>\n",
              "      <td>158456325028528675187087900672</td>\n",
              "    </tr>\n",
              "    <tr>\n",
              "      <th>98</th>\n",
              "      <td>98</td>\n",
              "      <td>9604</td>\n",
              "      <td>941192</td>\n",
              "      <td>316912650057057350374175801344</td>\n",
              "    </tr>\n",
              "    <tr>\n",
              "      <th>99</th>\n",
              "      <td>99</td>\n",
              "      <td>9801</td>\n",
              "      <td>970299</td>\n",
              "      <td>633825300114114700748351602688</td>\n",
              "    </tr>\n",
              "  </tbody>\n",
              "</table>\n",
              "<p>100 rows × 4 columns</p>\n",
              "</div>"
            ],
            "text/plain": [
              "    linear  squared   cubed                    power_of_two\n",
              "0        0        0       0                               1\n",
              "1        1        1       1                               2\n",
              "2        2        4       8                               4\n",
              "3        3        9      27                               8\n",
              "4        4       16      64                              16\n",
              "..     ...      ...     ...                             ...\n",
              "95      95     9025  857375   39614081257132168796771975168\n",
              "96      96     9216  884736   79228162514264337593543950336\n",
              "97      97     9409  912673  158456325028528675187087900672\n",
              "98      98     9604  941192  316912650057057350374175801344\n",
              "99      99     9801  970299  633825300114114700748351602688\n",
              "\n",
              "[100 rows x 4 columns]"
            ]
          },
          "metadata": {
            "tags": []
          },
          "execution_count": 4
        }
      ]
    },
    {
      "cell_type": "markdown",
      "metadata": {
        "id": "XL938TlADqwZ"
      },
      "source": [
        "As you can see, a new DataFrame is created. It is stored in the `new_df` variable. It has 100 rows having indices `0` to `99`. It also has the four required columns.\n",
        "\n",
        "**Note:** Unlike a Python list, the dictionary does not store values in the ordered form. It means that you can't retreive an item from a dictionary using indices."
      ]
    },
    {
      "cell_type": "markdown",
      "metadata": {
        "id": "zwGWK1Z2Etx9"
      },
      "source": [
        "---"
      ]
    },
    {
      "cell_type": "markdown",
      "metadata": {
        "id": "y_jkf2SjEukY"
      },
      "source": [
        "#### Activity 3: The `orient` Parameter\n",
        "\n",
        "In the above DataFrame created from a Python dictionary, you can label `\"linear\", \"squared\", \"cubed\"` and `\"power_of_two\"` as row indices. Consequently, the values `0` to `99` will become columns. This can be done by passing `'index'` as the value to the `orient` parameter inside the `from_dict()` function. Here's the syntax.\n",
        "\n",
        "**Syntax:** `pd.DataFrame.from_dict(some_dictionary, orient='index')`"
      ]
    },
    {
      "cell_type": "code",
      "metadata": {
        "id": "63TkzljRmetB",
        "colab": {
          "base_uri": "https://localhost:8080/",
          "height": 222
        },
        "outputId": "68489693-75a0-4044-9341-030b877cc5c0"
      },
      "source": [
        "# Student Action: Create another Pandas DataFrom using the 'new_dict' having \"linear\", \"squared\", \"cubed\" and \"power_of_two\" as row indices.\n",
        "new_1_df=pd.DataFrame.from_dict(new_dict,orient='index' )\n",
        "new_1_df"
      ],
      "execution_count": null,
      "outputs": [
        {
          "output_type": "execute_result",
          "data": {
            "text/html": [
              "<div>\n",
              "<style scoped>\n",
              "    .dataframe tbody tr th:only-of-type {\n",
              "        vertical-align: middle;\n",
              "    }\n",
              "\n",
              "    .dataframe tbody tr th {\n",
              "        vertical-align: top;\n",
              "    }\n",
              "\n",
              "    .dataframe thead th {\n",
              "        text-align: right;\n",
              "    }\n",
              "</style>\n",
              "<table border=\"1\" class=\"dataframe\">\n",
              "  <thead>\n",
              "    <tr style=\"text-align: right;\">\n",
              "      <th></th>\n",
              "      <th>0</th>\n",
              "      <th>1</th>\n",
              "      <th>2</th>\n",
              "      <th>3</th>\n",
              "      <th>4</th>\n",
              "      <th>5</th>\n",
              "      <th>6</th>\n",
              "      <th>7</th>\n",
              "      <th>8</th>\n",
              "      <th>9</th>\n",
              "      <th>10</th>\n",
              "      <th>11</th>\n",
              "      <th>12</th>\n",
              "      <th>13</th>\n",
              "      <th>14</th>\n",
              "      <th>15</th>\n",
              "      <th>16</th>\n",
              "      <th>17</th>\n",
              "      <th>18</th>\n",
              "      <th>19</th>\n",
              "      <th>20</th>\n",
              "      <th>21</th>\n",
              "      <th>22</th>\n",
              "      <th>23</th>\n",
              "      <th>24</th>\n",
              "      <th>25</th>\n",
              "      <th>26</th>\n",
              "      <th>27</th>\n",
              "      <th>28</th>\n",
              "      <th>29</th>\n",
              "      <th>30</th>\n",
              "      <th>31</th>\n",
              "      <th>32</th>\n",
              "      <th>33</th>\n",
              "      <th>34</th>\n",
              "      <th>35</th>\n",
              "      <th>36</th>\n",
              "      <th>37</th>\n",
              "      <th>38</th>\n",
              "      <th>39</th>\n",
              "      <th>...</th>\n",
              "      <th>60</th>\n",
              "      <th>61</th>\n",
              "      <th>62</th>\n",
              "      <th>63</th>\n",
              "      <th>64</th>\n",
              "      <th>65</th>\n",
              "      <th>66</th>\n",
              "      <th>67</th>\n",
              "      <th>68</th>\n",
              "      <th>69</th>\n",
              "      <th>70</th>\n",
              "      <th>71</th>\n",
              "      <th>72</th>\n",
              "      <th>73</th>\n",
              "      <th>74</th>\n",
              "      <th>75</th>\n",
              "      <th>76</th>\n",
              "      <th>77</th>\n",
              "      <th>78</th>\n",
              "      <th>79</th>\n",
              "      <th>80</th>\n",
              "      <th>81</th>\n",
              "      <th>82</th>\n",
              "      <th>83</th>\n",
              "      <th>84</th>\n",
              "      <th>85</th>\n",
              "      <th>86</th>\n",
              "      <th>87</th>\n",
              "      <th>88</th>\n",
              "      <th>89</th>\n",
              "      <th>90</th>\n",
              "      <th>91</th>\n",
              "      <th>92</th>\n",
              "      <th>93</th>\n",
              "      <th>94</th>\n",
              "      <th>95</th>\n",
              "      <th>96</th>\n",
              "      <th>97</th>\n",
              "      <th>98</th>\n",
              "      <th>99</th>\n",
              "    </tr>\n",
              "  </thead>\n",
              "  <tbody>\n",
              "    <tr>\n",
              "      <th>linear</th>\n",
              "      <td>0</td>\n",
              "      <td>1</td>\n",
              "      <td>2</td>\n",
              "      <td>3</td>\n",
              "      <td>4</td>\n",
              "      <td>5</td>\n",
              "      <td>6</td>\n",
              "      <td>7</td>\n",
              "      <td>8</td>\n",
              "      <td>9</td>\n",
              "      <td>10</td>\n",
              "      <td>11</td>\n",
              "      <td>12</td>\n",
              "      <td>13</td>\n",
              "      <td>14</td>\n",
              "      <td>15</td>\n",
              "      <td>16</td>\n",
              "      <td>17</td>\n",
              "      <td>18</td>\n",
              "      <td>19</td>\n",
              "      <td>20</td>\n",
              "      <td>21</td>\n",
              "      <td>22</td>\n",
              "      <td>23</td>\n",
              "      <td>24</td>\n",
              "      <td>25</td>\n",
              "      <td>26</td>\n",
              "      <td>27</td>\n",
              "      <td>28</td>\n",
              "      <td>29</td>\n",
              "      <td>30</td>\n",
              "      <td>31</td>\n",
              "      <td>32</td>\n",
              "      <td>33</td>\n",
              "      <td>34</td>\n",
              "      <td>35</td>\n",
              "      <td>36</td>\n",
              "      <td>37</td>\n",
              "      <td>38</td>\n",
              "      <td>39</td>\n",
              "      <td>...</td>\n",
              "      <td>60</td>\n",
              "      <td>61</td>\n",
              "      <td>62</td>\n",
              "      <td>63</td>\n",
              "      <td>64</td>\n",
              "      <td>65</td>\n",
              "      <td>66</td>\n",
              "      <td>67</td>\n",
              "      <td>68</td>\n",
              "      <td>69</td>\n",
              "      <td>70</td>\n",
              "      <td>71</td>\n",
              "      <td>72</td>\n",
              "      <td>73</td>\n",
              "      <td>74</td>\n",
              "      <td>75</td>\n",
              "      <td>76</td>\n",
              "      <td>77</td>\n",
              "      <td>78</td>\n",
              "      <td>79</td>\n",
              "      <td>80</td>\n",
              "      <td>81</td>\n",
              "      <td>82</td>\n",
              "      <td>83</td>\n",
              "      <td>84</td>\n",
              "      <td>85</td>\n",
              "      <td>86</td>\n",
              "      <td>87</td>\n",
              "      <td>88</td>\n",
              "      <td>89</td>\n",
              "      <td>90</td>\n",
              "      <td>91</td>\n",
              "      <td>92</td>\n",
              "      <td>93</td>\n",
              "      <td>94</td>\n",
              "      <td>95</td>\n",
              "      <td>96</td>\n",
              "      <td>97</td>\n",
              "      <td>98</td>\n",
              "      <td>99</td>\n",
              "    </tr>\n",
              "    <tr>\n",
              "      <th>squared</th>\n",
              "      <td>0</td>\n",
              "      <td>1</td>\n",
              "      <td>4</td>\n",
              "      <td>9</td>\n",
              "      <td>16</td>\n",
              "      <td>25</td>\n",
              "      <td>36</td>\n",
              "      <td>49</td>\n",
              "      <td>64</td>\n",
              "      <td>81</td>\n",
              "      <td>100</td>\n",
              "      <td>121</td>\n",
              "      <td>144</td>\n",
              "      <td>169</td>\n",
              "      <td>196</td>\n",
              "      <td>225</td>\n",
              "      <td>256</td>\n",
              "      <td>289</td>\n",
              "      <td>324</td>\n",
              "      <td>361</td>\n",
              "      <td>400</td>\n",
              "      <td>441</td>\n",
              "      <td>484</td>\n",
              "      <td>529</td>\n",
              "      <td>576</td>\n",
              "      <td>625</td>\n",
              "      <td>676</td>\n",
              "      <td>729</td>\n",
              "      <td>784</td>\n",
              "      <td>841</td>\n",
              "      <td>900</td>\n",
              "      <td>961</td>\n",
              "      <td>1024</td>\n",
              "      <td>1089</td>\n",
              "      <td>1156</td>\n",
              "      <td>1225</td>\n",
              "      <td>1296</td>\n",
              "      <td>1369</td>\n",
              "      <td>1444</td>\n",
              "      <td>1521</td>\n",
              "      <td>...</td>\n",
              "      <td>3600</td>\n",
              "      <td>3721</td>\n",
              "      <td>3844</td>\n",
              "      <td>3969</td>\n",
              "      <td>4096</td>\n",
              "      <td>4225</td>\n",
              "      <td>4356</td>\n",
              "      <td>4489</td>\n",
              "      <td>4624</td>\n",
              "      <td>4761</td>\n",
              "      <td>4900</td>\n",
              "      <td>5041</td>\n",
              "      <td>5184</td>\n",
              "      <td>5329</td>\n",
              "      <td>5476</td>\n",
              "      <td>5625</td>\n",
              "      <td>5776</td>\n",
              "      <td>5929</td>\n",
              "      <td>6084</td>\n",
              "      <td>6241</td>\n",
              "      <td>6400</td>\n",
              "      <td>6561</td>\n",
              "      <td>6724</td>\n",
              "      <td>6889</td>\n",
              "      <td>7056</td>\n",
              "      <td>7225</td>\n",
              "      <td>7396</td>\n",
              "      <td>7569</td>\n",
              "      <td>7744</td>\n",
              "      <td>7921</td>\n",
              "      <td>8100</td>\n",
              "      <td>8281</td>\n",
              "      <td>8464</td>\n",
              "      <td>8649</td>\n",
              "      <td>8836</td>\n",
              "      <td>9025</td>\n",
              "      <td>9216</td>\n",
              "      <td>9409</td>\n",
              "      <td>9604</td>\n",
              "      <td>9801</td>\n",
              "    </tr>\n",
              "    <tr>\n",
              "      <th>cubed</th>\n",
              "      <td>0</td>\n",
              "      <td>1</td>\n",
              "      <td>8</td>\n",
              "      <td>27</td>\n",
              "      <td>64</td>\n",
              "      <td>125</td>\n",
              "      <td>216</td>\n",
              "      <td>343</td>\n",
              "      <td>512</td>\n",
              "      <td>729</td>\n",
              "      <td>1000</td>\n",
              "      <td>1331</td>\n",
              "      <td>1728</td>\n",
              "      <td>2197</td>\n",
              "      <td>2744</td>\n",
              "      <td>3375</td>\n",
              "      <td>4096</td>\n",
              "      <td>4913</td>\n",
              "      <td>5832</td>\n",
              "      <td>6859</td>\n",
              "      <td>8000</td>\n",
              "      <td>9261</td>\n",
              "      <td>10648</td>\n",
              "      <td>12167</td>\n",
              "      <td>13824</td>\n",
              "      <td>15625</td>\n",
              "      <td>17576</td>\n",
              "      <td>19683</td>\n",
              "      <td>21952</td>\n",
              "      <td>24389</td>\n",
              "      <td>27000</td>\n",
              "      <td>29791</td>\n",
              "      <td>32768</td>\n",
              "      <td>35937</td>\n",
              "      <td>39304</td>\n",
              "      <td>42875</td>\n",
              "      <td>46656</td>\n",
              "      <td>50653</td>\n",
              "      <td>54872</td>\n",
              "      <td>59319</td>\n",
              "      <td>...</td>\n",
              "      <td>216000</td>\n",
              "      <td>226981</td>\n",
              "      <td>238328</td>\n",
              "      <td>250047</td>\n",
              "      <td>262144</td>\n",
              "      <td>274625</td>\n",
              "      <td>287496</td>\n",
              "      <td>300763</td>\n",
              "      <td>314432</td>\n",
              "      <td>328509</td>\n",
              "      <td>343000</td>\n",
              "      <td>357911</td>\n",
              "      <td>373248</td>\n",
              "      <td>389017</td>\n",
              "      <td>405224</td>\n",
              "      <td>421875</td>\n",
              "      <td>438976</td>\n",
              "      <td>456533</td>\n",
              "      <td>474552</td>\n",
              "      <td>493039</td>\n",
              "      <td>512000</td>\n",
              "      <td>531441</td>\n",
              "      <td>551368</td>\n",
              "      <td>571787</td>\n",
              "      <td>592704</td>\n",
              "      <td>614125</td>\n",
              "      <td>636056</td>\n",
              "      <td>658503</td>\n",
              "      <td>681472</td>\n",
              "      <td>704969</td>\n",
              "      <td>729000</td>\n",
              "      <td>753571</td>\n",
              "      <td>778688</td>\n",
              "      <td>804357</td>\n",
              "      <td>830584</td>\n",
              "      <td>857375</td>\n",
              "      <td>884736</td>\n",
              "      <td>912673</td>\n",
              "      <td>941192</td>\n",
              "      <td>970299</td>\n",
              "    </tr>\n",
              "    <tr>\n",
              "      <th>power_of_two</th>\n",
              "      <td>1</td>\n",
              "      <td>2</td>\n",
              "      <td>4</td>\n",
              "      <td>8</td>\n",
              "      <td>16</td>\n",
              "      <td>32</td>\n",
              "      <td>64</td>\n",
              "      <td>128</td>\n",
              "      <td>256</td>\n",
              "      <td>512</td>\n",
              "      <td>1024</td>\n",
              "      <td>2048</td>\n",
              "      <td>4096</td>\n",
              "      <td>8192</td>\n",
              "      <td>16384</td>\n",
              "      <td>32768</td>\n",
              "      <td>65536</td>\n",
              "      <td>131072</td>\n",
              "      <td>262144</td>\n",
              "      <td>524288</td>\n",
              "      <td>1048576</td>\n",
              "      <td>2097152</td>\n",
              "      <td>4194304</td>\n",
              "      <td>8388608</td>\n",
              "      <td>16777216</td>\n",
              "      <td>33554432</td>\n",
              "      <td>67108864</td>\n",
              "      <td>134217728</td>\n",
              "      <td>268435456</td>\n",
              "      <td>536870912</td>\n",
              "      <td>1073741824</td>\n",
              "      <td>2147483648</td>\n",
              "      <td>4294967296</td>\n",
              "      <td>8589934592</td>\n",
              "      <td>17179869184</td>\n",
              "      <td>34359738368</td>\n",
              "      <td>68719476736</td>\n",
              "      <td>137438953472</td>\n",
              "      <td>274877906944</td>\n",
              "      <td>549755813888</td>\n",
              "      <td>...</td>\n",
              "      <td>1152921504606846976</td>\n",
              "      <td>2305843009213693952</td>\n",
              "      <td>4611686018427387904</td>\n",
              "      <td>9223372036854775808</td>\n",
              "      <td>18446744073709551616</td>\n",
              "      <td>36893488147419103232</td>\n",
              "      <td>73786976294838206464</td>\n",
              "      <td>147573952589676412928</td>\n",
              "      <td>295147905179352825856</td>\n",
              "      <td>590295810358705651712</td>\n",
              "      <td>1180591620717411303424</td>\n",
              "      <td>2361183241434822606848</td>\n",
              "      <td>4722366482869645213696</td>\n",
              "      <td>9444732965739290427392</td>\n",
              "      <td>18889465931478580854784</td>\n",
              "      <td>37778931862957161709568</td>\n",
              "      <td>75557863725914323419136</td>\n",
              "      <td>151115727451828646838272</td>\n",
              "      <td>302231454903657293676544</td>\n",
              "      <td>604462909807314587353088</td>\n",
              "      <td>1208925819614629174706176</td>\n",
              "      <td>2417851639229258349412352</td>\n",
              "      <td>4835703278458516698824704</td>\n",
              "      <td>9671406556917033397649408</td>\n",
              "      <td>19342813113834066795298816</td>\n",
              "      <td>38685626227668133590597632</td>\n",
              "      <td>77371252455336267181195264</td>\n",
              "      <td>154742504910672534362390528</td>\n",
              "      <td>309485009821345068724781056</td>\n",
              "      <td>618970019642690137449562112</td>\n",
              "      <td>1237940039285380274899124224</td>\n",
              "      <td>2475880078570760549798248448</td>\n",
              "      <td>4951760157141521099596496896</td>\n",
              "      <td>9903520314283042199192993792</td>\n",
              "      <td>19807040628566084398385987584</td>\n",
              "      <td>39614081257132168796771975168</td>\n",
              "      <td>79228162514264337593543950336</td>\n",
              "      <td>158456325028528675187087900672</td>\n",
              "      <td>316912650057057350374175801344</td>\n",
              "      <td>633825300114114700748351602688</td>\n",
              "    </tr>\n",
              "  </tbody>\n",
              "</table>\n",
              "<p>4 rows × 100 columns</p>\n",
              "</div>"
            ],
            "text/plain": [
              "              0   ...                              99\n",
              "linear         0  ...                              99\n",
              "squared        0  ...                            9801\n",
              "cubed          0  ...                          970299\n",
              "power_of_two   1  ...  633825300114114700748351602688\n",
              "\n",
              "[4 rows x 100 columns]"
            ]
          },
          "metadata": {
            "tags": []
          },
          "execution_count": 5
        }
      ]
    },
    {
      "cell_type": "markdown",
      "metadata": {
        "id": "ZuGYRpp4GQco"
      },
      "source": [
        "As you can see, a new DataFrame is created. It is stored in the `another_df` variable. It has 4 rows having indices `\"linear\", \"squared\", \"cubed\"` and `\"power_of_two\"` as desired. It has 100 columns as well."
      ]
    },
    {
      "cell_type": "markdown",
      "metadata": {
        "id": "UGMsfDIBGCEs"
      },
      "source": [
        "---"
      ]
    },
    {
      "cell_type": "markdown",
      "metadata": {
        "id": "QN1vXnRMGC1w"
      },
      "source": [
        "#### Activity 4: Creating A CSV File From A Python Dictionary^\n",
        "\n",
        "To create a `CSV` file from a Python dictionary, we need to use the following code:\n",
        "\n",
        "```\n",
        "from google.colab import files\n",
        "csv_file = data_frame.to_csv(index=True)\n",
        "\n",
        "with open('filename.csv', 'w') as f:\n",
        "  f.write(csv_file)\n",
        "\n",
        "files.download('filename.csv')\n",
        "```\n",
        "\n",
        "where\n",
        "\n",
        "- `data_frame` is a variable storing a Pandas DataFrame from which a `CSV` file needs to be created.\n",
        "\n",
        "- `filename.csv` is the name of the required CSV file that needs to be downloaded once created.\n",
        "\n",
        "Let's create a CSV file from the `new_df` DataFrame and name the file as `data.csv`.\n",
        "\n",
        "**Note:** After running the code below, a new dialogue box will appear prompting you to save the file in your computer.\n"
      ]
    },
    {
      "cell_type": "code",
      "metadata": {
        "id": "JotEz08gmqNE",
        "colab": {
          "base_uri": "https://localhost:8080/",
          "height": 130
        },
        "outputId": "14f956d4-e8d0-49af-c9df-2a1830f7fd21"
      },
      "source": [
        "# Student Action: Run the code below.\n",
        "from google.colab import files\n",
        "csv_file = new_df.to_csv(index=True) # 'new_df' is the source DataFrame from which the required CSV file is to be created.\n",
        "\n",
        "with open('data.csv', 'w') as f: # 'data.csv' is the name of the required CSV file.\n",
        "  f.write(csv_file)\n",
        "  f.\n",
        "files.download('data.csv')"
      ],
      "execution_count": null,
      "outputs": [
        {
          "output_type": "error",
          "ename": "SyntaxError",
          "evalue": "ignored",
          "traceback": [
            "\u001b[0;36m  File \u001b[0;32m\"<ipython-input-3-fcec80b83478>\"\u001b[0;36m, line \u001b[0;32m7\u001b[0m\n\u001b[0;31m    f.\u001b[0m\n\u001b[0m      ^\u001b[0m\n\u001b[0;31mSyntaxError\u001b[0m\u001b[0;31m:\u001b[0m invalid syntax\n"
          ]
        }
      ]
    },
    {
      "cell_type": "markdown",
      "metadata": {
        "id": "zkXJysGYfabI"
      },
      "source": [
        "So, as you can see we have created a CSV file using a Python dictionary. Now, let's learn it in detail."
      ]
    },
    {
      "cell_type": "markdown",
      "metadata": {
        "id": "C0hqaR3bMAB-"
      },
      "source": [
        "---"
      ]
    },
    {
      "cell_type": "markdown",
      "metadata": {
        "id": "s2pZAC4BWtxM"
      },
      "source": [
        "#### Activity 5: Python Dictionary^^^\n",
        "\n",
        "Similar to a Python list, a Python dictionary is also a data structure, i.e., it stores multiple values in it. **A python dictionary is a collection of key-value pairs** where each key-value pair collectively constitutes an item stored in it.\n",
        "\n",
        "An example of a key-value pair would be a specification of a smart-phone, as shown in the table below.\n",
        "\n",
        "|Key         |Value                  |\n",
        "|------------|-----------------------|\n",
        "|Front Camera|16 MP                  |\n",
        "|Battery     |3300 mAh               |\n",
        "|Processor   |Qualcomm Snapdragon 845|\n",
        "|Display     |6.28 inches            |\n",
        "|RAM         |6 GB                   |\n",
        "|Rear Camera |16 MP + 20 MP          |\n",
        "|Price (INR) |28990                  |\n",
        "|Fast Charge |True                   |\n",
        "\n",
        "Using the example shown in the table here, let's create a dictionary as a collection of key-value pairs.\n",
        "\n",
        "A dictionary is created using curly brackets (`{}`). A key and its corresponding value are mapped using the colon (`:`) sign and each key-value pair is separated by a comma."
      ]
    },
    {
      "cell_type": "code",
      "metadata": {
        "colab": {
          "base_uri": "https://localhost:8080/"
        },
        "id": "y0_9-R_1GMxC",
        "outputId": "740fceff-3722-4d10-eb30-3f760bc62764"
      },
      "source": [
        "import pandas as pd\n",
        "dict1 = {\"helo\":\"val1\",\n",
        "         \"key2\":1212,\n",
        "         \"key3\":321.12,\n",
        "         \"key4\":True}\n",
        "dict1"
      ],
      "execution_count": null,
      "outputs": [
        {
          "output_type": "execute_result",
          "data": {
            "text/plain": [
              "{'helo': 'val1', 'key2': 1212, 'key3': 321.12, 'key4': True}"
            ]
          },
          "metadata": {
            "tags": []
          },
          "execution_count": 5
        }
      ]
    },
    {
      "cell_type": "code",
      "metadata": {
        "id": "fRyfT7HTF873"
      },
      "source": [
        "#dictionaries are unordered\n",
        "#dictionaries are having key value pairs\n",
        "#we can index it using keys..there are no index numbers like 0,1,2,3"
      ],
      "execution_count": null,
      "outputs": []
    },
    {
      "cell_type": "code",
      "metadata": {
        "id": "evWpWkrlo7v4",
        "colab": {
          "base_uri": "https://localhost:8080/"
        },
        "outputId": "4ed80746-18dd-493c-e612-52631ca32191"
      },
      "source": [
        "# Teacher Action: Create a dictionary as a collection of key-value pairs containing the items shown in the table above.\n",
        "dict2={\"Front Camera\t\":\"16MP\",\n",
        "       \"Battery\":\"3300 mAh\",\n",
        "       \"Processor\":\"Qualcomm Snapdragon 845\",\n",
        "       \"Display\":\"6.28 inches\",\n",
        "       \"RAM\":\"6 GB\",\n",
        "       \"Rear Camera\":\"16 MP + 20 MP\",\n",
        "       \"Price (INR)\":28990,\n",
        "       \"Fast Charge\":True}\n",
        "dict2"
      ],
      "execution_count": null,
      "outputs": [
        {
          "output_type": "execute_result",
          "data": {
            "text/plain": [
              "{'Battery': '3300 mAh',\n",
              " 'Display': '6.28 inches',\n",
              " 'Fast Charge': True,\n",
              " 'Front Camera\\t': '16MP',\n",
              " 'Price (INR)': 28990,\n",
              " 'Processor': 'Qualcomm Snapdragon 845',\n",
              " 'RAM': '6 GB',\n",
              " 'Rear Camera': '16 MP + 20 MP'}"
            ]
          },
          "metadata": {
            "tags": []
          },
          "execution_count": 7
        }
      ]
    },
    {
      "cell_type": "markdown",
      "metadata": {
        "id": "uDPbMO0Sq1FG"
      },
      "source": [
        "In the above code, we have created a Python dictionary and stored it in `my_dict` variable. The dictionary contains 8 key-value pairs separated by a comma. The keys are of `string` data-type and the values are a mix of `string`, `int` and `bool` data types.\n",
        "\n",
        "**Note:** Even though you store an item (a key-value pair) in a specific order, a Python dictionary disregards the order. Hence, unlike a Python list, a Python dictionary is a data structure containing an **unordered** collection of items.\n",
        "\n",
        "If you print the dictionary, again and again, you will notice that the orders of the items keep on changing."
      ]
    },
    {
      "cell_type": "markdown",
      "metadata": {
        "id": "5o7rWylMhnpL"
      },
      "source": [
        "---"
      ]
    },
    {
      "cell_type": "markdown",
      "metadata": {
        "id": "mmOu2XWWhoZN"
      },
      "source": [
        "#### Activity 6: Empty Python Dictionary\n",
        "\n",
        "You can also create an empty dictionary$—$a dictionary which does not have any key-value pair$—$by simply writing curly brackets `{}` only."
      ]
    },
    {
      "cell_type": "code",
      "metadata": {
        "id": "uU_TcNO7TxQy",
        "colab": {
          "base_uri": "https://localhost:8080/"
        },
        "outputId": "f417406b-d9fb-4e65-f18c-5dce0e89832c"
      },
      "source": [
        "# Student Action: Create an empty dictionary.\n",
        "empty_dict={}\n",
        "empty_dict"
      ],
      "execution_count": null,
      "outputs": [
        {
          "output_type": "execute_result",
          "data": {
            "text/plain": [
              "{}"
            ]
          },
          "metadata": {
            "tags": []
          },
          "execution_count": 9
        }
      ]
    },
    {
      "cell_type": "markdown",
      "metadata": {
        "id": "mlP16hWpXgd3"
      },
      "source": [
        "In the above code, we have created an empty Python dictionary and stored it in the `empty_dict` variable.\n",
        "\n",
        "To verify whether a data structure is a Python dictionary  or not, you can use the `type()` function."
      ]
    },
    {
      "cell_type": "code",
      "metadata": {
        "id": "uYRMrXEaXe51",
        "colab": {
          "base_uri": "https://localhost:8080/"
        },
        "outputId": "648696b5-48d3-479e-e3e0-9856672588e3"
      },
      "source": [
        "# Student Action: Verify that the data structure stored in the 'empty_dict' variable is a Python dictionary.\n",
        "type(empty_dict)"
      ],
      "execution_count": null,
      "outputs": [
        {
          "output_type": "execute_result",
          "data": {
            "text/plain": [
              "dict"
            ]
          },
          "metadata": {
            "tags": []
          },
          "execution_count": 10
        }
      ]
    },
    {
      "cell_type": "markdown",
      "metadata": {
        "id": "YiIAzbVIY0Hq"
      },
      "source": [
        "The `type()` function returns `dict` as an output which verifies that the value stored in the `empty_dict` variable is indeed a dictionary.\n",
        "\n",
        "Let's pause here. In the next class, we will learn more about Python dictionaries."
      ]
    },
    {
      "cell_type": "markdown",
      "metadata": {
        "id": "XV9GyuzxaRxk"
      },
      "source": [
        "---"
      ]
    },
    {
      "cell_type": "markdown",
      "metadata": {
        "id": "PQv2JQVpRzkn"
      },
      "source": [
        "#### Activity 7: Important Points About Python Dictionary^^\n",
        "\n",
        "Here are some of the important points about a Python dictionary:\n",
        "\n",
        "1. A key in a Python dictionary can be a `str` (string), `int` (integer), `float` (a floating-point number) and a `bool` (boolean) data-type. Additionally, it can also be a tuple. In general, any immutable Python object can be a key in a Python dictionary. The term **immutable** means **unchangeable**.\n",
        "\n",
        "2. Any Python object (whether mutable or immutable) or a data-type can be a value in a Python dictionary.\n",
        "\n",
        "Let's go through a few examples for keys and values in a Python dictionary.\n",
        "\n",
        "**Booleans as keys**"
      ]
    },
    {
      "cell_type": "code",
      "metadata": {
        "id": "FHy3bdNgRxxx",
        "colab": {
          "base_uri": "https://localhost:8080/"
        },
        "outputId": "9d98b529-5c82-47a0-f9ec-c6fc40af3fa1"
      },
      "source": [
        "# Student Action: Create a Python dictionary whose keys are 'True' and 'False'. You can assign them any values.\n",
        "dict3={True:\"yes\",\n",
        "       False:\"no\"}\n",
        "dict3"
      ],
      "execution_count": null,
      "outputs": [
        {
          "output_type": "execute_result",
          "data": {
            "text/plain": [
              "{False: 'no', True: 'yes'}"
            ]
          },
          "metadata": {
            "tags": []
          },
          "execution_count": 11
        }
      ]
    },
    {
      "cell_type": "markdown",
      "metadata": {
        "id": "aeCRqqBHSLId"
      },
      "source": [
        "**Float-point numbers as keys**"
      ]
    },
    {
      "cell_type": "code",
      "metadata": {
        "id": "Reyft-FASNn1",
        "colab": {
          "base_uri": "https://localhost:8080/"
        },
        "outputId": "e9a629df-891d-44dd-b5c9-db70abd58ea9"
      },
      "source": [
        "# Student Action: Create a Python dictionary whose keys are some floating-point numbers. You can assign them any values.\n",
        "dict4={3.14:\"pie\",\n",
        "       2.71:\"E\"}\n",
        "dict4"
      ],
      "execution_count": null,
      "outputs": [
        {
          "output_type": "execute_result",
          "data": {
            "text/plain": [
              "{2.71: 'E', 3.14: 'pie'}"
            ]
          },
          "metadata": {
            "tags": []
          },
          "execution_count": 12
        }
      ]
    },
    {
      "cell_type": "markdown",
      "metadata": {
        "id": "yALtF_lZSQFG"
      },
      "source": [
        "**Integers as keys**"
      ]
    },
    {
      "cell_type": "code",
      "metadata": {
        "id": "pqAgUTl1SQsT",
        "colab": {
          "base_uri": "https://localhost:8080/"
        },
        "outputId": "93936455-829c-4b65-e25f-b65337ca04c7"
      },
      "source": [
        "# Student Action: Create a Python dictionary whose keys are integer values. You can assign them any values.\n",
        "dict5={25:\"square of 5\",\n",
        "       9:\"square of 3\"}\n",
        "dict5"
      ],
      "execution_count": null,
      "outputs": [
        {
          "output_type": "execute_result",
          "data": {
            "text/plain": [
              "{9: 'square of 3', 25: 'square of 5'}"
            ]
          },
          "metadata": {
            "tags": []
          },
          "execution_count": 13
        }
      ]
    },
    {
      "cell_type": "markdown",
      "metadata": {
        "id": "ZsYDO1_dSTIV"
      },
      "source": [
        "**Tuples as keys**"
      ]
    },
    {
      "cell_type": "code",
      "metadata": {
        "id": "yMpHH3J6SaDs",
        "colab": {
          "base_uri": "https://localhost:8080/"
        },
        "outputId": "6e6920bf-1ca3-472c-c48a-0d550f119e1a"
      },
      "source": [
        "# Student Action: Create a Python dictionary whose keys are some tuples. You can assign them any values.\n",
        "dict6={(1,2,3):\"first three whole numbers\",\n",
        "       (1,3,5):\"first three odd numbers\"}\n",
        "dict6"
      ],
      "execution_count": null,
      "outputs": [
        {
          "output_type": "execute_result",
          "data": {
            "text/plain": [
              "{(1, 2, 3): 'first three whole numbers', (1, 3, 5): 'first three odd numbers'}"
            ]
          },
          "metadata": {
            "tags": []
          },
          "execution_count": 14
        }
      ]
    },
    {
      "cell_type": "markdown",
      "metadata": {
        "id": "QjOmAnDrSduo"
      },
      "source": [
        "**Lists as values**"
      ]
    },
    {
      "cell_type": "code",
      "metadata": {
        "id": "V3WiewNqSfq-",
        "colab": {
          "base_uri": "https://localhost:8080/"
        },
        "outputId": "d75c6bb4-6196-4dde-96cd-12251850a024"
      },
      "source": [
        "# Student Action: Create a Python dictionary whose values are some lists.\n",
        "dict7={\"three whole numbers\":[1,2,3],\n",
        "       \"three even numbers\":[2,4,6]}\n",
        "dict7"
      ],
      "execution_count": null,
      "outputs": [
        {
          "output_type": "execute_result",
          "data": {
            "text/plain": [
              "{'three even numbers': [2, 4, 6], 'three whole numbers': [1, 2, 3]}"
            ]
          },
          "metadata": {
            "tags": []
          },
          "execution_count": 15
        }
      ]
    },
    {
      "cell_type": "markdown",
      "metadata": {
        "id": "Cy7JzYl3SiKI"
      },
      "source": [
        "**Dictionaries as values**"
      ]
    },
    {
      "cell_type": "code",
      "metadata": {
        "id": "VX6xgHNNSi6I",
        "colab": {
          "base_uri": "https://localhost:8080/"
        },
        "outputId": "abbc1d11-d1b8-4abd-81ed-94025c0400f5"
      },
      "source": [
        "# Student Action: Create a Python dictionary whose values are some other dictionaries.\n",
        "dict8={\"product\":{\"product1\":\"black\",\n",
        "                  \"product2\":\"red\"},\"specification\":dict2}\n",
        "dict8"
      ],
      "execution_count": null,
      "outputs": [
        {
          "output_type": "execute_result",
          "data": {
            "text/plain": [
              "{'product': {'product1': 'black', 'product2': 'red'},\n",
              " 'specification': {'Battery': '3300 mAh',\n",
              "  'Display': '6.28 inches',\n",
              "  'Fast Charge': True,\n",
              "  'Front Camera\\t': '16MP',\n",
              "  'Price (INR)': 28990,\n",
              "  'Processor': 'Qualcomm Snapdragon 845',\n",
              "  'RAM': '6 GB',\n",
              "  'Rear Camera': '16 MP + 20 MP'}}"
            ]
          },
          "metadata": {
            "tags": []
          },
          "execution_count": 18
        }
      ]
    },
    {
      "cell_type": "markdown",
      "metadata": {
        "id": "CODeMsMwSmr3"
      },
      "source": [
        "**Tuples as values**\n",
        "\n",
        "You will learn about tuples in detail in the upcoming classes."
      ]
    },
    {
      "cell_type": "code",
      "metadata": {
        "id": "qCmtqEZdSnkP"
      },
      "source": [
        "# Student Action: Create a Python dictionary whose values are tuples.\n",
        "dict9={\"square of 2\":(4,2),\n",
        "       \"square of 3\":(9,3)}\n",
        "dict9"
      ],
      "execution_count": null,
      "outputs": []
    },
    {
      "cell_type": "markdown",
      "metadata": {
        "id": "2ez2tZH6Spt2"
      },
      "source": [
        "**Note:** a key in a dictionary must be unique. In other words, two items in a dictionary cannot have the same key. If a dictionary contains two items having the same key, then the item at the higher index will be accepted by the dictionary and the item at the lower index will be discarded.\n"
      ]
    },
    {
      "cell_type": "code",
      "metadata": {
        "id": "V3U3PruXSsYs",
        "colab": {
          "base_uri": "https://localhost:8080/"
        },
        "outputId": "cd3f080c-d124-4e13-980e-dd72526330c8"
      },
      "source": [
        "# Student Action: Create a dictionary having two identical keys but different values.\n",
        "dict10={\"colour\":\"red\",\n",
        "        \"colour\":\"yellow\"}\n",
        "dict10"
      ],
      "execution_count": null,
      "outputs": [
        {
          "output_type": "execute_result",
          "data": {
            "text/plain": [
              "{'colour': 'yellow'}"
            ]
          },
          "metadata": {
            "tags": []
          },
          "execution_count": 19
        }
      ]
    },
    {
      "cell_type": "markdown",
      "metadata": {
        "id": "DVuxsE4lSwJ7"
      },
      "source": [
        "As you can see, the latest value for a key overrides its previous value.\n",
        "\n",
        "**Note:** Two different keys in a dictionary can have the same value."
      ]
    },
    {
      "cell_type": "code",
      "metadata": {
        "id": "lARnBVCQS08D",
        "colab": {
          "base_uri": "https://localhost:8080/"
        },
        "outputId": "e3bac934-6e77-4b9f-8e65-28e33e79f40d"
      },
      "source": [
        "# Student Action: Create a dictionary having two identical values but different keys.\n",
        "dict11={\"red\":\"colour\",\n",
        "        \"black\":\"colour\"}\n",
        "dict11"
      ],
      "execution_count": null,
      "outputs": [
        {
          "output_type": "execute_result",
          "data": {
            "text/plain": [
              "{'black': 'colour', 'red': 'colour'}"
            ]
          },
          "metadata": {
            "tags": []
          },
          "execution_count": 20
        }
      ]
    },
    {
      "cell_type": "markdown",
      "metadata": {
        "id": "5NJ_cB0aS3Li"
      },
      "source": [
        "Lastly, to convert the lists returned by the `keys(), values()` & `items()` function to conventional Python lists, you can apply the `list()` function on top of them."
      ]
    },
    {
      "cell_type": "code",
      "metadata": {
        "id": "4REkDQohS4LH",
        "colab": {
          "base_uri": "https://localhost:8080/"
        },
        "outputId": "8b4abef9-90c1-4219-c1de-f07b367a4244"
      },
      "source": [
        "# Student Action: Apply the 'list()' functions on top of the lists returned by the 'keys()', 'values()' & 'items()'. Print them as well.\n",
        "print(dict2.keys())\n",
        "print(dict2.values())\n",
        "print(dict2.items())"
      ],
      "execution_count": null,
      "outputs": [
        {
          "output_type": "stream",
          "text": [
            "dict_keys(['Front Camera\\t', 'Battery', 'Processor', 'Display', 'RAM', 'Rear Camera', 'Price (INR)', 'Fast Charge'])\n",
            "dict_values(['16MP', '3300 mAh', 'Qualcomm Snapdragon 845', '6.28 inches', '6 GB', '16 MP + 20 MP', 28990, True])\n",
            "dict_items([('Front Camera\\t', '16MP'), ('Battery', '3300 mAh'), ('Processor', 'Qualcomm Snapdragon 845'), ('Display', '6.28 inches'), ('RAM', '6 GB'), ('Rear Camera', '16 MP + 20 MP'), ('Price (INR)', 28990), ('Fast Charge', True)])\n"
          ],
          "name": "stdout"
        }
      ]
    },
    {
      "cell_type": "markdown",
      "metadata": {
        "id": "IxwClVvpRyme"
      },
      "source": [
        "---"
      ]
    }
  ]
}