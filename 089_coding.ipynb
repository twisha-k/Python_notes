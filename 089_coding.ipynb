{
  "nbformat": 4,
  "nbformat_minor": 0,
  "metadata": {
    "colab": {
      "provenance": [],
      "include_colab_link": true
    },
    "kernelspec": {
      "name": "python3",
      "display_name": "Python 3"
    },
    "language_info": {
      "name": "python"
    }
  },
  "cells": [
    {
      "cell_type": "markdown",
      "metadata": {
        "id": "view-in-github",
        "colab_type": "text"
      },
      "source": [
        "<a href=\"https://colab.research.google.com/github/twisha-k/Python_notes/blob/main/89_coding.ipynb\" target=\"_parent\"><img src=\"https://colab.research.google.com/assets/colab-badge.svg\" alt=\"Open In Colab\"/></a>"
      ]
    },
    {
      "cell_type": "markdown",
      "metadata": {
        "id": "q3pyBW5-NjiW"
      },
      "source": [
        "# Lesson 89: Undersampling"
      ]
    },
    {
      "cell_type": "markdown",
      "metadata": {
        "id": "nMyG6o7bOtXX"
      },
      "source": [
        "### Teacher-Student Activities\n",
        "\n",
        "In the previous classes, you learnt to find unwanted values in a data frame, convert numeric values reported as non-numeric to numeric values and change the column names. In this class, you will learn to reduce the majority class samples in a data frame using the random undersampling technique.\n",
        "\n",
        "Let's quickly go through the activities covered in the previous class and start this lesson from **Activity 1: Mapping Non-Numeric Categorical Values to Numeric** section.\n",
        "\n",
        "**Data Description**\n",
        "\n",
        "There are 1559 columns in the data. Each row in the data represents one image that is tagged as an `ad.` or `nonad.` in the last column. Here's the description of each column:\n",
        "\n",
        "- **`Unnamed: 0`**: Unique ID of each image\n",
        "- **`0`**: Height of an image\n",
        "- **`1`**: Width of an image\n",
        "- **`2`**: Aspect ratio (ratio of width to the height) of an image\n",
        "- Columns **`3`** to **`1557`**: Pixel values of an image\n",
        "- **`1558`**: Whether the image belongs to an advertisement or not\n",
        "\n",
        "**Dataset credits:** *https://archive.ics.uci.edu/ml/citation_policy.html*\n",
        "\n",
        "**Citation:**\n",
        "\n",
        "Dua, D., & Graff, C.. (2017). UCI Machine Learning Repository.\n",
        "\n",
        "\n",
        "\n",
        "\n"
      ]
    },
    {
      "cell_type": "markdown",
      "metadata": {
        "id": "iJDraPLEOscc"
      },
      "source": [
        "---"
      ]
    },
    {
      "cell_type": "markdown",
      "metadata": {
        "id": "7r_orH8cQgRL"
      },
      "source": [
        "#### Loading Dataset\n",
        "\n",
        "Let's import all the required Python modules and load the dataset. Here's the link to the dataset:\n",
        "\n",
        "https://s3-student-datasets-bucket.whjr.online/whitehat-ds-datasets/ad-or-nonad.csv"
      ]
    },
    {
      "cell_type": "code",
      "metadata": {
        "id": "QukLlDZ7trlw",
        "colab": {
          "base_uri": "https://localhost:8080/"
        },
        "outputId": "051fb2b3-ca77-4f00-f271-cba9aceb4e01"
      },
      "source": [
        "# Import all the required Python modules and load the dataset.\n",
        "import numpy as np\n",
        "import pandas as pd\n",
        "import matplotlib.pyplot as plt\n",
        "import seaborn as sns\n",
        "\n",
        "df = pd.read_csv(\"https://s3-student-datasets-bucket.whjr.online/whitehat-ds-datasets/ad-or-nonad.csv\")\n",
        "\n",
        "# Drop the 'Unnamed: 0' column from the data frame.\n",
        "df.drop(columns = \"Unnamed: 0\", inplace = True)\n",
        "\n",
        "# Get information about the dataset.\n",
        "df.info()"
      ],
      "execution_count": null,
      "outputs": [
        {
          "output_type": "stream",
          "name": "stderr",
          "text": [
            "/usr/local/lib/python3.7/dist-packages/IPython/core/interactiveshell.py:3326: DtypeWarning: Columns (4) have mixed types.Specify dtype option on import or set low_memory=False.\n",
            "  exec(code_obj, self.user_global_ns, self.user_ns)\n"
          ]
        },
        {
          "output_type": "stream",
          "name": "stdout",
          "text": [
            "<class 'pandas.core.frame.DataFrame'>\n",
            "RangeIndex: 3279 entries, 0 to 3278\n",
            "Columns: 1559 entries, 0 to 1558\n",
            "dtypes: int64(1554), object(5)\n",
            "memory usage: 39.0+ MB\n"
          ]
        }
      ]
    },
    {
      "cell_type": "code",
      "metadata": {
        "id": "k1NFEIlQ0ObS",
        "colab": {
          "base_uri": "https://localhost:8080/"
        },
        "outputId": "557d2074-f201-4e48-d9ab-f793b6313b61"
      },
      "source": [
        "# Get information about the dataset.\n",
        "df.info()"
      ],
      "execution_count": null,
      "outputs": [
        {
          "output_type": "stream",
          "name": "stdout",
          "text": [
            "<class 'pandas.core.frame.DataFrame'>\n",
            "RangeIndex: 3279 entries, 0 to 3278\n",
            "Columns: 1559 entries, 0 to 1558\n",
            "dtypes: int64(1554), object(5)\n",
            "memory usage: 39.0+ MB\n"
          ]
        }
      ]
    },
    {
      "cell_type": "code",
      "metadata": {
        "id": "3jt9JQtQx5ik",
        "colab": {
          "base_uri": "https://localhost:8080/"
        },
        "outputId": "3f51af65-cc2b-4446-805a-5aa1ad94d367"
      },
      "source": [
        "# Rename the columns '0, 1, 2' and '1558' of the data frame with their correct names as stated  654 above.\n",
        "df = df.rename(columns = {\"0\": \"height\", \"1\": \"width\", \"2\": \"aspect ratio\", \"1558\": \"target\"})\n",
        "\n",
        "# Calculate the total sum of the missing (or null) values in all the columns in the data frame.\n",
        "df.isnull().sum().sum()"
      ],
      "execution_count": null,
      "outputs": [
        {
          "output_type": "execute_result",
          "data": {
            "text/plain": [
              "0"
            ]
          },
          "metadata": {},
          "execution_count": 3
        }
      ]
    },
    {
      "cell_type": "markdown",
      "metadata": {
        "id": "ICwlwePUHlhU"
      },
      "source": [
        "---"
      ]
    },
    {
      "cell_type": "markdown",
      "metadata": {
        "id": "9JKz7YqJF6g3"
      },
      "source": [
        "#### Removing Rows from Pandas DataFrame\n",
        "\n",
        "To **remove** all the rows containing question marks in both `height` and `width` columns:\n",
        "\n",
        "1. Retrieve all the rows containing question marks in both `height` and `width` columns\n",
        "\n",
        "2. Use the tilde (`~`) symbol to reverse (or conjugate or negate) the conditional statement used to retrieve all the rows containing question marks in both `height` and `width` columns."
      ]
    },
    {
      "cell_type": "code",
      "metadata": {
        "id": "v73gxtdnAdjk",
        "colab": {
          "base_uri": "https://localhost:8080/",
          "height": 424
        },
        "outputId": "73bf183f-b163-4e4f-e2d4-bd571b524a54"
      },
      "source": [
        "# Remove all the rows containing question marks in both height and width columns\n",
        "df = df[~((df[\"height\"] == \"   ?\") & (df[\"width\"] == \"   ?\"))]\n",
        "\n",
        "# Remove the above 9 rows containing unwanted values in both 'height' and 'aspect ratio' columns.\n",
        "df = df[df[\"height\"] != \"   ?\"]\n",
        "\n",
        "# Remove the above 7 rows containing unwanted values in both 'height' and 'aspect ratio' columns.\n",
        "df = df[df[\"width\"] != \"   ?\"]\n",
        "\n",
        "# Remove the rows containing unwanted values in the column titled '3'.\n",
        "df = df[df[\"3\"] != \"?\"]\n",
        "\n",
        "# Convert the numeric values reported as the non-numeric values to numeric values in all the columns except in the target column.\n",
        "df[df.columns[:-1]] = df[df.columns[:-1]].apply(pd.to_numeric)\n",
        "df"
      ],
      "execution_count": null,
      "outputs": [
        {
          "output_type": "execute_result",
          "data": {
            "text/plain": [
              "      height  width  aspect ratio  3  4  5  6  7  8  9  ...  1549  1550  1551  \\\n",
              "0        125    125        1.0000  1  0  0  0  0  0  0  ...     0     0     0   \n",
              "1         57    468        8.2105  1  0  0  0  0  0  0  ...     0     0     0   \n",
              "2         33    230        6.9696  1  0  0  0  0  0  0  ...     0     0     0   \n",
              "3         60    468        7.8000  1  0  0  0  0  0  0  ...     0     0     0   \n",
              "4         60    468        7.8000  1  0  0  0  0  0  0  ...     0     0     0   \n",
              "...      ...    ...           ... .. .. .. .. .. .. ..  ...   ...   ...   ...   \n",
              "3273      30     30        1.0000  0  0  0  0  0  0  0  ...     0     0     0   \n",
              "3274     170     94        0.5529  0  0  0  0  0  0  0  ...     0     0     0   \n",
              "3275     101    140        1.3861  1  0  0  0  0  0  0  ...     0     0     0   \n",
              "3276      23    120        5.2173  1  0  0  0  0  0  0  ...     0     0     0   \n",
              "3278      40     40        1.0000  1  0  0  0  0  0  0  ...     0     0     0   \n",
              "\n",
              "      1552  1553  1554  1555  1556  1557  target  \n",
              "0        0     0     0     0     0     0     ad.  \n",
              "1        0     0     0     0     0     0     ad.  \n",
              "2        0     0     0     0     0     0     ad.  \n",
              "3        0     0     0     0     0     0     ad.  \n",
              "4        0     0     0     0     0     0     ad.  \n",
              "...    ...   ...   ...   ...   ...   ...     ...  \n",
              "3273     0     0     0     0     0     0  nonad.  \n",
              "3274     0     0     0     0     0     0  nonad.  \n",
              "3275     0     0     0     0     0     0  nonad.  \n",
              "3276     0     0     0     0     0     0  nonad.  \n",
              "3278     0     0     0     0     0     0  nonad.  \n",
              "\n",
              "[2359 rows x 1559 columns]"
            ],
            "text/html": [
              "\n",
              "  <div id=\"df-65ed588c-6717-4f4f-810d-3bb0a902ae14\">\n",
              "    <div class=\"colab-df-container\">\n",
              "      <div>\n",
              "<style scoped>\n",
              "    .dataframe tbody tr th:only-of-type {\n",
              "        vertical-align: middle;\n",
              "    }\n",
              "\n",
              "    .dataframe tbody tr th {\n",
              "        vertical-align: top;\n",
              "    }\n",
              "\n",
              "    .dataframe thead th {\n",
              "        text-align: right;\n",
              "    }\n",
              "</style>\n",
              "<table border=\"1\" class=\"dataframe\">\n",
              "  <thead>\n",
              "    <tr style=\"text-align: right;\">\n",
              "      <th></th>\n",
              "      <th>height</th>\n",
              "      <th>width</th>\n",
              "      <th>aspect ratio</th>\n",
              "      <th>3</th>\n",
              "      <th>4</th>\n",
              "      <th>5</th>\n",
              "      <th>6</th>\n",
              "      <th>7</th>\n",
              "      <th>8</th>\n",
              "      <th>9</th>\n",
              "      <th>...</th>\n",
              "      <th>1549</th>\n",
              "      <th>1550</th>\n",
              "      <th>1551</th>\n",
              "      <th>1552</th>\n",
              "      <th>1553</th>\n",
              "      <th>1554</th>\n",
              "      <th>1555</th>\n",
              "      <th>1556</th>\n",
              "      <th>1557</th>\n",
              "      <th>target</th>\n",
              "    </tr>\n",
              "  </thead>\n",
              "  <tbody>\n",
              "    <tr>\n",
              "      <th>0</th>\n",
              "      <td>125</td>\n",
              "      <td>125</td>\n",
              "      <td>1.0000</td>\n",
              "      <td>1</td>\n",
              "      <td>0</td>\n",
              "      <td>0</td>\n",
              "      <td>0</td>\n",
              "      <td>0</td>\n",
              "      <td>0</td>\n",
              "      <td>0</td>\n",
              "      <td>...</td>\n",
              "      <td>0</td>\n",
              "      <td>0</td>\n",
              "      <td>0</td>\n",
              "      <td>0</td>\n",
              "      <td>0</td>\n",
              "      <td>0</td>\n",
              "      <td>0</td>\n",
              "      <td>0</td>\n",
              "      <td>0</td>\n",
              "      <td>ad.</td>\n",
              "    </tr>\n",
              "    <tr>\n",
              "      <th>1</th>\n",
              "      <td>57</td>\n",
              "      <td>468</td>\n",
              "      <td>8.2105</td>\n",
              "      <td>1</td>\n",
              "      <td>0</td>\n",
              "      <td>0</td>\n",
              "      <td>0</td>\n",
              "      <td>0</td>\n",
              "      <td>0</td>\n",
              "      <td>0</td>\n",
              "      <td>...</td>\n",
              "      <td>0</td>\n",
              "      <td>0</td>\n",
              "      <td>0</td>\n",
              "      <td>0</td>\n",
              "      <td>0</td>\n",
              "      <td>0</td>\n",
              "      <td>0</td>\n",
              "      <td>0</td>\n",
              "      <td>0</td>\n",
              "      <td>ad.</td>\n",
              "    </tr>\n",
              "    <tr>\n",
              "      <th>2</th>\n",
              "      <td>33</td>\n",
              "      <td>230</td>\n",
              "      <td>6.9696</td>\n",
              "      <td>1</td>\n",
              "      <td>0</td>\n",
              "      <td>0</td>\n",
              "      <td>0</td>\n",
              "      <td>0</td>\n",
              "      <td>0</td>\n",
              "      <td>0</td>\n",
              "      <td>...</td>\n",
              "      <td>0</td>\n",
              "      <td>0</td>\n",
              "      <td>0</td>\n",
              "      <td>0</td>\n",
              "      <td>0</td>\n",
              "      <td>0</td>\n",
              "      <td>0</td>\n",
              "      <td>0</td>\n",
              "      <td>0</td>\n",
              "      <td>ad.</td>\n",
              "    </tr>\n",
              "    <tr>\n",
              "      <th>3</th>\n",
              "      <td>60</td>\n",
              "      <td>468</td>\n",
              "      <td>7.8000</td>\n",
              "      <td>1</td>\n",
              "      <td>0</td>\n",
              "      <td>0</td>\n",
              "      <td>0</td>\n",
              "      <td>0</td>\n",
              "      <td>0</td>\n",
              "      <td>0</td>\n",
              "      <td>...</td>\n",
              "      <td>0</td>\n",
              "      <td>0</td>\n",
              "      <td>0</td>\n",
              "      <td>0</td>\n",
              "      <td>0</td>\n",
              "      <td>0</td>\n",
              "      <td>0</td>\n",
              "      <td>0</td>\n",
              "      <td>0</td>\n",
              "      <td>ad.</td>\n",
              "    </tr>\n",
              "    <tr>\n",
              "      <th>4</th>\n",
              "      <td>60</td>\n",
              "      <td>468</td>\n",
              "      <td>7.8000</td>\n",
              "      <td>1</td>\n",
              "      <td>0</td>\n",
              "      <td>0</td>\n",
              "      <td>0</td>\n",
              "      <td>0</td>\n",
              "      <td>0</td>\n",
              "      <td>0</td>\n",
              "      <td>...</td>\n",
              "      <td>0</td>\n",
              "      <td>0</td>\n",
              "      <td>0</td>\n",
              "      <td>0</td>\n",
              "      <td>0</td>\n",
              "      <td>0</td>\n",
              "      <td>0</td>\n",
              "      <td>0</td>\n",
              "      <td>0</td>\n",
              "      <td>ad.</td>\n",
              "    </tr>\n",
              "    <tr>\n",
              "      <th>...</th>\n",
              "      <td>...</td>\n",
              "      <td>...</td>\n",
              "      <td>...</td>\n",
              "      <td>...</td>\n",
              "      <td>...</td>\n",
              "      <td>...</td>\n",
              "      <td>...</td>\n",
              "      <td>...</td>\n",
              "      <td>...</td>\n",
              "      <td>...</td>\n",
              "      <td>...</td>\n",
              "      <td>...</td>\n",
              "      <td>...</td>\n",
              "      <td>...</td>\n",
              "      <td>...</td>\n",
              "      <td>...</td>\n",
              "      <td>...</td>\n",
              "      <td>...</td>\n",
              "      <td>...</td>\n",
              "      <td>...</td>\n",
              "      <td>...</td>\n",
              "    </tr>\n",
              "    <tr>\n",
              "      <th>3273</th>\n",
              "      <td>30</td>\n",
              "      <td>30</td>\n",
              "      <td>1.0000</td>\n",
              "      <td>0</td>\n",
              "      <td>0</td>\n",
              "      <td>0</td>\n",
              "      <td>0</td>\n",
              "      <td>0</td>\n",
              "      <td>0</td>\n",
              "      <td>0</td>\n",
              "      <td>...</td>\n",
              "      <td>0</td>\n",
              "      <td>0</td>\n",
              "      <td>0</td>\n",
              "      <td>0</td>\n",
              "      <td>0</td>\n",
              "      <td>0</td>\n",
              "      <td>0</td>\n",
              "      <td>0</td>\n",
              "      <td>0</td>\n",
              "      <td>nonad.</td>\n",
              "    </tr>\n",
              "    <tr>\n",
              "      <th>3274</th>\n",
              "      <td>170</td>\n",
              "      <td>94</td>\n",
              "      <td>0.5529</td>\n",
              "      <td>0</td>\n",
              "      <td>0</td>\n",
              "      <td>0</td>\n",
              "      <td>0</td>\n",
              "      <td>0</td>\n",
              "      <td>0</td>\n",
              "      <td>0</td>\n",
              "      <td>...</td>\n",
              "      <td>0</td>\n",
              "      <td>0</td>\n",
              "      <td>0</td>\n",
              "      <td>0</td>\n",
              "      <td>0</td>\n",
              "      <td>0</td>\n",
              "      <td>0</td>\n",
              "      <td>0</td>\n",
              "      <td>0</td>\n",
              "      <td>nonad.</td>\n",
              "    </tr>\n",
              "    <tr>\n",
              "      <th>3275</th>\n",
              "      <td>101</td>\n",
              "      <td>140</td>\n",
              "      <td>1.3861</td>\n",
              "      <td>1</td>\n",
              "      <td>0</td>\n",
              "      <td>0</td>\n",
              "      <td>0</td>\n",
              "      <td>0</td>\n",
              "      <td>0</td>\n",
              "      <td>0</td>\n",
              "      <td>...</td>\n",
              "      <td>0</td>\n",
              "      <td>0</td>\n",
              "      <td>0</td>\n",
              "      <td>0</td>\n",
              "      <td>0</td>\n",
              "      <td>0</td>\n",
              "      <td>0</td>\n",
              "      <td>0</td>\n",
              "      <td>0</td>\n",
              "      <td>nonad.</td>\n",
              "    </tr>\n",
              "    <tr>\n",
              "      <th>3276</th>\n",
              "      <td>23</td>\n",
              "      <td>120</td>\n",
              "      <td>5.2173</td>\n",
              "      <td>1</td>\n",
              "      <td>0</td>\n",
              "      <td>0</td>\n",
              "      <td>0</td>\n",
              "      <td>0</td>\n",
              "      <td>0</td>\n",
              "      <td>0</td>\n",
              "      <td>...</td>\n",
              "      <td>0</td>\n",
              "      <td>0</td>\n",
              "      <td>0</td>\n",
              "      <td>0</td>\n",
              "      <td>0</td>\n",
              "      <td>0</td>\n",
              "      <td>0</td>\n",
              "      <td>0</td>\n",
              "      <td>0</td>\n",
              "      <td>nonad.</td>\n",
              "    </tr>\n",
              "    <tr>\n",
              "      <th>3278</th>\n",
              "      <td>40</td>\n",
              "      <td>40</td>\n",
              "      <td>1.0000</td>\n",
              "      <td>1</td>\n",
              "      <td>0</td>\n",
              "      <td>0</td>\n",
              "      <td>0</td>\n",
              "      <td>0</td>\n",
              "      <td>0</td>\n",
              "      <td>0</td>\n",
              "      <td>...</td>\n",
              "      <td>0</td>\n",
              "      <td>0</td>\n",
              "      <td>0</td>\n",
              "      <td>0</td>\n",
              "      <td>0</td>\n",
              "      <td>0</td>\n",
              "      <td>0</td>\n",
              "      <td>0</td>\n",
              "      <td>0</td>\n",
              "      <td>nonad.</td>\n",
              "    </tr>\n",
              "  </tbody>\n",
              "</table>\n",
              "<p>2359 rows × 1559 columns</p>\n",
              "</div>\n",
              "      <button class=\"colab-df-convert\" onclick=\"convertToInteractive('df-65ed588c-6717-4f4f-810d-3bb0a902ae14')\"\n",
              "              title=\"Convert this dataframe to an interactive table.\"\n",
              "              style=\"display:none;\">\n",
              "        \n",
              "  <svg xmlns=\"http://www.w3.org/2000/svg\" height=\"24px\"viewBox=\"0 0 24 24\"\n",
              "       width=\"24px\">\n",
              "    <path d=\"M0 0h24v24H0V0z\" fill=\"none\"/>\n",
              "    <path d=\"M18.56 5.44l.94 2.06.94-2.06 2.06-.94-2.06-.94-.94-2.06-.94 2.06-2.06.94zm-11 1L8.5 8.5l.94-2.06 2.06-.94-2.06-.94L8.5 2.5l-.94 2.06-2.06.94zm10 10l.94 2.06.94-2.06 2.06-.94-2.06-.94-.94-2.06-.94 2.06-2.06.94z\"/><path d=\"M17.41 7.96l-1.37-1.37c-.4-.4-.92-.59-1.43-.59-.52 0-1.04.2-1.43.59L10.3 9.45l-7.72 7.72c-.78.78-.78 2.05 0 2.83L4 21.41c.39.39.9.59 1.41.59.51 0 1.02-.2 1.41-.59l7.78-7.78 2.81-2.81c.8-.78.8-2.07 0-2.86zM5.41 20L4 18.59l7.72-7.72 1.47 1.35L5.41 20z\"/>\n",
              "  </svg>\n",
              "      </button>\n",
              "      \n",
              "  <style>\n",
              "    .colab-df-container {\n",
              "      display:flex;\n",
              "      flex-wrap:wrap;\n",
              "      gap: 12px;\n",
              "    }\n",
              "\n",
              "    .colab-df-convert {\n",
              "      background-color: #E8F0FE;\n",
              "      border: none;\n",
              "      border-radius: 50%;\n",
              "      cursor: pointer;\n",
              "      display: none;\n",
              "      fill: #1967D2;\n",
              "      height: 32px;\n",
              "      padding: 0 0 0 0;\n",
              "      width: 32px;\n",
              "    }\n",
              "\n",
              "    .colab-df-convert:hover {\n",
              "      background-color: #E2EBFA;\n",
              "      box-shadow: 0px 1px 2px rgba(60, 64, 67, 0.3), 0px 1px 3px 1px rgba(60, 64, 67, 0.15);\n",
              "      fill: #174EA6;\n",
              "    }\n",
              "\n",
              "    [theme=dark] .colab-df-convert {\n",
              "      background-color: #3B4455;\n",
              "      fill: #D2E3FC;\n",
              "    }\n",
              "\n",
              "    [theme=dark] .colab-df-convert:hover {\n",
              "      background-color: #434B5C;\n",
              "      box-shadow: 0px 1px 3px 1px rgba(0, 0, 0, 0.15);\n",
              "      filter: drop-shadow(0px 1px 2px rgba(0, 0, 0, 0.3));\n",
              "      fill: #FFFFFF;\n",
              "    }\n",
              "  </style>\n",
              "\n",
              "      <script>\n",
              "        const buttonEl =\n",
              "          document.querySelector('#df-65ed588c-6717-4f4f-810d-3bb0a902ae14 button.colab-df-convert');\n",
              "        buttonEl.style.display =\n",
              "          google.colab.kernel.accessAllowed ? 'block' : 'none';\n",
              "\n",
              "        async function convertToInteractive(key) {\n",
              "          const element = document.querySelector('#df-65ed588c-6717-4f4f-810d-3bb0a902ae14');\n",
              "          const dataTable =\n",
              "            await google.colab.kernel.invokeFunction('convertToInteractive',\n",
              "                                                     [key], {});\n",
              "          if (!dataTable) return;\n",
              "\n",
              "          const docLinkHtml = 'Like what you see? Visit the ' +\n",
              "            '<a target=\"_blank\" href=https://colab.research.google.com/notebooks/data_table.ipynb>data table notebook</a>'\n",
              "            + ' to learn more about interactive tables.';\n",
              "          element.innerHTML = '';\n",
              "          dataTable['output_type'] = 'display_data';\n",
              "          await google.colab.output.renderOutput(dataTable, element);\n",
              "          const docLink = document.createElement('div');\n",
              "          docLink.innerHTML = docLinkHtml;\n",
              "          element.appendChild(docLink);\n",
              "        }\n",
              "      </script>\n",
              "    </div>\n",
              "  </div>\n",
              "  "
            ]
          },
          "metadata": {},
          "execution_count": 4
        }
      ]
    },
    {
      "cell_type": "markdown",
      "metadata": {
        "id": "SlVlsifjVkKw"
      },
      "source": [
        "---"
      ]
    },
    {
      "cell_type": "markdown",
      "metadata": {
        "id": "K5-A3uAqIPV1"
      },
      "source": [
        "#### Activity 1: Mapping Non-Numeric Categorical Values to Numeric\n",
        "\n",
        "The labels or classes in the `target` column are `nonad.` and `ad.` that are non-numeric values. To be able to build a classification model, we first, have to map them to numeric values. For this, you can use the `map()` function of the Pandas module. It takes a Python dictionary as input containing the old values and new values as key-value pairs.\n",
        "\n",
        "**Syntax:** `pandas_series.map({old_value1 : new_value1, old_value2: new_value2, ... old_valueN : new_valueN})`\n",
        "\n",
        "where\n",
        "\n",
        "- `pandas_series` is a Pandas series containing the values to be mapped.\n",
        "\n",
        "- `map()` function maps the old values to new values.\n",
        "\n",
        "- `{old_value1 : new_value1, old_value2: new_value2, ... old_valueN : new_valueN}` is a dictionary containing the old values and new values as key-value pairs."
      ]
    },
    {
      "cell_type": "code",
      "metadata": {
        "id": "e_x_Y3Y_In0p",
        "colab": {
          "base_uri": "https://localhost:8080/"
        },
        "outputId": "2a280640-80f0-40a4-d4e4-847f06208667"
      },
      "source": [
        "# S1.1: Map the 'nonad.' and 'ad.' values to 0 and 1.\n",
        "df['target']=df['target'].map({'ad.':1,'nonad.':0})\n",
        "df['target'].value_counts()\n",
        "# Find out the unique values contained in the 'target' column after the above operation.\n"
      ],
      "execution_count": null,
      "outputs": [
        {
          "output_type": "execute_result",
          "data": {
            "text/plain": [
              "0    1978\n",
              "1     381\n",
              "Name: target, dtype: int64"
            ]
          },
          "metadata": {},
          "execution_count": 5
        }
      ]
    },
    {
      "cell_type": "markdown",
      "metadata": {
        "id": "uonCo-RNNZby"
      },
      "source": [
        "Let's get the count of the values stored in the `target` column."
      ]
    },
    {
      "cell_type": "code",
      "metadata": {
        "id": "Hy-QIX6cIs3L"
      },
      "source": [
        "# S1.2: Get the count of the values stored in the target column.\n"
      ],
      "execution_count": null,
      "outputs": []
    },
    {
      "cell_type": "markdown",
      "metadata": {
        "id": "qIqf6d4op8Oq"
      },
      "source": [
        "---"
      ]
    },
    {
      "cell_type": "markdown",
      "metadata": {
        "id": "gMPniZr_p2Ni"
      },
      "source": [
        "#### Activity 2: Data Visualisation^\n",
        "\n",
        "Let's create a scatter plot between the columns `height` and `width` of all images to find out whether they follow distinguishing patterns for the advertisement and non-advertisement images."
      ]
    },
    {
      "cell_type": "code",
      "metadata": {
        "id": "II7L1qKcI1Vh",
        "colab": {
          "base_uri": "https://localhost:8080/",
          "height": 353
        },
        "outputId": "f21fd9aa-c216-4af1-d4cf-e75064482c4b"
      },
      "source": [
        "# S2.1: Create a scatter plot between the columns height and width of all images.\n",
        "sns.scatterplot(df['height'],df['width'],hue=df['target'])"
      ],
      "execution_count": null,
      "outputs": [
        {
          "output_type": "stream",
          "name": "stderr",
          "text": [
            "/usr/local/lib/python3.7/dist-packages/seaborn/_decorators.py:43: FutureWarning: Pass the following variables as keyword args: x, y. From version 0.12, the only valid positional argument will be `data`, and passing other arguments without an explicit keyword will result in an error or misinterpretation.\n",
            "  FutureWarning\n"
          ]
        },
        {
          "output_type": "execute_result",
          "data": {
            "text/plain": [
              "<matplotlib.axes._subplots.AxesSubplot at 0x7fc91261b990>"
            ]
          },
          "metadata": {},
          "execution_count": 7
        },
        {
          "output_type": "display_data",
          "data": {
            "text/plain": [
              "<Figure size 432x288 with 1 Axes>"
            ],
            "image/png": "[encoded data removed]"
          },
          "metadata": {
            "needs_background": "light"
          }
        }
      ]
    },
    {
      "cell_type": "markdown",
      "metadata": {
        "id": "FaLl16dhUQUE"
      },
      "source": [
        "From the scatter plot, we can see that for the advertisement images, the width values are usually higher for a particular height. Let's confirm this observation by plotting two different box plots:\n",
        "- One for the width of all the advertisement and\n",
        "- Another for the width of all the non-advertisement images"
      ]
    },
    {
      "cell_type": "code",
      "metadata": {
        "id": "_OgwGCjysIcq",
        "colab": {
          "base_uri": "https://localhost:8080/",
          "height": 353
        },
        "outputId": "836f2b2b-f952-4a57-8559-58f2e80772b2"
      },
      "source": [
        "# S2.2: Create a boxplot to compare the width values for both advertisement and non-advertisement images.\n",
        "sns.boxplot(df['width'],df['target'],orient='h')"
      ],
      "execution_count": null,
      "outputs": [
        {
          "output_type": "stream",
          "name": "stderr",
          "text": [
            "/usr/local/lib/python3.7/dist-packages/seaborn/_decorators.py:43: FutureWarning: Pass the following variables as keyword args: x, y. From version 0.12, the only valid positional argument will be `data`, and passing other arguments without an explicit keyword will result in an error or misinterpretation.\n",
            "  FutureWarning\n"
          ]
        },
        {
          "output_type": "execute_result",
          "data": {
            "text/plain": [
              "<matplotlib.axes._subplots.AxesSubplot at 0x7fc912690910>"
            ]
          },
          "metadata": {},
          "execution_count": 8
        },
        {
          "output_type": "display_data",
          "data": {
            "text/plain": [
              "<Figure size 432x288 with 1 Axes>"
            ],
            "image/png": "[encoded data removed]"
          },
          "metadata": {
            "needs_background": "light"
          }
        }
      ]
    },
    {
      "cell_type": "markdown",
      "metadata": {
        "id": "rQmMTy4Kj19e"
      },
      "source": [
        "For the advertisement images:\n",
        "\n",
        "- The width values are very spread apart from each other.\n",
        "- Additionally, the median width value is very close to the third quartile value.\n",
        "\n",
        "So the above box plot confirms the clear distinction between the width of advertisement and non-advertisement images. When we build a classification model using SVM, it should be able to detect this distinction.\n",
        "\n",
        "Similarly, let's check the trend for the height and aspect ratio values for both types of images."
      ]
    },
    {
      "cell_type": "code",
      "metadata": {
        "id": "oKuaUah7j-ma",
        "colab": {
          "base_uri": "https://localhost:8080/",
          "height": 353
        },
        "outputId": "164a37e3-ab48-4d48-fd61-98e08feebff1"
      },
      "source": [
        "# S2.3: Create a boxplot to compare the height values for both advertisement and non-advertisement images.\n",
        "sns.boxplot(df['height'],df['target'],orient='h')"
      ],
      "execution_count": null,
      "outputs": [
        {
          "output_type": "stream",
          "name": "stderr",
          "text": [
            "/usr/local/lib/python3.7/dist-packages/seaborn/_decorators.py:43: FutureWarning: Pass the following variables as keyword args: x, y. From version 0.12, the only valid positional argument will be `data`, and passing other arguments without an explicit keyword will result in an error or misinterpretation.\n",
            "  FutureWarning\n"
          ]
        },
        {
          "output_type": "execute_result",
          "data": {
            "text/plain": [
              "<matplotlib.axes._subplots.AxesSubplot at 0x7fc9127b9850>"
            ]
          },
          "metadata": {},
          "execution_count": 9
        },
        {
          "output_type": "display_data",
          "data": {
            "text/plain": [
              "<Figure size 432x288 with 1 Axes>"
            ],
            "image/png": "[encoded data removed]"
          },
          "metadata": {
            "needs_background": "light"
          }
        }
      ]
    },
    {
      "cell_type": "markdown",
      "metadata": {
        "id": "zLOsJN_ckDGx"
      },
      "source": [
        "From the above graph, it appears that the first quartile, median and third quartile height values are coinciding for the advertisement images. Let's calculate these values to verify our observation."
      ]
    },
    {
      "cell_type": "code",
      "metadata": {
        "id": "Zo0d8JMGkcIV",
        "colab": {
          "base_uri": "https://localhost:8080/"
        },
        "outputId": "dfec6972-28ad-4e48-d644-623638e22744"
      },
      "source": [
        "# S2.4: Calculate 1st, 2nd and 3rd quartile height values are for the advertisement images.\n",
        "df[df['target']==1]['height'].describe()"
      ],
      "execution_count": null,
      "outputs": [
        {
          "output_type": "execute_result",
          "data": {
            "text/plain": [
              "count    381.000000\n",
              "mean      67.307087\n",
              "std       39.296011\n",
              "min        2.000000\n",
              "25%       60.000000\n",
              "50%       60.000000\n",
              "75%       60.000000\n",
              "max      477.000000\n",
              "Name: height, dtype: float64"
            ]
          },
          "metadata": {},
          "execution_count": 10
        }
      ]
    },
    {
      "cell_type": "markdown",
      "metadata": {
        "id": "O15DV45alDA3"
      },
      "source": [
        "So our supposition was correct. The three quartile height values for the advertisement images do coincide.\n",
        "\n",
        "Now let's create the boxplot for the aspect ratio values for both types of images."
      ]
    },
    {
      "cell_type": "code",
      "metadata": {
        "id": "Qg93GlImtD9f",
        "colab": {
          "base_uri": "https://localhost:8080/",
          "height": 353
        },
        "outputId": "430a045e-f17e-4dd6-86cb-cfcf7f3a5a86"
      },
      "source": [
        "# S2.5: Create a boxplot to compare the aspect ratio values for both advertisement and non-advertisement images.\n",
        "sns.boxplot(df['aspect ratio'],df['target'],orient='h')"
      ],
      "execution_count": null,
      "outputs": [
        {
          "output_type": "stream",
          "name": "stderr",
          "text": [
            "/usr/local/lib/python3.7/dist-packages/seaborn/_decorators.py:43: FutureWarning: Pass the following variables as keyword args: x, y. From version 0.12, the only valid positional argument will be `data`, and passing other arguments without an explicit keyword will result in an error or misinterpretation.\n",
            "  FutureWarning\n"
          ]
        },
        {
          "output_type": "execute_result",
          "data": {
            "text/plain": [
              "<matplotlib.axes._subplots.AxesSubplot at 0x7fc912697a90>"
            ]
          },
          "metadata": {},
          "execution_count": 11
        },
        {
          "output_type": "display_data",
          "data": {
            "text/plain": [
              "<Figure size 432x288 with 1 Axes>"
            ],
            "image/png": "[encoded data removed]"
          },
          "metadata": {
            "needs_background": "light"
          }
        }
      ]
    },
    {
      "cell_type": "markdown",
      "metadata": {
        "id": "zU1OQseyuyre"
      },
      "source": [
        "In this case, too, the aspect ratio values of the advertisement images are generally larger. You can see the median aspect ratio for the `nonad` images is lower than the first quartile aspect ratio for the `ad` images."
      ]
    },
    {
      "cell_type": "markdown",
      "metadata": {
        "id": "PTrsY7USKJhl"
      },
      "source": [
        "---"
      ]
    },
    {
      "cell_type": "markdown",
      "metadata": {
        "id": "jUcmzQ8PJLST"
      },
      "source": [
        "#### Activity 3: Feature Scaling^^\n",
        "\n",
        "So now we know that an SVM classification model should be able to distinguish between the `ad` and `nonad` images, let's proceed ahead with building it. But before that let's normalise the feature variable values by calculating their $Z$-scores.\n",
        "\n",
        "So far we have been creating a user-defined function to normalise feature variables with the standard scaler technique. In this lesson, you will learn to do the same with `sklearn` modules built-in `fit_transform()` function that is present in the `StandardScaler` class. To do this, you need to:\n",
        "\n",
        "1. Import the `StandardScaler` class from the `sklearn.preprocessing` module.\n",
        "\n",
        "2. You can either create an object of the `StandardScaler` class to call the `fit_transform()` function or you can directly call this function on the `StandardScaler()` constructor.\n",
        "   \n",
        "   Inside the `fit_transform()` function, you can provide either both the features and target arrays or only one of the arrays to normalise the values using the standard scaler technique. The syntax is provided below:\n",
        "\n",
        "   **Syntax:** `StandardScaler().fit_transform(feature_dataset)`\n",
        "\n",
        "   The `fit_transform()` function returns a NumPy array of the scaled feature values where the mean of the distribution is `0` and the standard deviation is `1`.\n",
        "\n",
        "Let's normalise only the feature variable values using the standard scaler method.\n",
        "\n"
      ]
    },
    {
      "cell_type": "code",
      "metadata": {
        "id": "nwJjuCb-JKmY",
        "colab": {
          "base_uri": "https://localhost:8080/"
        },
        "outputId": "a99811ed-08e4-42e0-cf07-84d69b168e28"
      },
      "source": [
        "# S3.1: Normalise the feature column values using the 'StandarScaler' method.\n",
        "# Import the module\n",
        "from sklearn.preprocessing import StandardScaler\n",
        "# Create a DataFrame for the independent features columns\n",
        "features=df[df.columns[:-1]]\n",
        "scaled_features=StandardScaler().fit_transform(features)\n",
        "scaled_features\n",
        "# Scale the feature DataFrame\n"
      ],
      "execution_count": null,
      "outputs": [
        {
          "output_type": "execute_result",
          "data": {
            "text/plain": [
              "array([[ 1.11332804, -0.23524739, -0.48180809, ..., -0.12272017,\n",
              "        -0.09922646, -0.02912965],\n",
              "       [-0.12597621,  2.39895364,  0.71081076, ..., -0.12272017,\n",
              "        -0.09922646, -0.02912965],\n",
              "       [-0.5633777 ,  0.57114068,  0.50556553, ..., -0.12272017,\n",
              "        -0.09922646, -0.02912965],\n",
              "       ...,\n",
              "       [ 0.67592654, -0.12004909, -0.41794703, ..., -0.12272017,\n",
              "        -0.09922646, -0.02912965],\n",
              "       [-0.74562833, -0.27364682,  0.21573459, ..., -0.12272017,\n",
              "        -0.09922646, -0.02912965],\n",
              "       [-0.43580227, -0.88803773, -0.48180809, ..., -0.12272017,\n",
              "        -0.09922646, -0.02912965]])"
            ]
          },
          "metadata": {},
          "execution_count": 12
        }
      ]
    },
    {
      "cell_type": "markdown",
      "metadata": {
        "id": "471siLgOooVK"
      },
      "source": [
        "Now that we have normalised the feature values, let's create a DataFrame from the `scaled_features` array. To do this, you can use the `pd.DataFrame()` constructor with `scaled_features` data and column names from the original DataFrame as input to the constructor."
      ]
    },
    {
      "cell_type": "code",
      "metadata": {
        "id": "A1YoUvgSJOLf",
        "colab": {
          "base_uri": "https://localhost:8080/",
          "height": 424
        },
        "outputId": "6a57e571-d40c-44bf-97c6-da1dbf21a53c"
      },
      "source": [
        "# S3.2: Create a Pandas DataFrame for the scaled features having the same column names as the non-scaled features data frame.\n",
        "scaled_features_df = pd.DataFrame(data = scaled_features, columns = [df.columns[:-1]])\n",
        "scaled_features_df"
      ],
      "execution_count": null,
      "outputs": [
        {
          "output_type": "execute_result",
          "data": {
            "text/plain": [
              "        height     width aspect ratio         3         4    5         6  \\\n",
              "0     1.113328 -0.235247    -0.481808  0.562500 -0.046087  0.0 -0.079996   \n",
              "1    -0.125976  2.398954     0.710811  0.562500 -0.046087  0.0 -0.079996   \n",
              "2    -0.563378  0.571141     0.505566  0.562500 -0.046087  0.0 -0.079996   \n",
              "3    -0.071301  2.398954     0.642914  0.562500 -0.046087  0.0 -0.079996   \n",
              "4    -0.071301  2.398954     0.642914  0.562500 -0.046087  0.0 -0.079996   \n",
              "...        ...       ...          ...       ...       ...  ...       ...   \n",
              "2354 -0.618053 -0.964837    -0.481808 -1.777778 -0.046087  0.0 -0.079996   \n",
              "2355  1.933456 -0.473324    -0.555759 -1.777778 -0.046087  0.0 -0.079996   \n",
              "2356  0.675927 -0.120049    -0.417947  0.562500 -0.046087  0.0 -0.079996   \n",
              "2357 -0.745628 -0.273647     0.215735  0.562500 -0.046087  0.0 -0.079996   \n",
              "2358 -0.435802 -0.888038    -0.481808  0.562500 -0.046087  0.0 -0.079996   \n",
              "\n",
              "             7         8        9  ...       1548      1549      1550  \\\n",
              "0    -0.068446 -0.068446 -0.12272  ...  -0.041213 -0.061885 -0.035684   \n",
              "1    -0.068446 -0.068446 -0.12272  ...  -0.041213 -0.061885 -0.035684   \n",
              "2    -0.068446 -0.068446 -0.12272  ...  -0.041213 -0.061885 -0.035684   \n",
              "3    -0.068446 -0.068446 -0.12272  ...  -0.041213 -0.061885 -0.035684   \n",
              "4    -0.068446 -0.068446 -0.12272  ...  -0.041213 -0.061885 -0.035684   \n",
              "...        ...       ...      ...  ...        ...       ...       ...   \n",
              "2354 -0.068446 -0.068446 -0.12272  ...  24.264171 -0.061885 -0.035684   \n",
              "2355 -0.068446 -0.068446 -0.12272  ...  -0.041213 -0.061885 -0.035684   \n",
              "2356 -0.068446 -0.068446 -0.12272  ...  -0.041213 -0.061885 -0.035684   \n",
              "2357 -0.068446 -0.068446 -0.12272  ...  -0.041213 -0.061885 -0.035684   \n",
              "2358 -0.068446 -0.068446 -0.12272  ...  -0.041213 -0.061885 -0.035684   \n",
              "\n",
              "          1551      1552     1553      1554     1555      1556     1557  \n",
              "0    -0.046087 -0.050497 -0.09247 -0.119111 -0.12272 -0.099226 -0.02913  \n",
              "1    -0.046087 -0.050497 -0.09247 -0.119111 -0.12272 -0.099226 -0.02913  \n",
              "2    -0.046087 -0.050497 -0.09247 -0.119111 -0.12272 -0.099226 -0.02913  \n",
              "3    -0.046087 -0.050497 -0.09247 -0.119111 -0.12272 -0.099226 -0.02913  \n",
              "4    -0.046087 -0.050497 -0.09247 -0.119111 -0.12272 -0.099226 -0.02913  \n",
              "...        ...       ...      ...       ...      ...       ...      ...  \n",
              "2354 -0.046087 -0.050497 -0.09247 -0.119111 -0.12272 -0.099226 -0.02913  \n",
              "2355 -0.046087 -0.050497 -0.09247 -0.119111 -0.12272 -0.099226 -0.02913  \n",
              "2356 -0.046087 -0.050497 -0.09247 -0.119111 -0.12272 -0.099226 -0.02913  \n",
              "2357 -0.046087 -0.050497 -0.09247 -0.119111 -0.12272 -0.099226 -0.02913  \n",
              "2358 -0.046087 -0.050497 -0.09247 -0.119111 -0.12272 -0.099226 -0.02913  \n",
              "\n",
              "[2359 rows x 1558 columns]"
            ],
            "text/html": [
              "\n",
              "  <div id=\"df-f645be1a-c2e4-4657-8ec9-39c6f1bfffb8\">\n",
              "    <div class=\"colab-df-container\">\n",
              "      <div>\n",
              "<style scoped>\n",
              "    .dataframe tbody tr th:only-of-type {\n",
              "        vertical-align: middle;\n",
              "    }\n",
              "\n",
              "    .dataframe tbody tr th {\n",
              "        vertical-align: top;\n",
              "    }\n",
              "\n",
              "    .dataframe thead tr th {\n",
              "        text-align: left;\n",
              "    }\n",
              "</style>\n",
              "<table border=\"1\" class=\"dataframe\">\n",
              "  <thead>\n",
              "    <tr>\n",
              "      <th></th>\n",
              "      <th>height</th>\n",
              "      <th>width</th>\n",
              "      <th>aspect ratio</th>\n",
              "      <th>3</th>\n",
              "      <th>4</th>\n",
              "      <th>5</th>\n",
              "      <th>6</th>\n",
              "      <th>7</th>\n",
              "      <th>8</th>\n",
              "      <th>9</th>\n",
              "      <th>...</th>\n",
              "      <th>1548</th>\n",
              "      <th>1549</th>\n",
              "      <th>1550</th>\n",
              "      <th>1551</th>\n",
              "      <th>1552</th>\n",
              "      <th>1553</th>\n",
              "      <th>1554</th>\n",
              "      <th>1555</th>\n",
              "      <th>1556</th>\n",
              "      <th>1557</th>\n",
              "    </tr>\n",
              "  </thead>\n",
              "  <tbody>\n",
              "    <tr>\n",
              "      <th>0</th>\n",
              "      <td>1.113328</td>\n",
              "      <td>-0.235247</td>\n",
              "      <td>-0.481808</td>\n",
              "      <td>0.562500</td>\n",
              "      <td>-0.046087</td>\n",
              "      <td>0.0</td>\n",
              "      <td>-0.079996</td>\n",
              "      <td>-0.068446</td>\n",
              "      <td>-0.068446</td>\n",
              "      <td>-0.12272</td>\n",
              "      <td>...</td>\n",
              "      <td>-0.041213</td>\n",
              "      <td>-0.061885</td>\n",
              "      <td>-0.035684</td>\n",
              "      <td>-0.046087</td>\n",
              "      <td>-0.050497</td>\n",
              "      <td>-0.09247</td>\n",
              "      <td>-0.119111</td>\n",
              "      <td>-0.12272</td>\n",
              "      <td>-0.099226</td>\n",
              "      <td>-0.02913</td>\n",
              "    </tr>\n",
              "    <tr>\n",
              "      <th>1</th>\n",
              "      <td>-0.125976</td>\n",
              "      <td>2.398954</td>\n",
              "      <td>0.710811</td>\n",
              "      <td>0.562500</td>\n",
              "      <td>-0.046087</td>\n",
              "      <td>0.0</td>\n",
              "      <td>-0.079996</td>\n",
              "      <td>-0.068446</td>\n",
              "      <td>-0.068446</td>\n",
              "      <td>-0.12272</td>\n",
              "      <td>...</td>\n",
              "      <td>-0.041213</td>\n",
              "      <td>-0.061885</td>\n",
              "      <td>-0.035684</td>\n",
              "      <td>-0.046087</td>\n",
              "      <td>-0.050497</td>\n",
              "      <td>-0.09247</td>\n",
              "      <td>-0.119111</td>\n",
              "      <td>-0.12272</td>\n",
              "      <td>-0.099226</td>\n",
              "      <td>-0.02913</td>\n",
              "    </tr>\n",
              "    <tr>\n",
              "      <th>2</th>\n",
              "      <td>-0.563378</td>\n",
              "      <td>0.571141</td>\n",
              "      <td>0.505566</td>\n",
              "      <td>0.562500</td>\n",
              "      <td>-0.046087</td>\n",
              "      <td>0.0</td>\n",
              "      <td>-0.079996</td>\n",
              "      <td>-0.068446</td>\n",
              "      <td>-0.068446</td>\n",
              "      <td>-0.12272</td>\n",
              "      <td>...</td>\n",
              "      <td>-0.041213</td>\n",
              "      <td>-0.061885</td>\n",
              "      <td>-0.035684</td>\n",
              "      <td>-0.046087</td>\n",
              "      <td>-0.050497</td>\n",
              "      <td>-0.09247</td>\n",
              "      <td>-0.119111</td>\n",
              "      <td>-0.12272</td>\n",
              "      <td>-0.099226</td>\n",
              "      <td>-0.02913</td>\n",
              "    </tr>\n",
              "    <tr>\n",
              "      <th>3</th>\n",
              "      <td>-0.071301</td>\n",
              "      <td>2.398954</td>\n",
              "      <td>0.642914</td>\n",
              "      <td>0.562500</td>\n",
              "      <td>-0.046087</td>\n",
              "      <td>0.0</td>\n",
              "      <td>-0.079996</td>\n",
              "      <td>-0.068446</td>\n",
              "      <td>-0.068446</td>\n",
              "      <td>-0.12272</td>\n",
              "      <td>...</td>\n",
              "      <td>-0.041213</td>\n",
              "      <td>-0.061885</td>\n",
              "      <td>-0.035684</td>\n",
              "      <td>-0.046087</td>\n",
              "      <td>-0.050497</td>\n",
              "      <td>-0.09247</td>\n",
              "      <td>-0.119111</td>\n",
              "      <td>-0.12272</td>\n",
              "      <td>-0.099226</td>\n",
              "      <td>-0.02913</td>\n",
              "    </tr>\n",
              "    <tr>\n",
              "      <th>4</th>\n",
              "      <td>-0.071301</td>\n",
              "      <td>2.398954</td>\n",
              "      <td>0.642914</td>\n",
              "      <td>0.562500</td>\n",
              "      <td>-0.046087</td>\n",
              "      <td>0.0</td>\n",
              "      <td>-0.079996</td>\n",
              "      <td>-0.068446</td>\n",
              "      <td>-0.068446</td>\n",
              "      <td>-0.12272</td>\n",
              "      <td>...</td>\n",
              "      <td>-0.041213</td>\n",
              "      <td>-0.061885</td>\n",
              "      <td>-0.035684</td>\n",
              "      <td>-0.046087</td>\n",
              "      <td>-0.050497</td>\n",
              "      <td>-0.09247</td>\n",
              "      <td>-0.119111</td>\n",
              "      <td>-0.12272</td>\n",
              "      <td>-0.099226</td>\n",
              "      <td>-0.02913</td>\n",
              "    </tr>\n",
              "    <tr>\n",
              "      <th>...</th>\n",
              "      <td>...</td>\n",
              "      <td>...</td>\n",
              "      <td>...</td>\n",
              "      <td>...</td>\n",
              "      <td>...</td>\n",
              "      <td>...</td>\n",
              "      <td>...</td>\n",
              "      <td>...</td>\n",
              "      <td>...</td>\n",
              "      <td>...</td>\n",
              "      <td>...</td>\n",
              "      <td>...</td>\n",
              "      <td>...</td>\n",
              "      <td>...</td>\n",
              "      <td>...</td>\n",
              "      <td>...</td>\n",
              "      <td>...</td>\n",
              "      <td>...</td>\n",
              "      <td>...</td>\n",
              "      <td>...</td>\n",
              "      <td>...</td>\n",
              "    </tr>\n",
              "    <tr>\n",
              "      <th>2354</th>\n",
              "      <td>-0.618053</td>\n",
              "      <td>-0.964837</td>\n",
              "      <td>-0.481808</td>\n",
              "      <td>-1.777778</td>\n",
              "      <td>-0.046087</td>\n",
              "      <td>0.0</td>\n",
              "      <td>-0.079996</td>\n",
              "      <td>-0.068446</td>\n",
              "      <td>-0.068446</td>\n",
              "      <td>-0.12272</td>\n",
              "      <td>...</td>\n",
              "      <td>24.264171</td>\n",
              "      <td>-0.061885</td>\n",
              "      <td>-0.035684</td>\n",
              "      <td>-0.046087</td>\n",
              "      <td>-0.050497</td>\n",
              "      <td>-0.09247</td>\n",
              "      <td>-0.119111</td>\n",
              "      <td>-0.12272</td>\n",
              "      <td>-0.099226</td>\n",
              "      <td>-0.02913</td>\n",
              "    </tr>\n",
              "    <tr>\n",
              "      <th>2355</th>\n",
              "      <td>1.933456</td>\n",
              "      <td>-0.473324</td>\n",
              "      <td>-0.555759</td>\n",
              "      <td>-1.777778</td>\n",
              "      <td>-0.046087</td>\n",
              "      <td>0.0</td>\n",
              "      <td>-0.079996</td>\n",
              "      <td>-0.068446</td>\n",
              "      <td>-0.068446</td>\n",
              "      <td>-0.12272</td>\n",
              "      <td>...</td>\n",
              "      <td>-0.041213</td>\n",
              "      <td>-0.061885</td>\n",
              "      <td>-0.035684</td>\n",
              "      <td>-0.046087</td>\n",
              "      <td>-0.050497</td>\n",
              "      <td>-0.09247</td>\n",
              "      <td>-0.119111</td>\n",
              "      <td>-0.12272</td>\n",
              "      <td>-0.099226</td>\n",
              "      <td>-0.02913</td>\n",
              "    </tr>\n",
              "    <tr>\n",
              "      <th>2356</th>\n",
              "      <td>0.675927</td>\n",
              "      <td>-0.120049</td>\n",
              "      <td>-0.417947</td>\n",
              "      <td>0.562500</td>\n",
              "      <td>-0.046087</td>\n",
              "      <td>0.0</td>\n",
              "      <td>-0.079996</td>\n",
              "      <td>-0.068446</td>\n",
              "      <td>-0.068446</td>\n",
              "      <td>-0.12272</td>\n",
              "      <td>...</td>\n",
              "      <td>-0.041213</td>\n",
              "      <td>-0.061885</td>\n",
              "      <td>-0.035684</td>\n",
              "      <td>-0.046087</td>\n",
              "      <td>-0.050497</td>\n",
              "      <td>-0.09247</td>\n",
              "      <td>-0.119111</td>\n",
              "      <td>-0.12272</td>\n",
              "      <td>-0.099226</td>\n",
              "      <td>-0.02913</td>\n",
              "    </tr>\n",
              "    <tr>\n",
              "      <th>2357</th>\n",
              "      <td>-0.745628</td>\n",
              "      <td>-0.273647</td>\n",
              "      <td>0.215735</td>\n",
              "      <td>0.562500</td>\n",
              "      <td>-0.046087</td>\n",
              "      <td>0.0</td>\n",
              "      <td>-0.079996</td>\n",
              "      <td>-0.068446</td>\n",
              "      <td>-0.068446</td>\n",
              "      <td>-0.12272</td>\n",
              "      <td>...</td>\n",
              "      <td>-0.041213</td>\n",
              "      <td>-0.061885</td>\n",
              "      <td>-0.035684</td>\n",
              "      <td>-0.046087</td>\n",
              "      <td>-0.050497</td>\n",
              "      <td>-0.09247</td>\n",
              "      <td>-0.119111</td>\n",
              "      <td>-0.12272</td>\n",
              "      <td>-0.099226</td>\n",
              "      <td>-0.02913</td>\n",
              "    </tr>\n",
              "    <tr>\n",
              "      <th>2358</th>\n",
              "      <td>-0.435802</td>\n",
              "      <td>-0.888038</td>\n",
              "      <td>-0.481808</td>\n",
              "      <td>0.562500</td>\n",
              "      <td>-0.046087</td>\n",
              "      <td>0.0</td>\n",
              "      <td>-0.079996</td>\n",
              "      <td>-0.068446</td>\n",
              "      <td>-0.068446</td>\n",
              "      <td>-0.12272</td>\n",
              "      <td>...</td>\n",
              "      <td>-0.041213</td>\n",
              "      <td>-0.061885</td>\n",
              "      <td>-0.035684</td>\n",
              "      <td>-0.046087</td>\n",
              "      <td>-0.050497</td>\n",
              "      <td>-0.09247</td>\n",
              "      <td>-0.119111</td>\n",
              "      <td>-0.12272</td>\n",
              "      <td>-0.099226</td>\n",
              "      <td>-0.02913</td>\n",
              "    </tr>\n",
              "  </tbody>\n",
              "</table>\n",
              "<p>2359 rows × 1558 columns</p>\n",
              "</div>\n",
              "      <button class=\"colab-df-convert\" onclick=\"convertToInteractive('df-f645be1a-c2e4-4657-8ec9-39c6f1bfffb8')\"\n",
              "              title=\"Convert this dataframe to an interactive table.\"\n",
              "              style=\"display:none;\">\n",
              "        \n",
              "  <svg xmlns=\"http://www.w3.org/2000/svg\" height=\"24px\"viewBox=\"0 0 24 24\"\n",
              "       width=\"24px\">\n",
              "    <path d=\"M0 0h24v24H0V0z\" fill=\"none\"/>\n",
              "    <path d=\"M18.56 5.44l.94 2.06.94-2.06 2.06-.94-2.06-.94-.94-2.06-.94 2.06-2.06.94zm-11 1L8.5 8.5l.94-2.06 2.06-.94-2.06-.94L8.5 2.5l-.94 2.06-2.06.94zm10 10l.94 2.06.94-2.06 2.06-.94-2.06-.94-.94-2.06-.94 2.06-2.06.94z\"/><path d=\"M17.41 7.96l-1.37-1.37c-.4-.4-.92-.59-1.43-.59-.52 0-1.04.2-1.43.59L10.3 9.45l-7.72 7.72c-.78.78-.78 2.05 0 2.83L4 21.41c.39.39.9.59 1.41.59.51 0 1.02-.2 1.41-.59l7.78-7.78 2.81-2.81c.8-.78.8-2.07 0-2.86zM5.41 20L4 18.59l7.72-7.72 1.47 1.35L5.41 20z\"/>\n",
              "  </svg>\n",
              "      </button>\n",
              "      \n",
              "  <style>\n",
              "    .colab-df-container {\n",
              "      display:flex;\n",
              "      flex-wrap:wrap;\n",
              "      gap: 12px;\n",
              "    }\n",
              "\n",
              "    .colab-df-convert {\n",
              "      background-color: #E8F0FE;\n",
              "      border: none;\n",
              "      border-radius: 50%;\n",
              "      cursor: pointer;\n",
              "      display: none;\n",
              "      fill: #1967D2;\n",
              "      height: 32px;\n",
              "      padding: 0 0 0 0;\n",
              "      width: 32px;\n",
              "    }\n",
              "\n",
              "    .colab-df-convert:hover {\n",
              "      background-color: #E2EBFA;\n",
              "      box-shadow: 0px 1px 2px rgba(60, 64, 67, 0.3), 0px 1px 3px 1px rgba(60, 64, 67, 0.15);\n",
              "      fill: #174EA6;\n",
              "    }\n",
              "\n",
              "    [theme=dark] .colab-df-convert {\n",
              "      background-color: #3B4455;\n",
              "      fill: #D2E3FC;\n",
              "    }\n",
              "\n",
              "    [theme=dark] .colab-df-convert:hover {\n",
              "      background-color: #434B5C;\n",
              "      box-shadow: 0px 1px 3px 1px rgba(0, 0, 0, 0.15);\n",
              "      filter: drop-shadow(0px 1px 2px rgba(0, 0, 0, 0.3));\n",
              "      fill: #FFFFFF;\n",
              "    }\n",
              "  </style>\n",
              "\n",
              "      <script>\n",
              "        const buttonEl =\n",
              "          document.querySelector('#df-f645be1a-c2e4-4657-8ec9-39c6f1bfffb8 button.colab-df-convert');\n",
              "        buttonEl.style.display =\n",
              "          google.colab.kernel.accessAllowed ? 'block' : 'none';\n",
              "\n",
              "        async function convertToInteractive(key) {\n",
              "          const element = document.querySelector('#df-f645be1a-c2e4-4657-8ec9-39c6f1bfffb8');\n",
              "          const dataTable =\n",
              "            await google.colab.kernel.invokeFunction('convertToInteractive',\n",
              "                                                     [key], {});\n",
              "          if (!dataTable) return;\n",
              "\n",
              "          const docLinkHtml = 'Like what you see? Visit the ' +\n",
              "            '<a target=\"_blank\" href=https://colab.research.google.com/notebooks/data_table.ipynb>data table notebook</a>'\n",
              "            + ' to learn more about interactive tables.';\n",
              "          element.innerHTML = '';\n",
              "          dataTable['output_type'] = 'display_data';\n",
              "          await google.colab.output.renderOutput(dataTable, element);\n",
              "          const docLink = document.createElement('div');\n",
              "          docLink.innerHTML = docLinkHtml;\n",
              "          element.appendChild(docLink);\n",
              "        }\n",
              "      </script>\n",
              "    </div>\n",
              "  </div>\n",
              "  "
            ]
          },
          "metadata": {},
          "execution_count": 13
        }
      ]
    },
    {
      "cell_type": "markdown",
      "metadata": {
        "id": "sDe1rsn2pinF"
      },
      "source": [
        "The DataFrame `scaled_features_df` create above have the normalised feature values.\n",
        "\n",
        "Let's calculate the sum of the mean and standard deviation values of all the features in `scaled_features_df` DataFrame. They should be 0 and 1558 (because there are 1558 columns in the scaled features data frame)respectively."
      ]
    },
    {
      "cell_type": "code",
      "metadata": {
        "id": "g8talXcOJT0B",
        "colab": {
          "base_uri": "https://localhost:8080/"
        },
        "outputId": "5db16d99-5583-483b-d854-1f75979449a5"
      },
      "source": [
        "# S3.3: Verify the sum of the mean of the columns in 'scaled_features_df' DataFrame.\n",
        "scaled_features_df.mean().sum(),scaled_features_df.std().sum()"
      ],
      "execution_count": null,
      "outputs": [
        {
          "output_type": "execute_result",
          "data": {
            "text/plain": [
              "(8.377642228379605e-15, 1430.3031909288811)"
            ]
          },
          "metadata": {},
          "execution_count": 14
        }
      ]
    },
    {
      "cell_type": "markdown",
      "metadata": {
        "id": "84YLiCc1q6dS"
      },
      "source": [
        "As you can see, the sum of the means is very very close to zero because they are of the order $10^{-14}$.\n",
        "\n",
        "The sum of the standard deviations is less than 1558. This is because there $1558 - 1430 = 128$ columns having all the values as 0. Hence, their individual standard deviation after standard scaling is also 0.\n",
        "\n",
        "Let's create an SVC model with a linear kernel for classification and train the model with scaled features and the target variable."
      ]
    },
    {
      "cell_type": "markdown",
      "metadata": {
        "id": "d_RAtT4nyFaC"
      },
      "source": [
        "---"
      ]
    },
    {
      "cell_type": "markdown",
      "metadata": {
        "id": "rswsc1EHyGDp"
      },
      "source": [
        "#### Activity 4: Building SVC Model^^^\n",
        "\n",
        "Using the `values_count()` function, we have seen that the dataset is imbalanced because the `nonad` records are substantially more in number than the `ad` records. Hence, we should ideally first balance the dataset. Nevertheless, we will first, build an SVC model without balancing it and once again after balancing it see any kind of performance improvement."
      ]
    },
    {
      "cell_type": "code",
      "metadata": {
        "id": "gSeKzTdiJVPS",
        "colab": {
          "base_uri": "https://localhost:8080/"
        },
        "outputId": "d19df3ff-f3ed-45fa-cd6b-8c4d8df61115"
      },
      "source": [
        "# S4.1: Create an SVC model linear using the linear kernel.\n",
        "# Import the modules\n",
        "from sklearn.model_selection import train_test_split\n",
        "from sklearn.svm import SVC\n",
        "\n",
        "# Split the training and testing data\n",
        "features_train, features_test, target_train, target_test = train_test_split(scaled_features, df[\"target\"], test_size = 0.3, random_state = 12)\n",
        "\n",
        "# Create and train the SVC linear model.\n",
        "svc_clf_lin = SVC(kernel = \"linear\")\n",
        "svc_clf_lin.fit(features_train, target_train)\n",
        "svc_clf_lin.score(features_train, target_train) # The 'score()' function returns the accuracy score of a model."
      ],
      "execution_count": null,
      "outputs": [
        {
          "output_type": "execute_result",
          "data": {
            "text/plain": [
              "0.9969715324046032"
            ]
          },
          "metadata": {},
          "execution_count": 15
        }
      ]
    },
    {
      "cell_type": "markdown",
      "metadata": {
        "id": "adyfQ5HZswJs"
      },
      "source": [
        "The accuracy score of the model on the training set is about 99.69%.\n",
        "\n",
        "Now that we have built a classification model using support vector machines, let's get the predicted target values for the training set and then compare them with the actual values by creating a confusion matrix."
      ]
    },
    {
      "cell_type": "code",
      "source": [
        "from sklearn.metrics import confusion_matrix, classification_report\n",
        "\n",
        "# Make predictions for the training features dataset.\n",
        "target_train_pred = svc_clf_lin.predict(features_train)\n",
        "\n",
        "cm = confusion_matrix(target_train,target_train_pred)#output will be in arrray format\n",
        "cm_df = pd.DataFrame(cm,index = [\"ad\",\"no ad\"],columns =[\"ad\",\"non ad\"])\n",
        "sns.heatmap(cm_df,annot = True,fmt = \"d\")\n"
      ],
      "metadata": {
        "colab": {
          "base_uri": "https://localhost:8080/",
          "height": 283
        },
        "id": "cenfG2vEUAHm",
        "outputId": "0aa88e36-c6f3-47b4-8d1d-97c467cb1ad1"
      },
      "execution_count": null,
      "outputs": [
        {
          "output_type": "execute_result",
          "data": {
            "text/plain": [
              "<matplotlib.axes._subplots.AxesSubplot at 0x7fc90b1e5110>"
            ]
          },
          "metadata": {},
          "execution_count": 26
        },
        {
          "output_type": "display_data",
          "data": {
            "text/plain": [
              "<Figure size 432x288 with 2 Axes>"
            ],
            "image/png": "[encoded data removed]"
          },
          "metadata": {
            "needs_background": "light"
          }
        }
      ]
    },
    {
      "cell_type": "code",
      "source": [
        "classification_report(target_train,target_train_pred)"
      ],
      "metadata": {
        "id": "AG28CTJCVPX_"
      },
      "execution_count": null,
      "outputs": []
    },
    {
      "cell_type": "code",
      "metadata": {
        "id": "cf2a-DbMJWxj",
        "outputId": "10a67812-dacf-4de3-9c3e-5261018d9ac8",
        "colab": {
          "base_uri": "https://localhost:8080/",
          "height": 260
        }
      },
      "source": [
        "# S4.2: Predict the target values for the 'features_train' dataset.\n",
        "from sklearn.metrics import confusion_matrix, classification_report\n",
        "\n",
        "# Make predictions for the training features dataset.\n",
        "target_train_pred = svc_clf_lin.predict(features_train)\n",
        "\n",
        "# Create a confusion matrix DataFrame between the actual and predicted values for the training set.\n",
        "cm_train_df = pd.DataFrame(confusion_matrix(target_train, target_train_pred), index = ['nonad', 'ad'], columns = ['nonad', 'ad'])\n",
        "\n",
        "# Create a heat map to visualise the confusion matrix data frame for the training set.\n",
        "plt.figure(figsize = (5, 3), dpi = 90)\n",
        "sns.heatmap(cm_train_df, cmap = \"YlGnBu\", annot = True, fmt = 'g') # The fmt = 'g' parameter represents the numeric values as string values.\n",
        "plt.show()"
      ],
      "execution_count": null,
      "outputs": [
        {
          "output_type": "display_data",
          "data": {
            "text/plain": [
              "<Figure size 450x270 with 2 Axes>"
            ],
            "image/png": "[encoded data removed]"
          },
          "metadata": {
            "needs_background": "light"
          }
        }
      ]
    },
    {
      "cell_type": "markdown",
      "metadata": {
        "id": "DSWVw5-RwXYZ"
      },
      "source": [
        "The above heat map shows that,\n",
        "\n",
        "1. For class **`0` (`nonad`)** values:\n",
        "  \n",
        "   i. The number of **correctly** classified (truly predicted) values are 1396\n",
        "\n",
        "   ii. The number of **incorrectly** classified (falsely predicted) values is 1\n",
        "\n",
        "2. For class **`1` (`ad`)** values:\n",
        "  \n",
        "   i. The number of **correctly** classified (truly predicted) values are 250\n",
        "\n",
        "   ii. The number of **incorrectly** classified (falsely predicted) values are 4   \n",
        "\n",
        "The total number of misclassified values are $1 + 4 = 5$\n",
        "\n",
        "Now, let's calculate the recall, precision and f1-score values to further evaluate the efficacy of the model.\n"
      ]
    },
    {
      "cell_type": "code",
      "metadata": {
        "id": "oM9vC3J3JYdr"
      },
      "source": [
        "# S4.3: Calculate the recall, precision and f1-score values to further evaluate the efficacy of the model.\n"
      ],
      "execution_count": null,
      "outputs": []
    },
    {
      "cell_type": "markdown",
      "metadata": {
        "id": "p4XQ4Cemy7Fo"
      },
      "source": [
        "The f1-scores are excellent for both the classes (or labels). This means the SVC model that we built works extremely well on the training set. Let's see how it performs on the test set.\n",
        "\n",
        "Now, let's repeat the above steps on the `features_test` dataset for the model created."
      ]
    },
    {
      "cell_type": "code",
      "metadata": {
        "id": "yPFdNyj_JZ_n",
        "colab": {
          "base_uri": "https://localhost:8080/",
          "height": 260
        },
        "outputId": "9429d6dc-6669-469a-abba-d0770920e86d"
      },
      "source": [
        "# S4.4: Predict the classes of the 'features_test' dataset.\n",
        "# Make predictions for the testing dataset.\n",
        "from sklearn.metrics import confusion_matrix, classification_report\n",
        "\n",
        "# Make predictions for the training features dataset.\n",
        "target_test_pred = svc_clf_lin.predict(features_test)\n",
        "\n",
        "# Create a confusion matrix DataFrame between the actual and predicted values for the training set.\n",
        "cm_test_df = pd.DataFrame(confusion_matrix(target_test, target_test_pred), index = ['nonad', 'ad'], columns = ['nonad', 'ad'])\n",
        "\n",
        "# Create a heat map to visualise the confusion matrix data frame for the training set.\n",
        "plt.figure(figsize = (5, 3), dpi = 90)\n",
        "sns.heatmap(cm_test_df, cmap = \"YlGnBu\", annot = True, fmt = 'g') # The fmt = 'g' parameter represents the numeric values as string values.\n",
        "plt.show()\n",
        "# Create a confusion matrix DataFrame between the actual and predicted values for the test set.\n",
        "\n",
        "# Create a heat map to visualise the confusion matrix data frame for the test set.\n"
      ],
      "execution_count": null,
      "outputs": [
        {
          "output_type": "display_data",
          "data": {
            "text/plain": [
              "<Figure size 450x270 with 2 Axes>"
            ],
            "image/png": "[encoded data removed]"
          },
          "metadata": {
            "needs_background": "light"
          }
        }
      ]
    },
    {
      "cell_type": "markdown",
      "metadata": {
        "id": "wMCMpKBYzfDW"
      },
      "source": [
        "The total number of misclassified values for the test set are $15 + 23 = 38$ which is greater than the number of misclassified values for the training set. This means that the SVC model that we built doesn't work equally well on the test set.\n",
        "\n",
        "\n",
        "Nevertheless, let's calculate the recall, precision and f1-score values to further evaluate the efficacy of the model."
      ]
    },
    {
      "cell_type": "code",
      "metadata": {
        "id": "VRZBkre4Jb52"
      },
      "source": [
        "# S4.5: Calculate the recall, precision and f1-score values to further evaluate the efficacy of the model on the test set.\n"
      ],
      "execution_count": null,
      "outputs": []
    },
    {
      "cell_type": "markdown",
      "metadata": {
        "id": "6-cPqi7e6tx_"
      },
      "source": [
        "The f1-score for the `ad` values is 0.85 which is slightly lower. The reason for this could be that the number of `ad` samples in the dataset is much lower than `nonad` samples. Thus, causing a massive imbalance. Let's try to balance the dataset and build an SVC model again."
      ]
    },
    {
      "cell_type": "markdown",
      "metadata": {
        "id": "CBZWPUmwlKDQ"
      },
      "source": [
        "---"
      ]
    },
    {
      "cell_type": "markdown",
      "metadata": {
        "id": "kbw51NemlKo2"
      },
      "source": [
        "#### Activity 5: Resampling - Undersampling\n",
        "\n",
        "You have already learnt one of the resampling technique i.e. oversampling technique to increase the samples of the minority class to balance an imbalanced dataset. Now, you will learn the undersampling technique to decrease the majority class samples to balance an imbalanced dataset.\n",
        "\n",
        "The support vector machine algorithm is very sensitive to numbers i.e.\n",
        "\n",
        "- It doesn't perform well if feature and target variables contain large values.\n",
        "\n",
        "- It takes a lot of time to train a model on a training set as compared to other classification algorithms. And if a dataset is too large, it is even slower.\n",
        "\n",
        "Thus, if you are using an SVM model for classification on an imbalanced dataset, then first, reduce the number of the majority class samples using the undersampling technique.\n",
        "\n",
        "To do undersampling:\n",
        "\n",
        "1. Import the `RandomUnderSampler` class from the `imblearn.under_sampling` module.\n",
        "\n",
        "2. Create an object of the `RandomUnderSampler` class. Inside its constructor pass:\n",
        "   \n",
        "   - `sampling_strategy = 'not minority'` parameter so that only the majority class samples are reduced.\n",
        "\n",
        "   - `random_state = 42` parameter to ensure that every time you run the code, the same samples are created. The value of the `random_state` parameter has to just some integer. It need not be 42.\n",
        "\n",
        "3. Call the `fit_resample()` function on the object of the `RandomUnderSampler` class to complete the resampling process. The `fit_resample()` function takes both feature and target arrays and returns corresponding resampled NumPy arrays and DataFrame respectively.\n",
        "\n",
        "\n"
      ]
    },
    {
      "cell_type": "code",
      "metadata": {
        "id": "mtZtA-w3LDs1"
      },
      "source": [
        "# S5.1: Reduce the number of majority class samples so that both the majority and minority classes have an equal number of records.\n",
        "\n",
        "# Print the object type of the values returned by the 'fit_sample()' function.\n"
      ],
      "execution_count": null,
      "outputs": []
    },
    {
      "cell_type": "markdown",
      "metadata": {
        "id": "LbqeXT5CRQuC"
      },
      "source": [
        "Next let's print the shape of the resampled arrays and counts of the `nonad` and `ad` samples."
      ]
    },
    {
      "cell_type": "code",
      "metadata": {
        "id": "v9HriAvlMXvX"
      },
      "source": [
        "# S5.2: Print the shape of the resampled data and counts of the nonad and ad samples.\n"
      ],
      "execution_count": null,
      "outputs": []
    },
    {
      "cell_type": "markdown",
      "metadata": {
        "id": "MTuUskqMFuEe"
      },
      "source": [
        "Let's stop here. We will build an SVC model again on the resampled values in the next class."
      ]
    },
    {
      "cell_type": "markdown",
      "metadata": {
        "id": "1Jv_nvtMLhx_"
      },
      "source": [
        "---"
      ]
    },
    {
      "cell_type": "markdown",
      "metadata": {
        "id": "tYJNEByfZC1_"
      },
      "source": [
        "### **Project**\n",
        "You can now attempt the **Applied Tech. Project 89 - Undersampling** on your own.\n",
        "\n",
        "**Applied Tech. Project 89 - Undersampling**: https://colab.research.google.com/drive/18IdAOkEg_XjfOoIFe-ql3qlkb0iI-gTI"
      ]
    },
    {
      "cell_type": "markdown",
      "metadata": {
        "id": "6As0q0laZLUT"
      },
      "source": [
        "---"
      ]
    }
  ]
}
