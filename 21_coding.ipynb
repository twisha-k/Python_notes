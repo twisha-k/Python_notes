{
  "nbformat": 4,
  "nbformat_minor": 0,
  "metadata": {
    "colab": {
      "provenance": [],
      "include_colab_link": true
    },
    "kernelspec": {
      "name": "python3",
      "display_name": "Python 3"
    }
  },
  "cells": [
    {
      "cell_type": "markdown",
      "metadata": {
        "id": "view-in-github",
        "colab_type": "text"
      },
      "source": [
        "<a href=\"https://colab.research.google.com/github/twisha-k/Python_notes/blob/main/21_coding.ipynb\" target=\"_parent\"><img src=\"https://colab.research.google.com/assets/colab-badge.svg\" alt=\"Open In Colab\"/></a>"
      ]
    },
    {
      "cell_type": "markdown",
      "metadata": {
        "id": "aMbswDYFUt_1"
      },
      "source": [
        "# Lesson 21: Meteorite Landings - Box Plots"
      ]
    },
    {
      "cell_type": "markdown",
      "metadata": {
        "id": "dmruqgPqb9BH"
      },
      "source": [
        "### Overview\n",
        "\n",
        "To learn the process of data cleaning, we will use NASA's meteorite landings dataset. But before that, let's learn about a meteoroid, meteor and meteorite to properly interpret the meteorite landings dataset.\n",
        "\n",
        "**What is a meteoroid?**\n",
        "\n",
        "A meteoroid is a solid rock-like object that gets separated from its parent body in outer space mostly due collision of asteroids which are humongous in size. It travels through the solar system and comes close to Earth. It's also referred to as a near-Earth object.\n",
        "\n",
        "**What is a meteor?**\n",
        "\n",
        "A meteor, otherwise known as a shooting star or fireball, is a meteoroid that fires up and radiates energy when enters Earth's atmosphere.\n",
        "\n",
        "**What is a meteorite?**\n",
        "\n",
        "A meteorite is a meteor that falls on the earth's surface or ground.\n",
        "\n",
        "Refer to the image shown below to understand the difference between the three objects. They are the same object but named differently based on their location.\n",
        "\n",
        "<img src='https://student-datasets-bucket.s3.ap-south-1.amazonaws.com/images/meteoroid_meteor_meteorite.png'>\n",
        "\n",
        "*Image source: https://socratic.org/questions/how-are-meteoroids-meteors-and-meteorite-related*\n",
        "\n",
        "\n",
        "**Why are meteorites important to scientists**?\n",
        "\n",
        "Some of the meteorites called chondrites contain chondrules. A chondrule is a mineral grain and spherical. They were formed at the time of the birth of the solar system. Studying chondrules will help us understand the formation of the solar system. Hence, meteorites are important to scientists. The image below shows chondrules on a microscopic scale.\n",
        "\n",
        "<img src='https://student-datasets-bucket.s3.ap-south-1.amazonaws.com/images/chondrules.png'>\n",
        "\n",
        "*Image source: https://www.researchgate.net/profile/Fernando_Ortega-Gutierrez/publication/262623341/figure/fig5/AS:667618792976395@1536184132327/Photographs-of-chondrules-microscopic-observations-with-crossed-nicols-a-Barred.png*\n",
        "\n",
        "\n"
      ]
    },
    {
      "cell_type": "markdown",
      "metadata": {
        "id": "pIFde4V1cVEu"
      },
      "source": [
        "**Note:** On the left-bottom corner, in the image above, you could see\n",
        "$200 \\mu m$\n",
        "scale. The Greek letter\n",
        "$\\mu$\n",
        "is read as **micro** meaning\n",
        "$10^{-6}$\n",
        "and\n",
        "$m$\n",
        "stands for meters. Hence, the scale of these four images is\n",
        "$200$\n",
        "micrometer or\n",
        "$200 \\times 10^{-6}$\n",
        "meters.\n"
      ]
    },
    {
      "cell_type": "markdown",
      "metadata": {
        "id": "YDte8N_bFhUZ"
      },
      "source": [
        "---"
      ]
    },
    {
      "cell_type": "markdown",
      "metadata": {
        "id": "YHzxtxnaFiAY"
      },
      "source": [
        "#### The Data\n",
        "\n",
        "The Meteoritical Society (link provided in the **Activities** section) collects data on meteorites that have fallen to Earth from outer space. The dataset contains the following variables for over 45,000 meteorites that have struck our planet:\n",
        "\n",
        "1. `name`: the name of the place where a meteorite was found or observed.\n",
        "\n",
        "2. `id`: a unique identifier for a meteorite.\n",
        "\n",
        "3. `nametype`: one of the following:\n",
        "    \n",
        "    - `valid`: a typical meteorite.\n",
        "    \n",
        "    - `relict`: a meteorite that has been highly degraded by the weather on Earth.\n",
        "\n",
        "4. `recclass`: the class of the meteorite; one of a large number of classes based on physical, chemical, and other characteristics. You can read the Wikipedia article (link provided in the **Activities** section) to learn about the meteorite classification.\n",
        "\n",
        "  - Meteorite Type 1: Iron & Stony-iron meteorites. You can read about them in your free time after the class.\n",
        "\n",
        "    <img src='https://student-datasets-bucket.s3.ap-south-1.amazonaws.com/images/lesson-19/types-of-meteorite-1.jpg'>\n",
        "\n",
        "    *Image source: https://spacecentre.co.uk/blog-post/edible-meteorites/*\n",
        "\n",
        "  - Meteorite Type - 2: Stony meteorites. You can read about them in your free time after the class.\n",
        "\n",
        "    <img src='https://student-datasets-bucket.s3.ap-south-1.amazonaws.com/images/lesson-19/types-of-meteorite-2.jpg'>\n",
        "\n",
        "    *Image source: https://spacecentre.co.uk/blog-post/edible-meteorites/*\n",
        "\n",
        "5. `mass:` the mass of the meteorite, in grams\n",
        "\n",
        "6. `fall`: whether the meteorite was seen falling, or was discovered after its impact; one of the following:\n",
        "\n",
        "    - `Fell`: the meteorite's fall was observed.\n",
        "    \n",
        "    - `Found`: the meteorite's fall was not observed.\n",
        "\n",
        "7. `year`: the year the meteorite fell, or the year it was found (depending on the value of fell).\n",
        "\n",
        "8. `reclat`: the latitude of the meteorite's landing.\n",
        "\n",
        "9. `reclong`: the longitude of the meteorite's landing.\n",
        "\n",
        "10. `GeoLocation`: a parentheses-enclose, comma-separated tuple that combines reclat and reclong.\n",
        "\n",
        "You don't have to memorise this list of variables. You can refer to it whenever you want to.\n",
        "\n",
        "#### Acknowledgements\n",
        "\n",
        "This dataset was downloaded from NASA's Data Portal (link provided in the **Activities** section), and is based on The Meteoritical Society's Meteoritical Bulletin Database (link provided in the **Activities** section). The latter database provides additional information such as meteorite images, links to primary sources, etc."
      ]
    },
    {
      "cell_type": "markdown",
      "metadata": {
        "id": "dWjVpY_LHOZZ"
      },
      "source": [
        "---"
      ]
    },
    {
      "cell_type": "markdown",
      "metadata": {
        "id": "BExrazxZHVJt"
      },
      "source": [
        "#### Notes On Missing Or Incorrect Data Points\n",
        "\n",
        "The columns such as `recclass`, `reclat`, `reclong` begin with the `rec` keyword. It's a shorthand for *recommended*. They are the recommended values of the classes, latitudes and longitudes variables for the meteorites according to the Meteoritical Society.\n",
        "\n",
        "A few values in the `year` column were incorrectly entered into the dataset. Any year less than 860 or greater than 2016 is incorrect. It must be removed from the dataset.\n",
        "\n",
        "A few entries have latitude and longitude of `0N/0E` (off the western coast of Africa, where it would be quite difficult to recover meteorites). Many of these were actually discovered in Antarctica, but exact coordinates were not given.\n"
      ]
    },
    {
      "cell_type": "markdown",
      "metadata": {
        "id": "MCci2f6OHZ1n"
      },
      "source": [
        "---"
      ]
    },
    {
      "cell_type": "markdown",
      "metadata": {
        "id": "OgEBq526HKbw"
      },
      "source": [
        "### Teacher-Student Activities\n",
        "\n",
        "Throughout this project we will answer the following questions:\n",
        "\n",
        "1. How does the geographical distribution of observed falls differ from that of found meteorites?\n",
        "\n",
        "2. What class of meteorites fall on Earth in abundance? Ideally, we want the chondrites to be larger in numbers because they contain chondrules.\n",
        "\n",
        "In this class, we will just create a boxplot."
      ]
    },
    {
      "cell_type": "markdown",
      "metadata": {
        "id": "YzEn7PiP9Q9w"
      },
      "source": [
        "---"
      ]
    },
    {
      "cell_type": "markdown",
      "metadata": {
        "id": "DoShzic97iBl"
      },
      "source": [
        "#### Activity 1: Loading The Dataset\n",
        "\n",
        "Let's create a DataFrame for the meteorite landings dataset. Here's the link to the CSV file (don't click on it):\n",
        "\n",
        "https://student-datasets-bucket.s3.ap-south-1.amazonaws.com/whitehat-ds-datasets/meteorite-landings/meteorite-landings.csv"
      ]
    },
    {
      "cell_type": "code",
      "metadata": {
        "id": "ThLLbqIzUd9f",
        "colab": {
          "base_uri": "https://localhost:8080/",
          "height": 204
        },
        "outputId": "692684fe-244f-4d1e-8cad-af272f172837"
      },
      "source": [
        "# Student Action: Import the 'numpy', 'pandas' & 'matplotlib.pyplot' modules. Create a Pandas DataFrame. Display the first 5 rows of the DataFrame.\n",
        "import numpy as np\n",
        "import pandas as pd\n",
        "import matplotlib.pyplot as plt\n",
        "met_df=pd.read_csv('https://student-datasets-bucket.s3.ap-south-1.amazonaws.com/whitehat-ds-datasets/meteorite-landings/meteorite-landings.csv')\n",
        "met_df.head()"
      ],
      "execution_count": null,
      "outputs": [
        {
          "output_type": "execute_result",
          "data": {
            "text/html": [
              "<div>\n",
              "<style scoped>\n",
              "    .dataframe tbody tr th:only-of-type {\n",
              "        vertical-align: middle;\n",
              "    }\n",
              "\n",
              "    .dataframe tbody tr th {\n",
              "        vertical-align: top;\n",
              "    }\n",
              "\n",
              "    .dataframe thead th {\n",
              "        text-align: right;\n",
              "    }\n",
              "</style>\n",
              "<table border=\"1\" class=\"dataframe\">\n",
              "  <thead>\n",
              "    <tr style=\"text-align: right;\">\n",
              "      <th></th>\n",
              "      <th>name</th>\n",
              "      <th>id</th>\n",
              "      <th>nametype</th>\n",
              "      <th>recclass</th>\n",
              "      <th>mass</th>\n",
              "      <th>fall</th>\n",
              "      <th>year</th>\n",
              "      <th>reclat</th>\n",
              "      <th>reclong</th>\n",
              "      <th>GeoLocation</th>\n",
              "    </tr>\n",
              "  </thead>\n",
              "  <tbody>\n",
              "    <tr>\n",
              "      <th>0</th>\n",
              "      <td>Aachen</td>\n",
              "      <td>1</td>\n",
              "      <td>Valid</td>\n",
              "      <td>L5</td>\n",
              "      <td>21.0</td>\n",
              "      <td>Fell</td>\n",
              "      <td>1880.0</td>\n",
              "      <td>50.77500</td>\n",
              "      <td>6.08333</td>\n",
              "      <td>(50.775000, 6.083330)</td>\n",
              "    </tr>\n",
              "    <tr>\n",
              "      <th>1</th>\n",
              "      <td>Aarhus</td>\n",
              "      <td>2</td>\n",
              "      <td>Valid</td>\n",
              "      <td>H6</td>\n",
              "      <td>720.0</td>\n",
              "      <td>Fell</td>\n",
              "      <td>1951.0</td>\n",
              "      <td>56.18333</td>\n",
              "      <td>10.23333</td>\n",
              "      <td>(56.183330, 10.233330)</td>\n",
              "    </tr>\n",
              "    <tr>\n",
              "      <th>2</th>\n",
              "      <td>Abee</td>\n",
              "      <td>6</td>\n",
              "      <td>Valid</td>\n",
              "      <td>EH4</td>\n",
              "      <td>107000.0</td>\n",
              "      <td>Fell</td>\n",
              "      <td>1952.0</td>\n",
              "      <td>54.21667</td>\n",
              "      <td>-113.00000</td>\n",
              "      <td>(54.216670, -113.000000)</td>\n",
              "    </tr>\n",
              "    <tr>\n",
              "      <th>3</th>\n",
              "      <td>Acapulco</td>\n",
              "      <td>10</td>\n",
              "      <td>Valid</td>\n",
              "      <td>Acapulcoite</td>\n",
              "      <td>1914.0</td>\n",
              "      <td>Fell</td>\n",
              "      <td>1976.0</td>\n",
              "      <td>16.88333</td>\n",
              "      <td>-99.90000</td>\n",
              "      <td>(16.883330, -99.900000)</td>\n",
              "    </tr>\n",
              "    <tr>\n",
              "      <th>4</th>\n",
              "      <td>Achiras</td>\n",
              "      <td>370</td>\n",
              "      <td>Valid</td>\n",
              "      <td>L6</td>\n",
              "      <td>780.0</td>\n",
              "      <td>Fell</td>\n",
              "      <td>1902.0</td>\n",
              "      <td>-33.16667</td>\n",
              "      <td>-64.95000</td>\n",
              "      <td>(-33.166670, -64.950000)</td>\n",
              "    </tr>\n",
              "  </tbody>\n",
              "</table>\n",
              "</div>"
            ],
            "text/plain": [
              "       name   id nametype  ...    reclat    reclong               GeoLocation\n",
              "0    Aachen    1    Valid  ...  50.77500    6.08333     (50.775000, 6.083330)\n",
              "1    Aarhus    2    Valid  ...  56.18333   10.23333    (56.183330, 10.233330)\n",
              "2      Abee    6    Valid  ...  54.21667 -113.00000  (54.216670, -113.000000)\n",
              "3  Acapulco   10    Valid  ...  16.88333  -99.90000   (16.883330, -99.900000)\n",
              "4   Achiras  370    Valid  ... -33.16667  -64.95000  (-33.166670, -64.950000)\n",
              "\n",
              "[5 rows x 10 columns]"
            ]
          },
          "metadata": {
            "tags": []
          },
          "execution_count": 1
        }
      ]
    },
    {
      "cell_type": "code",
      "metadata": {
        "id": "ErR9tKrV7l1R",
        "colab": {
          "base_uri": "https://localhost:8080/"
        },
        "outputId": "719f29e6-d557-497e-97c9-34cd1b30ae17"
      },
      "source": [
        "# Student Action: Find the number of rows and columns in the DataFrame.\n",
        "met_df.shape"
      ],
      "execution_count": null,
      "outputs": [
        {
          "output_type": "execute_result",
          "data": {
            "text/plain": [
              "(45716, 10)"
            ]
          },
          "metadata": {
            "tags": []
          },
          "execution_count": 2
        }
      ]
    },
    {
      "cell_type": "markdown",
      "metadata": {
        "id": "3vg7BI8z8Ujm"
      },
      "source": [
        "---"
      ]
    },
    {
      "cell_type": "markdown",
      "metadata": {
        "id": "ik1XEt3q3reW"
      },
      "source": [
        "#### Activity 2: Tuples\n",
        "\n",
        "Actually, the output of `shape` keyword is another Python data structure called a **tuple**. Similar to a Python list, a tuple also stores multiple values separated by a comma. To create a tuple, use the common brackets `()`. To get a value in a tuple, you can use the **indexing** method that you also use in case of a Python list.\n",
        "\n",
        "For example, to get the number of rows in the `met_df` DataFrame, you can simply write `met_df.shape[0]` which will give you the value at the `index=0`"
      ]
    },
    {
      "cell_type": "code",
      "metadata": {
        "id": "hOQY203S7xDx",
        "colab": {
          "base_uri": "https://localhost:8080/"
        },
        "outputId": "25a203f1-0636-4007-b99b-b091d2d52501"
      },
      "source": [
        "# Student Action: Get the number of rows in the 'met_df' DataFrame using the 'shape' keyword.\n",
        "met_df.shape[0]"
      ],
      "execution_count": null,
      "outputs": [
        {
          "output_type": "execute_result",
          "data": {
            "text/plain": [
              "45716"
            ]
          },
          "metadata": {
            "tags": []
          },
          "execution_count": 3
        }
      ]
    },
    {
      "cell_type": "markdown",
      "metadata": {
        "id": "WVTfVjJR79Ov"
      },
      "source": [
        "Similarly, you can also get the number of columns in the `met_df` DataFrame using the `shape` keyword."
      ]
    },
    {
      "cell_type": "code",
      "metadata": {
        "id": "cJWSy0qT8Dy_",
        "colab": {
          "base_uri": "https://localhost:8080/"
        },
        "outputId": "5814bf9c-d04f-4821-abb5-36354b0c3748"
      },
      "source": [
        "# Student Action: Get the number of columns in the 'met_df' DataFrame using the 'shape' keyword.\n",
        "met_df.shape[1]"
      ],
      "execution_count": null,
      "outputs": [
        {
          "output_type": "execute_result",
          "data": {
            "text/plain": [
              "10"
            ]
          },
          "metadata": {
            "tags": []
          },
          "execution_count": 4
        }
      ]
    },
    {
      "cell_type": "markdown",
      "metadata": {
        "id": "Q4lUBOAV8YXs"
      },
      "source": [
        "We will learn more about tuples as we go on in this course."
      ]
    },
    {
      "cell_type": "markdown",
      "metadata": {
        "id": "ApNGI6uQ8Tfc"
      },
      "source": [
        "---"
      ]
    },
    {
      "cell_type": "markdown",
      "metadata": {
        "id": "moQmsWpc7rNy"
      },
      "source": [
        "#### Activity 3: The `describe()` Function^\n",
        "\n",
        "As mentioned in the data description, the dataset contains few `year` values which are less than `860` and few `year` values which are greater than `2016`. We need to remove all of them because they were reported wrongly in the Meteorites Landings dataset.\n",
        "\n",
        "But before that, we first need to check the range of values in the `year` column in the `met_df` DataFrame. For this exercise, we can use the `describe()` function. It returns all the necessary values such as the `count`, `min`, `max`, `mean`, `median` etc. for a series."
      ]
    },
    {
      "cell_type": "code",
      "metadata": {
        "id": "BtLbRrJw6tig",
        "colab": {
          "base_uri": "https://localhost:8080/"
        },
        "outputId": "9f548b67-d870-4b60-a48d-a33b0536223b"
      },
      "source": [
        "# Teacher Action: Get the descriptive statistics for the 'year' values in the 'met_df' DataFrame.\n",
        "met_df.describe()\n",
        "met_df['year'].describe()"
      ],
      "execution_count": null,
      "outputs": [
        {
          "output_type": "execute_result",
          "data": {
            "text/plain": [
              "count    45428.000000\n",
              "mean      1991.772189\n",
              "std         27.181247\n",
              "min        301.000000\n",
              "25%       1987.000000\n",
              "50%       1998.000000\n",
              "75%       2003.000000\n",
              "max       2501.000000\n",
              "Name: year, dtype: float64"
            ]
          },
          "metadata": {
            "tags": []
          },
          "execution_count": 7
        }
      ]
    },
    {
      "cell_type": "code",
      "metadata": {
        "id": "xo97kcWT7RoT"
      },
      "source": [
        "import pandas as pd\n",
        "pd.Series([3,9,6,10,7,9,7,6,1])\n",
        "\n"
      ],
      "execution_count": null,
      "outputs": []
    },
    {
      "cell_type": "markdown",
      "metadata": {
        "id": "mMxhOMeoOPh0"
      },
      "source": [
        "As you can see, we have got the summary of descriptive statistics for the `met_df['year']` series. You can also spot some of the values against the `25%, 50%` and `75%` parameters. They are called percentiles (or quartiles). Let's learn each of them one-by-one. Let's start with `25%`.\n",
        "\n",
        "**Percentiles (or Quartiles)**\n",
        "\n",
        "`25%` refers to the\n",
        "$25^{th}$\n",
        "percentile value. It is also called the **first quartile** value. *The first quartile is defined as the middle number between the smallest number and the median of the dataset.*\n",
        "\n",
        "Let's understand this concept through an example. Consider the following series of numbers,\n",
        "\n",
        "$3, 9, 6, 10, 7, 9, 7, 6, 1$\n",
        "\n",
        "After arranging them in the increasing order, we have the following series\n",
        "\n",
        "$1, 3, 6, 6, 7, 7, 9, 9, 10$\n",
        "\n",
        "The median value of the series is\n",
        "$7$\n",
        "because it is the middle value. So, the\n",
        "$25^{th}$\n",
        "percentile (or first quartile) value will be the median of the following values\n",
        "\n",
        "$1, 3, 6, 6, 7$\n",
        "\n",
        "Therefore, first quartile or\n",
        "$Q1 = 6$\n",
        "because\n",
        "$6$\n",
        "is the median of the above sub-series.\n",
        "\n",
        "**Note:** The median value is also referred to as the **second quartile** (or\n",
        "$50^{th}$\n",
        "percentile) value.\n",
        "\n",
        "Similarly, `75%` refers to the\n",
        "$75^{th}$\n",
        "percentile value. It is also called the **third quartile** value. *The third quartile is the middle value between the median and the highest value of the dataset.*\n",
        "\n",
        "So, the\n",
        "$75^{th}$\n",
        "percentile (or third quartile) value will be the median of the following values\n",
        "\n",
        "$7, 7, 9, 9, 10$\n",
        "\n",
        "Therefore, third quartile or\n",
        "$Q3 = 9$\n",
        "because\n",
        "$9$\n",
        "is the median of the above sub-series.\n",
        "\n",
        "*The first, second and third quartile values together tell the spread of the data. If a majority of the data points are spread apart from each other, then there will be a significantly large difference between the three quartile values whereas if a majority of the data points are close to each other, then all three quartile values will also be close to each other.*\n",
        "\n",
        "In the\n",
        "\n",
        "$3, 9, 6, 10, 7, 9, 7, 6, 1$\n",
        "\n",
        "series, the first, second and third quartile values are\n",
        "$Q1=6, Q2=7$\n",
        "and\n",
        "$Q3=9$\n",
        "respectively. This means the majority of the data points are quite close to each other which is quite evident from the series.\n",
        "\n",
        "Similarly, in the case of the `year` column in the `met_df` DataFrame, the three quartile values are\n",
        "$Q1=1987, Q2=1998$\n",
        "and\n",
        "$Q3=2003$\n",
        ". This also suggests that the majority of the `year` values are quite close to each other.\n",
        "\n",
        "In the next class, we will learn how to visualise the spread of the data. For the time being, let's learn what is the standard deviation or `std` which is the next value in the descriptive statistics for the `year` column.\n",
        "\n",
        "\n",
        "**Standard Deviation (or `std`)**\n",
        "\n",
        "*The standard deviation is the square root of the mean of squared deviations.* It tells us how far away a data point is from the mean value. Larger the standard deviation, farther the data point from the mean value.\n",
        "\n",
        "For the above series, the mean value\n",
        "$(\\mu)$\n",
        "is\n",
        "\n",
        "$\\mu = \\frac{3+9+6+10+7+9+7+6+1}{9} = 6.44$\n",
        "\n",
        "The **deviation** is the difference between the mean value and the individual data points in a series, i.e.,\n",
        "\n",
        "$(3 - 6.44), (9 - 6.44), (6 - 6.44), (10 - 6.44), (7 - 6.44), (9 - 6.44), (7 - 6.44), (6 - 6.44), (1 - 6.44)$\n",
        "\n",
        "are the deviations in the series.\n",
        "\n",
        "The **squared deviation** is the square of deviations, i.e.,\n",
        "\n",
        "$(3 - 6.44)^2, (9 - 6.44)^2, (6 - 6.44)^2, (10 - 6.44)^2, (7 - 6.44)^2, (9 - 6.44)^2, (7 - 6.44)^2, (6 - 6.44)^2, (1 - 6.44)^2$\n",
        "\n",
        "are the squared deviations in the series.\n",
        "\n",
        "The **mean of squared deviations (or MSD)** is a sum of all the squared deviations divided by the number number of values, i.e.,\n",
        "\n",
        "$\\frac{(3 - 6.44)^2 + (9 - 6.44)^2 + (6 - 6.44)^2 + (10 - 6.44)^2 + (7 - 6.44)^2 + (9 - 6.44)^2 + (7 - 6.44)^2 + (6 - 6.44)^2 + (1 - 6.44)^2}{9}$\n",
        "\n",
        "So, the standard deviation (or\n",
        "$std$\n",
        ") is\n",
        "\n",
        "$\\sqrt{\\frac{(3 - 6.44)^2 + (9 - 6.44)^2 + (6 - 6.44)^2 + (10 - 6.44)^2 + (7 - 6.44)^2 + (9 - 6.44)^2 + (7 - 6.44)^2 + (6 - 6.44)^2 + (1 - 6.44)^2}{9}}$\n",
        "\n",
        "$\\Rightarrow std = 2.92$\n",
        "\n",
        "The significance of the standard deviation is that the numbers,\n",
        "$9, 6, 7, 9, 7, 6$\n",
        ", from the series, lie in the range\n",
        "$(mean - std)$\n",
        "and\n",
        "$(mean + std)$\n",
        ", i.e.,\n",
        "$6.44 - 2.92 = 3.52$\n",
        "and\n",
        "$6.44 + 2.92 = 9.36$\n",
        "\n",
        "So, these numbers are closest to the mean value.\n",
        "\n",
        "The remaining three numbers,\n",
        "$1, 3$\n",
        "and\n",
        "$10$\n",
        "lie in the range\n",
        "$(mean - 2\\times std)$\n",
        "and\n",
        "$(mean + 2\\times std)$\n",
        ". So, these three numbers are farthest from the mean value.\n",
        "\n",
        "We can verify the above calculations by first creating a Pandas series using the `pd.Series()` function and then by applying the `describe()` function on the\n",
        "$3, 9, 6, 10, 7, 9, 7, 6, 1$\n",
        "series.\n",
        "\n",
        "**Note:** The MSD is also called **variance**. Therefore,\n",
        "$variance = \\sigma^2$\n",
        "where\n",
        "$\\sigma$\n",
        "is the standard deviation."
      ]
    },
    {
      "cell_type": "code",
      "metadata": {
        "id": "rEIKu7-ArfSu",
        "colab": {
          "base_uri": "https://localhost:8080/"
        },
        "outputId": "2770de01-fca6-4ed5-8464-3ab444b4f0e6"
      },
      "source": [
        "# Student Action: Create a Pandas series for the [3, 9, 6, 10, 7, 9, 7, 6, 1] list and then get its descriptive statistics.\n",
        "pd.Series([3, 9, 6, 10, 7, 9, 7, 6, 1]).describe()"
      ],
      "execution_count": null,
      "outputs": [
        {
          "output_type": "execute_result",
          "data": {
            "text/plain": [
              "count     9.000000\n",
              "mean      6.444444\n",
              "std       2.920236\n",
              "min       1.000000\n",
              "25%       6.000000\n",
              "50%       7.000000\n",
              "75%       9.000000\n",
              "max      10.000000\n",
              "dtype: float64"
            ]
          },
          "metadata": {
            "tags": []
          },
          "execution_count": 8
        }
      ]
    },
    {
      "cell_type": "markdown",
      "metadata": {
        "id": "LpqppvoTciQc"
      },
      "source": [
        "---"
      ]
    },
    {
      "cell_type": "markdown",
      "metadata": {
        "id": "J7e4X3l_cjWL"
      },
      "source": [
        "#### Activity 4: The Boxplot^^^\n",
        "\n",
        "Let's visualise the spread of the values in the `year` column in the `met_df` DataFrame. For this, we will create a boxplot. It plots the minimum, first quartile, second quartile, third quartile and maximum values in the form of a box.\n",
        "\n",
        "<img src='https://student-datasets-bucket.s3.ap-south-1.amazonaws.com/images/boxplot_description.png' width='800'>\n",
        "\n",
        "In a boxplot:\n",
        "\n",
        "1. The leftmost vertical line denotes the\n",
        "$Q1 - 1.5 \\times IQR$\n",
        "value where\n",
        "    \n",
        "    - $IQR$\n",
        "      stands for *inter-quartile range*. Its value is equal to\n",
        "      $Q3 - Q1$\n",
        "\n",
        "    - $Q1$\n",
        "      denotes the first quartile value\n",
        "\n",
        "    - $Q3$\n",
        "      denotes the third quartile value\n",
        "\n",
        "2. The left edge of the rectangle denotes the first quartile\n",
        "   $(Q1)$\n",
        "   value\n",
        "\n",
        "3. The middle edge in the rectangle denotes the median\n",
        "   $(Q2)$\n",
        "   value\n",
        "\n",
        "4. The right edge of the rectangle denotes the third quartile\n",
        "   $(Q3)$\n",
        "   value\n",
        "\n",
        "5. The rightmost vertical line denotes the\n",
        "   $Q3 + 1.5 \\times IQR$\n",
        "   value in the series\n",
        "\n",
        "6. The two horizontal lines are called whiskers. The length of these whiskers represent the number of values lying between the\n",
        "$Q1$ and $Q1 - 1.5 \\times IQR$\n",
        "values and the\n",
        "$Q3$\n",
        "and\n",
        "$Q3 + 1.5 \\times IQR$\n",
        "values. **Smaller the length, the fewer number of values. Larger the length, more the number of values.**\n",
        "\n",
        "7. The length of the rectangle also represents the number of values lying between the first and third quartile values.\n",
        "\n",
        "8. The filled-circles beyond the vertical lines denote the **outliers**. The outliers in a dataset are those values which are unusually too large or too small. For example in the series\n",
        "\n",
        "$$1, 5, 2, 6, 4, 8, 5, 7, 9, 3, 121109, 459882$$\n",
        "\n",
        "   the numbers $121109, 459882$ are unusually high values compared to the majority of values.\n",
        "\n",
        "To create a boxplot, we will use the `boxplot()` function from the `seaborn` library. The `seaborn` is another library for data visualisation. It is built on top of the `matplotlib.pyplot` library. For all practical purposes, the `seaborn` library is an extension to the `matplotlib.pyplot` library. You can read more about the seaborn library by clicking on the link provided in the **Activities** section under the title **Seaborn Documentation**"
      ]
    },
    {
      "cell_type": "code",
      "metadata": {
        "id": "VCd9bBm_eF3C",
        "colab": {
          "base_uri": "https://localhost:8080/",
          "height": 374
        },
        "outputId": "0000ac72-9ae6-451e-88cd-341ebbe8467e"
      },
      "source": [
        "# Teacher Action: Create a boxplot for the 'pd_series'.\n",
        "import seaborn as sns\n",
        "series_1 = pd.Series([3, 9, 6, 10, 7, 9, 7, 6, 1])\n",
        "plt.figure(figsize = (12,5))\n",
        "sns.boxplot(series_1)\n",
        "plt.show()"
      ],
      "execution_count": null,
      "outputs": [
        {
          "output_type": "stream",
          "text": [
            "/usr/local/lib/python3.7/dist-packages/seaborn/_decorators.py:43: FutureWarning: Pass the following variable as a keyword arg: x. From version 0.12, the only valid positional argument will be `data`, and passing other arguments without an explicit keyword will result in an error or misinterpretation.\n",
            "  FutureWarning\n"
          ],
          "name": "stderr"
        },
        {
          "output_type": "display_data",
          "data": {
            "image/png": "[encoded data removed]",
            "text/plain": [
              "<Figure size 864x360 with 1 Axes>"
            ]
          },
          "metadata": {
            "tags": [],
            "needs_background": "light"
          }
        }
      ]
    },
    {
      "cell_type": "markdown",
      "metadata": {
        "id": "kWVB2hmQedQH"
      },
      "source": [
        "As you can see, the boxplot helps us in knowing the spread of the data. Now, you create a boxplot for the `year` column in the `met_df` DataFrame to see the spread of the `year` values."
      ]
    },
    {
      "cell_type": "code",
      "metadata": {
        "id": "WG15gn0LdDvd",
        "colab": {
          "base_uri": "https://localhost:8080/",
          "height": 388
        },
        "outputId": "9e968cb4-9733-40f1-f3b5-6d936e57884c"
      },
      "source": [
        " # Student Action: Create a boxplot for the 'year' values.\n",
        "plt.figure(figsize = (12,5))\n",
        "sns.boxplot('year',data=met_df)\n",
        "plt.show()"
      ],
      "execution_count": null,
      "outputs": [
        {
          "output_type": "stream",
          "text": [
            "/usr/local/lib/python3.7/dist-packages/seaborn/_decorators.py:43: FutureWarning: Pass the following variable as a keyword arg: x. From version 0.12, the only valid positional argument will be `data`, and passing other arguments without an explicit keyword will result in an error or misinterpretation.\n",
            "  FutureWarning\n"
          ],
          "name": "stderr"
        },
        {
          "output_type": "display_data",
          "data": {
            "image/png": "[encoded data removed]",
            "text/plain": [
              "<Figure size 864x360 with 1 Axes>"
            ]
          },
          "metadata": {
            "tags": [],
            "needs_background": "light"
          }
        }
      ]
    },
    {
      "cell_type": "markdown",
      "metadata": {
        "id": "kPzgOYZLd7qD"
      },
      "source": [
        "As you can see, the boxplot for the `year` column in the `met_df` DataFrame is tightly squeezed. It shows that most of the year values are very close to each other. Specifically, most of the year values are roughly around the year `2000`.\n",
        "\n",
        "Similarly, you create a boxplot for the `mass` column in the `met_df` DataFrame to observe the spread of the values."
      ]
    },
    {
      "cell_type": "code",
      "metadata": {
        "id": "_xxHFK0XVPqD",
        "colab": {
          "base_uri": "https://localhost:8080/",
          "height": 388
        },
        "outputId": "94bb8048-36c4-402f-fc98-3b84fdcb01b7"
      },
      "source": [
        "# Student Action: Create a boxplot for the 'mass' column in the 'met_df' DataFrame.\n",
        "plt.figure(figsize = (12,5))\n",
        "sns.boxplot(met_df['mass'])\n",
        "plt.show()"
      ],
      "execution_count": null,
      "outputs": [
        {
          "output_type": "stream",
          "text": [
            "/usr/local/lib/python3.7/dist-packages/seaborn/_decorators.py:43: FutureWarning: Pass the following variable as a keyword arg: x. From version 0.12, the only valid positional argument will be `data`, and passing other arguments without an explicit keyword will result in an error or misinterpretation.\n",
            "  FutureWarning\n"
          ],
          "name": "stderr"
        },
        {
          "output_type": "display_data",
          "data": {
            "image/png": "[encoded data removed]",
            "text/plain": [
              "<Figure size 864x360 with 1 Axes>"
            ]
          },
          "metadata": {
            "tags": [],
            "needs_background": "light"
          }
        }
      ]
    },
    {
      "cell_type": "markdown",
      "metadata": {
        "id": "V_eOOohaVfdx"
      },
      "source": [
        "From the plot, we can infer that most of the `mass` values are extremely squeezed around zero because the box has practically become a vertical line. Create a descriptive statistics summary for the `mass` column to further observe the variation in the `mass` values."
      ]
    },
    {
      "cell_type": "code",
      "metadata": {
        "id": "SEAPaZBZWF8C",
        "colab": {
          "base_uri": "https://localhost:8080/"
        },
        "outputId": "ea75cc0f-a461-4b78-b2b4-2b3ebd8f13d3"
      },
      "source": [
        "# Student Action: Create a descriptive statistics summary for the 'mass' column.\n",
        "met_df['mass'].describe()"
      ],
      "execution_count": null,
      "outputs": [
        {
          "output_type": "execute_result",
          "data": {
            "text/plain": [
              "count    4.558500e+04\n",
              "mean     1.327808e+04\n",
              "std      5.749889e+05\n",
              "min      0.000000e+00\n",
              "25%      7.200000e+00\n",
              "50%      3.260000e+01\n",
              "75%      2.026000e+02\n",
              "max      6.000000e+07\n",
              "Name: mass, dtype: float64"
            ]
          },
          "metadata": {
            "tags": []
          },
          "execution_count": 13
        }
      ]
    },
    {
      "cell_type": "markdown",
      "metadata": {
        "id": "fSyrQH3eWZLm"
      },
      "source": [
        "As you can see, the `min = 0` grams, `25% = 7.2` grams, `50% = 32.6` grams and `75% = 202.6` grams. These values are not so close to each other. But because the other `mass` values are very high (especially the maximum mass value is `60,000` kg which is a lot compared to most of the `mass` values), the boxplot is extremely squeezed.\n",
        "\n",
        "In the next class, we will learn how to slice a DataFrame to get some specific set of rows."
      ]
    },
    {
      "cell_type": "markdown",
      "metadata": {
        "id": "3qQvU1vDd643"
      },
      "source": [
        "---"
      ]
    }
  ]
}