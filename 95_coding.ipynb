{
  "nbformat": 4,
  "nbformat_minor": 0,
  "metadata": {
    "colab": {
      "provenance": [],
      "include_colab_link": true
    },
    "kernelspec": {
      "name": "python3",
      "display_name": "Python 3"
    },
    "language_info": {
      "name": "python"
    }
  },
  "cells": [
    {
      "cell_type": "markdown",
      "metadata": {
        "id": "view-in-github",
        "colab_type": "text"
      },
      "source": [
        "<a href=\"https://colab.research.google.com/github/twisha-k/Python_notes/blob/main/95_coding.ipynb\" target=\"_parent\"><img src=\"https://colab.research.google.com/assets/colab-badge.svg\" alt=\"Open In Colab\"/></a>"
      ]
    },
    {
      "cell_type": "markdown",
      "metadata": {
        "id": "2zKfD5teVlHx"
      },
      "source": [
        "# Lesson 95 -  Streamlit Widgets II"
      ]
    },
    {
      "cell_type": "markdown",
      "metadata": {
        "id": "wdwT65byXA4A"
      },
      "source": [
        "### Teacher-Student Activities\n",
        "\n",
        "In the previous class, we started building a web app implementing a multiclass classification model capable of predicting the glass type. Conitnuing from the same class, we will explore few Streamlit widgets useful for displaying various charts and plots such as count plot, pie chart, correlation heatmap and pair plot that help us to explore the dataset and provides us with some useful information.\n",
        "\n",
        "Today, we will also add more functionalities to this glass-type prediction model wherein a user will be able to select a classfication ML algorithm on which the model should be built and will also be able to optimise different model parameters to obtain a more accurate model.\n",
        "\n",
        "Let's quickly go through the activities covered in the previous class and begin this class from **Activity 1: Displaying Plots** section."
      ]
    },
    {
      "cell_type": "markdown",
      "metadata": {
        "id": "N2y29RJxvwn5"
      },
      "source": [
        "---"
      ]
    },
    {
      "cell_type": "markdown",
      "metadata": {
        "id": "427AbCTyvxSD"
      },
      "source": [
        "#### Problem statement\n",
        "\n",
        "Recall the glass-type classification that you had performed in one of your previous classes wherein you classified different types of glasses based on their chemical and physical composition.\n",
        "\n",
        "**Dataset Description:**\n",
        "\n",
        "The dataset used in this problem statement involves the classification of samples of different glasses based on their physical and chemical properties. They are as follows:\n",
        "\n",
        "1. **RI:** Refractive Index\n",
        "\n",
        "2. **Na:** Sodium\n",
        "\n",
        "3. **Mg:** Magnesium\n",
        "\n",
        "4. **Al:** Aluminum\n",
        "\n",
        "5. **Si:** Silicon\n",
        "\n",
        "6. **K:** Potassium\n",
        "\n",
        "7. **Ca:** Calcium\n",
        "\n",
        "8. **Ba:** Barium\n",
        "\n",
        "9. **Fe:** Iron\n",
        "\n",
        "\n",
        "There are seven types (classes or labels) of glass listed; they are:\n",
        "\n",
        "* **Class 1:** used for making building windows (float processed)\n",
        "\n",
        "* **Class 2:** used for making building windows (non-float processed)\n",
        "\n",
        "* **Class 3:** used for making vehicle windows (float processed)\n",
        "\n",
        "* **Class 4:** used for making vehicle windows (non-float processed)\n",
        "\n",
        "* **Class 5:** used for making containers\n",
        "\n",
        "* **Class 6:** used for making tableware\n",
        "\n",
        "* **Class 7:** used for making headlamps\n",
        "\n",
        "\n",
        "**Dataset Credits:** https://archive.ics.uci.edu/ml/datasets/Glass+Identification\n",
        "\n",
        "\n",
        "**Citation:** Dua, D., & Graff, C.. (2017). UCI Machine Learning Repository\n",
        "\n",
        "\n",
        "\n",
        "\n"
      ]
    },
    {
      "cell_type": "markdown",
      "metadata": {
        "id": "r3UbNRvy6li7"
      },
      "source": [
        "---"
      ]
    },
    {
      "cell_type": "markdown",
      "metadata": {
        "id": "JCdhA1isIN4N"
      },
      "source": [
        "#### Importing modules and Loading Data\n",
        "\n",
        "\n",
        "\n",
        "\n",
        "First create a python file `glass_type_app.py` in Sublime editor and save it in `Python_scripts` folder created earlier. Copy the code given below in `glass_type_app.py` file.\n",
        "\n",
        "The code given below performs the following tasks: *(Learnt in  **Logistic Regression - Multiclass Classification I**)*\n",
        "1. Imports necessary libraries including the `streamlit`.\n",
        "2. Drops unnecessary columns and  provides suitable column headers to the independent variables.\n",
        "\n",
        "3. Creates feature DataFrame and target variables.\n",
        "4. Splits the dataset into train and test sets using the `train_test_split()` function.\n",
        "\n",
        "\n",
        "**Note:** Do not run the code shown below. It will thrown an error.\n"
      ]
    },
    {
      "cell_type": "code",
      "metadata": {
        "id": "wN4XC8-QKLzR"
      },
      "source": [
        "# Open Sublime text editor, create a new Python file, copy the following code in it and save it as 'glass_type_app.py'.\n",
        "# You have already created this ML model in ones of the previous classes.\n",
        "\n",
        "# Importing the necessary Python modules.\n",
        "import numpy as np\n",
        "import pandas as pd\n",
        "import streamlit as st\n",
        "import seaborn as sns\n",
        "import matplotlib.pyplot as plt\n",
        "\n",
        "from sklearn.model_selection import train_test_split, GridSearchCV\n",
        "from sklearn.metrics import plot_confusion_matrix\n",
        "\n",
        "# ML classifier Python modules\n",
        "from sklearn.svm import SVC\n",
        "from sklearn.ensemble import RandomForestClassifier\n",
        "from sklearn.linear_model import LogisticRegression\n",
        "\n",
        "# Loading the dataset.\n",
        "@st.cache()\n",
        "def load_data():\n",
        "    file_path = \"glass-types.csv\"\n",
        "    df = pd.read_csv(file_path, header = None)\n",
        "    # Dropping the 0th column as it contains only the serial numbers.\n",
        "    df.drop(columns = 0, inplace = True)\n",
        "    column_headers = ['RI', 'Na', 'Mg', 'Al', 'Si', 'K', 'Ca', 'Ba', 'Fe', 'GlassType']\n",
        "    columns_dict = {}\n",
        "    # Renaming columns with suitable column headers.\n",
        "    for i in df.columns:\n",
        "        columns_dict[i] = column_headers[i - 1]\n",
        "        # Rename the columns.\n",
        "        df.rename(columns_dict, axis = 1, inplace = True)\n",
        "    return df\n",
        "\n",
        "glass_df = load_data()\n",
        "\n",
        "# Creating the features data-frame holding all the columns except the last column.\n",
        "X = glass_df.iloc[:, :-1]\n",
        "\n",
        "# Creating the target series that holds last column.\n",
        "y = glass_df['GlassType']\n",
        "\n",
        "# Spliting the data into training and testing sets.\n",
        "X_train, X_test, y_train, y_test = train_test_split(X, y, test_size = 0.3, random_state = 42)"
      ],
      "execution_count": null,
      "outputs": []
    },
    {
      "cell_type": "markdown",
      "metadata": {
        "id": "ejsTwxVzRuFV"
      },
      "source": [
        "**Note:** You have to store the `glass-types.csv` file in your computer in the same folder that contains the above Python script. You can download the `glass-types.csv` file from the link provided below.\n",
        "\n",
        "https://s3-student-datasets-bucket.whjr.online/whitehat-ds-datasets/glass-types.csv\n",
        "\n",
        "\n",
        "In the above code, we encapsulated some part of the code inside a function `load_data()` and added `st.cache()` decorator at the start of this function. Let us understand why?\n",
        "\n",
        "**The `st.cache()` decorator:**\n",
        "\n",
        "- Each time when you rerun your Streamlit app or change any widget value, the whole app runs from start to end.\n",
        "- This is not feasible when we create complicated machine learning apps as it will consume lot of time in rerunning the entire app.\n",
        "- Streamlit provides a functionality called **caching**, where data is not loaded each time when the app is loaded. Instead the data is loaded from the local cache (a temporary storage location on your machine). This saves cpu cycles and memory time, thereby improving the performance of your web app.\n",
        "\n",
        "\n",
        "In our case, we added `@st.cache()` decorator at the start of `load_data()` function as this part of code will not change more often."
      ]
    },
    {
      "cell_type": "markdown",
      "metadata": {
        "id": "HBTjlfDWjysD"
      },
      "source": [
        "---"
      ]
    },
    {
      "cell_type": "markdown",
      "metadata": {
        "id": "eq_EY2YbkNJU"
      },
      "source": [
        "#### Adding `prediction()` Function\n",
        "\n",
        "As done in the previous class, let us add a function, say `prediction()`, that will predict the type of glass for every unique combination of `RI`, `Na`, `Mg`, `Al`, `Si`, `K`, `Ca`, `Ba` and `Fe` values.\n",
        "\n",
        "1. The `prediction()` function takes 10 inputs:\n",
        "\n",
        "  - `model` (It holds the algorithm chosen by user)\n",
        "  - `RI`\n",
        "  - `Na`\n",
        "  - `Mg`\n",
        "  - `Al`\n",
        "  - `Si`\n",
        "  - `K`\n",
        "  - `Ca`\n",
        "  - `Ba`\n",
        "  - `Fe`\n",
        "\n",
        "2. Inside the `prediction()` function:\n",
        "\n",
        "  - Call the `predict()` function on the `model` object.\n",
        "   \n",
        "  - The `predict()` function returns an array containing a single-digit integer value that would be either 1, 2, 3, 5, 6 or 7 where\n",
        "    \n",
        "    - `1` denotes the glass used for making building windows (float processed) i.e `building windows float processed`\n",
        "    \n",
        "    - `2` denotes the glass used for making building windows (non-float processed) i.e. `building windows non float processed`\n",
        "    \n",
        "    - `3` denotes the glass used for making vehicle windows (float processed) i.e. `vehicle windows float processed`\n",
        "    \n",
        "    - `4` denotes the glass used for making vehicle windows (non-float processed) i.e. `vehicle windows non float processed`\n",
        "    \n",
        "    - `5` denotes the glass used for making containers i.e. `containers`\n",
        "    \n",
        "    - `6` denotes the glass used for making tableware i.e. `tableware`\n",
        "    \n",
        "    - `7` denotes the glass used for making headlamps i.e. `headlamps`\n",
        "\n",
        "    **Note:** There are no records for the glass-type `6` in the dataset. Nevertheless, we are still accounting for it in our code.\n",
        "   \n",
        "  - Extract the integer value using the indexing method i.e. `array_name[0]` and store it in the `glass_type` variable.\n",
        "\n",
        "  - Return the type of glass by checking the value of `type` variable i.e.,\n",
        "  \n",
        "    - If `glass_type == 1`, then return `\"building windows float processed\"`\n",
        "  \n",
        "    - Else if `glass_type == 2`, then return `\"building windows non float processed\"`\n",
        "\n",
        "    - Else if `glass_type == 3`, then return `\"vehicle windows float processed\"`\n",
        "\n",
        "    - Else if `glass_type == 4`, then return `\"vehicle windows non float processed\"`\n",
        "\n",
        "    - Else if `glass_type == 5`, then return `\"containers\"`\n",
        "\n",
        "    - Else if `glass_type == 6`, then return `\"tableware\"`\n",
        "  \n",
        "    - Else return `\"headlamp\"`\n",
        "\n",
        "3. Also mark the `prediction()` function with Streamlit decorator `@st.cache()`.\n",
        "\n",
        "**Note:** Do not run the code shown below. It will thrown an error."
      ]
    },
    {
      "cell_type": "code",
      "metadata": {
        "id": "Ud0iX5U_nJrJ"
      },
      "source": [
        "# Create a function that accepts an ML model object say 'model' and the nine features as inputs\n",
        "# and returns the glass type.\n",
        "@st.cache()\n",
        "def prediction(model, ri, na, mg, al, si, k, ca, ba, fe):\n",
        "    glass_type = model.predict([[ri, na, mg, al, si, k, ca, ba, fe]])\n",
        "    glass_type = glass_type[0]\n",
        "    if glass_type == 1:\n",
        "        return \"building windows float processed\".upper()\n",
        "    elif glass_type == 2:\n",
        "        return \"building windows non float processed\".upper()\n",
        "    elif glass_type == 3:\n",
        "        return \"vehicle windows float processed\".upper()\n",
        "    elif glass_type == 4:\n",
        "        return \"vehicle windows non float processed\".upper()\n",
        "    elif glass_type == 5:\n",
        "        return \"containers\".upper()\n",
        "    elif glass_type == 6:\n",
        "        return \"tableware\".upper()\n",
        "    else:\n",
        "        return \"headlamps\".upper()"
      ],
      "execution_count": null,
      "outputs": []
    },
    {
      "cell_type": "markdown",
      "metadata": {
        "id": "6kZHMjgDUFkQ"
      },
      "source": [
        "Next step is to add some Streamlit code for creating our front-end."
      ]
    },
    {
      "cell_type": "markdown",
      "metadata": {
        "id": "9fXicaY6tpXL"
      },
      "source": [
        "---"
      ]
    },
    {
      "cell_type": "markdown",
      "metadata": {
        "id": "eF8WNL5ZycxB"
      },
      "source": [
        "#### Displaying Title and Sidebar Title\n",
        "\n",
        "Now it is time to add Streamlit widgets one by one. Let us add a title and the sidebar title for our Streamlit dashboard. This can be done using the `st.title()` and `st.sidebar.title()` functions.\n",
        "\n",
        "**Syntax:** `st.title(some_title)`"
      ]
    },
    {
      "cell_type": "code",
      "metadata": {
        "id": "MgFTf_-icgdv"
      },
      "source": [
        "# Add title on the main page and in the sidebar.\n",
        "st.title(\"Glass Type Predictor\")\n",
        "st.sidebar.title(\"Exploratory Data Analysis\")"
      ],
      "execution_count": null,
      "outputs": []
    },
    {
      "cell_type": "markdown",
      "metadata": {
        "id": "pW2dMLIFg5S5"
      },
      "source": [
        "After adding the above code, run your web app using the following command:\n",
        "\n",
        "`streamlit run glass_type_app.py`\n",
        "\n",
        "You will see the following output:\n",
        "\n",
        "<center><img src=\"https://s3-whjr-v2-prod-bucket.whjr.online/67c23ee6-6e4e-499c-924b-15a498bafec6.PNG\"></center>\n",
        "\n",
        "If you notice in the image above, anything we call with the sidebar object will appear in the left-hand side of the web page.\n",
        "\n",
        "**Important points about `st.sidebar`:**\n",
        "\n",
        "- It is used to give a cleaner look to your app by moving your widgets into the left-hand side of your screen. This keeps your app at the centre, while the widgets are pinned to the left.\n",
        "\n",
        "- The syntax for adding any widget to the sidebar is `st.sidebar.[widget]()`\n",
        "   \n",
        "  For example: `st.sidebar.title()`, `st.sidebar.checkbox()`, `st.sidebar.slider()` etc.\n",
        "\n",
        "**Note:** For the upcoming activities, keep appending the code in the `glass_type_app.py` file using the Sublime editor and then rerun your app on your local machine."
      ]
    },
    {
      "cell_type": "markdown",
      "metadata": {
        "id": "NXloIT4Ityzq"
      },
      "source": [
        "---"
      ]
    },
    {
      "cell_type": "markdown",
      "metadata": {
        "id": "fjTtE0VLt0Tb"
      },
      "source": [
        "#### Displaying Raw Data\n",
        "\n",
        "You can display the dataset in raw form using `st.dataframe()` function.\n",
        "\n",
        "**Syntax:** `st.dataframe(data)` where `data` is the pandas DataFrame object.\n",
        "\n",
        "You can even display your dataset using `st.write()` function as follows:\n",
        "    \n",
        "> `st.write(data)`\n",
        "\n",
        "Let us also add a checkbox widget in the sidebar to display the glass-type `glass_df` DataFrame only when this checkbox is clicked. It should look like this:\n",
        "\n",
        "<center><img src=\"https://s3-whjr-v2-prod-bucket.whjr.online/b428f116-91be-4db4-a03b-755eed5e3bcc.PNG\"></center>\n",
        "\n",
        "**Syntax:** `st.checkbox(label)`\n",
        "\n",
        "To add the checkbox in the sidebar, simply use `st.sidebar.checkbox()` instead of `st.checkbox()`.\n",
        "\n",
        "When the user clicks on the checkbox labeled **`Show raw data`**,  \n",
        "- Display a subheader on the main page with a label `\"Glass Type Data set\"` using `st.subheader()` function.\n",
        "\n",
        "  **Syntax: `st.subheader(some_text)`**\n",
        "  \n",
        "- Below the subheader, display raw data using `st.dataframe()` function.\n",
        "\n",
        "**Note:** Don't run the code shown below. It will throw an error."
      ]
    },
    {
      "cell_type": "code",
      "metadata": {
        "id": "O8Phav8OBtl_"
      },
      "source": [
        "# Using if statement, display raw data on the click of the checkbox.\n",
        "if st.sidebar.checkbox(\"Show raw data\"):\n",
        "    st.subheader(\"Full Dataset\")\n",
        "    st.dataframe(glass_df)"
      ],
      "execution_count": null,
      "outputs": []
    },
    {
      "cell_type": "markdown",
      "metadata": {
        "id": "DFAE-TJRLJI6"
      },
      "source": [
        "After running the app, it can be visualised as below:\n",
        "\n",
        "<center><img src=\"https://s3-whjr-v2-prod-bucket.whjr.online/0360d045-be96-4dd4-942d-1c8bd86c62bd.PNG\"></center>"
      ]
    },
    {
      "cell_type": "markdown",
      "metadata": {
        "id": "Q3dfbgEYRC3t"
      },
      "source": [
        "---"
      ]
    },
    {
      "cell_type": "markdown",
      "metadata": {
        "id": "Y-dZlbcq-pts"
      },
      "source": [
        "Creating Plots\n",
        "\n",
        "You can display any `matplotlib` or `seaborn` plots as Streamlit supports many visualisation frameworks. For our web app, we will create the following plots:\n",
        "\n",
        "1. Scatter plot\n",
        "2. Histogram\n",
        "3. Box plot\n",
        "4. Count plot\n",
        "5. Pie chart\n",
        "6. Correlation heatmap\n",
        "7. Pair plot\n",
        "\n",
        "Let's first try to create scatter plots between all the features and the target variable.\n",
        "\n",
        "Let us add a drop-down list that allows a user to select multiple options. This will allow a user to select the values to be plotted on the $x$-axis of a scatter plot as we are fixing the `GlassType` column as the values to be plotted on the $y$-axis.\n",
        "\n",
        "<center><img src=\"https://s3-whjr-v2-prod-bucket.whjr.online/e05308c2-dc7a-4126-a968-56d81b911c86.gif\"></center>\n",
        "\n",
        "To select multiple values from a drop-down list, we use **multiselect** widget of Streamlit. It returns a list of selected options.\n",
        "\n",
        "**Syntax:** `st.multiselect(label, (options))`\n",
        "\n",
        "Here,\n",
        "  - `label`: A short label explaining to the user what this widget is for.\n",
        "  - `(options)`: Options that will go into the drop-down. These options are provided either in the form of a `list` or in the form of a `tuple`.\n",
        "\n",
        "Let us now add a multiselect widget in the sidebar that will allow us to choose multiple $x$-axis values for the scatter plots.\n",
        "\n",
        "**Note:** Don't run the code shown below. It will throw an error."
      ]
    },
    {
      "cell_type": "code",
      "metadata": {
        "id": "vV3-ePttN07b"
      },
      "source": [
        "# Scatter Plot between the features and the target variable.\n",
        "# Add a subheader in the sidebar with label \"Scatter Plot\".\n",
        "st.sidebar.subheader(\"Scatter Plot\")\n",
        "\n",
        "# Choosing x-axis values for the scatter plot.\n",
        "# Add a multiselect in the sidebar with the 'Select the x-axis values:' label\n",
        "# and pass all the 9 features as a tuple i.e. ('RI', 'Na', 'Mg', 'Al', 'Si', 'K', 'Ca', 'Ba', 'Fe') as options.\n",
        "# Store the current value of this widget in the 'features_list' variable.\n",
        "features_list = st.sidebar.multiselect(\"Select the x-axis values:\",\n",
        "                                            ('RI', 'Na', 'Mg', 'Al', 'Si', 'K', 'Ca', 'Ba', 'Fe'))"
      ],
      "execution_count": null,
      "outputs": []
    },
    {
      "cell_type": "markdown",
      "metadata": {
        "id": "lmgUERgD6F-x"
      },
      "source": [
        "In the above code, the `features_list` holds multiple features selected by the user. The scatter plot will be plotted with each selected feature on the $x$-axis and `GlassType` column on $y$-axis.\n",
        "\n",
        "**Displaying Scatter plot:**\n",
        "\n",
        "You can display any `matplotlib` and `seaborn` plots using `st.pyplot()` function. You can think of `st.pyplot()` as an equivalent to `plt.show()`.\n",
        "\n",
        "Now we will create the scatter plot for each of the selected features by iterating through each feature contained in the `features_list` and using the `scatterplot()` function of the `seaborn` module. You may use the `scatter()` function of the `matplotlib.pyplot` module as well for the same task.\n",
        "\n",
        "\n",
        "**Note:**\n",
        "- While using `st.pyplot()`, you will see a find \"Deprecation warning\" on your webpage. To remove that warning, add the following line before using `st.pyplot()`:\n",
        "\n",
        "  `st.set_option('deprecation.showPyplotGlobalUse', False)`\n",
        "\n",
        "- Don't run the code shown below. It will throw an error."
      ]
    },
    {
      "cell_type": "code",
      "metadata": {
        "id": "2s33SlDh6JvU"
      },
      "source": [
        "# Create scatter plots between the features and the target variable.\n",
        "# Remove deprecation warning.\n",
        "st.set_option('deprecation.showPyplotGlobalUse', False)\n",
        "\n",
        "for feature in features_list:\n",
        "    st.subheader(f\"Scatter plot between {feature} and GlassType\")\n",
        "    plt.figure(figsize = (12, 6))\n",
        "    sns.scatterplot(x = feature, y = 'GlassType', data = glass_df)\n",
        "    st.pyplot()"
      ],
      "execution_count": null,
      "outputs": []
    },
    {
      "cell_type": "markdown",
      "metadata": {
        "id": "GjzuZdMn6OLC"
      },
      "source": [
        "In the above code, observe that `st.pyplot()` is used for plotting each scatter plot. If it is not specified after creating a plot, then that plot object will reside in memory but it won't be rendered on the screen.\n",
        "\n",
        "In the same way, you can display histograms and histograms for all the desired columns using **multiselect** widget and `hist()` function of the `matplotlib.pyplot` module and `boxplot()` function of the seaborn module respectively.\n",
        "\n",
        "**Note:** Don't run the code shown below. It will throw an error."
      ]
    },
    {
      "cell_type": "code",
      "metadata": {
        "id": "mBKZ3isd6ZUk"
      },
      "source": [
        "# Create histograms for all the features.\n",
        "# Sidebar for histograms.\n",
        "st.sidebar.subheader(\"Histogram\")\n",
        "\n",
        "# Choosing features for histograms.\n",
        "hist_features = st.sidebar.multiselect(\"Select features to create histograms:\",\n",
        "                                            ('RI', 'Na', 'Mg', 'Al', 'Si', 'K', 'Ca', 'Ba', 'Fe'))\n",
        "# Create histograms.\n",
        "for feature in hist_features:\n",
        "    st.subheader(f\"Histogram for {feature}\")\n",
        "    plt.figure(figsize = (12, 6))\n",
        "    plt.hist(glass_df[feature], bins = 'sturges', edgecolor = 'black')\n",
        "    st.pyplot()\n",
        "\n",
        "# Create box plots for all the columns.\n",
        "# Sidebar for box plots.\n",
        "st.sidebar.subheader(\"Box Plot\")\n",
        "\n",
        "# Choosing columns for box plots.\n",
        "box_plot_cols = st.sidebar.multiselect(\"Select the columns to create box plots:\",\n",
        "                                            ('RI', 'Na', 'Mg', 'Al', 'Si', 'K', 'Ca', 'Ba', 'Fe', 'GlassType'))\n",
        "\n",
        "# Create box plots.\n",
        "for col in box_plot_cols:\n",
        "    st.subheader(f\"Box plot for {col}\")\n",
        "    plt.figure(figsize = (12, 2))\n",
        "    sns.boxplot(glass_df[col])\n",
        "    st.pyplot()"
      ],
      "execution_count": null,
      "outputs": []
    },
    {
      "cell_type": "markdown",
      "metadata": {
        "id": "ulvUvOl96lZO"
      },
      "source": [
        "After adding the code for all the three plots, the app can be visualised as follows:\n",
        "\n",
        "<center><img src=\"https://s3-whjr-v2-prod-bucket.whjr.online/b4885645-8ef9-4e39-ad1c-699c7d1efa02.gif\"/></center>\n"
      ]
    },
    {
      "cell_type": "markdown",
      "metadata": {
        "id": "8BdMSOAx6m2f"
      },
      "source": [
        "---"
      ]
    },
    {
      "cell_type": "markdown",
      "metadata": {
        "id": "niqKJAbS6tLF"
      },
      "source": [
        "#### Activity 1: Displaying Plots\n",
        "\n",
        "Let's continue creating the remaining plots. However, let's create them with a slight twist. Let's add a new **multiselect** widget which allows a user to choose the types of plots. Finally, we will have two **multiselect widgets** for data visualisation:\n",
        "\n",
        "- One for the scatter plot and\n",
        "\n",
        "- Another for all the other types of plots\n",
        "\n",
        "It will look like this:\n",
        "\n",
        "<center><img src=\"https://s3-whjr-v2-prod-bucket.whjr.online/014cdce8-5072-4ca7-9c74-f568f7bac886.PNG\"/></center>\n"
      ]
    },
    {
      "cell_type": "code",
      "metadata": {
        "id": "L7oe1clZ6ZH8"
      },
      "source": [
        "# S1.1: Remove the multiselect widgets for histograms and box plots and add a new multiselect widget to choose a type of visualisation.\n",
        "# Sidebar subheader for scatter plot\n",
        "\n",
        "# Remove deprecation warning.\n",
        "\n",
        "# Choosing x-axis values for scatter plots.\n",
        "\n",
        "# Creating scatter plots.\n",
        "\n",
        "# Remove the code blocks for histogram and box plots.\n",
        "\n",
        "# Add a subheader in the sidebar with label \"Visualisation Selector\"\n",
        "\n",
        "# Add a multiselect in the sidebar with label 'Select the Charts/Plots:'\n",
        "# and with 6 options passed as a tuple ('Histogram', 'Box Plot', 'Count Plot', 'Pie Chart', 'Correlation Heatmap', 'Pair Plot').\n",
        "# Store the current value of this widget in a variable 'plot_types'.\n"
      ],
      "execution_count": null,
      "outputs": []
    },
    {
      "cell_type": "markdown",
      "metadata": {
        "id": "RV2Gp5JrEfF5"
      },
      "source": [
        "In the above code, the variable `plot_types` holds a list of selected options.\n",
        "\n",
        "Based on the selected option, the corresponding plot must be displayed. For this, we will use the `if` statement and `in` keyword to check if a plot exists in the `plot_types` list in the following way:\n",
        "```python\n",
        "if 'Histogram' in plot_types:\n",
        "  # plot histogram\n",
        "if 'Box Plot' in plot_types:\n",
        "  # plot box plot\n",
        "if 'Count Plot' in plot_types:\n",
        "  # plot count plot\n",
        "if 'Pie Chart' in plot_types:\n",
        "  # plot pie chart\n",
        "if 'Correlation Heatmap' in plot_types:\n",
        "  # plot correlation heatmap\n",
        "if 'Pair Plot' in plot_types:\n",
        "  # plot pair plot\n",
        "```\n",
        "\n",
        "**Displaying Histogram:**\n",
        "\n",
        "In the previous class, we displayed histogram for mutiple features selected by user using a multiselect widget. However, if we wish to display histogram only for a single feature instead of multiple features, we can use Streamlit's **selectbox** widget.\n",
        "\n",
        "The selectbox widget is used to create a drop-down where the user can select only one option. It will look like this:\n",
        "\n",
        "<center>\n",
        "<img src=\"https://s3-whjr-v2-prod-bucket.whjr.online/0e042d2a-d72f-4d3e-8384-b2f01ec83ced.gif\"/></center>\n",
        "\n",
        "\n",
        "\n",
        "\n",
        "**Syntax:** `st.selectbox(label, (options))`\n",
        "\n",
        "Here,\n",
        "  - `label`: A short label explaining to the user what this widget is for.\n",
        "  - `(options)`: Options that will go into the drop-down. These options are either provided in the form of a `list` or in the form of a `tuple`.\n",
        "\n",
        "Unlike multiselect widget, the selectbox widget returns only a single value.\n",
        "\n",
        "Let us add this selectbox widget, populate it with all the column names and also display the histogram for the corresponding column.\n",
        "\n",
        "**Note:** Don't run the code shown below. It will throw an error.\n"
      ]
    },
    {
      "cell_type": "code",
      "metadata": {
        "id": "OOtGLDxBJX2D"
      },
      "source": [
        "# S1.2: Create histograms for the selected features using the 'selectbox' widget.\n"
      ],
      "execution_count": null,
      "outputs": []
    },
    {
      "cell_type": "markdown",
      "metadata": {
        "id": "3jujOqvEJoGi"
      },
      "source": [
        "In the above code, the `columns` variable holds the single column selected by the user for which the histogram is to be plotted.\n",
        "\n",
        "Similarly, display the box plot using the selectbox widget and `boxplot()` function of the `seaborn` module.\n",
        "\n",
        "**Note:** Don't run the code shown below. It will throw an error."
      ]
    },
    {
      "cell_type": "code",
      "metadata": {
        "id": "_vvBg4XoMJmL"
      },
      "source": [
        "# S1.3: Create box plots for the selected column using the 'selectbox' widget.\n"
      ],
      "execution_count": null,
      "outputs": []
    },
    {
      "cell_type": "markdown",
      "metadata": {
        "id": "0xOg8zJU-VlT"
      },
      "source": [
        "Similarly, let us display the following remaining plots for `glass_df` DataFrame using `st.pyplot()` function:\n",
        "\n",
        "- Count plot\n",
        "- Pie chart\n",
        "- Correlation heatmap\n",
        "- Pair plot\n",
        "\n",
        "For correlation heatmap, we will control the limits of $y$-axis  to obtain a more clear view of the heatmap. For this, we will use `get_ylim()` and `set_ylim()` functions while plotting heatmap.\n",
        "\n",
        "- The `get_ylim()` function: This function returns the $y$-coordinates of the top and bottom points of an axis.\n",
        "  \n",
        "  **Syntax:**\n",
        "  `ax.get_ylim()` where `ax` is the object of the desired plot's axis. In our case, it will be seaborn's heatmap axis. This function returns the $y$-coordinates of the top and bottom points of an axis.\n",
        "\n",
        "- The `set_ylim()` function: This function sets the new $y$-coordinates of the top and bottom points of an axis.\n",
        "\n",
        "  **Syntax:** `ax.set_ylim(bottom = None, top = None)` where\n",
        "  - `ax` is the object of the desired plot's axis.\n",
        "  - `bottom` and `top` are the new $y$-axis limits.\n",
        "\n",
        "For our app, adjust the heatmap's $y$-axis limits by increasing the bottom margin and decreasing the top margin using the following steps:\n",
        "\n",
        "1. Use `heatmap()` function of `seaborn` module to create correlation heatmap and store its object in the `ax` variable.\n",
        "\n",
        "2. Call `get_ylim()` function using the `ax` object and store the returned values in the `bottom` and `top` variables.\n",
        "\n",
        "3. Call the `set_ylim()` function using the `ax` object and pass the new bottom and top margin limits to this function. The new bottom and top margin limits would be `bottom + 0.5` and  `top - 0.5`.\n",
        "     \n"
      ]
    },
    {
      "cell_type": "code",
      "metadata": {
        "id": "f6ICXq3x9Ok8"
      },
      "source": [
        "# S1.4: Create count plot, pie chart, correlation heatmap and pair plot.\n",
        "# Create count plot using the 'seaborn' module and the 'st.pyplot()' function.\n",
        "# S1.3: Create box plots for the selected column using the 'selectbox' widget.\n",
        "if 'Histogram' in plot_types:\n",
        "    st.subheader(\"Histogram\")\n",
        "    columns = st.sidebar.selectbox(\"Select the column to create its histogram\",\n",
        "                                  ('RI', 'Na', 'Mg', 'Al', 'Si', 'K', 'Ca', 'Ba', 'Fe'))\n",
        "    # Note: Histogram is generally created for continous values not for discrete values.\n",
        "    plt.figure(figsize = (12, 6))\n",
        "    plt.title(f\"Histogram for {columns}\")\n",
        "    plt.hist(glass_df[columns], bins = 'sturges', edgecolor = 'black')\n",
        "    st.pyplot()\n",
        "if 'Box Plot' in plot_types:\n",
        "    st.subheader(\"Box Plot\")\n",
        "    columns = st.sidebar.selectbox(\"Select the column to create its box plot\",\n",
        "                                  ('RI', 'Na', 'Mg', 'Al', 'Si', 'K', 'Ca', 'Ba', 'Fe', 'GlassType'))\n",
        "    plt.figure(figsize = (12, 2))\n",
        "    plt.title(f\"Box plot for {columns}\")\n",
        "    sns.boxplot(glass_df[columns])\n",
        "    st.pyplot()\n",
        "if 'Count Plot' in plot_types:\n",
        "    st.subheader(\"Count plot\")\n",
        "    sns.countplot(x = 'GlassType', data = glass_df)\n",
        "    st.pyplot()\n",
        "\n",
        "# Create pie chart using the 'matplotlib.pyplot' module and the 'st.pyplot()' function.\n",
        "if 'Pie Chart' in plot_types:\n",
        "    st.subheader(\"Pie Chart\")\n",
        "    pie_data = glass_df['GlassType'].value_counts()\n",
        "    plt.figure(figsize = (5, 5))\n",
        "    plt.pie(pie_data, labels = pie_data.index, autopct = '%1.2f%%',\n",
        "            startangle = 30, explode = np.linspace(.06, .16, 6))\n",
        "    st.pyplot()\n",
        "\n",
        "# Display correlation heatmap using the 'seaborn' module and the 'st.pyplot()' function.\n",
        "if 'Correlation Heatmap' in plot_types:\n",
        "    st.subheader(\"Correlation Heatmap\")\n",
        "    plt.figure(figsize = (10, 6))\n",
        "    ax = sns.heatmap(glass_df.corr(), annot = True) # Creating an object of seaborn axis and storing it in 'ax' variable\n",
        "    bottom, top = ax.get_ylim() # Getting the top and bottom margin limits.\n",
        "    ax.set_ylim(bottom + 0.5, top - 0.5) # Increasing the bottom and decreasing the top margins respectively.\n",
        "    st.pyplot()\n",
        "\n",
        "# Display pair plots using the the 'seaborn' module and the 'st.pyplot()' function.\n",
        "if 'Pair Plot' in plot_types:\n",
        "    st.subheader(\"Pair Plots\")\n",
        "    plt.figure(figsize = (15, 15))\n",
        "    sns.pairplot(glass_df)\n",
        "    st.pyplot()"
      ],
      "execution_count": null,
      "outputs": []
    },
    {
      "cell_type": "markdown",
      "metadata": {
        "id": "p0tzNa2DPWwD"
      },
      "source": [
        "After adding the code for all the 6 plots, the app can be visualised as follows:\n",
        "\n",
        "<center>\n",
        "<img src=\"https://s3-whjr-v2-prod-bucket.whjr.online/762fc8b6-6c4e-4528-aea9-580e93b540e3.gif\"/></center>"
      ]
    },
    {
      "cell_type": "markdown",
      "metadata": {
        "id": "K3MJqlpJDy4-"
      },
      "source": [
        "---"
      ]
    },
    {
      "cell_type": "markdown",
      "metadata": {
        "id": "vHSZO5BNREUL"
      },
      "source": [
        "#### Activity 2: Adding Slider Widgets\n",
        "\n",
        "\n",
        "Next step is to collect user input for making new prediction. As all the 9 features (`'RI'`, `'Na'`, `'Mg'`, `'Al'`, `'Si'`, `'K'`, `'Ca'`, `'Ba'`, `'Fe'`) are numerical, we will use slider widgets to accept the values of these features from the user. By dragging the slider left or right, the user can dynamically choose the values of the features.\n",
        "\n",
        "<center>\n",
        "<img src=\"https://s3-whjr-v2-prod-bucket.whjr.online/dd135d1a-b6e9-45f3-a74e-147410b7d898.gif\"/></center>\n",
        "\n",
        "To add a slider widget, use the following syntax:\n",
        "\n",
        "`st.slider(label, min_value, max_value)`\n",
        "\n",
        "Here,\n",
        " - `label`:  A short label explaining to the user what this slider is for.\n",
        " - `min_value`: The minimum value. If this parameter is not specified, the default value is `0` in case of integer values and `0.0` in case of float values.\n",
        " - `max_value`: The maximum value. If this parameter is not specified, the default value is `100` in case of integer values and `1.0` in case of float values.\n",
        "\n",
        "\n",
        "Now, add 9 sliders for all the 9 features and store their return values in following 9 different variables: `ri, na, mg, al, si, k, ca, ba, fe `.\n",
        "\n",
        "**Note:**\n",
        " - The minimum and maximum values for these sliders would be the corresponding minimum and maximum values of that particular feature.\n",
        " - Don't run the code shown below. It will throw an error."
      ]
    },
    {
      "cell_type": "code",
      "metadata": {
        "id": "A_eg0zhMJ4DR"
      },
      "source": [
        "# S2.1: Add 9 slider widgets for accepting user input for 9 features.\n"
      ],
      "execution_count": null,
      "outputs": []
    },
    {
      "cell_type": "markdown",
      "metadata": {
        "id": "BAbglIPMMVCT"
      },
      "source": [
        "After adding the above Streamlit code and rerunning the entire app, it will look like this:\n",
        "\n",
        "<center>\n",
        "<img src=\"https://s3-whjr-v2-prod-bucket.whjr.online/ec334fc2-3633-4d05-8c3c-a0f47b701ee5.gif\"/>"
      ]
    },
    {
      "cell_type": "markdown",
      "metadata": {
        "id": "rNKW5vIvNeDn"
      },
      "source": [
        "---"
      ]
    },
    {
      "cell_type": "markdown",
      "metadata": {
        "id": "2YIVAamNTLU3"
      },
      "source": [
        "#### Activity 3: Choosing the Classifier\n",
        "\n",
        "Once the user has selected the desired value of all the features, the next step would be to choose the classifer. For our app, we are using three classifiers, namely Support Vector Machines, Random Forest Classifier and Logistic Regression.\n",
        "\n",
        "For our app, we will use the **selectbox** widget to aid us in selecting the different classifiers that will be used in creating the machine learning model.\n",
        "\n",
        "<center><img src=\"https://s3-whjr-v2-prod-bucket.whjr.online/086060dd-130b-4425-bba4-b1015107bcea.PNG\"></center>\n",
        "\n",
        "\n",
        "Let us now add a selectbox widget below the sliders that will allow us to choose the classifier to be implemented.\n",
        "\n",
        "**Note:** Don't run the code shown below. It will throw an error."
      ]
    },
    {
      "cell_type": "code",
      "metadata": {
        "id": "R58xKRPvV3aU"
      },
      "source": [
        "# S3.1: Add a subheader and multiselect widget.\n",
        "# Add a subheader in the sidebar with label \"Choose Classifier\"\n",
        "\n",
        "# Add a selectbox in the sidebar with label 'Classifier'.\n",
        "# and with 2 options passed as a tuple ('Support Vector Machine', 'Random Forest Classifier').\n",
        "# Store the current value of this slider in a variable 'classifier'.\n"
      ],
      "execution_count": null,
      "outputs": []
    },
    {
      "cell_type": "markdown",
      "metadata": {
        "id": "6qMezP5QzoAZ"
      },
      "source": [
        "In the above code, the variable `classifier` holds the name of the user selected classifier. Thus,\n",
        "  - If `classifier == 'Support Vector Machine'`, implement SVM classifier\n",
        "  - If `classifier == 'Random Forest Classifier'`, implement Random Forest classifier\n",
        "  - If `classifier == 'Logistic Regression'`, implement Logistic Regression classifier"
      ]
    },
    {
      "cell_type": "markdown",
      "metadata": {
        "id": "SYY1NKDFX1io"
      },
      "source": [
        "---"
      ]
    },
    {
      "cell_type": "markdown",
      "metadata": {
        "id": "qPoeRaU0TcXv"
      },
      "source": [
        "#### Activity 4: Implementing SVM with Hyperparameter Tuning\n",
        "\n",
        "In one of the previous classes, we learned the process of Hyperparameter tuning for SVM. We learned how the values of hyperparameters i.e. `C`, `kernel` and `gamma` are optimised so that the model can make accurate predictions.\n",
        "\n",
        "For our app, we will allow the user to adjust the values of these hyperparameters using various Streamlit widgets.\n",
        "\n",
        "For SVM, the front-end for hyperparameter tuning must look like this:\n",
        "<center><img src=\"https://s3-whjr-v2-prod-bucket.whjr.online/944cbc3c-e309-4f3b-a0a9-19db8a27ddd0.PNG\"/></center>\n",
        "\n",
        "For creating the above user interface, we will use the following Streamlit widgets:\n",
        "\n",
        "1. `st.number_input(label, min_value, max_value):`  Displays a numeric input widget. Here,\n",
        "    - `label`: A short label explaining to the user what this input is for.\n",
        "    - `min_value`: The minimum value. If not specified, then there will be no minimum.\n",
        "    - `max_value`: The maximum value. If not specified, then there will be no maximum.\n",
        "    \n",
        "   We will use this widget to enable the user to input the error rate i.e `C` and `gamma` value.\n",
        "\n",
        "2. `st.radio(label, (options))`: Displays a radio button widget, where the user can select only one option from a set of options. Here,\n",
        "    - `label`: A short label explaining to the user what this radio group is for.\n",
        "    - `(options)`: Labels for the radio options. These options are either provided in the form of a `list` or in the form of a `tuple`.\n",
        "  \n",
        "   We will use this widget to enable the user to choose the desired `kernel` for implementing SVM model.\n",
        "\n",
        "3. `st.button(label)`: Displays a button widget. Here,\n",
        "   - `label` is a short label explaining to the user what this button is for.\n",
        "   We will use this widget to create a button labeled `Classify`.\n",
        "\n",
        "When the user clicks on `Classify` button, following tasks must be performed:\n",
        " - The object of `SVC` class must be created based on the hyperparameter values selected by user.\n",
        " - The model should be trained and accuracy score must be calculated.\n",
        " - The glass type must be predicted based on the feature values selected by user.\n",
        " - The confusion matrix must be plotted.\n",
        "\n",
        "To plot confusion matrix, we will import `plot_confusion_matrix` function from the `sklearn.metrics` module.\n",
        "\n",
        "**Syntax:**\n",
        "```\n",
        "from sklearn.metrics import plot_confusion_matrix\n",
        "plot_confusion_matrix(model, x, y)\n",
        "```\n",
        "Here,\n",
        " - `model` is the fitted classifier object.\n",
        " - `x` is the feature values array.\n",
        " - `y` is the target value array.\n",
        "\n",
        "Follow the steps given below to implement SVM with hyperparameter tuning:\n",
        "\n",
        "- Import `plot_confusion_matrix` function from `sklearn.metrics` module.\n",
        "\n",
        "- If `classifier == 'Support Vector Machine'`\n",
        "\n",
        "   1. Display a subheader with label `\"Model Hyperparameters:\"` in the sidebar.\n",
        "   \n",
        "   2. Accept the value of hyperparameters i.e `C` and `gamma` using `st.sidebar.number_input()` function and `kernel` using `st.sidebar.radio()` function. The default mininum values of `C` and `gamma` should be 1.\n",
        "   \n",
        "   3. Store the current value of these hyperparameters in three different variables `c_value`, `kernel_input` and `gamma_input`.\n",
        "   \n",
        "   4. If the user clicks on `Classify` button created in sidebar:\n",
        "      - Create an object of `SVC` class and store it in a variable, say `svc_model`. Pass the hyperparameter values to its constructor as follows:\n",
        "      ```python\n",
        "        SVC(C = c_value, kernel = kernel_input, gamma = gamma_input)\n",
        "      ```\n",
        "      - Call the `fit()` function on `SVC` object created above with the train set as inputs.\n",
        "      - Determine the accuracy of the model by calling the `score()` function on the test set.\n",
        "      - Call the `prediction()` function and pass the `SVC` object i.e `svc_model` and input widgets values to this function. Store the glass type returned by this function in the `glass_type` variable.\n",
        "      - Print the predicted glass type (`glass_type`) and accuracy score of the model.\n",
        "      - Call `plot_confusion_matrix` function with `svc_model` and test set as inputs. Use `st.pyplot()` after `plot_confusion_matrix()` function, otherwise the confusion matrix will not be plotted.\n",
        "\n",
        "**Note:** Don't run the code shown below. It will throw an error."
      ]
    },
    {
      "cell_type": "code",
      "metadata": {
        "id": "tE2T9zYn4YKO"
      },
      "source": [
        "# S4.1: Implement SVM with hyperparameter tuning\n",
        "# if classifier == 'Support Vector Machine', ask user to input the values of 'C','kernel' and 'gamma'.\n",
        "\n",
        "    # If the user clicks 'Classify' button, perform prediction and display accuracy score and confusion matrix.\n",
        "    # This 'if' statement must be inside the above 'if' statement.\n"
      ],
      "execution_count": null,
      "outputs": []
    },
    {
      "cell_type": "markdown",
      "metadata": {
        "id": "GuRRbkaEunX-"
      },
      "source": [
        "After adding the above Streamlit code and rerunning the entire app, it will look like this:\n",
        "<center>\n",
        "<img src=\"https://s3-whjr-v2-prod-bucket.whjr.online/c7aed461-cfb8-4eaf-b14a-b53c06ae953c.PNG\"/></center>\n",
        "\n",
        "In the above app, the user can adjust the hyperparameter values to achieve the desired accuracy.\n",
        "\n",
        "Similarly, let us implement the Random Forest Classifier where the user can play with different hyperparameter values and predict the label for the new data instances."
      ]
    },
    {
      "cell_type": "markdown",
      "metadata": {
        "id": "xNJaLh8q0gv5"
      },
      "source": [
        "---"
      ]
    },
    {
      "cell_type": "markdown",
      "metadata": {
        "id": "8qWm9trh0iMP"
      },
      "source": [
        "#### Activity 5: Implementing Random Forest Classifier with Hyperparameter Tuning\n",
        "\n",
        "For Random Forest, the front-end for hyperparameter tuning must look like this:\n",
        "\n",
        "<center><img src=\"https://s3-whjr-v2-prod-bucket.whjr.online/dfa2f4ee-b538-4464-ba17-01ca307ee7a6.PNG\"></center>\n",
        "\n",
        "Recall the syntax for creating object of Random forest classifier:\n",
        "\n",
        "`RandomForestClassifier(n_estimators, max_depth, n_jobs = -1)`\n",
        "\n",
        "where,\n",
        "   - `n_estimators` is the number of trees in the forest.\n",
        "   - `max_depth` is the maximum depth of each tree.\n",
        "   - `n_jobs = - 1`. For the time being, ignore the reason behind providing the `n_jobs = -1` parameter as an input.\n",
        "\n",
        "For our app, we will ask the user to input the `n_estimators` and `max_depth` values using `st.number_input()` widget.\n",
        "\n",
        "When the user clicks on `Classify` button, the set of tasks that must be performed is same as that performed for SVM classsifer.\n",
        "\n",
        "Follow the steps given below to implement Random Forest Classifier with hyperparameter tuning:\n",
        "\n",
        "- If `classifier == 'Random Forest Classifier'`,\n",
        "  \n",
        "  1. Display a subheader with label `\"Model Hyperparameters:\"` in the sidebar.\n",
        "  \n",
        "  2. Accept the value of hyperparameters i.e `n_estimators` and `max_depth` using `st.sidebar.number_input()` function. Consider the minimum and maximum values for `n_estimators` to be `100` and `5000` respectively. Consider the minimum and maximum values for `max_depth` to be `1` and `20` respectively.\n",
        "  \n",
        "  3. Store the current value of these hyperparameters in two different variables `n_estimators_input` and `max_depth_input`.\n",
        "  \n",
        "  4. If the user clicks on `Classify` button created in sidebar:\n",
        "     \n",
        "     - Create an object of `RandomForestClassifier` class and store it in a variable, say `rf_clf`. Pass the hyperparameter values to its constructor as follows:\n",
        "      ```python\n",
        "      RandomForestClassifier(n_estimators = n_estimators_input, max_depth=max_depth_input, n_jobs = -1)\n",
        "      ```\n",
        "     - Call the `fit()` function on `RandomForestClassifier` object created above with the train set as inputs.\n",
        "     - Determine the accuracy of the model by calling the `score()` function on the test set.\n",
        "     - Call the `prediction()` function and pass the `RandomForestClassifier` object i.e `rf_clf` and input widgets values to this function. Store the glass type returned by this function in the `glass_type` variable.\n",
        "     - Print the predicted glass type (`glass_type`) and accuracy score of the model.\n",
        "     - Call `plot_confusion_matrix` function with `rfc_model` and test set as inputs. Use `st.pyplot()` after `plot_confusion_matrix()` function.\n",
        "\n",
        "**Note:** Don't run the code shown below. It will throw an error."
      ]
    },
    {
      "cell_type": "code",
      "metadata": {
        "id": "3shme4mB4gMR"
      },
      "source": [
        "# S5.1: Implement Random Forest Classifier with hyperparameter tuning.\n",
        "# if classifier == 'Random Forest Classifier', ask user to input the values of 'n_estimators' and 'max_depth'.\n",
        "\n",
        "    # If the user clicks 'Classify' button, perform prediction and display accuracy score and confusion matrix.\n",
        "    # This 'if' statement must be inside the above 'if' statement.\n"
      ],
      "execution_count": null,
      "outputs": []
    },
    {
      "cell_type": "markdown",
      "metadata": {
        "id": "7fnMkWhTNXW4"
      },
      "source": [
        "After adding the above Streamlit code and rerunning the entire app, it will look like this:\n",
        "<center><img src=\"https://s3-whjr-v2-prod-bucket.whjr.online/abe0cc6d-364f-4034-bf3d-97d6a540effa.PNG\"></center>\n",
        "\n",
        "In the above app, the user can adjust the hyperparameter values to achieve the desired accuracy.\n",
        "\n",
        "\n",
        "**Note to the Teacher:**\n",
        "You can download the entire `glass_type_app.py` file from the link given below:\n",
        "\n",
        "https://drive.google.com/file/d/15LtVOA6S5K3tahGitpcuZ71YC6y1NDek\n",
        "\n",
        "Let's stop here. You will learn to add Logistic Regression classifier as well in the next class. Further, you can host the web app on Streamlit Sharing or Heroku using the process you learnt in the previous classes."
      ]
    },
    {
      "cell_type": "markdown",
      "metadata": {
        "id": "b_skN5wcHosw"
      },
      "source": [
        "---"
      ]
    },
    {
      "cell_type": "markdown",
      "metadata": {
        "id": "nLL1IWlpjMXB"
      },
      "source": [
        "### **Project**\n",
        "You can now attempt the **Applied Tech. Project 95 - Streamlit Widgets II** on your own.\n",
        "\n",
        "**Applied Tech. Project 95 - Streamlit Widgets II**: https://colab.research.google.com/drive/1LyiJiGzlhTQLskXk9E-ZMWejk50NM9aL"
      ]
    },
    {
      "cell_type": "markdown",
      "metadata": {
        "id": "ZY3JknZ-jTlY"
      },
      "source": [
        "---"
      ]
    },
    {
      "cell_type": "code",
      "source": [
        "# S1.1: Remove the multiselect widgets for histograms and box plots and add a new multiselect widget to choose a type of visualisation.\n",
        "# Sidebar subheader for scatter plot\n",
        "st.sidebar.subheader(\"Scatter Plot\")\n",
        "\n",
        "# Remove deprecation warning.\n",
        "st.set_option('deprecation.showPyplotGlobalUse', False)\n",
        "\n",
        "# Choosing x-axis values for scatter plots.\n",
        "features_list = st.sidebar.multiselect(\"Select the x-axis values:\",\n",
        "                                        ('RI', 'Na', 'Mg', 'Al', 'Si', 'K', 'Ca', 'Ba', 'Fe'))\n",
        "# Creating scatter plots.\n",
        "for feature in features_list:\n",
        "    st.subheader(f\"Scatter plot between {feature} and GlassType\")\n",
        "    plt.figure(figsize = (12, 6))\n",
        "    sns.scatterplot(x = feature, y = 'GlassType', data = glass_df)\n",
        "    st.pyplot()\n",
        "\n",
        "# Remove the code blocks for histogram and box plots.\n",
        "\n",
        "# Add a subheader in the sidebar with label \"Visualisation Selector\"\n",
        "st.sidebar.subheader(\"Visualisation Selector\")\n",
        "\n",
        "# Add a multiselect in the sidebar with label 'Select the Charts/Plots:'\n",
        "# and with 6 options passed as a tuple ('Histogram', 'Box Plot', 'Count Plot', 'Pie Chart', 'Correlation Heatmap', 'Pair Plot').\n",
        "# Store the current value of this widget in a variable 'plot_types'.\n",
        "plot_types = st.sidebar.multiselect(\"Select the charts or plots:\",\n",
        "                                    ('Histogram', 'Box Plot', 'Count Plot', 'Pie Chart', 'Correlation Heatmap', 'Pair Plot'))\n",
        "\n",
        "\n",
        "if 'Histogram' in plot_types:\n",
        "    st.subheader(\"Histogram\")\n",
        "    columns = st.sidebar.selectbox(\"Select the column to create its histogram\",\n",
        "                                  ('RI', 'Na', 'Mg', 'Al', 'Si', 'K', 'Ca', 'Ba', 'Fe'))\n",
        "    # Note: Histogram is generally created for continous values not for discrete values.\n",
        "    plt.figure(figsize = (12, 6))\n",
        "    plt.title(f\"Histogram for {columns}\")\n",
        "    plt.hist(glass_df[columns], bins = 'sturges', edgecolor = 'black')\n",
        "    st.pyplot()\n",
        "if 'Box Plot' in plot_types:\n",
        "    st.subheader(\"Box Plot\")\n",
        "    columns = st.sidebar.selectbox(\"Select the column to create its box plot\",\n",
        "                                  ('RI', 'Na', 'Mg', 'Al', 'Si', 'K', 'Ca', 'Ba', 'Fe', 'GlassType'))\n",
        "    plt.figure(figsize = (12, 2))\n",
        "    plt.title(f\"Box plot for {columns}\")\n",
        "    sns.boxplot(glass_df[columns])\n",
        "    st.pyplot()\n",
        "if 'Count Plot' in plot_types:\n",
        "    st.subheader(\"Count plot\")\n",
        "    sns.countplot(x = 'GlassType', data = glass_df)\n",
        "    st.pyplot()\n",
        "\n",
        "# Create pie chart using the 'matplotlib.pyplot' module and the 'st.pyplot()' function.\n",
        "if 'Pie Chart' in plot_types:\n",
        "    st.subheader(\"Pie Chart\")\n",
        "    pie_data = glass_df['GlassType'].value_counts()\n",
        "    plt.figure(figsize = (5, 5))\n",
        "    plt.pie(pie_data, labels = pie_data.index, autopct = '%1.2f%%',\n",
        "            startangle = 30, explode = np.linspace(.06, .16, 6))\n",
        "    st.pyplot()\n",
        "\n",
        "# Display correlation heatmap using the 'seaborn' module and the 'st.pyplot()' function.\n",
        "if 'Correlation Heatmap' in plot_types:\n",
        "    st.subheader(\"Correlation Heatmap\")\n",
        "    plt.figure(figsize = (10, 6))\n",
        "    ax = sns.heatmap(glass_df.corr(), annot = True) # Creating an object of seaborn axis and storing it in 'ax' variable\n",
        "    bottom, top = ax.get_ylim() # Getting the top and bottom margin limits.\n",
        "    ax.set_ylim(bottom + 0.5, top - 0.5) # Increasing the bottom and decreasing the top margins respectively.\n",
        "    st.pyplot()\n",
        "\n",
        "# Display pair plots using the the 'seaborn' module and the 'st.pyplot()' function.\n",
        "if 'Pair Plot' in plot_types:\n",
        "    st.subheader(\"Pair Plots\")\n",
        "    plt.figure(figsize = (15, 15))\n",
        "    sns.pairplot(glass_df)\n",
        "    st.pyplot()\n",
        "\n",
        "st.sidebar.subheader(\"Select your values:\")\n",
        "ri = st.sidebar.slider(\"Input Ri\", float(glass_df['RI'].min()), float(glass_df['RI'].max()))\n",
        "na = st.sidebar.slider(\"Input Na\", float(glass_df['Na'].min()), float(glass_df['Na'].max()))\n",
        "mg = st.sidebar.slider(\"Input Mg\", float(glass_df['Mg'].min()), float(glass_df['Mg'].max()))\n",
        "al = st.sidebar.slider(\"Input Al\", float(glass_df['Al'].min()), float(glass_df['Al'].max()))\n",
        "si = st.sidebar.slider(\"Input Si\", float(glass_df['Si'].min()), float(glass_df['Si'].max()))\n",
        "k = st.sidebar.slider(\"Input K\", float(glass_df['K'].min()), float(glass_df['K'].max()))\n",
        "ca = st.sidebar.slider(\"Input Ca\", float(glass_df['Ca'].min()), float(glass_df['Ca'].max()))\n",
        "ba = st.sidebar.slider(\"Input Ba\", float(glass_df['Ba'].min()), float(glass_df['Ba'].max()))\n",
        "fe = st.sidebar.slider(\"Input Fe\", float(glass_df['Fe'].min()), float(glass_df['Fe'].max()))"
      ],
      "metadata": {
        "id": "CfpTArG2OI3X"
      },
      "execution_count": null,
      "outputs": []
    },
    {
      "cell_type": "code",
      "source": [],
      "metadata": {
        "id": "cntdNpJyOm-N"
      },
      "execution_count": null,
      "outputs": []
    },
    {
      "cell_type": "code",
      "source": [],
      "metadata": {
        "id": "fTD1F4UrOm7H"
      },
      "execution_count": null,
      "outputs": []
    },
    {
      "cell_type": "code",
      "source": [],
      "metadata": {
        "id": "78mPTyd3Om5H"
      },
      "execution_count": null,
      "outputs": []
    },
    {
      "cell_type": "code",
      "source": [
        "# S2.1: Add 9 slider widgets for accepting user input for 9 features.\n",
        "st.sidebar.subheader(\"Select your values:\")\n",
        "ri = st.sidebar.slider(\"Input Ri\", float(glass_df['RI'].min()), float(glass_df['RI'].max()))\n",
        "na = st.sidebar.slider(\"Input Na\", float(glass_df['Na'].min()), float(glass_df['Na'].max()))\n",
        "mg = st.sidebar.slider(\"Input Mg\", float(glass_df['Mg'].min()), float(glass_df['Mg'].max()))\n",
        "al = st.sidebar.slider(\"Input Al\", float(glass_df['Al'].min()), float(glass_df['Al'].max()))\n",
        "si = st.sidebar.slider(\"Input Si\", float(glass_df['Si'].min()), float(glass_df['Si'].max()))\n",
        "k = st.sidebar.slider(\"Input K\", float(glass_df['K'].min()), float(glass_df['K'].max()))\n",
        "ca = st.sidebar.slider(\"Input Ca\", float(glass_df['Ca'].min()), float(glass_df['Ca'].max()))\n",
        "ba = st.sidebar.slider(\"Input Ba\", float(glass_df['Ba'].min()), float(glass_df['Ba'].max()))\n",
        "fe = st.sidebar.slider(\"Input Fe\", float(glass_df['Fe'].min()), float(glass_df['Fe'].max()))\n",
        "\n",
        "\n",
        "st.sidebar.subheader(\"Choose Classifier\")\n",
        "\n",
        "# Add a selectbox in the sidebar with label 'Classifier'.\n",
        "# and with 2 options passed as a tuple ('Support Vector Machine', 'Random Forest Classifier').\n",
        "# Store the current value of this slider in a variable 'classifier'.\n",
        "\n",
        "classifier = st.sidebar.selectbox(\"Classifier\",\n",
        "                                 ('Support Vector Machine', 'Random Forest Classifier', 'Logistic Regression'))\n",
        "\n",
        "# S4.1: Implement SVM with hyperparameter tuning\n",
        "# Import 'plot_confusion_matrix' module.\n",
        "from sklearn.metrics import plot_confusion_matrix\n",
        "\n",
        "# if classifier =='Support Vector Machine', ask user to input the values of 'C','kernel' and 'gamma'.\n",
        "if classifier == 'Support Vector Machine':\n",
        "    st.sidebar.subheader(\"Model Hyperparameters\")\n",
        "    c_value = st.sidebar.number_input(\"C (Error Rate)\", 1, 100, step = 1)\n",
        "    kernel_input = st.sidebar.radio(\"Kernel\", (\"linear\", \"rbf\", \"poly\"))\n",
        "    gamma_input = st. sidebar.number_input(\"Gamma\", 1, 100, step = 1)\n",
        "\n",
        "    # If the user clicks 'Classify' button, perform prediction and display accuracy score and confusion matrix.\n",
        "    # This 'if' statement must be inside the above 'if' statement.\n",
        "    if st.sidebar.button('Classify'):\n",
        "        st.subheader(\"Support Vector Machine\")\n",
        "        svc_model=SVC(C = c_value, kernel = kernel_input, gamma = gamma_input)\n",
        "        svc_model.fit(X_train,y_train)\n",
        "        y_pred = svc_model.predict(X_test)\n",
        "        accuracy = svc_model.score(X_test, y_test)\n",
        "        glass_type = prediction(svc_model, ri, na, mg, al, si, k, ca, ba, fe)\n",
        "        st.write(\"The Type of glass predicted is:\", glass_type)\n",
        "        st.write(\"Accuracy\", accuracy.round(2))\n",
        "        plot_confusion_matrix(svc_model, X_test, y_test)\n",
        "        st.pyplot()\n",
        "    # S5.1: Implement Random Forest Classifier with hyperparameter tuning.\n",
        "    # if classifier == 'Random Forest Classifier', ask user to input the values of 'n_estimators' and 'max_depth'.\n",
        "    if classifier =='Random Forest Classifier':\n",
        "        st.sidebar.subheader(\"Model Hyperparameters\")\n",
        "        n_estimators_input = st.sidebar.number_input(\"Number of trees in the forest\", 100, 5000, step = 10)\n",
        "        max_depth_input = st.sidebar.number_input(\"Maximum depth of the tree\", 1, 100, step = 1)\n",
        "\n",
        "        # If the user clicks 'Classify' button, perform prediction and display accuracy score and confusion matrix.\n",
        "        # This 'if' statement must be inside the above 'if' statement.\n",
        "        if st.sidebar.button('Classify'):\n",
        "            st.subheader(\"Random Forest Classifier\")\n",
        "            rf_clf= RandomForestClassifier(n_estimators = n_estimators_input, max_depth = max_depth_input, n_jobs = -1)\n",
        "            rf_clf.fit(X_train,y_train)\n",
        "            accuracy = rf_clf.score(X_test, y_test)\n",
        "            glass_type = prediction(rf_clf, ri, na, mg, al, si, k, ca, ba, fe)\n",
        "            st.write(\"The Type of glass predicted is:\", glass_type)\n",
        "            st.write(\"Accuracy\", accuracy.round(2))\n",
        "            plot_confusion_matrix(rf_clf, X_test, y_test)\n",
        "            st.pyplot()"
      ],
      "metadata": {
        "id": "jFgB7aI1Om2w"
      },
      "execution_count": null,
      "outputs": []
    }
  ]
}