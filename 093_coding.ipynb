{
  "nbformat": 4,
  "nbformat_minor": 0,
  "metadata": {
    "colab": {
      "provenance": [],
      "include_colab_link": true
    },
    "kernelspec": {
      "name": "python3",
      "display_name": "Python 3"
    },
    "language_info": {
      "name": "python"
    }
  },
  "cells": [
    {
      "cell_type": "markdown",
      "metadata": {
        "id": "view-in-github",
        "colab_type": "text"
      },
      "source": [
        "<a href=\"https://colab.research.google.com/github/twisha-k/Python_notes/blob/main/93_coding.ipynb\" target=\"_parent\"><img src=\"https://colab.research.google.com/assets/colab-badge.svg\" alt=\"Open In Colab\"/></a>"
      ]
    },
    {
      "cell_type": "markdown",
      "metadata": {
        "id": "2zKfD5teVlHx"
      },
      "source": [
        "# Lesson 93: Streamlit Framework II"
      ]
    },
    {
      "cell_type": "markdown",
      "metadata": {
        "id": "wdwT65byXA4A"
      },
      "source": [
        "### Teacher-Student Activities\n",
        "\n",
        "In the previous class, we built a simple machine learning app using the Streamlit framework. We also requested an invite link from the Streamlit community to host a Streamlit app on one of its servers. In this class, you will learn to add more functionality to your machine learning web app and host it on a Heroku server.\n",
        "\n",
        "Let's quickly go through the previous class(es) activities and continue this lesson from **Activity 1: Streamlit Web App Deployment on Heroku** section."
      ]
    },
    {
      "cell_type": "markdown",
      "metadata": {
        "id": "N2y29RJxvwn5"
      },
      "source": [
        "---"
      ]
    },
    {
      "cell_type": "markdown",
      "metadata": {
        "id": "_WMGJd1Jcb6z"
      },
      "source": [
        "#### Iris Species Classification Web App using Streamlit\n",
        "\n",
        "Streamlit is extremely useful when you want to showcase your data analytics skills by wrapping your machine learning model into a web app.\n",
        "\n",
        "**Step 1:** First create a python file `iris_app.py` in Sublime editor and save it in the `Python_scripts` folder created earlier. Copy the code given below in the `iris_app.py` file. You are already aware of this code which creates an iris classification model using SVM *(learnt in  **Support Vector Machines - Introduction**)*.\n",
        "\n",
        "**Note:** Do not run the code shown below. It will throw an error.\n"
      ]
    },
    {
      "cell_type": "code",
      "metadata": {
        "id": "NYvpjnI8VC7G"
      },
      "source": [
        "# Importing the necessary libraries.\n",
        "import numpy as np\n",
        "import pandas as pd\n",
        "import matplotlib.pyplot as plt\n",
        "import seaborn as sns\n",
        "import streamlit as st\n",
        "from sklearn.model_selection import train_test_split\n",
        "from sklearn.svm import SVC\n",
        "\n",
        "# Loading the dataset.\n",
        "iris_df = pd.read_csv(\"iris-species.csv\")\n",
        "\n",
        "# Adding a column in the Iris DataFrame to resemble the non-numeric 'Species' column as numeric using the 'map()' function.\n",
        "# Creating the numeric target column 'Label' to 'iris_df' using the 'map()' function.\n",
        "iris_df['Label'] = iris_df['Species'].map({'Iris-setosa': 0, 'Iris-virginica': 1, 'Iris-versicolor':2})\n",
        "\n",
        "# Creating a model for Support Vector classification to classify the flower types into labels '0', '1', and '2'.\n",
        "\n",
        "# Creating features and target DataFrames.\n",
        "X = iris_df[['SepalLengthCm','SepalWidthCm', 'PetalLengthCm', 'PetalWidthCm']]\n",
        "y = iris_df['Label']\n",
        "\n",
        "# Splitting the data into training and testing sets.\n",
        "X_train, X_test, y_train, y_test = train_test_split(X, y, test_size = 0.33, random_state = 42)\n",
        "\n",
        "# Creating the SVC model and storing the accuracy score in a variable 'score'.\n",
        "svc_model = SVC(kernel = 'linear')\n",
        "svc_model.fit(X_train, y_train)\n",
        "score = svc_model.score(X_train, y_train)"
      ],
      "execution_count": null,
      "outputs": []
    },
    {
      "cell_type": "markdown",
      "metadata": {
        "id": "SZKqqB49x-gs"
      },
      "source": [
        "**Note:** You have to store the `iris-species.csv` file in your computer in the same folder that contains the above Python script. You can download the `iris-species.csv` file from the link provided below.\n",
        "\n",
        "https://s3-student-datasets-bucket.whjr.online/whitehat-ds-datasets/iris-species.csv\n",
        "\n",
        "**Dataset Credits:** https://archive.ics.uci.edu/ml/datasets/iris  \n",
        "\n",
        "**Dataset Creator:** R.A. Fisher\n",
        "\n",
        "**Citation:**\n",
        "```\n",
        "Dua, D., & Graff, C.. (2017). UCI Machine Learning Repository.\n",
        "```\n",
        "\n",
        "In the above code,\n",
        "\n",
        "- We built and trained an SVM classification model to classify species of the iris flower.\n",
        "\n",
        "- We have also imported `streamlit` as we  will add streamlit widgets in our app.\n",
        "\n",
        "- We saved the accuracy score of our model in a variable, say `score`, to display it using a Streamlit widget.\n",
        "\n",
        "<br>\n",
        "\n",
        "**Step 2:** Let us add a function, say `prediction()`, that will predict the species of a flower for every unique combination of `SepalLength`, `SepalWidth`, `PetalLength` and `PetalWidth` values. Follow the steps given below to create this function:\n",
        "\n",
        "1. The `prediction()` function takes 4 inputs:\n",
        "  - `sepal_length`\n",
        "  - `sepal_width`\n",
        "  - `petal_length`\n",
        "  - `petal_width`\n",
        "\n",
        "2. Inside the `prediction()` function:\n",
        "\n",
        "  - Call the `predict()` function on the SVC object. This function will predict the species type based on the values of the features variables.\n",
        "   \n",
        "    **Note:** Pass the values of all the feature variables to the `predict()` function in the form of a 2D array as follows:\n",
        "\n",
        "    `model.predict([[SepalLength, SepalWidth, PetalLength, PetalWidth]])`\n",
        "\n",
        "  - The `predict()` function returns an array containing a single-digit integer value that would be either 0, 1 or 2 where\n",
        "    - `0` denotes `'Iris-setosa'`\n",
        "    - `1` denotes `'Iris-virginica'`\n",
        "    - `2` denotes `'Iris-versicolor'`\n",
        "   \n",
        "  - Extract the integer value using the indexing method i.e. `array_name[0]`.\n",
        "\n",
        "  - Return the name of the species by checking the value of the `species` variable i.e.,\n",
        "  \n",
        "    - If `species == 0`, then return `\"Iris-setosa\"`\n",
        "  \n",
        "    - Else if `species == 1`, then return `\"Iris-virginica\"`\n",
        "  \n",
        "    - Else return `\"Iris-versicolor\"`\n",
        "\n",
        "    Recall that we had mapped the species name to numeric value using the `map()` function as `'Iris-setosa': 0, 'Iris-virginica': 1, 'Iris-versicolor': 2`.\n",
        "\n",
        "**Note:** Do not run the code shown below. It will throw an error."
      ]
    },
    {
      "cell_type": "code",
      "metadata": {
        "id": "oRjHvvHwjCWN"
      },
      "source": [
        "# Importing the necessary libraries.\n",
        "import numpy as np\n",
        "import pandas as pd\n",
        "import matplotlib.pyplot as plt\n",
        "import seaborn as sns\n",
        "import streamlit as st\n",
        "from sklearn.model_selection import train_test_split\n",
        "from sklearn.svm import SVC\n",
        "\n",
        "# Loading the dataset.\n",
        "iris_df = pd.read_csv(\"iris-species.csv\")\n",
        "\n",
        "# Adding a column in the Iris DataFrame to resemble the non-numeric 'Species' column as numeric using the 'map()' function.\n",
        "# Creating the numeric target column 'Label' to 'iris_df' using the 'map()'.\n",
        "iris_df['Label'] = iris_df['Species'].map({'Iris-setosa': 0, 'Iris-virginica': 1, 'Iris-versicolor':2})\n",
        "\n",
        "# Creating a model for Support Vector classification to classify the flower types into labels '0', '1', and '2'.\n",
        "\n",
        "# Creating features and target DataFrames.\n",
        "X = iris_df[['SepalLengthCm','SepalWidthCm', 'PetalLengthCm', 'PetalWidthCm']]\n",
        "y = iris_df['Label']\n",
        "\n",
        "# Splitting the data into train and test sets.\n",
        "X_train, X_test, y_train, y_test = train_test_split(X, y, test_size = 0.33, random_state = 42)\n",
        "\n",
        "# Creating the SVC model and storing the accuracy score in a variable 'score'.\n",
        "svc_model = SVC(kernel = 'linear')\n",
        "svc_model.fit(X_train, y_train)\n",
        "score = svc_model.score(X_train, y_train)\n",
        "\n",
        "# Create a function that accepts 'sepal_length', 'sepal_width', 'petal_length' and 'petal_width' as inputs and returns the species name.\n",
        "@st.cache()\n",
        "def prediction(sepal_length, sepal_width, petal_length, petal_width):\n",
        "  species = svc_model.predict([[sepal_length, sepal_width, petal_length, petal_width]])\n",
        "  species = species[0]\n",
        "  if species == 0:\n",
        "    return \"Iris-setosa\"\n",
        "  elif species == 1:\n",
        "    return \"Iris-virginica\"\n",
        "  else:\n",
        "    return \"Iris-versicolor\""
      ],
      "execution_count": null,
      "outputs": []
    },
    {
      "cell_type": "markdown",
      "metadata": {
        "id": "5sauM7_GmZrm"
      },
      "source": [
        "In the above code,\n",
        "\n",
        "- The `predict()` function is called on an SVC model, i.e., `svc_model`. This function accepts a 2D array as an input. Thus, the inputs are passed using two square brackets `[[]]`.\n",
        "\n",
        "- The `predict()` function will return an array containing a single-digit integer value which is extracted using the indexing method.\n",
        "\n",
        "- We return an Iris flower species name based on the single-digit integer value returned by the `predict()` function.\n",
        "\n",
        "- We have also marked the `prediction()` function with Streamlit decorator `@st.cache()`. This decorator ensures that the app loads faster if there are not many changes in the inputs passed to the function, thereby improving the performance of the app.\n",
        "\n",
        "**Note:** We will learn about decorators whenever we encounter them from time to time."
      ]
    },
    {
      "cell_type": "markdown",
      "metadata": {
        "id": "0pm6TKkuAEcH"
      },
      "source": [
        "**Step 3:** Next step is to add some Streamlit code to our python file.\n",
        "\n",
        "Now, our next aim is to create the following look of our Streamlit web app:\n",
        "\n",
        "<center><img src=\"https://i.imgur.com/gPHAXWl.png\" width=600></center>\n",
        "\n",
        "To get the above output, we will use the following Streamlit widgets to create this app:\n",
        "\n",
        "1. **`st.title(label)`:** To add the title `\"Iris Flower Species Prediction App\"`\n",
        "\n",
        "2. **`st.slider(label, min_value, max_value)`:** To create four sliders so that the user can dynamically choose the sepal length, sepal width, petal length and petal width of a flower. The minimum and maximum values for these sliders would be `0.0` and `10.0` respectively.\n",
        "\n",
        "3. **`st.button(label)`:** To create the `Predict` button.\n",
        "\n",
        "4. **`st.write(some_text)`:**  To display the model's predicted species and accuracy score with the click of the `Predict` button.\n",
        "\n",
        "   <img src=\"https://i.imgur.com/4MNNcYi.png\" width=660>\n",
        "\n",
        "Perform the following tasks in Sublime editor below the `prediction()` function:\n",
        "\n",
        "1. Add a title to the app using the `st.title()` function.\n",
        "\n",
        "2. Add four sliders for sepal length, sepal width, petal length and petal width. Store the current value of these slider widgets in four different variables.\n",
        "\n",
        "3. If the user clicks on the `Predict` button, call the `prediction()` function and pass the slider widgets values to this function. Store the species name returned by the `prediction()` function in a variable.\n",
        "\n",
        "4. Print the predicted species name and accuracy score of the model using `st.write()` function.\n",
        "\n",
        "**Note:** Be careful with the indentation. The code in the following code cell must be outside the `prediction()` function.\n"
      ]
    },
    {
      "cell_type": "code",
      "metadata": {
        "id": "M2X0k4oImp-A"
      },
      "source": [
        "# Add title widget\n",
        "st.title(\"Iris Flower Species Prediction App\")\n",
        "\n",
        "# Add 4 sliders and store the value returned by them in 4 separate variables.\n",
        "s_len = st.slider(\"Sepal Length\", 0.0, 10.0)\n",
        "s_wid = st.slider(\"Sepal Width\", 0.0, 10.0)\n",
        "p_len = st.slider(\"Petal Length\", 0.0, 10.0)\n",
        "p_wid = st.slider(\"Petal Width\", 0.0, 10.0)\n",
        "\n",
        "# When 'Predict' button is pushed, the 'prediction()' function must be called\n",
        "# and the value returned by it must be stored in a variable, say 'species_type'.\n",
        "# Print the values of 'species_type' and 'score' variables using the 'st.text()' function.\n",
        "if st.button(\"Predict\"):\n",
        "\tspecies_type = prediction(s_len, s_wid, p_len, p_wid)\n",
        "\tst.write(\"Species predicted:\", species_type)\n",
        "\tst.write(\"Accuracy score of this model is:\", score)"
      ],
      "execution_count": null,
      "outputs": []
    },
    {
      "cell_type": "markdown",
      "metadata": {
        "id": "ja3qMqA2FNO7"
      },
      "source": [
        "**Notes to the Teacher:** The Python file, say `iris_app.py`, for creating a Streamlit web app will comprise all the above 3 code cells. You can download the Python file  and the required setup files from the link given below:\n",
        "\n",
        "https://drive.google.com/drive/folders/1A8Ri0hb4b-qbhTo2P2LKw-eEJFeSI1xE\n",
        "\n",
        "The `iris_app.py` file is saved as `iris_species_clf.py` in the above Google drive."
      ]
    },
    {
      "cell_type": "markdown",
      "metadata": {
        "id": "_WkdLav-Kaj5"
      },
      "source": [
        "---"
      ]
    },
    {
      "cell_type": "markdown",
      "metadata": {
        "id": "SnEE5WJkKbVz"
      },
      "source": [
        "#### Running the Iris App\n",
        "\n",
        "Run the `iris_app.py` file on your Mac or Windows machine using the following command:\n",
        "\n",
        "> `streamlit run iris_app.py`\n",
        "\n",
        "<br>\n",
        "\n",
        "<img src=\"https://s3-whjr-v2-prod-bucket.whjr.online/f1c8cc83-d097-4a80-b279-15ea48f21626.PNG\">\n",
        "\n"
      ]
    },
    {
      "cell_type": "markdown",
      "metadata": {
        "id": "ZzxvtcFpZWwy"
      },
      "source": [
        "---"
      ]
    },
    {
      "cell_type": "markdown",
      "metadata": {
        "id": "mjaN8dLCb24o"
      },
      "source": [
        "#### Activity 1: Streamlit Web App Deployment on Heroku\n",
        "\n",
        "Until you get an invite from Streamlit, you can always deploy your web app on a Heroku server to publish your machine model as a website. To deploy your Streamlit web app on a Heroku server, you need to go through the following steps:\n",
        "\n",
        "**Step 1: GitHub Account and Repository Creation**\n",
        "\n",
        "- First, you need to create a GitHub account so that you can create a GitHub repository that can store all your Streamlit web app files. Refer to the video provided below until the **timestamp 2:57** to create a GitHub account.\n",
        "\n",
        "  https://www.youtube.com/watch?v=EO8o6avuULE\n",
        "\n",
        "- Next, you need to create a GitHub repository (think of it as some folder on your computer) to store your Streamlit web app files. Refer to the video provided below to create a GitHub repository to create a Streamlit web app for the Iris species classification and deploy the app on the Heroku server.\n",
        "\n",
        "  https://youtu.be/kEJ3OVeaf-g\n",
        "\n",
        "**Step 2: Heroku Account Creation and Deployment**\n",
        "\n",
        "- Next, you need to create a free-tier Heroku account to deploy your Streamlit web app through your GitHub account. Refer to the following video to create a Heroku account and deploy a Streamlit web app on a Heroku server for free:\n",
        "\n",
        "  https://youtu.be/oBA5I__AfmY\n",
        "\n",
        "  **Note:** You cannot deploy more than 5 unique web apps through your free-tier Heroku account."
      ]
    },
    {
      "cell_type": "markdown",
      "metadata": {
        "id": "InR1dP5Zb2a_"
      },
      "source": [
        "---"
      ]
    },
    {
      "cell_type": "markdown",
      "metadata": {
        "id": "ADSja68LLPgc"
      },
      "source": [
        "#### Activity 2: Improved Iris App\n",
        "\n",
        "The current Iris flower species prediction app uses an SVM model. However, there may be a requirement to implement your app with different machine learning algorithms like Logistic Regression, Random Forest Classifier etc and compare the performance of these models.\n",
        "\n",
        "We will now implement the Iris app with two more algorithms. The user can choose which algorithm is to be implemented using a select box as shown in the image below:\n",
        "\n",
        "<center><img src=\"https://s3-whjr-v2-prod-bucket.whjr.online/89ed7199-3582-45f4-a59f-cbe829afbb2b.PNG\"></center>\n",
        "\n",
        "Let us start creating the improved version of this app.\n",
        "\n",
        "**Step 1:** Create a new python file with the name `improved_iris_app.py` in Sublime editor and save it in the `Python_scripts` folder created earlier. Copy the code given below in the`improved_iris_app.py` file.\n",
        "\n",
        "In this code, we have added Logistic Regression and Random Forest Classifier along with SVM.\n",
        "\n",
        "**Note:** Don't run the code shown below. It will throw an error."
      ]
    },
    {
      "cell_type": "code",
      "metadata": {
        "id": "A-_B6zy3Pdy7"
      },
      "source": [
        "# S2.1: Open Sublime text editor, create a new Python file, copy the following code in it and save it as 'improved_iris_app.py'.\n",
        "# Importing the necessary libraries.\n",
        "import numpy as np\n",
        "import pandas as pd\n",
        "import matplotlib.pyplot as plt\n",
        "import seaborn as sns\n",
        "import streamlit as st\n",
        "from sklearn.model_selection import train_test_split\n",
        "from sklearn.svm import SVC\n",
        "from sklearn.linear_model import LogisticRegression\n",
        "from sklearn.ensemble import RandomForestClassifier\n",
        "\n",
        "# Loading the dataset.\n",
        "iris_df = pd.read_csv(\"iris-species.csv\")\n",
        "\n",
        "# Adding a column in the Iris DataFrame to resemble the non-numeric 'Species' column as numeric using the 'map()' function.\n",
        "# Creating the numeric target column 'Label' to 'iris_df' using the 'map()' function.\n",
        "iris_df['Label'] = iris_df['Species'].map({'Iris-setosa': 0, 'Iris-virginica': 1, 'Iris-versicolor':2})\n",
        "\n",
        "# Creating features and target DataFrames.\n",
        "X = iris_df[['SepalLengthCm','SepalWidthCm', 'PetalLengthCm', 'PetalWidthCm']]\n",
        "y = iris_df['Label']\n",
        "\n",
        "# Splitting the dataset into train and test sets.\n",
        "X_train, X_test, y_train, y_test = train_test_split(X, y, test_size = 0.33, random_state = 42)\n",
        "\n",
        "# Creating an SVC model.\n",
        "svc_model = SVC(kernel = 'linear')\n",
        "svc_model.fit(X_train, y_train)\n",
        "\n",
        "# Creating a Logistic Regression model.\n",
        "rf_clf = RandomForestClassifier(n_jobs = -1, n_estimators = 100)\n",
        "rf_clf.fit(X_train, y_train)\n",
        "\n",
        "# Creating a Random Forest Classifier model.\n",
        "log_reg = LogisticRegression(n_jobs = -1)\n",
        "log_reg.fit(X_train, y_train)"
      ],
      "execution_count": null,
      "outputs": []
    },
    {
      "cell_type": "markdown",
      "metadata": {
        "id": "36TiY3btQN0M"
      },
      "source": [
        "The above code is similar to that of `iris_app.py` except that this code trains the Iris dataset with three algorithms and builds the following three models:\n",
        "\n",
        "- `svc_model` (object of SVM)\n",
        "- `rf_clf` (object of Random Forest Classifier)\n",
        "- `log_reg` (object of Logistic Regression)\n",
        "\n",
        "<br>\n",
        "\n",
        "**Step 2:** Next step is to modify the `prediction()` function. In addition to the previous four parameters, this function will also accept the object of the algorithm selected by a user from the select box.\n",
        "\n",
        "Follow the steps given below to create this function:\n",
        "1. The `prediction()` function takes 5 inputs:\n",
        "   - `model` (It holds the algorithm chosen by a user)\n",
        "   - `sepal_length`\n",
        "   - `sepal_width`\n",
        "   - `petal_length`\n",
        "   - `petal_width`\n",
        "\n",
        "2. Inside the `prediction()` function:\n",
        "\n",
        "  - Call the `predict()` function on the `model` object. This function will predict the species type based on the values of the features variables.\n",
        "   \n",
        "    **Note:** Pass the values of all the feature variables to the `predict()` function in the form of a 2D array as follows:\n",
        "\n",
        "    `model.predict([[sepal_length, sepal_width, petal_length, petal_width]])`\n",
        "\n",
        "  - The `predict()` function returns an array containing a single-digit integer value that would be either 0, 1, or 2.\n",
        "  \n",
        "      Where,\n",
        "    - `0` denotes `'Iris-setosa'`\n",
        "    - `1` denotes `'Iris-virginica'`\n",
        "    - `2` denotes `'Iris-versicolor'`\n",
        "   \n",
        "  - Extract the integer value using the indexing method i.e. `array_name[0]`.\n",
        "\n",
        "  - Return the name of the species by checking the value of the `species` variable i.e.,\n",
        "  \n",
        "    - If `species == 0`, then return `\"Iris-setosa\"`\n",
        "  \n",
        "    - Else if `species == 1`, then return `\"Iris-virginica\"`\n",
        "  \n",
        "    - Else return `\"Iris-versicolor\"`\n",
        "\n",
        "**Note:** Do not run the code shown below. It will throw an error.`\n",
        "\n"
      ]
    },
    {
      "cell_type": "code",
      "metadata": {
        "id": "-tql8RGKVHpF"
      },
      "source": [
        "# S2.2: Copy the following code in the 'improved_iris_app.py' file after the previous code.\n",
        "# Create a function that accepts an ML mode object say 'model' and the four features of an Iris flower as inputs and returns its name.\n",
        "@st.cache()\n",
        "def prediction(model, sepal_length, sepal_width, petal_length, petal_width):\n",
        "  species = model.predict([[sepal_length, sepal_width, petal_length, petal_width]])\n",
        "  species = species[0]\n",
        "  if species == 0:\n",
        "    return \"Iris-setosa\"\n",
        "  elif species == 1:\n",
        "    return \"Iris-virginica\"\n",
        "  else:\n",
        "    return \"Iris-versicolor\""
      ],
      "execution_count": null,
      "outputs": []
    },
    {
      "cell_type": "markdown",
      "metadata": {
        "id": "Sj-eKr03VcEE"
      },
      "source": [
        "**Step 3:** Next step is to add some streamlit code for creating a web page.\n",
        "\n",
        "We want the app to look like this:\n",
        "\n",
        "<img src=\"https://s3-whjr-v2-prod-bucket.whjr.online/be8f8756-4c3b-4e74-a0b8-d2bddcd6afd9.PNG\"/>\n",
        "\n",
        "The page will have a sidebar that displays the title, four sliders for features, and a select box to choose the classifier and a button. At the click of this button, the selected classifier is implemented and the species is predicted. Also, the accuracy score of that classifier is displayed.\n",
        "\n",
        "We will use the following Streamlit widgets to create this app:\n",
        "\n",
        "1. **`st.sidebar.title(label)`:** To add the title `\"Iris Flower Species Prediction App\"` in the sidebar.\n",
        "\n",
        "2. **`st.sidebar.slider(label, min_value, max_value)`:** To create four sliders in the sidebar so that the user can interactively choose sepal length, sepal width, petal length and petal width. The minimum and maximum values for these sliders would be the corresponding minimum and maximum values of sepal length, sepal width, petal length and petal width.\n",
        "\n",
        "3. **`st.sidebar.selectbox(label, (options))`:** To create a select box using which the user can select the desired classifier. The select box options must be enclosed in a tuple as follows:\n",
        "\n",
        "  `st.sidebar.selectbox('Classifier', ('Support Vector Machine', 'Logistic Regression', 'Random Forest Classifier'))`\n",
        "\n",
        "3. **`st.sidebar.button(label)`:** To create a `Predict` button in the sidebar.\n",
        "\n",
        "4. **`st.write(some_text)`:** To display the model’s predicted species and accuracy score on the main page.\n",
        "\n",
        "Perform the following tasks in Sublime editor below the `prediction()` function:\n",
        "\n",
        "**Warning:** Be careful with the indentation. All the below streamlit code will be outside the `prediction()` function.\n",
        "\n",
        "1. Add a title in the sidebar using the `st.sidebar.title()` function.\n",
        "2. Add four sliders for sepal length, sepal width, petal length and petal width. Store the current value of these slider widgets in four different variables.\n",
        "3. Add a select box in the sidebar using `st.sidebar.selectbox()` function. Provide options of the three classifiers to the select box. Store the current value of this select box in a variable `classifier`.\n",
        "    \n",
        "    `classifier = st.sidebar.selectbox('Classifier', ('Support Vector Machine', 'Logistic Regression', 'Random Forest Classifier'))`\n",
        "\n",
        "3. If the user clicks on `Predict` button which is created in the sidebar, check:\n",
        "\n",
        "  - If `classifier == 'Support Vector Machine'`, invoke the `prediction()` function and pass the SVM object and slider widgets values to this function.\n",
        "      \n",
        "    - Store the species name returned by the `prediction()` function in the `species_type` variable.\n",
        "      \n",
        "    - Also determine the accuracy score of the model by calling the `score()` function on the SVM object. Store the accuracy in the `score` variable.\n",
        "   \n",
        "  - Else if `classifier == 'Logistic Regression'`, invoke the `prediction()` function and pass the Logistic Regression object and slider widgets values to this function.\n",
        "      \n",
        "    - Store the species name returned by the `prediction()` function in the `species_type` variable.\n",
        "      \n",
        "    - Also, determine the accuracy score of the model by calling the `score()` function on the Logistic Regression object. Store the accuracy in the `score` variable.\n",
        "  \n",
        "  - Else if `classifier == 'Random Forest Classifier'`, invoke the `prediction()` function and pass the Random Forest Classifier object and slider widgets values to this function.\n",
        "    \n",
        "    - Store the species name returned by the `prediction()` function in the `species_type` variable.\n",
        "    \n",
        "    - Also, determine the accuracy score of the model by calling the `score()` function on the Random Forest Classifier object. Store the accuracy in the `score` variable.\n",
        "\n",
        "5. Print the predicted species name (`species_type`) and accuracy score (`score`) using the `st.write()` function.\n",
        "\n",
        "**Note:** Don't run the code shown below. It will throw an error.\n"
      ]
    },
    {
      "cell_type": "code",
      "metadata": {
        "id": "-VLJbSHtlQYZ"
      },
      "source": [
        "# S2.3: Copy the following code and paste it in the 'improved_iris_app.py' file after the previous code.\n",
        "# Add title widget\n",
        "st.sidebar.title(\"Iris Species Prediction App\")\n",
        "\n",
        "# Add 4 sliders and store the value returned by them in 4 separate variables.\n",
        "s_len = st.sidebar.slider(\"Sepal Length\", float(iris_df[\"SepalLengthCm\"].min()), float(iris_df[\"SepalLengthCm\"].max()))\n",
        "# The 'float()' function converts the 'numpy.float' values to Python float values.\n",
        "s_wid = st.sidebar.slider(\"Sepal Width\", float(iris_df[\"SepalWidthCm\"].min()), float(iris_df[\"SepalWidthCm\"].max()))\n",
        "p_len = st.sidebar.slider(\"Petal Length\", float(iris_df[\"PetalLengthCm\"].min()), float(iris_df[\"PetalLengthCm\"].max()))\n",
        "p_wid = st.sidebar.slider(\"Petal Width\", float(iris_df[\"PetalWidthCm\"].min()), float(iris_df[\"PetalWidthCm\"].max()))\n",
        "\n",
        "# Add a select box in the sidebar with the 'Classifier' label.\n",
        "# Also pass 3 options as a tuple ('Support Vector Machine', 'Logistic Regression', 'Random Forest Classifier').\n",
        "# Store the current value of this slider in the 'classifier' variable.\n",
        "classifier = st.sidebar.selectbox('Classifier', ('Support Vector Machine', 'Logistic Regression', 'Random Forest Classifier'))\n",
        "\n",
        "# When the 'Predict' button is clicked, check which classifier is chosen and call the 'prediction()' function.\n",
        "# Store the predicted value in the 'species_type' variable accuracy score of the model in the 'score' variable.\n",
        "# Print the values of 'species_type' and 'score' variables using the 'st.text()' function.\n",
        "if st.sidebar.button(\"Predict\"):\n",
        "  if classifier == 'Support Vector Machine':\n",
        "    species_type = prediction(svc_model, s_len, s_wid, p_len, p_wid)\n",
        "    score = svc_model.score(X_train, y_train)\n",
        "\n",
        "  elif classifier =='Logistic Regression':\n",
        "    species_type = prediction(log_reg, s_len, s_wid, p_len, p_wid)\n",
        "    score = log_reg.score(X_train, y_train)\n",
        "\n",
        "  else:\n",
        "    species_type = prediction(rf_clf, s_len, s_wid, p_len, p_wid)\n",
        "    score = rf_clf.score(X_train, y_train)\n",
        "\n",
        "  st.write(\"Species predicted:\", species_type)\n",
        "  st.write(\"Accuracy score of this model is:\", score)"
      ],
      "execution_count": null,
      "outputs": []
    },
    {
      "cell_type": "markdown",
      "metadata": {
        "id": "a73ZiefyqLtp"
      },
      "source": [
        "**Note:** The numeric values to the `st.sidebar.slider()` function should be Python `int` or `float` objects only. If you pass any other numeric objects, say `numpy.int` or `numpy.float` objects, then you will get `KeyError` while hosting a web app on a Streamlit Share server. To convert any numeric value to Python numeric value, use `int()` or `float()` functions.\n",
        "\n",
        "Hence, we have completed the entire code needed for creating our Streamlit app.\n",
        "\n",
        "**Note to the Teacher:**\n",
        "You can download the entire `improved_iris_app.py` file from the link given below:\n",
        "\n",
        "https://drive.google.com/drive/folders/16tKWby3MnFOCGoJj9y3Ki5Kl4Hh1REiy\n",
        "\n"
      ]
    },
    {
      "cell_type": "markdown",
      "metadata": {
        "id": "2TpZ-SFaOxM0"
      },
      "source": [
        "---"
      ]
    },
    {
      "cell_type": "markdown",
      "metadata": {
        "id": "Yjf4uNFOuWKa"
      },
      "source": [
        "#### Activity 3: Running the Improved Iris App\n",
        "\n",
        "Now, it is time to run the `improved_iris_app.py` file from the command prompt or terminal window.\n",
        "\n",
        "Run the `improved_iris_app.py` file on your Mac or Windows machine using the following command:\n",
        "\n",
        "  `streamlit run improved_iris_app.py`\n",
        "\n",
        "  <img src=\"https://s3-whjr-v2-prod-bucket.whjr.online/f1c8cc83-d097-4a80-b279-15ea48f21626.PNG\"/>\n",
        "\n",
        "You can now deploy the improved web app on a Heroku server by going through the steps described in the first activity.\n",
        "\n",
        "The improved Iris species classifier should like the following web app:\n",
        "\n",
        "https://iris-clf.herokuapp.com/\n",
        "\n",
        "Here's the GitHub repository for the same:\n",
        "\n",
        "https://github.com/srahuliitb/improved-iris-species-clf-heroku\n",
        "\n",
        "**Note:** You can either create a new GitHub repository to host the improved version of the same web app or you can replace the code in the current Python file in the existing repository. For the learning purpose, it is strongly recommended that you create a new GitHub repository. When you have sufficient experience in deploying a web app, you can edit the existing Python script for minor changes instead of creating a new repository."
      ]
    },
    {
      "cell_type": "markdown",
      "metadata": {
        "id": "17DUQkjtwXBZ"
      },
      "source": [
        "---"
      ]
    },
    {
      "cell_type": "markdown",
      "metadata": {
        "id": "PqJvFRvbbN2N"
      },
      "source": [
        "#### Activity 4: Custom Theming in Streamlit\n",
        "\n",
        "Streamlit supports **light** and **dark** themes. Streamlit first checks if the user has a light or dark mode preference set by their operating system and browser. If so, then that preference will be used. Otherwise, the light theme will be applied by default.\n",
        "\n",
        "To toggle between various themes, go to Menu on the top-right corner and choose **Settings**.  A dialog box appears that lets the app users choose between different theme options:\n",
        "- **Light Mode:** This is the default Streamlit theme.\n",
        "- **Dark Mode.** This is Streamlit's dark theme.\n",
        "- **Use System settings:** Streamlit will automatically pick up your Operating System theme (light or dark) and change colors with your OS (Note: may not work for some browsers).\n",
        "- **Custom Theme:** The app author can customise the theme using this option.\n",
        "\n",
        "  <img src=\"https://s3-whjr-v2-prod-bucket.whjr.online/4632df33-ee99-48ca-903e-297020c4c3cf.gif\"/>\n",
        "\n",
        "\n",
        "**Theme Editor:**\n",
        "\n",
        "App developers can create a custom theme by simply going to Settings $\\Rightarrow$ Edit Active Theme.\n",
        "\n",
        "**Note:** The theme editor menu is available only when you run your app on localhost. If you've deployed your app on Heroku or using Streamlit Sharing, the \"Edit active theme\" button will no longer be displayed in the \"Settings\" menu.\n",
        "\n",
        "<img src=\"https://s3-whjr-v2-prod-bucket.whjr.online/4d0c4abc-a6c2-46cc-924e-f2b97ad3fa11.gif\"/>\n",
        "\n",
        "The \"Edit active theme\" allows us to apply color and fonts to our apps.\n",
        " - **Primary color:**  Accent color for interactive elements like st.radio, button borders etc. By default, this is pink.\n",
        " - **Background color:** This is the background color for the main body of your app.\n",
        " - **Text color:** This is the text color for your app.\n",
        " - **Secondary background color:** Used as the background for `st.sidebar` and for several widgets.\n",
        " - **Font Family:** This is the font style used in your Streamlit app. Valid values are \"sans serif\", \"serif\", and \"monospace\". This option defaults to \"sans serif\" if unset or invalid.\n",
        "\n",
        "Let's stop here. You will learn to play with more Streamlit widgets in the upcoming classes."
      ]
    },
    {
      "cell_type": "markdown",
      "metadata": {
        "id": "Td14_3qaih3f"
      },
      "source": []
    },
    {
      "cell_type": "markdown",
      "metadata": {
        "id": "N_a1RlYJAtbE"
      },
      "source": [
        "---"
      ]
    },
    {
      "cell_type": "markdown",
      "metadata": {
        "id": "vPlxUuEaiTqY"
      },
      "source": [
        "### **Project**\n",
        "You can now attempt the **Applied Tech Project 93 - Streamlit Framework II** on your own.\n",
        "\n",
        "**Applied Tech Project 93 - Streamlit Framework II**: https://colab.research.google.com/drive/1eQcZaLXFdYHz1SGbrfIZT_A2PGGPRHKu"
      ]
    },
    {
      "cell_type": "markdown",
      "metadata": {
        "id": "RISR_q-bifj_"
      },
      "source": [
        "---\n"
      ]
    }
  ]
}
