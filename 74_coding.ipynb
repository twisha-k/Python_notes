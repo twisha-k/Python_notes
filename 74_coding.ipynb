{
  "nbformat": 4,
  "nbformat_minor": 0,
  "metadata": {
    "colab": {
      "provenance": [],
      "include_colab_link": true
    },
    "kernelspec": {
      "name": "python3",
      "display_name": "Python 3"
    }
  },
  "cells": [
    {
      "cell_type": "markdown",
      "metadata": {
        "id": "view-in-github",
        "colab_type": "text"
      },
      "source": [
        "<a href=\"https://colab.research.google.com/github/twisha-k/Python_notes/blob/main/74_coding.ipynb\" target=\"_parent\"><img src=\"https://colab.research.google.com/assets/colab-badge.svg\" alt=\"Open In Colab\"/></a>"
      ]
    },
    {
      "cell_type": "markdown",
      "metadata": {
        "id": "nreGKcypHo1M"
      },
      "source": [
        "# Lesson 74: Logistic Regression - Decision Boundary"
      ]
    },
    {
      "cell_type": "markdown",
      "metadata": {
        "id": "ze9uSJt-I-0E"
      },
      "source": [
        "### Teacher-Student Activities\n",
        "\n",
        "In the previous class, you learnt to build a logistic regression model purely using the sigmoid function and predicted the outcomes i.e. the patients having and not having heart disease by choosing different threshold values.\n",
        "\n",
        "In this class, you will create a linear function using the features in the dataset and pass it as an input to the sigmoid function. However, we will take a small detour from the heart disease prediction dataset and choose the ideal data to understand the rationale behind building a linear function."
      ]
    },
    {
      "cell_type": "markdown",
      "metadata": {
        "id": "bSyqQS5T8Y1D"
      },
      "source": [
        "---"
      ]
    },
    {
      "cell_type": "markdown",
      "metadata": {
        "id": "0vmj2glW8aKa"
      },
      "source": [
        "#### Activity 1: Create Dummy Dataset^\n",
        "\n",
        "Let's create a dummy dataset having two columns representing two independent variables, another column representing the target and a total of 1000 records (or rows).\n",
        "\n",
        "You will shortly get to know the reason behind the creation of a dummy data-frame.\n",
        "\n",
        "To create a dummy data-frame, firstly, create two arrays using the `make_blob()` function of the `sklearn.datasets` module. The syntax for the `make_blob()` function is as follows:\n",
        "\n",
        "**Syntax:** `make_blobs(n_samples, centers, n_features, random_state, cluster_std)`\n",
        "\n",
        "where\n",
        "\n",
        "- `n_samples` determines the number of records to be generated in a dataset\n",
        "\n",
        "- `centers` determines the number of classes to be generated (or labels) for the target column\n",
        "\n",
        "- `n_features` determines the number of features (or independent variables) to be generated in the dataset\n",
        "\n",
        "- `random_state` determines the random number generation for dataset creation. An integer value of the `random_state` parameter will produce the same results across different function calls. Popular integer random seeds are 0 and 42.\n",
        "\n",
        "- `cluster_std` determines the standard deviation of the clusters.\n",
        "\n",
        "The function will return two arrays. You can store these two arrays in two variables, say `features_array` and `target_array`, where the former contains features (or independent variables) and the latter contains the target or (dependent variable)."
      ]
    },
    {
      "cell_type": "code",
      "metadata": {
        "id": "NIBpSYJB8hsx"
      },
      "source": [
        "# T1.1: Create two arrays using the 'make_blobs()' function and store them in the 'features_array' and 'target_array' variables.\n",
        "from sklearn.datasets import make_blobs\n",
        "feature_arr,target_arr=make_blobs(n_samples=1000, centers=2, n_features=2, random_state=42, cluster_std=1.25)"
      ],
      "execution_count": null,
      "outputs": []
    },
    {
      "cell_type": "markdown",
      "metadata": {
        "id": "6iJ3A_FGB5zk"
      },
      "source": [
        "**Note:** The `make_blobs()` function can take in more parameters that can be passed to create more customised data. You may refer to the following document:\n",
        "\n",
        "https://scikit-learn.org/stable/modules/generated/sklearn.datasets.make_blobs.html\n",
        "\n",
        "You can find out the object-type of the arrays created by the `make_blob()` function and the number of rows and columns in them."
      ]
    },
    {
      "cell_type": "code",
      "metadata": {
        "id": "U6M4iKHo8kQ1",
        "colab": {
          "base_uri": "https://localhost:8080/"
        },
        "outputId": "212ae958-7188-4072-9414-8be10517b448"
      },
      "source": [
        "# S1.1: Find out the object-type of the arrays created by the 'make_blob()' function and the number of rows and columns in them.\n",
        "print(type(feature_arr),type(target_arr))\n",
        "print(feature_arr.shape[0],feature_arr.shape[1])\n",
        "print(target_arr.shape[0])"
      ],
      "execution_count": null,
      "outputs": [
        {
          "output_type": "stream",
          "name": "stdout",
          "text": [
            "<class 'numpy.ndarray'> <class 'numpy.ndarray'>\n",
            "1000 2\n",
            "1000\n"
          ]
        }
      ]
    },
    {
      "cell_type": "markdown",
      "metadata": {
        "id": "OmNp-fZQC-qX"
      },
      "source": [
        "Now that you have created two arrays, as the next step to create a dummy data-frame, create a Python dictionary from the two arrays and then a Pandas DataFrame from the dictionary using the `from_dict()` function of the `pandas` module.\n",
        "\n",
        "**Syntax:** `pd.DataFrame.from_dict(some_dictionary)`"
      ]
    },
    {
      "cell_type": "code",
      "metadata": {
        "id": "M30S7jCeDGEn",
        "colab": {
          "base_uri": "https://localhost:8080/",
          "height": 424
        },
        "outputId": "9c063af5-3bc9-4cbe-a7b7-bddcc0bc8914"
      },
      "source": [
        "# S1.2: Create a Pandas DataFrame containing the items from the 'features_array' and 'target_array' arrays.\n",
        "import pandas as pd\n",
        "dummy_df=pd.DataFrame(data=feature_arr,columns=['column 1','column 2'])\n",
        "dummy_df['target']=target_arr\n",
        "dummy_df"
      ],
      "execution_count": null,
      "outputs": [
        {
          "output_type": "execute_result",
          "data": {
            "text/plain": [
              "     column 1   column 2  target\n",
              "0   -1.464582   7.602153       0\n",
              "1    6.737005   1.281184       1\n",
              "2    3.269535   0.173106       1\n",
              "3    5.293423   1.256045       1\n",
              "4    4.414279   5.964554       1\n",
              "..        ...        ...     ...\n",
              "995 -1.718220  11.852652       0\n",
              "996  5.546249   2.618393       1\n",
              "997  2.925002  -0.043782       1\n",
              "998  6.047442   1.908928       1\n",
              "999  0.228056   8.003913       0\n",
              "\n",
              "[1000 rows x 3 columns]"
            ],
            "text/html": [
              "\n",
              "  <div id=\"df-517e3d35-210a-41fd-a8bd-18673f93ca44\">\n",
              "    <div class=\"colab-df-container\">\n",
              "      <div>\n",
              "<style scoped>\n",
              "    .dataframe tbody tr th:only-of-type {\n",
              "        vertical-align: middle;\n",
              "    }\n",
              "\n",
              "    .dataframe tbody tr th {\n",
              "        vertical-align: top;\n",
              "    }\n",
              "\n",
              "    .dataframe thead th {\n",
              "        text-align: right;\n",
              "    }\n",
              "</style>\n",
              "<table border=\"1\" class=\"dataframe\">\n",
              "  <thead>\n",
              "    <tr style=\"text-align: right;\">\n",
              "      <th></th>\n",
              "      <th>column 1</th>\n",
              "      <th>column 2</th>\n",
              "      <th>target</th>\n",
              "    </tr>\n",
              "  </thead>\n",
              "  <tbody>\n",
              "    <tr>\n",
              "      <th>0</th>\n",
              "      <td>-1.464582</td>\n",
              "      <td>7.602153</td>\n",
              "      <td>0</td>\n",
              "    </tr>\n",
              "    <tr>\n",
              "      <th>1</th>\n",
              "      <td>6.737005</td>\n",
              "      <td>1.281184</td>\n",
              "      <td>1</td>\n",
              "    </tr>\n",
              "    <tr>\n",
              "      <th>2</th>\n",
              "      <td>3.269535</td>\n",
              "      <td>0.173106</td>\n",
              "      <td>1</td>\n",
              "    </tr>\n",
              "    <tr>\n",
              "      <th>3</th>\n",
              "      <td>5.293423</td>\n",
              "      <td>1.256045</td>\n",
              "      <td>1</td>\n",
              "    </tr>\n",
              "    <tr>\n",
              "      <th>4</th>\n",
              "      <td>4.414279</td>\n",
              "      <td>5.964554</td>\n",
              "      <td>1</td>\n",
              "    </tr>\n",
              "    <tr>\n",
              "      <th>...</th>\n",
              "      <td>...</td>\n",
              "      <td>...</td>\n",
              "      <td>...</td>\n",
              "    </tr>\n",
              "    <tr>\n",
              "      <th>995</th>\n",
              "      <td>-1.718220</td>\n",
              "      <td>11.852652</td>\n",
              "      <td>0</td>\n",
              "    </tr>\n",
              "    <tr>\n",
              "      <th>996</th>\n",
              "      <td>5.546249</td>\n",
              "      <td>2.618393</td>\n",
              "      <td>1</td>\n",
              "    </tr>\n",
              "    <tr>\n",
              "      <th>997</th>\n",
              "      <td>2.925002</td>\n",
              "      <td>-0.043782</td>\n",
              "      <td>1</td>\n",
              "    </tr>\n",
              "    <tr>\n",
              "      <th>998</th>\n",
              "      <td>6.047442</td>\n",
              "      <td>1.908928</td>\n",
              "      <td>1</td>\n",
              "    </tr>\n",
              "    <tr>\n",
              "      <th>999</th>\n",
              "      <td>0.228056</td>\n",
              "      <td>8.003913</td>\n",
              "      <td>0</td>\n",
              "    </tr>\n",
              "  </tbody>\n",
              "</table>\n",
              "<p>1000 rows × 3 columns</p>\n",
              "</div>\n",
              "      <button class=\"colab-df-convert\" onclick=\"convertToInteractive('df-517e3d35-210a-41fd-a8bd-18673f93ca44')\"\n",
              "              title=\"Convert this dataframe to an interactive table.\"\n",
              "              style=\"display:none;\">\n",
              "        \n",
              "  <svg xmlns=\"http://www.w3.org/2000/svg\" height=\"24px\"viewBox=\"0 0 24 24\"\n",
              "       width=\"24px\">\n",
              "    <path d=\"M0 0h24v24H0V0z\" fill=\"none\"/>\n",
              "    <path d=\"M18.56 5.44l.94 2.06.94-2.06 2.06-.94-2.06-.94-.94-2.06-.94 2.06-2.06.94zm-11 1L8.5 8.5l.94-2.06 2.06-.94-2.06-.94L8.5 2.5l-.94 2.06-2.06.94zm10 10l.94 2.06.94-2.06 2.06-.94-2.06-.94-.94-2.06-.94 2.06-2.06.94z\"/><path d=\"M17.41 7.96l-1.37-1.37c-.4-.4-.92-.59-1.43-.59-.52 0-1.04.2-1.43.59L10.3 9.45l-7.72 7.72c-.78.78-.78 2.05 0 2.83L4 21.41c.39.39.9.59 1.41.59.51 0 1.02-.2 1.41-.59l7.78-7.78 2.81-2.81c.8-.78.8-2.07 0-2.86zM5.41 20L4 18.59l7.72-7.72 1.47 1.35L5.41 20z\"/>\n",
              "  </svg>\n",
              "      </button>\n",
              "      \n",
              "  <style>\n",
              "    .colab-df-container {\n",
              "      display:flex;\n",
              "      flex-wrap:wrap;\n",
              "      gap: 12px;\n",
              "    }\n",
              "\n",
              "    .colab-df-convert {\n",
              "      background-color: #E8F0FE;\n",
              "      border: none;\n",
              "      border-radius: 50%;\n",
              "      cursor: pointer;\n",
              "      display: none;\n",
              "      fill: #1967D2;\n",
              "      height: 32px;\n",
              "      padding: 0 0 0 0;\n",
              "      width: 32px;\n",
              "    }\n",
              "\n",
              "    .colab-df-convert:hover {\n",
              "      background-color: #E2EBFA;\n",
              "      box-shadow: 0px 1px 2px rgba(60, 64, 67, 0.3), 0px 1px 3px 1px rgba(60, 64, 67, 0.15);\n",
              "      fill: #174EA6;\n",
              "    }\n",
              "\n",
              "    [theme=dark] .colab-df-convert {\n",
              "      background-color: #3B4455;\n",
              "      fill: #D2E3FC;\n",
              "    }\n",
              "\n",
              "    [theme=dark] .colab-df-convert:hover {\n",
              "      background-color: #434B5C;\n",
              "      box-shadow: 0px 1px 3px 1px rgba(0, 0, 0, 0.15);\n",
              "      filter: drop-shadow(0px 1px 2px rgba(0, 0, 0, 0.3));\n",
              "      fill: #FFFFFF;\n",
              "    }\n",
              "  </style>\n",
              "\n",
              "      <script>\n",
              "        const buttonEl =\n",
              "          document.querySelector('#df-517e3d35-210a-41fd-a8bd-18673f93ca44 button.colab-df-convert');\n",
              "        buttonEl.style.display =\n",
              "          google.colab.kernel.accessAllowed ? 'block' : 'none';\n",
              "\n",
              "        async function convertToInteractive(key) {\n",
              "          const element = document.querySelector('#df-517e3d35-210a-41fd-a8bd-18673f93ca44');\n",
              "          const dataTable =\n",
              "            await google.colab.kernel.invokeFunction('convertToInteractive',\n",
              "                                                     [key], {});\n",
              "          if (!dataTable) return;\n",
              "\n",
              "          const docLinkHtml = 'Like what you see? Visit the ' +\n",
              "            '<a target=\"_blank\" href=https://colab.research.google.com/notebooks/data_table.ipynb>data table notebook</a>'\n",
              "            + ' to learn more about interactive tables.';\n",
              "          element.innerHTML = '';\n",
              "          dataTable['output_type'] = 'display_data';\n",
              "          await google.colab.output.renderOutput(dataTable, element);\n",
              "          const docLink = document.createElement('div');\n",
              "          docLink.innerHTML = docLinkHtml;\n",
              "          element.appendChild(docLink);\n",
              "        }\n",
              "      </script>\n",
              "    </div>\n",
              "  </div>\n",
              "  "
            ]
          },
          "metadata": {},
          "execution_count": 22
        }
      ]
    },
    {
      "cell_type": "code",
      "source": [
        "dummy_dict = {'column 1': [feature_arr[i][0] for i in range(feature_arr.shape[0])],\n",
        "             'column 2': [feature_arr[i][1] for i in range(feature_arr.shape[0])],\n",
        "             'target': target_arr}\n",
        "\n",
        "dummy_df = pd.DataFrame.from_dict(dummy_dict)\n",
        "dummy_df"
      ],
      "metadata": {
        "id": "_IHyT1a61IrO",
        "colab": {
          "base_uri": "https://localhost:8080/",
          "height": 424
        },
        "outputId": "533770b0-b560-4e27-fdb4-485c3aaa21a9"
      },
      "execution_count": null,
      "outputs": [
        {
          "output_type": "execute_result",
          "data": {
            "text/plain": [
              "     column 1   column 2  target\n",
              "0   -1.464582   7.602153       0\n",
              "1    6.737005   1.281184       1\n",
              "2    3.269535   0.173106       1\n",
              "3    5.293423   1.256045       1\n",
              "4    4.414279   5.964554       1\n",
              "..        ...        ...     ...\n",
              "995 -1.718220  11.852652       0\n",
              "996  5.546249   2.618393       1\n",
              "997  2.925002  -0.043782       1\n",
              "998  6.047442   1.908928       1\n",
              "999  0.228056   8.003913       0\n",
              "\n",
              "[1000 rows x 3 columns]"
            ],
            "text/html": [
              "\n",
              "  <div id=\"df-43c8a8bb-35d1-4b52-bf5f-81f023c10521\">\n",
              "    <div class=\"colab-df-container\">\n",
              "      <div>\n",
              "<style scoped>\n",
              "    .dataframe tbody tr th:only-of-type {\n",
              "        vertical-align: middle;\n",
              "    }\n",
              "\n",
              "    .dataframe tbody tr th {\n",
              "        vertical-align: top;\n",
              "    }\n",
              "\n",
              "    .dataframe thead th {\n",
              "        text-align: right;\n",
              "    }\n",
              "</style>\n",
              "<table border=\"1\" class=\"dataframe\">\n",
              "  <thead>\n",
              "    <tr style=\"text-align: right;\">\n",
              "      <th></th>\n",
              "      <th>column 1</th>\n",
              "      <th>column 2</th>\n",
              "      <th>target</th>\n",
              "    </tr>\n",
              "  </thead>\n",
              "  <tbody>\n",
              "    <tr>\n",
              "      <th>0</th>\n",
              "      <td>-1.464582</td>\n",
              "      <td>7.602153</td>\n",
              "      <td>0</td>\n",
              "    </tr>\n",
              "    <tr>\n",
              "      <th>1</th>\n",
              "      <td>6.737005</td>\n",
              "      <td>1.281184</td>\n",
              "      <td>1</td>\n",
              "    </tr>\n",
              "    <tr>\n",
              "      <th>2</th>\n",
              "      <td>3.269535</td>\n",
              "      <td>0.173106</td>\n",
              "      <td>1</td>\n",
              "    </tr>\n",
              "    <tr>\n",
              "      <th>3</th>\n",
              "      <td>5.293423</td>\n",
              "      <td>1.256045</td>\n",
              "      <td>1</td>\n",
              "    </tr>\n",
              "    <tr>\n",
              "      <th>4</th>\n",
              "      <td>4.414279</td>\n",
              "      <td>5.964554</td>\n",
              "      <td>1</td>\n",
              "    </tr>\n",
              "    <tr>\n",
              "      <th>...</th>\n",
              "      <td>...</td>\n",
              "      <td>...</td>\n",
              "      <td>...</td>\n",
              "    </tr>\n",
              "    <tr>\n",
              "      <th>995</th>\n",
              "      <td>-1.718220</td>\n",
              "      <td>11.852652</td>\n",
              "      <td>0</td>\n",
              "    </tr>\n",
              "    <tr>\n",
              "      <th>996</th>\n",
              "      <td>5.546249</td>\n",
              "      <td>2.618393</td>\n",
              "      <td>1</td>\n",
              "    </tr>\n",
              "    <tr>\n",
              "      <th>997</th>\n",
              "      <td>2.925002</td>\n",
              "      <td>-0.043782</td>\n",
              "      <td>1</td>\n",
              "    </tr>\n",
              "    <tr>\n",
              "      <th>998</th>\n",
              "      <td>6.047442</td>\n",
              "      <td>1.908928</td>\n",
              "      <td>1</td>\n",
              "    </tr>\n",
              "    <tr>\n",
              "      <th>999</th>\n",
              "      <td>0.228056</td>\n",
              "      <td>8.003913</td>\n",
              "      <td>0</td>\n",
              "    </tr>\n",
              "  </tbody>\n",
              "</table>\n",
              "<p>1000 rows × 3 columns</p>\n",
              "</div>\n",
              "      <button class=\"colab-df-convert\" onclick=\"convertToInteractive('df-43c8a8bb-35d1-4b52-bf5f-81f023c10521')\"\n",
              "              title=\"Convert this dataframe to an interactive table.\"\n",
              "              style=\"display:none;\">\n",
              "        \n",
              "  <svg xmlns=\"http://www.w3.org/2000/svg\" height=\"24px\"viewBox=\"0 0 24 24\"\n",
              "       width=\"24px\">\n",
              "    <path d=\"M0 0h24v24H0V0z\" fill=\"none\"/>\n",
              "    <path d=\"M18.56 5.44l.94 2.06.94-2.06 2.06-.94-2.06-.94-.94-2.06-.94 2.06-2.06.94zm-11 1L8.5 8.5l.94-2.06 2.06-.94-2.06-.94L8.5 2.5l-.94 2.06-2.06.94zm10 10l.94 2.06.94-2.06 2.06-.94-2.06-.94-.94-2.06-.94 2.06-2.06.94z\"/><path d=\"M17.41 7.96l-1.37-1.37c-.4-.4-.92-.59-1.43-.59-.52 0-1.04.2-1.43.59L10.3 9.45l-7.72 7.72c-.78.78-.78 2.05 0 2.83L4 21.41c.39.39.9.59 1.41.59.51 0 1.02-.2 1.41-.59l7.78-7.78 2.81-2.81c.8-.78.8-2.07 0-2.86zM5.41 20L4 18.59l7.72-7.72 1.47 1.35L5.41 20z\"/>\n",
              "  </svg>\n",
              "      </button>\n",
              "      \n",
              "  <style>\n",
              "    .colab-df-container {\n",
              "      display:flex;\n",
              "      flex-wrap:wrap;\n",
              "      gap: 12px;\n",
              "    }\n",
              "\n",
              "    .colab-df-convert {\n",
              "      background-color: #E8F0FE;\n",
              "      border: none;\n",
              "      border-radius: 50%;\n",
              "      cursor: pointer;\n",
              "      display: none;\n",
              "      fill: #1967D2;\n",
              "      height: 32px;\n",
              "      padding: 0 0 0 0;\n",
              "      width: 32px;\n",
              "    }\n",
              "\n",
              "    .colab-df-convert:hover {\n",
              "      background-color: #E2EBFA;\n",
              "      box-shadow: 0px 1px 2px rgba(60, 64, 67, 0.3), 0px 1px 3px 1px rgba(60, 64, 67, 0.15);\n",
              "      fill: #174EA6;\n",
              "    }\n",
              "\n",
              "    [theme=dark] .colab-df-convert {\n",
              "      background-color: #3B4455;\n",
              "      fill: #D2E3FC;\n",
              "    }\n",
              "\n",
              "    [theme=dark] .colab-df-convert:hover {\n",
              "      background-color: #434B5C;\n",
              "      box-shadow: 0px 1px 3px 1px rgba(0, 0, 0, 0.15);\n",
              "      filter: drop-shadow(0px 1px 2px rgba(0, 0, 0, 0.3));\n",
              "      fill: #FFFFFF;\n",
              "    }\n",
              "  </style>\n",
              "\n",
              "      <script>\n",
              "        const buttonEl =\n",
              "          document.querySelector('#df-43c8a8bb-35d1-4b52-bf5f-81f023c10521 button.colab-df-convert');\n",
              "        buttonEl.style.display =\n",
              "          google.colab.kernel.accessAllowed ? 'block' : 'none';\n",
              "\n",
              "        async function convertToInteractive(key) {\n",
              "          const element = document.querySelector('#df-43c8a8bb-35d1-4b52-bf5f-81f023c10521');\n",
              "          const dataTable =\n",
              "            await google.colab.kernel.invokeFunction('convertToInteractive',\n",
              "                                                     [key], {});\n",
              "          if (!dataTable) return;\n",
              "\n",
              "          const docLinkHtml = 'Like what you see? Visit the ' +\n",
              "            '<a target=\"_blank\" href=https://colab.research.google.com/notebooks/data_table.ipynb>data table notebook</a>'\n",
              "            + ' to learn more about interactive tables.';\n",
              "          element.innerHTML = '';\n",
              "          dataTable['output_type'] = 'display_data';\n",
              "          await google.colab.output.renderOutput(dataTable, element);\n",
              "          const docLink = document.createElement('div');\n",
              "          docLink.innerHTML = docLinkHtml;\n",
              "          element.appendChild(docLink);\n",
              "        }\n",
              "      </script>\n",
              "    </div>\n",
              "  </div>\n",
              "  "
            ]
          },
          "metadata": {},
          "execution_count": 23
        }
      ]
    },
    {
      "cell_type": "markdown",
      "metadata": {
        "id": "P-o7flxsERh-"
      },
      "source": [
        "Now we have a `pandas` DataFrame having 1000 records, 3 columns out of which 2 columns represent independent variables and 1 represent target.\n",
        "\n",
        "Let's count the number of 0s and 1s in the `target` column of the `dummy_df` DataFrame.\n"
      ]
    },
    {
      "cell_type": "code",
      "metadata": {
        "id": "GPLsuU56EzRn",
        "colab": {
          "base_uri": "https://localhost:8080/"
        },
        "outputId": "c7a52388-8625-4362-d721-c1fcf6283ce1"
      },
      "source": [
        "# S1.3: Display the number of occurrences of each label in the 'target' column.\n",
        "dummy_df['target'].value_counts()"
      ],
      "execution_count": null,
      "outputs": [
        {
          "output_type": "execute_result",
          "data": {
            "text/plain": [
              "0    500\n",
              "1    500\n",
              "Name: target, dtype: int64"
            ]
          },
          "metadata": {},
          "execution_count": 24
        }
      ]
    },
    {
      "cell_type": "markdown",
      "metadata": {
        "id": "ub8VFodBX-3G"
      },
      "source": [
        "As you can see, both the labels (0s and 1s) are equal in number in the `target` column.\n"
      ]
    },
    {
      "cell_type": "markdown",
      "metadata": {
        "id": "16VQyfuGX-X4"
      },
      "source": [
        "---"
      ]
    },
    {
      "cell_type": "markdown",
      "metadata": {
        "id": "_U-OZvfIE7W_"
      },
      "source": [
        "#### Activity 2: Cluster Visualisation^^\n",
        "\n",
        "If you create a scatter plot between the columns `col 1` and `col 2` for the labels 0 and 1, then you will see two clusters of dots (or points)."
      ]
    },
    {
      "cell_type": "code",
      "metadata": {
        "id": "jzn4GxEBFnMg",
        "colab": {
          "base_uri": "https://localhost:8080/",
          "height": 460
        },
        "outputId": "a790f86d-9340-46e0-f315-056fe6d13382"
      },
      "source": [
        "# S2.1: Create a scatter plot between 'col 1' and 'col 2' columns separately for both the classes in the same plot.\n",
        "import matplotlib.pyplot as plt\n",
        "plt.figure(figsize=(14,7))\n",
        "plt.scatter(dummy_df.loc[dummy_df['target']==0,'column 1'],dummy_df.loc[dummy_df['target']==0,'column 2'])\n",
        "plt.scatter(dummy_df.loc[dummy_df['target']==1,'column 1'],dummy_df.loc[dummy_df['target']==1,'column 2'])\n",
        "plt.xlabel('column 1')\n",
        "plt.ylabel('column 2')"
      ],
      "execution_count": null,
      "outputs": [
        {
          "output_type": "execute_result",
          "data": {
            "text/plain": [
              "Text(0, 0.5, 'column 2')"
            ]
          },
          "metadata": {},
          "execution_count": 25
        },
        {
          "output_type": "display_data",
          "data": {
            "text/plain": [
              "<Figure size 1008x504 with 1 Axes>"
            ],
            "image/png": "[encoded data removed]"
          },
          "metadata": {
            "needs_background": "light"
          }
        }
      ]
    },
    {
      "cell_type": "markdown",
      "metadata": {
        "id": "hRnZaJhhIquq"
      },
      "source": [
        "This is the reason behind creating a dummy data-frame. Here, you can clearly see that two different coloured clusters are formed for the two different labels (or classes). You can draw an imaginary straight line to separate the two clusters from each other.\n",
        "\n",
        "For the sake of better understanding, let's assume that the equation of the straight line separating the two clusters is $x = 1$ (*even if the equation is incorrect*)."
      ]
    },
    {
      "cell_type": "code",
      "metadata": {
        "id": "E6iHY9Iui8c_",
        "colab": {
          "base_uri": "https://localhost:8080/",
          "height": 460
        },
        "outputId": "ef100964-5702-451d-a802-2fb98d422142"
      },
      "source": [
        "# S2.2: Plot the line x = 1 in the above scatter plot.\n",
        "plt.figure(figsize=(14,7))\n",
        "plt.scatter(dummy_df.loc[dummy_df['target']==0,'column 1'],dummy_df.loc[dummy_df['target']==0,'column 2'])\n",
        "plt.scatter(dummy_df.loc[dummy_df['target']==1,'column 1'],dummy_df.loc[dummy_df['target']==1,'column 2'])\n",
        "plt.xlabel('column 1')\n",
        "plt.ylabel('column 2')\n",
        "plt.axvline(x=1)"
      ],
      "execution_count": null,
      "outputs": [
        {
          "output_type": "execute_result",
          "data": {
            "text/plain": [
              "<matplotlib.lines.Line2D at 0x7f1bc32c4b90>"
            ]
          },
          "metadata": {},
          "execution_count": 26
        },
        {
          "output_type": "display_data",
          "data": {
            "text/plain": [
              "<Figure size 1008x504 with 1 Axes>"
            ],
            "image/png": "[encoded data removed]"
          },
          "metadata": {
            "needs_background": "light"
          }
        }
      ]
    },
    {
      "cell_type": "markdown",
      "metadata": {
        "id": "bCCiXrYSix3-"
      },
      "source": [
        "So any point on the left-hand side of the line can be classified as 0 and any point on the right-hand side of the line can be classified as 1. This imaginary straight line separating the two clusters and classifying the points as 0 and 1 is called the **decision boundary**.\n",
        "\n",
        "Keeping the same idea in mind, you can conclude that you need more and more features in a dataset so that different clusters could be formed for different classes and these clusters can be separated by a decision boundary.\n",
        "\n",
        "To keep things simple, for this dummy dataset, we will consider only two features (or independent variables) to have a two-dimensional decision boundary. If we consider more than two features, then we will have to deal with a higher-dimensional decision boundary which is difficult to visualise on a two-dimensional plane.\n",
        "\n",
        "Your next task is to find out the equation of this decision boundary. The required equation will be the input to the sigmoid function to get the probabilities. Then w.r.t. a threshold value, you can classify the outcomes as 0 and 1."
      ]
    },
    {
      "cell_type": "markdown",
      "metadata": {
        "id": "3TQbOSKLukhl"
      },
      "source": [
        "**Equation of a Straight Line in General Form**\n",
        "\n",
        "Before continuing ahead with the decision boundary, let's learn the equation of a straight line in the general form.\n",
        "\n",
        "You already know that the equation of a straight line is given as\n",
        "\n",
        "$$y = mx + c$$\n",
        "\n",
        "where\n",
        "\n",
        "- $m$ is the slope of a line and\n",
        "\n",
        "- $c$ is the intercept made by the line on the $y$-axis\n",
        "\n",
        "The equation of a straight line in the **general form** is given as\n",
        "\n",
        "$$ax + by + c = 0$$\n",
        "\n",
        "where\n",
        "\n",
        "- $a$ is the coefficient of $x$,\n",
        "\n",
        "- $b$ is the coefficient of $y$, and\n",
        "\n",
        "- $c$ is some arbitrary constant\n",
        "\n",
        "If you rewrite the above general equation as follows\n",
        "\n",
        "$$by = -ax - c$$\n",
        "$$\\Rightarrow y = - \\left(\\frac{a}{b}\\right) x - \\frac{c}{b}$$\n",
        "\n",
        "then you get the equation of the straight line back in the **slope-intercept** form where\n",
        "\n",
        "- the slope is $-\\frac{a}{b}$; more precisely $-\\frac{\\text{coefficient of } x}{\\text{coefficient of }y}$ and\n",
        "\n",
        "- the intercept-made by the line on the $y$-axis is $-\\frac{c}{b}$; more precisely $-\\frac{\\text{arbitrary constant}}{\\text{coefficient of }y}$\n",
        "\n",
        "**Note:** The $c$ in $y = mx + c$ is **not** the same as the $c$ in $ax + by + c = 0$\n",
        "\n",
        "With the knowledge of the general form of the equation of a straight line, you can assume that the equation of the decision boundary is\n",
        "\n",
        "$$\\beta_0 + \\beta_1 x_1 + \\beta_2 x_2 = 0$$\n",
        "\n",
        "or\n",
        "\n",
        "$$\\beta_1 x_1 + \\beta_2 x_2 + \\beta_0 = 0$$\n",
        "\n",
        "If you compare it with the equation of a straight line in the general form,\n",
        "\n",
        "$$ax + by + c = 0$$\n",
        "\n",
        "then\n",
        "\n",
        "$$\\beta_1 = a, x_1 = x, \\beta_2 = b, x_2 = y \\space{} \\text{and} \\space{} \\beta_0 = c$$\n",
        "\n",
        "In this case, $x_1$ and $x_2$ represent the `col 1` and `col 2` columns respectively.\n",
        "\n",
        "To find this decision boundary (the straight line given by $\\beta_0 + \\beta_1 x_1 + \\beta_2 x_2 = 0$), you need to build a logistic regression model between $x_1$ and $x_2$. From this model, you will get the coefficients i.e., $\\beta_0, \\beta_1$ and $\\beta_2$.\n",
        "\n",
        "So now, calculate the coefficients."
      ]
    },
    {
      "cell_type": "code",
      "metadata": {
        "id": "etrA_2UW4DCj",
        "colab": {
          "base_uri": "https://localhost:8080/"
        },
        "outputId": "f53b5531-b37f-4b02-964b-339900a55da9"
      },
      "source": [
        "# S2.3: Calculate the coefficients by building a logistic regression model using the 'sklearn' model.\n",
        "from sklearn.linear_model import LogisticRegression\n",
        "x=dummy_df[dummy_df.columns[:-1]]\n",
        "\n",
        "y=dummy_df['target']\n",
        "def decision_bound(x,y):\n",
        "  log_reg=LogisticRegression(random_state=0).fit(x,y)\n",
        "  coeff_list=list(log_reg.intercept_)+list(log_reg.coef_[0])\n",
        "  return coeff_list\n",
        "coeff_list=decision_bound(x,y)\n",
        "coeff_list"
      ],
      "execution_count": null,
      "outputs": [
        {
          "output_type": "execute_result",
          "data": {
            "text/plain": [
              "[6.32668683825719, 1.4679276101158203, -1.3606814307870745]"
            ]
          },
          "metadata": {},
          "execution_count": 27
        }
      ]
    },
    {
      "cell_type": "markdown",
      "metadata": {
        "id": "7NquAyyRp8qn"
      },
      "source": [
        "Now that you have the required coefficients, you can get the equation of the decision boundary (in this case; a straight line).\n",
        "\n",
        "Next, let's plot the decision boundary (or straight line) in the above scatter plot. To plot the line, you can\n",
        "\n",
        "- plot the `col 1` values on the $x$-axis\n",
        "\n",
        "- calculate the `col 2` values from the $\\beta_0, \\beta_1, \\beta_2$ and the `col 1` values using the expression\n",
        "  $$x_2 = - \\left( \\frac{\\beta_1}{\\beta_2} \\right) x_1 - \\frac{\\beta_0}{\\beta_2}$$\n",
        "  or\n",
        "  $$x_2 = - \\left( \\frac{\\beta_1 x_1 + \\beta_0}{\\beta_2} \\right)$$\n",
        "  or\n",
        "  $$x_2 =  \\left( \\frac{- \\beta_0-\\beta_1 x_1}{\\beta_2} \\right)$$"
      ]
    },
    {
      "cell_type": "code",
      "metadata": {
        "id": "7xD2tqBK8K_i",
        "colab": {
          "base_uri": "https://localhost:8080/",
          "height": 420
        },
        "outputId": "0b40e213-4bba-4ec6-9e72-720c8fdef3a5"
      },
      "source": [
        "# S2.4: Plot the calculated regression line in above scatter plot.\n",
        "pred_col2_values = - (coeff_list[0] + coeff_list[1] * dummy_df['column 1']) / coeff_list[2]\n",
        "\n",
        "plt.figure(figsize = (12, 5), dpi = 96)\n",
        "plt.scatter(dummy_df.loc[dummy_df['target'] == 0, 'column 1'], dummy_df.loc[dummy_df['target'] == 0, 'column 2'], label = 'Label 0', color = 'g')\n",
        "plt.scatter(dummy_df.loc[dummy_df['target'] == 1, 'column 1'], dummy_df.loc[dummy_df['target'] == 1, 'column 2'], label = 'Label 1', color = 'r')\n",
        "plt.plot(dummy_df['column 1'], pred_col2_values, color = 'b', linewidth = 2)\n",
        "plt.legend()\n",
        "plt.show()"
      ],
      "execution_count": null,
      "outputs": [
        {
          "output_type": "display_data",
          "data": {
            "text/plain": [
              "<Figure size 1152x480 with 1 Axes>"
            ],
            "image/png": "[encoded data removed]"
          },
          "metadata": {
            "needs_background": "light"
          }
        }
      ]
    },
    {
      "cell_type": "markdown",
      "metadata": {
        "id": "x4H4f1aMfNz1"
      },
      "source": [
        "As you can see, the decision boundary clearly separates the two clusters for the two classes."
      ]
    },
    {
      "cell_type": "markdown",
      "metadata": {
        "id": "MX8Ug8Wuryxu"
      },
      "source": [
        "---"
      ]
    },
    {
      "cell_type": "markdown",
      "metadata": {
        "id": "Cyj3OiTtQG5u"
      },
      "source": [
        "#### Activity 3: Predictions^^^\n",
        "\n",
        "Now, your next task is to predict the `target` values based on the `col 1` and `col 2` values using the sigmoid function and some threshold value, say 0.5.\n",
        "\n",
        "Let's rewrite the sigmoid function as\n",
        "$$p =  \\frac{1}{1 + e^{-h}}$$\n",
        "\n",
        "where\n",
        "- $p$ is the probability value between 0 and 1\n",
        "- $h$ is some relationship between $x_1, x_2, x_3, \\dots, x_n$\n",
        "- $x_1, x_2, x_3, \\dots, x_n$ are $n \\in N$ feature(s) in a dataset\n",
        "\n",
        "In this case of dummy dataset, $h = \\beta_0 + \\beta_1 x_1 + \\beta_2 x_2$\n",
        "\n",
        "You can also read $h$ as a **hypothesis**. In a broader sense, to predict the labels 0 and 1 through logistic regression for the dummy dataset, you need to pass a hypothesis as an input to the sigmoid function. In this case, the hypothesis is that the `col 1` and `col 2` values have a linear relationship ($h = \\beta_0 + \\beta_1 x_1 + \\beta_2 x_2$) that predicts the labels 0 and 1.\n",
        "\n",
        "$$\\therefore p =\\frac{1}{1 + e^{-(\\beta_0 + \\beta_1 x_1 + \\beta_2 x_2)}}$$\n",
        "\n",
        "where $\\beta_0, \\beta_1, \\beta_2$ are coefficients and $x_1, x_2$ are the independent variables.\n",
        "\n",
        "The above expression can also be written as\n",
        "\n",
        "$$p =\\frac{1}{1 + e^{-BX^T}}$$\n",
        "\n",
        "where\n",
        "\n",
        "- $X$ denotes the feature matrix i.e.\n",
        "\n",
        "  $$X = \\begin{bmatrix} 1 & x_{1,1} & x_{2,1} \\\\ 1 & x_{1,2} & x_{2,2}\\\\ 1 & x_{1,3} & x_{2,3} \\\\ \\vdots & \\vdots & \\vdots \\\\ 1 & x_{1,1000} & x_{2,1000} \\end{bmatrix}$$\n",
        "\n",
        "  Each item in the above matrix can be represented by $x_{i,j}$ where $x_{i,j}$ denotes the $j^{\\text{th}}$ item in the $i^{\\text{th}}$ column. Also the values of $i$ goes from $1$ to $2$ and the values of $j$ goes from $1$ to $1000$.\n",
        "\n",
        "- $B$ denotes the regression coefficients matrix i.e.\n",
        "\n",
        "  $$B = \\begin{bmatrix} \\beta_0 & \\beta_1 & \\beta_2\\end{bmatrix}$$\n",
        "\n",
        "Essentially, $$h = BX^T$$\n",
        "\n",
        "\n",
        "The above product after taking the transpose of the features matrix becomes\n",
        "\n",
        "$$h = \\begin{bmatrix} \\beta_0 & \\beta_1 & \\beta_2\\end{bmatrix} \\begin{bmatrix} 1 & 1 & 1 & \\dots & 1 \\\\ x_{1,1} & x_{1,2} & x_{1,3} & \\dots & x_{1,1000} \\\\ x_{2,1} & x_{2,2} & x_{2,3} & \\dots & x_{2,1000} \\end{bmatrix}$$\n",
        "\n",
        "So let's create the `sigmoid()` function in Python that takes the arrays containing the features and the regression coefficients as inputs and returns the probability values as output. But first, you need to add a column containing 1s to the features array."
      ]
    },
    {
      "cell_type": "code",
      "metadata": {
        "id": "2A5Oi179RG58",
        "colab": {
          "base_uri": "https://localhost:8080/"
        },
        "outputId": "0ab8ce73-4fd3-41ff-b703-c11148e4a763"
      },
      "source": [
        "# S3.1: Add a column containing 1s to the features array.\n",
        "import numpy as np\n",
        "new_feature_arr=np.append(np.ones(shape=(feature_arr.shape[0],1)),feature_arr,axis=1)\n",
        "new_feature_arr"
      ],
      "execution_count": null,
      "outputs": [
        {
          "output_type": "execute_result",
          "data": {
            "text/plain": [
              "array([[ 1.        , -1.46458248,  7.60215256],\n",
              "       [ 1.        ,  6.73700485,  1.28118438],\n",
              "       [ 1.        ,  3.26953498,  0.17310608],\n",
              "       ...,\n",
              "       [ 1.        ,  2.92500241, -0.04378206],\n",
              "       [ 1.        ,  6.04744165,  1.90892753],\n",
              "       [ 1.        ,  0.22805604,  8.00391327]])"
            ]
          },
          "metadata": {},
          "execution_count": 29
        }
      ]
    },
    {
      "cell_type": "markdown",
      "metadata": {
        "id": "aldZlz0YI90T"
      },
      "source": [
        "In the above code:\n",
        "\n",
        "1. `np.ones(shape = (features_array.shape[0], 1)` generates a NumPy array containing 1s and has 1000 rows and 1 column.\n",
        "\n",
        "2. `np.append()` function adds the `features_array` to the array created in the first step column-wise (denoted by `axis = 1`). The general syntax is\n",
        "   `np.append(parent_matrix, matrix_to_be_added_to_the_parent_matrix)`\n"
      ]
    },
    {
      "cell_type": "code",
      "metadata": {
        "id": "OT4Z_4sGQPxF"
      },
      "source": [
        "# S3.2 Create the 'sigmoid()' function.\n",
        "def sigmoid(features_matrix, coef_matrix):\n",
        "    sigmoid_output_matrix = 1/(1 + np.exp(-1 * np.matmul(coef_matrix, np.transpose(features_matrix))))\n",
        "    return np.array(sigmoid_output_matrix)\n",
        "sigmoid_outputs=sigmoid(new_feature_arr,coeff_list)\n",
        "sigmoid_outputs\n"
      ],
      "execution_count": null,
      "outputs": []
    },
    {
      "cell_type": "markdown",
      "metadata": {
        "id": "pfgd4g-7KSLv"
      },
      "source": [
        "**Note:** The matrix multiplication rules are applicable to the NumPy arrays as well.\n",
        "\n",
        "Now, let's create a scatter plot between the $h = \\beta_0 + \\beta_1 x_1 + \\beta_2 x_2$ values and their corresponding sigmoid outputs."
      ]
    },
    {
      "cell_type": "code",
      "metadata": {
        "id": "4qBGQtKEULhd",
        "outputId": "0846bbe7-f005-4e1c-a9fa-22f423cd8f1c",
        "colab": {
          "base_uri": "https://localhost:8080/",
          "height": 515
        }
      },
      "source": [
        "# S3.3: Create a scatter plot between the 'h' values and their corresponding sigmoid outputs.\n",
        "plt.figure(figsize = (12, 6), dpi = 96)\n",
        "plt.title(\"Scatter Plot Between \" + r\"$\\beta_0 + \\beta_1 x_1 + \\beta_2 x_2$\" + \" and Corresponding Sigmoid Outputs\")\n",
        "plt.scatter(np.matmul(coeff_list, np.transpose(new_feature_arr)), sigmoid_outputs)\n",
        "\n",
        "plt.show()"
      ],
      "execution_count": null,
      "outputs": [
        {
          "output_type": "display_data",
          "data": {
            "text/plain": [
              "<Figure size 1152x576 with 1 Axes>"
            ],
            "image/png": "[encoded data removed]"
          },
          "metadata": {
            "needs_background": "light"
          }
        }
      ]
    },
    {
      "cell_type": "markdown",
      "metadata": {
        "id": "dZkBAV5pNqif"
      },
      "source": [
        "As you can see, the above plot follows the sigmoid curve.\n",
        "\n",
        "Now, let's predict the target values w.r.t. the threshold value of 0.5"
      ]
    },
    {
      "cell_type": "code",
      "metadata": {
        "id": "MJJiMlKv4TVJ",
        "colab": {
          "base_uri": "https://localhost:8080/"
        },
        "outputId": "d6d0cea5-27cf-4992-85e3-e0825d482438"
      },
      "source": [
        "# S3.4: Predict the target values w.r.t. the threshold value of 0.5\n",
        "predicted_target = [1 if item >= 0.5 else 0 for item in sigmoid_outputs]\n",
        "predicted_target[:10] # Displaying the first 10 items."
      ],
      "execution_count": null,
      "outputs": [
        {
          "output_type": "execute_result",
          "data": {
            "text/plain": [
              "[0, 1, 1, 1, 1, 1, 1, 0, 1, 0]"
            ]
          },
          "metadata": {},
          "execution_count": 51
        }
      ]
    },
    {
      "cell_type": "markdown",
      "metadata": {
        "id": "PXDnm2HvN6se"
      },
      "source": [
        "Finally, let's calculate the accuracy of the logistic regression model built through a confusion matrix, precision value, recall value and f1-score."
      ]
    },
    {
      "cell_type": "code",
      "metadata": {
        "id": "jZL2nJvX4n4f",
        "colab": {
          "base_uri": "https://localhost:8080/"
        },
        "outputId": "954dcb1e-b6c6-498d-e507-77ec29be02aa"
      },
      "source": [
        "# S3.5: Evaluate the accuracy of the logistic regression model built through a confusion matrix, precision value, recall value and f1-score.\n",
        "from sklearn.metrics import confusion_matrix, classification_report\n",
        "\n",
        "print(confusion_matrix(dummy_df['target'], predicted_target), \"\\n\")\n",
        "print(classification_report(dummy_df['target'], predicted_target))"
      ],
      "execution_count": null,
      "outputs": [
        {
          "output_type": "stream",
          "name": "stdout",
          "text": [
            "[[500   0]\n",
            " [  0 500]] \n",
            "\n",
            "              precision    recall  f1-score   support\n",
            "\n",
            "           0       1.00      1.00      1.00       500\n",
            "           1       1.00      1.00      1.00       500\n",
            "\n",
            "    accuracy                           1.00      1000\n",
            "   macro avg       1.00      1.00      1.00      1000\n",
            "weighted avg       1.00      1.00      1.00      1000\n",
            "\n"
          ]
        }
      ]
    },
    {
      "cell_type": "markdown",
      "metadata": {
        "id": "9O5XDqkTOV22"
      },
      "source": [
        "As you can see,\n",
        "- The FP and FN values in the confusion matrix are 0\n",
        "- The precision and recall values are 1\n",
        "- The f1-score is also 1\n",
        "\n",
        "This clearly shows that the decision boundary accurately separates the labels (or classes) with 100% accuracy.\n",
        "\n",
        "Let's stop here. In the next class, we will study more concepts on logistic regression."
      ]
    },
    {
      "cell_type": "markdown",
      "metadata": {
        "id": "Kx3sCQvxEZPH"
      },
      "source": [
        "---"
      ]
    }
  ]
}