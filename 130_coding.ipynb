{
  "nbformat": 4,
  "nbformat_minor": 0,
  "metadata": {
    "colab": {
      "provenance": [],
      "include_colab_link": true
    },
    "kernelspec": {
      "name": "python3",
      "display_name": "Python 3"
    },
    "language_info": {
      "name": "python"
    }
  },
  "cells": [
    {
      "cell_type": "markdown",
      "metadata": {
        "id": "view-in-github",
        "colab_type": "text"
      },
      "source": [
        "<a href=\"https://colab.research.google.com/github/twisha-k/Python_notes/blob/main/130_coding.ipynb\" target=\"_parent\"><img src=\"https://colab.research.google.com/assets/colab-badge.svg\" alt=\"Open In Colab\"/></a>"
      ]
    },
    {
      "cell_type": "markdown",
      "metadata": {
        "id": "mFyBWseUe89f"
      },
      "source": [
        "# Lesson 130: ARIMA IV - MA and ARMA Models"
      ]
    },
    {
      "cell_type": "markdown",
      "metadata": {
        "id": "0KLhWJtcfETM"
      },
      "source": [
        "---"
      ]
    },
    {
      "cell_type": "markdown",
      "metadata": {
        "id": "RZKTGw0AfUuA"
      },
      "source": [
        "#### Teacher-Student Activities\n",
        "\n",
        "One of the foundational models for time series forecasting is the **Moving Average** model, denoted as **MA(q)**. It is the building block of more complex models such as the ARMA and ARIMA.\n",
        "\n",
        "In the previous class, we explored a pure Autoregressive (AR)  model and implemented it using the `statsmodels` module. In today's class, we will explore another important component of ARIMA model i.e. Moving Average. Further, we will learn how to interpret ACF and PACF plots to determine optimal hyperparameter values.\n",
        "\n",
        "Let us first recall the concepts covered in the previous lesson and start this lesson from **Understanding Moving Average (MA) Models**."
      ]
    },
    {
      "cell_type": "markdown",
      "metadata": {
        "id": "xjeX3xP2A9qp"
      },
      "source": [
        "---"
      ]
    },
    {
      "cell_type": "markdown",
      "metadata": {
        "id": "r2Qh3n0MJpN0"
      },
      "source": [
        "#### Recap\n",
        "\n",
        "####  Dummy Data Preparation\n",
        "\n",
        "Let us create a dummy dataset consisting of following two columns:              \n",
        "- `Month`: Months from the year `1989` to `2000`.\n",
        "- `Sales`: Random integers between `100` and `1000`."
      ]
    },
    {
      "cell_type": "code",
      "source": [
        "# Generate random time series data\n",
        "\n",
        "import numpy as np\n",
        "import pandas as pd\n",
        "import matplotlib.pyplot as plt\n",
        "import seaborn as sns\n",
        "import warnings\n",
        "warnings.filterwarnings(\"ignore\")\n",
        "\n",
        "np.random.seed(10)  # Use 'seed()' to generate same random integers on every execution of code.\n",
        "\n",
        "time = pd.date_range(start = '1999-01-01', end = '1999-12-31', freq='D')\n",
        "\n",
        "prices = sorted(np.random.randint(120, 500, len(time)))\n",
        "\n",
        "price_df = pd.DataFrame({'Days': time, 'Price': prices})\n",
        "price_df.head()"
      ],
      "metadata": {
        "id": "L29aUPsZ5JJu",
        "colab": {
          "base_uri": "https://localhost:8080/",
          "height": 206
        },
        "outputId": "f8d74c0b-470e-4619-a8e9-12dfd6ba1954"
      },
      "execution_count": null,
      "outputs": [
        {
          "output_type": "execute_result",
          "data": {
            "text/plain": [
              "        Days  Price\n",
              "0 1999-01-01    120\n",
              "1 1999-01-02    120\n",
              "2 1999-01-03    122\n",
              "3 1999-01-04    123\n",
              "4 1999-01-05    123"
            ],
            "text/html": [
              "\n",
              "  <div id=\"df-f33811fe-fa00-499a-b451-3bc475e7f017\" class=\"colab-df-container\">\n",
              "    <div>\n",
              "<style scoped>\n",
              "    .dataframe tbody tr th:only-of-type {\n",
              "        vertical-align: middle;\n",
              "    }\n",
              "\n",
              "    .dataframe tbody tr th {\n",
              "        vertical-align: top;\n",
              "    }\n",
              "\n",
              "    .dataframe thead th {\n",
              "        text-align: right;\n",
              "    }\n",
              "</style>\n",
              "<table border=\"1\" class=\"dataframe\">\n",
              "  <thead>\n",
              "    <tr style=\"text-align: right;\">\n",
              "      <th></th>\n",
              "      <th>Days</th>\n",
              "      <th>Price</th>\n",
              "    </tr>\n",
              "  </thead>\n",
              "  <tbody>\n",
              "    <tr>\n",
              "      <th>0</th>\n",
              "      <td>1999-01-01</td>\n",
              "      <td>120</td>\n",
              "    </tr>\n",
              "    <tr>\n",
              "      <th>1</th>\n",
              "      <td>1999-01-02</td>\n",
              "      <td>120</td>\n",
              "    </tr>\n",
              "    <tr>\n",
              "      <th>2</th>\n",
              "      <td>1999-01-03</td>\n",
              "      <td>122</td>\n",
              "    </tr>\n",
              "    <tr>\n",
              "      <th>3</th>\n",
              "      <td>1999-01-04</td>\n",
              "      <td>123</td>\n",
              "    </tr>\n",
              "    <tr>\n",
              "      <th>4</th>\n",
              "      <td>1999-01-05</td>\n",
              "      <td>123</td>\n",
              "    </tr>\n",
              "  </tbody>\n",
              "</table>\n",
              "</div>\n",
              "    <div class=\"colab-df-buttons\">\n",
              "\n",
              "  <div class=\"colab-df-container\">\n",
              "    <button class=\"colab-df-convert\" onclick=\"convertToInteractive('df-f33811fe-fa00-499a-b451-3bc475e7f017')\"\n",
              "            title=\"Convert this dataframe to an interactive table.\"\n",
              "            style=\"display:none;\">\n",
              "\n",
              "  <svg xmlns=\"http://www.w3.org/2000/svg\" height=\"24px\" viewBox=\"0 -960 960 960\">\n",
              "    <path d=\"M120-120v-720h720v720H120Zm60-500h600v-160H180v160Zm220 220h160v-160H400v160Zm0 220h160v-160H400v160ZM180-400h160v-160H180v160Zm440 0h160v-160H620v160ZM180-180h160v-160H180v160Zm440 0h160v-160H620v160Z\"/>\n",
              "  </svg>\n",
              "    </button>\n",
              "\n",
              "  <style>\n",
              "    .colab-df-container {\n",
              "      display:flex;\n",
              "      gap: 12px;\n",
              "    }\n",
              "\n",
              "    .colab-df-convert {\n",
              "      background-color: #E8F0FE;\n",
              "      border: none;\n",
              "      border-radius: 50%;\n",
              "      cursor: pointer;\n",
              "      display: none;\n",
              "      fill: #1967D2;\n",
              "      height: 32px;\n",
              "      padding: 0 0 0 0;\n",
              "      width: 32px;\n",
              "    }\n",
              "\n",
              "    .colab-df-convert:hover {\n",
              "      background-color: #E2EBFA;\n",
              "      box-shadow: 0px 1px 2px rgba(60, 64, 67, 0.3), 0px 1px 3px 1px rgba(60, 64, 67, 0.15);\n",
              "      fill: #174EA6;\n",
              "    }\n",
              "\n",
              "    .colab-df-buttons div {\n",
              "      margin-bottom: 4px;\n",
              "    }\n",
              "\n",
              "    [theme=dark] .colab-df-convert {\n",
              "      background-color: #3B4455;\n",
              "      fill: #D2E3FC;\n",
              "    }\n",
              "\n",
              "    [theme=dark] .colab-df-convert:hover {\n",
              "      background-color: #434B5C;\n",
              "      box-shadow: 0px 1px 3px 1px rgba(0, 0, 0, 0.15);\n",
              "      filter: drop-shadow(0px 1px 2px rgba(0, 0, 0, 0.3));\n",
              "      fill: #FFFFFF;\n",
              "    }\n",
              "  </style>\n",
              "\n",
              "    <script>\n",
              "      const buttonEl =\n",
              "        document.querySelector('#df-f33811fe-fa00-499a-b451-3bc475e7f017 button.colab-df-convert');\n",
              "      buttonEl.style.display =\n",
              "        google.colab.kernel.accessAllowed ? 'block' : 'none';\n",
              "\n",
              "      async function convertToInteractive(key) {\n",
              "        const element = document.querySelector('#df-f33811fe-fa00-499a-b451-3bc475e7f017');\n",
              "        const dataTable =\n",
              "          await google.colab.kernel.invokeFunction('convertToInteractive',\n",
              "                                                    [key], {});\n",
              "        if (!dataTable) return;\n",
              "\n",
              "        const docLinkHtml = 'Like what you see? Visit the ' +\n",
              "          '<a target=\"_blank\" href=https://colab.research.google.com/notebooks/data_table.ipynb>data table notebook</a>'\n",
              "          + ' to learn more about interactive tables.';\n",
              "        element.innerHTML = '';\n",
              "        dataTable['output_type'] = 'display_data';\n",
              "        await google.colab.output.renderOutput(dataTable, element);\n",
              "        const docLink = document.createElement('div');\n",
              "        docLink.innerHTML = docLinkHtml;\n",
              "        element.appendChild(docLink);\n",
              "      }\n",
              "    </script>\n",
              "  </div>\n",
              "\n",
              "\n",
              "<div id=\"df-a8b963d7-a025-4719-b818-c8959a7d2963\">\n",
              "  <button class=\"colab-df-quickchart\" onclick=\"quickchart('df-a8b963d7-a025-4719-b818-c8959a7d2963')\"\n",
              "            title=\"Suggest charts.\"\n",
              "            style=\"display:none;\">\n",
              "\n",
              "<svg xmlns=\"http://www.w3.org/2000/svg\" height=\"24px\"viewBox=\"0 0 24 24\"\n",
              "     width=\"24px\">\n",
              "    <g>\n",
              "        <path d=\"M19 3H5c-1.1 0-2 .9-2 2v14c0 1.1.9 2 2 2h14c1.1 0 2-.9 2-2V5c0-1.1-.9-2-2-2zM9 17H7v-7h2v7zm4 0h-2V7h2v10zm4 0h-2v-4h2v4z\"/>\n",
              "    </g>\n",
              "</svg>\n",
              "  </button>\n",
              "\n",
              "<style>\n",
              "  .colab-df-quickchart {\n",
              "      --bg-color: #E8F0FE;\n",
              "      --fill-color: #1967D2;\n",
              "      --hover-bg-color: #E2EBFA;\n",
              "      --hover-fill-color: #174EA6;\n",
              "      --disabled-fill-color: #AAA;\n",
              "      --disabled-bg-color: #DDD;\n",
              "  }\n",
              "\n",
              "  [theme=dark] .colab-df-quickchart {\n",
              "      --bg-color: #3B4455;\n",
              "      --fill-color: #D2E3FC;\n",
              "      --hover-bg-color: #434B5C;\n",
              "      --hover-fill-color: #FFFFFF;\n",
              "      --disabled-bg-color: #3B4455;\n",
              "      --disabled-fill-color: #666;\n",
              "  }\n",
              "\n",
              "  .colab-df-quickchart {\n",
              "    background-color: var(--bg-color);\n",
              "    border: none;\n",
              "    border-radius: 50%;\n",
              "    cursor: pointer;\n",
              "    display: none;\n",
              "    fill: var(--fill-color);\n",
              "    height: 32px;\n",
              "    padding: 0;\n",
              "    width: 32px;\n",
              "  }\n",
              "\n",
              "  .colab-df-quickchart:hover {\n",
              "    background-color: var(--hover-bg-color);\n",
              "    box-shadow: 0 1px 2px rgba(60, 64, 67, 0.3), 0 1px 3px 1px rgba(60, 64, 67, 0.15);\n",
              "    fill: var(--button-hover-fill-color);\n",
              "  }\n",
              "\n",
              "  .colab-df-quickchart-complete:disabled,\n",
              "  .colab-df-quickchart-complete:disabled:hover {\n",
              "    background-color: var(--disabled-bg-color);\n",
              "    fill: var(--disabled-fill-color);\n",
              "    box-shadow: none;\n",
              "  }\n",
              "\n",
              "  .colab-df-spinner {\n",
              "    border: 2px solid var(--fill-color);\n",
              "    border-color: transparent;\n",
              "    border-bottom-color: var(--fill-color);\n",
              "    animation:\n",
              "      spin 1s steps(1) infinite;\n",
              "  }\n",
              "\n",
              "  @keyframes spin {\n",
              "    0% {\n",
              "      border-color: transparent;\n",
              "      border-bottom-color: var(--fill-color);\n",
              "      border-left-color: var(--fill-color);\n",
              "    }\n",
              "    20% {\n",
              "      border-color: transparent;\n",
              "      border-left-color: var(--fill-color);\n",
              "      border-top-color: var(--fill-color);\n",
              "    }\n",
              "    30% {\n",
              "      border-color: transparent;\n",
              "      border-left-color: var(--fill-color);\n",
              "      border-top-color: var(--fill-color);\n",
              "      border-right-color: var(--fill-color);\n",
              "    }\n",
              "    40% {\n",
              "      border-color: transparent;\n",
              "      border-right-color: var(--fill-color);\n",
              "      border-top-color: var(--fill-color);\n",
              "    }\n",
              "    60% {\n",
              "      border-color: transparent;\n",
              "      border-right-color: var(--fill-color);\n",
              "    }\n",
              "    80% {\n",
              "      border-color: transparent;\n",
              "      border-right-color: var(--fill-color);\n",
              "      border-bottom-color: var(--fill-color);\n",
              "    }\n",
              "    90% {\n",
              "      border-color: transparent;\n",
              "      border-bottom-color: var(--fill-color);\n",
              "    }\n",
              "  }\n",
              "</style>\n",
              "\n",
              "  <script>\n",
              "    async function quickchart(key) {\n",
              "      const quickchartButtonEl =\n",
              "        document.querySelector('#' + key + ' button');\n",
              "      quickchartButtonEl.disabled = true;  // To prevent multiple clicks.\n",
              "      quickchartButtonEl.classList.add('colab-df-spinner');\n",
              "      try {\n",
              "        const charts = await google.colab.kernel.invokeFunction(\n",
              "            'suggestCharts', [key], {});\n",
              "      } catch (error) {\n",
              "        console.error('Error during call to suggestCharts:', error);\n",
              "      }\n",
              "      quickchartButtonEl.classList.remove('colab-df-spinner');\n",
              "      quickchartButtonEl.classList.add('colab-df-quickchart-complete');\n",
              "    }\n",
              "    (() => {\n",
              "      let quickchartButtonEl =\n",
              "        document.querySelector('#df-a8b963d7-a025-4719-b818-c8959a7d2963 button');\n",
              "      quickchartButtonEl.style.display =\n",
              "        google.colab.kernel.accessAllowed ? 'block' : 'none';\n",
              "    })();\n",
              "  </script>\n",
              "</div>\n",
              "    </div>\n",
              "  </div>\n"
            ]
          },
          "metadata": {},
          "execution_count": 1
        }
      ]
    },
    {
      "cell_type": "code",
      "source": [
        "# Get the total number of rows and columns and data types of columns.\n",
        "price_df.info()"
      ],
      "metadata": {
        "id": "K10udu-j9TyH",
        "colab": {
          "base_uri": "https://localhost:8080/"
        },
        "outputId": "a76e9e9c-136c-402b-e5fb-800613322518"
      },
      "execution_count": null,
      "outputs": [
        {
          "output_type": "stream",
          "name": "stdout",
          "text": [
            "<class 'pandas.core.frame.DataFrame'>\n",
            "RangeIndex: 365 entries, 0 to 364\n",
            "Data columns (total 2 columns):\n",
            " #   Column  Non-Null Count  Dtype         \n",
            "---  ------  --------------  -----         \n",
            " 0   Days    365 non-null    datetime64[ns]\n",
            " 1   Price   365 non-null    int64         \n",
            "dtypes: datetime64[ns](1), int64(1)\n",
            "memory usage: 5.8 KB\n"
          ]
        }
      ]
    },
    {
      "cell_type": "markdown",
      "source": [
        "Set `Days` as index"
      ],
      "metadata": {
        "id": "V9ktYI5Cz2Ap"
      }
    },
    {
      "cell_type": "code",
      "source": [
        "# Set 'Days' column as index of the DataFrame\n",
        "price_ind_df = price_df.set_index('Days')\n",
        "price_ind_df.head()"
      ],
      "metadata": {
        "id": "oxjx34HT6LTi",
        "colab": {
          "base_uri": "https://localhost:8080/",
          "height": 237
        },
        "outputId": "c1f48013-bd58-408e-f696-5e5077e1b9e1"
      },
      "execution_count": null,
      "outputs": [
        {
          "output_type": "execute_result",
          "data": {
            "text/plain": [
              "            Price\n",
              "Days             \n",
              "1999-01-01    120\n",
              "1999-01-02    120\n",
              "1999-01-03    122\n",
              "1999-01-04    123\n",
              "1999-01-05    123"
            ],
            "text/html": [
              "\n",
              "  <div id=\"df-15eaf4af-e5b5-49db-9776-b7d82d4b9404\" class=\"colab-df-container\">\n",
              "    <div>\n",
              "<style scoped>\n",
              "    .dataframe tbody tr th:only-of-type {\n",
              "        vertical-align: middle;\n",
              "    }\n",
              "\n",
              "    .dataframe tbody tr th {\n",
              "        vertical-align: top;\n",
              "    }\n",
              "\n",
              "    .dataframe thead th {\n",
              "        text-align: right;\n",
              "    }\n",
              "</style>\n",
              "<table border=\"1\" class=\"dataframe\">\n",
              "  <thead>\n",
              "    <tr style=\"text-align: right;\">\n",
              "      <th></th>\n",
              "      <th>Price</th>\n",
              "    </tr>\n",
              "    <tr>\n",
              "      <th>Days</th>\n",
              "      <th></th>\n",
              "    </tr>\n",
              "  </thead>\n",
              "  <tbody>\n",
              "    <tr>\n",
              "      <th>1999-01-01</th>\n",
              "      <td>120</td>\n",
              "    </tr>\n",
              "    <tr>\n",
              "      <th>1999-01-02</th>\n",
              "      <td>120</td>\n",
              "    </tr>\n",
              "    <tr>\n",
              "      <th>1999-01-03</th>\n",
              "      <td>122</td>\n",
              "    </tr>\n",
              "    <tr>\n",
              "      <th>1999-01-04</th>\n",
              "      <td>123</td>\n",
              "    </tr>\n",
              "    <tr>\n",
              "      <th>1999-01-05</th>\n",
              "      <td>123</td>\n",
              "    </tr>\n",
              "  </tbody>\n",
              "</table>\n",
              "</div>\n",
              "    <div class=\"colab-df-buttons\">\n",
              "\n",
              "  <div class=\"colab-df-container\">\n",
              "    <button class=\"colab-df-convert\" onclick=\"convertToInteractive('df-15eaf4af-e5b5-49db-9776-b7d82d4b9404')\"\n",
              "            title=\"Convert this dataframe to an interactive table.\"\n",
              "            style=\"display:none;\">\n",
              "\n",
              "  <svg xmlns=\"http://www.w3.org/2000/svg\" height=\"24px\" viewBox=\"0 -960 960 960\">\n",
              "    <path d=\"M120-120v-720h720v720H120Zm60-500h600v-160H180v160Zm220 220h160v-160H400v160Zm0 220h160v-160H400v160ZM180-400h160v-160H180v160Zm440 0h160v-160H620v160ZM180-180h160v-160H180v160Zm440 0h160v-160H620v160Z\"/>\n",
              "  </svg>\n",
              "    </button>\n",
              "\n",
              "  <style>\n",
              "    .colab-df-container {\n",
              "      display:flex;\n",
              "      gap: 12px;\n",
              "    }\n",
              "\n",
              "    .colab-df-convert {\n",
              "      background-color: #E8F0FE;\n",
              "      border: none;\n",
              "      border-radius: 50%;\n",
              "      cursor: pointer;\n",
              "      display: none;\n",
              "      fill: #1967D2;\n",
              "      height: 32px;\n",
              "      padding: 0 0 0 0;\n",
              "      width: 32px;\n",
              "    }\n",
              "\n",
              "    .colab-df-convert:hover {\n",
              "      background-color: #E2EBFA;\n",
              "      box-shadow: 0px 1px 2px rgba(60, 64, 67, 0.3), 0px 1px 3px 1px rgba(60, 64, 67, 0.15);\n",
              "      fill: #174EA6;\n",
              "    }\n",
              "\n",
              "    .colab-df-buttons div {\n",
              "      margin-bottom: 4px;\n",
              "    }\n",
              "\n",
              "    [theme=dark] .colab-df-convert {\n",
              "      background-color: #3B4455;\n",
              "      fill: #D2E3FC;\n",
              "    }\n",
              "\n",
              "    [theme=dark] .colab-df-convert:hover {\n",
              "      background-color: #434B5C;\n",
              "      box-shadow: 0px 1px 3px 1px rgba(0, 0, 0, 0.15);\n",
              "      filter: drop-shadow(0px 1px 2px rgba(0, 0, 0, 0.3));\n",
              "      fill: #FFFFFF;\n",
              "    }\n",
              "  </style>\n",
              "\n",
              "    <script>\n",
              "      const buttonEl =\n",
              "        document.querySelector('#df-15eaf4af-e5b5-49db-9776-b7d82d4b9404 button.colab-df-convert');\n",
              "      buttonEl.style.display =\n",
              "        google.colab.kernel.accessAllowed ? 'block' : 'none';\n",
              "\n",
              "      async function convertToInteractive(key) {\n",
              "        const element = document.querySelector('#df-15eaf4af-e5b5-49db-9776-b7d82d4b9404');\n",
              "        const dataTable =\n",
              "          await google.colab.kernel.invokeFunction('convertToInteractive',\n",
              "                                                    [key], {});\n",
              "        if (!dataTable) return;\n",
              "\n",
              "        const docLinkHtml = 'Like what you see? Visit the ' +\n",
              "          '<a target=\"_blank\" href=https://colab.research.google.com/notebooks/data_table.ipynb>data table notebook</a>'\n",
              "          + ' to learn more about interactive tables.';\n",
              "        element.innerHTML = '';\n",
              "        dataTable['output_type'] = 'display_data';\n",
              "        await google.colab.output.renderOutput(dataTable, element);\n",
              "        const docLink = document.createElement('div');\n",
              "        docLink.innerHTML = docLinkHtml;\n",
              "        element.appendChild(docLink);\n",
              "      }\n",
              "    </script>\n",
              "  </div>\n",
              "\n",
              "\n",
              "<div id=\"df-d395fccb-be99-46fc-b6b3-bce23a5689ce\">\n",
              "  <button class=\"colab-df-quickchart\" onclick=\"quickchart('df-d395fccb-be99-46fc-b6b3-bce23a5689ce')\"\n",
              "            title=\"Suggest charts.\"\n",
              "            style=\"display:none;\">\n",
              "\n",
              "<svg xmlns=\"http://www.w3.org/2000/svg\" height=\"24px\"viewBox=\"0 0 24 24\"\n",
              "     width=\"24px\">\n",
              "    <g>\n",
              "        <path d=\"M19 3H5c-1.1 0-2 .9-2 2v14c0 1.1.9 2 2 2h14c1.1 0 2-.9 2-2V5c0-1.1-.9-2-2-2zM9 17H7v-7h2v7zm4 0h-2V7h2v10zm4 0h-2v-4h2v4z\"/>\n",
              "    </g>\n",
              "</svg>\n",
              "  </button>\n",
              "\n",
              "<style>\n",
              "  .colab-df-quickchart {\n",
              "      --bg-color: #E8F0FE;\n",
              "      --fill-color: #1967D2;\n",
              "      --hover-bg-color: #E2EBFA;\n",
              "      --hover-fill-color: #174EA6;\n",
              "      --disabled-fill-color: #AAA;\n",
              "      --disabled-bg-color: #DDD;\n",
              "  }\n",
              "\n",
              "  [theme=dark] .colab-df-quickchart {\n",
              "      --bg-color: #3B4455;\n",
              "      --fill-color: #D2E3FC;\n",
              "      --hover-bg-color: #434B5C;\n",
              "      --hover-fill-color: #FFFFFF;\n",
              "      --disabled-bg-color: #3B4455;\n",
              "      --disabled-fill-color: #666;\n",
              "  }\n",
              "\n",
              "  .colab-df-quickchart {\n",
              "    background-color: var(--bg-color);\n",
              "    border: none;\n",
              "    border-radius: 50%;\n",
              "    cursor: pointer;\n",
              "    display: none;\n",
              "    fill: var(--fill-color);\n",
              "    height: 32px;\n",
              "    padding: 0;\n",
              "    width: 32px;\n",
              "  }\n",
              "\n",
              "  .colab-df-quickchart:hover {\n",
              "    background-color: var(--hover-bg-color);\n",
              "    box-shadow: 0 1px 2px rgba(60, 64, 67, 0.3), 0 1px 3px 1px rgba(60, 64, 67, 0.15);\n",
              "    fill: var(--button-hover-fill-color);\n",
              "  }\n",
              "\n",
              "  .colab-df-quickchart-complete:disabled,\n",
              "  .colab-df-quickchart-complete:disabled:hover {\n",
              "    background-color: var(--disabled-bg-color);\n",
              "    fill: var(--disabled-fill-color);\n",
              "    box-shadow: none;\n",
              "  }\n",
              "\n",
              "  .colab-df-spinner {\n",
              "    border: 2px solid var(--fill-color);\n",
              "    border-color: transparent;\n",
              "    border-bottom-color: var(--fill-color);\n",
              "    animation:\n",
              "      spin 1s steps(1) infinite;\n",
              "  }\n",
              "\n",
              "  @keyframes spin {\n",
              "    0% {\n",
              "      border-color: transparent;\n",
              "      border-bottom-color: var(--fill-color);\n",
              "      border-left-color: var(--fill-color);\n",
              "    }\n",
              "    20% {\n",
              "      border-color: transparent;\n",
              "      border-left-color: var(--fill-color);\n",
              "      border-top-color: var(--fill-color);\n",
              "    }\n",
              "    30% {\n",
              "      border-color: transparent;\n",
              "      border-left-color: var(--fill-color);\n",
              "      border-top-color: var(--fill-color);\n",
              "      border-right-color: var(--fill-color);\n",
              "    }\n",
              "    40% {\n",
              "      border-color: transparent;\n",
              "      border-right-color: var(--fill-color);\n",
              "      border-top-color: var(--fill-color);\n",
              "    }\n",
              "    60% {\n",
              "      border-color: transparent;\n",
              "      border-right-color: var(--fill-color);\n",
              "    }\n",
              "    80% {\n",
              "      border-color: transparent;\n",
              "      border-right-color: var(--fill-color);\n",
              "      border-bottom-color: var(--fill-color);\n",
              "    }\n",
              "    90% {\n",
              "      border-color: transparent;\n",
              "      border-bottom-color: var(--fill-color);\n",
              "    }\n",
              "  }\n",
              "</style>\n",
              "\n",
              "  <script>\n",
              "    async function quickchart(key) {\n",
              "      const quickchartButtonEl =\n",
              "        document.querySelector('#' + key + ' button');\n",
              "      quickchartButtonEl.disabled = true;  // To prevent multiple clicks.\n",
              "      quickchartButtonEl.classList.add('colab-df-spinner');\n",
              "      try {\n",
              "        const charts = await google.colab.kernel.invokeFunction(\n",
              "            'suggestCharts', [key], {});\n",
              "      } catch (error) {\n",
              "        console.error('Error during call to suggestCharts:', error);\n",
              "      }\n",
              "      quickchartButtonEl.classList.remove('colab-df-spinner');\n",
              "      quickchartButtonEl.classList.add('colab-df-quickchart-complete');\n",
              "    }\n",
              "    (() => {\n",
              "      let quickchartButtonEl =\n",
              "        document.querySelector('#df-d395fccb-be99-46fc-b6b3-bce23a5689ce button');\n",
              "      quickchartButtonEl.style.display =\n",
              "        google.colab.kernel.accessAllowed ? 'block' : 'none';\n",
              "    })();\n",
              "  </script>\n",
              "</div>\n",
              "    </div>\n",
              "  </div>\n"
            ]
          },
          "metadata": {},
          "execution_count": 3
        }
      ]
    },
    {
      "cell_type": "markdown",
      "source": [
        "---"
      ],
      "metadata": {
        "id": "IMVIXttwz1Zn"
      }
    },
    {
      "cell_type": "markdown",
      "source": [
        "#### Understanding Autoregression\n",
        "\n",
        "Recall the simple linear regression model equation:\n",
        "\n",
        "$$y = \\beta_0 + \\beta_1 x + \\epsilon \\tag{1.1}$$\n",
        "\n",
        "Where,\n",
        "- $x$ is independent variable or feature.\n",
        "\n",
        "- $y$ is the target variable whose value is to be predicted.\n",
        "\n",
        "- $\\beta_0$ is the intercept or the constant.\n",
        "- $\\beta_1$ is the regression coefficient for feature $x$.\n",
        "\n",
        "- **$\\epsilon$** is the random error or residual obtained along with the predicted value.\n",
        "\n",
        "If we replace $x$ with $y_{t-1}$ , $y$ with $y_{t}$ and $ \\epsilon$ with $ \\epsilon_{t}$ in equation 1.1, we get:\n",
        "\n",
        "$$y_t = \\beta_0 + \\beta_1 y_{t-1} + \\epsilon_t \\tag{1.2}$$\n",
        "\n",
        "Here,\n",
        " - $y_t$ is the value of target variable $y$ obtained at current time $t$.\n",
        " - $y_{t-1}$ is the value of target variable $y$  at a previous time lag $(t-1)$.\n",
        " - **$\\epsilon_t$** is the random error or residual obtained for current time $t$.\n",
        "\n",
        "Let us use $\\phi$ instead of $\\beta$ to represent coefficients.\n",
        "\n",
        "Thus, equation 1.2 can be rewritten as:\n",
        "\n",
        "$$y_t = \\phi_0 + \\phi_1 y_{t-1} + \\epsilon_t \\tag{1.3}$$\n",
        "\n",
        "Thus, the target variable in the previous time period ($y_{t-1}$) has become the predictor. This is nothing but an **Autoregressive (AR)** model.\n",
        "\n",
        "<img src=\"https://s3-whjr-v2-prod-bucket.whjr.online/whjr-v2-prod-bucket/2ed779bb-99bf-4856-9770-ff63fd5913f1.png\" width = 25 width = 20/> An **AR** model uses a linear combination of past values of the target variable to predict its future value. Autoregression is made of the word, **Auto** and **Regression** which means  linear regression on itself (auto). Thus, it is actually training a regression model on the value of the target variable itself.\n",
        "\n",
        "**Order of an AR model (`p`):**\n",
        "\n",
        "The order of an AR model is the number of immediately preceding values in the series that are used to predict the value at present. So, the equation (1.3) model is a first-order autoregression, written as **AR(1)**.\n",
        "\n",
        "Similarly, if we want to predict $y$ using two previous time lags, for example measuring global temperature in the previous two years ($y_{t-1}$, $y_{t-2}$), then the autoregressive model for doing so would be:\n",
        "\n",
        "$$y_t = \\phi_0 + \\phi_1 y_{t-1} + \\phi_2 y_{t-2}+ \\epsilon_t \\tag{1.4}$$\n",
        "\n",
        "This model is a second-order autoregression, written as **AR(2)**, since the value at time $t$  is predicted from the values at times $t-1$ and $t-2$. This is similar to multiple linear regression model using two feature variables.\n",
        "\n",
        "More generally, the auto-regressive model is defined as **AR(p)**, where `p` refers to the order of the AR\n",
        "component:\n",
        "\n",
        "$$\\boxed{y_t = \\phi_0 + \\phi_1 y_{t-1} + \\phi_2 y_{t-2} + \\dots + \\phi_p y_{t-p} + \\epsilon_t } \\tag{1.5}$$"
      ],
      "metadata": {
        "id": "xZ6wo_244Hzd"
      }
    },
    {
      "cell_type": "markdown",
      "source": [
        "---"
      ],
      "metadata": {
        "id": "bMyQi8nNRjXO"
      }
    },
    {
      "cell_type": "markdown",
      "source": [
        "#### Correlation and Autocorrelation\n",
        "\n",
        "An autoregression model makes an assumption that the observations at current and previous\n",
        "time steps are useful to predict the value at the next time step. This relationship between\n",
        "variables is called **Correlation**.\n",
        "\n",
        "In one of the previous classes, we already explored the concept of correlation and correlation coefficient. Let us recall these terms.\n",
        "\n",
        "**Correlation:**\n",
        "\n",
        "- Correlation measures the strength of a linear relationship between two variables.\n",
        "- A correlation coefficient is a number between -1 and 1 that describes a negative or positive correlation respectively. A value of zero indicates no correlation.\n",
        "\n",
        "**Autocorrelation:**\n",
        "- Similar to correlation, for a time series model, we can determine the strength of linear relationship between the output variable $y_t$ and its values at previous time lags.\n",
        "- *As the correlation is calculated between the\n",
        "variable and itself at previous time steps, it is called an <b>Autocorrelation</b>*.\n",
        "- Thus, lag-1 autocorrelation is the correlation between $y_t$ and $y_{t-1}$.\n",
        "- Similarly, lag-2 autocorrelation is the correlation between $y_t$ and $y_{t-2}$ and so on.\n",
        "- Similar to correlation coefficient, the autocorrelation coefficients also lies in the range of (-1, 1) including -1 and 1.\n",
        "\n",
        "**Why to determine autocorrelation?**\n",
        "\n",
        "The autocorrelation statistics helps to choose which lag variables will be useful in a model\n",
        "and which will not. If all lag variables show low or no correlation with the output variable, then it suggests that the time series problem may not be predictable. Thus, determining autocorrelation can be very useful when getting started on a new dataset.\n",
        "\n",
        "Let us investigate the autocorrelation of the price dummy dataset to determine whether there exists any autocorrelation. If yes, then we will develop\n",
        "an AR model to make predictions. If not, then we cannot use AR model for prediction.\n",
        "\n",
        "**1. Checking correlation using `lag_plot()` function:**\n",
        "\n",
        "A quick check for autocorrelation would be to plot the observation at the current time step ($t$) with the observation at the previous time step   ($t-1$) as a scatter plot.\n",
        "\n",
        "This could be done manually by first creating a\n",
        "lag-1 version of the time series dataset and using a built-in scatter plot function in the Pandas\n",
        "library. But there is an easier way.\n",
        "Pandas provide a built-in plot to do exactly this, called the `lag plot()` function.\n",
        "\n",
        "To use this function, import `lag_plot` from `pandas.plotting` module and pass the DataFrame as input to this function.\n",
        "\n"
      ],
      "metadata": {
        "id": "0ZOHBFhzz2cu"
      }
    },
    {
      "cell_type": "code",
      "source": [
        "# Determine lag-1 autocorrelation using 'lag_plot()' function.\n",
        "from pandas.plotting import lag_plot\n",
        "lag_plot(price_ind_df)\n",
        "plt.show()"
      ],
      "metadata": {
        "id": "lDeh9zgWFGMa",
        "colab": {
          "base_uri": "https://localhost:8080/",
          "height": 449
        },
        "outputId": "8c18ff6b-097e-4df9-b0f3-20180cf36012"
      },
      "execution_count": null,
      "outputs": [
        {
          "output_type": "display_data",
          "data": {
            "text/plain": [
              "<Figure size 640x480 with 1 Axes>"
            ],
            "image/png": "[encoded data removed]"
          },
          "metadata": {}
        }
      ]
    },
    {
      "cell_type": "markdown",
      "source": [
        "Running the above code plots the today's price data ($t$) on the $x$-axis against the price on the previous day ($t-1$) on the $y$-axis. We can see a large number of observations along a diagonal line of the plot. It clearly shows a relationship or correlation.\n",
        "\n",
        "Another way to check for  autocorrelation is to directly calculate the correlation coefficient between the observation and the lag variable using the `corr()` function.\n",
        "\n",
        "**2. Checking correlation using `corr()` function:**\n",
        "\n",
        "We had already used `corr()` function to calculate correlation coefficient values between the numeric columns of a DataFrame.\n",
        "\n",
        "To use this function for time-series dataset, first create a lag-1 version of the dataset and then calculate a correlation matrix between original variable and lag-1 variable. To do so, follow the steps given below:\n",
        "1. Create an empty DataFrame `corr_df`.\n",
        "2. Store the `'Price'` column of original indexed DataFrame as `'t'` column in `corr_df` DataFrame.\n",
        "3. Shift the original DataFrame by 1 to obtain its lag-1 version using `shift(1)` function.\n",
        "4. Store the lag-1 values as `'t-1'` column in `corr_df` DataFrame.\n",
        "5. Use `corr()` function with `corr_df` DataFrame to print the correlation coefficient between $y_t$ and $y_{t-1}$."
      ],
      "metadata": {
        "id": "meUyMZxBbwki"
      }
    },
    {
      "cell_type": "code",
      "source": [
        "# Create lagged version of dataset\n",
        "corr_df = pd.DataFrame()\n",
        "corr_df['t'] = price_ind_df['Price']\n",
        "lag1_df = price_ind_df.shift(1)\n",
        "corr_df['t-1'] = lag1_df\n",
        "corr_df"
      ],
      "metadata": {
        "id": "On9aBOBZYSKR",
        "colab": {
          "base_uri": "https://localhost:8080/",
          "height": 455
        },
        "outputId": "ff53b0e4-cc06-458c-d62a-0764c18d95a8"
      },
      "execution_count": null,
      "outputs": [
        {
          "output_type": "execute_result",
          "data": {
            "text/plain": [
              "              t    t-1\n",
              "Days                  \n",
              "1999-01-01  120    NaN\n",
              "1999-01-02  120  120.0\n",
              "1999-01-03  122  120.0\n",
              "1999-01-04  123  122.0\n",
              "1999-01-05  123  123.0\n",
              "...         ...    ...\n",
              "1999-12-27  493  492.0\n",
              "1999-12-28  496  493.0\n",
              "1999-12-29  496  496.0\n",
              "1999-12-30  497  496.0\n",
              "1999-12-31  497  497.0\n",
              "\n",
              "[365 rows x 2 columns]"
            ],
            "text/html": [
              "\n",
              "  <div id=\"df-6f4d186b-890b-40b9-ac37-e413961c0584\" class=\"colab-df-container\">\n",
              "    <div>\n",
              "<style scoped>\n",
              "    .dataframe tbody tr th:only-of-type {\n",
              "        vertical-align: middle;\n",
              "    }\n",
              "\n",
              "    .dataframe tbody tr th {\n",
              "        vertical-align: top;\n",
              "    }\n",
              "\n",
              "    .dataframe thead th {\n",
              "        text-align: right;\n",
              "    }\n",
              "</style>\n",
              "<table border=\"1\" class=\"dataframe\">\n",
              "  <thead>\n",
              "    <tr style=\"text-align: right;\">\n",
              "      <th></th>\n",
              "      <th>t</th>\n",
              "      <th>t-1</th>\n",
              "    </tr>\n",
              "    <tr>\n",
              "      <th>Days</th>\n",
              "      <th></th>\n",
              "      <th></th>\n",
              "    </tr>\n",
              "  </thead>\n",
              "  <tbody>\n",
              "    <tr>\n",
              "      <th>1999-01-01</th>\n",
              "      <td>120</td>\n",
              "      <td>NaN</td>\n",
              "    </tr>\n",
              "    <tr>\n",
              "      <th>1999-01-02</th>\n",
              "      <td>120</td>\n",
              "      <td>120.0</td>\n",
              "    </tr>\n",
              "    <tr>\n",
              "      <th>1999-01-03</th>\n",
              "      <td>122</td>\n",
              "      <td>120.0</td>\n",
              "    </tr>\n",
              "    <tr>\n",
              "      <th>1999-01-04</th>\n",
              "      <td>123</td>\n",
              "      <td>122.0</td>\n",
              "    </tr>\n",
              "    <tr>\n",
              "      <th>1999-01-05</th>\n",
              "      <td>123</td>\n",
              "      <td>123.0</td>\n",
              "    </tr>\n",
              "    <tr>\n",
              "      <th>...</th>\n",
              "      <td>...</td>\n",
              "      <td>...</td>\n",
              "    </tr>\n",
              "    <tr>\n",
              "      <th>1999-12-27</th>\n",
              "      <td>493</td>\n",
              "      <td>492.0</td>\n",
              "    </tr>\n",
              "    <tr>\n",
              "      <th>1999-12-28</th>\n",
              "      <td>496</td>\n",
              "      <td>493.0</td>\n",
              "    </tr>\n",
              "    <tr>\n",
              "      <th>1999-12-29</th>\n",
              "      <td>496</td>\n",
              "      <td>496.0</td>\n",
              "    </tr>\n",
              "    <tr>\n",
              "      <th>1999-12-30</th>\n",
              "      <td>497</td>\n",
              "      <td>496.0</td>\n",
              "    </tr>\n",
              "    <tr>\n",
              "      <th>1999-12-31</th>\n",
              "      <td>497</td>\n",
              "      <td>497.0</td>\n",
              "    </tr>\n",
              "  </tbody>\n",
              "</table>\n",
              "<p>365 rows × 2 columns</p>\n",
              "</div>\n",
              "    <div class=\"colab-df-buttons\">\n",
              "\n",
              "  <div class=\"colab-df-container\">\n",
              "    <button class=\"colab-df-convert\" onclick=\"convertToInteractive('df-6f4d186b-890b-40b9-ac37-e413961c0584')\"\n",
              "            title=\"Convert this dataframe to an interactive table.\"\n",
              "            style=\"display:none;\">\n",
              "\n",
              "  <svg xmlns=\"http://www.w3.org/2000/svg\" height=\"24px\" viewBox=\"0 -960 960 960\">\n",
              "    <path d=\"M120-120v-720h720v720H120Zm60-500h600v-160H180v160Zm220 220h160v-160H400v160Zm0 220h160v-160H400v160ZM180-400h160v-160H180v160Zm440 0h160v-160H620v160ZM180-180h160v-160H180v160Zm440 0h160v-160H620v160Z\"/>\n",
              "  </svg>\n",
              "    </button>\n",
              "\n",
              "  <style>\n",
              "    .colab-df-container {\n",
              "      display:flex;\n",
              "      gap: 12px;\n",
              "    }\n",
              "\n",
              "    .colab-df-convert {\n",
              "      background-color: #E8F0FE;\n",
              "      border: none;\n",
              "      border-radius: 50%;\n",
              "      cursor: pointer;\n",
              "      display: none;\n",
              "      fill: #1967D2;\n",
              "      height: 32px;\n",
              "      padding: 0 0 0 0;\n",
              "      width: 32px;\n",
              "    }\n",
              "\n",
              "    .colab-df-convert:hover {\n",
              "      background-color: #E2EBFA;\n",
              "      box-shadow: 0px 1px 2px rgba(60, 64, 67, 0.3), 0px 1px 3px 1px rgba(60, 64, 67, 0.15);\n",
              "      fill: #174EA6;\n",
              "    }\n",
              "\n",
              "    .colab-df-buttons div {\n",
              "      margin-bottom: 4px;\n",
              "    }\n",
              "\n",
              "    [theme=dark] .colab-df-convert {\n",
              "      background-color: #3B4455;\n",
              "      fill: #D2E3FC;\n",
              "    }\n",
              "\n",
              "    [theme=dark] .colab-df-convert:hover {\n",
              "      background-color: #434B5C;\n",
              "      box-shadow: 0px 1px 3px 1px rgba(0, 0, 0, 0.15);\n",
              "      filter: drop-shadow(0px 1px 2px rgba(0, 0, 0, 0.3));\n",
              "      fill: #FFFFFF;\n",
              "    }\n",
              "  </style>\n",
              "\n",
              "    <script>\n",
              "      const buttonEl =\n",
              "        document.querySelector('#df-6f4d186b-890b-40b9-ac37-e413961c0584 button.colab-df-convert');\n",
              "      buttonEl.style.display =\n",
              "        google.colab.kernel.accessAllowed ? 'block' : 'none';\n",
              "\n",
              "      async function convertToInteractive(key) {\n",
              "        const element = document.querySelector('#df-6f4d186b-890b-40b9-ac37-e413961c0584');\n",
              "        const dataTable =\n",
              "          await google.colab.kernel.invokeFunction('convertToInteractive',\n",
              "                                                    [key], {});\n",
              "        if (!dataTable) return;\n",
              "\n",
              "        const docLinkHtml = 'Like what you see? Visit the ' +\n",
              "          '<a target=\"_blank\" href=https://colab.research.google.com/notebooks/data_table.ipynb>data table notebook</a>'\n",
              "          + ' to learn more about interactive tables.';\n",
              "        element.innerHTML = '';\n",
              "        dataTable['output_type'] = 'display_data';\n",
              "        await google.colab.output.renderOutput(dataTable, element);\n",
              "        const docLink = document.createElement('div');\n",
              "        docLink.innerHTML = docLinkHtml;\n",
              "        element.appendChild(docLink);\n",
              "      }\n",
              "    </script>\n",
              "  </div>\n",
              "\n",
              "\n",
              "<div id=\"df-bbde4d78-e564-466f-97eb-71d014c82fa9\">\n",
              "  <button class=\"colab-df-quickchart\" onclick=\"quickchart('df-bbde4d78-e564-466f-97eb-71d014c82fa9')\"\n",
              "            title=\"Suggest charts.\"\n",
              "            style=\"display:none;\">\n",
              "\n",
              "<svg xmlns=\"http://www.w3.org/2000/svg\" height=\"24px\"viewBox=\"0 0 24 24\"\n",
              "     width=\"24px\">\n",
              "    <g>\n",
              "        <path d=\"M19 3H5c-1.1 0-2 .9-2 2v14c0 1.1.9 2 2 2h14c1.1 0 2-.9 2-2V5c0-1.1-.9-2-2-2zM9 17H7v-7h2v7zm4 0h-2V7h2v10zm4 0h-2v-4h2v4z\"/>\n",
              "    </g>\n",
              "</svg>\n",
              "  </button>\n",
              "\n",
              "<style>\n",
              "  .colab-df-quickchart {\n",
              "      --bg-color: #E8F0FE;\n",
              "      --fill-color: #1967D2;\n",
              "      --hover-bg-color: #E2EBFA;\n",
              "      --hover-fill-color: #174EA6;\n",
              "      --disabled-fill-color: #AAA;\n",
              "      --disabled-bg-color: #DDD;\n",
              "  }\n",
              "\n",
              "  [theme=dark] .colab-df-quickchart {\n",
              "      --bg-color: #3B4455;\n",
              "      --fill-color: #D2E3FC;\n",
              "      --hover-bg-color: #434B5C;\n",
              "      --hover-fill-color: #FFFFFF;\n",
              "      --disabled-bg-color: #3B4455;\n",
              "      --disabled-fill-color: #666;\n",
              "  }\n",
              "\n",
              "  .colab-df-quickchart {\n",
              "    background-color: var(--bg-color);\n",
              "    border: none;\n",
              "    border-radius: 50%;\n",
              "    cursor: pointer;\n",
              "    display: none;\n",
              "    fill: var(--fill-color);\n",
              "    height: 32px;\n",
              "    padding: 0;\n",
              "    width: 32px;\n",
              "  }\n",
              "\n",
              "  .colab-df-quickchart:hover {\n",
              "    background-color: var(--hover-bg-color);\n",
              "    box-shadow: 0 1px 2px rgba(60, 64, 67, 0.3), 0 1px 3px 1px rgba(60, 64, 67, 0.15);\n",
              "    fill: var(--button-hover-fill-color);\n",
              "  }\n",
              "\n",
              "  .colab-df-quickchart-complete:disabled,\n",
              "  .colab-df-quickchart-complete:disabled:hover {\n",
              "    background-color: var(--disabled-bg-color);\n",
              "    fill: var(--disabled-fill-color);\n",
              "    box-shadow: none;\n",
              "  }\n",
              "\n",
              "  .colab-df-spinner {\n",
              "    border: 2px solid var(--fill-color);\n",
              "    border-color: transparent;\n",
              "    border-bottom-color: var(--fill-color);\n",
              "    animation:\n",
              "      spin 1s steps(1) infinite;\n",
              "  }\n",
              "\n",
              "  @keyframes spin {\n",
              "    0% {\n",
              "      border-color: transparent;\n",
              "      border-bottom-color: var(--fill-color);\n",
              "      border-left-color: var(--fill-color);\n",
              "    }\n",
              "    20% {\n",
              "      border-color: transparent;\n",
              "      border-left-color: var(--fill-color);\n",
              "      border-top-color: var(--fill-color);\n",
              "    }\n",
              "    30% {\n",
              "      border-color: transparent;\n",
              "      border-left-color: var(--fill-color);\n",
              "      border-top-color: var(--fill-color);\n",
              "      border-right-color: var(--fill-color);\n",
              "    }\n",
              "    40% {\n",
              "      border-color: transparent;\n",
              "      border-right-color: var(--fill-color);\n",
              "      border-top-color: var(--fill-color);\n",
              "    }\n",
              "    60% {\n",
              "      border-color: transparent;\n",
              "      border-right-color: var(--fill-color);\n",
              "    }\n",
              "    80% {\n",
              "      border-color: transparent;\n",
              "      border-right-color: var(--fill-color);\n",
              "      border-bottom-color: var(--fill-color);\n",
              "    }\n",
              "    90% {\n",
              "      border-color: transparent;\n",
              "      border-bottom-color: var(--fill-color);\n",
              "    }\n",
              "  }\n",
              "</style>\n",
              "\n",
              "  <script>\n",
              "    async function quickchart(key) {\n",
              "      const quickchartButtonEl =\n",
              "        document.querySelector('#' + key + ' button');\n",
              "      quickchartButtonEl.disabled = true;  // To prevent multiple clicks.\n",
              "      quickchartButtonEl.classList.add('colab-df-spinner');\n",
              "      try {\n",
              "        const charts = await google.colab.kernel.invokeFunction(\n",
              "            'suggestCharts', [key], {});\n",
              "      } catch (error) {\n",
              "        console.error('Error during call to suggestCharts:', error);\n",
              "      }\n",
              "      quickchartButtonEl.classList.remove('colab-df-spinner');\n",
              "      quickchartButtonEl.classList.add('colab-df-quickchart-complete');\n",
              "    }\n",
              "    (() => {\n",
              "      let quickchartButtonEl =\n",
              "        document.querySelector('#df-bbde4d78-e564-466f-97eb-71d014c82fa9 button');\n",
              "      quickchartButtonEl.style.display =\n",
              "        google.colab.kernel.accessAllowed ? 'block' : 'none';\n",
              "    })();\n",
              "  </script>\n",
              "</div>\n",
              "    </div>\n",
              "  </div>\n"
            ]
          },
          "metadata": {},
          "execution_count": 5
        }
      ]
    },
    {
      "cell_type": "code",
      "source": [
        "# Print the lag-1 correlation coefficient\n",
        "print(\"Lag-1 correlation coefficient:\")\n",
        "print(corr_df.corr())"
      ],
      "metadata": {
        "id": "FM5_m1SlZZoL",
        "colab": {
          "base_uri": "https://localhost:8080/"
        },
        "outputId": "bfd504be-c70b-4ddd-fe7c-4398cd2eb084"
      },
      "execution_count": null,
      "outputs": [
        {
          "output_type": "stream",
          "name": "stdout",
          "text": [
            "Lag-1 correlation coefficient:\n",
            "           t      t-1\n",
            "t    1.00000  0.99995\n",
            "t-1  0.99995  1.00000\n"
          ]
        }
      ]
    },
    {
      "cell_type": "markdown",
      "source": [
        "It shows a strong positive correlation (0.99)\n",
        "between the observation and the $\\text{lag} = 1$ value. Similarly, we can calculate the correlation between the observation and other lag variables like $\\text{lag} = 2$,  $\\text{lag} = 3$ and so on. But this would be a tedious task if we want to check a large number of lag variables in our time series.\n",
        "\n",
        "Let us study the scaled-up version of this approach.\n",
        "\n",
        "**3. Autocorrelation Function (ACF) plots:**\n",
        "\n",
        "We can plot the correlation coefficient for each lag variable using `plot_acf()` function. The autocorrelation function (ACF) gives us the values of autocorrelation of any series  with its lagged values.\n",
        "\n",
        "\n",
        "To plot autocorrelation function, import `plot_acf()` from `statsmodels.graphics.tsaplots` module and pass the indexed DataFrame as input to this function."
      ],
      "metadata": {
        "id": "ZCjCbM7Sff9X"
      }
    },
    {
      "cell_type": "code",
      "source": [
        "# Plot ACF\n",
        "from statsmodels.graphics.tsaplots import plot_acf\n",
        "plot_acf(price_ind_df)\n",
        "plt.show()"
      ],
      "metadata": {
        "id": "AJ4RpwdsEJ4k",
        "colab": {
          "base_uri": "https://localhost:8080/",
          "height": 452
        },
        "outputId": "3330ebe2-ea28-4532-b12c-fee41a1c42f0"
      },
      "execution_count": null,
      "outputs": [
        {
          "output_type": "display_data",
          "data": {
            "text/plain": [
              "<Figure size 640x480 with 1 Axes>"
            ],
            "image/png": "[encoded data removed]"
          },
          "metadata": {}
        }
      ]
    },
    {
      "cell_type": "markdown",
      "source": [
        "The above plot provides the lag number along the $x$-axis and the correlation coefficient value\n",
        "between -1 and 1 on the y-axis.\n",
        "\n",
        "Blue bars on an ACF plot above are the error bands, and anything within these bars is not statistically significant. It means that correlation values outside of this area are very likely a correlation and not a statistical fluke.\n",
        "\n",
        "For our price dummy dataset, all the lag variables are statistically significant. However, this may not be the case for every AR model.\n",
        "\n",
        "For example, if your ACF plot looks like this:\n",
        "\n",
        "<center><img src=\"https://s3-whjr-v2-prod-bucket.whjr.online/whjr-v2-prod-bucket/951844a8-2c2c-446d-bcc3-7c0712f0e1f8.png\"/>\n",
        "\n",
        "`Fig 2.1: A sample ACF plot of an AR model`\n",
        "</center>\n",
        "\n",
        "In this case, only first 4 lag values are statistically significant as they are outside the error bands.\n",
        "\n",
        "\n",
        "Notice that for a lag 0, ACF is always equal to one, which makes sense because the signal is always perfectly correlated with itself.\n",
        "\n",
        "To summarise,\n",
        "- Autocorrelation is the correlation between a variable and its values at previous time steps.\n",
        "- ACF plots are simply a visual representation of autocorrelation.\n",
        "\n",
        "\n",
        "Let us understand one more type of function which plays a major role in determining the order of an AR model (`p`)."
      ],
      "metadata": {
        "id": "PpRMj7WMjAh3"
      }
    },
    {
      "cell_type": "markdown",
      "source": [
        "---"
      ],
      "metadata": {
        "id": "ogx8ksabupTA"
      }
    },
    {
      "cell_type": "markdown",
      "source": [
        "#### Understanding Partial Autocorrelation\n",
        "\n",
        "So far, we have discussed autocorrelation which is a measure of linear dependency between variables $y_t$ and  $y_{t-p}$. AR models capture this dependency as a linear regression between  $y_t$ and  $y_{t-p}$.\n",
        "\n",
        "However, it may be possible that the autocorrelation between $y_t$ and $y_{t-p}$ is influenced by intermediate variables like $y_{t-1}, y_{t-2}, y_{t-3} ...$ and so on.  For example, the autocorrelation between $y_t$ and $y_{t-3}$ might be affected by correlations between $y_{t-1}$ and $y_{t-2}$.\n",
        "\n",
        "Therefore, if we are using AR model, autocorrelation is not the correct measure of the actual correlation between $y_t$ and $y_{t-p}$ in the presence of the\n",
        "intermediate variables.\n",
        "\n",
        "**Partial autocorrelation** solves this problem by measuring the correlation between $y_t$ and $y_{t-p}$ when the influence of the intermediate variables has been removed. Thus, the partial autocorrelation at lag `p` is the correlation that results after removing the effect of any correlations due to the intermediate lags.\n",
        "\n",
        "For example, lag-3 partial autocorrelation i.e partial autocorrelation of $y_t$ and $y_{t-3}$ will consist of correlation with only those parts or components of $y_{t-3}$ that were not explained by $y_{t-1}$ and $y_{t-2}$. Thus, it skips the intermediate correlations among the lags.\n",
        "\n",
        "**Partial Autocorrelation Function (PACF):**\n",
        "\n",
        "- PACF is the partial autocorrelation function that explains the partial correlation between the series and lags of itself.\n",
        "- It is similar to the concept of ACF except that it removes the effect of previous time periods.\n",
        "- Partial autocorrelation helps in identifying the order `p` of an AR(p) model.\n",
        "\n",
        "**Why not use ACF plots to determine order `p` of an AR model?**\n",
        "\n",
        "We cannot use the ACF plot to identify order `p` of a pure AR model as it exhibits good correlations even for the lags which are far in the past as seen in the plot below:\n",
        "<center>\n",
        "<img src=\"https://s3-whjr-v2-prod-bucket.whjr.online/whjr-v2-prod-bucket/1296483b-0a8c-4903-995b-763499694dd6.png\"/>\n",
        "\n",
        "`Fig 3.1: ACF plot of price dummy dataset`\n",
        "</center>\n",
        "\n",
        "Here, we can observe that all the lags have good autocorrelation. If we consider these many lags (for example, `p = 25`) for our AR model, then the equation for AR(25) model would look like this:\n",
        "\n",
        "$$y_t = \\phi_0 + \\phi_1 y_{t-1} + \\phi_2 y_{t-2} + \\dots + \\phi_{25} y_{t-25} + \\epsilon_t$$\n",
        "\n",
        "Here, $y_{t-1}, y_{t-2}, ..., y_{t-25}$ are like feature variables, similar to multiple linear regression models. These features may have high correlation among each other which result in multicollinearity problem. Let us check whether there exists multicollinearity for first 10 lagged variables by creating lagged version of the dummy dataset."
      ],
      "metadata": {
        "id": "wkjPLVTQuq8I"
      }
    },
    {
      "cell_type": "code",
      "source": [
        "# Create a dataframe having 10 lagged values of the dataset and print correlation coefficients\n",
        "corr_lag_df = pd.DataFrame()\n",
        "corr_lag_df['t'] = price_ind_df['Price']\n",
        "for lag in range(1, 11):\n",
        "  corr_lag_df['t-'+ str(lag)] =  price_ind_df.shift(lag)\n",
        "\n",
        "print(corr_lag_df.corr())"
      ],
      "metadata": {
        "id": "N98OFuLbOCob",
        "colab": {
          "base_uri": "https://localhost:8080/"
        },
        "outputId": "000c778b-2186-409d-d886-5616c01d3dcf"
      },
      "execution_count": null,
      "outputs": [
        {
          "output_type": "stream",
          "name": "stdout",
          "text": [
            "             t       t-1       t-2       t-3       t-4       t-5       t-6  \\\n",
            "t     1.000000  0.999950  0.999907  0.999875  0.999844  0.999813  0.999778   \n",
            "t-1   0.999950  1.000000  0.999950  0.999907  0.999874  0.999843  0.999812   \n",
            "t-2   0.999907  0.999950  1.000000  0.999949  0.999906  0.999874  0.999842   \n",
            "t-3   0.999875  0.999907  0.999949  1.000000  0.999949  0.999905  0.999873   \n",
            "t-4   0.999844  0.999874  0.999906  0.999949  1.000000  0.999949  0.999905   \n",
            "t-5   0.999813  0.999843  0.999874  0.999905  0.999949  1.000000  0.999949   \n",
            "t-6   0.999778  0.999812  0.999842  0.999873  0.999905  0.999949  1.000000   \n",
            "t-7   0.999735  0.999777  0.999811  0.999841  0.999872  0.999904  0.999948   \n",
            "t-8   0.999693  0.999733  0.999776  0.999810  0.999841  0.999871  0.999904   \n",
            "t-9   0.999655  0.999690  0.999731  0.999774  0.999809  0.999840  0.999870   \n",
            "t-10  0.999619  0.999652  0.999688  0.999729  0.999773  0.999807  0.999838   \n",
            "\n",
            "           t-7       t-8       t-9      t-10  \n",
            "t     0.999735  0.999693  0.999655  0.999619  \n",
            "t-1   0.999777  0.999733  0.999690  0.999652  \n",
            "t-2   0.999811  0.999776  0.999731  0.999688  \n",
            "t-3   0.999841  0.999810  0.999774  0.999729  \n",
            "t-4   0.999872  0.999841  0.999809  0.999773  \n",
            "t-5   0.999904  0.999871  0.999840  0.999807  \n",
            "t-6   0.999948  0.999904  0.999870  0.999838  \n",
            "t-7   1.000000  0.999948  0.999903  0.999869  \n",
            "t-8   0.999948  1.000000  0.999948  0.999903  \n",
            "t-9   0.999903  0.999948  1.000000  0.999947  \n",
            "t-10  0.999869  0.999903  0.999947  1.000000  \n"
          ]
        }
      ]
    },
    {
      "cell_type": "markdown",
      "source": [
        "You may observe that all the predictors (lag-1, lag-2, .. , lag-10) have extremely high correlation coefficient amongst each other, thereby confirming the presence of multicollinearity. Hence, if we look at ACF plot and decide the order `p` of an AR model, we may end up with multicollinearity issues.\n"
      ],
      "metadata": {
        "id": "4e7_o2TsRWkN"
      }
    },
    {
      "cell_type": "markdown",
      "source": [
        "\n",
        "However, this is not a problem with PACF plot of AR model as it removes components already explained by earlier lags, so we only get the lags which have the correlation with the residual i.e the component not explained by earlier lags.\n",
        "\n",
        "\n",
        "Let us create a PACF plot for price dummy dataset and identify the order of AR model. To do this, import `plot_pacf` function from `statsmodels.graphics.tsaplots` module and pass the indexed DataFrame as input to this function.\n"
      ],
      "metadata": {
        "id": "6IEHgYzVQNup"
      }
    },
    {
      "cell_type": "code",
      "source": [
        "# Plot PACF\n",
        "from statsmodels.graphics.tsaplots import plot_pacf\n",
        "plot_pacf(price_ind_df)\n",
        "plt.show()"
      ],
      "metadata": {
        "id": "th8FHpyxHe4L",
        "colab": {
          "base_uri": "https://localhost:8080/",
          "height": 452
        },
        "outputId": "d59cc19a-ec67-44b1-b059-2839a716bb0b"
      },
      "execution_count": null,
      "outputs": [
        {
          "output_type": "display_data",
          "data": {
            "text/plain": [
              "<Figure size 640x480 with 1 Axes>"
            ],
            "image/png": "[encoded data removed]"
          },
          "metadata": {}
        }
      ]
    },
    {
      "cell_type": "markdown",
      "source": [
        "The first partial autocorrelation at lag 0 is always 1. Also note that our PACF plot has a significant spike only at lag 1, meaning that the autocorrelations for all the higher value lags like lag 2, lag 3, .. lag 25  are effectively explained by the lag-1 autocorrelation.\n",
        "\n",
        "Hence, if we consider order of AR model to be `2` or `20` or any higher value, it would be redundant, as lag-1 is itself enough to interpret the autocorrelations for higher lag values.\n",
        "\n",
        "Thus, the order of AR model in our case is `p = 1` i.e. we need only lag-1 variable ($y_{t-1}$).  In this way, we can determine the order of AR models using PACF plots. We will understand how to determine the order of MA and ARMA models in more detail using ACF and PACF plots in the next class.\n",
        "\n",
        "Let us again create a line plot for our time series data."
      ],
      "metadata": {
        "id": "xmUAGk3HrrCj"
      }
    },
    {
      "cell_type": "code",
      "source": [
        "# Visualise time-series plot.\n",
        "plt.figure(figsize = (10, 5))\n",
        "plt.xlabel('Days')\n",
        "plt.ylabel('Price')\n",
        "plt.plot(price_ind_df)\n",
        "plt.show()"
      ],
      "metadata": {
        "id": "PJxH7FbmC_oP",
        "colab": {
          "base_uri": "https://localhost:8080/",
          "height": 465
        },
        "outputId": "550830be-d4b3-49df-a345-06ea4547a484"
      },
      "execution_count": null,
      "outputs": [
        {
          "output_type": "display_data",
          "data": {
            "text/plain": [
              "<Figure size 1000x500 with 1 Axes>"
            ],
            "image/png": "[encoded data removed]"
          },
          "metadata": {}
        }
      ]
    },
    {
      "cell_type": "markdown",
      "source": [
        "By looking at the plot, we can say that the mean and variance of the above data may or may not be constant.  Let us confirm whether the dataset is stationary or not by implementing ADF test."
      ],
      "metadata": {
        "id": "Ljawe3XADmjI"
      }
    },
    {
      "cell_type": "code",
      "source": [
        "# Implement ADF test.\n",
        "from statsmodels.tsa.stattools import adfuller\n",
        "print('Results of Dickey Fuller Test:')\n",
        "adf_df = adfuller(price_ind_df['Price'])\n",
        "print('ADF Statistic:', adf_df[0])\n",
        "print('p-value: ', adf_df[1])"
      ],
      "metadata": {
        "id": "FaiPT9PFD9s_",
        "colab": {
          "base_uri": "https://localhost:8080/"
        },
        "outputId": "9ac245dc-deca-447f-b42a-6e18de96e91c"
      },
      "execution_count": null,
      "outputs": [
        {
          "output_type": "stream",
          "name": "stdout",
          "text": [
            "Results of Dickey Fuller Test:\n",
            "ADF Statistic: -0.5879426375197536\n",
            "p-value:  0.8736832875040285\n"
          ]
        }
      ]
    },
    {
      "cell_type": "markdown",
      "source": [
        "You may observe that the test statistic is negative but the p-value is higher than 0.05. Thus, the null hypothesis that the data is non-stationary cannot be rejected.  Hence, we need to transform this data to make it stationary. We explored two main techniques for stationarising the time series dataset:\n",
        "- Log Transformation.\n",
        "- Differencing.\n",
        "\n",
        "We will prefer differencing as ARIMA model can implicitly perform differencing in order to make time series stationary by specifying the hyperparameter `d`. This hyperparameter is nothing but the order of differencing.\n",
        "\n",
        "Let us first manually perform differencing to determine the value of order `d`. We will start with first-order differencing.\n",
        "\n"
      ],
      "metadata": {
        "id": "kI3FpDUBPzxb"
      }
    },
    {
      "cell_type": "code",
      "source": [
        "# Perform first-order differencing\n",
        "first_or_diff_df = price_ind_df - price_ind_df.shift(1)  # y′t = yt − yt−1\n",
        "first_or_diff_df"
      ],
      "metadata": {
        "id": "6W2EBvFyFKPO",
        "colab": {
          "base_uri": "https://localhost:8080/",
          "height": 455
        },
        "outputId": "234d336b-b301-4009-d783-a381aa623373"
      },
      "execution_count": null,
      "outputs": [
        {
          "output_type": "execute_result",
          "data": {
            "text/plain": [
              "            Price\n",
              "Days             \n",
              "1999-01-01    NaN\n",
              "1999-01-02    0.0\n",
              "1999-01-03    2.0\n",
              "1999-01-04    1.0\n",
              "1999-01-05    0.0\n",
              "...           ...\n",
              "1999-12-27    1.0\n",
              "1999-12-28    3.0\n",
              "1999-12-29    0.0\n",
              "1999-12-30    1.0\n",
              "1999-12-31    0.0\n",
              "\n",
              "[365 rows x 1 columns]"
            ],
            "text/html": [
              "\n",
              "  <div id=\"df-f0b82ea0-82d4-48b9-a623-fc7ac3a566d4\" class=\"colab-df-container\">\n",
              "    <div>\n",
              "<style scoped>\n",
              "    .dataframe tbody tr th:only-of-type {\n",
              "        vertical-align: middle;\n",
              "    }\n",
              "\n",
              "    .dataframe tbody tr th {\n",
              "        vertical-align: top;\n",
              "    }\n",
              "\n",
              "    .dataframe thead th {\n",
              "        text-align: right;\n",
              "    }\n",
              "</style>\n",
              "<table border=\"1\" class=\"dataframe\">\n",
              "  <thead>\n",
              "    <tr style=\"text-align: right;\">\n",
              "      <th></th>\n",
              "      <th>Price</th>\n",
              "    </tr>\n",
              "    <tr>\n",
              "      <th>Days</th>\n",
              "      <th></th>\n",
              "    </tr>\n",
              "  </thead>\n",
              "  <tbody>\n",
              "    <tr>\n",
              "      <th>1999-01-01</th>\n",
              "      <td>NaN</td>\n",
              "    </tr>\n",
              "    <tr>\n",
              "      <th>1999-01-02</th>\n",
              "      <td>0.0</td>\n",
              "    </tr>\n",
              "    <tr>\n",
              "      <th>1999-01-03</th>\n",
              "      <td>2.0</td>\n",
              "    </tr>\n",
              "    <tr>\n",
              "      <th>1999-01-04</th>\n",
              "      <td>1.0</td>\n",
              "    </tr>\n",
              "    <tr>\n",
              "      <th>1999-01-05</th>\n",
              "      <td>0.0</td>\n",
              "    </tr>\n",
              "    <tr>\n",
              "      <th>...</th>\n",
              "      <td>...</td>\n",
              "    </tr>\n",
              "    <tr>\n",
              "      <th>1999-12-27</th>\n",
              "      <td>1.0</td>\n",
              "    </tr>\n",
              "    <tr>\n",
              "      <th>1999-12-28</th>\n",
              "      <td>3.0</td>\n",
              "    </tr>\n",
              "    <tr>\n",
              "      <th>1999-12-29</th>\n",
              "      <td>0.0</td>\n",
              "    </tr>\n",
              "    <tr>\n",
              "      <th>1999-12-30</th>\n",
              "      <td>1.0</td>\n",
              "    </tr>\n",
              "    <tr>\n",
              "      <th>1999-12-31</th>\n",
              "      <td>0.0</td>\n",
              "    </tr>\n",
              "  </tbody>\n",
              "</table>\n",
              "<p>365 rows × 1 columns</p>\n",
              "</div>\n",
              "    <div class=\"colab-df-buttons\">\n",
              "\n",
              "  <div class=\"colab-df-container\">\n",
              "    <button class=\"colab-df-convert\" onclick=\"convertToInteractive('df-f0b82ea0-82d4-48b9-a623-fc7ac3a566d4')\"\n",
              "            title=\"Convert this dataframe to an interactive table.\"\n",
              "            style=\"display:none;\">\n",
              "\n",
              "  <svg xmlns=\"http://www.w3.org/2000/svg\" height=\"24px\" viewBox=\"0 -960 960 960\">\n",
              "    <path d=\"M120-120v-720h720v720H120Zm60-500h600v-160H180v160Zm220 220h160v-160H400v160Zm0 220h160v-160H400v160ZM180-400h160v-160H180v160Zm440 0h160v-160H620v160ZM180-180h160v-160H180v160Zm440 0h160v-160H620v160Z\"/>\n",
              "  </svg>\n",
              "    </button>\n",
              "\n",
              "  <style>\n",
              "    .colab-df-container {\n",
              "      display:flex;\n",
              "      gap: 12px;\n",
              "    }\n",
              "\n",
              "    .colab-df-convert {\n",
              "      background-color: #E8F0FE;\n",
              "      border: none;\n",
              "      border-radius: 50%;\n",
              "      cursor: pointer;\n",
              "      display: none;\n",
              "      fill: #1967D2;\n",
              "      height: 32px;\n",
              "      padding: 0 0 0 0;\n",
              "      width: 32px;\n",
              "    }\n",
              "\n",
              "    .colab-df-convert:hover {\n",
              "      background-color: #E2EBFA;\n",
              "      box-shadow: 0px 1px 2px rgba(60, 64, 67, 0.3), 0px 1px 3px 1px rgba(60, 64, 67, 0.15);\n",
              "      fill: #174EA6;\n",
              "    }\n",
              "\n",
              "    .colab-df-buttons div {\n",
              "      margin-bottom: 4px;\n",
              "    }\n",
              "\n",
              "    [theme=dark] .colab-df-convert {\n",
              "      background-color: #3B4455;\n",
              "      fill: #D2E3FC;\n",
              "    }\n",
              "\n",
              "    [theme=dark] .colab-df-convert:hover {\n",
              "      background-color: #434B5C;\n",
              "      box-shadow: 0px 1px 3px 1px rgba(0, 0, 0, 0.15);\n",
              "      filter: drop-shadow(0px 1px 2px rgba(0, 0, 0, 0.3));\n",
              "      fill: #FFFFFF;\n",
              "    }\n",
              "  </style>\n",
              "\n",
              "    <script>\n",
              "      const buttonEl =\n",
              "        document.querySelector('#df-f0b82ea0-82d4-48b9-a623-fc7ac3a566d4 button.colab-df-convert');\n",
              "      buttonEl.style.display =\n",
              "        google.colab.kernel.accessAllowed ? 'block' : 'none';\n",
              "\n",
              "      async function convertToInteractive(key) {\n",
              "        const element = document.querySelector('#df-f0b82ea0-82d4-48b9-a623-fc7ac3a566d4');\n",
              "        const dataTable =\n",
              "          await google.colab.kernel.invokeFunction('convertToInteractive',\n",
              "                                                    [key], {});\n",
              "        if (!dataTable) return;\n",
              "\n",
              "        const docLinkHtml = 'Like what you see? Visit the ' +\n",
              "          '<a target=\"_blank\" href=https://colab.research.google.com/notebooks/data_table.ipynb>data table notebook</a>'\n",
              "          + ' to learn more about interactive tables.';\n",
              "        element.innerHTML = '';\n",
              "        dataTable['output_type'] = 'display_data';\n",
              "        await google.colab.output.renderOutput(dataTable, element);\n",
              "        const docLink = document.createElement('div');\n",
              "        docLink.innerHTML = docLinkHtml;\n",
              "        element.appendChild(docLink);\n",
              "      }\n",
              "    </script>\n",
              "  </div>\n",
              "\n",
              "\n",
              "<div id=\"df-ef017571-7838-4f22-b93b-731fcefb2b6f\">\n",
              "  <button class=\"colab-df-quickchart\" onclick=\"quickchart('df-ef017571-7838-4f22-b93b-731fcefb2b6f')\"\n",
              "            title=\"Suggest charts.\"\n",
              "            style=\"display:none;\">\n",
              "\n",
              "<svg xmlns=\"http://www.w3.org/2000/svg\" height=\"24px\"viewBox=\"0 0 24 24\"\n",
              "     width=\"24px\">\n",
              "    <g>\n",
              "        <path d=\"M19 3H5c-1.1 0-2 .9-2 2v14c0 1.1.9 2 2 2h14c1.1 0 2-.9 2-2V5c0-1.1-.9-2-2-2zM9 17H7v-7h2v7zm4 0h-2V7h2v10zm4 0h-2v-4h2v4z\"/>\n",
              "    </g>\n",
              "</svg>\n",
              "  </button>\n",
              "\n",
              "<style>\n",
              "  .colab-df-quickchart {\n",
              "      --bg-color: #E8F0FE;\n",
              "      --fill-color: #1967D2;\n",
              "      --hover-bg-color: #E2EBFA;\n",
              "      --hover-fill-color: #174EA6;\n",
              "      --disabled-fill-color: #AAA;\n",
              "      --disabled-bg-color: #DDD;\n",
              "  }\n",
              "\n",
              "  [theme=dark] .colab-df-quickchart {\n",
              "      --bg-color: #3B4455;\n",
              "      --fill-color: #D2E3FC;\n",
              "      --hover-bg-color: #434B5C;\n",
              "      --hover-fill-color: #FFFFFF;\n",
              "      --disabled-bg-color: #3B4455;\n",
              "      --disabled-fill-color: #666;\n",
              "  }\n",
              "\n",
              "  .colab-df-quickchart {\n",
              "    background-color: var(--bg-color);\n",
              "    border: none;\n",
              "    border-radius: 50%;\n",
              "    cursor: pointer;\n",
              "    display: none;\n",
              "    fill: var(--fill-color);\n",
              "    height: 32px;\n",
              "    padding: 0;\n",
              "    width: 32px;\n",
              "  }\n",
              "\n",
              "  .colab-df-quickchart:hover {\n",
              "    background-color: var(--hover-bg-color);\n",
              "    box-shadow: 0 1px 2px rgba(60, 64, 67, 0.3), 0 1px 3px 1px rgba(60, 64, 67, 0.15);\n",
              "    fill: var(--button-hover-fill-color);\n",
              "  }\n",
              "\n",
              "  .colab-df-quickchart-complete:disabled,\n",
              "  .colab-df-quickchart-complete:disabled:hover {\n",
              "    background-color: var(--disabled-bg-color);\n",
              "    fill: var(--disabled-fill-color);\n",
              "    box-shadow: none;\n",
              "  }\n",
              "\n",
              "  .colab-df-spinner {\n",
              "    border: 2px solid var(--fill-color);\n",
              "    border-color: transparent;\n",
              "    border-bottom-color: var(--fill-color);\n",
              "    animation:\n",
              "      spin 1s steps(1) infinite;\n",
              "  }\n",
              "\n",
              "  @keyframes spin {\n",
              "    0% {\n",
              "      border-color: transparent;\n",
              "      border-bottom-color: var(--fill-color);\n",
              "      border-left-color: var(--fill-color);\n",
              "    }\n",
              "    20% {\n",
              "      border-color: transparent;\n",
              "      border-left-color: var(--fill-color);\n",
              "      border-top-color: var(--fill-color);\n",
              "    }\n",
              "    30% {\n",
              "      border-color: transparent;\n",
              "      border-left-color: var(--fill-color);\n",
              "      border-top-color: var(--fill-color);\n",
              "      border-right-color: var(--fill-color);\n",
              "    }\n",
              "    40% {\n",
              "      border-color: transparent;\n",
              "      border-right-color: var(--fill-color);\n",
              "      border-top-color: var(--fill-color);\n",
              "    }\n",
              "    60% {\n",
              "      border-color: transparent;\n",
              "      border-right-color: var(--fill-color);\n",
              "    }\n",
              "    80% {\n",
              "      border-color: transparent;\n",
              "      border-right-color: var(--fill-color);\n",
              "      border-bottom-color: var(--fill-color);\n",
              "    }\n",
              "    90% {\n",
              "      border-color: transparent;\n",
              "      border-bottom-color: var(--fill-color);\n",
              "    }\n",
              "  }\n",
              "</style>\n",
              "\n",
              "  <script>\n",
              "    async function quickchart(key) {\n",
              "      const quickchartButtonEl =\n",
              "        document.querySelector('#' + key + ' button');\n",
              "      quickchartButtonEl.disabled = true;  // To prevent multiple clicks.\n",
              "      quickchartButtonEl.classList.add('colab-df-spinner');\n",
              "      try {\n",
              "        const charts = await google.colab.kernel.invokeFunction(\n",
              "            'suggestCharts', [key], {});\n",
              "      } catch (error) {\n",
              "        console.error('Error during call to suggestCharts:', error);\n",
              "      }\n",
              "      quickchartButtonEl.classList.remove('colab-df-spinner');\n",
              "      quickchartButtonEl.classList.add('colab-df-quickchart-complete');\n",
              "    }\n",
              "    (() => {\n",
              "      let quickchartButtonEl =\n",
              "        document.querySelector('#df-ef017571-7838-4f22-b93b-731fcefb2b6f button');\n",
              "      quickchartButtonEl.style.display =\n",
              "        google.colab.kernel.accessAllowed ? 'block' : 'none';\n",
              "    })();\n",
              "  </script>\n",
              "</div>\n",
              "    </div>\n",
              "  </div>\n"
            ]
          },
          "metadata": {},
          "execution_count": 12
        }
      ]
    },
    {
      "cell_type": "markdown",
      "source": [
        "You can observe that the value for first observation is `NaN`. Here, the order of differencing is **`1`** as the original DataFrame is differenced only **once**.\n",
        "\n",
        "Let us now test whether the data obtained after first order differencing is stationary or not by using ADF test. But before that, remove `NaN` values from the differenced DataFrame."
      ],
      "metadata": {
        "id": "Zj_xW0geZMRo"
      }
    },
    {
      "cell_type": "code",
      "source": [
        "# Remove NaN values and check stationarity of the time series data\n",
        "first_or_diff_df.dropna(inplace = True)\n",
        "print('Results of Dickey Fuller Test:')\n",
        "adf_df2 = adfuller(first_or_diff_df['Price'])\n",
        "print('ADF Statistic:', adf_df2[0])\n",
        "print('p-value: ', adf_df2[1])"
      ],
      "metadata": {
        "id": "fiEu-yQqFXwf",
        "colab": {
          "base_uri": "https://localhost:8080/"
        },
        "outputId": "017b7920-8841-4e3c-b712-e8bf962aa549"
      },
      "execution_count": null,
      "outputs": [
        {
          "output_type": "stream",
          "name": "stdout",
          "text": [
            "Results of Dickey Fuller Test:\n",
            "ADF Statistic: -15.61130015322321\n",
            "p-value:  1.7784409866599198e-28\n"
          ]
        }
      ]
    },
    {
      "cell_type": "code",
      "source": [
        "# Split the time series data into train and test sets.\n",
        "train_size = int(len(price_ind_df) * 0.80)\n",
        "train = price_ind_df[0:train_size]\n",
        "test = price_ind_df[train_size:len(price_ind_df)]\n",
        "print(train.shape)\n",
        "print(test.shape)"
      ],
      "metadata": {
        "id": "Hgo8XjKXZZlY",
        "colab": {
          "base_uri": "https://localhost:8080/"
        },
        "outputId": "7224bfe1-4294-4981-abf3-260b0e6c61ae"
      },
      "execution_count": null,
      "outputs": [
        {
          "output_type": "stream",
          "name": "stdout",
          "text": [
            "(292, 1)\n",
            "(73, 1)\n"
          ]
        }
      ]
    },
    {
      "cell_type": "code",
      "source": [
        "# Fit an ARIMA model using train set\n",
        "from statsmodels.tsa.arima.model import ARIMA\n",
        "model_1 = ARIMA(train, order = (1, 1, 0)) # p= 1, d = 1, q = 0\n",
        "arima_train = model_1.fit()\n",
        "\n"
      ],
      "metadata": {
        "id": "UlYXBS8aHQsO",
        "colab": {
          "base_uri": "https://localhost:8080/"
        },
        "outputId": "c650ca55-1274-49b4-d7fe-3a9476523479"
      },
      "execution_count": null,
      "outputs": [
        {
          "output_type": "stream",
          "name": "stderr",
          "text": [
            "/usr/local/lib/python3.10/dist-packages/statsmodels/tsa/base/tsa_model.py:473: ValueWarning: No frequency information was provided, so inferred frequency D will be used.\n",
            "  self._init_dates(dates, freq)\n",
            "/usr/local/lib/python3.10/dist-packages/statsmodels/tsa/base/tsa_model.py:473: ValueWarning: No frequency information was provided, so inferred frequency D will be used.\n",
            "  self._init_dates(dates, freq)\n",
            "/usr/local/lib/python3.10/dist-packages/statsmodels/tsa/base/tsa_model.py:473: ValueWarning: No frequency information was provided, so inferred frequency D will be used.\n",
            "  self._init_dates(dates, freq)\n"
          ]
        }
      ]
    },
    {
      "cell_type": "code",
      "source": [
        "# Perform prediction using 'predict()' function.\n",
        "start_index = len(train)\n",
        "end_index = len(price_ind_df) - 1\n",
        "\n",
        "# Predictions against the test set\n",
        "pred_test1 = arima_train.predict(start = start_index, end = end_index)\n",
        "\n",
        "# Plot predictions and actual values\n",
        "plt.figure(figsize=(10, 5))\n",
        "plt.plot(pred_test1, label = 'Predicted Test Price')\n",
        "plt.plot(test['Price'], label = 'Original Test Price')\n",
        "plt.legend()\n",
        "plt.show()\n"
      ],
      "metadata": {
        "id": "GvyQ9hR7HW61",
        "colab": {
          "base_uri": "https://localhost:8080/",
          "height": 450
        },
        "outputId": "4311d569-50b5-43d4-935c-7b2900ce9795"
      },
      "execution_count": null,
      "outputs": [
        {
          "output_type": "display_data",
          "data": {
            "text/plain": [
              "<Figure size 1000x500 with 1 Axes>"
            ],
            "image/png": "[encoded data removed]"
          },
          "metadata": {}
        }
      ]
    },
    {
      "cell_type": "code",
      "source": [
        "# Perform prediction using 'predict()' function for original dataset.\n",
        "\n",
        "from sklearn.metrics import mean_absolute_error, mean_squared_error\n",
        "pred_test2 = arima_train.predict(start = start_index, end = end_index, typ = 'levels')\n",
        "\n",
        "print(\"MAE:\", mean_absolute_error(test, pred_test2))\n",
        "print(\"RMSE:\", np.sqrt(mean_squared_error(test, pred_test2)))\n",
        "\n",
        "# Plot predictions and actual values\n",
        "plt.figure(figsize = (10, 5))\n",
        "plt.plot(pred_test2, label = 'Predicted Test Price')\n",
        "plt.plot(test['Price'], label = 'Original Test Price')\n",
        "plt.legend()\n",
        "plt.show()"
      ],
      "metadata": {
        "id": "Htge-NqhHlUm",
        "colab": {
          "base_uri": "https://localhost:8080/",
          "height": 485
        },
        "outputId": "9faea8e1-deeb-4570-cb0e-8cfcad9bba35"
      },
      "execution_count": null,
      "outputs": [
        {
          "output_type": "stream",
          "name": "stdout",
          "text": [
            "MAE: 33.84931506849315\n",
            "RMSE: 38.80315620547959\n"
          ]
        },
        {
          "output_type": "display_data",
          "data": {
            "text/plain": [
              "<Figure size 1000x500 with 1 Axes>"
            ],
            "image/png": "[encoded data removed]"
          },
          "metadata": {}
        }
      ]
    },
    {
      "cell_type": "code",
      "source": [
        "# Build ARIMA model using entire dataset and plot prediction.\n",
        "from statsmodels.tsa.arima.model import ARIMA\n",
        "ar_model = ARIMA(price_ind_df, order = (1, 1, 0)).fit() # p= 1, d = 1, q = 0\n",
        "\n",
        "# Predict using `predict()` function with start = 1 and end = (total observations - 1)\n",
        "pred = ar_model.predict(1, len(price_ind_df) - 1, typ = 'levels' )   # start = 1, end = 364\n",
        "\n",
        "# Print MAE and RMSE values\n",
        "print(\"MAE:\", mean_absolute_error(price_ind_df[1:], pred))\n",
        "print(\"RMSE:\", np.sqrt(mean_squared_error(price_ind_df[1:], pred)))\n",
        "\n",
        "# Plot predictions and actual values\n",
        "plt.figure(figsize=(10, 5))\n",
        "plt.plot(pred, label = 'Predicted Price')\n",
        "plt.plot(price_ind_df['Price'], label = 'Original Price')\n",
        "plt.legend()\n",
        "plt.show()"
      ],
      "metadata": {
        "id": "jQfrtiR8QepQ",
        "colab": {
          "base_uri": "https://localhost:8080/",
          "height": 604
        },
        "outputId": "c7ebf55e-2c29-4774-b36e-171ba3b484bf"
      },
      "execution_count": null,
      "outputs": [
        {
          "output_type": "stream",
          "name": "stderr",
          "text": [
            "/usr/local/lib/python3.10/dist-packages/statsmodels/tsa/base/tsa_model.py:473: ValueWarning: No frequency information was provided, so inferred frequency D will be used.\n",
            "  self._init_dates(dates, freq)\n",
            "/usr/local/lib/python3.10/dist-packages/statsmodels/tsa/base/tsa_model.py:473: ValueWarning: No frequency information was provided, so inferred frequency D will be used.\n",
            "  self._init_dates(dates, freq)\n",
            "/usr/local/lib/python3.10/dist-packages/statsmodels/tsa/base/tsa_model.py:473: ValueWarning: No frequency information was provided, so inferred frequency D will be used.\n",
            "  self._init_dates(dates, freq)\n"
          ]
        },
        {
          "output_type": "stream",
          "name": "stdout",
          "text": [
            "MAE: 1.0132244458659945\n",
            "RMSE: 1.3957527673769357\n"
          ]
        },
        {
          "output_type": "display_data",
          "data": {
            "text/plain": [
              "<Figure size 1000x500 with 1 Axes>"
            ],
            "image/png": "[encoded data removed]"
          },
          "metadata": {}
        }
      ]
    },
    {
      "cell_type": "markdown",
      "source": [
        "You may observe that the predictions are almost same as the actual observations for entire dataset. Also the MAE and RMSE values are very good for this model.\n",
        "\n",
        "A quick way to plot prediction for the test set or the entire dataset would be to use `plot_predict()` function. It is similar to `predict()` function, except that it directly plots the predicted values. You can specify start and end index to specify the time period for which forecasting is to be done in the `plot_predict()` function also.\n",
        "\n",
        "If the start and end index are not specified, then it will plot prediction for the entire dataset.\n",
        "\n",
        "**Syntax of `plot_predict()` function:** `ARIMA.plot_predict(start, end)`\n",
        "\n",
        "Where,\n",
        "\n",
        "  - `start`: Zero-indexed observation number from which to start forecasting, i.e. the first forecast to start. It can also be a date string or a datetime type.\n",
        "  - `end`: Zero-indexed observation number at which to end forecasting. It can also be a date string or a datetime type.\n"
      ],
      "metadata": {
        "id": "Wur68zqGjnO1"
      }
    },
    {
      "cell_type": "code",
      "source": [
        "# Plot predictions for entire dataset using 'plot_predict()' function.\n",
        "#ar_model.plot_predict()\n",
        "#plt.show()\n",
        "time_index = range(1, len(price_ind_df)) # Plot predictions and actual values\n",
        "plt.figure(figsize=(10, 5))\n",
        "plt.plot(time_index, pred, label='Predicted Price')\n",
        "plt.plot(time_index, price_ind_df['Price'][1:], label='Original Price') # Start from the second data point\n",
        "plt.xlabel('Time')\n",
        "plt.ylabel('Price')\n",
        "plt.legend()\n",
        "plt.show()"
      ],
      "metadata": {
        "id": "VkC6aJ6AILae",
        "colab": {
          "base_uri": "https://localhost:8080/",
          "height": 465
        },
        "outputId": "ae0ab667-859e-4273-e6ee-beb152686e78"
      },
      "execution_count": null,
      "outputs": [
        {
          "output_type": "display_data",
          "data": {
            "text/plain": [
              "<Figure size 1000x500 with 1 Axes>"
            ],
            "image/png": "[encoded data removed]"
          },
          "metadata": {}
        }
      ]
    },
    {
      "cell_type": "markdown",
      "source": [
        "---"
      ],
      "metadata": {
        "id": "iSpe21aMDK_I"
      }
    },
    {
      "cell_type": "markdown",
      "source": [
        "#### Understanding Moving Average (MA) Models\n",
        "\n",
        "Recall the simple AR model:\n",
        "$$y_t = \\phi_0 + \\phi_1 y_{t-1} + \\epsilon_t $$\n",
        "\n",
        "Here, errors ($\\epsilon_t$) is the residual error at time $t$.\n",
        "\n",
        "However, just like the input observations, there may be autocorrelation or dependency between the residual errors. We may consider situations in which the error at one specific time is linearly related to the error at a previous time.  Hence, we can\n",
        "create a model of the residual error time series and predict the expected error for our model.\n",
        "\n",
        "A simple and effective model of residual error is an autoregression **Moving Average (MA)** model. This model uses past prediction errors instead of past observations to predict future values.\n",
        "\n",
        "The simple MA model is given as:\n",
        "$$y_t = \\theta_0 + \\theta_1 \\epsilon_{t-1} + \\epsilon_t \\tag{1.1}$$\n",
        "\n",
        "Where,\n",
        "- $\\theta_0$ is the constant or intercept (same as $\\phi_0$ of AR model).\n",
        "- $\\theta_1$ is the regression coefficient for lag-1 error.\n",
        "- $\\epsilon_{t-1}$ is the residuals or error in prediction for the past period.\n",
        "-  $\\epsilon_{t}$ is the residuals for the current period.\n",
        "\n",
        "Thus, MA models use dependency between residual errors to forecast values in the next time period.\n",
        "\n",
        "The equation (1.1) is a first-order moving average **MA(1)** model as the one error term is used to predict the target variable.\n",
        "\n",
        "Compare the AR(1) and MA(1) model equations:\n",
        "\n",
        "<img src=\"https://s3-whjr-v2-prod-bucket.whjr.online/whjr-v2-prod-bucket/9abcbcf2-318f-421a-853d-db79132b9059.png\"/>\n",
        "\n",
        "The only difference in both the regression models is that the AR uses *lagged observations* whereas MA uses *lagged residual errors* to perform forecasting.\n",
        "\n",
        "Similarly, the second-order moving average denoted by **MA(2)** is:\n",
        "\n",
        "$$y_t = \\theta_0 + \\theta_1 \\epsilon_{t-1} + \\theta_2 \\epsilon_{t-2} + \\epsilon_t \\tag{4.2}$$\n",
        "\n",
        "More generally, the MA process of order `q` is defined as:\n",
        "\n",
        "\n",
        "$$y_t = \\theta_0 + \\theta_1 \\epsilon_{t-1} + \\theta_2 \\epsilon_{t-2} + \\cdots+ \\theta_q \\epsilon_{t-q} + \\epsilon_t \\tag{4.3}$$\n",
        "\n",
        "The order `q` of the moving average model determines the number of past error terms that affect the present value.  The larger `q` means the more past error terms affect the present value. Therefore, it is important to determine the order `q` of the moving average process in order to fit the appropriate model.\n",
        "\n",
        "We will understand how to identify the order of a MA process in the upcoming section. Before that, let us understand ARMA models.\n",
        "\n",
        "\n",
        "\n"
      ],
      "metadata": {
        "id": "SU02C5B5iL4e"
      }
    },
    {
      "cell_type": "markdown",
      "source": [
        "---"
      ],
      "metadata": {
        "id": "TSO1ZDxPAH9h"
      }
    },
    {
      "cell_type": "markdown",
      "source": [
        "####  Understanding Autoregressive Moving Average (ARMA) Models\n",
        "\n",
        "Combining the concepts of the AR model and MA model, the ARMA model has been developed. The ARMA model combines the AR and MA models as shown below:\n",
        "\n",
        "\n",
        "$$y_t = \\phi_0 + \\underbrace{\\phi_1 y_{t-1} + \\phi_2 y_{t-2} + \\dots + \\phi_p y_{t-p}}_{\\text{lagged values}}  + \\underbrace{\\theta_1 \\epsilon_{t-1} + \\theta_2 \\epsilon_{t-2} + \\cdots+ \\theta_q \\epsilon_{t-q} + \\epsilon_t}_{\\text{lagged errors}}$$\n",
        "\n",
        "Here,\n",
        " - $p$ is the order of AR model.\n",
        " - $q$ is the order of MA model.\n",
        "\n",
        "**The main notion of combining the concepts of the AR(p) model and the MA(q) model in the ARMA(p, q) model is to equally consider both the lagged values and lagged error values.**\n",
        "\n",
        "By combining the concepts of both the models, the ARMA is expected to give much better results than\n",
        "the individual two models. Thus, if we consider the ARMA(1,1) model, the equation can be written as:\n",
        "\n",
        "$$y_t = \\phi_0 + \\phi_1 y_{t-1}  + \\theta_1 \\epsilon_{t-1} + \\epsilon_t$$\n",
        "\n",
        "This shows the basic calculation of the ARMA model that can be used to predict future trends.\n",
        "\n",
        "Suppose, we want to find how much quantity of a  particular product should be manufactured by a company in this current month i.e $y_t$.\n",
        "In this case, the ARMA(1,1) model will check:\n",
        "- How many products were required to be manufactured in the previous month ($y_{t–1}$).\n",
        "- How much error was involved in predicting the number of products required for the last month ($\\epsilon_{t-1}$).\n",
        "- How much error or random noise was involved in the prediction of the number for the current month ($\\epsilon_{t}$).\n",
        "\n",
        "**Autoregressive Integrated Moving Average Model (ARIMA(p,d,q)):**\n",
        "\n",
        "When we combine differencing with ARMA model to make  time series data stationary, an ARIMA model is obtained. This model has three parameters:\n",
        "- `p` is the order of AR model.\n",
        "- `q` is the order of MA model.\n",
        "- `d` is the order of differencing.\n",
        "\n",
        "Thus, ARIMA(p,d,q) model is given by:\n",
        "\n",
        "$$y'_t = \\phi_0 + \\underbrace{\\phi_1 y'_{t-1} + \\phi_2 y'_{t-2} + \\dots + \\phi_p y'_{t-p}}_{\\text{differenced lagged values}}  + \\underbrace{\\theta_1 \\epsilon_{t-1} + \\theta_2 \\epsilon_{t-2} + \\cdots+ \\theta_q \\epsilon_{t-q}}_{\\text{lagged errors}} + \\epsilon_t$$\n",
        "\n",
        "Here, $y'_t, y'_{t-1}, y'_{t-2}, \\dots, y'_{t-p}$ are the differenced series terms.\n",
        "\n",
        "Now, the main challenge is to determine the order values chosen for the ARIMA model. We already understood how to estimate order `d` value in the previous class. Let us now learn how to estimate `p` and `q` order value of AR and MA models."
      ],
      "metadata": {
        "id": "svvWrNY075pN"
      }
    },
    {
      "cell_type": "markdown",
      "source": [
        "---"
      ],
      "metadata": {
        "id": "Mmnl-3NwM5aN"
      }
    },
    {
      "cell_type": "markdown",
      "source": [
        "#### Activity 1: ARIMA in Action\n",
        "\n",
        "To understand how to estimate ARIMA model hyperparameter values, let us use a dummy dataset that contains sales of electronic gadgets of some XYZ company. The dataset contains 500 days of sales volume data starting on January 1, 2019. The volume of sales is in units of thousands of US dollars.\n",
        "\n",
        "Let us first load the dataset and determine the number of rows and columns and their data types.\n",
        "\n",
        "**Dataset Link:** https://s3-whjr-curriculum-uploads.whjr.online/f4cfc0d1-c1a6-4c4d-bd1c-2388821b7c90.xlsx\n",
        "\n",
        "**Note:** This dataset is not a real world time series dataset and is solely used for learning purposes. Also, use `read_excel()` function of `pandas` module to load the dataset as it is an excel file.\n",
        "\n",
        "**NOTE:** If the `pd.read_excel()` displays an error regarding Python version 3.x you need to uninstall the older version and fetch the updated package. For this run the following before reading the file from excel:\n",
        "\n",
        "```\n",
        "!pip uninstall openpyxl\n",
        "!pip install openpyxl\n",
        "```\n",
        "\n",
        "This will update the corresponding package."
      ],
      "metadata": {
        "id": "ZSOVaktJM8HW"
      }
    },
    {
      "cell_type": "code",
      "source": [
        "# S1.1: Load the time series data and print first 5 rows.\n",
        "file_path='https://s3-whjr-curriculum-uploads.whjr.online/f4cfc0d1-c1a6-4c4d-bd1c-2388821b7c90.xlsx'\n",
        "gad_df=pd.read_excel(file_path)\n",
        "gad_df"
      ],
      "metadata": {
        "id": "mW4ZzVF9QZwl",
        "colab": {
          "base_uri": "https://localhost:8080/",
          "height": 423
        },
        "outputId": "db7e7f23-4333-4a4f-d8dd-0c14a1e31e66"
      },
      "execution_count": null,
      "outputs": [
        {
          "output_type": "execute_result",
          "data": {
            "text/plain": [
              "          Days      Sales\n",
              "0   2019-01-01  50.496714\n",
              "1   2019-01-02  50.805493\n",
              "2   2019-01-03  51.477758\n",
              "3   2019-01-04  53.542228\n",
              "4   2019-01-05  54.873108\n",
              "..         ...        ...\n",
              "495 2020-05-10  64.087371\n",
              "496 2020-05-11  63.992081\n",
              "497 2020-05-12  63.029894\n",
              "498 2020-05-13  61.671797\n",
              "499 2020-05-14  59.443839\n",
              "\n",
              "[500 rows x 2 columns]"
            ],
            "text/html": [
              "\n",
              "  <div id=\"df-fef56f02-216e-4f9d-ada6-c2d8c93f84d6\" class=\"colab-df-container\">\n",
              "    <div>\n",
              "<style scoped>\n",
              "    .dataframe tbody tr th:only-of-type {\n",
              "        vertical-align: middle;\n",
              "    }\n",
              "\n",
              "    .dataframe tbody tr th {\n",
              "        vertical-align: top;\n",
              "    }\n",
              "\n",
              "    .dataframe thead th {\n",
              "        text-align: right;\n",
              "    }\n",
              "</style>\n",
              "<table border=\"1\" class=\"dataframe\">\n",
              "  <thead>\n",
              "    <tr style=\"text-align: right;\">\n",
              "      <th></th>\n",
              "      <th>Days</th>\n",
              "      <th>Sales</th>\n",
              "    </tr>\n",
              "  </thead>\n",
              "  <tbody>\n",
              "    <tr>\n",
              "      <th>0</th>\n",
              "      <td>2019-01-01</td>\n",
              "      <td>50.496714</td>\n",
              "    </tr>\n",
              "    <tr>\n",
              "      <th>1</th>\n",
              "      <td>2019-01-02</td>\n",
              "      <td>50.805493</td>\n",
              "    </tr>\n",
              "    <tr>\n",
              "      <th>2</th>\n",
              "      <td>2019-01-03</td>\n",
              "      <td>51.477758</td>\n",
              "    </tr>\n",
              "    <tr>\n",
              "      <th>3</th>\n",
              "      <td>2019-01-04</td>\n",
              "      <td>53.542228</td>\n",
              "    </tr>\n",
              "    <tr>\n",
              "      <th>4</th>\n",
              "      <td>2019-01-05</td>\n",
              "      <td>54.873108</td>\n",
              "    </tr>\n",
              "    <tr>\n",
              "      <th>...</th>\n",
              "      <td>...</td>\n",
              "      <td>...</td>\n",
              "    </tr>\n",
              "    <tr>\n",
              "      <th>495</th>\n",
              "      <td>2020-05-10</td>\n",
              "      <td>64.087371</td>\n",
              "    </tr>\n",
              "    <tr>\n",
              "      <th>496</th>\n",
              "      <td>2020-05-11</td>\n",
              "      <td>63.992081</td>\n",
              "    </tr>\n",
              "    <tr>\n",
              "      <th>497</th>\n",
              "      <td>2020-05-12</td>\n",
              "      <td>63.029894</td>\n",
              "    </tr>\n",
              "    <tr>\n",
              "      <th>498</th>\n",
              "      <td>2020-05-13</td>\n",
              "      <td>61.671797</td>\n",
              "    </tr>\n",
              "    <tr>\n",
              "      <th>499</th>\n",
              "      <td>2020-05-14</td>\n",
              "      <td>59.443839</td>\n",
              "    </tr>\n",
              "  </tbody>\n",
              "</table>\n",
              "<p>500 rows × 2 columns</p>\n",
              "</div>\n",
              "    <div class=\"colab-df-buttons\">\n",
              "\n",
              "  <div class=\"colab-df-container\">\n",
              "    <button class=\"colab-df-convert\" onclick=\"convertToInteractive('df-fef56f02-216e-4f9d-ada6-c2d8c93f84d6')\"\n",
              "            title=\"Convert this dataframe to an interactive table.\"\n",
              "            style=\"display:none;\">\n",
              "\n",
              "  <svg xmlns=\"http://www.w3.org/2000/svg\" height=\"24px\" viewBox=\"0 -960 960 960\">\n",
              "    <path d=\"M120-120v-720h720v720H120Zm60-500h600v-160H180v160Zm220 220h160v-160H400v160Zm0 220h160v-160H400v160ZM180-400h160v-160H180v160Zm440 0h160v-160H620v160ZM180-180h160v-160H180v160Zm440 0h160v-160H620v160Z\"/>\n",
              "  </svg>\n",
              "    </button>\n",
              "\n",
              "  <style>\n",
              "    .colab-df-container {\n",
              "      display:flex;\n",
              "      gap: 12px;\n",
              "    }\n",
              "\n",
              "    .colab-df-convert {\n",
              "      background-color: #E8F0FE;\n",
              "      border: none;\n",
              "      border-radius: 50%;\n",
              "      cursor: pointer;\n",
              "      display: none;\n",
              "      fill: #1967D2;\n",
              "      height: 32px;\n",
              "      padding: 0 0 0 0;\n",
              "      width: 32px;\n",
              "    }\n",
              "\n",
              "    .colab-df-convert:hover {\n",
              "      background-color: #E2EBFA;\n",
              "      box-shadow: 0px 1px 2px rgba(60, 64, 67, 0.3), 0px 1px 3px 1px rgba(60, 64, 67, 0.15);\n",
              "      fill: #174EA6;\n",
              "    }\n",
              "\n",
              "    .colab-df-buttons div {\n",
              "      margin-bottom: 4px;\n",
              "    }\n",
              "\n",
              "    [theme=dark] .colab-df-convert {\n",
              "      background-color: #3B4455;\n",
              "      fill: #D2E3FC;\n",
              "    }\n",
              "\n",
              "    [theme=dark] .colab-df-convert:hover {\n",
              "      background-color: #434B5C;\n",
              "      box-shadow: 0px 1px 3px 1px rgba(0, 0, 0, 0.15);\n",
              "      filter: drop-shadow(0px 1px 2px rgba(0, 0, 0, 0.3));\n",
              "      fill: #FFFFFF;\n",
              "    }\n",
              "  </style>\n",
              "\n",
              "    <script>\n",
              "      const buttonEl =\n",
              "        document.querySelector('#df-fef56f02-216e-4f9d-ada6-c2d8c93f84d6 button.colab-df-convert');\n",
              "      buttonEl.style.display =\n",
              "        google.colab.kernel.accessAllowed ? 'block' : 'none';\n",
              "\n",
              "      async function convertToInteractive(key) {\n",
              "        const element = document.querySelector('#df-fef56f02-216e-4f9d-ada6-c2d8c93f84d6');\n",
              "        const dataTable =\n",
              "          await google.colab.kernel.invokeFunction('convertToInteractive',\n",
              "                                                    [key], {});\n",
              "        if (!dataTable) return;\n",
              "\n",
              "        const docLinkHtml = 'Like what you see? Visit the ' +\n",
              "          '<a target=\"_blank\" href=https://colab.research.google.com/notebooks/data_table.ipynb>data table notebook</a>'\n",
              "          + ' to learn more about interactive tables.';\n",
              "        element.innerHTML = '';\n",
              "        dataTable['output_type'] = 'display_data';\n",
              "        await google.colab.output.renderOutput(dataTable, element);\n",
              "        const docLink = document.createElement('div');\n",
              "        docLink.innerHTML = docLinkHtml;\n",
              "        element.appendChild(docLink);\n",
              "      }\n",
              "    </script>\n",
              "  </div>\n",
              "\n",
              "\n",
              "<div id=\"df-7b275f58-e03e-4e25-8d48-1ff16dd2f644\">\n",
              "  <button class=\"colab-df-quickchart\" onclick=\"quickchart('df-7b275f58-e03e-4e25-8d48-1ff16dd2f644')\"\n",
              "            title=\"Suggest charts.\"\n",
              "            style=\"display:none;\">\n",
              "\n",
              "<svg xmlns=\"http://www.w3.org/2000/svg\" height=\"24px\"viewBox=\"0 0 24 24\"\n",
              "     width=\"24px\">\n",
              "    <g>\n",
              "        <path d=\"M19 3H5c-1.1 0-2 .9-2 2v14c0 1.1.9 2 2 2h14c1.1 0 2-.9 2-2V5c0-1.1-.9-2-2-2zM9 17H7v-7h2v7zm4 0h-2V7h2v10zm4 0h-2v-4h2v4z\"/>\n",
              "    </g>\n",
              "</svg>\n",
              "  </button>\n",
              "\n",
              "<style>\n",
              "  .colab-df-quickchart {\n",
              "      --bg-color: #E8F0FE;\n",
              "      --fill-color: #1967D2;\n",
              "      --hover-bg-color: #E2EBFA;\n",
              "      --hover-fill-color: #174EA6;\n",
              "      --disabled-fill-color: #AAA;\n",
              "      --disabled-bg-color: #DDD;\n",
              "  }\n",
              "\n",
              "  [theme=dark] .colab-df-quickchart {\n",
              "      --bg-color: #3B4455;\n",
              "      --fill-color: #D2E3FC;\n",
              "      --hover-bg-color: #434B5C;\n",
              "      --hover-fill-color: #FFFFFF;\n",
              "      --disabled-bg-color: #3B4455;\n",
              "      --disabled-fill-color: #666;\n",
              "  }\n",
              "\n",
              "  .colab-df-quickchart {\n",
              "    background-color: var(--bg-color);\n",
              "    border: none;\n",
              "    border-radius: 50%;\n",
              "    cursor: pointer;\n",
              "    display: none;\n",
              "    fill: var(--fill-color);\n",
              "    height: 32px;\n",
              "    padding: 0;\n",
              "    width: 32px;\n",
              "  }\n",
              "\n",
              "  .colab-df-quickchart:hover {\n",
              "    background-color: var(--hover-bg-color);\n",
              "    box-shadow: 0 1px 2px rgba(60, 64, 67, 0.3), 0 1px 3px 1px rgba(60, 64, 67, 0.15);\n",
              "    fill: var(--button-hover-fill-color);\n",
              "  }\n",
              "\n",
              "  .colab-df-quickchart-complete:disabled,\n",
              "  .colab-df-quickchart-complete:disabled:hover {\n",
              "    background-color: var(--disabled-bg-color);\n",
              "    fill: var(--disabled-fill-color);\n",
              "    box-shadow: none;\n",
              "  }\n",
              "\n",
              "  .colab-df-spinner {\n",
              "    border: 2px solid var(--fill-color);\n",
              "    border-color: transparent;\n",
              "    border-bottom-color: var(--fill-color);\n",
              "    animation:\n",
              "      spin 1s steps(1) infinite;\n",
              "  }\n",
              "\n",
              "  @keyframes spin {\n",
              "    0% {\n",
              "      border-color: transparent;\n",
              "      border-bottom-color: var(--fill-color);\n",
              "      border-left-color: var(--fill-color);\n",
              "    }\n",
              "    20% {\n",
              "      border-color: transparent;\n",
              "      border-left-color: var(--fill-color);\n",
              "      border-top-color: var(--fill-color);\n",
              "    }\n",
              "    30% {\n",
              "      border-color: transparent;\n",
              "      border-left-color: var(--fill-color);\n",
              "      border-top-color: var(--fill-color);\n",
              "      border-right-color: var(--fill-color);\n",
              "    }\n",
              "    40% {\n",
              "      border-color: transparent;\n",
              "      border-right-color: var(--fill-color);\n",
              "      border-top-color: var(--fill-color);\n",
              "    }\n",
              "    60% {\n",
              "      border-color: transparent;\n",
              "      border-right-color: var(--fill-color);\n",
              "    }\n",
              "    80% {\n",
              "      border-color: transparent;\n",
              "      border-right-color: var(--fill-color);\n",
              "      border-bottom-color: var(--fill-color);\n",
              "    }\n",
              "    90% {\n",
              "      border-color: transparent;\n",
              "      border-bottom-color: var(--fill-color);\n",
              "    }\n",
              "  }\n",
              "</style>\n",
              "\n",
              "  <script>\n",
              "    async function quickchart(key) {\n",
              "      const quickchartButtonEl =\n",
              "        document.querySelector('#' + key + ' button');\n",
              "      quickchartButtonEl.disabled = true;  // To prevent multiple clicks.\n",
              "      quickchartButtonEl.classList.add('colab-df-spinner');\n",
              "      try {\n",
              "        const charts = await google.colab.kernel.invokeFunction(\n",
              "            'suggestCharts', [key], {});\n",
              "      } catch (error) {\n",
              "        console.error('Error during call to suggestCharts:', error);\n",
              "      }\n",
              "      quickchartButtonEl.classList.remove('colab-df-spinner');\n",
              "      quickchartButtonEl.classList.add('colab-df-quickchart-complete');\n",
              "    }\n",
              "    (() => {\n",
              "      let quickchartButtonEl =\n",
              "        document.querySelector('#df-7b275f58-e03e-4e25-8d48-1ff16dd2f644 button');\n",
              "      quickchartButtonEl.style.display =\n",
              "        google.colab.kernel.accessAllowed ? 'block' : 'none';\n",
              "    })();\n",
              "  </script>\n",
              "</div>\n",
              "    </div>\n",
              "  </div>\n"
            ]
          },
          "metadata": {},
          "execution_count": 25
        }
      ]
    },
    {
      "cell_type": "markdown",
      "source": [
        "Get the summary of all features in the dataset."
      ],
      "metadata": {
        "id": "j150sGWj2FTB"
      }
    },
    {
      "cell_type": "code",
      "source": [
        "# S1.2: Get the total number of rows and columns, missing values (if any), data types of columns in the dataset.\n",
        "gad_df.info()"
      ],
      "metadata": {
        "id": "O-gV_r3yRBfT",
        "colab": {
          "base_uri": "https://localhost:8080/"
        },
        "outputId": "95d45ec5-c195-4b42-c77f-03332320cb02"
      },
      "execution_count": null,
      "outputs": [
        {
          "output_type": "stream",
          "name": "stdout",
          "text": [
            "<class 'pandas.core.frame.DataFrame'>\n",
            "RangeIndex: 500 entries, 0 to 499\n",
            "Data columns (total 2 columns):\n",
            " #   Column  Non-Null Count  Dtype         \n",
            "---  ------  --------------  -----         \n",
            " 0   Days    500 non-null    datetime64[ns]\n",
            " 1   Sales   500 non-null    float64       \n",
            "dtypes: datetime64[ns](1), float64(1)\n",
            "memory usage: 7.9 KB\n"
          ]
        }
      ]
    },
    {
      "cell_type": "markdown",
      "source": [
        "There are 500 rows and 2 columns and no missing values in the dataset. Also, the data type of the `Days` column is `datetime` which is exactly what we need.  \n",
        "Let us set this column as index of the DataFrame using `set_index()` function. Store this indexed DataFrame as a separate DataFrame."
      ],
      "metadata": {
        "id": "p0tXQqMIfH7X"
      }
    },
    {
      "cell_type": "code",
      "source": [
        "# S1.3: Set 'Days' column as index of the DataFrame.\n",
        "gad_indf=gad_df.set_index('Days')\n",
        "gad_indf"
      ],
      "metadata": {
        "id": "2KUQAKubRKuc",
        "colab": {
          "base_uri": "https://localhost:8080/",
          "height": 455
        },
        "outputId": "b235f688-38f2-4012-fb28-480bb66b79ad"
      },
      "execution_count": null,
      "outputs": [
        {
          "output_type": "execute_result",
          "data": {
            "text/plain": [
              "                Sales\n",
              "Days                 \n",
              "2019-01-01  50.496714\n",
              "2019-01-02  50.805493\n",
              "2019-01-03  51.477758\n",
              "2019-01-04  53.542228\n",
              "2019-01-05  54.873108\n",
              "...               ...\n",
              "2020-05-10  64.087371\n",
              "2020-05-11  63.992081\n",
              "2020-05-12  63.029894\n",
              "2020-05-13  61.671797\n",
              "2020-05-14  59.443839\n",
              "\n",
              "[500 rows x 1 columns]"
            ],
            "text/html": [
              "\n",
              "  <div id=\"df-64e0c702-959a-4f4e-9acd-78109d638ac2\" class=\"colab-df-container\">\n",
              "    <div>\n",
              "<style scoped>\n",
              "    .dataframe tbody tr th:only-of-type {\n",
              "        vertical-align: middle;\n",
              "    }\n",
              "\n",
              "    .dataframe tbody tr th {\n",
              "        vertical-align: top;\n",
              "    }\n",
              "\n",
              "    .dataframe thead th {\n",
              "        text-align: right;\n",
              "    }\n",
              "</style>\n",
              "<table border=\"1\" class=\"dataframe\">\n",
              "  <thead>\n",
              "    <tr style=\"text-align: right;\">\n",
              "      <th></th>\n",
              "      <th>Sales</th>\n",
              "    </tr>\n",
              "    <tr>\n",
              "      <th>Days</th>\n",
              "      <th></th>\n",
              "    </tr>\n",
              "  </thead>\n",
              "  <tbody>\n",
              "    <tr>\n",
              "      <th>2019-01-01</th>\n",
              "      <td>50.496714</td>\n",
              "    </tr>\n",
              "    <tr>\n",
              "      <th>2019-01-02</th>\n",
              "      <td>50.805493</td>\n",
              "    </tr>\n",
              "    <tr>\n",
              "      <th>2019-01-03</th>\n",
              "      <td>51.477758</td>\n",
              "    </tr>\n",
              "    <tr>\n",
              "      <th>2019-01-04</th>\n",
              "      <td>53.542228</td>\n",
              "    </tr>\n",
              "    <tr>\n",
              "      <th>2019-01-05</th>\n",
              "      <td>54.873108</td>\n",
              "    </tr>\n",
              "    <tr>\n",
              "      <th>...</th>\n",
              "      <td>...</td>\n",
              "    </tr>\n",
              "    <tr>\n",
              "      <th>2020-05-10</th>\n",
              "      <td>64.087371</td>\n",
              "    </tr>\n",
              "    <tr>\n",
              "      <th>2020-05-11</th>\n",
              "      <td>63.992081</td>\n",
              "    </tr>\n",
              "    <tr>\n",
              "      <th>2020-05-12</th>\n",
              "      <td>63.029894</td>\n",
              "    </tr>\n",
              "    <tr>\n",
              "      <th>2020-05-13</th>\n",
              "      <td>61.671797</td>\n",
              "    </tr>\n",
              "    <tr>\n",
              "      <th>2020-05-14</th>\n",
              "      <td>59.443839</td>\n",
              "    </tr>\n",
              "  </tbody>\n",
              "</table>\n",
              "<p>500 rows × 1 columns</p>\n",
              "</div>\n",
              "    <div class=\"colab-df-buttons\">\n",
              "\n",
              "  <div class=\"colab-df-container\">\n",
              "    <button class=\"colab-df-convert\" onclick=\"convertToInteractive('df-64e0c702-959a-4f4e-9acd-78109d638ac2')\"\n",
              "            title=\"Convert this dataframe to an interactive table.\"\n",
              "            style=\"display:none;\">\n",
              "\n",
              "  <svg xmlns=\"http://www.w3.org/2000/svg\" height=\"24px\" viewBox=\"0 -960 960 960\">\n",
              "    <path d=\"M120-120v-720h720v720H120Zm60-500h600v-160H180v160Zm220 220h160v-160H400v160Zm0 220h160v-160H400v160ZM180-400h160v-160H180v160Zm440 0h160v-160H620v160ZM180-180h160v-160H180v160Zm440 0h160v-160H620v160Z\"/>\n",
              "  </svg>\n",
              "    </button>\n",
              "\n",
              "  <style>\n",
              "    .colab-df-container {\n",
              "      display:flex;\n",
              "      gap: 12px;\n",
              "    }\n",
              "\n",
              "    .colab-df-convert {\n",
              "      background-color: #E8F0FE;\n",
              "      border: none;\n",
              "      border-radius: 50%;\n",
              "      cursor: pointer;\n",
              "      display: none;\n",
              "      fill: #1967D2;\n",
              "      height: 32px;\n",
              "      padding: 0 0 0 0;\n",
              "      width: 32px;\n",
              "    }\n",
              "\n",
              "    .colab-df-convert:hover {\n",
              "      background-color: #E2EBFA;\n",
              "      box-shadow: 0px 1px 2px rgba(60, 64, 67, 0.3), 0px 1px 3px 1px rgba(60, 64, 67, 0.15);\n",
              "      fill: #174EA6;\n",
              "    }\n",
              "\n",
              "    .colab-df-buttons div {\n",
              "      margin-bottom: 4px;\n",
              "    }\n",
              "\n",
              "    [theme=dark] .colab-df-convert {\n",
              "      background-color: #3B4455;\n",
              "      fill: #D2E3FC;\n",
              "    }\n",
              "\n",
              "    [theme=dark] .colab-df-convert:hover {\n",
              "      background-color: #434B5C;\n",
              "      box-shadow: 0px 1px 3px 1px rgba(0, 0, 0, 0.15);\n",
              "      filter: drop-shadow(0px 1px 2px rgba(0, 0, 0, 0.3));\n",
              "      fill: #FFFFFF;\n",
              "    }\n",
              "  </style>\n",
              "\n",
              "    <script>\n",
              "      const buttonEl =\n",
              "        document.querySelector('#df-64e0c702-959a-4f4e-9acd-78109d638ac2 button.colab-df-convert');\n",
              "      buttonEl.style.display =\n",
              "        google.colab.kernel.accessAllowed ? 'block' : 'none';\n",
              "\n",
              "      async function convertToInteractive(key) {\n",
              "        const element = document.querySelector('#df-64e0c702-959a-4f4e-9acd-78109d638ac2');\n",
              "        const dataTable =\n",
              "          await google.colab.kernel.invokeFunction('convertToInteractive',\n",
              "                                                    [key], {});\n",
              "        if (!dataTable) return;\n",
              "\n",
              "        const docLinkHtml = 'Like what you see? Visit the ' +\n",
              "          '<a target=\"_blank\" href=https://colab.research.google.com/notebooks/data_table.ipynb>data table notebook</a>'\n",
              "          + ' to learn more about interactive tables.';\n",
              "        element.innerHTML = '';\n",
              "        dataTable['output_type'] = 'display_data';\n",
              "        await google.colab.output.renderOutput(dataTable, element);\n",
              "        const docLink = document.createElement('div');\n",
              "        docLink.innerHTML = docLinkHtml;\n",
              "        element.appendChild(docLink);\n",
              "      }\n",
              "    </script>\n",
              "  </div>\n",
              "\n",
              "\n",
              "<div id=\"df-5be2a548-8c94-4736-b6f9-50495aef84fb\">\n",
              "  <button class=\"colab-df-quickchart\" onclick=\"quickchart('df-5be2a548-8c94-4736-b6f9-50495aef84fb')\"\n",
              "            title=\"Suggest charts.\"\n",
              "            style=\"display:none;\">\n",
              "\n",
              "<svg xmlns=\"http://www.w3.org/2000/svg\" height=\"24px\"viewBox=\"0 0 24 24\"\n",
              "     width=\"24px\">\n",
              "    <g>\n",
              "        <path d=\"M19 3H5c-1.1 0-2 .9-2 2v14c0 1.1.9 2 2 2h14c1.1 0 2-.9 2-2V5c0-1.1-.9-2-2-2zM9 17H7v-7h2v7zm4 0h-2V7h2v10zm4 0h-2v-4h2v4z\"/>\n",
              "    </g>\n",
              "</svg>\n",
              "  </button>\n",
              "\n",
              "<style>\n",
              "  .colab-df-quickchart {\n",
              "      --bg-color: #E8F0FE;\n",
              "      --fill-color: #1967D2;\n",
              "      --hover-bg-color: #E2EBFA;\n",
              "      --hover-fill-color: #174EA6;\n",
              "      --disabled-fill-color: #AAA;\n",
              "      --disabled-bg-color: #DDD;\n",
              "  }\n",
              "\n",
              "  [theme=dark] .colab-df-quickchart {\n",
              "      --bg-color: #3B4455;\n",
              "      --fill-color: #D2E3FC;\n",
              "      --hover-bg-color: #434B5C;\n",
              "      --hover-fill-color: #FFFFFF;\n",
              "      --disabled-bg-color: #3B4455;\n",
              "      --disabled-fill-color: #666;\n",
              "  }\n",
              "\n",
              "  .colab-df-quickchart {\n",
              "    background-color: var(--bg-color);\n",
              "    border: none;\n",
              "    border-radius: 50%;\n",
              "    cursor: pointer;\n",
              "    display: none;\n",
              "    fill: var(--fill-color);\n",
              "    height: 32px;\n",
              "    padding: 0;\n",
              "    width: 32px;\n",
              "  }\n",
              "\n",
              "  .colab-df-quickchart:hover {\n",
              "    background-color: var(--hover-bg-color);\n",
              "    box-shadow: 0 1px 2px rgba(60, 64, 67, 0.3), 0 1px 3px 1px rgba(60, 64, 67, 0.15);\n",
              "    fill: var(--button-hover-fill-color);\n",
              "  }\n",
              "\n",
              "  .colab-df-quickchart-complete:disabled,\n",
              "  .colab-df-quickchart-complete:disabled:hover {\n",
              "    background-color: var(--disabled-bg-color);\n",
              "    fill: var(--disabled-fill-color);\n",
              "    box-shadow: none;\n",
              "  }\n",
              "\n",
              "  .colab-df-spinner {\n",
              "    border: 2px solid var(--fill-color);\n",
              "    border-color: transparent;\n",
              "    border-bottom-color: var(--fill-color);\n",
              "    animation:\n",
              "      spin 1s steps(1) infinite;\n",
              "  }\n",
              "\n",
              "  @keyframes spin {\n",
              "    0% {\n",
              "      border-color: transparent;\n",
              "      border-bottom-color: var(--fill-color);\n",
              "      border-left-color: var(--fill-color);\n",
              "    }\n",
              "    20% {\n",
              "      border-color: transparent;\n",
              "      border-left-color: var(--fill-color);\n",
              "      border-top-color: var(--fill-color);\n",
              "    }\n",
              "    30% {\n",
              "      border-color: transparent;\n",
              "      border-left-color: var(--fill-color);\n",
              "      border-top-color: var(--fill-color);\n",
              "      border-right-color: var(--fill-color);\n",
              "    }\n",
              "    40% {\n",
              "      border-color: transparent;\n",
              "      border-right-color: var(--fill-color);\n",
              "      border-top-color: var(--fill-color);\n",
              "    }\n",
              "    60% {\n",
              "      border-color: transparent;\n",
              "      border-right-color: var(--fill-color);\n",
              "    }\n",
              "    80% {\n",
              "      border-color: transparent;\n",
              "      border-right-color: var(--fill-color);\n",
              "      border-bottom-color: var(--fill-color);\n",
              "    }\n",
              "    90% {\n",
              "      border-color: transparent;\n",
              "      border-bottom-color: var(--fill-color);\n",
              "    }\n",
              "  }\n",
              "</style>\n",
              "\n",
              "  <script>\n",
              "    async function quickchart(key) {\n",
              "      const quickchartButtonEl =\n",
              "        document.querySelector('#' + key + ' button');\n",
              "      quickchartButtonEl.disabled = true;  // To prevent multiple clicks.\n",
              "      quickchartButtonEl.classList.add('colab-df-spinner');\n",
              "      try {\n",
              "        const charts = await google.colab.kernel.invokeFunction(\n",
              "            'suggestCharts', [key], {});\n",
              "      } catch (error) {\n",
              "        console.error('Error during call to suggestCharts:', error);\n",
              "      }\n",
              "      quickchartButtonEl.classList.remove('colab-df-spinner');\n",
              "      quickchartButtonEl.classList.add('colab-df-quickchart-complete');\n",
              "    }\n",
              "    (() => {\n",
              "      let quickchartButtonEl =\n",
              "        document.querySelector('#df-5be2a548-8c94-4736-b6f9-50495aef84fb button');\n",
              "      quickchartButtonEl.style.display =\n",
              "        google.colab.kernel.accessAllowed ? 'block' : 'none';\n",
              "    })();\n",
              "  </script>\n",
              "</div>\n",
              "    </div>\n",
              "  </div>\n"
            ]
          },
          "metadata": {},
          "execution_count": 27
        }
      ]
    },
    {
      "cell_type": "markdown",
      "source": [
        "Let us create a line plot to visualise the day-wise indexed DataFrame."
      ],
      "metadata": {
        "id": "bnek1JtAfsUX"
      }
    },
    {
      "cell_type": "code",
      "source": [
        "# S1.4: Visualise time-series plot.\n",
        "plt.figure(figsize=(7,5))\n",
        "plt.plot(gad_indf)"
      ],
      "metadata": {
        "id": "R0eDApeARSzk",
        "colab": {
          "base_uri": "https://localhost:8080/",
          "height": 462
        },
        "outputId": "170818d2-a9a3-47f2-c7bc-09814162afa9"
      },
      "execution_count": null,
      "outputs": [
        {
          "output_type": "execute_result",
          "data": {
            "text/plain": [
              "[<matplotlib.lines.Line2D at 0x7a011da95c30>]"
            ]
          },
          "metadata": {},
          "execution_count": 28
        },
        {
          "output_type": "display_data",
          "data": {
            "text/plain": [
              "<Figure size 700x500 with 1 Axes>"
            ],
            "image/png": "[encoded data removed]"
          },
          "metadata": {}
        }
      ]
    },
    {
      "cell_type": "markdown",
      "source": [
        "The next step is to test for **stationarity**. From the above plot, it is clearly visible that the series is not stationary since there is an upward trend. Still, let us confirm whether the dataset is stationary or not by implementing ADF test."
      ],
      "metadata": {
        "id": "fAmL9nccosLO"
      }
    },
    {
      "cell_type": "code",
      "source": [
        "# S1.5: Implement ADF test.\n",
        "# Import 'adfuller' from 'statsmodels.tsa.stattools'\n",
        "from statsmodels.tsa.stattools import adfuller\n",
        "# Get the ADF Test Results\n",
        "adf_df1=adfuller(gad_indf['Sales'])\n",
        "adf_df1"
      ],
      "metadata": {
        "id": "1oEnyiSJRj5C",
        "colab": {
          "base_uri": "https://localhost:8080/"
        },
        "outputId": "6df60753-6e5d-4212-df07-3c1e4a14518c"
      },
      "execution_count": null,
      "outputs": [
        {
          "output_type": "execute_result",
          "data": {
            "text/plain": [
              "(-1.5121662069359065,\n",
              " 0.5274845352272597,\n",
              " 3,\n",
              " 496,\n",
              " {'1%': -3.4436029548776395,\n",
              "  '5%': -2.867384756137026,\n",
              "  '10%': -2.5698830308597813},\n",
              " 1354.8017397952058)"
            ]
          },
          "metadata": {},
          "execution_count": 29
        }
      ]
    },
    {
      "cell_type": "markdown",
      "source": [
        "You may observe that the ADF statistic is not a large negative number and the p-value is greater than 0.05. Therefore, our time series is not stationary and we must apply transformations to make it stationary.\n",
        "\n",
        "In order to make our series stationary, we will try to stabilise the trend by applying a first-order differencing. In the previous lessons, we implemented following formula in Python to perform first order differencing:\n",
        "\n",
        "$$y'_t = y_t - y_{t-1}$$\n",
        "\n",
        "Here, the previous time lag $y_{t-1}$ was calculated using `shift(1)` function.\n",
        "\n",
        "Another way of performing first-order differencing is to use `diff(1)` function of DataFrame."
      ],
      "metadata": {
        "id": "9Mv2RDlcqM_y"
      }
    },
    {
      "cell_type": "code",
      "source": [
        "# S1.6: Use 'diff(1)' function to perform first-order differencing\n",
        "gad_df1=gad_indf.diff(1)\n",
        "gad_df1"
      ],
      "metadata": {
        "id": "GbvPfg_xsudx",
        "colab": {
          "base_uri": "https://localhost:8080/",
          "height": 455
        },
        "outputId": "40122ca5-ee07-4125-ceca-141f6c1472f3"
      },
      "execution_count": null,
      "outputs": [
        {
          "output_type": "execute_result",
          "data": {
            "text/plain": [
              "               Sales\n",
              "Days                \n",
              "2019-01-01       NaN\n",
              "2019-01-02  0.308778\n",
              "2019-01-03  0.672265\n",
              "2019-01-04  2.064470\n",
              "2019-01-05  1.330880\n",
              "...              ...\n",
              "2020-05-10  1.651336\n",
              "2020-05-11 -0.095290\n",
              "2020-05-12 -0.962187\n",
              "2020-05-13 -1.358097\n",
              "2020-05-14 -2.227958\n",
              "\n",
              "[500 rows x 1 columns]"
            ],
            "text/html": [
              "\n",
              "  <div id=\"df-dc200baa-13ff-4454-8abc-c26f3d676e30\" class=\"colab-df-container\">\n",
              "    <div>\n",
              "<style scoped>\n",
              "    .dataframe tbody tr th:only-of-type {\n",
              "        vertical-align: middle;\n",
              "    }\n",
              "\n",
              "    .dataframe tbody tr th {\n",
              "        vertical-align: top;\n",
              "    }\n",
              "\n",
              "    .dataframe thead th {\n",
              "        text-align: right;\n",
              "    }\n",
              "</style>\n",
              "<table border=\"1\" class=\"dataframe\">\n",
              "  <thead>\n",
              "    <tr style=\"text-align: right;\">\n",
              "      <th></th>\n",
              "      <th>Sales</th>\n",
              "    </tr>\n",
              "    <tr>\n",
              "      <th>Days</th>\n",
              "      <th></th>\n",
              "    </tr>\n",
              "  </thead>\n",
              "  <tbody>\n",
              "    <tr>\n",
              "      <th>2019-01-01</th>\n",
              "      <td>NaN</td>\n",
              "    </tr>\n",
              "    <tr>\n",
              "      <th>2019-01-02</th>\n",
              "      <td>0.308778</td>\n",
              "    </tr>\n",
              "    <tr>\n",
              "      <th>2019-01-03</th>\n",
              "      <td>0.672265</td>\n",
              "    </tr>\n",
              "    <tr>\n",
              "      <th>2019-01-04</th>\n",
              "      <td>2.064470</td>\n",
              "    </tr>\n",
              "    <tr>\n",
              "      <th>2019-01-05</th>\n",
              "      <td>1.330880</td>\n",
              "    </tr>\n",
              "    <tr>\n",
              "      <th>...</th>\n",
              "      <td>...</td>\n",
              "    </tr>\n",
              "    <tr>\n",
              "      <th>2020-05-10</th>\n",
              "      <td>1.651336</td>\n",
              "    </tr>\n",
              "    <tr>\n",
              "      <th>2020-05-11</th>\n",
              "      <td>-0.095290</td>\n",
              "    </tr>\n",
              "    <tr>\n",
              "      <th>2020-05-12</th>\n",
              "      <td>-0.962187</td>\n",
              "    </tr>\n",
              "    <tr>\n",
              "      <th>2020-05-13</th>\n",
              "      <td>-1.358097</td>\n",
              "    </tr>\n",
              "    <tr>\n",
              "      <th>2020-05-14</th>\n",
              "      <td>-2.227958</td>\n",
              "    </tr>\n",
              "  </tbody>\n",
              "</table>\n",
              "<p>500 rows × 1 columns</p>\n",
              "</div>\n",
              "    <div class=\"colab-df-buttons\">\n",
              "\n",
              "  <div class=\"colab-df-container\">\n",
              "    <button class=\"colab-df-convert\" onclick=\"convertToInteractive('df-dc200baa-13ff-4454-8abc-c26f3d676e30')\"\n",
              "            title=\"Convert this dataframe to an interactive table.\"\n",
              "            style=\"display:none;\">\n",
              "\n",
              "  <svg xmlns=\"http://www.w3.org/2000/svg\" height=\"24px\" viewBox=\"0 -960 960 960\">\n",
              "    <path d=\"M120-120v-720h720v720H120Zm60-500h600v-160H180v160Zm220 220h160v-160H400v160Zm0 220h160v-160H400v160ZM180-400h160v-160H180v160Zm440 0h160v-160H620v160ZM180-180h160v-160H180v160Zm440 0h160v-160H620v160Z\"/>\n",
              "  </svg>\n",
              "    </button>\n",
              "\n",
              "  <style>\n",
              "    .colab-df-container {\n",
              "      display:flex;\n",
              "      gap: 12px;\n",
              "    }\n",
              "\n",
              "    .colab-df-convert {\n",
              "      background-color: #E8F0FE;\n",
              "      border: none;\n",
              "      border-radius: 50%;\n",
              "      cursor: pointer;\n",
              "      display: none;\n",
              "      fill: #1967D2;\n",
              "      height: 32px;\n",
              "      padding: 0 0 0 0;\n",
              "      width: 32px;\n",
              "    }\n",
              "\n",
              "    .colab-df-convert:hover {\n",
              "      background-color: #E2EBFA;\n",
              "      box-shadow: 0px 1px 2px rgba(60, 64, 67, 0.3), 0px 1px 3px 1px rgba(60, 64, 67, 0.15);\n",
              "      fill: #174EA6;\n",
              "    }\n",
              "\n",
              "    .colab-df-buttons div {\n",
              "      margin-bottom: 4px;\n",
              "    }\n",
              "\n",
              "    [theme=dark] .colab-df-convert {\n",
              "      background-color: #3B4455;\n",
              "      fill: #D2E3FC;\n",
              "    }\n",
              "\n",
              "    [theme=dark] .colab-df-convert:hover {\n",
              "      background-color: #434B5C;\n",
              "      box-shadow: 0px 1px 3px 1px rgba(0, 0, 0, 0.15);\n",
              "      filter: drop-shadow(0px 1px 2px rgba(0, 0, 0, 0.3));\n",
              "      fill: #FFFFFF;\n",
              "    }\n",
              "  </style>\n",
              "\n",
              "    <script>\n",
              "      const buttonEl =\n",
              "        document.querySelector('#df-dc200baa-13ff-4454-8abc-c26f3d676e30 button.colab-df-convert');\n",
              "      buttonEl.style.display =\n",
              "        google.colab.kernel.accessAllowed ? 'block' : 'none';\n",
              "\n",
              "      async function convertToInteractive(key) {\n",
              "        const element = document.querySelector('#df-dc200baa-13ff-4454-8abc-c26f3d676e30');\n",
              "        const dataTable =\n",
              "          await google.colab.kernel.invokeFunction('convertToInteractive',\n",
              "                                                    [key], {});\n",
              "        if (!dataTable) return;\n",
              "\n",
              "        const docLinkHtml = 'Like what you see? Visit the ' +\n",
              "          '<a target=\"_blank\" href=https://colab.research.google.com/notebooks/data_table.ipynb>data table notebook</a>'\n",
              "          + ' to learn more about interactive tables.';\n",
              "        element.innerHTML = '';\n",
              "        dataTable['output_type'] = 'display_data';\n",
              "        await google.colab.output.renderOutput(dataTable, element);\n",
              "        const docLink = document.createElement('div');\n",
              "        docLink.innerHTML = docLinkHtml;\n",
              "        element.appendChild(docLink);\n",
              "      }\n",
              "    </script>\n",
              "  </div>\n",
              "\n",
              "\n",
              "<div id=\"df-1b782d1e-d85e-49bc-9b66-d8f25b748286\">\n",
              "  <button class=\"colab-df-quickchart\" onclick=\"quickchart('df-1b782d1e-d85e-49bc-9b66-d8f25b748286')\"\n",
              "            title=\"Suggest charts.\"\n",
              "            style=\"display:none;\">\n",
              "\n",
              "<svg xmlns=\"http://www.w3.org/2000/svg\" height=\"24px\"viewBox=\"0 0 24 24\"\n",
              "     width=\"24px\">\n",
              "    <g>\n",
              "        <path d=\"M19 3H5c-1.1 0-2 .9-2 2v14c0 1.1.9 2 2 2h14c1.1 0 2-.9 2-2V5c0-1.1-.9-2-2-2zM9 17H7v-7h2v7zm4 0h-2V7h2v10zm4 0h-2v-4h2v4z\"/>\n",
              "    </g>\n",
              "</svg>\n",
              "  </button>\n",
              "\n",
              "<style>\n",
              "  .colab-df-quickchart {\n",
              "      --bg-color: #E8F0FE;\n",
              "      --fill-color: #1967D2;\n",
              "      --hover-bg-color: #E2EBFA;\n",
              "      --hover-fill-color: #174EA6;\n",
              "      --disabled-fill-color: #AAA;\n",
              "      --disabled-bg-color: #DDD;\n",
              "  }\n",
              "\n",
              "  [theme=dark] .colab-df-quickchart {\n",
              "      --bg-color: #3B4455;\n",
              "      --fill-color: #D2E3FC;\n",
              "      --hover-bg-color: #434B5C;\n",
              "      --hover-fill-color: #FFFFFF;\n",
              "      --disabled-bg-color: #3B4455;\n",
              "      --disabled-fill-color: #666;\n",
              "  }\n",
              "\n",
              "  .colab-df-quickchart {\n",
              "    background-color: var(--bg-color);\n",
              "    border: none;\n",
              "    border-radius: 50%;\n",
              "    cursor: pointer;\n",
              "    display: none;\n",
              "    fill: var(--fill-color);\n",
              "    height: 32px;\n",
              "    padding: 0;\n",
              "    width: 32px;\n",
              "  }\n",
              "\n",
              "  .colab-df-quickchart:hover {\n",
              "    background-color: var(--hover-bg-color);\n",
              "    box-shadow: 0 1px 2px rgba(60, 64, 67, 0.3), 0 1px 3px 1px rgba(60, 64, 67, 0.15);\n",
              "    fill: var(--button-hover-fill-color);\n",
              "  }\n",
              "\n",
              "  .colab-df-quickchart-complete:disabled,\n",
              "  .colab-df-quickchart-complete:disabled:hover {\n",
              "    background-color: var(--disabled-bg-color);\n",
              "    fill: var(--disabled-fill-color);\n",
              "    box-shadow: none;\n",
              "  }\n",
              "\n",
              "  .colab-df-spinner {\n",
              "    border: 2px solid var(--fill-color);\n",
              "    border-color: transparent;\n",
              "    border-bottom-color: var(--fill-color);\n",
              "    animation:\n",
              "      spin 1s steps(1) infinite;\n",
              "  }\n",
              "\n",
              "  @keyframes spin {\n",
              "    0% {\n",
              "      border-color: transparent;\n",
              "      border-bottom-color: var(--fill-color);\n",
              "      border-left-color: var(--fill-color);\n",
              "    }\n",
              "    20% {\n",
              "      border-color: transparent;\n",
              "      border-left-color: var(--fill-color);\n",
              "      border-top-color: var(--fill-color);\n",
              "    }\n",
              "    30% {\n",
              "      border-color: transparent;\n",
              "      border-left-color: var(--fill-color);\n",
              "      border-top-color: var(--fill-color);\n",
              "      border-right-color: var(--fill-color);\n",
              "    }\n",
              "    40% {\n",
              "      border-color: transparent;\n",
              "      border-right-color: var(--fill-color);\n",
              "      border-top-color: var(--fill-color);\n",
              "    }\n",
              "    60% {\n",
              "      border-color: transparent;\n",
              "      border-right-color: var(--fill-color);\n",
              "    }\n",
              "    80% {\n",
              "      border-color: transparent;\n",
              "      border-right-color: var(--fill-color);\n",
              "      border-bottom-color: var(--fill-color);\n",
              "    }\n",
              "    90% {\n",
              "      border-color: transparent;\n",
              "      border-bottom-color: var(--fill-color);\n",
              "    }\n",
              "  }\n",
              "</style>\n",
              "\n",
              "  <script>\n",
              "    async function quickchart(key) {\n",
              "      const quickchartButtonEl =\n",
              "        document.querySelector('#' + key + ' button');\n",
              "      quickchartButtonEl.disabled = true;  // To prevent multiple clicks.\n",
              "      quickchartButtonEl.classList.add('colab-df-spinner');\n",
              "      try {\n",
              "        const charts = await google.colab.kernel.invokeFunction(\n",
              "            'suggestCharts', [key], {});\n",
              "      } catch (error) {\n",
              "        console.error('Error during call to suggestCharts:', error);\n",
              "      }\n",
              "      quickchartButtonEl.classList.remove('colab-df-spinner');\n",
              "      quickchartButtonEl.classList.add('colab-df-quickchart-complete');\n",
              "    }\n",
              "    (() => {\n",
              "      let quickchartButtonEl =\n",
              "        document.querySelector('#df-1b782d1e-d85e-49bc-9b66-d8f25b748286 button');\n",
              "      quickchartButtonEl.style.display =\n",
              "        google.colab.kernel.accessAllowed ? 'block' : 'none';\n",
              "    })();\n",
              "  </script>\n",
              "</div>\n",
              "    </div>\n",
              "  </div>\n"
            ]
          },
          "metadata": {},
          "execution_count": 30
        }
      ]
    },
    {
      "cell_type": "markdown",
      "source": [
        "Again check whether the first-order differenced data is stationary or not by performing ADF test. Also, remove `NaN` values from the differenced dataset."
      ],
      "metadata": {
        "id": "ZGFiZeMstIQr"
      }
    },
    {
      "cell_type": "code",
      "source": [
        "# S1.7: Remove NaN values and check stationarity of the time series data\n",
        "gad_df1.dropna(inplace=True)\n",
        "# Drop all the NaN values\n",
        "adf_df2=adfuller(gad_df1['Sales'])\n",
        "adf_df2\n",
        "# Get the ADF Test Results"
      ],
      "metadata": {
        "id": "Iaeb4GBQtIBA",
        "colab": {
          "base_uri": "https://localhost:8080/"
        },
        "outputId": "3bd4d610-dd14-462b-db10-ddffb45db0fe"
      },
      "execution_count": null,
      "outputs": [
        {
          "output_type": "execute_result",
          "data": {
            "text/plain": [
              "(-10.576657780341957,\n",
              " 7.076922818587346e-19,\n",
              " 2,\n",
              " 496,\n",
              " {'1%': -3.4436029548776395,\n",
              "  '5%': -2.867384756137026,\n",
              "  '10%': -2.5698830308597813},\n",
              " 1350.6408606302764)"
            ]
          },
          "metadata": {},
          "execution_count": 33
        }
      ]
    },
    {
      "cell_type": "markdown",
      "source": [
        "You may observe that ADF statistic is now a large negative number and the p-value is much smaller than 0.05. Hence, we can conclude that second-order differencing is not needed and our time-series is now stationary.\n",
        "\n",
        "Next step is to estimate the hyperparameter values `p`, `d`, and `q` for implementing ARIMA model."
      ],
      "metadata": {
        "id": "ldfOLj4wt9fp"
      }
    },
    {
      "cell_type": "markdown",
      "source": [
        "---"
      ],
      "metadata": {
        "id": "oDCq4z-6xfWi"
      }
    },
    {
      "cell_type": "markdown",
      "source": [
        "#### Activity 2: Picking Parameters for ARIMA (p,d,q)\n",
        "\n",
        "We already know how many times we had to difference the dataset, so here the value of hyperparameter `d` is `1`.\n",
        "\n",
        "Next, we need to figure out the values of `p` and `q`.\n",
        "\n",
        "Remember the following rule: <img src=\"https://s3-whjr-v2-prod-bucket.whjr.online/whjr-v2-prod-bucket/2ed779bb-99bf-4856-9770-ff63fd5913f1.png\" width = 25 width = 20/>\n",
        "\n",
        "- To estimate order `p`, PACF plot is used.\n",
        "- To estimate order `q`, ACF plot is used.\n",
        "\n",
        "**Determining order `p`:**\n",
        "\n",
        "In the previous lesson, we learned how to estimate order `p` using PACF plot. Let us first create a PACF plot for first-order differenced time-series.\n",
        "\n",
        "**Note:** You may pass `lags = 10` inside `plot_pacf()` function to plot PACF only for first 10 lags, as higher order lags are anyway bad choice for `p`."
      ],
      "metadata": {
        "id": "pjoTcdC2xgZ5"
      }
    },
    {
      "cell_type": "code",
      "source": [
        "# S2.1: Plot PACF\n",
        "from statsmodels.graphics.tsaplots import plot_pacf\n",
        "plot_pacf(gad_df1,lags=10)"
      ],
      "metadata": {
        "id": "-MlXLmQhpcOT",
        "colab": {
          "base_uri": "https://localhost:8080/",
          "height": 887
        },
        "outputId": "64a6dbb1-8f82-473e-f9c7-2d57b21eb19a"
      },
      "execution_count": null,
      "outputs": [
        {
          "output_type": "execute_result",
          "data": {
            "text/plain": [
              "<Figure size 640x480 with 1 Axes>"
            ],
            "image/png": "[encoded data removed]"
          },
          "metadata": {},
          "execution_count": 34
        },
        {
          "output_type": "display_data",
          "data": {
            "text/plain": [
              "<Figure size 640x480 with 1 Axes>"
            ],
            "image/png": "[encoded data removed]"
          },
          "metadata": {}
        }
      ]
    },
    {
      "cell_type": "markdown",
      "source": [
        "The PACF at $\\text{lag} = 0$ is 1, because each data point is always correlated with itself. Analysing the PACF plot,  we can see there are significant spikes at lag 1, lag 2 and lag 3. Hence, order `p` can be `1`, `2` or `3`. We will pick `p = 2`.\n",
        "\n",
        "**Note:** You may also pick other significant `p` values and compare the model's performance for both different `p` values. However, avoid using higher `p` values to keep the model as simple as possible.\n",
        "\n",
        "**Determining order `q`:**\n",
        "\n",
        "Just like how we looked at the PACF plot for the number of AR terms, we will look at the ACF plot for the number of MA terms i.e value of order `q`.\n",
        "\n",
        "Let us create an ACF plot for first-order differenced time-series.\n"
      ],
      "metadata": {
        "id": "RlJb2vBn1cU-"
      }
    },
    {
      "cell_type": "code",
      "source": [
        "# S2.2: Plot ACF\n",
        "from statsmodels.graphics.tsaplots import plot_acf\n",
        "plot_acf(gad_df1,lags=10)"
      ],
      "metadata": {
        "id": "XdHXxgncS0W6",
        "colab": {
          "base_uri": "https://localhost:8080/",
          "height": 887
        },
        "outputId": "abf0554b-f214-46ee-f68d-6c972f6dd5fe"
      },
      "execution_count": null,
      "outputs": [
        {
          "output_type": "execute_result",
          "data": {
            "text/plain": [
              "<Figure size 640x480 with 1 Axes>"
            ],
            "image/png": "[encoded data removed]"
          },
          "metadata": {},
          "execution_count": 35
        },
        {
          "output_type": "display_data",
          "data": {
            "text/plain": [
              "<Figure size 640x480 with 1 Axes>"
            ],
            "image/png": "[encoded data removed]"
          },
          "metadata": {}
        }
      ]
    },
    {
      "cell_type": "markdown",
      "source": [
        "Again the ACF at $\\text{lag} = 0$ is 1, because each data point is always correlated with itself. Analysing the ACF plot,  we can see there are significant spikes at lag 1 and lag 2. Hence, order `q` can be `1` or `2`. We will pick `q = 2`.\n",
        "\n",
        "Hence, the estimated values for ARIMA model are `p = 2`, `d = 1` and `q = 2 `. Note that these values may not be the best and optimal values for the hyperparamaters. We can build models using different hyperparameter values and compare the performance of these model. We will learn this in the upcoming lessons.\n",
        "\n",
        "Estimating `p` and `q` values using ACF and PACF plots can be very tricky. Let us look at some case studies of stationary datasets and try to estimate these values for them.\n",
        "\n",
        "---\n",
        "**Case 1:**\n",
        "\n",
        "<center>\n",
        "<img src=\"https://s3-whjr-v2-prod-bucket.whjr.online/whjr-v2-prod-bucket/ba55c4c9-a259-41f9-b609-3a317671eb99.png\"/>\n",
        "\n",
        "`Fig 4.1: ACF and PACF plots of case 1`\n",
        "</center>\n",
        "\n",
        "Here,\n",
        "- PACF drops sharply after lag 1. Hence `p = 1`.\n",
        "- ACF shows a gradually decreasing trend.\n",
        "\n",
        "Note that whenever ACF or PACF plots shows gradual decreasing trend, then the order value inferenced from that plot would be `0`.\n",
        "\n",
        "<img src=\"https://s3-whjr-v2-prod-bucket.whjr.online/whjr-v2-prod-bucket/2ed779bb-99bf-4856-9770-ff63fd5913f1.png\" width = 25 width = 20/> In other words,\n",
        "- If PACF data points are sinusoidal* or declining gradually, then `p = 0`.\n",
        "\n",
        "- If ACF data points are sinusoidal or declining gradually, then `q = 0`.\n",
        "\n",
        "In the above case study, ACF plot is gradually declining, hence `q = 0`.  \n",
        "\n",
        "**Conclusion:** `p = 1` and `q = 0` for case 1.\n",
        "\n",
        "***Note:** A sinusoidal ACF or PACF plot may look like this:\n",
        "<img src=\"https://s3-whjr-v2-prod-bucket.whjr.online/whjr-v2-prod-bucket/ed997e7f-7401-4b85-a1bf-4a47ba0f058a.PNG\"/>\n",
        "\n",
        "<br/>\n",
        "\n",
        "---\n",
        "<br/>\n",
        "\n",
        "**Case 2:**\n",
        "\n",
        "<center>\n",
        "<img src=\"https://s3-whjr-v2-prod-bucket.whjr.online/whjr-v2-prod-bucket/1c48db1d-f740-4f2a-9b56-c2c887ff7bd9.png\"/>\n",
        "\n",
        "`Fig 4.2: ACF and PACF plots of case 2`\n",
        "</center>\n",
        "\n",
        "Here,\n",
        "- PACF shows a gradual decreasing trend. Hence `p = 0`.\n",
        "- ACF drops sharply after lag 1. Hence, `q = 1`.\n",
        "\n",
        "**Conclusion:** `p = 0` and `q = 1` for case 2.\n",
        "\n",
        "<br/>\n",
        "\n",
        "---\n",
        "<br/>\n",
        "\n",
        "**Case 3:**\n",
        "\n",
        "<center>\n",
        "<img src=\"https://s3-whjr-v2-prod-bucket.whjr.online/whjr-v2-prod-bucket/f1ec52f7-4f89-4358-b467-44adb9716eb7.png\"/>\n",
        "\n",
        "`Fig 4.3: ACF and PACF plots of case 3`\n",
        "</center>\n",
        "\n",
        "Here,\n",
        "- PACF shows a gradual decreasing trend. Also, it drops sharply after lag 1. Hence `p = 0` or `p = 1`. You can experiment with both the values.\n",
        "\n",
        "- ACF drops sharply after lag 2. Hence, `q = 2`.\n",
        "\n",
        "**Conclusion:** `p = 0` or `p = 1`, and `q = 2` for case 3.\n",
        "\n",
        "Now that, we have understood how to estimate orders `p`, `d`, and `q` for ARIMA model, let us finally deploy the ARIMA model.\n"
      ],
      "metadata": {
        "id": "vQBLFoy969WL"
      }
    },
    {
      "cell_type": "markdown",
      "source": [
        "---"
      ],
      "metadata": {
        "id": "m283hfBAJSpe"
      }
    },
    {
      "cell_type": "markdown",
      "source": [
        "#### Activity 3: Deploying ARIMA Model\n",
        "\n",
        "We are now ready to deploy ARIMA(p, d, q) model using `statsmodels` package with `p = 2`, `d = 1` and `q = 2` using the steps given below:\n",
        "\n",
        "\n",
        "1. Import `ARIMA` class from `statsmodels.tsa.arima_model` module.\n",
        "\n",
        "2. Create an object of `ARIMA` class and pass the following inputs:\n",
        "  - `gadgets_in_df`:  Original indexed DataFrame.\n",
        "  - `order = (2, 2, 1)`: The hyperparameter values.\n",
        "\n",
        "3. Call the `fit()` function using the object of `ARIMA`.\n",
        "4. Print the coefficient values of ARIMA model terms using `params` attribute.\n"
      ],
      "metadata": {
        "id": "z5LjdkmGJTsd"
      }
    },
    {
      "cell_type": "code",
      "source": [
        "# S3.1: Build ARIMA model using entire dataset and plot prediction.\n",
        "from statsmodels.tsa.arima.model import ARIMA\n",
        "arima_1=ARIMA(gad_indf,order=(2,1,2)).fit()\n",
        "arima_1.params"
      ],
      "metadata": {
        "id": "tECKpciwWTuC",
        "colab": {
          "base_uri": "https://localhost:8080/"
        },
        "outputId": "6ab10a57-4b51-4994-be04-93affe119156"
      },
      "execution_count": null,
      "outputs": [
        {
          "output_type": "stream",
          "name": "stderr",
          "text": [
            "/usr/local/lib/python3.10/dist-packages/statsmodels/tsa/base/tsa_model.py:473: ValueWarning: No frequency information was provided, so inferred frequency D will be used.\n",
            "  self._init_dates(dates, freq)\n",
            "/usr/local/lib/python3.10/dist-packages/statsmodels/tsa/base/tsa_model.py:473: ValueWarning: No frequency information was provided, so inferred frequency D will be used.\n",
            "  self._init_dates(dates, freq)\n",
            "/usr/local/lib/python3.10/dist-packages/statsmodels/tsa/base/tsa_model.py:473: ValueWarning: No frequency information was provided, so inferred frequency D will be used.\n",
            "  self._init_dates(dates, freq)\n"
          ]
        },
        {
          "output_type": "execute_result",
          "data": {
            "text/plain": [
              "ar.L1     0.643867\n",
              "ar.L2    -0.204756\n",
              "ma.L1     0.253661\n",
              "ma.L2    -0.085442\n",
              "sigma2    0.956581\n",
              "dtype: float64"
            ]
          },
          "metadata": {},
          "execution_count": 39
        }
      ]
    },
    {
      "cell_type": "markdown",
      "source": [
        "As our model had 2 AR and 2 MA terms, we obtained 4 coefficient values. These are nothing but the weights of the respective terms i.e.\n",
        "\n",
        "- $\\phi_0 (\\text{constant}) = 0.0152$\n",
        "- $\\phi_1 = 0.6437$\n",
        "- $\\phi_2 = -0.2048$\n",
        "- $\\beta_1 = 0.2537$\n",
        "- $\\beta_2 = -0.0853$\n",
        "\n",
        "Let us now perform prediction using `predict()` function by specifying the start and end index for differenced dataset. Also, plot the predictions\n",
        "\n",
        "**Note:** Use `typ = 'levels'` attribute within `predict()` function to perform prediction for original observations rather than differenced observations.\n",
        "\n",
        "Evaluate this model using accuracy metrics like Mean Absolute Error (MAE) and Root Mean Squared Error (RMSE).\n",
        "\n"
      ],
      "metadata": {
        "id": "4ioJmqvPLc5Q"
      }
    },
    {
      "cell_type": "code",
      "source": [
        "# S3.2: Perform prediction using 'predict()' function for original dataset.\n",
        "pred=arima_1.predict(1,len(gad_indf)-1,typ='levels')\n",
        "print(mean_absolute_error(gad_indf[1:],pred))\n",
        "plt.figure(figsize=(10,5))\n",
        "plt.plot(pred)\n",
        "plt.plot(gad_indf['Sales'])\n",
        "plt.show()\n",
        "# Predict using `predict()` function with start = 1 and end = (total observations - 1)\n",
        "\n",
        "\n",
        "# Print MAE and RMSE values\n",
        "\n",
        "\n",
        "# Plot predictions and actual values\n"
      ],
      "metadata": {
        "id": "lZl3vjnCKngo",
        "colab": {
          "base_uri": "https://localhost:8080/",
          "height": 462
        },
        "outputId": "cf4e9db6-7079-42b9-c112-6b7a5f35f359"
      },
      "execution_count": null,
      "outputs": [
        {
          "output_type": "stream",
          "name": "stdout",
          "text": [
            "0.7755192658072998\n"
          ]
        },
        {
          "output_type": "display_data",
          "data": {
            "text/plain": [
              "<Figure size 1000x500 with 1 Axes>"
            ],
            "image/png": "[encoded data removed]"
          },
          "metadata": {}
        }
      ]
    },
    {
      "cell_type": "markdown",
      "source": [
        "You may observe that the predictions are very close to the actual observations. Also the MAE and RMSE values are very good for the model. Hence, ARIMA(2,1,2) worked very well for this time series data.\n",
        "\n",
        "We will stop here. In the next class, we will deploy ARIMA model on a real world seasonal dataset and implement seasonal ARIMA."
      ],
      "metadata": {
        "id": "fLt9s3EBO9B9"
      }
    },
    {
      "cell_type": "markdown",
      "source": [
        "---"
      ],
      "metadata": {
        "id": "hs3qLmcj8BFx"
      }
    },
    {
      "cell_type": "markdown",
      "source": [
        "### **Project**\n",
        "\n",
        "You can now attempt the **Applied Tech Project 130** on your own.\n",
        "\n",
        "**Applied Tech Project 130** : https://colab.research.google.com/drive/1aHUptC1HSuhXlXEB8RREVFk1wBCDwjnq\n",
        "\n",
        "<br>\n",
        "\n",
        "---"
      ],
      "metadata": {
        "id": "uTK4f-DNBFGA"
      }
    }
  ]
}