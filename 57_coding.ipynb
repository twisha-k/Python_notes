{
  "nbformat": 4,
  "nbformat_minor": 0,
  "metadata": {
    "colab": {
      "provenance": [],
      "include_colab_link": true
    },
    "kernelspec": {
      "name": "python3",
      "display_name": "Python 3"
    }
  },
  "cells": [
    {
      "cell_type": "markdown",
      "metadata": {
        "id": "view-in-github",
        "colab_type": "text"
      },
      "source": [
        "<a href=\"https://colab.research.google.com/github/twisha-k/Python_notes/blob/main/57_coding.ipynb\" target=\"_parent\"><img src=\"https://colab.research.google.com/assets/colab-badge.svg\" alt=\"Open In Colab\"/></a>"
      ]
    },
    {
      "cell_type": "markdown",
      "metadata": {
        "id": "wXOH90ddtwL2"
      },
      "source": [
        "# Lesson 57: OOP - Polymorphism II & Static Method\n"
      ]
    },
    {
      "cell_type": "markdown",
      "metadata": {
        "id": "GbhgAn5kfd-K"
      },
      "source": [
        "### Teacher-Student Activities\n",
        "\n",
        "In this class, we will learn another type of polymorphism called **method overriding** and also static methods which is another concept of OOP.\n"
      ]
    },
    {
      "cell_type": "markdown",
      "metadata": {
        "id": "DP-8XrZ_i2yZ"
      },
      "source": [
        "---"
      ]
    },
    {
      "cell_type": "markdown",
      "metadata": {
        "id": "QrMWlyrK4VTs"
      },
      "source": [
        "#### Activity 1: Method Overriding^\n",
        "\n",
        "Method overriding is quite similar to **method overloading** but different in\n",
        "execution. In both these types of polymorphism, the name of functions is the same.\n",
        "\n",
        "Let's understand this concept with the help of an example. Let's create a class called `ThreeDimObject`. It should have the following attributes and methods:\n",
        "\n",
        "1. A constructor to initialise the following variables:\n",
        "\n",
        "   - `side1`: represents the length of one side of a three-dimensional object\n",
        "\n",
        "   - `side2`: represents the length of the second side of the three-dimensional object\n",
        "\n",
        "2. The `ThreeDimObject` object should have the following functions:\n",
        "\n",
        "   - `area()`: An empty function to calculate the area of the base of a specific type of three-dimensional object.\n",
        "\n",
        "   - `volume()`: A function to calculate the volume of a specific type of three-dimensional object using the formula:\n",
        "$$\\text{volume}  = \\text{area of base} \\times \\text{height}$$\n",
        "\n",
        "\n"
      ]
    },
    {
      "cell_type": "code",
      "metadata": {
        "id": "0OhaJH3Fakcc"
      },
      "source": [
        "# S1.1 Create the 'ThreeDimObject' class having the required attributes, constructor and functions.\n",
        "class ThreeDimObject:\n",
        "  def __init__(self,side1,side2):\n",
        "    self.side1=side1\n",
        "    self.side2=side2\n",
        "  def area(self):\n",
        "    pass\n",
        "  def volume(self,height):\n",
        "    return self.area()*height"
      ],
      "execution_count": null,
      "outputs": []
    },
    {
      "cell_type": "markdown",
      "metadata": {
        "id": "1Z1XmANdaoCG"
      },
      "source": [
        "\n",
        "Now let's create a class called `Cube` which inherits the `ThreeDimObject` class attributes and methods. The constructor should call the parent class constructor and initialise the `side` variable which represents the length of a side of a cube.\n",
        "\n",
        "The `Cube` class should also include the `area()` function that returns the area of the base of a cube using the formula:\n",
        "$$\\text{area of base} = \\text{side}^2$$\n",
        "\n",
        "Since the `Cube` class inherits the `ThreeDimObject` class, the `area()` function for the `Cube` class overrides itself for the `ThreeDimObject` class.\n"
      ]
    },
    {
      "cell_type": "code",
      "metadata": {
        "id": "NIG_lecrXqNJ"
      },
      "source": [
        "# S1.2 Create the 'Cube' class which inherits the 'ThreeDimObject' class.\n",
        "class ThreeDimObject:\n",
        "  def __init__(self,side1,side2):\n",
        "    self.side1=side1\n",
        "    self.side2=side2\n",
        "  def area(self):\n",
        "    pass\n",
        "  def volume(self,height):\n",
        "    return self.area()*height\n",
        "class Cube (ThreeDimObject):\n",
        "  def __init__(self,side1,side2=None):\n",
        "    super().__init__(side1,side2)\n",
        "    self.side1=side1\n",
        "  def area(self):\n",
        "    return self.side**2"
      ],
      "execution_count": null,
      "outputs": []
    },
    {
      "cell_type": "markdown",
      "metadata": {
        "id": "nNQFM-74XlP8"
      },
      "source": [
        "Now let's create a class called `Cuboid` that also inherits the `ThreeDimObject` class attributes and methods. The constructor should call the parent class constructor to initialise the `side1` and `side2` variables that represent the length and width respectively of the base of a cuboid.\n",
        "\n",
        "The `Cuboid` class should also include the `area()` function that returns the area of the base of a cuboid using the formula:\n",
        "$$\\text{area of base} = \\text{side1} \\times \\text{side2}$$\n",
        "\n",
        "Since the `Cuboid` class inherits the `ThreeDimObject` class, the `area()` function for the `Cuboid` class overrides itself for the `ThreeDimObject` class.\n"
      ]
    },
    {
      "cell_type": "code",
      "metadata": {
        "id": "ea9NVPmwa2px"
      },
      "source": [
        "class ThreeDimObject:\n",
        "  def __init__(self,side1,side2):\n",
        "    self.side1=side1\n",
        "    self.side2=side2\n",
        "  def area(self):\n",
        "    pass\n",
        "  def volume(self,height):\n",
        "    return self.area()*height\n",
        "class Cube (ThreeDimObject):\n",
        "  def __init__(self,side1,side2=None):\n",
        "    super().__init__(side1,side2)\n",
        "    self.side1=side1\n",
        "  def area(self):\n",
        "    return self.side**2\n",
        "class Cuboid (ThreeDimObject):\n",
        "  def __init__(self,side1,side2):\n",
        "    super().__init__(side1,side2)\n",
        "    def area(self):\n",
        "      return self.side1*side2"
      ],
      "execution_count": null,
      "outputs": []
    },
    {
      "cell_type": "markdown",
      "metadata": {
        "id": "WvjIYLU2au-C"
      },
      "source": [
        "Now let's create the `Pyramid` class that inherits the `Cuboid` class. The constructor should call the parent class constructor to initialise the variable.\n",
        "\n",
        "The `Pyramid` class should also include the `area()` function that returns the area of the base of a pyramid using the formula:\n",
        "$$\\text{area of base} = \\frac{1}{2} \\times \\text{side1} \\times \\text{side2}$$\n",
        "\n",
        "**Note:** Here we are considering a pyramid having a triangular base."
      ]
    },
    {
      "cell_type": "code",
      "metadata": {
        "id": "wQt31IzQ4QZR"
      },
      "source": [
        "# S1.4 Create the 'Pyramid' class which inherits the 'Cuboid' class.\n",
        "class ThreeDimObject:\n",
        "  def __init__(self,side1,side2):\n",
        "    self.side1=side1\n",
        "    self.side2=side2\n",
        "  def area(self):\n",
        "    pass\n",
        "\n",
        "  def volume(self, height):\n",
        "    return self.area() * height\n",
        "class Cube (ThreeDimObject):\n",
        "  def __init__(self,side1,side2=None):\n",
        "    super().__init__(side1,side2)\n",
        "    self.side=side1\n",
        "  def area(self):\n",
        "    return self.side**2\n",
        "class Cuboid (ThreeDimObject):\n",
        "  def __init__(self,side1,side2):\n",
        "    super().__init__(side1,side2)\n",
        "  def area(self):\n",
        "    return self.side1*self.side2\n",
        "class Pyramid (Cuboid):\n",
        "  def __init__(self,side1,side2):\n",
        "    super().__init__(side1,side2)\n",
        "  def area(self):\n",
        "    return (1/2)*self.side1*self.side2"
      ],
      "execution_count": null,
      "outputs": []
    },
    {
      "cell_type": "markdown",
      "metadata": {
        "id": "2Qh_aklNSFmi"
      },
      "source": [
        "After creating the classes, let's create the objects of the classes defined and call the `area()` function for different objects and observe the behaviour"
      ]
    },
    {
      "cell_type": "code",
      "metadata": {
        "id": "Uvd83TOd4eO6",
        "colab": {
          "base_uri": "https://localhost:8080/"
        },
        "outputId": "53772320-a43b-447e-8034-d83a6d22f5d4"
      },
      "source": [
        "# S1.5 Create the objects 'Cube', 'Cuboid', 'Pyramid' class. Call the 'area()' & 'volume()' methods for each of these objects and print the results.\n",
        "# Create an object of the 'Cube' class.\n",
        "\n",
        "cube = Cube(3)\n",
        "print(cube.area())\n",
        "print(cube.volume(23))\n",
        "\n",
        "\n",
        "# Create an object of the 'Cuboid' class.\n",
        "cuboid=Cuboid(3,4)\n",
        "cuboid_area = cuboid.area()\n",
        "cuboid_volume=cuboid.volume(6)\n",
        "print(cuboid_area,cuboid_volume)\n",
        "\n",
        "print(\"\\nCuboid Base Area:\", cuboid_area)\n",
        "print(\"Cuboid Volume:\", cuboid_volume)\n",
        "# Create an object of the 'Pyramid' class.\n",
        "pyramid=Pyramid(2,3)\n",
        "print(pyramid.area())\n",
        "print(pyramid.volume(4))"
      ],
      "execution_count": null,
      "outputs": [
        {
          "output_type": "stream",
          "name": "stdout",
          "text": [
            "9\n",
            "207\n",
            "12 72\n",
            "\n",
            "Cuboid Base Area: 12\n",
            "Cuboid Volume: 72\n",
            "3.0\n",
            "12.0\n"
          ]
        }
      ]
    },
    {
      "cell_type": "markdown",
      "metadata": {
        "id": "GQMIcgbxUSU6"
      },
      "source": [
        "As we can observe, the `area()` function works differently for all the objects even with the same name because the `area()` function for the child class overrides itself for the parent class. This is an example of method overriding.\n",
        "\n"
      ]
    },
    {
      "cell_type": "markdown",
      "metadata": {
        "id": "f4kZXEHo54i6"
      },
      "source": [
        "---"
      ]
    },
    {
      "cell_type": "markdown",
      "metadata": {
        "id": "XTS1mEi2Mhe3"
      },
      "source": [
        "#### Activity 2: Static Methods^^\n",
        "\n",
        "A static method in a class works exactly like a regular user-defined function. It neither modifies the class variable nor instance variable. However, the static function created in a class can only be called on the instance (or object) of that class or by directly referencing the class name.\n",
        "\n",
        "Let's understand this concept with the help of an example.\n",
        "\n",
        "Let's create a class called `FitnessMarker` having the following attributes and methods:\n",
        "\n",
        "1. *Instance variables:* weight, height, age and gender of a person.\n",
        "\n",
        "2. *Instance method:* A `get_bmi()` function to calculate the body mass index of a person.\n",
        "\n",
        "3. *Class variable:* A variable to store the number of calories burnt by a person.\n",
        "\n",
        "4. *Class method:* A class method to calculate the number of calories burnt by a person.\n",
        "\n",
        "5. **Static method:** A static method to calculate the $\\text{VO}_2$ max value of a person.\n",
        "\n",
        "**About BMI**:\n",
        "\n",
        "BMI stands for body mass index. It is calculated as the ratio of weight to the height squared where weight is in kilogram and height is in the metre.\n",
        "\n",
        "**About $\\text{VO}_2$ Max**:\n",
        "\n",
        "$\\text{VO}_2$ stands for the volume of oxygen that the body utilises each minute. *$\\text{VO}_2$ max (or maximal oxygen uptake or peak oxygen uptake or maximal aerobic capacity) is the maximum rate of oxygen consumption measured during the exercise of increasing intensity.*\n",
        "\n",
        "$\\text{VO}_2$ max is expressed either as an absolute rate in litres of oxygen per minute (L/min) or as a relative rate in millilitres of oxygen per kilogram of body mass per minute (mL/(kg/min).\n",
        "\n",
        "Elite athletes have $\\text{VO}_2$ max values of around 90 mL/kg/min. Lower fitness levels are associated with a high risk of cardiovascular disease, all-cause mortality, and mortality rates stemming from various types of cancers.\n",
        "\n",
        "There are many formulae to calculate $\\text{VO}_2$ but the simplest one is the following:\n",
        "\n",
        "$$\\text{VO}_2 = 15.3 \\times \\frac{\\text{Maximum Heart Rate (MHR)}}{\\text{Rest Heart Rate (RHR)}}$$\n",
        "\n",
        "**Note:** A static method never takes keywords like `self` and `cls` as one of its mandatory inputs (or arguments)."
      ]
    },
    {
      "cell_type": "code",
      "metadata": {
        "id": "dNE8fld9UYSm"
      },
      "source": [
        "# S2.1: Create the 'FitnessMarker' class having the attributes and methods specified above.\n",
        "class FitnessMarker:\n",
        "  cals_burnt = 0#class variable\n",
        "  def __init__(self,weight,height,age,gender):\n",
        "    #instance variables which need to be initialized\n",
        "    self.weight=weight\n",
        "    self.height=height\n",
        "    self.age=age\n",
        "    self.gender=gender\n",
        "\n",
        "    #instance method\n",
        "  def get_bmi(self):#this is an instance method which will have self parameter as default\n",
        "    return self.weight/self.height**2\n",
        "\n",
        "  @classmethod\n",
        "  ##this is an class method which will have cls parameter as default\n",
        "  def calories_burnt(cls, met, weight, activity_duration): # Weight in kg and activity duration in minutes.\n",
        "    FitnessMarker.cals_burnt = 0.0175 * met * weight * activity_duration\n",
        "    return FitnessMarker.cals_burnt\n",
        "\n",
        "  @staticmethod\n",
        "  #static method\n",
        "  def vo2_max(max_heart_rate, rest_heart_rate):\n",
        "    vo2_max = 15.3 * (max_heart_rate / rest_heart_rate)\n",
        "    return vo2_max"
      ],
      "execution_count": null,
      "outputs": []
    },
    {
      "cell_type": "markdown",
      "metadata": {
        "id": "KvTcbDoAJkXa"
      },
      "source": [
        "**Note:** Even if you don't add the `staticmethod` decorator, then also the static method will work.\n",
        "\n",
        "Here's a list of a few physical activities and their corresponding MET levels.\n",
        "\n",
        "<center><img src = 'https://drsaskia.files.wordpress.com/2018/01/met-chart.jpeg?w=736' width = 600>\n",
        "\n",
        "**Image credits:** *https://integratedmedicine.co/de/about/blog/the-incredible-power-of-exercising-part-2*\n"
      ]
    },
    {
      "cell_type": "markdown",
      "metadata": {
        "id": "TrUD7GDo9ENo"
      },
      "source": [
        "Now let's create an object of the `FitnessMarker` class and test all the three methods."
      ]
    },
    {
      "cell_type": "code",
      "metadata": {
        "id": "b79cB_TeDHCq",
        "colab": {
          "base_uri": "https://localhost:8080/"
        },
        "outputId": "076845cb-66f9-4120-e056-123b782bc783"
      },
      "source": [
        "# S2.2: Create an object of the 'FitnessMarker' class, initialise its attributes and call all the instance, class and static methods.\n",
        "fm = FitnessMarker(70, 1.70, 28, 'male') # weight in kg, height in metre\n",
        "print(fm.get_bmi())\n",
        "print(fm.calories_burnt(16, fm.weight, 60)) # time in minutes\n",
        "print(fm.calories_burnt(16, 70, 60)) # time in minutes\n",
        "print(fm.vo2_max(180, 75))"
      ],
      "execution_count": null,
      "outputs": [
        {
          "output_type": "stream",
          "name": "stdout",
          "text": [
            "24.221453287197235\n",
            "1176.0\n",
            "1176.0\n",
            "36.72\n"
          ]
        }
      ]
    },
    {
      "cell_type": "markdown",
      "metadata": {
        "id": "NtZBh9_Hs81_"
      },
      "source": [
        "As you can see, the `vo2_max()` method (a static method) behaves exactly like a regular user-defined function.\n",
        "\n",
        "\n",
        "Let's try to call the static method directly without referencing its class.\n",
        "\n",
        "**Note:** The code below will throw the `NameError`."
      ]
    },
    {
      "cell_type": "code",
      "metadata": {
        "id": "Nit-CF5kHOYF",
        "colab": {
          "base_uri": "https://localhost:8080/",
          "height": 184
        },
        "outputId": "de97d530-9e9a-40b3-f7dd-d1752bcb2d1a"
      },
      "source": [
        "# S2.3: Call the static method outside the 'FitnessMarker' class\n",
        "vo2_max(180, 60)"
      ],
      "execution_count": null,
      "outputs": [
        {
          "output_type": "error",
          "ename": "NameError",
          "evalue": "ignored",
          "traceback": [
            "\u001b[0;31m---------------------------------------------------------------------------\u001b[0m",
            "\u001b[0;31mNameError\u001b[0m                                 Traceback (most recent call last)",
            "\u001b[0;32m<ipython-input-16-0dfcba8aac7d>\u001b[0m in \u001b[0;36m<module>\u001b[0;34m()\u001b[0m\n\u001b[1;32m      1\u001b[0m \u001b[0;31m# S2.3: Call the static method outside the 'FitnessMarker' class\u001b[0m\u001b[0;34m\u001b[0m\u001b[0;34m\u001b[0m\u001b[0;34m\u001b[0m\u001b[0m\n\u001b[0;32m----> 2\u001b[0;31m \u001b[0mvo2_max\u001b[0m\u001b[0;34m(\u001b[0m\u001b[0;36m180\u001b[0m\u001b[0;34m,\u001b[0m \u001b[0;36m60\u001b[0m\u001b[0;34m)\u001b[0m\u001b[0;34m\u001b[0m\u001b[0;34m\u001b[0m\u001b[0m\n\u001b[0m",
            "\u001b[0;31mNameError\u001b[0m: name 'vo2_max' is not defined"
          ]
        }
      ]
    },
    {
      "cell_type": "markdown",
      "metadata": {
        "id": "xMUvjwMpHTef"
      },
      "source": [
        "As you can see, even though the `vo2_max()` behaves like a regular user-defined function, it cannot be called outside the class. You will have to call it referencing its class.\n",
        "\n",
        "So we have learnt the most important concepts of object-oriented programming which are used most commonly. The fourth concept of OOP that is **abstraction** is more relevant and useful in low-level programming languages such as C++, Java etc. Hence, we will skip it for Python."
      ]
    },
    {
      "cell_type": "markdown",
      "metadata": {
        "id": "j0lgC7avMgZo"
      },
      "source": [
        "----"
      ]
    },
    {
      "cell_type": "markdown",
      "metadata": {
        "id": "bJHrNokhii9J"
      },
      "source": [
        "### **Project**\n",
        "You can now attempt the **Capstone Project - 14 Payroll Calculation using OOP** on your own.\n",
        "\n",
        "**Capstone Project - 14 Payroll Calculation using OOP**: https://colab.research.google.com/drive/1IXToJjmrnNGguk8bV1frz5-UyMkaw87k"
      ]
    },
    {
      "cell_type": "markdown",
      "metadata": {
        "id": "h8r2XBzsi7BN"
      },
      "source": [
        "---"
      ]
    }
  ]
}