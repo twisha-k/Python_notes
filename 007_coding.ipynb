{
  "nbformat": 4,
  "nbformat_minor": 0,
  "metadata": {
    "colab": {
      "provenance": [],
      "include_colab_link": true
    },
    "kernelspec": {
      "name": "python3",
      "display_name": "Python 3"
    }
  },
  "cells": [
    {
      "cell_type": "markdown",
      "metadata": {
        "id": "view-in-github",
        "colab_type": "text"
      },
      "source": [
        "<a href=\"https://colab.research.google.com/github/twisha-k/Python_notes/blob/main/7_coding.ipynb\" target=\"_parent\"><img src=\"https://colab.research.google.com/assets/colab-badge.svg\" alt=\"Open In Colab\"/></a>"
      ]
    },
    {
      "cell_type": "markdown",
      "metadata": {
        "id": "7LlG_PPFjJUz"
      },
      "source": [
        "# Lesson 7: Nested Python Lists\n"
      ]
    },
    {
      "cell_type": "markdown",
      "metadata": {
        "id": "qjixVTncxTQh"
      },
      "source": [
        "### Teacher-Student Activities\n",
        "\n",
        "In the previous lesson, we learnt how to apply several operations on a Python list.\n",
        "\n",
        "In this lesson, we are going to learn about nested Python lists."
      ]
    },
    {
      "cell_type": "markdown",
      "metadata": {
        "id": "IFaexN7T8zWE"
      },
      "source": [
        "---"
      ]
    },
    {
      "cell_type": "code",
      "metadata": {
        "colab": {
          "base_uri": "https://localhost:8080/",
          "height": 34
        },
        "id": "ivn0GnLS7-Dy",
        "outputId": "edd70075-3fc4-408f-9232-ffa56d71c7b1"
      },
      "source": [
        "list1=[[\"Mercury\",4879],[\"Venus\",5674],[\"Earth\",4563],[\"Mars\",2341],[\"Jupiter\",5643],[\"Saturn\",3425]]\n",
        "list1[0][0]"
      ],
      "execution_count": null,
      "outputs": [
        {
          "output_type": "execute_result",
          "data": {
            "application/vnd.google.colaboratory.intrinsic+json": {
              "type": "string"
            },
            "text/plain": [
              "'Mercury'"
            ]
          },
          "metadata": {
            "tags": []
          },
          "execution_count": 1
        }
      ]
    },
    {
      "cell_type": "markdown",
      "metadata": {
        "id": "PUgYXGbR-0Uh"
      },
      "source": [
        "#### Activity 1: Data Representation In Two-Dimensions Using Python Lists^^\n",
        "\n",
        "A two-dimensional (or a tabular) data can be represented using a Python list.\n",
        "\n",
        "Consider the example shown below. Here we have a two-dimensional (or a tabular) data of 9 planets and their corresponding diameters (in km).\n",
        "\n",
        "|# |Planet   |Diameter (km)|\n",
        "|--|---------|---------|\n",
        "|1 |Mercury  |4879     |\n",
        "|2 |Venus    |12104    |\n",
        "|3 |Earth    |12756    |\n",
        "|4 |Mars     |6972     |\n",
        "|5 |Jupiter  |142984   |\n",
        "|6 |Saturn   |120536   |\n",
        "|7 |Uranus   |51118    |\n",
        "|8 |Neptune  |49528    |\n",
        "|9 |Pluto    |2370     |\n",
        "\n",
        "Suppose you want to create a list of planets and their corresponding diameters, then you can create a nested list.\n",
        "\n",
        "*A nested list is essentially a collection of lists inside a list, just like a gift box inside another gift box*.\n",
        "\n",
        "Refer to the image shown below.\n",
        "\n",
        "<img src='https://student-datasets-bucket.s3.ap-south-1.amazonaws.com/images/nested-boxes.jpg' width=400>\n",
        "\n",
        "Let's create a nested list to store the planets and their corresponding diameters in it. Since there are 9 planets, so we will create 9 different lists and store the details of 9 planets in those 9 lists.\n",
        "\n",
        "Sometimes, an inner list is referred to as a **sublist**.\n",
        "\n",
        "**Note:** The indentation for a nested list is not necessary. We indent a nested list to make it more readable.\n"
      ]
    },
    {
      "cell_type": "code",
      "metadata": {
        "id": "LgxEFIOD-26f"
      },
      "source": [
        "# Teacher Action: Represent a two-dimensional data in a nested list.\n"
      ],
      "execution_count": null,
      "outputs": []
    },
    {
      "cell_type": "markdown",
      "metadata": {
        "id": "UXwVQ2QZ-3o0"
      },
      "source": [
        "Here, we have a list which contains 9 sublists containing the names of planets and their diameters. Essentially, this Python list is a table which contains 9 rows and 2 columns.\n",
        "\n",
        "|      |Column 0 |Column 1 |\n",
        "|------|---------|---------|\n",
        "|row 0 |Mercury  |4879     |\n",
        "|row 1 |Venus    |12104    |\n",
        "|row 2 |Earth    |12756    |\n",
        "|row 3 |Mars     |6972     |\n",
        "|row 4 |Jupiter  |142984   |\n",
        "|row 5 |Saturn   |120536   |\n",
        "|row 6 |Uranus   |51118    |\n",
        "|row 7 |Neptune  |49528    |\n",
        "|row 8 |Pluto    |2370     |\n",
        "\n",
        "The row and column indices begin with `0`. Now, refer to the table below.\n",
        "\n",
        "|#|Planet|Diameter $(km)$|Density $\\left(\\frac{kg}{m^{3}}\\right)$|Gravity $\\left(\\frac{m}{s^2}\\right)$|\n",
        "|--|-------|------|----|-|\n",
        "|1 |Mercury|4879  |5427|3.7|\n",
        "|2 |Venus  |12104 |5243|8.9|\n",
        "|3 |Earth  |12756 |5514|9.8|\n",
        "|4 |Mars   |6972  |3933|3.7|\n",
        "|5 |Jupiter|142984|1326|23.1|\n",
        "|6 |Saturn |120536|687 |9.0|\n",
        "|7 |Uranus |51118 |1271|8.7|\n",
        "|8 |Neptune|49528 |1638|11.0|\n",
        "|9 |Pluto  |2370  |2095|0.7|\n",
        "\n",
        "Create a nested list containing 9 sublists where each sublist contains the planet details for each planet. The sublists must be separated by a comma."
      ]
    },
    {
      "cell_type": "code",
      "metadata": {
        "id": "G8ehLQ5N-6CM"
      },
      "source": [
        "# Student Action: Create a nested list to represent the two-dimensional data shown in the table above.\n"
      ],
      "execution_count": null,
      "outputs": []
    },
    {
      "cell_type": "markdown",
      "metadata": {
        "id": "YpLNlN4xxBfK"
      },
      "source": [
        "For all practical purposes, we can call the `planet_data` list a **two-dimensional** list because it stores a tabular format having some rows and columns."
      ]
    },
    {
      "cell_type": "markdown",
      "metadata": {
        "id": "-Q6JpUh9_uNh"
      },
      "source": [
        "---"
      ]
    },
    {
      "cell_type": "markdown",
      "metadata": {
        "id": "rt6SyGw5-80p"
      },
      "source": [
        "#### Activity 2: Indexing A Nested List^\n",
        "\n",
        "Let's say you want to see only the diameter of `'Jupiter'` from the `planet_data` list, then you can use the list indexing method which you learnt in the previous class.\n",
        "\n",
        "\n",
        "**Q. How to do get a specific item using the list indexing method? Provide its syntax.**\n",
        "\n",
        "Ans. First, write the name of the list, followed by the square brackets. Inside the square brackets, enter the index of the item which we want to retrieve from a list. The indices of the items stored in a Python list begins from `0`. The syntax for list indexing is `list_name[index_of_item]`\n",
        "\n",
        "To retrieve an item from a nested list, write the list name followed by two consecutive square brackets `[][]`.\n",
        "\n",
        "- In the first square bracket, enter the row index.\n",
        "\n",
        "- In the second square bracket, enter the column index.\n",
        "\n",
        "In this list, there are 9 rows and 4 columns, so the row indices go from `0` to `8` and the column indices go from `0` to `3`.\n",
        "\n",
        "**Syntax:** `list_name[row_index][col_index]`"
      ]
    },
    {
      "cell_type": "code",
      "metadata": {
        "id": "eG3W2xq0_AlX",
        "colab": {
          "base_uri": "https://localhost:8080/",
          "height": 35
        },
        "outputId": "ce52dc7e-e9c9-443d-ff12-13070d08513c"
      },
      "source": [
        "# Student Action: Retrieve the diameter of 'Jupiter' from the 'planet_data' list.\n",
        "list1[4][0]"
      ],
      "execution_count": null,
      "outputs": [
        {
          "output_type": "execute_result",
          "data": {
            "application/vnd.google.colaboratory.intrinsic+json": {
              "type": "string"
            },
            "text/plain": [
              "'Jupiter'"
            ]
          },
          "metadata": {
            "tags": []
          },
          "execution_count": 7
        }
      ]
    },
    {
      "cell_type": "code",
      "metadata": {
        "id": "TJTqwWs3_FLX"
      },
      "source": [
        "# Student Action: Retrieve the density of 'Saturn' from the 'planet_data' list.\n"
      ],
      "execution_count": null,
      "outputs": []
    },
    {
      "cell_type": "markdown",
      "metadata": {
        "id": "Lt2KVjuv4y8_"
      },
      "source": [
        "If you want to get all the items of a row from a `two_dimensional` list, then you just have to enter the row index of that row in the first square bracket after writing the name of the list.\n",
        "\n",
        "Let's get all the details of `'Mars'` from the `planet_data` list."
      ]
    },
    {
      "cell_type": "code",
      "metadata": {
        "id": "Bv0dXmVU4mI1"
      },
      "source": [
        "# Student Action: Retrieve all the details of 'Mars' using the list indexing method.\n"
      ],
      "execution_count": null,
      "outputs": []
    },
    {
      "cell_type": "markdown",
      "metadata": {
        "id": "Z41PMkO6twJY"
      },
      "source": [
        "---"
      ]
    },
    {
      "cell_type": "markdown",
      "metadata": {
        "id": "pvs9woietw-g"
      },
      "source": [
        "#### Activity 3: Length Of Nested Python Lists\n",
        "\n",
        "The length of a nested list is the number of sublists it contains. In the `planet_data` list, there are 9 sublists. Hence, it's length is 9. You can use the `len()` function to compute the length of a nested list."
      ]
    },
    {
      "cell_type": "code",
      "metadata": {
        "id": "VxS958TmuKM7",
        "colab": {
          "base_uri": "https://localhost:8080/"
        },
        "outputId": "dcc8e58f-1758-419e-9670-e77b282a33d8"
      },
      "source": [
        "# Student Action: Find the number of sublists in the 'planet_data' list using the 'len()' function.\n",
        "len(list1)"
      ],
      "execution_count": null,
      "outputs": [
        {
          "output_type": "execute_result",
          "data": {
            "text/plain": [
              "6"
            ]
          },
          "metadata": {
            "tags": []
          },
          "execution_count": 8
        }
      ]
    },
    {
      "cell_type": "markdown",
      "metadata": {
        "id": "lRBY_h1YuYEm"
      },
      "source": [
        "To find the number of total items in a nested list, you can use the `for` loop.\n",
        "\n",
        "Let's create `num_items` variable with an initial value equal to `0`. Then using the `for` loop and the `len()` function, we will find the total number of items contained in each sublist in the `planet_data` list. Then we will add the length of each list to the `num_items` variable."
      ]
    },
    {
      "cell_type": "code",
      "metadata": {
        "id": "3uG5bpc6ugJG",
        "colab": {
          "base_uri": "https://localhost:8080/"
        },
        "outputId": "b752bb4d-fc2e-4738-d7ad-ee6f0a29fa00"
      },
      "source": [
        "# Teacher Action: Find the total number of items in a nested list.\n",
        "n=len(list1)\n",
        "for sub_list in list1:\n",
        "#  print(sub_list)\n",
        "  for coloume in sub_list:\n",
        "    print(coloume)"
      ],
      "execution_count": null,
      "outputs": [
        {
          "output_type": "stream",
          "text": [
            "Mercury\n",
            "4879\n",
            "Venus\n",
            "5674\n",
            "Earth\n",
            "4563\n",
            "Mars\n",
            "2341\n",
            "Jupiter\n",
            "5643\n",
            "Saturn\n",
            "3425\n"
          ],
          "name": "stdout"
        }
      ]
    },
    {
      "cell_type": "code",
      "metadata": {
        "colab": {
          "base_uri": "https://localhost:8080/"
        },
        "id": "H8grf1Ca_2Ra",
        "outputId": "2a95dcba-2ad2-4d3c-a33c-ba0fbad717e5"
      },
      "source": [
        "n=len(list1)\n",
        "total=0\n",
        "for i in range (n):\n",
        "  print(list1[i])\n",
        "  print(len(list1[i]))\n",
        "  total+=len(list1[i])\n",
        "print(total)"
      ],
      "execution_count": null,
      "outputs": [
        {
          "output_type": "stream",
          "text": [
            "['Mercury', 4879]\n",
            "2\n",
            "['Venus', 5674]\n",
            "2\n",
            "['Earth', 4563]\n",
            "2\n",
            "['Mars', 2341]\n",
            "2\n",
            "['Jupiter', 5643]\n",
            "2\n",
            "['Saturn', 3425]\n",
            "2\n",
            "12\n"
          ],
          "name": "stdout"
        }
      ]
    },
    {
      "cell_type": "markdown",
      "metadata": {
        "id": "5d9rQsdmvj3b"
      },
      "source": [
        "In the above code:\n",
        "\n",
        "- We iterate through each sublist in the `planet_data` list.\n",
        "\n",
        "- We compute the length of each sublist using the `len()` function. We store this value in a `length_of_sublist` variable which we have created inside the `for` loop.\n",
        "\n",
        "- We add the length of each sublist to the `num_items` variable using the `+` operator. Recall that this is a **right-to-left** operation in which we first update the value stored in a variable and then assign the updated value to the same variable.\n",
        "\n",
        "- Finally, we print the value stored in the `num_items` variable to get the total number of items contained in the `planet_data` list.\n",
        "\n",
        "*In general, if a two-dimensional list has $q$ rows and $r$ columns, then it will have $q \\times r$ items.*\n"
      ]
    },
    {
      "cell_type": "markdown",
      "metadata": {
        "id": "DnlxSGHc-zCk"
      },
      "source": [
        "---"
      ]
    },
    {
      "cell_type": "markdown",
      "metadata": {
        "id": "7_j0m3MB0GfD"
      },
      "source": [
        "#### Activity 4: Data Representation In Three-Dimensions Using Python Lists^^^\n",
        "\n",
        "Let's learn about three-dimensional lists in Python.\n",
        "\n",
        "*For all practical purposes, a three-dimensional list is a collection of equal-sized two-dimensional lists* where the **size** of a two-dimensional list is the number of rows and columns contained in a two-dimensional list. For e.g., if there are 2 two-dimensional lists having 3 rows and 2 columns, then you can create a three-dimensional list using them.\n",
        "\n",
        "Hence, the equal-sized two-dimensional lists will always have the same number of rows and columns.\n",
        "\n",
        "**Note:** In a three-dimensional list, we can refer a two-dimensional list as a **block** for the ease of understanding.\n",
        "\n",
        "Now, let's create a three-dimensional list which contains three equal-sized two-dimensional lists. Let the size of each two-dimensional list be 3 rows and 3 columns. Let each item in the three-dimensional list indicate the position it acquires in the list.\n",
        "\n",
        "<img src='https://student-datasets-bucket.s3.ap-south-1.amazonaws.com/images/3D_array.jpg'>\n",
        "\n",
        "\n",
        "So each item will be of the form $ijk$, where $ijk$ indicates that the item is present in the $i^{th}$ block, $j^{th}$ row and $k^{th}$ column.\n",
        "\n",
        "\n",
        "Hence,\n",
        "\n",
        "- if $i = 1, j = 1, k = 1$, then it means the item exists in the first block, first row and first column.\n",
        "\n",
        "- if $i = 1, j = 1, k = 2$, then it means the item exists in the first block, first row and second column.\n",
        "\n",
        "- if $i = 1, j = 1, k = 3$, then it means the item exists in the first block, first row and third column.\n",
        "\n",
        "  -  \n",
        "\n",
        "  -  \n",
        "\n",
        "  -  \n",
        "\n",
        "- if $i = 3, j = 3, k = 1$, then it means the item exists in the third block, third row and first column.\n",
        "\n",
        "- if $i = 3, j = 3, k = 2$, then it means the item exists in the third block, third row and second column.\n",
        "\n",
        "- if $i = 3, j = 3, k = 3$, then it means the item exists in the third block, third row and third column."
      ]
    },
    {
      "cell_type": "code",
      "metadata": {
        "id": "sxzt8Po1VorE",
        "colab": {
          "base_uri": "https://localhost:8080/"
        },
        "outputId": "2bae7702-713f-4532-94db-840773f57359"
      },
      "source": [
        "# Teacher Action: Create a three-dimensional list in Python.\n",
        "three_dim_list =[[[111,112,113],[121,122,123],[131,132,133]],\n",
        "                 [[211,212,213],[221,222,223],[231,232,233]],\n",
        "                 [[311,312,313],[321,322,323],[331,332,333]]]\n",
        "three_dim_list\n",
        ""
      ],
      "execution_count": null,
      "outputs": [
        {
          "output_type": "execute_result",
          "data": {
            "text/plain": [
              "[[[111, 112, 113], [121, 122, 123], [131, 132, 133]],\n",
              " [[211, 212, 213], [221, 222, 223], [231, 232, 233]],\n",
              " [[311, 312, 313], [321, 322, 323], [331, 332, 333]]]"
            ]
          },
          "metadata": {
            "tags": []
          },
          "execution_count": 21
        }
      ]
    },
    {
      "cell_type": "markdown",
      "metadata": {
        "id": "KY3BNCvi0UTh"
      },
      "source": [
        "**Note:** The indentation for a nested list is not necessary. We indent a nested list to make it more readable.\n",
        "\n",
        "\n",
        "In the above example, the number `111` means the item exists in the first block, first row and first column. Similarly, `121` means the item exists in the first block, second row and first column and so on ...\n",
        "\n",
        "We have 3 blocks where each block is a two-dimensional list. So the blocks represent the third dimension. You can compute the number of blocks contained in a three-dimensional list using the `len()` function."
      ]
    },
    {
      "cell_type": "code",
      "metadata": {
        "id": "DVaVcWNZ3EYT",
        "colab": {
          "base_uri": "https://localhost:8080/"
        },
        "outputId": "35b25b5e-4646-4812-c990-cd78dd2ad19b"
      },
      "source": [
        "# Student Action: Using the 'len()' function, find the number of blocks contained in the 'three_dim_list'.\n",
        "len(three_dim_list)"
      ],
      "execution_count": null,
      "outputs": [
        {
          "output_type": "execute_result",
          "data": {
            "text/plain": [
              "3"
            ]
          },
          "metadata": {
            "tags": []
          },
          "execution_count": 22
        }
      ]
    },
    {
      "cell_type": "markdown",
      "metadata": {
        "id": "GdWe36Z-25f-"
      },
      "source": [
        "You can imagine these blocks as a stack of few books in which one book lies on top of another.\n",
        "\n",
        "<img src='https://student-datasets-bucket.s3.ap-south-1.amazonaws.com/images/stack-of-books.jpg' width=400>\n",
        "\n",
        "Surely, we can't actually draw three dimensions on a two-dimensional screen but using the example of a stack of books we can try to visualise them.\n",
        "\n",
        "We can retrieve the items from a three-dimensional list using the list indexing method.\n",
        "\n",
        "To retrieve an item from a three-dimensional list, you need to write the name of the list, followed by three square brackets. Inside the square brackets, you have to enter the block index, row index and column index in that order.\n",
        "\n",
        "**Syntax:** `list_name[block_index][row_index][col_index]`\n",
        "\n",
        "**Note:** The block, row and column indices begin from `0`.\n",
        "\n",
        "Let's try to retrieve the item `121` from `three_dim_list`."
      ]
    },
    {
      "cell_type": "code",
      "metadata": {
        "id": "e6FPCiBg7J3j",
        "colab": {
          "base_uri": "https://localhost:8080/"
        },
        "outputId": "8d9c35af-6775-425f-e4f4-c3c87ec3abeb"
      },
      "source": [
        "# Student Action: Retrieve 121 from 'three_dim_list' using the list indexing method.\n",
        "\n",
        "three_dim_list[0][1][0]"
      ],
      "execution_count": null,
      "outputs": [
        {
          "output_type": "execute_result",
          "data": {
            "text/plain": [
              "121"
            ]
          },
          "metadata": {
            "tags": []
          },
          "execution_count": 24
        }
      ]
    },
    {
      "cell_type": "code",
      "metadata": {
        "id": "fY5hYYk_53Ws"
      },
      "source": [
        "# Student Action: Retrieve 232 from 'three_dim_list' using the list indexing method.\n"
      ],
      "execution_count": null,
      "outputs": []
    },
    {
      "cell_type": "markdown",
      "metadata": {
        "id": "V-jwR0f6SK8V"
      },
      "source": [
        "We can retrieve all the items from a three-dimensional list using the nested `for` loop. The nested `for` loop means there are `for` loops inside a `for` loop.\n",
        "\n",
        "In this example, using the `for` loop,\n",
        "\n",
        "- first we will iterate through each block,\n",
        "\n",
        "- then within each block, we will iterate through each row,\n",
        "\n",
        "- then within each row, we will iterate through each column to get every single item from the nested list stored in the `three_dim_list` variable."
      ]
    },
    {
      "cell_type": "code",
      "metadata": {
        "id": "E_qUBN-uSks3"
      },
      "source": [
        "# Teacher Action: Retrieve items of a multi-dimensional list using nested 'for' loop.\n"
      ],
      "execution_count": null,
      "outputs": []
    },
    {
      "cell_type": "markdown",
      "metadata": {
        "id": "vVXF--C8XWfn"
      },
      "source": [
        "Here, `i` goes from `0` to `2`, `j` goes from `0` to `2` and `k` also goes from `0` to `2`.\n",
        "\n",
        "Hence,\n",
        "\n",
        "- first, for `i = 0` and `j = 0`, `k` will go from `0` to `2`.\n",
        "\n",
        "- then, for `i = 0` and `j = 1`, again `k` will go from `0` to `2`.\n",
        "\n",
        "- then, for `i = 0` and `j = 2`, again `k` will go from `0` to `2`.\n",
        "\n",
        "- then, for `i = 1` and `j = 0`, again `k` will go from `0` to `2`.\n",
        "\n",
        "- then, for `i = 1` and `j = 1`, again `k` will go from `0` to `2`.\n",
        "\n",
        "- then, for `i = 1` and `j = 2`, again `k` will go from `0` to `2`.\n",
        "\n",
        "- then, for `i = 2` and `j = 0`, again `k` will go from `0` to `2`.\n",
        "\n",
        "- then, for `i = 2` and `j = 1`, again `k` will go from `0` to `2`.\n",
        "\n",
        "- then, for `i = 2` and `j = 2`, again `k` will go from `0` to `2`.\n",
        "\n",
        "So, all-in-all, there will be 27 iterations. In the above code,\n",
        "\n",
        "- the `end=' '` parameter in the first `print()` function, provides a space between two consecutive items in a row.\n",
        "\n",
        "- the second `print()` function prints a new line after each row.\n",
        "\n",
        "- the third `print()` function prints an empty newline after each block.\n",
        "\n",
        "*In general, if a three-dimensional list has $p$ blocks, $q$ rows and $r$ columns, then it will have $p \\times q \\times r$ items.*\n",
        "\n",
        "Now, you try to iterate through each item in the `three_dim_list` using the `for` loop but without using the `range()` function."
      ]
    },
    {
      "cell_type": "code",
      "metadata": {
        "id": "qs-vfeIizdzv",
        "colab": {
          "base_uri": "https://localhost:8080/"
        },
        "outputId": "2a0b9d3a-1595-4342-f836-6401f8b9e613"
      },
      "source": [
        "# Student Action: Iterate through each item in the 'three_dim_list' using the 'for' loop without using the 'range()' function.\n",
        "for block in three_dim_list:\n",
        "  for row in block:\n",
        "    for coloume in row:\n",
        "      print(coloume)"
      ],
      "execution_count": null,
      "outputs": [
        {
          "output_type": "stream",
          "text": [
            "111\n",
            "112\n",
            "113\n",
            "121\n",
            "122\n",
            "123\n",
            "131\n",
            "132\n",
            "133\n",
            "211\n",
            "212\n",
            "213\n",
            "221\n",
            "222\n",
            "223\n",
            "231\n",
            "232\n",
            "233\n",
            "311\n",
            "312\n",
            "313\n",
            "321\n",
            "322\n",
            "323\n",
            "331\n",
            "332\n",
            "333\n"
          ],
          "name": "stdout"
        }
      ]
    },
    {
      "cell_type": "markdown",
      "metadata": {
        "id": "aQvSsgUwOnIK"
      },
      "source": [
        "In the above code,\n",
        "\n",
        "- the `block` variable goes through the first block\n",
        "\n",
        "    ```\n",
        "    111 112 113\n",
        "    121 122 123\n",
        "    131 132 133\n",
        "    ```\n",
        "\n",
        "  to the third block\n",
        "\n",
        "    ```\n",
        "    311 312 313\n",
        "    321 322 323\n",
        "    331 332 333\n",
        "    ```\n",
        "\n",
        "  in the `three_dim_list`.\n",
        "\n",
        "- the `row` variable goes through each row in each block.\n",
        "\n",
        "- the `item` variable goes through each item in each row in each block.\n",
        "\n",
        "- the `end=' '` parameter in the first `print()` function, provides a space between two consecutive items in a row.\n",
        "\n",
        "- the second `print()` function prints a new line after each row.\n",
        "\n",
        "- the third `print()` function prints an empty newline after each block.\n",
        "\n",
        "\n",
        "You can also use the `for` loop to find the number of items in a three-dimensional list as we did in case of the two-dimensional list. To find the number of items in the `three_dim_list`, using the `for` loop:\n",
        "\n",
        "- First, create a variable, say `num_items`, with an initial value equal to `0`.\n",
        "\n",
        "- Then iterate through each block.\n",
        "\n",
        "- Then within each block, iterate through each row.\n",
        "\n",
        "- Then find the number of items in each row using the `len()` function and add the result to the `num_items` variable.\n",
        "\n",
        "The output should be `27` because there are `27` items in the `three_dim_list`."
      ]
    },
    {
      "cell_type": "code",
      "metadata": {
        "id": "HteQVNqsoltL",
        "colab": {
          "base_uri": "https://localhost:8080/"
        },
        "outputId": "b307de33-d6c2-4ef5-ced4-4bcff6ed203c"
      },
      "source": [
        "# Student Action: Using the 'for', find the number of items in the 'three_dim_list'.\n",
        "num_items = 0\n",
        "\n",
        "for block in three_dim_list:\n",
        "  for row in block:\n",
        "    print(\"row elements\",row)\n",
        "    print(\"length of row in each iteration\",len(row))\n",
        "    num_items = num_items + len(row)\n",
        "\n",
        "num_items"
      ],
      "execution_count": null,
      "outputs": [
        {
          "output_type": "stream",
          "text": [
            "row elements [111, 112, 113]\n",
            "length of row in each iteration 3\n",
            "row elements [121, 122, 123]\n",
            "length of row in each iteration 3\n",
            "row elements [131, 132, 133]\n",
            "length of row in each iteration 3\n",
            "row elements [211, 212, 213]\n",
            "length of row in each iteration 3\n",
            "row elements [221, 222, 223]\n",
            "length of row in each iteration 3\n",
            "row elements [231, 232, 233]\n",
            "length of row in each iteration 3\n",
            "row elements [311, 312, 313]\n",
            "length of row in each iteration 3\n",
            "row elements [321, 322, 323]\n",
            "length of row in each iteration 3\n",
            "row elements [331, 332, 333]\n",
            "length of row in each iteration 3\n"
          ],
          "name": "stdout"
        },
        {
          "output_type": "execute_result",
          "data": {
            "text/plain": [
              "27"
            ]
          },
          "metadata": {
            "tags": []
          },
          "execution_count": 9
        }
      ]
    },
    {
      "cell_type": "markdown",
      "metadata": {
        "id": "_bJ_zgrWipaK"
      },
      "source": [
        "This is where we will stop today. We have covered some important topics related to lists in this class.\n",
        "\n",
        "In the next class, we will learn list comprehensions."
      ]
    },
    {
      "cell_type": "markdown",
      "metadata": {
        "id": "SwrzH2vNIabl"
      },
      "source": [
        "---"
      ]
    },
    {
      "cell_type": "code",
      "metadata": {
        "id": "djdF-LE-IG8f"
      },
      "source": [
        "display the series\n",
        "0=n1\n",
        "1=n2\n",
        "1=nth=n1+n2\n",
        "2=nth+n2\n",
        "3\n",
        "5\n",
        "\n",
        "iterate the total 6(0-5) 6 times put it in while loop\n",
        "n1=n2\n",
        "n2=nth\n",
        "\n",
        "\n",
        "\n",
        "#activity2\n",
        "list1=[1,2,3,4,6,7,8,9]\n",
        "list1[i]==>iterate using for loop"
      ],
      "execution_count": null,
      "outputs": []
    }
  ]
}
