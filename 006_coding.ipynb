{
  "nbformat": 4,
  "nbformat_minor": 0,
  "metadata": {
    "colab": {
      "provenance": [],
      "include_colab_link": true
    },
    "kernelspec": {
      "name": "python3",
      "display_name": "Python 3"
    }
  },
  "cells": [
    {
      "cell_type": "markdown",
      "metadata": {
        "id": "view-in-github",
        "colab_type": "text"
      },
      "source": [
        "<a href=\"https://colab.research.google.com/github/twisha-k/Python_notes/blob/main/6_coding.ipynb\" target=\"_parent\"><img src=\"https://colab.research.google.com/assets/colab-badge.svg\" alt=\"Open In Colab\"/></a>"
      ]
    },
    {
      "cell_type": "markdown",
      "metadata": {
        "id": "7LlG_PPFjJUz"
      },
      "source": [
        "# Lesson 6: Python Lists II"
      ]
    },
    {
      "cell_type": "markdown",
      "metadata": {
        "id": "de8Z4lE5slbz"
      },
      "source": [
        "### Teacher-Student Activities\n",
        "\n",
        "In the previous lesson, we learnt two more functions of Python Lists. They are `append()` and `count()`. In this lesson, we will learn Python lists in more detail."
      ]
    },
    {
      "cell_type": "markdown",
      "metadata": {
        "id": "zQbB7jcGR-ll"
      },
      "source": [
        "---"
      ]
    },
    {
      "cell_type": "markdown",
      "metadata": {
        "id": "bQWxe7FVzpnK"
      },
      "source": [
        "#### Activity 1: Multiple Data Types\n",
        "\n",
        "A Python list can store values of different types. Recall that in the trial class we created 4 different variables to store the attributes of a planet.  \n",
        "\n",
        "||Mercury|\n",
        "|-|-|\n",
        "|Diameter (km)|4879|\n",
        "|Gravity ($m/s^2$)|3.7|\n",
        "|Ring|No|\n",
        "\n",
        "\n",
        "Let's store the name of a planet, its diameter, gravity and whether it has a ring or not in a Python list.\n",
        "\n",
        "**Q: But before that do you remember the different data-types in python?**\n",
        "\n",
        "Ans: There are four different data-types. They are:\n",
        "1. `int` - a numeric value without a digit after the decimal point.\n",
        "For example: `13, -244` etc.\n",
        "\n",
        "2. `float` - a numeric value with a digit after the decimal point.\n",
        "For example: `2.71, -3.14898` etc.\n",
        "\n",
        "    **Note:** Both the `int` and `float` values can be positive or negative or `0`.\n",
        "\n",
        "3. `str` (stands for string) - any value enclosed within single (`' '`) or double (`\" \"`) quotes. For example: `'Windows 10', '15 August 1947'` etc.\n",
        "\n",
        "4. `bool` (stands for boolean) - either `True` or `False`.\n"
      ]
    },
    {
      "cell_type": "code",
      "metadata": {
        "id": "Zh7dKWu3zvgS",
        "colab": {
          "base_uri": "https://localhost:8080/"
        },
        "outputId": "3773d935-7820-48c4-a620-7b4f48317f65"
      },
      "source": [
        "# Student Action: Create a list which contains \"Mercury\", its diameter, gravity and whether it has a ring or not.\n",
        "list1=[\"Mercury\",4879,3.7,False]\n",
        "print(list1)"
      ],
      "execution_count": null,
      "outputs": [
        {
          "output_type": "stream",
          "text": [
            "['Mercury', 4879, 3.7, False]\n"
          ],
          "name": "stdout"
        }
      ]
    },
    {
      "cell_type": "markdown",
      "metadata": {
        "id": "HCSXokBQzz_M"
      },
      "source": [
        "---"
      ]
    },
    {
      "cell_type": "markdown",
      "metadata": {
        "id": "b449Ffvhz0-D"
      },
      "source": [
        "#### Activity 2: List Length\n",
        "To see how many items are stored in a list, you can use a function called `len()`.\n"
      ]
    },
    {
      "cell_type": "code",
      "metadata": {
        "id": "QmAry8Iyz3hM",
        "colab": {
          "base_uri": "https://localhost:8080/"
        },
        "outputId": "8c5d46f7-8e71-4dfc-b61c-a1a98b446035"
      },
      "source": [
        "# Student Action: Find the number of items stored in the 'planet' list.\n",
        "len(list1)"
      ],
      "execution_count": null,
      "outputs": [
        {
          "output_type": "execute_result",
          "data": {
            "text/plain": [
              "4"
            ]
          },
          "metadata": {
            "tags": []
          },
          "execution_count": 4
        }
      ]
    },
    {
      "cell_type": "markdown",
      "metadata": {
        "id": "VrrdIxJjzja0"
      },
      "source": [
        "---"
      ]
    },
    {
      "cell_type": "markdown",
      "metadata": {
        "id": "h-foVuZpz9cq"
      },
      "source": [
        "#### Activity 3: List Indexing And The `for` Loop^^^\n",
        "A list index is similar to your roll number in your class in the school. But here's a catch: The roll number of the first student in your class will be `1`. On the other hand, the roll number of the first item in a Python list is `0`.\n",
        "\n",
        "For example: In the 'planet' list, the first item is `\"Mercury\"` so its index is `0`.\n",
        "\n",
        "To get an item located at each index in a list, just write the list name followed by the square brackets `[]` and inside the brackets, enter the index number.\n",
        "\n",
        "**Syntax:** `list_name[index_number]`\n",
        "\n",
        "**Note:** The list indexing concept will be used throughout this course. So practice it as much as you can. It is a very simple concept to learn."
      ]
    },
    {
      "cell_type": "code",
      "metadata": {
        "id": "-5IyZLF2z-Uz",
        "colab": {
          "base_uri": "https://localhost:8080/"
        },
        "outputId": "ef22e06d-1e87-4ea3-ac88-3517a6a54361"
      },
      "source": [
        "# Teacher Action: Print the items at each index in the 'planet' list.\n",
        "print(list1[0])\n",
        "print(list1[1])\n",
        "print(list1[2])\n",
        "print(list1[3])"
      ],
      "execution_count": null,
      "outputs": [
        {
          "output_type": "stream",
          "text": [
            "Mercury\n",
            "4879\n",
            "3.7\n",
            "False\n"
          ],
          "name": "stdout"
        }
      ]
    },
    {
      "cell_type": "code",
      "metadata": {
        "colab": {
          "base_uri": "https://localhost:8080/"
        },
        "id": "gVsKbJgKomfs",
        "outputId": "a7c22dbd-39ca-4221-c5d3-be3a94df741a"
      },
      "source": [
        "list2 = [12,45,\"abc\",True,False]\n",
        "list2[3]"
      ],
      "execution_count": null,
      "outputs": [
        {
          "output_type": "execute_result",
          "data": {
            "text/plain": [
              "True"
            ]
          },
          "metadata": {
            "tags": []
          },
          "execution_count": 6
        }
      ]
    },
    {
      "cell_type": "markdown",
      "metadata": {
        "id": "JOpx4Gje0BkH"
      },
      "source": [
        "Imagine that you have a list containing `100` items. Getting each item of that list using this method will not be feasible. In such cases, you can retrieve every item using a `for` loop.\n",
        "\n",
        "Let's first learn the `for` loop. We will print the first `10` natural numbers using a `for` loop. Once we learn how a `for` loop works, we will retrieve all the items of the `planet` list using the list indexing method and through the `for` loop.\n",
        "\n",
        "In the `for` loop, we will use a ready-made function called `range()` which generates consecutive natural numbers between two specific numbers."
      ]
    },
    {
      "cell_type": "code",
      "metadata": {
        "id": "5SbklN-t0EDl",
        "colab": {
          "base_uri": "https://localhost:8080/"
        },
        "outputId": "0b32ca2c-8af6-4175-8baa-9071cb48a00e"
      },
      "source": [
        "\n",
        "#i is an iterator which will run from 0-3\n",
        "# len(list1) = 4\n",
        "#i can be given any name\n",
        "for i in range(len(list1)):\n",
        "  print(i)\n",
        "  print(\"at\",i,\"position\",list1[i])\n"
      ],
      "execution_count": null,
      "outputs": [
        {
          "output_type": "stream",
          "text": [
            "0\n",
            "at 0 position Mercury\n",
            "1\n",
            "at 1 position 4879\n",
            "2\n",
            "at 2 position 3.7\n",
            "3\n",
            "at 3 position False\n"
          ],
          "name": "stdout"
        }
      ]
    },
    {
      "cell_type": "code",
      "metadata": {
        "colab": {
          "base_uri": "https://localhost:8080/"
        },
        "id": "t3yzhU_Ep9BG",
        "outputId": "db03dc42-b268-4faa-ff01-6dd00decfa10"
      },
      "source": [
        "# Teacher Action: Print the first 10 natural numbers using the 'for' loop.\n",
        "for i in range(1,11):\n",
        "  print(i)"
      ],
      "execution_count": null,
      "outputs": [
        {
          "output_type": "stream",
          "text": [
            "1\n",
            "2\n",
            "3\n",
            "4\n",
            "5\n",
            "6\n",
            "7\n",
            "8\n",
            "9\n",
            "10\n"
          ],
          "name": "stdout"
        }
      ]
    },
    {
      "cell_type": "markdown",
      "metadata": {
        "id": "9Ox6XpAb0Exy"
      },
      "source": [
        "In natural language, the above code can be read as *for every number in the range of `1` to `11` and except `11`, print a number.* So, in the range of `1` to `11` and except `11`, there are `10` numbers starting from `1` to `10`. So, all these numbers in this range will get printed one-by-one.\n",
        "\n",
        "Here, the `range()` function is used to define a range of numbers. It takes two numbers as input; a **starting number** and an **ending number** to define a range. However, the ending number is used just as a stopping point. The ending number is **NOT** included in the range.\n",
        "\n",
        "**Note:**\n",
        "\n",
        "1. If you don't give a starting point in the `range()` function, then Python assumes that your starting point is `0`.\n",
        "\n",
        "2. If you enter `n` as an input to the `range()` function, then it will generate all the numbers starting from `0` till `n - 1`. For e.g., if `n = 5`, then the `range()` function will generate five numbers starting from `0` till `4`.\n",
        "\n",
        "Now, let's retrieve all the values of the `planet` list using the `for` loop."
      ]
    },
    {
      "cell_type": "code",
      "metadata": {
        "id": "C-CoERDG0LUN",
        "colab": {
          "base_uri": "https://localhost:8080/"
        },
        "outputId": "1a520431-0032-459d-823f-d5138f6e0f2c"
      },
      "source": [
        "# Teacher Action: Using 'for' loop, print each element of the 'planet' list.\n",
        "# 1. First, find out how many items are there in the 'planet' list and store it in the variable called num_items.\n",
        "\n",
        "# 2. Now iterate through each item using the for loop.\n",
        "# 3. Now, write the print() function with 'i' and 'planet[i]' as inputs.\n",
        "n = len(list1)\n",
        "for i in range(n):\n",
        "  #print(i)\n",
        "  print(\"at\",i,\"position\",list1[i])\n",
        "\n"
      ],
      "execution_count": null,
      "outputs": [
        {
          "output_type": "stream",
          "text": [
            "at 0 position Mercury\n",
            "at 1 position 4879\n",
            "at 2 position 3.7\n",
            "at 3 position False\n"
          ],
          "name": "stdout"
        }
      ]
    },
    {
      "cell_type": "markdown",
      "metadata": {
        "id": "0UnmVNi80NR5"
      },
      "source": [
        "Here:\n",
        "\n",
        "- The value of `num_items` is `4` because the length of the `planet` list is `4` as it contains `4` items.\n",
        "\n",
        "- The `range()` function, takes `4` as input and generates numbers from `0` to `3`. The number `4` is excluded.\n",
        "\n",
        "- The value of `i` also goes from `0` to `3`. Hence, `planet[i]` goes from `planet[0]` to `planet[3]`. Essentially, the variable `i` stores the values generated by the `range()` function, but only one value at-a-time.\n",
        "\n",
        "- So, for every value of `i` the `print()` function takes `planet[i]` as input and prints each item contained in the planet list.\n",
        "\n",
        "There is another way to get all the items from a Python list using a `for` loop."
      ]
    },
    {
      "cell_type": "code",
      "metadata": {
        "id": "9FBF_dDp0V-b",
        "colab": {
          "base_uri": "https://localhost:8080/"
        },
        "outputId": "2ef62b8c-8cfa-4f1e-9b4d-639298c905d9"
      },
      "source": [
        "# Teacher Action: Demonstrate another way of getting all the items from a list using the 'for' loop.\n",
        "for i in list1:\n",
        "  print(i)"
      ],
      "execution_count": null,
      "outputs": [
        {
          "output_type": "stream",
          "text": [
            "Mercury\n",
            "4879\n",
            "3.7\n",
            "False\n"
          ],
          "name": "stdout"
        }
      ]
    },
    {
      "cell_type": "markdown",
      "metadata": {
        "id": "aSMbRQAF0ZLW"
      },
      "source": [
        "Here, the variable `i` does not take the numeric value because the `range()` function is not used here. So, the value of `i` goes from the first item of the list till the last item in the list.\n",
        "\n",
        "The second method will not work if you want to retrieve all the items from a list in the reverse order. Hence, you will have to use the first method.\n",
        "\n",
        "So, in this case, using the `for` loop with the `range()` function, retrieve all the items of the `planet` list in the reverse order."
      ]
    },
    {
      "cell_type": "code",
      "metadata": {
        "id": "ZjGkCqs50bPf",
        "colab": {
          "base_uri": "https://localhost:8080/"
        },
        "outputId": "5a6dbe1d-d191-4707-dede-0efb3073e1d1"
      },
      "source": [
        "# Student Action: Print every item of the 'planet' in the reverse order, using the 'for' loop.\n",
        "n=len(list1)\n",
        "for i in range(n):\n",
        "  print(list1[n-1-i])\n"
      ],
      "execution_count": null,
      "outputs": [
        {
          "output_type": "stream",
          "text": [
            "False\n",
            "3.7\n",
            "4879\n",
            "Mercury\n"
          ],
          "name": "stdout"
        }
      ]
    },
    {
      "cell_type": "markdown",
      "metadata": {
        "id": "2mfUa8mDx1t-"
      },
      "source": [
        "In the above code, the value of `n` is `4`. So, the `range()` function generates the numbers `0` to `3`. The value of `i` will also go from `0` to `3`. Thus, `planet[n - 1 - i]` will go from `planet[3 - 0]` to `planet[3 - 3]`.\n",
        "\n",
        "And this is why we get the items of the `planet` list in the reverse order.\n",
        "\n",
        "**Negative Indexing:**\n",
        "\n",
        "You can also use negative indices to get items from a list. They are helpful in retrieving items from a list in the reverse order.\n",
        "\n",
        "The negative indices begin with `-1` and go till `-n` where `n` is the number of items in a list.\n",
        "\n",
        "The last item in a list is located at `-1` index. Similarly, the first item in a list is located at `-n` index.\n",
        "\n",
        "<img src='https://student-datasets-bucket.s3.ap-south-1.amazonaws.com/images/indexing_in_python_lists.png'>\n",
        "\n",
        "\n",
        "\n",
        "\n"
      ]
    },
    {
      "cell_type": "code",
      "metadata": {
        "id": "eNow53vbeVyj",
        "colab": {
          "base_uri": "https://localhost:8080/"
        },
        "outputId": "5914a08e-5202-4428-82c5-b3b2924a6040"
      },
      "source": [
        "# Student Action: Use the negative indices to retrieve all the items from the 'planet' list.\n",
        "print(list1[-1])"
      ],
      "execution_count": null,
      "outputs": [
        {
          "output_type": "stream",
          "text": [
            "False\n"
          ],
          "name": "stdout"
        }
      ]
    },
    {
      "cell_type": "code",
      "metadata": {
        "colab": {
          "base_uri": "https://localhost:8080/"
        },
        "id": "qGnOwjGLtZ2x",
        "outputId": "9a13ffd3-7fb4-4c78-daae-1c9b63a6fab1"
      },
      "source": [
        "len(list1)"
      ],
      "execution_count": null,
      "outputs": [
        {
          "output_type": "execute_result",
          "data": {
            "text/plain": [
              "4"
            ]
          },
          "metadata": {
            "tags": []
          },
          "execution_count": 17
        }
      ]
    },
    {
      "cell_type": "code",
      "metadata": {
        "colab": {
          "base_uri": "https://localhost:8080/"
        },
        "id": "DBPm-pe1tNQc",
        "outputId": "9c07f525-ce08-46de-c7ce-8f00a4763a10"
      },
      "source": [
        "\n",
        "\n",
        "for i in range(1,5):\n",
        "  print(i)"
      ],
      "execution_count": null,
      "outputs": [
        {
          "output_type": "stream",
          "text": [
            "1\n",
            "2\n",
            "3\n"
          ],
          "name": "stdout"
        }
      ]
    },
    {
      "cell_type": "code",
      "metadata": {
        "id": "bDQ_d0F5fEdn",
        "colab": {
          "base_uri": "https://localhost:8080/"
        },
        "outputId": "6adea538-d554-40fe-9660-042cf7f9a5fc"
      },
      "source": [
        "# Student Action: Using the 'for' loop and negative indices, retrieve all the items from the 'planet' list in the reverse order.\n",
        "n=len(list1)\n",
        "for i in range(1,n+1):\n",
        "  print(list1[-i])\n"
      ],
      "execution_count": null,
      "outputs": [
        {
          "output_type": "stream",
          "text": [
            "False\n",
            "3.7\n",
            "4879\n",
            "Mercury\n"
          ],
          "name": "stdout"
        }
      ]
    },
    {
      "cell_type": "markdown",
      "metadata": {
        "id": "MfTs0p63z8fE"
      },
      "source": [
        "---"
      ]
    },
    {
      "cell_type": "markdown",
      "metadata": {
        "id": "ZAylC_zL6ugR"
      },
      "source": [
        "#### Activity 4: List Slicing\n",
        "Suppose that I have a list of `10` cars that I own.\n",
        "\n",
        "`my_cars = ['Chrysler', 'Lamborghini', 'Bugatti', 'Porsche', 'Ford', 'Rolls Royce', 'Suzuki', 'Bentley', 'Lexus', 'Tesla']`\n",
        "\n",
        "Let's say, I want to see a list of only first five cars, then I can use the concept of **list slicing**.\n",
        "\n",
        "To slice a list, write the name of the list followed by square brackets and inside the square brackets, enter the **starting point** (in this case it is zero) followed by a colon sign (`:`) and the **ending point**.\n",
        "\n",
        "**Syntax:** `list_name[start_index:end_index]`\n",
        "\n",
        "Note that the item at the `end-index` will not be a part of the sub-list."
      ]
    },
    {
      "cell_type": "code",
      "metadata": {
        "id": "AQ_0cIRS0yPB",
        "colab": {
          "base_uri": "https://localhost:8080/"
        },
        "outputId": "0566ccfd-843f-44fb-eba8-d20e83b518e8"
      },
      "source": [
        "# Teacher Action: Retrieve the items from a list using the slicing method by mentioning both the starting and ending indices.\n",
        "my_cars = ['Chrysler', 'Lamborghini', 'Bugatti', 'Porsche', 'Ford', 'Rolls Royce', 'Suzuki', 'Bentley', 'Lexus', 'Tesla']\n",
        "my_cars[1:5]"
      ],
      "execution_count": null,
      "outputs": [
        {
          "output_type": "execute_result",
          "data": {
            "text/plain": [
              "['Lamborghini', 'Bugatti', 'Porsche', 'Ford']"
            ]
          },
          "metadata": {
            "tags": []
          },
          "execution_count": 15
        }
      ]
    },
    {
      "cell_type": "markdown",
      "metadata": {
        "id": "lJ9Hizr40RPE"
      },
      "source": [
        "In `my_cars[0:5]` sub-list, the item at index `5` will not be included in the sub-list. The sub-list will contain the items ranging from indices `0` to `4` from the parent list.\n",
        "\n",
        "If you do not specify the starting point, then Python assumes that you want to get the items starting from the first item of the list."
      ]
    },
    {
      "cell_type": "code",
      "metadata": {
        "id": "c0z7tD64pwDg",
        "colab": {
          "base_uri": "https://localhost:8080/"
        },
        "outputId": "42105c1e-cd91-4250-c06d-6f573666a206"
      },
      "source": [
        "# Teacher Action: Retrieve the first 5 items from the 'my_cars' Python list without mentioning the starting index.\n",
        "my_cars[0:5]"
      ],
      "execution_count": null,
      "outputs": [
        {
          "output_type": "execute_result",
          "data": {
            "text/plain": [
              "['Chrysler', 'Lamborghini', 'Bugatti', 'Porsche', 'Ford']"
            ]
          },
          "metadata": {
            "tags": []
          },
          "execution_count": 16
        }
      ]
    },
    {
      "cell_type": "code",
      "metadata": {
        "colab": {
          "base_uri": "https://localhost:8080/"
        },
        "id": "P1rSe-yauhk4",
        "outputId": "4c998083-2b7a-4895-fbe2-a9cef1a963d9"
      },
      "source": [
        "my_cars[:6]"
      ],
      "execution_count": null,
      "outputs": [
        {
          "output_type": "execute_result",
          "data": {
            "text/plain": [
              "['Chrysler', 'Lamborghini', 'Bugatti', 'Porsche', 'Ford', 'Rolls Royce']"
            ]
          },
          "metadata": {
            "tags": []
          },
          "execution_count": 17
        }
      ]
    },
    {
      "cell_type": "code",
      "metadata": {
        "colab": {
          "base_uri": "https://localhost:8080/"
        },
        "id": "tqbU4CtWuptR",
        "outputId": "6f57ae20-1fa4-4494-b8d7-966d61c3e00b"
      },
      "source": [
        "my_cars[:]"
      ],
      "execution_count": null,
      "outputs": [
        {
          "output_type": "execute_result",
          "data": {
            "text/plain": [
              "['Chrysler',\n",
              " 'Lamborghini',\n",
              " 'Bugatti',\n",
              " 'Porsche',\n",
              " 'Ford',\n",
              " 'Rolls Royce',\n",
              " 'Suzuki',\n",
              " 'Bentley',\n",
              " 'Lexus',\n",
              " 'Tesla']"
            ]
          },
          "metadata": {
            "tags": []
          },
          "execution_count": 18
        }
      ]
    },
    {
      "cell_type": "code",
      "metadata": {
        "colab": {
          "base_uri": "https://localhost:8080/",
          "height": 158
        },
        "id": "NndapJT4urGG",
        "outputId": "036387d9-6c3d-40ce-bdce-79061c0d59b3"
      },
      "source": [
        "my_cars[2:]"
      ],
      "execution_count": null,
      "outputs": [
        {
          "output_type": "error",
          "ename": "NameError",
          "evalue": "ignored",
          "traceback": [
            "\u001b[0;31m---------------------------------------------------------------------------\u001b[0m",
            "\u001b[0;31mNameError\u001b[0m                                 Traceback (most recent call last)",
            "\u001b[0;32m<ipython-input-14-91c28e539d1a>\u001b[0m in \u001b[0;36m<module>\u001b[0;34m()\u001b[0m\n\u001b[0;32m----> 1\u001b[0;31m \u001b[0mmy_cars\u001b[0m\u001b[0;34m[\u001b[0m\u001b[0;36m2\u001b[0m\u001b[0;34m:\u001b[0m\u001b[0;34m]\u001b[0m\u001b[0;34m\u001b[0m\u001b[0;34m\u001b[0m\u001b[0m\n\u001b[0m",
            "\u001b[0;31mNameError\u001b[0m: name 'my_cars' is not defined"
          ]
        }
      ]
    },
    {
      "cell_type": "markdown",
      "metadata": {
        "id": "L0EkhHikprK5"
      },
      "source": [
        "Now, using the list slicing concept, you print all the cars stored in the `my_cars` list starting from `'Lamborghini'` to `'Bentley'`."
      ]
    },
    {
      "cell_type": "code",
      "metadata": {
        "id": "iEiOH3rGCIHb",
        "colab": {
          "base_uri": "https://localhost:8080/"
        },
        "outputId": "63b8dc68-f1cb-46bb-f51a-e3f4c482d3ea"
      },
      "source": [
        "# Student Action: Write a code to see all the cars in the list starting from 'Lamborghini' to 'Bentley'.\n",
        "my_cars[2:8]"
      ],
      "execution_count": null,
      "outputs": [
        {
          "output_type": "execute_result",
          "data": {
            "text/plain": [
              "['Bugatti', 'Porsche', 'Ford', 'Rolls Royce', 'Suzuki', 'Bentley']"
            ]
          },
          "metadata": {
            "tags": []
          },
          "execution_count": 19
        }
      ]
    },
    {
      "cell_type": "markdown",
      "metadata": {
        "id": "dFxlkJq6rjaZ"
      },
      "source": [
        "You can also skip intermediate items while retrieving a few other items from a list.\n",
        "\n",
        "Suppose you want to retrieve alternate items from a list starting from the first item, then you can use the list slicing method.\n",
        "\n",
        "Inside the square brackets, after the ending point, you have to include another colon (`:`) sign followed by the number of items to be skipped.\n",
        "\n",
        "**Syntax:** `list_name[start_index:end_index:num_of_items_to_be_skipped]`"
      ]
    },
    {
      "cell_type": "code",
      "metadata": {
        "id": "TKMHaHBHo8Gy",
        "colab": {
          "base_uri": "https://localhost:8080/"
        },
        "outputId": "769ec034-b9dd-400d-ec88-4760596c1f44"
      },
      "source": [
        "# Student Action: Retrieve all the alternate items from the 'my_cars' list.\n",
        "my_cars[2:8:2]"
      ],
      "execution_count": null,
      "outputs": [
        {
          "output_type": "execute_result",
          "data": {
            "text/plain": [
              "['Bugatti', 'Ford', 'Suzuki']"
            ]
          },
          "metadata": {
            "tags": []
          },
          "execution_count": 20
        }
      ]
    },
    {
      "cell_type": "markdown",
      "metadata": {
        "id": "ex4bN7z7s8Zd"
      },
      "source": [
        "**Note:** If you are retrieving all the items from a list, then you actually do not have to mention the start and end indices. Just put the colon (`:`) signs and Python will know that you wish to retrieve all the items.\n",
        "\n",
        "To retrieve all the items from a list in the reverse order, you can also use the list slicing method with a negative index `-1` after the second colon (`:`) sign."
      ]
    },
    {
      "cell_type": "code",
      "metadata": {
        "id": "1b50S7aptGxL",
        "colab": {
          "base_uri": "https://localhost:8080/"
        },
        "outputId": "a545687b-1088-4388-90c8-fda31f00c1fe"
      },
      "source": [
        "# Student Action: Retrieve all the items from the 'my_cars' list in the reverse order.\n",
        "my_cars[::-1]"
      ],
      "execution_count": null,
      "outputs": [
        {
          "output_type": "execute_result",
          "data": {
            "text/plain": [
              "['Tesla',\n",
              " 'Lexus',\n",
              " 'Bentley',\n",
              " 'Suzuki',\n",
              " 'Rolls Royce',\n",
              " 'Ford',\n",
              " 'Porsche',\n",
              " 'Bugatti',\n",
              " 'Lamborghini',\n",
              " 'Chrysler']"
            ]
          },
          "metadata": {
            "tags": []
          },
          "execution_count": 21
        }
      ]
    },
    {
      "cell_type": "markdown",
      "metadata": {
        "id": "QFmDbPBs0ye8"
      },
      "source": [
        "---"
      ]
    },
    {
      "cell_type": "markdown",
      "metadata": {
        "id": "R5OAAjHrD-N-"
      },
      "source": [
        "#### Activity 5: Index Of An Item\n",
        "\n",
        "Suppose that you want to find the index of `Ford` in the `my_cars` list, then you can use the `index()` function.\n",
        "\n",
        "To find an index of an item, write the name of the list followed by the dot `(.)` operator followed by the `index()` function. Inside the `index()` function, enter the item whose index you wish to find.\n",
        "\n",
        "**Syntax:** `list_name.index(item)`"
      ]
    },
    {
      "cell_type": "code",
      "metadata": {
        "id": "ZNCl8haaDgfZ",
        "colab": {
          "base_uri": "https://localhost:8080/"
        },
        "outputId": "93a12c4e-0433-4e48-c50c-0a54018ee10e"
      },
      "source": [
        "# Student Action: Find the index of 'Ford'.\n",
        "my_cars.index(\"Ford\")"
      ],
      "execution_count": null,
      "outputs": [
        {
          "output_type": "execute_result",
          "data": {
            "text/plain": [
              "4"
            ]
          },
          "metadata": {
            "tags": []
          },
          "execution_count": 22
        }
      ]
    },
    {
      "cell_type": "markdown",
      "metadata": {
        "id": "DGeWh7-DJE0h"
      },
      "source": [
        "So, the item `'Ford'` exists at the `index = 4` in the `my_cars` list."
      ]
    },
    {
      "cell_type": "code",
      "metadata": {
        "id": "ORwI68ilw7KM"
      },
      "source": [
        "# Student Action: Find the index of 'Rolls Royce'.\n"
      ],
      "execution_count": null,
      "outputs": []
    },
    {
      "cell_type": "markdown",
      "metadata": {
        "id": "lLfdxoEtJO0l"
      },
      "source": [
        "And the item `'Rolls Royce'` exists at the `index = 5` in the `my_cars` list."
      ]
    },
    {
      "cell_type": "markdown",
      "metadata": {
        "id": "-5Y_OPoBGTwZ"
      },
      "source": [
        "---"
      ]
    },
    {
      "cell_type": "markdown",
      "metadata": {
        "id": "Z5pRYBB0CedN"
      },
      "source": [
        "#### Activity 6: Removing An Item\n",
        "\n",
        "Let's say you sold your `'Bentley'` car to your friend. So, you will have to remove it from the list of your cars.\n",
        "\n",
        "To remove an item from a list, use the `remove()` function followed by the item that you wish to remove.\n",
        "\n",
        "**Syntax:** `list_name.remove(item)`"
      ]
    },
    {
      "cell_type": "code",
      "metadata": {
        "id": "u_tvV0GzC4Nn",
        "colab": {
          "base_uri": "https://localhost:8080/",
          "height": 175
        },
        "outputId": "50bc3220-8e0c-4d4a-9e1e-e1a6ad6e559f"
      },
      "source": [
        "# Student Action: Remove 'Bentley' from the 'my_cars' list.\n",
        "my_cars.remove(\"Bentley\")\n"
      ],
      "execution_count": null,
      "outputs": [
        {
          "output_type": "error",
          "ename": "ValueError",
          "evalue": "ignored",
          "traceback": [
            "\u001b[0;31m---------------------------------------------------------------------------\u001b[0m",
            "\u001b[0;31mValueError\u001b[0m                                Traceback (most recent call last)",
            "\u001b[0;32m<ipython-input-24-8c4e9ce0c285>\u001b[0m in \u001b[0;36m<module>\u001b[0;34m()\u001b[0m\n\u001b[1;32m      1\u001b[0m \u001b[0;31m# Student Action: Remove 'Bentley' from the 'my_cars' list.\u001b[0m\u001b[0;34m\u001b[0m\u001b[0;34m\u001b[0m\u001b[0;34m\u001b[0m\u001b[0m\n\u001b[0;32m----> 2\u001b[0;31m \u001b[0mmy_cars\u001b[0m\u001b[0;34m.\u001b[0m\u001b[0mremove\u001b[0m\u001b[0;34m(\u001b[0m\u001b[0;34m\"Bentley\"\u001b[0m\u001b[0;34m)\u001b[0m\u001b[0;34m\u001b[0m\u001b[0;34m\u001b[0m\u001b[0m\n\u001b[0m",
            "\u001b[0;31mValueError\u001b[0m: list.remove(x): x not in list"
          ]
        }
      ]
    },
    {
      "cell_type": "code",
      "metadata": {
        "colab": {
          "base_uri": "https://localhost:8080/"
        },
        "id": "gKJoLWyewNX1",
        "outputId": "159c558e-d936-4527-e599-e604b53e7ded"
      },
      "source": [
        "my_cars"
      ],
      "execution_count": null,
      "outputs": [
        {
          "output_type": "execute_result",
          "data": {
            "text/plain": [
              "['Chrysler',\n",
              " 'Lamborghini',\n",
              " 'Bugatti',\n",
              " 'Porsche',\n",
              " 'Ford',\n",
              " 'Rolls Royce',\n",
              " 'Suzuki',\n",
              " 'Lexus',\n",
              " 'Tesla']"
            ]
          },
          "metadata": {
            "tags": []
          },
          "execution_count": 25
        }
      ]
    },
    {
      "cell_type": "markdown",
      "metadata": {
        "id": "TdMqCMvbDQ7v"
      },
      "source": [
        "Now, `'Bentley'` is a not part of `my_cars` list anymore."
      ]
    },
    {
      "cell_type": "markdown",
      "metadata": {
        "id": "WxeRaXtGD3D8"
      },
      "source": [
        "---"
      ]
    },
    {
      "cell_type": "markdown",
      "metadata": {
        "id": "HWmHX1zpD44h"
      },
      "source": [
        "#### Activity 7: The `pop()` Function^\n",
        "\n",
        "You can also remove an item from a list using another function called `pop()`. It has two behaviours.\n",
        "\n",
        "**Behaviour I:** If you do not specify any input, it will always remove only the last item from a Python list.\n",
        "\n",
        "**Syntax:** `list_name.pop()`"
      ]
    },
    {
      "cell_type": "code",
      "metadata": {
        "id": "iJv5JtPcD4Hb",
        "colab": {
          "base_uri": "https://localhost:8080/",
          "height": 35
        },
        "outputId": "e73edcc2-2e95-41b3-96cb-c37792ba2c12"
      },
      "source": [
        "# Student Action: Remove the last item from the 'my_cars' list using the 'pop()' function.\n",
        "my_cars.pop()"
      ],
      "execution_count": null,
      "outputs": [
        {
          "output_type": "execute_result",
          "data": {
            "application/vnd.google.colaboratory.intrinsic+json": {
              "type": "string"
            },
            "text/plain": [
              "'Suzuki'"
            ]
          },
          "metadata": {
            "tags": []
          },
          "execution_count": 28
        }
      ]
    },
    {
      "cell_type": "code",
      "metadata": {
        "colab": {
          "base_uri": "https://localhost:8080/"
        },
        "id": "f7SDNfSCwlxJ",
        "outputId": "ba70dae1-6c15-405b-cb9f-a9753766099c"
      },
      "source": [
        "my_cars"
      ],
      "execution_count": null,
      "outputs": [
        {
          "output_type": "execute_result",
          "data": {
            "text/plain": [
              "['Chrysler', 'Lamborghini', 'Bugatti', 'Porsche', 'Ford', 'Rolls Royce']"
            ]
          },
          "metadata": {
            "tags": []
          },
          "execution_count": 29
        }
      ]
    },
    {
      "cell_type": "markdown",
      "metadata": {
        "id": "Tbc1cvi3TWAc"
      },
      "source": [
        "**Behaviour II:** If you want to remove an item from a list located at a specific index, then pass the index of that item as an input to the `pop()` function.\n",
        "\n",
        "**Syntax:** `list_name.pop(item_index)`"
      ]
    },
    {
      "cell_type": "code",
      "metadata": {
        "id": "mdKuXcLQTVcS"
      },
      "source": [
        "# Student Action: Remove the item at 'index = 3' from the 'my_cars' list using the 'pop()' function."
      ],
      "execution_count": null,
      "outputs": []
    },
    {
      "cell_type": "code",
      "metadata": {
        "colab": {
          "base_uri": "https://localhost:8080/",
          "height": 35
        },
        "id": "R-Ye111Ww09s",
        "outputId": "c169aaf8-c188-486c-b7bd-0ca97be568d8"
      },
      "source": [
        "my_cars.pop(3)"
      ],
      "execution_count": null,
      "outputs": [
        {
          "output_type": "execute_result",
          "data": {
            "application/vnd.google.colaboratory.intrinsic+json": {
              "type": "string"
            },
            "text/plain": [
              "'Porsche'"
            ]
          },
          "metadata": {
            "tags": []
          },
          "execution_count": 30
        }
      ]
    },
    {
      "cell_type": "markdown",
      "metadata": {
        "id": "wGbMbNgLEAaF"
      },
      "source": [
        "---"
      ]
    },
    {
      "cell_type": "markdown",
      "metadata": {
        "id": "6MbJIuLm2mru"
      },
      "source": [
        "#### Activity 8: Item Replacement^^\n",
        "\n",
        "You can replace an existing item in a list with a new item. Suppose I exchanged my `Suzuki` car with a `McLaren` car. So, I need to update `my_cars` list accordingly.\n",
        "\n",
        "To replace an item, first get the index of that item. Then using the list indexing method, replace the existing item with the new one.\n",
        "\n",
        "**Syntax:** `list_name[list_name.index('current_item')] = new_item`"
      ]
    },
    {
      "cell_type": "code",
      "metadata": {
        "colab": {
          "base_uri": "https://localhost:8080/"
        },
        "id": "QzjNo785xVlZ",
        "outputId": "2f636c24-ef6f-40be-ed57-09f770e84c79"
      },
      "source": [
        "my_cars.index('Suzuki')"
      ],
      "execution_count": null,
      "outputs": [
        {
          "output_type": "execute_result",
          "data": {
            "text/plain": [
              "6"
            ]
          },
          "metadata": {
            "tags": []
          },
          "execution_count": 26
        }
      ]
    },
    {
      "cell_type": "code",
      "metadata": {
        "id": "12hsKiorxaxC",
        "colab": {
          "base_uri": "https://localhost:8080/"
        },
        "outputId": "24959d3e-6eb0-4d88-c7af-c679b522b733"
      },
      "source": [
        "my_cars"
      ],
      "execution_count": null,
      "outputs": [
        {
          "output_type": "execute_result",
          "data": {
            "text/plain": [
              "['Chrysler',\n",
              " 'Lamborghini',\n",
              " 'Bugatti',\n",
              " 'Porsche',\n",
              " 'Ford',\n",
              " 'Rolls Royce',\n",
              " 'Suzuki',\n",
              " 'Bentley',\n",
              " 'Lexus',\n",
              " 'Tesla']"
            ]
          },
          "metadata": {
            "tags": []
          },
          "execution_count": 27
        }
      ]
    },
    {
      "cell_type": "code",
      "metadata": {
        "id": "rUdiT9wr3lXk"
      },
      "source": [
        "# Student Action: Replace 'Suzuki' with 'McLaren' in the 'my_cars' list.\n",
        "my_cars[6] = 'McLaren'"
      ],
      "execution_count": null,
      "outputs": []
    },
    {
      "cell_type": "markdown",
      "metadata": {
        "id": "U853vHUg4IG4"
      },
      "source": [
        "As you can see, the `'Suzuki'` car has been replaced by `'McLaren'` using the list indexing method.\n",
        "\n",
        "Similarly, you replace `'Lexus'` with `'Aston Martin'` using the list indexing method."
      ]
    },
    {
      "cell_type": "code",
      "metadata": {
        "id": "crN7kFwW7v2A"
      },
      "source": [
        "# Student Action: Replace 'Lexus' with 'Aston Martin' in the my_cars list.\n"
      ],
      "execution_count": null,
      "outputs": []
    },
    {
      "cell_type": "markdown",
      "metadata": {
        "id": "EtZRRJJq8U9D"
      },
      "source": [
        "As you can see, the `'Lexus'` car has been replaced by `'Aston Martin'` using the list indexing method."
      ]
    },
    {
      "cell_type": "markdown",
      "metadata": {
        "id": "Y_pSI5rb8a7y"
      },
      "source": [
        "---"
      ]
    }
  ]
}
