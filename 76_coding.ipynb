{
  "nbformat": 4,
  "nbformat_minor": 0,
  "metadata": {
    "colab": {
      "provenance": [],
      "include_colab_link": true
    },
    "kernelspec": {
      "name": "python3",
      "display_name": "Python 3"
    }
  },
  "cells": [
    {
      "cell_type": "markdown",
      "metadata": {
        "id": "view-in-github",
        "colab_type": "text"
      },
      "source": [
        "<a href=\"https://colab.research.google.com/github/twisha-k/Python_notes/blob/main/76_coding.ipynb\" target=\"_parent\"><img src=\"https://colab.research.google.com/assets/colab-badge.svg\" alt=\"Open In Colab\"/></a>"
      ]
    },
    {
      "cell_type": "markdown",
      "metadata": {
        "id": "nreGKcypHo1M"
      },
      "source": [
        "# Lesson 76: Logistic Regression - Derivatives"
      ]
    },
    {
      "cell_type": "markdown",
      "metadata": {
        "id": "ze9uSJt-I-0E"
      },
      "source": [
        "### Teacher-Student Activities\n",
        "\n",
        "In the previous class, you learnt to build a likelihood and log likelihood function as part of the building the cost function process for logistic regression to calculate the coefficients. In this class, you build the regularised cost function and also will learn the concepts of derivatives that are heavily used in machine learning and deep learning.\n",
        "\n",
        "Let's quickly go through the activities covered in the previous class and begin this class from the **Activity 1: Derivatives** section."
      ]
    },
    {
      "cell_type": "markdown",
      "metadata": {
        "id": "bSyqQS5T8Y1D"
      },
      "source": [
        "---"
      ]
    },
    {
      "cell_type": "markdown",
      "metadata": {
        "id": "IEWPHM33zjEG"
      },
      "source": [
        "#### Activity 1: Derivatives (or Differentiation)^\n",
        "\n",
        "$$J(\\beta) = -\\frac{1}{m} \\sum_{i = 1}^m \\{ y \\log p_i + (1 - y) \\log(1 - p_i) \\} + \\frac{\\lambda}{2m} \\sum_{j = 1}^n \\beta_j^2$$\n",
        "\n",
        "The regularised cost function, for the different values of $\\beta$ produces different values. But we are looking for those $\\beta$ values for which the value of the cost function is minimum. For this, you need to differentiate the regularised cost function wrt the betas i.e. $\\frac{\\partial J}{\\partial \\beta_0}, \\frac{\\partial J}{\\partial \\beta_1}, \\frac{\\partial J}{\\partial \\beta_2}, \\dots , \\frac{\\partial J}{\\partial \\beta_n}$. For this, you need to learn the concept of derivatives (or differentiation).\n",
        "\n",
        "\n",
        "**A derivative (or differentiation) is defined as the rate of change in one quantity wrt the change in another quantity.** Let's understand this concept with the help of an example.\n",
        "\n",
        "Consider a car travelling on a hill that has a curved path as shown in the image below.\n",
        "\n",
        "<center><img src ='https://student-datasets-bucket.s3.ap-south-1.amazonaws.com/images/derivatives-01.jpg' width = 800></center>\n",
        "\n",
        "Suppose, you want to find out:\n",
        "\n",
        "1. the rate of change in the vertical distance travelled by the car wrt to the change in the horizontal distance.\n",
        "\n",
        "2. the point (on the horizontal axis) at which the hill has its lowest height.\n",
        "\n",
        "To answer both the above questions, you need derivatives.\n",
        "\n",
        "**Q: How is it related to the regularised cost function?**\n",
        "\n",
        "**A:** Using derivatives, we want to find the values of betas (called optimised betas) at which the cost function has its lowest value. These optimised beta values are used to calculate the decision boundary and thereby to build a logistic regression model.\n",
        "\n",
        "**Q: How derivatives are used to find out the points at which the value of a cost function (regularised or non-regularised) is zero?**\n",
        "\n",
        "**A:** Let's continue with the above example and try to find out the points on the horizontal axis at which the height of the hill is the minimum (or lowest).\n",
        "\n",
        "You can represent the curvature of the hill on the $x$-$y$ axes as shown below.\n",
        "\n",
        "<center><img src ='https://student-datasets-bucket.s3.ap-south-1.amazonaws.com/images/derivatives-02.jpg' width = 700></center>\n",
        "\n",
        "\n",
        "You can draw different tangents (**a tangent at a point is a straight line that touches a curve**) at different points on this curve as well as shown in the images below.\n",
        "\n",
        "<center><img src ='https://student-datasets-bucket.s3.ap-south-1.amazonaws.com/images/derivatives-03.jpg' width = 700></center>\n",
        "\n",
        "The slope of the tangent shown in the above image is positive because the tangent makes an acute angle with the $x$-axis. In the next image, the slope of the second tangent is 0 because it is parallel to the $x$-axis.\n",
        "\n",
        "<center><img src ='https://student-datasets-bucket.s3.ap-south-1.amazonaws.com/images/derivatives-04.jpg' width = 700></center>\n",
        "\n",
        "In the next image, the slope of the third tangent is negative because it makes an obtuse angle with the $x$-axis.\n",
        "\n",
        "<center><img src ='https://student-datasets-bucket.s3.ap-south-1.amazonaws.com/images/derivatives-05.jpg' width = 700></center>\n",
        "\n",
        "The next image shows three more tangents that are parallel to the $x$-axis.\n",
        "\n",
        "<center><img src ='https://student-datasets-bucket.s3.ap-south-1.amazonaws.com/images/derivatives-06.jpg' width = 700></center>\n",
        "\n",
        "All the tangents having the slope equals to zero are shown in the purple colour.\n",
        "\n",
        "**Q: What is so special about the tangents having the slope equal to 0?**\n",
        "\n",
        "**A: A point on a curve at which the slope of a tangent is zero, is the point where the curve has either its maximum value (peak) or minimum value (valley).** For e.g., at the point $x_2$, the curve has its peak (or maximum value) and at $x_5$, it has its valley (or minimum value).\n",
        "\n",
        "<center><img src ='https://student-datasets-bucket.s3.ap-south-1.amazonaws.com/images/derivatives-07.jpg' width = 800></center>\n",
        "\n",
        "Using derivatives (or differentiation), you can get the mathematical expression of tangents to any curve and then equate them with zero to find out the points at which the slope of these tangents are equal to zero.\n"
      ]
    },
    {
      "cell_type": "markdown",
      "metadata": {
        "id": "TcLyDR_H7Yww"
      },
      "source": [
        "---"
      ]
    },
    {
      "cell_type": "markdown",
      "metadata": {
        "id": "IeGenrAy7ZeD"
      },
      "source": [
        "#### Activity 2: Rate of Change & Slope of A Tangent^^\n",
        "\n",
        "**Q: How to compute derivatives?**\n",
        "\n",
        "As discussed earlier, a derivative (or differentiation) is defined as the rate of change in one quantity wrt the change in another quantity.\n",
        "\n",
        "To calculate the rate of change, first, we need a relationship between the two quantities. In this case, we need a relationship between the height of the hill and its length. So here, we are provided with the equation of the curved path (or curvature/trajectory) of the hill shown in the above example. It is given as\n",
        "\n",
        "$$y = \\frac{x^5}{5} - \\frac{26}{3}x^3 + 25x$$\n",
        "\n",
        "where\n",
        "\n",
        "- $y$ is the height of the hill from the ground\n",
        "\n",
        "- $x$ is the horizontal length of the hill.\n",
        "\n",
        "Let's plot the curvature of the hill using the `matplotlib.pyplot` module."
      ]
    },
    {
      "cell_type": "code",
      "metadata": {
        "id": "eoLYgHpf-gA_",
        "colab": {
          "base_uri": "https://localhost:8080/",
          "height": 283
        },
        "outputId": "46341341-894a-48b4-de96-faf85f582396"
      },
      "source": [
        "# S2.1: Plot the curvature of the hill using the 'matplotlib.pyplot' module for the length of the hill bounded between x = -6 and x = 6 only.\n",
        "import matplotlib.pyplot as plt\n",
        "import numpy as np\n",
        "def curvature(x):\n",
        "  y=(x**5/5)-((26/3)*x**3)+25*x\n",
        "  return y\n",
        "x=np.linspace(-6,6,100000)\n",
        "y=curvature(x)\n",
        "plt.plot(x,y)"
      ],
      "execution_count": null,
      "outputs": [
        {
          "output_type": "execute_result",
          "data": {
            "text/plain": [
              "[<matplotlib.lines.Line2D at 0x7f1c0ddd2fd0>]"
            ]
          },
          "metadata": {},
          "execution_count": 1
        },
        {
          "output_type": "display_data",
          "data": {
            "text/plain": [
              "<Figure size 432x288 with 1 Axes>"
            ],
            "image/png": "[encoded data removed]"
          },
          "metadata": {
            "needs_background": "light"
          }
        }
      ]
    },
    {
      "cell_type": "markdown",
      "metadata": {
        "id": "KxNELCHsB3KP"
      },
      "source": [
        "Next, you need to find the rate to change of height of the hill $y$ wrt the change in the length of the hill $x$ to calculate the derivative i.e.\n",
        "\n",
        "$$\\frac{y_2 - y_1}{x_2 - x_1}$$\n",
        "\n",
        "We can also represent the above ratio as\n",
        "\n",
        "$$\\frac{\\delta y}{\\delta x}$$\n",
        "\n",
        "where\n",
        "\n",
        "- $\\delta y$ (to be read as **delta $y$**) denotes a small change in the values of $y$\n",
        "\n",
        "- $\\delta x$ (to be read as **delta $x$**) denotes a small change in the values of $x$\n",
        "\n"
      ]
    },
    {
      "cell_type": "markdown",
      "metadata": {
        "id": "yWAuUSFVBsd6"
      },
      "source": [
        "---"
      ]
    },
    {
      "cell_type": "markdown",
      "metadata": {
        "id": "GlvyYDMYBnnY"
      },
      "source": [
        "#### Activity 3: Derivative as Rate of Change\n",
        "\n",
        "**Q: How to calculate the rate of change in $y$ wrt the change in $x$?**\n",
        "\n",
        "**A:** We already know that $y$ is dependent on $x$. In other words, $y$ is a function of $x$. Mathematically, it can be represented as\n",
        "\n",
        "$$y = f(x)$$\n",
        "\n",
        "So, for $x = 1$, the equation of trajectory of the hill gives,\n",
        "\n",
        "\\begin{align}\n",
        "y &= f(1) \\\\\n",
        "&= \\frac{1}{5} - \\frac{26}{3} + 25 \\\\\n",
        "&= 16.533\n",
        "\\end{align}\n",
        "\n",
        "Similarly, for $x = 2$, the equation of trajectory of the hill gives,\n",
        "\n",
        "\\begin{align}\n",
        "y &= f(2) \\\\\n",
        "&= \\frac{2^5}{5} - \\frac{26}{3}\\times 2^4 + 25 \\times 2 \\\\\n",
        "&= -12.933\n",
        "\\end{align}\n",
        "\n",
        "With this idea in mind, now let's consider the right-most part of the hill as shown in the image below.\n",
        "\n",
        "<center><img src = 'https://student-datasets-bucket.s3.ap-south-1.amazonaws.com/images/derivatives-09.jpg' width = 700></center>\n",
        "\n",
        "Also, let a line intersect this part of the curve at the points A and B as shown in the above image. This line will become a tangent to the curve at the point of minimum value, i.e. $x_5$, when both the points A and B approach each other as shown in the images below.\n",
        "\n",
        "<center><img src = 'https://student-datasets-bucket.s3.ap-south-1.amazonaws.com/images/derivatives-10.jpg' width = 700></center>\n",
        "\n",
        "<center><img src = 'https://student-datasets-bucket.s3.ap-south-1.amazonaws.com/images/derivatives-11.jpg' width = 700></center>\n",
        "\n",
        "<center><img src = 'https://student-datasets-bucket.s3.ap-south-1.amazonaws.com/images/derivatives-12.jpg' width = 700></center>\n",
        "\n",
        "<center><img src = 'https://student-datasets-bucket.s3.ap-south-1.amazonaws.com/images/derivatives-13.jpg' width = 700></center>\n",
        "\n",
        "This will happen if the vertical and the horizontal distances between the points A and B approach 0.\n",
        "\n",
        "<center><img src = 'https://student-datasets-bucket.s3.ap-south-1.amazonaws.com/images/derivatives-14.jpg' width = 700></center>\n",
        "\n",
        "i.e., $\\delta y \\rightarrow 0$ and $\\delta x \\rightarrow 0$\n",
        "\n",
        "where\n",
        "\n",
        "- $\\delta y$ is a small change in the values of $y$ or graphically, the vertical distance between the points A and B=\n",
        "\n",
        "- $\\delta x$ (to be read as **delta $x$**) is a small change in the values of $x$ or graphically, the horizontal distance between the points A and B\n",
        "\n",
        "Let $x$ and $x + h$ be any two arbitrary points on the $x$-axis. So the corresponding points on the $y$-axis will be $y = f(x)$ and $y = f(x + h)$ (on substituting $x$ and $x + h$ in the equation of trajectory of the hill) as shown in the image below.\n",
        "\n",
        "<center><img src = 'https://student-datasets-bucket.s3.ap-south-1.amazonaws.com/images/derivatives-15.jpg' width = 700></center>\n",
        "\n",
        "\\begin{align}\n",
        "\\therefore \\delta x &= x + h - x \\\\\n",
        "&= h\n",
        "\\end{align}\n",
        "\n",
        "and\n",
        "\n",
        "\\begin{align}\n",
        "\\delta y &= f(x + h) - f(x)\n",
        "\\end{align}\n",
        "\n",
        "So, the rate of small change in $y$ wrt the small change in $x$ is given as\n",
        "\n",
        "\\begin{equation}\n",
        "\\frac{\\delta y}{\\delta x} = \\frac{f(x + h) - f(x)}{h}\n",
        "\\tag{3.1}\n",
        "\\end{equation}\n",
        "\n",
        "And when the small change in the $x$ approaches, 0 i.e. $h \\rightarrow 0$, then the equation (3.1) becomes\n",
        "\n",
        "\\begin{equation}\n",
        "\\frac{dy}{dx} = \\lim_{h \\rightarrow 0} \\frac{f(x + h) - f(x)}{h}\n",
        "\\tag{3.2}\n",
        "\\end{equation}\n",
        "\n",
        "The term $\\lim_{h \\rightarrow 0}$ denotes that $h$ is approaching to 0 or limiting to 0.\n",
        "\n",
        "Now, on substituting the two expressions\n",
        "\n",
        "$$f(x + h) = \\frac{(x + h)^5}{5} - \\frac{26}{3}(x + h)^3 + 25(x + h)$$\n",
        "\n",
        "and\n",
        "\n",
        "$$f(x) = \\frac{x^5}{5} - \\frac{26}{3}x^3 + 25x$$\n",
        "\n",
        "in equation (3.2), we get\n",
        "\n",
        "\\begin{equation}\n",
        "\\frac{dy}{dx} = \\lim_{h \\rightarrow 0} \\frac{\\left( \\frac{1}{5}(x + h)^5 - \\frac{26}{3}(x + h)^3 + 25(x + h) \\right) - \\left( \\frac{x^5}{5} - \\frac{26}{3}x^3 + 25x \\right)}{h}\n",
        "\\tag{3.3}\n",
        "\\end{equation}\n",
        "\n",
        "In equation (3.3), let\n",
        "\n",
        "\\begin{equation}\n",
        "\\text{term 1} = \\frac{1}{5}(x + h)^5 - \\frac{26}{3}(x + h)^3 + 25(x + h)\n",
        "\\end{equation}\n",
        "\n",
        "and\n",
        "\n",
        "\\begin{equation}\n",
        "\\text{term 2} = \\frac{x^5}{5} - \\frac{26}{3}x^3 + 25x\n",
        "\\end{equation}\n",
        "\n",
        "So equation (3.3) becomes,\n",
        "\n",
        "\\begin{equation}\n",
        "\\frac{dy}{dx} = \\lim_{h \\rightarrow 0} \\frac{\\text{term 1} - \\text{term 2}}{h}\n",
        "\\tag{3.4}\n",
        "\\end{equation}"
      ]
    },
    {
      "cell_type": "markdown",
      "metadata": {
        "id": "la0QdaZAoBkC"
      },
      "source": [
        "---"
      ]
    },
    {
      "cell_type": "markdown",
      "metadata": {
        "id": "HDPFEIz_kEnH"
      },
      "source": [
        "#### Activity 4: Solving Derivative^^^\n",
        "\n",
        "Now, let's first expand $\\text{term 1}$ separately using the binomial expansion i.e.\n",
        "\n",
        "\\begin{align}\n",
        "(a + b)^n &= \\sum_{r = 0}^n {}^nC_r a^{n - r} b^r \\\\\n",
        "&= {}^nC_0 a^n b^0 + {}^nC_1 a^{n - 1} b + {}^nC_2 a^{n - 2} b^2 + \\dots + {}^nC_{n - 1} a^1 b^{n - 1} + {}^nC_n a^0 b^n    \n",
        "\\end{align}\n",
        "\n",
        "and\n",
        "\n",
        "\\begin{equation}\n",
        "{}^nC_r = \\frac{n!}{(n - r)! r!}\n",
        "\\end{equation}\n",
        "\n",
        "So upon expansion, $\\text{term 1}$ becomes\n",
        "\n",
        "\\begin{align}\n",
        "\\text{term 1} &= \\frac{1}{5}(x + h)^5 - \\frac{26}{3}(x + h)^3 - 25(x + h) \\\\\n",
        "&= \\frac{1}{5} \\left( {}^5C_0 x^5 + {}^5C_1 x^4 h + {}^5C_2 x^3 h^2 + {}^5C_3 x^2 h^3 + {}^5C_4 x h^4 + {}^5C_5 h^5 \\right) - \\frac{26}{3} \\left( x^3 + 3x^2h + 3xh^2 + h^3 \\right) + 25(x + h) \\\\\n",
        "&= \\frac{1}{5} \\left( x^5 + 5 x^4 h + 10 x^3 h^2 + 10 x^2 h^3 + 5 x h^4 + h^5 \\right) - \\frac{26}{3} \\left( x^3 + 3x^2h + 3xh^2 + h^3 \\right) + 25(x + h)\n",
        "\\end{align}\n",
        "\n",
        "On substituting the terms (1) and (2) in equation (3.4), we get\n",
        "\n",
        "\\begin{equation}\n",
        "\\frac{dy}{dx} = \\lim_{h \\rightarrow 0} \\frac{\\left( \\frac{1}{5}(x^5 + 5 x^4 h + 10 x^3 h^2 + 10 x^2 h^3 + 5 x h^4 + h^5) - \\frac{26}{3}(x^3 + 3x^2h + 3xh^2 + h^3) + 25(x + h) \\right) - \\left( \\frac{x^5}{5} - \\frac{26}{3}x^3 + 25x \\right)}{h}\n",
        "\\tag{4.1}\n",
        "\\end{equation}\n",
        "\n",
        "In the above equation, let's neglect all the higher powers of $h$ i.e., $h^2, h^3, h^4$ and $h^5$ because we assume that $h$ approaches to 0 or it is very very small, say $h = \\frac{1}{10^5}$. So $h^2 = \\frac{1}{10^{10}}$\n",
        "\n",
        "Hence, on neglecting all the terms having higher powers of $h$ in equation (4.1), we get\n",
        "\n",
        "\\begin{align}\n",
        "\\frac{dy}{dx} &= \\lim_{h \\rightarrow 0} \\frac{\\left( \\frac{1}{5}(x^5 + 5 x^4 h) - \\frac{26}{3}(x^3 + 3x^2h) + 25(x + h) \\right) - \\left( \\frac{x^5}{5} - \\frac{26}{3}x^3 + 25x \\right)}{h} \\\\\n",
        "&= \\lim_{h \\rightarrow 0} \\frac{ \\frac{x^5}{5} + x^4 h - \\frac{26}{3}x^3 - 26 x^2h + 25x + 25h  - \\frac{x^5}{5} + \\frac{26}{3}x^3 - 25x}{h} \\\\\n",
        "&= \\lim_{h \\rightarrow 0} \\frac{ x^4 h  - 26 x^2h + 25h}{h} \\\\\n",
        "&= \\lim_{h \\rightarrow 0} \\frac{h (x^4  - 26 x^2 + 25)}{h} \\\\\n",
        "&= \\lim_{h \\rightarrow 0} \\space{} (x^4  - 26 x^2 + 25) \\\\\n",
        "\\Rightarrow \\frac{dy}{dx} &= x^4  - 26 x^2 + 25\n",
        "\\end{align}\n",
        "\n",
        "Finally, we obtained the derivative of $y = \\frac{x^5}{5} - \\frac{26}{3}x^3 + 25x$ wrt $x$. In other words, it is the rate of a very small change in $y$ wrt the very small change in $x$.\n",
        "\n",
        "It is also the slope of the tangent to the curve as shown in the image below.\n",
        "\n",
        "<center><img src = 'https://student-datasets-bucket.s3.ap-south-1.amazonaws.com/images/derivatives-16.jpg' width = 700></center>\n",
        "\n",
        "Because in $\\Delta ABC$\n",
        "\n",
        "\\begin{align}\n",
        "\\tan \\theta &= \\frac{AC}{CB} \\\\\n",
        "&= \\frac{f(x + h) - f(x)}{h}\n",
        "\\end{align}\n",
        "\n",
        "For a very small change, i.e., $h \\rightarrow 0$\n",
        "\n",
        "\\begin{align}\n",
        "\\tan \\theta &= \\lim_{h \\rightarrow 0} \\frac{f(x + h) - f(x)}{h} \\\\\n",
        "\\Rightarrow \\tan \\theta &= \\frac{dy}{dx}\n",
        "\\end{align}\n",
        "\n",
        "Now, if the slope of this tangent is 0, then\n",
        "\n",
        "\\begin{align}\n",
        "\\frac{dy}{dx} &= 0\\\\\n",
        "\\Rightarrow x^4  - 26 x^2 + 25 &= 0 \\\\\n",
        "\\Rightarrow (x^2 - 1)(x^2 - 25) &= 0 \\\\\n",
        "\\Rightarrow (x - 1)(x + 1)(x - 5)(x + 5) &= 0\n",
        "\\end{align}\n",
        "\n",
        "Hence, $x = -5, -1, 1$ and $x = 5$ are the points where the slopes of the tangents to the curvature of the hill are 0.\n",
        "\n",
        "<center><img src = 'https://student-datasets-bucket.s3.ap-south-1.amazonaws.com/images/derivatives-17.jpg' width = 700></center>\n",
        "\n",
        "And at $x = -5$, the value of $y$ will be maximum (peak of the hill) and at $x = 5$, the value of $y$ will be minimum (lowest height of the hill)."
      ]
    },
    {
      "cell_type": "code",
      "metadata": {
        "id": "-Khyh8mpxPl5",
        "colab": {
          "base_uri": "https://localhost:8080/"
        },
        "outputId": "345e666e-b54d-4c36-b93c-5412fb1cb75a"
      },
      "source": [
        "# S4.1: Calculate the maximum and minimum heights of the hill.\n",
        "print((-5**5/5)-((26/3)*-5**3)+25*-5)\n",
        "print((5**5/5)-((26/3)*5**3)+25*5)"
      ],
      "execution_count": null,
      "outputs": [
        {
          "output_type": "stream",
          "name": "stdout",
          "text": [
            "333.33333333333326\n",
            "-333.33333333333326\n"
          ]
        }
      ]
    },
    {
      "cell_type": "markdown",
      "metadata": {
        "id": "xGelRJXGyA26"
      },
      "source": [
        "**Note:** In physical terms, when the height of a landscape is negative, it means that part of the landscape is submerged under an ocean or a sea as shown in the image below.\n",
        "\n",
        "<center><img src = 'https://student-datasets-bucket.s3.ap-south-1.amazonaws.com/images/Carter-Hypso-500.jpg'>\n",
        "\n",
        "**Image credits:** *http://my.ilstu.edu/~jrcarter/LDEO/Geo201maps.htm*\n",
        "\n",
        "</center>\n",
        "\n",
        "Now that you have learnt the concept of derivatives, you are in a position to differentiate the regularised cost function wrt betas to calculate the optimum values of betas to build a logistic regression model. In other words, you are ready to calculate the rate of change in the cost function wrt change in betas. You will learn this in the next class.\n",
        "\n",
        "For the time being, let's stop here."
      ]
    },
    {
      "cell_type": "markdown",
      "metadata": {
        "id": "zwKTKKlRvdL9"
      },
      "source": [
        "---"
      ]
    }
  ]
}