{
  "nbformat": 4,
  "nbformat_minor": 0,
  "metadata": {
    "colab": {
      "provenance": [],
      "include_colab_link": true
    },
    "kernelspec": {
      "name": "python3",
      "display_name": "Python 3"
    },
    "language_info": {
      "name": "python"
    }
  },
  "cells": [
    {
      "cell_type": "markdown",
      "metadata": {
        "id": "view-in-github",
        "colab_type": "text"
      },
      "source": [
        "<a href=\"https://colab.research.google.com/github/twisha-k/Python_notes/blob/main/114_coding.ipynb\" target=\"_parent\"><img src=\"https://colab.research.google.com/assets/colab-badge.svg\" alt=\"Open In Colab\"/></a>"
      ]
    },
    {
      "cell_type": "markdown",
      "metadata": {
        "id": "NHHZqhO09_xE"
      },
      "source": [
        "#Lesson 114: Hierarchical Clustering -  Evaluation Metrics"
      ]
    },
    {
      "cell_type": "markdown",
      "metadata": {
        "id": "xEoEczGZ-I11"
      },
      "source": [
        "---"
      ]
    },
    {
      "cell_type": "markdown",
      "metadata": {
        "id": "SP5WvYTz_ia8"
      },
      "source": [
        "### Teacher-Student Activities\n",
        "\n",
        "In the previous class, we learned how to determine whether a given dataset is suitable for clustering or not. We implemented agglomerative Hierarchical clustering on an NGO dataset and obtained three clusters of countries.\n",
        "\n",
        "In this class, we will visualise and analyse the derived clusters  and also implement the K-Means algorithm on the same dataset. We will also evaluate both the clustering algorithms using certain similarity metrics.\n",
        "\n",
        "\n",
        "Before that, let us go through the concepts covered in the previous class and begin the class from **Activity 1: Visualising Clusters**\n",
        "\n",
        "\n",
        "\n",
        "\n",
        "\n"
      ]
    },
    {
      "cell_type": "markdown",
      "metadata": {
        "id": "WQhk-LPUYghL"
      },
      "source": [
        "---"
      ]
    },
    {
      "cell_type": "markdown",
      "metadata": {
        "id": "GRLc7uuBYhh6"
      },
      "source": [
        "#### NGO Problem Statement\n",
        "\n",
        "An international charitable NGO  raised around $\\$$10 million after a few funding programmes. The CEO of the NGO needs to decide which countries are in immediate need of this fund so that these funds are utilised optimally and effectively.\n",
        "\n",
        "Our job is to cluster the countries using some socio-economic and health factors that determine the overall development of the country and provide suggestions of the countries to the CEO of the NGO.\n",
        "\n",
        "We will use a dataset of 167 countries consisting of following attributes:\n",
        "\n",
        "|Attribute|Description|\n",
        "|-|-|\n",
        "|`country`|Name of the country.|\n",
        "|`child_mort` | Death of children under 5 years of age per 1000 live births.|\n",
        "|`exports`| Exports of goods and services per capita. Given as percentage of the GDP per capita.|\n",
        "|`health`| Total health spending per capita. Given as percentage of GDP per capita.|\n",
        "|`imports` | Imports of goods and services per capita. Given as percentage of the GDP per capita.|\n",
        "|`income` | Net income per person.|\n",
        "|`inflation` | The measurement of the annual growth rate of the Total GDP.|\n",
        "|`life_expec` | The average number of years a new born child would live if the current mortality patterns are to remain the same.|\n",
        "|`total_fer` |The number of children that would be born to each woman if the current age-fertility rates remain the same.|\n",
        "|`gdpp` | The GDP per capita. Calculated as the Total GDP divided by the total population.|\n",
        "\n",
        "**Dataset Credits:** https://www.kaggle.com/gauravduttakiit/help-international"
      ]
    },
    {
      "cell_type": "markdown",
      "metadata": {
        "id": "usKCQq1CYyGa"
      },
      "source": [
        "---"
      ]
    },
    {
      "cell_type": "markdown",
      "metadata": {
        "id": "i_T5fvmvYzMK"
      },
      "source": [
        "#### Loading the Dataset\n",
        "\n",
        "\n",
        "\n",
        "\n",
        "\n",
        "**Dataset Link:**  https://s3-whjr-curriculum-uploads.whjr.online/be99ea2b-cb07-4e52-b9ee-4c7e893ae48d.csv\n",
        "\n"
      ]
    },
    {
      "cell_type": "code",
      "metadata": {
        "id": "iHsD1Sfa8ObF",
        "colab": {
          "base_uri": "https://localhost:8080/",
          "height": 268
        },
        "outputId": "e4211d88-4654-4de5-e9ae-c47bb55c83b4"
      },
      "source": [
        "# Import the Python modules, read the dataset and create a Pandas DataFrame.\n",
        "import numpy as np\n",
        "import pandas as pd\n",
        "import matplotlib.pyplot as plt\n",
        "import seaborn as sns\n",
        "\n",
        "file_path = \"https://s3-whjr-curriculum-uploads.whjr.online/be99ea2b-cb07-4e52-b9ee-4c7e893ae48d.csv\"\n",
        "ngo_df = pd.read_csv(file_path)\n",
        "ngo_df.head()"
      ],
      "execution_count": null,
      "outputs": [
        {
          "output_type": "execute_result",
          "data": {
            "text/plain": [
              "               country  child_mort  exports  health  imports  income  \\\n",
              "0          Afghanistan        90.2     10.0    7.58     44.9    1610   \n",
              "1              Albania        16.6     28.0    6.55     48.6    9930   \n",
              "2              Algeria        27.3     38.4    4.17     31.4   12900   \n",
              "3               Angola       119.0     62.3    2.85     42.9    5900   \n",
              "4  Antigua and Barbuda        10.3     45.5    6.03     58.9   19100   \n",
              "\n",
              "   inflation  life_expec  total_fer   gdpp  \n",
              "0       9.44        56.2       5.82    553  \n",
              "1       4.49        76.3       1.65   4090  \n",
              "2      16.10        76.5       2.89   4460  \n",
              "3      22.40        60.1       6.16   3530  \n",
              "4       1.44        76.8       2.13  12200  "
            ],
            "text/html": [
              "\n",
              "  <div id=\"df-df921ad5-5286-4f69-9d78-4be60d7eec24\">\n",
              "    <div class=\"colab-df-container\">\n",
              "      <div>\n",
              "<style scoped>\n",
              "    .dataframe tbody tr th:only-of-type {\n",
              "        vertical-align: middle;\n",
              "    }\n",
              "\n",
              "    .dataframe tbody tr th {\n",
              "        vertical-align: top;\n",
              "    }\n",
              "\n",
              "    .dataframe thead th {\n",
              "        text-align: right;\n",
              "    }\n",
              "</style>\n",
              "<table border=\"1\" class=\"dataframe\">\n",
              "  <thead>\n",
              "    <tr style=\"text-align: right;\">\n",
              "      <th></th>\n",
              "      <th>country</th>\n",
              "      <th>child_mort</th>\n",
              "      <th>exports</th>\n",
              "      <th>health</th>\n",
              "      <th>imports</th>\n",
              "      <th>income</th>\n",
              "      <th>inflation</th>\n",
              "      <th>life_expec</th>\n",
              "      <th>total_fer</th>\n",
              "      <th>gdpp</th>\n",
              "    </tr>\n",
              "  </thead>\n",
              "  <tbody>\n",
              "    <tr>\n",
              "      <th>0</th>\n",
              "      <td>Afghanistan</td>\n",
              "      <td>90.2</td>\n",
              "      <td>10.0</td>\n",
              "      <td>7.58</td>\n",
              "      <td>44.9</td>\n",
              "      <td>1610</td>\n",
              "      <td>9.44</td>\n",
              "      <td>56.2</td>\n",
              "      <td>5.82</td>\n",
              "      <td>553</td>\n",
              "    </tr>\n",
              "    <tr>\n",
              "      <th>1</th>\n",
              "      <td>Albania</td>\n",
              "      <td>16.6</td>\n",
              "      <td>28.0</td>\n",
              "      <td>6.55</td>\n",
              "      <td>48.6</td>\n",
              "      <td>9930</td>\n",
              "      <td>4.49</td>\n",
              "      <td>76.3</td>\n",
              "      <td>1.65</td>\n",
              "      <td>4090</td>\n",
              "    </tr>\n",
              "    <tr>\n",
              "      <th>2</th>\n",
              "      <td>Algeria</td>\n",
              "      <td>27.3</td>\n",
              "      <td>38.4</td>\n",
              "      <td>4.17</td>\n",
              "      <td>31.4</td>\n",
              "      <td>12900</td>\n",
              "      <td>16.10</td>\n",
              "      <td>76.5</td>\n",
              "      <td>2.89</td>\n",
              "      <td>4460</td>\n",
              "    </tr>\n",
              "    <tr>\n",
              "      <th>3</th>\n",
              "      <td>Angola</td>\n",
              "      <td>119.0</td>\n",
              "      <td>62.3</td>\n",
              "      <td>2.85</td>\n",
              "      <td>42.9</td>\n",
              "      <td>5900</td>\n",
              "      <td>22.40</td>\n",
              "      <td>60.1</td>\n",
              "      <td>6.16</td>\n",
              "      <td>3530</td>\n",
              "    </tr>\n",
              "    <tr>\n",
              "      <th>4</th>\n",
              "      <td>Antigua and Barbuda</td>\n",
              "      <td>10.3</td>\n",
              "      <td>45.5</td>\n",
              "      <td>6.03</td>\n",
              "      <td>58.9</td>\n",
              "      <td>19100</td>\n",
              "      <td>1.44</td>\n",
              "      <td>76.8</td>\n",
              "      <td>2.13</td>\n",
              "      <td>12200</td>\n",
              "    </tr>\n",
              "  </tbody>\n",
              "</table>\n",
              "</div>\n",
              "      <button class=\"colab-df-convert\" onclick=\"convertToInteractive('df-df921ad5-5286-4f69-9d78-4be60d7eec24')\"\n",
              "              title=\"Convert this dataframe to an interactive table.\"\n",
              "              style=\"display:none;\">\n",
              "        \n",
              "  <svg xmlns=\"http://www.w3.org/2000/svg\" height=\"24px\"viewBox=\"0 0 24 24\"\n",
              "       width=\"24px\">\n",
              "    <path d=\"M0 0h24v24H0V0z\" fill=\"none\"/>\n",
              "    <path d=\"M18.56 5.44l.94 2.06.94-2.06 2.06-.94-2.06-.94-.94-2.06-.94 2.06-2.06.94zm-11 1L8.5 8.5l.94-2.06 2.06-.94-2.06-.94L8.5 2.5l-.94 2.06-2.06.94zm10 10l.94 2.06.94-2.06 2.06-.94-2.06-.94-.94-2.06-.94 2.06-2.06.94z\"/><path d=\"M17.41 7.96l-1.37-1.37c-.4-.4-.92-.59-1.43-.59-.52 0-1.04.2-1.43.59L10.3 9.45l-7.72 7.72c-.78.78-.78 2.05 0 2.83L4 21.41c.39.39.9.59 1.41.59.51 0 1.02-.2 1.41-.59l7.78-7.78 2.81-2.81c.8-.78.8-2.07 0-2.86zM5.41 20L4 18.59l7.72-7.72 1.47 1.35L5.41 20z\"/>\n",
              "  </svg>\n",
              "      </button>\n",
              "      \n",
              "  <style>\n",
              "    .colab-df-container {\n",
              "      display:flex;\n",
              "      flex-wrap:wrap;\n",
              "      gap: 12px;\n",
              "    }\n",
              "\n",
              "    .colab-df-convert {\n",
              "      background-color: #E8F0FE;\n",
              "      border: none;\n",
              "      border-radius: 50%;\n",
              "      cursor: pointer;\n",
              "      display: none;\n",
              "      fill: #1967D2;\n",
              "      height: 32px;\n",
              "      padding: 0 0 0 0;\n",
              "      width: 32px;\n",
              "    }\n",
              "\n",
              "    .colab-df-convert:hover {\n",
              "      background-color: #E2EBFA;\n",
              "      box-shadow: 0px 1px 2px rgba(60, 64, 67, 0.3), 0px 1px 3px 1px rgba(60, 64, 67, 0.15);\n",
              "      fill: #174EA6;\n",
              "    }\n",
              "\n",
              "    [theme=dark] .colab-df-convert {\n",
              "      background-color: #3B4455;\n",
              "      fill: #D2E3FC;\n",
              "    }\n",
              "\n",
              "    [theme=dark] .colab-df-convert:hover {\n",
              "      background-color: #434B5C;\n",
              "      box-shadow: 0px 1px 3px 1px rgba(0, 0, 0, 0.15);\n",
              "      filter: drop-shadow(0px 1px 2px rgba(0, 0, 0, 0.3));\n",
              "      fill: #FFFFFF;\n",
              "    }\n",
              "  </style>\n",
              "\n",
              "      <script>\n",
              "        const buttonEl =\n",
              "          document.querySelector('#df-df921ad5-5286-4f69-9d78-4be60d7eec24 button.colab-df-convert');\n",
              "        buttonEl.style.display =\n",
              "          google.colab.kernel.accessAllowed ? 'block' : 'none';\n",
              "\n",
              "        async function convertToInteractive(key) {\n",
              "          const element = document.querySelector('#df-df921ad5-5286-4f69-9d78-4be60d7eec24');\n",
              "          const dataTable =\n",
              "            await google.colab.kernel.invokeFunction('convertToInteractive',\n",
              "                                                     [key], {});\n",
              "          if (!dataTable) return;\n",
              "\n",
              "          const docLinkHtml = 'Like what you see? Visit the ' +\n",
              "            '<a target=\"_blank\" href=https://colab.research.google.com/notebooks/data_table.ipynb>data table notebook</a>'\n",
              "            + ' to learn more about interactive tables.';\n",
              "          element.innerHTML = '';\n",
              "          dataTable['output_type'] = 'display_data';\n",
              "          await google.colab.output.renderOutput(dataTable, element);\n",
              "          const docLink = document.createElement('div');\n",
              "          docLink.innerHTML = docLinkHtml;\n",
              "          element.appendChild(docLink);\n",
              "        }\n",
              "      </script>\n",
              "    </div>\n",
              "  </div>\n",
              "  "
            ]
          },
          "metadata": {},
          "execution_count": 1
        }
      ]
    },
    {
      "cell_type": "code",
      "metadata": {
        "id": "jFE7kg-OZU00",
        "colab": {
          "base_uri": "https://localhost:8080/"
        },
        "outputId": "d1a25baf-ce46-4f36-fecb-25991b347283"
      },
      "source": [
        "# Get the total number of rows and columns, data types of columns and missing values (if exist) in the dataset.\n",
        "ngo_df.info()"
      ],
      "execution_count": null,
      "outputs": [
        {
          "output_type": "stream",
          "name": "stdout",
          "text": [
            "<class 'pandas.core.frame.DataFrame'>\n",
            "RangeIndex: 167 entries, 0 to 166\n",
            "Data columns (total 10 columns):\n",
            " #   Column      Non-Null Count  Dtype  \n",
            "---  ------      --------------  -----  \n",
            " 0   country     167 non-null    object \n",
            " 1   child_mort  167 non-null    float64\n",
            " 2   exports     167 non-null    float64\n",
            " 3   health      167 non-null    float64\n",
            " 4   imports     167 non-null    float64\n",
            " 5   income      167 non-null    int64  \n",
            " 6   inflation   167 non-null    float64\n",
            " 7   life_expec  167 non-null    float64\n",
            " 8   total_fer   167 non-null    float64\n",
            " 9   gdpp        167 non-null    int64  \n",
            "dtypes: float64(7), int64(2), object(1)\n",
            "memory usage: 13.2+ KB\n"
          ]
        }
      ]
    },
    {
      "cell_type": "markdown",
      "metadata": {
        "id": "gIc3yG7yZiLc"
      },
      "source": [
        "There are **167 rows and 10 columns** and no missing values in the dataset. Out of the 10 columns, 9 are numerical and only 1 categorical column is present which is the name of the country."
      ]
    },
    {
      "cell_type": "markdown",
      "metadata": {
        "id": "iYnh6N7mcLVr"
      },
      "source": [
        "---"
      ]
    },
    {
      "cell_type": "markdown",
      "metadata": {
        "id": "ghG7bcBucMgK"
      },
      "source": [
        "#### Data Preparation and EDA\n",
        "\n",
        "From the dataset description, we may observe that  the values of  `exports`, `health`, and `imports` columns are expressed in the form of percentage of the GDP (`gdpp`).\n",
        "\n",
        "Let us change these column values from  percentage of total GDP to actual values, as the percentage values may not give a clear picture of that country.\n",
        "\n",
        "\n"
      ]
    },
    {
      "cell_type": "code",
      "metadata": {
        "id": "E8z5gTDQcY8X",
        "colab": {
          "base_uri": "https://localhost:8080/",
          "height": 268
        },
        "outputId": "f39a3f32-b53b-4847-d9d7-d756c853b320"
      },
      "source": [
        "# Convert column values from percentage to actual values.\n",
        "ngo_df['exports'] = (ngo_df['exports'] * ngo_df['gdpp']) / 100\n",
        "ngo_df['health'] = (ngo_df['health'] * ngo_df['gdpp']) / 100\n",
        "ngo_df['imports'] = (ngo_df['imports'] * ngo_df['gdpp']) / 100\n",
        "ngo_df.head()"
      ],
      "execution_count": null,
      "outputs": [
        {
          "output_type": "execute_result",
          "data": {
            "text/plain": [
              "               country  child_mort  exports    health   imports  income  \\\n",
              "0          Afghanistan        90.2    55.30   41.9174   248.297    1610   \n",
              "1              Albania        16.6  1145.20  267.8950  1987.740    9930   \n",
              "2              Algeria        27.3  1712.64  185.9820  1400.440   12900   \n",
              "3               Angola       119.0  2199.19  100.6050  1514.370    5900   \n",
              "4  Antigua and Barbuda        10.3  5551.00  735.6600  7185.800   19100   \n",
              "\n",
              "   inflation  life_expec  total_fer   gdpp  \n",
              "0       9.44        56.2       5.82    553  \n",
              "1       4.49        76.3       1.65   4090  \n",
              "2      16.10        76.5       2.89   4460  \n",
              "3      22.40        60.1       6.16   3530  \n",
              "4       1.44        76.8       2.13  12200  "
            ],
            "text/html": [
              "\n",
              "  <div id=\"df-ac00f6d8-3369-4752-8214-728c9eb8311c\">\n",
              "    <div class=\"colab-df-container\">\n",
              "      <div>\n",
              "<style scoped>\n",
              "    .dataframe tbody tr th:only-of-type {\n",
              "        vertical-align: middle;\n",
              "    }\n",
              "\n",
              "    .dataframe tbody tr th {\n",
              "        vertical-align: top;\n",
              "    }\n",
              "\n",
              "    .dataframe thead th {\n",
              "        text-align: right;\n",
              "    }\n",
              "</style>\n",
              "<table border=\"1\" class=\"dataframe\">\n",
              "  <thead>\n",
              "    <tr style=\"text-align: right;\">\n",
              "      <th></th>\n",
              "      <th>country</th>\n",
              "      <th>child_mort</th>\n",
              "      <th>exports</th>\n",
              "      <th>health</th>\n",
              "      <th>imports</th>\n",
              "      <th>income</th>\n",
              "      <th>inflation</th>\n",
              "      <th>life_expec</th>\n",
              "      <th>total_fer</th>\n",
              "      <th>gdpp</th>\n",
              "    </tr>\n",
              "  </thead>\n",
              "  <tbody>\n",
              "    <tr>\n",
              "      <th>0</th>\n",
              "      <td>Afghanistan</td>\n",
              "      <td>90.2</td>\n",
              "      <td>55.30</td>\n",
              "      <td>41.9174</td>\n",
              "      <td>248.297</td>\n",
              "      <td>1610</td>\n",
              "      <td>9.44</td>\n",
              "      <td>56.2</td>\n",
              "      <td>5.82</td>\n",
              "      <td>553</td>\n",
              "    </tr>\n",
              "    <tr>\n",
              "      <th>1</th>\n",
              "      <td>Albania</td>\n",
              "      <td>16.6</td>\n",
              "      <td>1145.20</td>\n",
              "      <td>267.8950</td>\n",
              "      <td>1987.740</td>\n",
              "      <td>9930</td>\n",
              "      <td>4.49</td>\n",
              "      <td>76.3</td>\n",
              "      <td>1.65</td>\n",
              "      <td>4090</td>\n",
              "    </tr>\n",
              "    <tr>\n",
              "      <th>2</th>\n",
              "      <td>Algeria</td>\n",
              "      <td>27.3</td>\n",
              "      <td>1712.64</td>\n",
              "      <td>185.9820</td>\n",
              "      <td>1400.440</td>\n",
              "      <td>12900</td>\n",
              "      <td>16.10</td>\n",
              "      <td>76.5</td>\n",
              "      <td>2.89</td>\n",
              "      <td>4460</td>\n",
              "    </tr>\n",
              "    <tr>\n",
              "      <th>3</th>\n",
              "      <td>Angola</td>\n",
              "      <td>119.0</td>\n",
              "      <td>2199.19</td>\n",
              "      <td>100.6050</td>\n",
              "      <td>1514.370</td>\n",
              "      <td>5900</td>\n",
              "      <td>22.40</td>\n",
              "      <td>60.1</td>\n",
              "      <td>6.16</td>\n",
              "      <td>3530</td>\n",
              "    </tr>\n",
              "    <tr>\n",
              "      <th>4</th>\n",
              "      <td>Antigua and Barbuda</td>\n",
              "      <td>10.3</td>\n",
              "      <td>5551.00</td>\n",
              "      <td>735.6600</td>\n",
              "      <td>7185.800</td>\n",
              "      <td>19100</td>\n",
              "      <td>1.44</td>\n",
              "      <td>76.8</td>\n",
              "      <td>2.13</td>\n",
              "      <td>12200</td>\n",
              "    </tr>\n",
              "  </tbody>\n",
              "</table>\n",
              "</div>\n",
              "      <button class=\"colab-df-convert\" onclick=\"convertToInteractive('df-ac00f6d8-3369-4752-8214-728c9eb8311c')\"\n",
              "              title=\"Convert this dataframe to an interactive table.\"\n",
              "              style=\"display:none;\">\n",
              "        \n",
              "  <svg xmlns=\"http://www.w3.org/2000/svg\" height=\"24px\"viewBox=\"0 0 24 24\"\n",
              "       width=\"24px\">\n",
              "    <path d=\"M0 0h24v24H0V0z\" fill=\"none\"/>\n",
              "    <path d=\"M18.56 5.44l.94 2.06.94-2.06 2.06-.94-2.06-.94-.94-2.06-.94 2.06-2.06.94zm-11 1L8.5 8.5l.94-2.06 2.06-.94-2.06-.94L8.5 2.5l-.94 2.06-2.06.94zm10 10l.94 2.06.94-2.06 2.06-.94-2.06-.94-.94-2.06-.94 2.06-2.06.94z\"/><path d=\"M17.41 7.96l-1.37-1.37c-.4-.4-.92-.59-1.43-.59-.52 0-1.04.2-1.43.59L10.3 9.45l-7.72 7.72c-.78.78-.78 2.05 0 2.83L4 21.41c.39.39.9.59 1.41.59.51 0 1.02-.2 1.41-.59l7.78-7.78 2.81-2.81c.8-.78.8-2.07 0-2.86zM5.41 20L4 18.59l7.72-7.72 1.47 1.35L5.41 20z\"/>\n",
              "  </svg>\n",
              "      </button>\n",
              "      \n",
              "  <style>\n",
              "    .colab-df-container {\n",
              "      display:flex;\n",
              "      flex-wrap:wrap;\n",
              "      gap: 12px;\n",
              "    }\n",
              "\n",
              "    .colab-df-convert {\n",
              "      background-color: #E8F0FE;\n",
              "      border: none;\n",
              "      border-radius: 50%;\n",
              "      cursor: pointer;\n",
              "      display: none;\n",
              "      fill: #1967D2;\n",
              "      height: 32px;\n",
              "      padding: 0 0 0 0;\n",
              "      width: 32px;\n",
              "    }\n",
              "\n",
              "    .colab-df-convert:hover {\n",
              "      background-color: #E2EBFA;\n",
              "      box-shadow: 0px 1px 2px rgba(60, 64, 67, 0.3), 0px 1px 3px 1px rgba(60, 64, 67, 0.15);\n",
              "      fill: #174EA6;\n",
              "    }\n",
              "\n",
              "    [theme=dark] .colab-df-convert {\n",
              "      background-color: #3B4455;\n",
              "      fill: #D2E3FC;\n",
              "    }\n",
              "\n",
              "    [theme=dark] .colab-df-convert:hover {\n",
              "      background-color: #434B5C;\n",
              "      box-shadow: 0px 1px 3px 1px rgba(0, 0, 0, 0.15);\n",
              "      filter: drop-shadow(0px 1px 2px rgba(0, 0, 0, 0.3));\n",
              "      fill: #FFFFFF;\n",
              "    }\n",
              "  </style>\n",
              "\n",
              "      <script>\n",
              "        const buttonEl =\n",
              "          document.querySelector('#df-ac00f6d8-3369-4752-8214-728c9eb8311c button.colab-df-convert');\n",
              "        buttonEl.style.display =\n",
              "          google.colab.kernel.accessAllowed ? 'block' : 'none';\n",
              "\n",
              "        async function convertToInteractive(key) {\n",
              "          const element = document.querySelector('#df-ac00f6d8-3369-4752-8214-728c9eb8311c');\n",
              "          const dataTable =\n",
              "            await google.colab.kernel.invokeFunction('convertToInteractive',\n",
              "                                                     [key], {});\n",
              "          if (!dataTable) return;\n",
              "\n",
              "          const docLinkHtml = 'Like what you see? Visit the ' +\n",
              "            '<a target=\"_blank\" href=https://colab.research.google.com/notebooks/data_table.ipynb>data table notebook</a>'\n",
              "            + ' to learn more about interactive tables.';\n",
              "          element.innerHTML = '';\n",
              "          dataTable['output_type'] = 'display_data';\n",
              "          await google.colab.output.renderOutput(dataTable, element);\n",
              "          const docLink = document.createElement('div');\n",
              "          docLink.innerHTML = docLinkHtml;\n",
              "          element.appendChild(docLink);\n",
              "        }\n",
              "      </script>\n",
              "    </div>\n",
              "  </div>\n",
              "  "
            ]
          },
          "metadata": {},
          "execution_count": 3
        }
      ]
    },
    {
      "cell_type": "markdown",
      "metadata": {
        "id": "67CuBbSJkPqW"
      },
      "source": [
        "Now, create a new DataFrame consisting of only numeric columns. Also we will scale the numerical DataFrame so that all the columns have the same mean and variance to perform clustering."
      ]
    },
    {
      "cell_type": "code",
      "metadata": {
        "id": "pz5xFwORJAZH",
        "colab": {
          "base_uri": "https://localhost:8080/",
          "height": 206
        },
        "outputId": "cc3bdf67-b63b-4699-b02c-a65c0274b779"
      },
      "source": [
        "# Keep only the numerical columns.\n",
        "ngo_num = ngo_df.drop(['country'], axis = 1)\n",
        "ngo_num.head(5)"
      ],
      "execution_count": null,
      "outputs": [
        {
          "output_type": "execute_result",
          "data": {
            "text/plain": [
              "   child_mort  exports    health   imports  income  inflation  life_expec  \\\n",
              "0        90.2    55.30   41.9174   248.297    1610       9.44        56.2   \n",
              "1        16.6  1145.20  267.8950  1987.740    9930       4.49        76.3   \n",
              "2        27.3  1712.64  185.9820  1400.440   12900      16.10        76.5   \n",
              "3       119.0  2199.19  100.6050  1514.370    5900      22.40        60.1   \n",
              "4        10.3  5551.00  735.6600  7185.800   19100       1.44        76.8   \n",
              "\n",
              "   total_fer   gdpp  \n",
              "0       5.82    553  \n",
              "1       1.65   4090  \n",
              "2       2.89   4460  \n",
              "3       6.16   3530  \n",
              "4       2.13  12200  "
            ],
            "text/html": [
              "\n",
              "  <div id=\"df-051e856e-9527-4f83-b193-39dfff537975\">\n",
              "    <div class=\"colab-df-container\">\n",
              "      <div>\n",
              "<style scoped>\n",
              "    .dataframe tbody tr th:only-of-type {\n",
              "        vertical-align: middle;\n",
              "    }\n",
              "\n",
              "    .dataframe tbody tr th {\n",
              "        vertical-align: top;\n",
              "    }\n",
              "\n",
              "    .dataframe thead th {\n",
              "        text-align: right;\n",
              "    }\n",
              "</style>\n",
              "<table border=\"1\" class=\"dataframe\">\n",
              "  <thead>\n",
              "    <tr style=\"text-align: right;\">\n",
              "      <th></th>\n",
              "      <th>child_mort</th>\n",
              "      <th>exports</th>\n",
              "      <th>health</th>\n",
              "      <th>imports</th>\n",
              "      <th>income</th>\n",
              "      <th>inflation</th>\n",
              "      <th>life_expec</th>\n",
              "      <th>total_fer</th>\n",
              "      <th>gdpp</th>\n",
              "    </tr>\n",
              "  </thead>\n",
              "  <tbody>\n",
              "    <tr>\n",
              "      <th>0</th>\n",
              "      <td>90.2</td>\n",
              "      <td>55.30</td>\n",
              "      <td>41.9174</td>\n",
              "      <td>248.297</td>\n",
              "      <td>1610</td>\n",
              "      <td>9.44</td>\n",
              "      <td>56.2</td>\n",
              "      <td>5.82</td>\n",
              "      <td>553</td>\n",
              "    </tr>\n",
              "    <tr>\n",
              "      <th>1</th>\n",
              "      <td>16.6</td>\n",
              "      <td>1145.20</td>\n",
              "      <td>267.8950</td>\n",
              "      <td>1987.740</td>\n",
              "      <td>9930</td>\n",
              "      <td>4.49</td>\n",
              "      <td>76.3</td>\n",
              "      <td>1.65</td>\n",
              "      <td>4090</td>\n",
              "    </tr>\n",
              "    <tr>\n",
              "      <th>2</th>\n",
              "      <td>27.3</td>\n",
              "      <td>1712.64</td>\n",
              "      <td>185.9820</td>\n",
              "      <td>1400.440</td>\n",
              "      <td>12900</td>\n",
              "      <td>16.10</td>\n",
              "      <td>76.5</td>\n",
              "      <td>2.89</td>\n",
              "      <td>4460</td>\n",
              "    </tr>\n",
              "    <tr>\n",
              "      <th>3</th>\n",
              "      <td>119.0</td>\n",
              "      <td>2199.19</td>\n",
              "      <td>100.6050</td>\n",
              "      <td>1514.370</td>\n",
              "      <td>5900</td>\n",
              "      <td>22.40</td>\n",
              "      <td>60.1</td>\n",
              "      <td>6.16</td>\n",
              "      <td>3530</td>\n",
              "    </tr>\n",
              "    <tr>\n",
              "      <th>4</th>\n",
              "      <td>10.3</td>\n",
              "      <td>5551.00</td>\n",
              "      <td>735.6600</td>\n",
              "      <td>7185.800</td>\n",
              "      <td>19100</td>\n",
              "      <td>1.44</td>\n",
              "      <td>76.8</td>\n",
              "      <td>2.13</td>\n",
              "      <td>12200</td>\n",
              "    </tr>\n",
              "  </tbody>\n",
              "</table>\n",
              "</div>\n",
              "      <button class=\"colab-df-convert\" onclick=\"convertToInteractive('df-051e856e-9527-4f83-b193-39dfff537975')\"\n",
              "              title=\"Convert this dataframe to an interactive table.\"\n",
              "              style=\"display:none;\">\n",
              "        \n",
              "  <svg xmlns=\"http://www.w3.org/2000/svg\" height=\"24px\"viewBox=\"0 0 24 24\"\n",
              "       width=\"24px\">\n",
              "    <path d=\"M0 0h24v24H0V0z\" fill=\"none\"/>\n",
              "    <path d=\"M18.56 5.44l.94 2.06.94-2.06 2.06-.94-2.06-.94-.94-2.06-.94 2.06-2.06.94zm-11 1L8.5 8.5l.94-2.06 2.06-.94-2.06-.94L8.5 2.5l-.94 2.06-2.06.94zm10 10l.94 2.06.94-2.06 2.06-.94-2.06-.94-.94-2.06-.94 2.06-2.06.94z\"/><path d=\"M17.41 7.96l-1.37-1.37c-.4-.4-.92-.59-1.43-.59-.52 0-1.04.2-1.43.59L10.3 9.45l-7.72 7.72c-.78.78-.78 2.05 0 2.83L4 21.41c.39.39.9.59 1.41.59.51 0 1.02-.2 1.41-.59l7.78-7.78 2.81-2.81c.8-.78.8-2.07 0-2.86zM5.41 20L4 18.59l7.72-7.72 1.47 1.35L5.41 20z\"/>\n",
              "  </svg>\n",
              "      </button>\n",
              "      \n",
              "  <style>\n",
              "    .colab-df-container {\n",
              "      display:flex;\n",
              "      flex-wrap:wrap;\n",
              "      gap: 12px;\n",
              "    }\n",
              "\n",
              "    .colab-df-convert {\n",
              "      background-color: #E8F0FE;\n",
              "      border: none;\n",
              "      border-radius: 50%;\n",
              "      cursor: pointer;\n",
              "      display: none;\n",
              "      fill: #1967D2;\n",
              "      height: 32px;\n",
              "      padding: 0 0 0 0;\n",
              "      width: 32px;\n",
              "    }\n",
              "\n",
              "    .colab-df-convert:hover {\n",
              "      background-color: #E2EBFA;\n",
              "      box-shadow: 0px 1px 2px rgba(60, 64, 67, 0.3), 0px 1px 3px 1px rgba(60, 64, 67, 0.15);\n",
              "      fill: #174EA6;\n",
              "    }\n",
              "\n",
              "    [theme=dark] .colab-df-convert {\n",
              "      background-color: #3B4455;\n",
              "      fill: #D2E3FC;\n",
              "    }\n",
              "\n",
              "    [theme=dark] .colab-df-convert:hover {\n",
              "      background-color: #434B5C;\n",
              "      box-shadow: 0px 1px 3px 1px rgba(0, 0, 0, 0.15);\n",
              "      filter: drop-shadow(0px 1px 2px rgba(0, 0, 0, 0.3));\n",
              "      fill: #FFFFFF;\n",
              "    }\n",
              "  </style>\n",
              "\n",
              "      <script>\n",
              "        const buttonEl =\n",
              "          document.querySelector('#df-051e856e-9527-4f83-b193-39dfff537975 button.colab-df-convert');\n",
              "        buttonEl.style.display =\n",
              "          google.colab.kernel.accessAllowed ? 'block' : 'none';\n",
              "\n",
              "        async function convertToInteractive(key) {\n",
              "          const element = document.querySelector('#df-051e856e-9527-4f83-b193-39dfff537975');\n",
              "          const dataTable =\n",
              "            await google.colab.kernel.invokeFunction('convertToInteractive',\n",
              "                                                     [key], {});\n",
              "          if (!dataTable) return;\n",
              "\n",
              "          const docLinkHtml = 'Like what you see? Visit the ' +\n",
              "            '<a target=\"_blank\" href=https://colab.research.google.com/notebooks/data_table.ipynb>data table notebook</a>'\n",
              "            + ' to learn more about interactive tables.';\n",
              "          element.innerHTML = '';\n",
              "          dataTable['output_type'] = 'display_data';\n",
              "          await google.colab.output.renderOutput(dataTable, element);\n",
              "          const docLink = document.createElement('div');\n",
              "          docLink.innerHTML = docLinkHtml;\n",
              "          element.appendChild(docLink);\n",
              "        }\n",
              "      </script>\n",
              "    </div>\n",
              "  </div>\n",
              "  "
            ]
          },
          "metadata": {},
          "execution_count": 4
        }
      ]
    },
    {
      "cell_type": "markdown",
      "source": [
        "Now, normalize the columns of the DataFrame to scale them in a particular range."
      ],
      "metadata": {
        "id": "_mW_JNc-_VSL"
      }
    },
    {
      "cell_type": "code",
      "metadata": {
        "id": "iix1gzzInc1-",
        "colab": {
          "base_uri": "https://localhost:8080/",
          "height": 206
        },
        "outputId": "81229c32-8d39-4e20-a513-1634911f6336"
      },
      "source": [
        "# Normalise the column values.\n",
        "# Import StandardScaler module from sklearn\n",
        "from sklearn.preprocessing import StandardScaler\n",
        "\n",
        "# Create an object for StandardScaler()\n",
        "standard_scaler = StandardScaler()\n",
        "\n",
        "# Fit and transform the DataFrame\n",
        "scaled_values = standard_scaler.fit_transform(ngo_num)\n",
        "ngo_scaled = pd.DataFrame(scaled_values)\n",
        "ngo_scaled.columns = ngo_num.columns\n",
        "ngo_scaled.head()"
      ],
      "execution_count": null,
      "outputs": [
        {
          "output_type": "execute_result",
          "data": {
            "text/plain": [
              "   child_mort   exports    health   imports    income  inflation  life_expec  \\\n",
              "0    1.291532 -0.411011 -0.565040 -0.432276 -0.808245   0.157336   -1.619092   \n",
              "1   -0.538949 -0.350191 -0.439218 -0.313677 -0.375369  -0.312347    0.647866   \n",
              "2   -0.272833 -0.318526 -0.484826 -0.353720 -0.220844   0.789274    0.670423   \n",
              "3    2.007808 -0.291375 -0.532363 -0.345953 -0.585043   1.387054   -1.179234   \n",
              "4   -0.695634 -0.104331 -0.178771  0.040735  0.101732  -0.601749    0.704258   \n",
              "\n",
              "   total_fer      gdpp  \n",
              "0   1.902882 -0.679180  \n",
              "1  -0.859973 -0.485623  \n",
              "2  -0.038404 -0.465376  \n",
              "3   2.128151 -0.516268  \n",
              "4  -0.541946 -0.041817  "
            ],
            "text/html": [
              "\n",
              "  <div id=\"df-37529f95-7425-4a18-98a1-946b82c5312d\">\n",
              "    <div class=\"colab-df-container\">\n",
              "      <div>\n",
              "<style scoped>\n",
              "    .dataframe tbody tr th:only-of-type {\n",
              "        vertical-align: middle;\n",
              "    }\n",
              "\n",
              "    .dataframe tbody tr th {\n",
              "        vertical-align: top;\n",
              "    }\n",
              "\n",
              "    .dataframe thead th {\n",
              "        text-align: right;\n",
              "    }\n",
              "</style>\n",
              "<table border=\"1\" class=\"dataframe\">\n",
              "  <thead>\n",
              "    <tr style=\"text-align: right;\">\n",
              "      <th></th>\n",
              "      <th>child_mort</th>\n",
              "      <th>exports</th>\n",
              "      <th>health</th>\n",
              "      <th>imports</th>\n",
              "      <th>income</th>\n",
              "      <th>inflation</th>\n",
              "      <th>life_expec</th>\n",
              "      <th>total_fer</th>\n",
              "      <th>gdpp</th>\n",
              "    </tr>\n",
              "  </thead>\n",
              "  <tbody>\n",
              "    <tr>\n",
              "      <th>0</th>\n",
              "      <td>1.291532</td>\n",
              "      <td>-0.411011</td>\n",
              "      <td>-0.565040</td>\n",
              "      <td>-0.432276</td>\n",
              "      <td>-0.808245</td>\n",
              "      <td>0.157336</td>\n",
              "      <td>-1.619092</td>\n",
              "      <td>1.902882</td>\n",
              "      <td>-0.679180</td>\n",
              "    </tr>\n",
              "    <tr>\n",
              "      <th>1</th>\n",
              "      <td>-0.538949</td>\n",
              "      <td>-0.350191</td>\n",
              "      <td>-0.439218</td>\n",
              "      <td>-0.313677</td>\n",
              "      <td>-0.375369</td>\n",
              "      <td>-0.312347</td>\n",
              "      <td>0.647866</td>\n",
              "      <td>-0.859973</td>\n",
              "      <td>-0.485623</td>\n",
              "    </tr>\n",
              "    <tr>\n",
              "      <th>2</th>\n",
              "      <td>-0.272833</td>\n",
              "      <td>-0.318526</td>\n",
              "      <td>-0.484826</td>\n",
              "      <td>-0.353720</td>\n",
              "      <td>-0.220844</td>\n",
              "      <td>0.789274</td>\n",
              "      <td>0.670423</td>\n",
              "      <td>-0.038404</td>\n",
              "      <td>-0.465376</td>\n",
              "    </tr>\n",
              "    <tr>\n",
              "      <th>3</th>\n",
              "      <td>2.007808</td>\n",
              "      <td>-0.291375</td>\n",
              "      <td>-0.532363</td>\n",
              "      <td>-0.345953</td>\n",
              "      <td>-0.585043</td>\n",
              "      <td>1.387054</td>\n",
              "      <td>-1.179234</td>\n",
              "      <td>2.128151</td>\n",
              "      <td>-0.516268</td>\n",
              "    </tr>\n",
              "    <tr>\n",
              "      <th>4</th>\n",
              "      <td>-0.695634</td>\n",
              "      <td>-0.104331</td>\n",
              "      <td>-0.178771</td>\n",
              "      <td>0.040735</td>\n",
              "      <td>0.101732</td>\n",
              "      <td>-0.601749</td>\n",
              "      <td>0.704258</td>\n",
              "      <td>-0.541946</td>\n",
              "      <td>-0.041817</td>\n",
              "    </tr>\n",
              "  </tbody>\n",
              "</table>\n",
              "</div>\n",
              "      <button class=\"colab-df-convert\" onclick=\"convertToInteractive('df-37529f95-7425-4a18-98a1-946b82c5312d')\"\n",
              "              title=\"Convert this dataframe to an interactive table.\"\n",
              "              style=\"display:none;\">\n",
              "        \n",
              "  <svg xmlns=\"http://www.w3.org/2000/svg\" height=\"24px\"viewBox=\"0 0 24 24\"\n",
              "       width=\"24px\">\n",
              "    <path d=\"M0 0h24v24H0V0z\" fill=\"none\"/>\n",
              "    <path d=\"M18.56 5.44l.94 2.06.94-2.06 2.06-.94-2.06-.94-.94-2.06-.94 2.06-2.06.94zm-11 1L8.5 8.5l.94-2.06 2.06-.94-2.06-.94L8.5 2.5l-.94 2.06-2.06.94zm10 10l.94 2.06.94-2.06 2.06-.94-2.06-.94-.94-2.06-.94 2.06-2.06.94z\"/><path d=\"M17.41 7.96l-1.37-1.37c-.4-.4-.92-.59-1.43-.59-.52 0-1.04.2-1.43.59L10.3 9.45l-7.72 7.72c-.78.78-.78 2.05 0 2.83L4 21.41c.39.39.9.59 1.41.59.51 0 1.02-.2 1.41-.59l7.78-7.78 2.81-2.81c.8-.78.8-2.07 0-2.86zM5.41 20L4 18.59l7.72-7.72 1.47 1.35L5.41 20z\"/>\n",
              "  </svg>\n",
              "      </button>\n",
              "      \n",
              "  <style>\n",
              "    .colab-df-container {\n",
              "      display:flex;\n",
              "      flex-wrap:wrap;\n",
              "      gap: 12px;\n",
              "    }\n",
              "\n",
              "    .colab-df-convert {\n",
              "      background-color: #E8F0FE;\n",
              "      border: none;\n",
              "      border-radius: 50%;\n",
              "      cursor: pointer;\n",
              "      display: none;\n",
              "      fill: #1967D2;\n",
              "      height: 32px;\n",
              "      padding: 0 0 0 0;\n",
              "      width: 32px;\n",
              "    }\n",
              "\n",
              "    .colab-df-convert:hover {\n",
              "      background-color: #E2EBFA;\n",
              "      box-shadow: 0px 1px 2px rgba(60, 64, 67, 0.3), 0px 1px 3px 1px rgba(60, 64, 67, 0.15);\n",
              "      fill: #174EA6;\n",
              "    }\n",
              "\n",
              "    [theme=dark] .colab-df-convert {\n",
              "      background-color: #3B4455;\n",
              "      fill: #D2E3FC;\n",
              "    }\n",
              "\n",
              "    [theme=dark] .colab-df-convert:hover {\n",
              "      background-color: #434B5C;\n",
              "      box-shadow: 0px 1px 3px 1px rgba(0, 0, 0, 0.15);\n",
              "      filter: drop-shadow(0px 1px 2px rgba(0, 0, 0, 0.3));\n",
              "      fill: #FFFFFF;\n",
              "    }\n",
              "  </style>\n",
              "\n",
              "      <script>\n",
              "        const buttonEl =\n",
              "          document.querySelector('#df-37529f95-7425-4a18-98a1-946b82c5312d button.colab-df-convert');\n",
              "        buttonEl.style.display =\n",
              "          google.colab.kernel.accessAllowed ? 'block' : 'none';\n",
              "\n",
              "        async function convertToInteractive(key) {\n",
              "          const element = document.querySelector('#df-37529f95-7425-4a18-98a1-946b82c5312d');\n",
              "          const dataTable =\n",
              "            await google.colab.kernel.invokeFunction('convertToInteractive',\n",
              "                                                     [key], {});\n",
              "          if (!dataTable) return;\n",
              "\n",
              "          const docLinkHtml = 'Like what you see? Visit the ' +\n",
              "            '<a target=\"_blank\" href=https://colab.research.google.com/notebooks/data_table.ipynb>data table notebook</a>'\n",
              "            + ' to learn more about interactive tables.';\n",
              "          element.innerHTML = '';\n",
              "          dataTable['output_type'] = 'display_data';\n",
              "          await google.colab.output.renderOutput(dataTable, element);\n",
              "          const docLink = document.createElement('div');\n",
              "          docLink.innerHTML = docLinkHtml;\n",
              "          element.appendChild(docLink);\n",
              "        }\n",
              "      </script>\n",
              "    </div>\n",
              "  </div>\n",
              "  "
            ]
          },
          "metadata": {},
          "execution_count": 5
        }
      ]
    },
    {
      "cell_type": "markdown",
      "metadata": {
        "id": "9ck7-JHTI_D_"
      },
      "source": [
        "Now, we will try to understand the correlation between variables. For this, compute the correlation matrix among all the numeric variables and plot a heat map."
      ]
    },
    {
      "cell_type": "code",
      "metadata": {
        "id": "WKklroXVrLMO",
        "colab": {
          "base_uri": "https://localhost:8080/",
          "height": 634
        },
        "outputId": "ff752b93-6362-4bcc-c099-f5a6aec95c38"
      },
      "source": [
        "# Create a corrleation heatmap.\n",
        "corr_df = ngo_scaled.corr()\n",
        "plt.figure(figsize = (7, 5), dpi = 125)\n",
        "sns.heatmap(corr_df, annot = True)\n",
        "plt.show()"
      ],
      "execution_count": null,
      "outputs": [
        {
          "output_type": "display_data",
          "data": {
            "text/plain": [
              "<Figure size 875x625 with 2 Axes>"
            ],
            "image/png": "[encoded data removed]"
          },
          "metadata": {}
        }
      ]
    },
    {
      "cell_type": "markdown",
      "metadata": {
        "id": "hZAT6cavtrj0"
      },
      "source": [
        "From the above correlation heatmap, we can observe that:\n",
        "\n",
        "- `gdpp` and `income` has  high positive correlated with correlation of `0.9`. This means that the countries where people have high income will have high GDP.\n",
        "\n",
        "- `child_mort` and `life_expec` are negatively correlated with a high correlation of `-0.89`. Thus, child mortality rate greatly impacts the overall life expectancy of the population.\n",
        "\n",
        "- `child_mort` and `total_fer` are highly correlated with correlation of `0.85`. It may be due to the fact that if child mortality is higher, people may opt for more children.\n",
        "\n",
        "- `imports` and `exports` are highly correlated with correlation of `0.99`.\n",
        "\n",
        "- `gdpp` and `health` are highly correlated with correlation of `0.92`.\n",
        "\n",
        "- `life_expec` and `total_fer` are negatively correlated with a high correlation of `-0.76`.  It may be due to unavailability of  health care system for better care for children as well as care for family planning.\n",
        "\n",
        "Let us now plot boxplots to understand the distribution of numerical columns and detect whether there are any outliers in the dataset. Use subplots to create these boxplots.\n",
        "\n",
        "Before plotting boxplots, let us give colours to our boxplots by building a colour palette. To build a colour palette, use `color_palette()` function of `seaborn` module which will return a list of colours defining a palette.\n",
        "\n",
        "For more detailed syntax of `color_palette()` function, use `help()` function."
      ]
    },
    {
      "cell_type": "code",
      "metadata": {
        "id": "YuoHbMQxmldA",
        "colab": {
          "base_uri": "https://localhost:8080/",
          "height": 135
        },
        "outputId": "ebfc910e-1d14-4623-dd33-80e3d0106b3d"
      },
      "source": [
        "# Save a palette to a variable.\n",
        "bp_palette = sns.color_palette(\"bright\")\n",
        "\n",
        "# Use palplot and pass in the variable:\n",
        "sns.palplot(bp_palette)\n",
        "type(bp_palette)"
      ],
      "execution_count": null,
      "outputs": [
        {
          "output_type": "execute_result",
          "data": {
            "text/plain": [
              "seaborn.palettes._ColorPalette"
            ]
          },
          "metadata": {},
          "execution_count": 7
        },
        {
          "output_type": "display_data",
          "data": {
            "text/plain": [
              "<Figure size 1000x100 with 1 Axes>"
            ],
            "image/png": "[encoded data removed]"
          },
          "metadata": {}
        }
      ]
    },
    {
      "cell_type": "markdown",
      "source": [
        "Now, let's create boxplots for the numeric columns in the DataFrame using subplots."
      ],
      "metadata": {
        "id": "6jIxOCFSU7tF"
      }
    },
    {
      "cell_type": "code",
      "metadata": {
        "id": "6zG1cMj3EJDP",
        "colab": {
          "base_uri": "https://localhost:8080/",
          "height": 604
        },
        "outputId": "851311b1-b154-449b-ea2d-7608eba0e4c5"
      },
      "source": [
        "# Create boxplots for numeric columns using subplot.\n",
        "fig, axis = plt.subplots(nrows = 3, ncols = 3, figsize = (15, 10), dpi = 100, sharex = False)\n",
        "# As there are 9 columns, we created subplot having 3 rows and 3 columns.\n",
        "count = 0\n",
        "\n",
        "for i in range(0, 3):\n",
        "  for j in range (0, 3):\n",
        "    column = ngo_num.iloc[:, count]    # Fetching the current column and all rows of that column.\n",
        "    sns.boxplot(data = ngo_num, x = column, ax = axis[i, j], color = bp_palette[count])\n",
        "    count = count + 1\n",
        "\n",
        "plt.show()"
      ],
      "execution_count": null,
      "outputs": [
        {
          "output_type": "display_data",
          "data": {
            "text/plain": [
              "<Figure size 1500x1000 with 9 Axes>"
            ],
            "image/png": "[encoded data removed]"
          },
          "metadata": {}
        }
      ]
    },
    {
      "cell_type": "markdown",
      "metadata": {
        "id": "yhoVdywSKjf7"
      },
      "source": [
        "We may observe that there is atleast one outlier in all the features. In case of gdpp and health, there are too many outliers.\n",
        "\n",
        "However, since we have limited number of countries (167 countries), removing these outliers  based on IQR (Inter-quartile range) values would remove few countries that deserved the financial aid. Hence, we would not remove the outliers.\n",
        "\n"
      ]
    },
    {
      "cell_type": "markdown",
      "metadata": {
        "id": "_p5sSXu3nG9o"
      },
      "source": [
        "---"
      ]
    },
    {
      "cell_type": "markdown",
      "metadata": {
        "id": "vQ-nF-mQohbY"
      },
      "source": [
        "#### Determining Cluster Tendency\n",
        "\n",
        "Before we apply any clustering algorithm to the given dataset, it is essential to determine whether the given data has any meaningful clusters or not. In general, we need to check whether the given dataset is not random.\n",
        "\n",
        "This process of evaluating whether the dataset is feasible for clustering is known as **clustering tendency**. A well-known test for cluster tendency is the **Hopkins Test**.\n",
        "\n",
        "**Hopkins test:**\n",
        "\n",
        "- It is a statistical test that checks if the data follows uniform distribution.\n",
        "- For example, refer to the following image which illustrates a uniformly distributed dataset.\n",
        "<center>\n",
        "    <img src=\"https://s3-whjr-v2-prod-bucket.whjr.online/58149855-5d35-407d-87f6-452344b69f41.png\"/>\n",
        "\n",
        "    `Image: An example of well-shaped 2D uniformly distributed dataset`\n",
        "\n",
        "</center>\n",
        "\n",
        "- Such uniformly distributed dataset is not suitable for clustering.\n",
        "\n",
        "- If the hopkins score is low (tends to `0`), it means that the data is not uniformly distributed and can be used for clustering.\n",
        "\n",
        "- If the hopkins score is high (above `0.5`), it means that the data is uniformly distributed and cannot be used for clustering.\n",
        "\n",
        "**Implementing Hopkins Test using Python:**\n",
        "\n",
        "- The `pyclustertend` is a Python toolkit for assessing cluster tendency.\n",
        "\n",
        "- Let us first install `pyclustertend` module using `!pip install`.\n"
      ]
    },
    {
      "cell_type": "code",
      "source": [
        "#Remove commenting and run this code cell in case `pyclustertend` installation does not works correctly.In case of issues try \"Restart and run all\" option under \"Runtime\"\n",
        "# !pip install sklearn --upgrade\n",
        "# !pip install numpy --upgrade\n",
        "# !pip install h5py\n",
        "# !pip install typing-extensions\n",
        "# !pip install wheel"
      ],
      "metadata": {
        "id": "-ibIqXKdq7J0"
      },
      "execution_count": null,
      "outputs": []
    },
    {
      "cell_type": "code",
      "metadata": {
        "id": "VWY7cRUGKiy-",
        "colab": {
          "base_uri": "https://localhost:8080/",
          "height": 35
        },
        "outputId": "e6adb97b-6b93-45d0-b692-3eb4ecd90a34"
      },
      "source": [
        "# Install 'pyclustertend'\n",
        "#python -m !pip show scikit-learn\n",
        "import sklearn\n",
        "sklearn.__version__\n",
        "#!pip install sklearn==1.1.3\n",
        "#!pip install pyclustertend"
      ],
      "execution_count": null,
      "outputs": [
        {
          "output_type": "execute_result",
          "data": {
            "text/plain": [
              "'1.2.2'"
            ],
            "application/vnd.google.colaboratory.intrinsic+json": {
              "type": "string"
            }
          },
          "metadata": {},
          "execution_count": 17
        }
      ]
    },
    {
      "cell_type": "code",
      "source": [
        "#python -m !pip show scikit-learn"
      ],
      "metadata": {
        "id": "ZUBbX5VMqjUU"
      },
      "execution_count": null,
      "outputs": []
    },
    {
      "cell_type": "code",
      "source": [
        "!pip install pyclustertend"
      ],
      "metadata": {
        "colab": {
          "base_uri": "https://localhost:8080/"
        },
        "id": "D48R7piWqmog",
        "outputId": "c6828541-e4f0-4363-e41c-24a0efd9fcf5"
      },
      "execution_count": null,
      "outputs": [
        {
          "output_type": "stream",
          "name": "stdout",
          "text": [
            "Looking in indexes: https://pypi.org/simple, https://us-python.pkg.dev/colab-wheels/public/simple/\n",
            "Requirement already satisfied: pyclustertend in /usr/local/lib/python3.10/dist-packages (1.6.2)\n",
            "Requirement already satisfied: matplotlib<4.0.0,>=3.3.3 in /usr/local/lib/python3.10/dist-packages (from pyclustertend) (3.7.1)\n",
            "Requirement already satisfied: numpy<2.0.0,>=1.19.1 in /usr/local/lib/python3.10/dist-packages (from pyclustertend) (1.22.4)\n",
            "Requirement already satisfied: pandas<2.0.0,>=1.2.0 in /usr/local/lib/python3.10/dist-packages (from pyclustertend) (1.5.3)\n",
            "Requirement already satisfied: scikit-learn<0.25.0,>=0.24.0 in /usr/local/lib/python3.10/dist-packages (from pyclustertend) (0.24.2)\n",
            "Requirement already satisfied: contourpy>=1.0.1 in /usr/local/lib/python3.10/dist-packages (from matplotlib<4.0.0,>=3.3.3->pyclustertend) (1.1.0)\n",
            "Requirement already satisfied: cycler>=0.10 in /usr/local/lib/python3.10/dist-packages (from matplotlib<4.0.0,>=3.3.3->pyclustertend) (0.11.0)\n",
            "Requirement already satisfied: fonttools>=4.22.0 in /usr/local/lib/python3.10/dist-packages (from matplotlib<4.0.0,>=3.3.3->pyclustertend) (4.40.0)\n",
            "Requirement already satisfied: kiwisolver>=1.0.1 in /usr/local/lib/python3.10/dist-packages (from matplotlib<4.0.0,>=3.3.3->pyclustertend) (1.4.4)\n",
            "Requirement already satisfied: packaging>=20.0 in /usr/local/lib/python3.10/dist-packages (from matplotlib<4.0.0,>=3.3.3->pyclustertend) (23.1)\n",
            "Requirement already satisfied: pillow>=6.2.0 in /usr/local/lib/python3.10/dist-packages (from matplotlib<4.0.0,>=3.3.3->pyclustertend) (8.4.0)\n",
            "Requirement already satisfied: pyparsing>=2.3.1 in /usr/local/lib/python3.10/dist-packages (from matplotlib<4.0.0,>=3.3.3->pyclustertend) (3.1.0)\n",
            "Requirement already satisfied: python-dateutil>=2.7 in /usr/local/lib/python3.10/dist-packages (from matplotlib<4.0.0,>=3.3.3->pyclustertend) (2.8.2)\n",
            "Requirement already satisfied: pytz>=2020.1 in /usr/local/lib/python3.10/dist-packages (from pandas<2.0.0,>=1.2.0->pyclustertend) (2022.7.1)\n",
            "Requirement already satisfied: scipy>=0.19.1 in /usr/local/lib/python3.10/dist-packages (from scikit-learn<0.25.0,>=0.24.0->pyclustertend) (1.10.1)\n",
            "Requirement already satisfied: joblib>=0.11 in /usr/local/lib/python3.10/dist-packages (from scikit-learn<0.25.0,>=0.24.0->pyclustertend) (1.2.0)\n",
            "Requirement already satisfied: threadpoolctl>=2.0.0 in /usr/local/lib/python3.10/dist-packages (from scikit-learn<0.25.0,>=0.24.0->pyclustertend) (3.1.0)\n",
            "Requirement already satisfied: six>=1.5 in /usr/local/lib/python3.10/dist-packages (from python-dateutil>=2.7->matplotlib<4.0.0,>=3.3.3->pyclustertend) (1.16.0)\n"
          ]
        }
      ]
    },
    {
      "cell_type": "markdown",
      "metadata": {
        "id": "vYyoQEbMvjCN"
      },
      "source": [
        "Once the `pyclustertend` module have been successfully installed, use  `hopkins()` function to determine the hopkins score for your dataset. The syntax for `hopkins()` function is as follows:\n",
        "\n",
        "`pyclustertend.hopkins(data_frame, sampling_size)`\n",
        "\n",
        "Where,\n",
        "- `data_frame`:  The input dataset.\n",
        "- `sampling_size`: The sampling size which is used to evaluate the number of DataFrame. This value must be equal to or less than the number of rows of our dataset.\n",
        "    \n",
        "    For example, If sampling size is 100, then this function generates 100 random data points which are uniformly distributed and then compares our dataset with these 100 points to determine how much they are similar. If our dataset is very similar to these random uniformly distributed dataset, then we will get a high score otherwise a low score.\n",
        "\n",
        "This function returns a **hopkins score** of the dataset (between `0` and `1`).  A score tending to `0` express a high cluster tendency and a score around `0.5` express no clusterability.\n",
        "\n",
        "Let us now perform hopkins test for `ngo_scaled` dataset using a sampling size equal to number of rows of our dataset (i.e. `167`).\n",
        "\n",
        "**Note:** If you assume a sampling size greater than the number of rows, you will get an error stating that the sampling size is greater than DataFrame size."
      ]
    },
    {
      "cell_type": "code",
      "metadata": {
        "id": "3jlDPmSfNfPm",
        "colab": {
          "base_uri": "https://localhost:8080/",
          "height": 502
        },
        "outputId": "12b550f1-6ede-4ea3-c45b-f0aca963420b"
      },
      "source": [
        "# Import hopkins and perform hopkins test for 'ngo_scaled' dataset.\n",
        "from pyclustertend import hopkins\n",
        "hopkins(ngo_scaled, 167)"
      ],
      "execution_count": null,
      "outputs": [
        {
          "output_type": "error",
          "ename": "ImportError",
          "evalue": "ignored",
          "traceback": [
            "\u001b[0;31m---------------------------------------------------------------------------\u001b[0m",
            "\u001b[0;31mImportError\u001b[0m                               Traceback (most recent call last)",
            "\u001b[0;32m<ipython-input-19-5a7a3866eaac>\u001b[0m in \u001b[0;36m<cell line: 2>\u001b[0;34m()\u001b[0m\n\u001b[1;32m      1\u001b[0m \u001b[0;31m# Import hopkins and perform hopkins test for 'ngo_scaled' dataset.\u001b[0m\u001b[0;34m\u001b[0m\u001b[0;34m\u001b[0m\u001b[0m\n\u001b[0;32m----> 2\u001b[0;31m \u001b[0;32mfrom\u001b[0m \u001b[0mpyclustertend\u001b[0m \u001b[0;32mimport\u001b[0m \u001b[0mhopkins\u001b[0m\u001b[0;34m\u001b[0m\u001b[0;34m\u001b[0m\u001b[0m\n\u001b[0m\u001b[1;32m      3\u001b[0m \u001b[0mhopkins\u001b[0m\u001b[0;34m(\u001b[0m\u001b[0mngo_scaled\u001b[0m\u001b[0;34m,\u001b[0m \u001b[0;36m167\u001b[0m\u001b[0;34m)\u001b[0m\u001b[0;34m\u001b[0m\u001b[0;34m\u001b[0m\u001b[0m\n",
            "\u001b[0;32m/usr/local/lib/python3.10/dist-packages/pyclustertend/__init__.py\u001b[0m in \u001b[0;36m<module>\u001b[0;34m\u001b[0m\n\u001b[0;32m----> 1\u001b[0;31m \u001b[0;32mfrom\u001b[0m \u001b[0;34m.\u001b[0m\u001b[0mhopkins\u001b[0m \u001b[0;32mimport\u001b[0m \u001b[0mhopkins\u001b[0m  \u001b[0;31m# noqa: F401\u001b[0m\u001b[0;34m\u001b[0m\u001b[0;34m\u001b[0m\u001b[0m\n\u001b[0m\u001b[1;32m      2\u001b[0m from .metric import (  # noqa: F401\n\u001b[1;32m      3\u001b[0m     \u001b[0massess_tendency_by_mean_metric_score\u001b[0m\u001b[0;34m,\u001b[0m\u001b[0;34m\u001b[0m\u001b[0;34m\u001b[0m\u001b[0m\n\u001b[1;32m      4\u001b[0m     \u001b[0massess_tendency_by_metric\u001b[0m\u001b[0;34m,\u001b[0m\u001b[0;34m\u001b[0m\u001b[0;34m\u001b[0m\u001b[0m\n\u001b[1;32m      5\u001b[0m )\n",
            "\u001b[0;32m/usr/local/lib/python3.10/dist-packages/pyclustertend/hopkins.py\u001b[0m in \u001b[0;36m<module>\u001b[0;34m\u001b[0m\n\u001b[1;32m      3\u001b[0m \u001b[0;32mimport\u001b[0m \u001b[0mnumpy\u001b[0m \u001b[0;32mas\u001b[0m \u001b[0mnp\u001b[0m\u001b[0;34m\u001b[0m\u001b[0;34m\u001b[0m\u001b[0m\n\u001b[1;32m      4\u001b[0m \u001b[0;32mimport\u001b[0m \u001b[0mpandas\u001b[0m \u001b[0;32mas\u001b[0m \u001b[0mpd\u001b[0m\u001b[0;34m\u001b[0m\u001b[0;34m\u001b[0m\u001b[0m\n\u001b[0;32m----> 5\u001b[0;31m \u001b[0;32mfrom\u001b[0m \u001b[0msklearn\u001b[0m\u001b[0;34m.\u001b[0m\u001b[0mneighbors\u001b[0m \u001b[0;32mimport\u001b[0m \u001b[0mBallTree\u001b[0m\u001b[0;34m\u001b[0m\u001b[0;34m\u001b[0m\u001b[0m\n\u001b[0m\u001b[1;32m      6\u001b[0m \u001b[0;34m\u001b[0m\u001b[0m\n\u001b[1;32m      7\u001b[0m \u001b[0;34m\u001b[0m\u001b[0m\n",
            "\u001b[0;32m/usr/local/lib/python3.10/dist-packages/sklearn/neighbors/__init__.py\u001b[0m in \u001b[0;36m<module>\u001b[0;34m\u001b[0m\n\u001b[1;32m      7\u001b[0m \u001b[0;32mfrom\u001b[0m \u001b[0;34m.\u001b[0m\u001b[0m_kd_tree\u001b[0m \u001b[0;32mimport\u001b[0m \u001b[0mKDTree\u001b[0m\u001b[0;34m\u001b[0m\u001b[0;34m\u001b[0m\u001b[0m\n\u001b[1;32m      8\u001b[0m \u001b[0;32mfrom\u001b[0m \u001b[0;34m.\u001b[0m\u001b[0m_dist_metrics\u001b[0m \u001b[0;32mimport\u001b[0m \u001b[0mDistanceMetric\u001b[0m\u001b[0;34m\u001b[0m\u001b[0;34m\u001b[0m\u001b[0m\n\u001b[0;32m----> 9\u001b[0;31m \u001b[0;32mfrom\u001b[0m \u001b[0;34m.\u001b[0m\u001b[0m_graph\u001b[0m \u001b[0;32mimport\u001b[0m \u001b[0mkneighbors_graph\u001b[0m\u001b[0;34m,\u001b[0m \u001b[0mradius_neighbors_graph\u001b[0m\u001b[0;34m\u001b[0m\u001b[0;34m\u001b[0m\u001b[0m\n\u001b[0m\u001b[1;32m     10\u001b[0m \u001b[0;32mfrom\u001b[0m \u001b[0;34m.\u001b[0m\u001b[0m_graph\u001b[0m \u001b[0;32mimport\u001b[0m \u001b[0mKNeighborsTransformer\u001b[0m\u001b[0;34m,\u001b[0m \u001b[0mRadiusNeighborsTransformer\u001b[0m\u001b[0;34m\u001b[0m\u001b[0;34m\u001b[0m\u001b[0m\n\u001b[1;32m     11\u001b[0m \u001b[0;32mfrom\u001b[0m \u001b[0;34m.\u001b[0m\u001b[0m_unsupervised\u001b[0m \u001b[0;32mimport\u001b[0m \u001b[0mNearestNeighbors\u001b[0m\u001b[0;34m\u001b[0m\u001b[0;34m\u001b[0m\u001b[0m\n",
            "\u001b[0;32m/usr/local/lib/python3.10/dist-packages/sklearn/neighbors/_graph.py\u001b[0m in \u001b[0;36m<module>\u001b[0;34m\u001b[0m\n\u001b[1;32m      5\u001b[0m \u001b[0;31m#\u001b[0m\u001b[0;34m\u001b[0m\u001b[0;34m\u001b[0m\u001b[0m\n\u001b[1;32m      6\u001b[0m \u001b[0;31m# License: BSD 3 clause (C) INRIA, University of Amsterdam\u001b[0m\u001b[0;34m\u001b[0m\u001b[0;34m\u001b[0m\u001b[0m\n\u001b[0;32m----> 7\u001b[0;31m \u001b[0;32mfrom\u001b[0m \u001b[0;34m.\u001b[0m\u001b[0m_base\u001b[0m \u001b[0;32mimport\u001b[0m \u001b[0mKNeighborsMixin\u001b[0m\u001b[0;34m,\u001b[0m \u001b[0mRadiusNeighborsMixin\u001b[0m\u001b[0;34m\u001b[0m\u001b[0;34m\u001b[0m\u001b[0m\n\u001b[0m\u001b[1;32m      8\u001b[0m \u001b[0;32mfrom\u001b[0m \u001b[0;34m.\u001b[0m\u001b[0m_base\u001b[0m \u001b[0;32mimport\u001b[0m \u001b[0mNeighborsBase\u001b[0m\u001b[0;34m\u001b[0m\u001b[0;34m\u001b[0m\u001b[0m\n\u001b[1;32m      9\u001b[0m \u001b[0;32mfrom\u001b[0m \u001b[0;34m.\u001b[0m\u001b[0m_unsupervised\u001b[0m \u001b[0;32mimport\u001b[0m \u001b[0mNearestNeighbors\u001b[0m\u001b[0;34m\u001b[0m\u001b[0;34m\u001b[0m\u001b[0m\n",
            "\u001b[0;32m/usr/local/lib/python3.10/dist-packages/sklearn/neighbors/_base.py\u001b[0m in \u001b[0;36m<module>\u001b[0;34m\u001b[0m\n\u001b[1;32m     22\u001b[0m \u001b[0;32mfrom\u001b[0m \u001b[0;34m.\u001b[0m\u001b[0;34m.\u001b[0m\u001b[0mbase\u001b[0m \u001b[0;32mimport\u001b[0m \u001b[0mBaseEstimator\u001b[0m\u001b[0;34m,\u001b[0m \u001b[0mMultiOutputMixin\u001b[0m\u001b[0;34m\u001b[0m\u001b[0;34m\u001b[0m\u001b[0m\n\u001b[1;32m     23\u001b[0m \u001b[0;32mfrom\u001b[0m \u001b[0;34m.\u001b[0m\u001b[0;34m.\u001b[0m\u001b[0mbase\u001b[0m \u001b[0;32mimport\u001b[0m \u001b[0mis_classifier\u001b[0m\u001b[0;34m\u001b[0m\u001b[0;34m\u001b[0m\u001b[0m\n\u001b[0;32m---> 24\u001b[0;31m \u001b[0;32mfrom\u001b[0m \u001b[0;34m.\u001b[0m\u001b[0;34m.\u001b[0m\u001b[0mmetrics\u001b[0m \u001b[0;32mimport\u001b[0m \u001b[0mpairwise_distances_chunked\u001b[0m\u001b[0;34m\u001b[0m\u001b[0;34m\u001b[0m\u001b[0m\n\u001b[0m\u001b[1;32m     25\u001b[0m \u001b[0;32mfrom\u001b[0m \u001b[0;34m.\u001b[0m\u001b[0;34m.\u001b[0m\u001b[0mmetrics\u001b[0m\u001b[0;34m.\u001b[0m\u001b[0mpairwise\u001b[0m \u001b[0;32mimport\u001b[0m \u001b[0mPAIRWISE_DISTANCE_FUNCTIONS\u001b[0m\u001b[0;34m\u001b[0m\u001b[0;34m\u001b[0m\u001b[0m\n\u001b[1;32m     26\u001b[0m from ..utils import (\n",
            "\u001b[0;32m/usr/local/lib/python3.10/dist-packages/sklearn/metrics/__init__.py\u001b[0m in \u001b[0;36m<module>\u001b[0;34m\u001b[0m\n\u001b[1;32m     37\u001b[0m \u001b[0;32mfrom\u001b[0m \u001b[0;34m.\u001b[0m\u001b[0m_classification\u001b[0m \u001b[0;32mimport\u001b[0m \u001b[0mmultilabel_confusion_matrix\u001b[0m\u001b[0;34m\u001b[0m\u001b[0;34m\u001b[0m\u001b[0m\n\u001b[1;32m     38\u001b[0m \u001b[0;34m\u001b[0m\u001b[0m\n\u001b[0;32m---> 39\u001b[0;31m \u001b[0;32mfrom\u001b[0m \u001b[0;34m.\u001b[0m \u001b[0;32mimport\u001b[0m \u001b[0mcluster\u001b[0m\u001b[0;34m\u001b[0m\u001b[0;34m\u001b[0m\u001b[0m\n\u001b[0m\u001b[1;32m     40\u001b[0m \u001b[0;32mfrom\u001b[0m \u001b[0;34m.\u001b[0m\u001b[0mcluster\u001b[0m \u001b[0;32mimport\u001b[0m \u001b[0madjusted_mutual_info_score\u001b[0m\u001b[0;34m\u001b[0m\u001b[0;34m\u001b[0m\u001b[0m\n\u001b[1;32m     41\u001b[0m \u001b[0;32mfrom\u001b[0m \u001b[0;34m.\u001b[0m\u001b[0mcluster\u001b[0m \u001b[0;32mimport\u001b[0m \u001b[0madjusted_rand_score\u001b[0m\u001b[0;34m\u001b[0m\u001b[0;34m\u001b[0m\u001b[0m\n",
            "\u001b[0;32m/usr/local/lib/python3.10/dist-packages/sklearn/metrics/cluster/__init__.py\u001b[0m in \u001b[0;36m<module>\u001b[0;34m\u001b[0m\n\u001b[1;32m      6\u001b[0m \u001b[0;34m-\u001b[0m \u001b[0munsupervised\u001b[0m\u001b[0;34m,\u001b[0m \u001b[0mwhich\u001b[0m \u001b[0mdoes\u001b[0m \u001b[0;32mnot\u001b[0m \u001b[0;32mand\u001b[0m \u001b[0mmeasures\u001b[0m \u001b[0mthe\u001b[0m \u001b[0;34m'quality'\u001b[0m \u001b[0mof\u001b[0m \u001b[0mthe\u001b[0m \u001b[0mmodel\u001b[0m \u001b[0mitself\u001b[0m\u001b[0;34m.\u001b[0m\u001b[0;34m\u001b[0m\u001b[0;34m\u001b[0m\u001b[0m\n\u001b[1;32m      7\u001b[0m \"\"\"\n\u001b[0;32m----> 8\u001b[0;31m \u001b[0;32mfrom\u001b[0m \u001b[0;34m.\u001b[0m\u001b[0m_supervised\u001b[0m \u001b[0;32mimport\u001b[0m \u001b[0madjusted_mutual_info_score\u001b[0m\u001b[0;34m\u001b[0m\u001b[0;34m\u001b[0m\u001b[0m\n\u001b[0m\u001b[1;32m      9\u001b[0m \u001b[0;32mfrom\u001b[0m \u001b[0;34m.\u001b[0m\u001b[0m_supervised\u001b[0m \u001b[0;32mimport\u001b[0m \u001b[0mnormalized_mutual_info_score\u001b[0m\u001b[0;34m\u001b[0m\u001b[0;34m\u001b[0m\u001b[0m\n\u001b[1;32m     10\u001b[0m \u001b[0;32mfrom\u001b[0m \u001b[0;34m.\u001b[0m\u001b[0m_supervised\u001b[0m \u001b[0;32mimport\u001b[0m \u001b[0madjusted_rand_score\u001b[0m\u001b[0;34m\u001b[0m\u001b[0;34m\u001b[0m\u001b[0m\n",
            "\u001b[0;32m/usr/local/lib/python3.10/dist-packages/sklearn/metrics/cluster/_supervised.py\u001b[0m in \u001b[0;36m<module>\u001b[0;34m\u001b[0m\n\u001b[1;32m     24\u001b[0m \u001b[0;34m\u001b[0m\u001b[0m\n\u001b[1;32m     25\u001b[0m \u001b[0;32mfrom\u001b[0m \u001b[0;34m.\u001b[0m\u001b[0m_expected_mutual_info_fast\u001b[0m \u001b[0;32mimport\u001b[0m \u001b[0mexpected_mutual_information\u001b[0m\u001b[0;34m\u001b[0m\u001b[0;34m\u001b[0m\u001b[0m\n\u001b[0;32m---> 26\u001b[0;31m \u001b[0;32mfrom\u001b[0m \u001b[0;34m...\u001b[0m\u001b[0mutils\u001b[0m\u001b[0;34m.\u001b[0m\u001b[0mfixes\u001b[0m \u001b[0;32mimport\u001b[0m \u001b[0m_astype_copy_false\u001b[0m\u001b[0;34m\u001b[0m\u001b[0;34m\u001b[0m\u001b[0m\n\u001b[0m\u001b[1;32m     27\u001b[0m \u001b[0;32mfrom\u001b[0m \u001b[0;34m...\u001b[0m\u001b[0mutils\u001b[0m\u001b[0;34m.\u001b[0m\u001b[0mmulticlass\u001b[0m \u001b[0;32mimport\u001b[0m \u001b[0mtype_of_target\u001b[0m\u001b[0;34m\u001b[0m\u001b[0;34m\u001b[0m\u001b[0m\n\u001b[1;32m     28\u001b[0m \u001b[0;32mfrom\u001b[0m \u001b[0;34m...\u001b[0m\u001b[0mutils\u001b[0m\u001b[0;34m.\u001b[0m\u001b[0mvalidation\u001b[0m \u001b[0;32mimport\u001b[0m \u001b[0m_deprecate_positional_args\u001b[0m\u001b[0;34m\u001b[0m\u001b[0;34m\u001b[0m\u001b[0m\n",
            "\u001b[0;31mImportError\u001b[0m: cannot import name '_astype_copy_false' from 'sklearn.utils.fixes' (/usr/local/lib/python3.10/dist-packages/sklearn/utils/fixes.py)",
            "",
            "\u001b[0;31m---------------------------------------------------------------------------\u001b[0;32m\nNOTE: If your import is failing due to a missing package, you can\nmanually install dependencies using either !pip or !apt.\n\nTo view examples of installing some common dependencies, click the\n\"Open Examples\" button below.\n\u001b[0;31m---------------------------------------------------------------------------\u001b[0m\n"
          ],
          "errorDetails": {
            "actions": [
              {
                "action": "open_url",
                "actionText": "Open Examples",
                "url": "/notebooks/snippets/importing_libraries.ipynb"
              }
            ]
          }
        }
      ]
    },
    {
      "cell_type": "markdown",
      "metadata": {
        "id": "H0jSDvCZzhzH"
      },
      "source": [
        "You may observe that the hopkins score obtained is almost `0`, indicating that our dataset has high cluster tendency.\n",
        "\n",
        "Let us now proceed with dendrogram plotting followed by agglomerative clustering."
      ]
    },
    {
      "cell_type": "markdown",
      "metadata": {
        "id": "gfcY8Xo60LIf"
      },
      "source": [
        "---"
      ]
    },
    {
      "cell_type": "markdown",
      "metadata": {
        "id": "Tw5xTUr10Myn"
      },
      "source": [
        "#### Agglomerative Clustering\n",
        "\n",
        "Let us first plot dendrograms for both single linkage and complete linkage and select the one which yields the best result.\n",
        "\n",
        "Follow the steps given below to plot the dendrogram for single linkage:\n",
        "\n",
        "1. Import `linkage` and `dendrogram` modules from `scipy.cluster.hierarchy` module.\n",
        "2. Call `linkage()` function and pass `ngo_scaled` dataset and `method = single` as inputs. Store the returned linkage matrix in a `s_distances` variable.\n",
        "3.  Plot the dendrogram by calling the `dendrogram()` function and pass the linkage matrix `s_distances` as input to this function.\n",
        "\n",
        "4. Also, set the `xlabel` and `ylabel` of this dendrogram using `matplotlib.pyplot` module."
      ]
    },
    {
      "cell_type": "code",
      "metadata": {
        "id": "6Efzh0RR077T"
      },
      "source": [
        "# Plot dendrogram for single linkage.\n",
        "from scipy.cluster.hierarchy import linkage, dendrogram\n",
        "s_distances = linkage(ngo_scaled, method = \"single\")\n",
        "\n",
        "plt.figure(figsize = (24, 9))\n",
        "plt.xlabel(\"Data Points\")\n",
        "plt.ylabel(\"Euclidean Distances\")\n",
        "plt.title(\"Dendrogram for Single Linkage\")\n",
        "dendrogram(s_distances)\n",
        "plt.show()"
      ],
      "execution_count": null,
      "outputs": []
    },
    {
      "cell_type": "markdown",
      "metadata": {
        "id": "EFp6ZYOF1jX3"
      },
      "source": [
        "The clusters of the single linkage are not truly satisfying. It appears to be placing each outlier in its own cluster.\n",
        "\n",
        "Let us plot dendrogram for complete linkage and observe the result."
      ]
    },
    {
      "cell_type": "code",
      "metadata": {
        "id": "QycFNIP0USNl"
      },
      "source": [
        "# Plot dendrogram for complete linkage.\n",
        "c_distances = linkage(ngo_scaled, method = \"complete\")\n",
        "\n",
        "plt.figure(figsize=(24, 9))\n",
        "plt.xlabel(\"Data Points\")\n",
        "plt.ylabel(\"Euclidean Distances\")\n",
        "plt.title(\"Dendrogram for Complete Linkage\")\n",
        "dendrogram(c_distances)\n",
        "plt.show()"
      ],
      "execution_count": null,
      "outputs": []
    },
    {
      "cell_type": "markdown",
      "metadata": {
        "id": "FcF91RwX2MNa"
      },
      "source": [
        "The result of complete linkage looks good. From the above plot, we observe that if we draw a horizontal line passing through the longest vertical blue line, it cuts the dendrogram at 3 points and also at 4 points. Hence, the number of clusters can be 3 or 4.\n",
        "\n",
        "Let us obtain 3 clusters of countries using  agglomerative clustering on complete linkage."
      ]
    },
    {
      "cell_type": "code",
      "metadata": {
        "id": "ze6E1Cx3U5F_"
      },
      "source": [
        "# S4.3: Determine the clusters using agglomerative clustering.\n",
        "# Import AgglomerativeClustering module from sklearn\n",
        "from sklearn.cluster import AgglomerativeClustering\n",
        "\n",
        "# Perform AgglomerativeClustering using n_clusters = 3 and linkage = 'complete'\n",
        "hc_3 = AgglomerativeClustering(n_clusters = 3, linkage = 'complete')\n",
        "\n",
        "# Fit and predict the data using DataFrame\n",
        "hcluster_3 = hc_3.fit_predict(ngo_scaled)\n",
        "print(hcluster_3)"
      ],
      "execution_count": null,
      "outputs": []
    },
    {
      "cell_type": "markdown",
      "metadata": {
        "id": "zpJ2c3y6g5Jc"
      },
      "source": [
        "As you can see in the output, our dataset is divided into 3 clusters labelled from `0` to `2`.\n",
        "\n",
        "Let us add these predicted labels as a new column to original DataFrame `ngo_df`."
      ]
    },
    {
      "cell_type": "code",
      "metadata": {
        "id": "frDveMa1Vco3"
      },
      "source": [
        "# Adding the cluster ID back to the ngo_df DataFrame\n",
        "ngo_df['H_Label'] = hcluster_3\n",
        "ngo_df.head()"
      ],
      "execution_count": null,
      "outputs": []
    },
    {
      "cell_type": "markdown",
      "metadata": {
        "id": "j_DmbksFhvDV"
      },
      "source": [
        "Let us determine the number of countries in each cluster."
      ]
    },
    {
      "cell_type": "code",
      "metadata": {
        "id": "OJ-yIc8LVwPu"
      },
      "source": [
        "# Checking the country count per cluster\n",
        "ngo_df['H_Label'].value_counts()"
      ],
      "execution_count": null,
      "outputs": []
    },
    {
      "cell_type": "markdown",
      "metadata": {
        "id": "gfv0OdHdiNHU"
      },
      "source": [
        "Let us now analyse the clusters and identify the one which is in dire need of financial aid."
      ]
    },
    {
      "cell_type": "markdown",
      "metadata": {
        "id": "lOwpEYZMjB4U"
      },
      "source": [
        "---"
      ]
    },
    {
      "cell_type": "markdown",
      "metadata": {
        "id": "FypKB0SmjDG4"
      },
      "source": [
        "#### Activity 1: Visualising Clusters\n",
        "\n",
        "From the domain understanding,  we know  that child mortality, income, GDP, and healthcare budget are some important factors that decide the development of any country. Hence, we will proceed with analysing the clusters by comparing how these 4 components (`child_mort`, `income`, `gdpp`, `health`) vary for each cluster of countries.\n",
        "\n",
        "For this, let us create following four scatter plot using subplots:\n",
        "1. Scatter plot of `gdpp` vs `child_mort`\n",
        "2. Scatter plot of `income` vs `child_mort`\n",
        "3. Scatter plot of `gdpp` vs `income`\n",
        "4. Scatter plot of `income` vs `health`"
      ]
    },
    {
      "cell_type": "code",
      "metadata": {
        "id": "fAjnyJ1HZtTw"
      },
      "source": [
        "# S1.1: Visualise clusters using scatter plots.\n",
        "import seaborn as sns\n",
        "\n",
        "fig, axis = plt.subplots(nrows = 2, ncols = 2, figsize = (20, 10), dpi = 100)\n",
        "\n",
        "\n",
        "sns.scatterplot(x = 'gdpp', y = 'child_mort', hue = 'H_Label', ax = axis[0, 0],\n",
        "                data = ngo_df, legend = 'full', palette = \"Dark2\", s = 100)\n",
        "\n",
        "sns.scatterplot(x = 'income', y = 'child_mort', hue = 'H_Label', ax = axis[0, 1],\n",
        "                data = ngo_df, legend = 'full', palette = \"Dark2\", s = 100)\n",
        "\n",
        "sns.scatterplot(x = 'gdpp', y = 'income', hue = 'H_Label', ax = axis[0, 0],\n",
        "                data = ngo_df, legend = 'full', palette = \"Dark2\", s = 100)\n",
        "\n",
        "sns.scatterplot(x = 'income', y = 'health', hue = 'H_Label', ax = axis[0, 0],\n",
        "                data = ngo_df, legend = 'full', palette = \"Dark2\", s = 100)\n"
      ],
      "execution_count": null,
      "outputs": []
    },
    {
      "cell_type": "markdown",
      "metadata": {
        "id": "z32o6g2_ln63"
      },
      "source": [
        "From the above graph, we observe that following three clusters are obtained:\n",
        "- <b><font color = 'green'>Cluster `0`</b></font>: The countries in these clusters have high child mortality, low GDP and low income. Also, these countries have the lowest healthcare budgets.\n",
        "\n",
        "- <b><font color = 'darkorange'>Cluster `1`</b></font>: As seen in the graph, there is only 1 country in this cluster that has very high GDP and income, extremely low child mortality and high spending on healthcare.\n",
        "\n",
        "- <b><font color = 'blueviolet'>Cluster `2`</b></font>: The countries in these clusters have average GDP, low child mortality, good income and moderate spending on healthcare.\n",
        "\n",
        "Let us analyse the mean and median values of all the features of each cluster by grouping `ngo_df` DataFrame based on cluster labels.\n",
        "\n"
      ]
    },
    {
      "cell_type": "code",
      "metadata": {
        "id": "S0e35k5hSolY"
      },
      "source": [
        "# S1.2: Perform 'groupby' analysis to analyse the mean value of each column.\n",
        "hc_analysis = ngo_df.groupby(['H_Label']).mean()\n",
        "hc_analysis"
      ],
      "execution_count": null,
      "outputs": []
    },
    {
      "cell_type": "code",
      "metadata": {
        "id": "hsHVjPOhmPi-"
      },
      "source": [
        "# S1.3: Perform 'groupby' analysis to analyse the median value of each column.\n",
        "hc_analysis = ngo_df.groupby(['H_Label']).median()\n",
        "hc_analysis"
      ],
      "execution_count": null,
      "outputs": []
    },
    {
      "cell_type": "markdown",
      "metadata": {
        "id": "0mWPd5zey4-r"
      },
      "source": [
        "You may observe a huge difference between mean and median values of the columns for cluster `0`. It may be due to the outliers in the dataset.\n",
        "\n",
        "From both mean and median values, you may observe that the Cluster `0` countries have the highest child mortality and total fertility and lowest value of other attributes like exports, healthcare budget, income, etc.\n",
        "\n",
        "Let us create barplots for all the columns of `ngo_df` DataFrame except the `country` column. The $x$-axis of these barplots will show the cluster labels (i.e. `0`, `1`, `2`) and $y$-axis shows the corresponding column value for each cluster label.\n",
        "\n",
        "Use subplots to display these 9 barplots colour coded with `bp_palette` colour palette.\n"
      ]
    },
    {
      "cell_type": "code",
      "metadata": {
        "id": "XkeY1JGJSojy"
      },
      "source": [
        "# S1.4: Create barplot for all numeric columns using subplot.\n",
        "fig2, axis2 = plt.subplots(nrows = 3, ncols = 3, figsize = (18, 9), dpi = 100, sharex = False)\n",
        "# As there are 9 columns, we created subplot having 3 rows and 3 columns.\n",
        "count = 1         # initiliase count to 1 and not 0 to exclude 'country' column.\n",
        "\n",
        "for i in range(0, 3):\n",
        "  for j in range (0, 3):\n",
        "    column = ngo_df.iloc[:, count]    # Fetching the current column and all rows of that column.\n",
        "    sns.barplot(data = ngo_df, x = 'H_Label', y = column, ax = axis2[i, j], color = bp_palette[count])\n",
        "    count = count + 1\n",
        "\n",
        "plt.show()"
      ],
      "execution_count": null,
      "outputs": []
    },
    {
      "cell_type": "markdown",
      "metadata": {
        "id": "lCeYxRLJWD3l"
      },
      "source": [
        "\n",
        "Based on the graphs above,  we should consider cluster `0` countries for NGO aid, because :\n",
        "- It has the highest child mortality.\n",
        "- Lowest exports and imports.\n",
        "- Lowest income.\n",
        "- Lowest GDP.\n",
        "- Lowest health expenditure.\n",
        "- The highest inflation.\n",
        "- Comparatively low life expectancy.\n",
        "- Highest total fertility.\n",
        "\n",
        "Let us list down top 10 countries that require financial aid on priority by sorting column values of `child_mort`, `income`, `health`, and `gdpp` columns.\n",
        "\n",
        "For this, apply `sort_values()` function on `ngo_df` DataFrame for cluster label `0`. Sort `child_mort` column value in descending order and remaining three column values in ascending order, as we need countries having higher child mortality as well as lower income, healthcare budget and GDP in top 10.\n"
      ]
    },
    {
      "cell_type": "code",
      "metadata": {
        "id": "i95YCtWdNl7T"
      },
      "source": [
        "# S1.5: List top 10 countries of Cluster 0 that are in dire need of financial aid and store it in 'hc_top10' variable.\n",
        "hc_top10 = ngo_df[ngo_df['H_Label'] == 0].sort_values(by = ['child_mort', 'income', 'health', 'gdpp'],\n",
        "                                                      ascending = [False, True, True, True]).head(10)\n",
        "hc_top10"
      ],
      "execution_count": null,
      "outputs": []
    },
    {
      "cell_type": "markdown",
      "source": [
        "Here are the list of top 10 countries of Cluster 0 that are in dire need of financial aid.\n",
        "\n",
        "List top 10 country names only from the dataset."
      ],
      "metadata": {
        "id": "cAaRIJWEYpeI"
      }
    },
    {
      "cell_type": "code",
      "metadata": {
        "id": "II5ctVXpOA8C",
        "colab": {
          "base_uri": "https://localhost:8080/",
          "height": 183
        },
        "outputId": "2facef68-f153-4dbd-b140-37b47fadbf75"
      },
      "source": [
        "# S1.6: List down the values of 'country' column of 'hc_top10'\n",
        "hc_top10['country']"
      ],
      "execution_count": null,
      "outputs": [
        {
          "output_type": "error",
          "ename": "NameError",
          "evalue": "ignored",
          "traceback": [
            "\u001b[0;31m---------------------------------------------------------------------------\u001b[0m",
            "\u001b[0;31mNameError\u001b[0m                                 Traceback (most recent call last)",
            "\u001b[0;32m<ipython-input-20-6ab5f89fa836>\u001b[0m in \u001b[0;36m<cell line: 2>\u001b[0;34m()\u001b[0m\n\u001b[1;32m      1\u001b[0m \u001b[0;31m# S1.6: List down the values of 'country' column of 'hc_top10'\u001b[0m\u001b[0;34m\u001b[0m\u001b[0;34m\u001b[0m\u001b[0m\n\u001b[0;32m----> 2\u001b[0;31m \u001b[0mhc_top10\u001b[0m\u001b[0;34m[\u001b[0m\u001b[0;34m'country'\u001b[0m\u001b[0;34m]\u001b[0m\u001b[0;34m\u001b[0m\u001b[0;34m\u001b[0m\u001b[0m\n\u001b[0m",
            "\u001b[0;31mNameError\u001b[0m: name 'hc_top10' is not defined"
          ]
        }
      ]
    },
    {
      "cell_type": "markdown",
      "metadata": {
        "id": "_hlgpmYS5fNo"
      },
      "source": [
        "Hence, we obtained top 10 countries that require NGO aid on priority using Hierarchical clustering.\n",
        "\n",
        "Let us apply K-Means clustering on the same dataset and determine which algorithm is giving better results."
      ]
    },
    {
      "cell_type": "markdown",
      "metadata": {
        "id": "KzW8yfMBZkiB"
      },
      "source": [
        "---"
      ]
    },
    {
      "cell_type": "markdown",
      "metadata": {
        "id": "G5O6j70Dng0W"
      },
      "source": [
        "#### Activity 2: Applying K-Means Clustering\n",
        "\n",
        "We start by finding the optimal number of clusters for the K-Means algorithm. We will use the Elbow method.\n",
        "\n",
        "\n",
        "Recall the steps for Elbow method:\n",
        "1. Compute K-Means clustering for different values of `K` by varying `K` from `1` to `10` clusters for `ngo_scaled` DataFrame.\n",
        "2. For each K, calculate the total within-cluster sum of squares (WCSS) using `inertia_` attribute of `KMeans` object.\n",
        "3. Plot the curve of WCSS vs the number of clusters `K`."
      ]
    },
    {
      "cell_type": "code",
      "metadata": {
        "id": "PbS1GyLTnv9l"
      },
      "source": [
        "# S2.1: Determine 'K' using Elbow method.\n",
        "from sklearn.cluster import KMeans\n",
        "wcss = []\n",
        "\n",
        "clusters = range(1, 11)\n",
        "# Initiate a for loop that ranges from 1 to 10.\n",
        "for k in clusters:\n",
        "    # Inside for loop, perform K-means clustering for current value of K. Use 'fit()' to train the model.\n",
        "    kmeans = KMeans(n_clusters = k, random_state = 10)\n",
        "    kmeans.fit(ngo_scaled)\n",
        "    # Find wcss for current K value using 'inertia_' attribute and append it to the empty list.\n",
        "    wcss.append(kmeans.inertia_)\n",
        "\n",
        "\n",
        "# Plot WCSS vs number of clusters.\n",
        "plt.figure(figsize=(15,5))\n",
        "plt.plot(clusters,wcss)\n",
        "plt.grid()\n",
        "plt.xticks(range(1,11))\n",
        "plt.show()"
      ],
      "execution_count": null,
      "outputs": []
    },
    {
      "cell_type": "markdown",
      "metadata": {
        "id": "YqJArdOkpLdl"
      },
      "source": [
        "On observing the elbow curve, we can say that either 3 or 4 clusters would be an optimal choice.\n",
        "\n",
        "In the case of Hierarchical clustering, we obtained 3 clusters of countries. Likewise, let us consider 3 clusters for K-Means as well so that we can compare the clusters obtained from both the clustering algorithms.\n",
        "\n",
        "Now, perform K-Means clustering with `n_clusters = 3` parameter and determine the cluster labels.\n",
        "\n",
        "**Note:** You can use the `fit_predict()` function for K-Means as well as used for the `AgglomerativeClustering` class."
      ]
    },
    {
      "cell_type": "code",
      "metadata": {
        "id": "O9qn29CHFk5h",
        "colab": {
          "base_uri": "https://localhost:8080/",
          "height": 537
        },
        "outputId": "e2b99779-587c-40a5-9cfa-bb2a47a7f083"
      },
      "source": [
        "# S2.2: Cluster the 'ngo_scaled' dataset for K = 3\n",
        "from sklearn.cluster import KMeans\n",
        "kmeans_3=KMeans(n_clusters=3,random_state=10)\n",
        "kcluster_3=kmeans_3.fit_predict(ngo_scaled)\n",
        "print(kcluster_3)"
      ],
      "execution_count": null,
      "outputs": [
        {
          "output_type": "error",
          "ename": "ImportError",
          "evalue": "ignored",
          "traceback": [
            "\u001b[0;31m---------------------------------------------------------------------------\u001b[0m",
            "\u001b[0;31mImportError\u001b[0m                               Traceback (most recent call last)",
            "\u001b[0;32m<ipython-input-21-0acb045213d0>\u001b[0m in \u001b[0;36m<cell line: 2>\u001b[0;34m()\u001b[0m\n\u001b[1;32m      1\u001b[0m \u001b[0;31m# S2.2: Cluster the 'ngo_scaled' dataset for K = 3\u001b[0m\u001b[0;34m\u001b[0m\u001b[0;34m\u001b[0m\u001b[0m\n\u001b[0;32m----> 2\u001b[0;31m \u001b[0;32mfrom\u001b[0m \u001b[0msklearn\u001b[0m\u001b[0;34m.\u001b[0m\u001b[0mcluster\u001b[0m \u001b[0;32mimport\u001b[0m \u001b[0mKMeans\u001b[0m\u001b[0;34m\u001b[0m\u001b[0;34m\u001b[0m\u001b[0m\n\u001b[0m\u001b[1;32m      3\u001b[0m \u001b[0mkmeans_3\u001b[0m\u001b[0;34m=\u001b[0m\u001b[0mKMeans\u001b[0m\u001b[0;34m(\u001b[0m\u001b[0mn_clusters\u001b[0m\u001b[0;34m=\u001b[0m\u001b[0;36m3\u001b[0m\u001b[0;34m,\u001b[0m\u001b[0mrandom_state\u001b[0m\u001b[0;34m=\u001b[0m\u001b[0;36m10\u001b[0m\u001b[0;34m)\u001b[0m\u001b[0;34m\u001b[0m\u001b[0;34m\u001b[0m\u001b[0m\n\u001b[1;32m      4\u001b[0m \u001b[0mkcluster_3\u001b[0m\u001b[0;34m=\u001b[0m\u001b[0mkmeans_3\u001b[0m\u001b[0;34m.\u001b[0m\u001b[0mfit_predict\u001b[0m\u001b[0;34m(\u001b[0m\u001b[0mngo_scaled\u001b[0m\u001b[0;34m)\u001b[0m\u001b[0;34m\u001b[0m\u001b[0;34m\u001b[0m\u001b[0m\n\u001b[1;32m      5\u001b[0m \u001b[0mprint\u001b[0m\u001b[0;34m(\u001b[0m\u001b[0mkcluster_3\u001b[0m\u001b[0;34m)\u001b[0m\u001b[0;34m\u001b[0m\u001b[0;34m\u001b[0m\u001b[0m\n",
            "\u001b[0;32m/usr/local/lib/python3.10/dist-packages/sklearn/cluster/__init__.py\u001b[0m in \u001b[0;36m<module>\u001b[0;34m\u001b[0m\n\u001b[1;32m      4\u001b[0m \"\"\"\n\u001b[1;32m      5\u001b[0m \u001b[0;34m\u001b[0m\u001b[0m\n\u001b[0;32m----> 6\u001b[0;31m \u001b[0;32mfrom\u001b[0m \u001b[0;34m.\u001b[0m\u001b[0m_spectral\u001b[0m \u001b[0;32mimport\u001b[0m \u001b[0mspectral_clustering\u001b[0m\u001b[0;34m,\u001b[0m \u001b[0mSpectralClustering\u001b[0m\u001b[0;34m\u001b[0m\u001b[0;34m\u001b[0m\u001b[0m\n\u001b[0m\u001b[1;32m      7\u001b[0m from ._mean_shift import (mean_shift, MeanShift,\n\u001b[1;32m      8\u001b[0m                           estimate_bandwidth, get_bin_seeds)\n",
            "\u001b[0;32m/usr/local/lib/python3.10/dist-packages/sklearn/cluster/_spectral.py\u001b[0m in \u001b[0;36m<module>\u001b[0;34m\u001b[0m\n\u001b[1;32m     14\u001b[0m \u001b[0;32mfrom\u001b[0m \u001b[0;34m.\u001b[0m\u001b[0;34m.\u001b[0m\u001b[0mutils\u001b[0m\u001b[0;34m.\u001b[0m\u001b[0mvalidation\u001b[0m \u001b[0;32mimport\u001b[0m \u001b[0m_deprecate_positional_args\u001b[0m\u001b[0;34m\u001b[0m\u001b[0;34m\u001b[0m\u001b[0m\n\u001b[1;32m     15\u001b[0m \u001b[0;32mfrom\u001b[0m \u001b[0;34m.\u001b[0m\u001b[0;34m.\u001b[0m\u001b[0mutils\u001b[0m\u001b[0;34m.\u001b[0m\u001b[0mdeprecation\u001b[0m \u001b[0;32mimport\u001b[0m \u001b[0mdeprecated\u001b[0m\u001b[0;34m\u001b[0m\u001b[0;34m\u001b[0m\u001b[0m\n\u001b[0;32m---> 16\u001b[0;31m \u001b[0;32mfrom\u001b[0m \u001b[0;34m.\u001b[0m\u001b[0;34m.\u001b[0m\u001b[0mmetrics\u001b[0m\u001b[0;34m.\u001b[0m\u001b[0mpairwise\u001b[0m \u001b[0;32mimport\u001b[0m \u001b[0mpairwise_kernels\u001b[0m\u001b[0;34m\u001b[0m\u001b[0;34m\u001b[0m\u001b[0m\n\u001b[0m\u001b[1;32m     17\u001b[0m \u001b[0;32mfrom\u001b[0m \u001b[0;34m.\u001b[0m\u001b[0;34m.\u001b[0m\u001b[0mneighbors\u001b[0m \u001b[0;32mimport\u001b[0m \u001b[0mkneighbors_graph\u001b[0m\u001b[0;34m,\u001b[0m \u001b[0mNearestNeighbors\u001b[0m\u001b[0;34m\u001b[0m\u001b[0;34m\u001b[0m\u001b[0m\n\u001b[1;32m     18\u001b[0m \u001b[0;32mfrom\u001b[0m \u001b[0;34m.\u001b[0m\u001b[0;34m.\u001b[0m\u001b[0mmanifold\u001b[0m \u001b[0;32mimport\u001b[0m \u001b[0mspectral_embedding\u001b[0m\u001b[0;34m\u001b[0m\u001b[0;34m\u001b[0m\u001b[0m\n",
            "\u001b[0;32m/usr/local/lib/python3.10/dist-packages/sklearn/metrics/__init__.py\u001b[0m in \u001b[0;36m<module>\u001b[0;34m\u001b[0m\n\u001b[1;32m     37\u001b[0m \u001b[0;32mfrom\u001b[0m \u001b[0;34m.\u001b[0m\u001b[0m_classification\u001b[0m \u001b[0;32mimport\u001b[0m \u001b[0mmultilabel_confusion_matrix\u001b[0m\u001b[0;34m\u001b[0m\u001b[0;34m\u001b[0m\u001b[0m\n\u001b[1;32m     38\u001b[0m \u001b[0;34m\u001b[0m\u001b[0m\n\u001b[0;32m---> 39\u001b[0;31m \u001b[0;32mfrom\u001b[0m \u001b[0;34m.\u001b[0m \u001b[0;32mimport\u001b[0m \u001b[0mcluster\u001b[0m\u001b[0;34m\u001b[0m\u001b[0;34m\u001b[0m\u001b[0m\n\u001b[0m\u001b[1;32m     40\u001b[0m \u001b[0;32mfrom\u001b[0m \u001b[0;34m.\u001b[0m\u001b[0mcluster\u001b[0m \u001b[0;32mimport\u001b[0m \u001b[0madjusted_mutual_info_score\u001b[0m\u001b[0;34m\u001b[0m\u001b[0;34m\u001b[0m\u001b[0m\n\u001b[1;32m     41\u001b[0m \u001b[0;32mfrom\u001b[0m \u001b[0;34m.\u001b[0m\u001b[0mcluster\u001b[0m \u001b[0;32mimport\u001b[0m \u001b[0madjusted_rand_score\u001b[0m\u001b[0;34m\u001b[0m\u001b[0;34m\u001b[0m\u001b[0m\n",
            "\u001b[0;32m/usr/local/lib/python3.10/dist-packages/sklearn/metrics/cluster/__init__.py\u001b[0m in \u001b[0;36m<module>\u001b[0;34m\u001b[0m\n\u001b[1;32m      6\u001b[0m \u001b[0;34m-\u001b[0m \u001b[0munsupervised\u001b[0m\u001b[0;34m,\u001b[0m \u001b[0mwhich\u001b[0m \u001b[0mdoes\u001b[0m \u001b[0;32mnot\u001b[0m \u001b[0;32mand\u001b[0m \u001b[0mmeasures\u001b[0m \u001b[0mthe\u001b[0m \u001b[0;34m'quality'\u001b[0m \u001b[0mof\u001b[0m \u001b[0mthe\u001b[0m \u001b[0mmodel\u001b[0m \u001b[0mitself\u001b[0m\u001b[0;34m.\u001b[0m\u001b[0;34m\u001b[0m\u001b[0;34m\u001b[0m\u001b[0m\n\u001b[1;32m      7\u001b[0m \"\"\"\n\u001b[0;32m----> 8\u001b[0;31m \u001b[0;32mfrom\u001b[0m \u001b[0;34m.\u001b[0m\u001b[0m_supervised\u001b[0m \u001b[0;32mimport\u001b[0m \u001b[0madjusted_mutual_info_score\u001b[0m\u001b[0;34m\u001b[0m\u001b[0;34m\u001b[0m\u001b[0m\n\u001b[0m\u001b[1;32m      9\u001b[0m \u001b[0;32mfrom\u001b[0m \u001b[0;34m.\u001b[0m\u001b[0m_supervised\u001b[0m \u001b[0;32mimport\u001b[0m \u001b[0mnormalized_mutual_info_score\u001b[0m\u001b[0;34m\u001b[0m\u001b[0;34m\u001b[0m\u001b[0m\n\u001b[1;32m     10\u001b[0m \u001b[0;32mfrom\u001b[0m \u001b[0;34m.\u001b[0m\u001b[0m_supervised\u001b[0m \u001b[0;32mimport\u001b[0m \u001b[0madjusted_rand_score\u001b[0m\u001b[0;34m\u001b[0m\u001b[0;34m\u001b[0m\u001b[0m\n",
            "\u001b[0;32m/usr/local/lib/python3.10/dist-packages/sklearn/metrics/cluster/_supervised.py\u001b[0m in \u001b[0;36m<module>\u001b[0;34m\u001b[0m\n\u001b[1;32m     24\u001b[0m \u001b[0;34m\u001b[0m\u001b[0m\n\u001b[1;32m     25\u001b[0m \u001b[0;32mfrom\u001b[0m \u001b[0;34m.\u001b[0m\u001b[0m_expected_mutual_info_fast\u001b[0m \u001b[0;32mimport\u001b[0m \u001b[0mexpected_mutual_information\u001b[0m\u001b[0;34m\u001b[0m\u001b[0;34m\u001b[0m\u001b[0m\n\u001b[0;32m---> 26\u001b[0;31m \u001b[0;32mfrom\u001b[0m \u001b[0;34m...\u001b[0m\u001b[0mutils\u001b[0m\u001b[0;34m.\u001b[0m\u001b[0mfixes\u001b[0m \u001b[0;32mimport\u001b[0m \u001b[0m_astype_copy_false\u001b[0m\u001b[0;34m\u001b[0m\u001b[0;34m\u001b[0m\u001b[0m\n\u001b[0m\u001b[1;32m     27\u001b[0m \u001b[0;32mfrom\u001b[0m \u001b[0;34m...\u001b[0m\u001b[0mutils\u001b[0m\u001b[0;34m.\u001b[0m\u001b[0mmulticlass\u001b[0m \u001b[0;32mimport\u001b[0m \u001b[0mtype_of_target\u001b[0m\u001b[0;34m\u001b[0m\u001b[0;34m\u001b[0m\u001b[0m\n\u001b[1;32m     28\u001b[0m \u001b[0;32mfrom\u001b[0m \u001b[0;34m...\u001b[0m\u001b[0mutils\u001b[0m\u001b[0;34m.\u001b[0m\u001b[0mvalidation\u001b[0m \u001b[0;32mimport\u001b[0m \u001b[0m_deprecate_positional_args\u001b[0m\u001b[0;34m\u001b[0m\u001b[0;34m\u001b[0m\u001b[0m\n",
            "\u001b[0;31mImportError\u001b[0m: cannot import name '_astype_copy_false' from 'sklearn.utils.fixes' (/usr/local/lib/python3.10/dist-packages/sklearn/utils/fixes.py)",
            "",
            "\u001b[0;31m---------------------------------------------------------------------------\u001b[0;32m\nNOTE: If your import is failing due to a missing package, you can\nmanually install dependencies using either !pip or !apt.\n\nTo view examples of installing some common dependencies, click the\n\"Open Examples\" button below.\n\u001b[0;31m---------------------------------------------------------------------------\u001b[0m\n"
          ],
          "errorDetails": {
            "actions": [
              {
                "action": "open_url",
                "actionText": "Open Examples",
                "url": "/notebooks/snippets/importing_libraries.ipynb"
              }
            ]
          }
        }
      ]
    },
    {
      "cell_type": "markdown",
      "metadata": {
        "id": "nZCkaKhWCpzP"
      },
      "source": [
        "As you can see here, the dataset is divided into $3$ clusters labelled from `0` to `2`.\n",
        "\n",
        "Let us add these predicted labels as a new column to our original `ngo_df` DataFrame."
      ]
    },
    {
      "cell_type": "code",
      "metadata": {
        "id": "-4lKjgesL-zi"
      },
      "source": [
        "# S2.3: Add the cluster ID back to the 'ngo_df' DataDrame\n",
        "ngo_df['K_Label'] = kcluster_3\n",
        "ngo_df.head()"
      ],
      "execution_count": null,
      "outputs": []
    },
    {
      "cell_type": "markdown",
      "metadata": {
        "id": "D5E6nZ6BqhBr"
      },
      "source": [
        "Count the number of countries in each cluster obtained from K-Means clustering."
      ]
    },
    {
      "cell_type": "code",
      "metadata": {
        "id": "91t6eBcqO-0t"
      },
      "source": [
        "# S2.4: Check the country count per cluster\n",
        "ngo_df['K_Label'].value_counts()"
      ],
      "execution_count": null,
      "outputs": []
    },
    {
      "cell_type": "markdown",
      "metadata": {
        "id": "f2mPdsAZF-15"
      },
      "source": [
        "We can see that the number of clusters formed using K-Means clustering and Hierarchical clustering are different.\n",
        "\n",
        "\n",
        "Let us analyse the clusters obtained from K-Means by comparing how `child_mort`, `income`, `gdpp`, `health` vary for each cluster of countries.\n",
        "\n",
        "For this, let us create following four scatter plot using subplots:\n",
        "1. Scatter plot of `gdpp` vs `child_mort`.\n",
        "2. Scatter plot of `income` vs `child_mort`.\n",
        "3. Scatter plot of `gdpp` vs `income`.\n",
        "4. Scatter plot of `income` vs `health`.\n",
        "\n"
      ]
    },
    {
      "cell_type": "code",
      "metadata": {
        "id": "0sdvBduXG39V"
      },
      "source": [
        "# S2.5: Visualise the clusters using scatter plots.\n",
        "import seaborn as sns\n",
        "\n",
        "fig, axis = plt.subplots(nrows = 2, ncols = 2, figsize = (20, 10), dpi = 100)\n",
        "\n",
        "\n",
        "sns.scatterplot(x = 'gdpp', y = 'child_mort', hue = 'K_Label', ax = axis[0, 0],\n",
        "                data = ngo_df, legend = 'full', palette = \"Dark2\", s = 100)\n",
        "\n",
        "sns.scatterplot(x = 'income', y = 'child_mort', hue = 'K_Label', ax = axis[0, 1],\n",
        "                data = ngo_df, legend = 'full', palette = \"Dark2\", s = 100)\n",
        "\n",
        "sns.scatterplot(x = 'gdpp', y = 'income', hue = 'K_Label', ax = axis[0, 0],\n",
        "                data = ngo_df, legend = 'full', palette = \"Dark2\", s = 100)\n",
        "\n",
        "sns.scatterplot(x = 'income', y = 'health', hue = 'K_Label', ax = axis[0, 0],\n",
        "                data = ngo_df, legend = 'full', palette = \"Dark2\", s = 100)\n"
      ],
      "execution_count": null,
      "outputs": []
    },
    {
      "cell_type": "markdown",
      "metadata": {
        "id": "lzKSi_LiGt72"
      },
      "source": [
        "From the above graph, we can observe that <b><font color = 'purple'>Cluster `2`</b></font> countries are the most vulnerable as they have high child mortality, low GDP and low income. Also, these countries have the lowest healthcare budgets.\n",
        "\n",
        "\n",
        "Let us analyse the mean and median values of all the features of each cluster by grouping `ngo_df` DataFrame based on cluster labels obtained from K-Means.\n",
        "\n"
      ]
    },
    {
      "cell_type": "code",
      "metadata": {
        "id": "v7tFpYJPXUee"
      },
      "source": [
        "# S2.6: Perform 'groupby' analysis to analyse the mean value of each column.\n",
        "kc_analysis = ngo_df.groupby(['K_Label']).mean()\n",
        "kc_analysis"
      ],
      "execution_count": null,
      "outputs": []
    },
    {
      "cell_type": "code",
      "metadata": {
        "id": "tPgWV2kcoU_7"
      },
      "source": [
        "# S2.7: Perform 'groupby' analysis to analyse the median value of each column.\n",
        "kc_analysis = ngo_df.groupby(['K_Label']).median()\n",
        "kc_analysis"
      ],
      "execution_count": null,
      "outputs": []
    },
    {
      "cell_type": "markdown",
      "metadata": {
        "id": "iZlCzCOkHosT"
      },
      "source": [
        "**Note:** Ignore the `H_Label` column values in the above DataFrame.\n",
        "\n",
        "You may observe the difference between mean and median values of the columns for all the clusters. It may be due to the outliers in the dataset.\n",
        "\n",
        "From both mean and median values, you may observe that the Cluster `2` countries have the highest child mortality, total fertility, and lowest value of other attributes like exports, healthcare budget, income, etc.\n",
        "\n",
        "Let us again create barplots for all the columns of `ngo_df` DataFrame except the `country` column.\n"
      ]
    },
    {
      "cell_type": "code",
      "metadata": {
        "id": "cFf0uqD8XnJ8"
      },
      "source": [
        "# S2.8: Create barplots for numeric columns using subplot.\n",
        "fig2, axis2 = plt.subplots(nrows = 3, ncols = 3, figsize = (18, 9), dpi = 100, sharex = False)\n",
        "# As there are 9 columns, we created subplot having 3 rows and 3 columns.\n",
        "count = 1\n",
        "\n",
        "for i in range(0, 3):\n",
        "  for j in range (0, 3):\n",
        "    column = ngo_df.iloc[:, count]    # Fetching the current column and all rows of that column.\n",
        "    sns.barplot(data = ngo_df, x = 'K_Label', y = column, ax = axis2[i, j], color = bp_palette[count])\n",
        "    count = count + 1\n",
        "\n",
        "plt.show()"
      ],
      "execution_count": null,
      "outputs": []
    },
    {
      "cell_type": "markdown",
      "metadata": {
        "id": "seztbb4AIseF"
      },
      "source": [
        "These plots are similar to Hierarchical clustering algorithm plots and hence our analysis is good. Hence, based on the graphs above,  we should consider cluster `2` countries for NGO aid.\n",
        "\n",
        "Let us list down top 10 countries that require financial aid on priority by sorting column values of `child_mort`, `income`, `health`, and `gdpp` columns.\n",
        "\n",
        "For this, apply `sort_values()` function on `ngo_df` DataFrame for cluster label `2`, as done for Hierarchical clustering."
      ]
    },
    {
      "cell_type": "code",
      "metadata": {
        "id": "R8XgEKMcPYdu"
      },
      "source": [
        "# S2.9: List top 10 countries of Cluster 2 that are in dire need of financial aid and store it in 'km_top10' variable.\n",
        "km_top10 = ngo_df[ngo_df['K_Label'] == 2].sort_values(by = ['child_mort','income', 'health', 'gdpp'],\n",
        "                                                      ascending = [False, True, True, True]).head(10)\n",
        "km_top10"
      ],
      "execution_count": null,
      "outputs": []
    },
    {
      "cell_type": "code",
      "metadata": {
        "id": "aGE-LbbSPqNO"
      },
      "source": [
        "# S2.10: List down the values of 'country' column of 'km_top10'\n",
        "km_top10['country']"
      ],
      "execution_count": null,
      "outputs": []
    },
    {
      "cell_type": "markdown",
      "metadata": {
        "id": "WPs6T7w0Lvvy"
      },
      "source": [
        "Let us find out whether the top 10 countries that are in dire need of financial aid are the same or different for both clustering algorithms."
      ]
    },
    {
      "cell_type": "code",
      "metadata": {
        "id": "x71xtKg6PueK"
      },
      "source": [
        "# S2.10: Compare countries of 'km_top10' with 'hc_top10'.\n",
        "list(km_top10['country'])==list(hm_top10['country'])"
      ],
      "execution_count": null,
      "outputs": []
    },
    {
      "cell_type": "markdown",
      "metadata": {
        "id": "XnVQ3lYVZ-LO"
      },
      "source": [
        "We can see that though the number of clusters obtained using K-Means and Hierarchical clustering are different, both the algorithms provided the same 10 countries which require the aid of NGO.\n",
        "\n",
        "Now that we have explored two main unsupervised learning algorithms, let us learn a few evaluation metrics for clustering algorithms.\n"
      ]
    },
    {
      "cell_type": "markdown",
      "metadata": {
        "id": "afUSIgza6pDR"
      },
      "source": [
        "---"
      ]
    },
    {
      "cell_type": "markdown",
      "metadata": {
        "id": "Oz5UPBv16fs7"
      },
      "source": [
        "#### Activity 3: Evaluating Clustering Algorithms\n",
        "\n",
        "We had already explored various evaluation metrics like RMSE, MAE, $R^2$, etc. to validate the performance of  various supervised learning algorithms.\n",
        "\n",
        "However, in the case of unsupervised learning, evaluating the algorithm performance is not very straightforward as we do not have the ground truth.  It is not as trivial as counting the number of errors or the precision and recall as in supervised learning algorithms, due to absence of true labels.\n",
        "\n",
        "The clustering algorithms are evaluated based on some similarity and dissimilarity measures. A good clustering algorithm will split the dataset into clusters in such a way that:\n",
        "\n",
        "- The objects in the same cluster are similar or to each other as much as possible.\n",
        "- The objects belonging to different clusters are highly distinct from each other.\n",
        "\n",
        "The two most popular evaluation metrics for clustering algorithms are the Silhouette score and DB Index.\n",
        "\n",
        "**1. Silhouette score:**\n",
        "\n",
        "We had already explored the Silhouette score in one of the previous lessons. Let us recall that.\n",
        "\n",
        "- The silhouette coefficient of each data point measures how much that data point is similar or close to its own cluster and how much it is distinct from other clusters.\n",
        "\n",
        "- The silhouette coefficient of data point $i$ is calculated as:\n",
        "\n",
        "\\begin{align}\n",
        "  s(i) = \\frac{b(i)-a(i)}{\\text{max}(b(i),a(i))}\n",
        "\\end{align}\n",
        "\n",
        "Where,\n",
        "\n",
        "  - $b(i)$: It is the average distance of the data point $i$ with all the points in the closest cluster to its cluster. It is also known as *Mean Inter-cluster distance*.\n",
        "  <center><img src=\"https://s3-whjr-v2-prod-bucket.whjr.online/6a2b08d7-145c-4c9b-957f-9ab9be8dc685.gif\"/></center>\n",
        "\n",
        "  - $a(i)$: It is the average distance of data point $i$ with all other points in the same clusters. It is also known as *Mean Intra-cluster distance*.\n",
        "\n",
        "  <center>\n",
        "<img src=\"https://s3-whjr-v2-prod-bucket.whjr.online/dfa627bd-9097-43df-b54b-0e327c417163.gif\"/></center>\n",
        "\n",
        "After calculating the silhouette coefficient for each point, average it out to get the **Silhouette score**. The Silhouette score  falls within the range `[-1, 1]`. Higher Silhouette scores indicate dense and well-separated clusters.\n",
        "\n",
        "We can obtain the Silhouette score using the `silhouette_score` class of `sklearn.metrics` module.\n",
        "\n",
        "> **Syntax:** `sklearn.metrics.silhouette_score(dataset, cluster_labels`)\n",
        "\n",
        "> Where,\n",
        "  - `dataset`: The dataset which needs to be clustered.\n",
        "  - `cluster_labels`: The cluster labels predicted by clustering algorithm.\n",
        "\n",
        "Let us now calculate the Silhouette score for both the clustering algorithms and determine which algorithm has better score."
      ]
    },
    {
      "cell_type": "code",
      "metadata": {
        "id": "RmdglRujLSpF"
      },
      "source": [
        "# S3.1: Calculate Silhouette score of Hierarchical clustering.\n",
        "from sklearn.metrics import silhouette_score\n",
        "\n",
        "silhouette_score(ngo_df.iloc[:, 1:], ngo_df['H_Label'])  # exclude 'country' column from 'ngo_df' otherwise you will get error"
      ],
      "execution_count": null,
      "outputs": []
    },
    {
      "cell_type": "code",
      "metadata": {
        "id": "-nOUmXD9aBBI"
      },
      "source": [
        "# S3.2: Calculate Silhouette score of K-Means clustering.\n",
        "silhouette_score(ngo_df.iloc[:, 1:], ngo_df['K_Label'])"
      ],
      "execution_count": null,
      "outputs": []
    },
    {
      "cell_type": "markdown",
      "metadata": {
        "id": "7pibwRvqbnhH"
      },
      "source": [
        "You may observe that Hierarchical clustering has a higher Silhouette score as compared to K-Means. This means that the clusters obtained from Hierarchical clustering are dense and well separated, which relates to the standard concept of a cluster.\n",
        "\n",
        "**2. DB Index**\n",
        "\n",
        "Another metric for evaluating a clustering algorithm is **Davies–Bouldin** index (DB index).\n",
        "\n",
        "- It is defined as the average similarity measure of each cluster with its most similar cluster, where similarity is the ratio of within-cluster distances to between-cluster distances.\n",
        "\n",
        "\n",
        "\\begin{align}\n",
        "\\text{DBI} = \\frac{1}{k} \\sum_{i = 1}^{k} \\underset{i \\neq j}{\\max} \\left\\{\\frac {\\sigma_i + \\sigma_j}{\\delta(c_i, c_j)}\\right\\}\n",
        "\\end{align}\n",
        "\n",
        "Where,\n",
        "  - $k$ is the number of clusters.\n",
        "  - $\\delta(c_i, c_j)$ is the distance between centroid clusters $c_i$ and $c_j$ i.e. intercluster distance.\n",
        "\n",
        "  <center><img src=\"https://s3-whjr-v2-prod-bucket.whjr.online/776000d4-5c61-46ca-b3cd-07ef5db420a1.png\"/></center>\n",
        "  - $\\sigma_i$ is the average distance within cluster $i$ i.e. the intracluster distance of Cluster $i$.\n",
        "\n",
        "  <center><img src=\"https://s3-whjr-v2-prod-bucket.whjr.online/743a2745-4173-47bd-996e-6f01ca21dfe8.png\"/> </center>\n",
        "\n",
        "Thus, like silhouette coefficient, the DB index captures both the separation and compactness of the clusters.\n",
        "\n",
        "But unlike silhouette coefficient, as DB index falls, the clustering improves. Lower DB index values indicate that the clusters are far enough and less scattered.\n",
        "\n",
        "\n",
        "We can obtain the DB index using `davies_bouldin_score()` function of `sklearn.metrics` module.\n",
        "\n",
        "\n",
        "> **Syntax:** `sklearn.metrics.davies_bouldin_score(dataset, cluster_labels`)\n",
        "\n",
        "> Where,\n",
        "  - `dataset`: The dataset to be clustered.\n",
        "  - `cluster_labels`: The cluster labels predicted by clustering algorithm.\n",
        "\n",
        "Let us now calculate the DB score for both the clustering algorithms and determine which algorithm has better score."
      ]
    },
    {
      "cell_type": "code",
      "metadata": {
        "id": "nP9auo_QRa98"
      },
      "source": [
        "# S3.3: Calculate DB score of Hierarchical clustering.\n",
        "from sklearn.metrics import davies_bouldin_score\n",
        "hc_dbscore = davies_bouldin_score(ngo_df.iloc[:,1:], ngo_df['H_Label'])\n",
        "hc_dbscore"
      ],
      "execution_count": null,
      "outputs": []
    },
    {
      "cell_type": "code",
      "metadata": {
        "id": "BBMLfPVsR0uC"
      },
      "source": [
        "# S3.4: Calculate DB score of K-Means clustering.\n",
        "km_dbscore = davies_bouldin_score(ngo_df.iloc[:,1:], ngo_df['K_Label'])\n",
        "km_dbscore"
      ],
      "execution_count": null,
      "outputs": []
    },
    {
      "cell_type": "markdown",
      "metadata": {
        "id": "HA_d3GPaklfX"
      },
      "source": [
        "You may observe that K-Means have a very bad DB index score clearly indicating that the clusters are not well separated and are highly scattered. This was also evident in the scatterplots obtained for K-Means clustering.\n",
        "\n",
        "Hence, both the scores indicated that the Hierarchical clustering formed better clusters than K-Means for the NGO problem statement.\n",
        "\n"
      ]
    },
    {
      "cell_type": "markdown",
      "metadata": {
        "id": "7EebDcqv_YNc"
      },
      "source": [
        "In the next class, we will explore a new problem statement and learn a dimensionality reduction technique."
      ]
    },
    {
      "cell_type": "markdown",
      "metadata": {
        "id": "Uh1tb12hsFuD"
      },
      "source": [
        "### **Project**\n",
        "You can now attempt the **Applied Tech Project 114 - Hierarchical Clustering III** on your own.\n",
        "\n",
        "**Applied Tech Project 114 - Hierarchical Clustering III**: https://colab.research.google.com/drive/1RMYTA2mlGIYp3-jWXgOX_mlp-cykEwNG"
      ]
    },
    {
      "cell_type": "markdown",
      "metadata": {
        "id": "o2uhUCRgsNrD"
      },
      "source": [
        "---"
      ]
    }
  ]
}