{
  "nbformat": 4,
  "nbformat_minor": 0,
  "metadata": {
    "colab": {
      "provenance": [],
      "include_colab_link": true
    },
    "kernelspec": {
      "name": "python3",
      "display_name": "Python 3"
    }
  },
  "cells": [
    {
      "cell_type": "markdown",
      "metadata": {
        "id": "view-in-github",
        "colab_type": "text"
      },
      "source": [
        "<a href=\"https://colab.research.google.com/github/twisha-k/Python_notes/blob/main/37_coding.ipynb\" target=\"_parent\"><img src=\"https://colab.research.google.com/assets/colab-badge.svg\" alt=\"Open In Colab\"/></a>"
      ]
    },
    {
      "cell_type": "markdown",
      "metadata": {
        "id": "LHMNPeUke3VC"
      },
      "source": [
        "# Lesson 37: Capstone Class - String Operations III"
      ]
    },
    {
      "cell_type": "markdown",
      "metadata": {
        "id": "d0RqwmGHOaUo"
      },
      "source": [
        "### Teacher-Student Activities\n",
        "\n",
        "Welcome to the Capstone Class. Are you prepared for today's challenge?\n",
        "Let's continue our quest to understand String Operations further.\n",
        "\n",
        "In this class, we will learn the remaining string operations/functions in Python."
      ]
    },
    {
      "cell_type": "markdown",
      "metadata": {
        "id": "1ndsjaU3X0V7"
      },
      "source": [
        "---"
      ]
    },
    {
      "cell_type": "markdown",
      "metadata": {
        "id": "CFg0CuZyh1o5"
      },
      "source": [
        "#### Activity 1: The `strip(), lstrip()` & `rstrip()` Functions\n",
        "\n",
        "The `strip()` function removes any unwanted item from a string present at both ends of a string. By-default it removes the whitespaces unless otherwise specified.\n",
        "\n",
        "The string below contains many `#` symbols, whitespaces and commas`.\n",
        "\n",
        "`' #food, #foodie, #yummy, #delicious, #foodislife ## '`\n",
        "\n",
        "Let's remove the whitespaces and `#` symbols from both ends of the string using the `strip()` function.\n",
        "\n",
        "**Syntax:** `string.strip(character)`\n",
        "\n",
        "where `character` is the character to be removed from both ends of a string."
      ]
    },
    {
      "cell_type": "code",
      "metadata": {
        "id": "mxbTH791h0cD",
        "colab": {
          "base_uri": "https://localhost:8080/",
          "height": 35
        },
        "outputId": "02f973e5-adc6-474c-85ea-65890331dac3"
      },
      "source": [
        "# Student Action: Remove whitespaces from both ends of the given string.\n",
        "string1=' #food, #foodie, #yummy, #delicious, #foodislife ## '\n",
        "str2=string1.strip()\n",
        "str2"
      ],
      "execution_count": null,
      "outputs": [
        {
          "output_type": "execute_result",
          "data": {
            "application/vnd.google.colaboratory.intrinsic+json": {
              "type": "string"
            },
            "text/plain": [
              "'#food, #foodie, #yummy, #delicious, #foodislife ##'"
            ]
          },
          "metadata": {},
          "execution_count": 2
        }
      ]
    },
    {
      "cell_type": "code",
      "metadata": {
        "id": "pYt-Qka3eHsM",
        "colab": {
          "base_uri": "https://localhost:8080/",
          "height": 35
        },
        "outputId": "c43ec826-a1f9-419a-9b98-beb0716e8397"
      },
      "source": [
        "# Student Action: Strip whitespaces and '#' symbols from both ends of the given string.\n",
        "string1=' #food, #foodie, #yummy, #delicious, #foodislife ## '\n",
        "str3=string1.strip(' #')\n",
        "str3"
      ],
      "execution_count": null,
      "outputs": [
        {
          "output_type": "execute_result",
          "data": {
            "application/vnd.google.colaboratory.intrinsic+json": {
              "type": "string"
            },
            "text/plain": [
              "'food, #foodie, #yummy, #delicious, #foodislife'"
            ]
          },
          "metadata": {},
          "execution_count": 3
        }
      ]
    },
    {
      "cell_type": "markdown",
      "metadata": {
        "id": "aoY0M97aokd_"
      },
      "source": [
        "If you want to remove some character only from the rightmost end side of a string, then you can use the `rstrip()` function.\n",
        "\n",
        "**Syntax:** `string.rstrip(character)`\n",
        "\n",
        "where `character` is the character to be removed from the rightmost end of a string."
      ]
    },
    {
      "cell_type": "code",
      "metadata": {
        "id": "n0TMCqhlleeb",
        "colab": {
          "base_uri": "https://localhost:8080/",
          "height": 35
        },
        "outputId": "cc33eb6a-45d4-4179-feb5-1c024e5344f5"
      },
      "source": [
        "# Student Action: Strip whitespaces and '#' symbols from the rightmost end of the given string.\n",
        "string1=' #food, #foodie, #yummy, #delicious, #foodislife ## '\n",
        "str4=string1.rstrip(' #')\n",
        "str4"
      ],
      "execution_count": null,
      "outputs": [
        {
          "output_type": "execute_result",
          "data": {
            "application/vnd.google.colaboratory.intrinsic+json": {
              "type": "string"
            },
            "text/plain": [
              "' #food, #foodie, #yummy, #delicious, #foodislife'"
            ]
          },
          "metadata": {},
          "execution_count": 4
        }
      ]
    },
    {
      "cell_type": "markdown",
      "metadata": {
        "id": "GoYtEnCRuklj"
      },
      "source": [
        "If you want to remove some character only from the leftmost end side of a string, then you can use the `lstrip()` function.\n",
        "\n",
        "**Syntax:** `string.lstrip(character)`\n",
        "\n",
        "where `character` is the character to be removed from the leftmost end of a string."
      ]
    },
    {
      "cell_type": "code",
      "metadata": {
        "id": "cJpIOHAspGhN",
        "colab": {
          "base_uri": "https://localhost:8080/",
          "height": 35
        },
        "outputId": "592add50-a887-4694-c761-0fbef193b0e6"
      },
      "source": [
        "# Student Action: Strip whitespaces and '#' symbols from the leftmost end of the given string.\n",
        "string1=' #food, #foodie, #yummy, #delicious, #foodislife ## '\n",
        "str5=string1.lstrip(' #')\n",
        "str5"
      ],
      "execution_count": null,
      "outputs": [
        {
          "output_type": "execute_result",
          "data": {
            "application/vnd.google.colaboratory.intrinsic+json": {
              "type": "string"
            },
            "text/plain": [
              "'food, #foodie, #yummy, #delicious, #foodislife ## '"
            ]
          },
          "metadata": {},
          "execution_count": 5
        }
      ]
    },
    {
      "cell_type": "markdown",
      "metadata": {
        "id": "yCZ_uXveu-fz"
      },
      "source": [
        "---"
      ]
    },
    {
      "cell_type": "markdown",
      "metadata": {
        "id": "ZiFoVm3Iu_v6"
      },
      "source": [
        "#### Activity 2: The `split()` Function\n",
        "\n",
        "The `split()` function splits a string and returns a list of splitted strings.\n",
        "\n",
        "For example, the `split()` function will split the string `' #food, #foodie, #yummy, #delicious, #foodislife ## '` and will return a list containing its fragments as items."
      ]
    },
    {
      "cell_type": "code",
      "metadata": {
        "id": "XYMb7xHPu_Hu",
        "colab": {
          "base_uri": "https://localhost:8080/"
        },
        "outputId": "60edcbb3-ac24-4baa-ff81-1e920fd89a7e"
      },
      "source": [
        "# Student Action: Apply the 'split()' function without passing any input to it on the given string.\n",
        "string1=' #food, #foodie, #yummy, #delicious, #foodislife ## '\n",
        "str6=string1.split()\n",
        "str6"
      ],
      "execution_count": null,
      "outputs": [
        {
          "output_type": "execute_result",
          "data": {
            "text/plain": [
              "['#food,', '#foodie,', '#yummy,', '#delicious,', '#foodislife', '##']"
            ]
          },
          "metadata": {},
          "execution_count": 6
        }
      ]
    },
    {
      "cell_type": "markdown",
      "metadata": {
        "id": "wVMLyWJzvqGu"
      },
      "source": [
        "By default, the `split()` function splits a string about whitespace. If you want to split a string about a particular item, then you have to specify that item as an input to the `split()` function.\n",
        "\n",
        "Let's split the string `' #food, #foodie, #yummy, #delicious, #foodislife ## '` about the comma and whitespace."
      ]
    },
    {
      "cell_type": "code",
      "metadata": {
        "id": "Fa6QhswjdeLX",
        "colab": {
          "base_uri": "https://localhost:8080/"
        },
        "outputId": "30dfe341-60bf-4be6-ecbd-b4a495bbc7ce"
      },
      "source": [
        "# Student Action: Split the string ' #food, #foodie, #yummy, #delicious, #foodislife ## ' about the whitespace and comma.\n",
        "string1=' #food, #foodie, #yummy, #delicious, #foodislife ## '\n",
        "str7=string1.split(', ')\n",
        "str7"
      ],
      "execution_count": null,
      "outputs": [
        {
          "output_type": "execute_result",
          "data": {
            "text/plain": [
              "[' #food', '#foodie', '#yummy', '#delicious', '#foodislife ## ']"
            ]
          },
          "metadata": {},
          "execution_count": 7
        }
      ]
    },
    {
      "cell_type": "code",
      "metadata": {
        "colab": {
          "base_uri": "https://localhost:8080/"
        },
        "id": "XODT0UMTl0kh",
        "outputId": "49656425-100d-4b9e-df1d-f2214492db16"
      },
      "source": [
        "string1=' #food, #foodie, #yummy, #delicious, #foodislife ## '\n",
        "str8=string1.split(' #')\n",
        "str8"
      ],
      "execution_count": null,
      "outputs": [
        {
          "output_type": "execute_result",
          "data": {
            "text/plain": [
              "['', 'food,', 'foodie,', 'yummy,', 'delicious,', 'foodislife', '# ']"
            ]
          },
          "metadata": {},
          "execution_count": 8
        }
      ]
    },
    {
      "cell_type": "code",
      "metadata": {
        "id": "vzj5y1FbvojZ",
        "colab": {
          "base_uri": "https://localhost:8080/"
        },
        "outputId": "9461a75a-f5a8-4ab3-942f-01583f5daf61"
      },
      "source": [
        "# Student Action: Remove the hash symbols and whitespaces from all the items contained in the above list. Store the cleaned items in a new list.\n",
        "print(str7)\n",
        "new_list=[]\n",
        "for i in str7:\n",
        "  new_list.append(i.strip(' #'))\n",
        "print(new_list)"
      ],
      "execution_count": null,
      "outputs": [
        {
          "output_type": "stream",
          "text": [
            "[' #food', '#foodie', '#yummy', '#delicious', '#foodislife ## ']\n",
            "['food', 'foodie', 'yummy', 'delicious', 'foodislife']\n"
          ],
          "name": "stdout"
        }
      ]
    },
    {
      "cell_type": "markdown",
      "metadata": {
        "id": "Q0bB5qCCwQ5G"
      },
      "source": [
        "---"
      ]
    },
    {
      "cell_type": "markdown",
      "metadata": {
        "id": "4cDLkzOHwbeY"
      },
      "source": [
        "#### Activity 3: The `join()` Function\n",
        "\n",
        "To join the items contained in a list to form a string, you can use the `join()` function.\n",
        "\n",
        "**Syntax:** `joining_character.join(list)`\n",
        "\n",
        "\n",
        "**Note:** This function works on the lists containing only the string items.\n"
      ]
    },
    {
      "cell_type": "code",
      "metadata": {
        "id": "Cs48MLoFvU6_",
        "colab": {
          "base_uri": "https://localhost:8080/",
          "height": 35
        },
        "outputId": "4bff2156-2ec7-4bca-d3eb-f3c684d2515c"
      },
      "source": [
        "# Student Action: Create a new string by joining the items of the above list (containing clean items) about whitespace.\n",
        "new_string= ' '.join(new_list)\n",
        "new_string"
      ],
      "execution_count": null,
      "outputs": [
        {
          "output_type": "execute_result",
          "data": {
            "application/vnd.google.colaboratory.intrinsic+json": {
              "type": "string"
            },
            "text/plain": [
              "'food foodie yummy delicious foodislife'"
            ]
          },
          "metadata": {},
          "execution_count": 11
        }
      ]
    },
    {
      "cell_type": "markdown",
      "metadata": {
        "id": "Ve4pjwAKkx6I"
      },
      "source": [
        "Let's write a code to create a 12 character long password containing a combination of lowercase & uppercase English letters numbers and special characters.\n",
        "\n",
        "For this exercise, we have to import the `string` module that contains the following string constants.\n",
        "\n",
        "1. `string.ascii_lowercase`: A constant string of lowercase letters, i.e.,`'abcdefghijklmnopqrstuvwxyz'`\n",
        "\n",
        "2. `string.ascii_uppercase`: A constant string of uppercase letters, i.e., `'ABCDEFGHIJKLMNOPQRSTUVWXYZ'`\n",
        "\n",
        "3. `string.ascii_letters`: A constant string containing the concatenation of the `ascii_lowercase` and `ascii_uppercase` constants, i.e., `'abcdefghijklmnopqrstuvwxyzABCDEFGHIJKLMNOPQRSTUVWXYZ'`\n",
        "\n",
        "4. `string.digits`: A constant string of the digits, i.e, `'0123456789'`\n",
        "\n",
        "5. `string.punctuation`: A constant string of ASCII characters which are considered as punctuation characters, i.e., ``!\"#$%&'()*+,-./:;<=>?@[\\]^_`{|}~``\n",
        "\n",
        "The constants are those values which are universally true. E.g., value of `pi = 3.141` etc.\n",
        "\n",
        "Of course, you can create all of the above on your own by typing them individually. But then your life will become miserable."
      ]
    },
    {
      "cell_type": "code",
      "metadata": {
        "id": "l7UvAgLqthax",
        "colab": {
          "base_uri": "https://localhost:8080/",
          "height": 35
        },
        "outputId": "9d0624f3-a421-4c8f-cc1d-666ab6b69da9"
      },
      "source": [
        "# Student Action: Write a code to generate a 12 character long random password containing a combination of lowercase &\n",
        "# uppercase English letters numbers and special characters.\n",
        "import string\n",
        "import random\n",
        "password=string.ascii_letters+string.digits+string.punctuation\n",
        "password\n",
        "''.join([password[random.randint(0,len(password)-1)] for i in range(12)])\n"
      ],
      "execution_count": null,
      "outputs": [
        {
          "output_type": "execute_result",
          "data": {
            "application/vnd.google.colaboratory.intrinsic+json": {
              "type": "string"
            },
            "text/plain": [
              "'cR%*gt]/3P~O'"
            ]
          },
          "metadata": {},
          "execution_count": 16
        }
      ]
    },
    {
      "cell_type": "markdown",
      "metadata": {
        "id": "VqSTUpO-o-8X"
      },
      "source": [
        "In the above code:\n",
        "\n",
        "- An alphanumeric string is created by concatenating the `string.ascii_letters, string.digits, string.punctuation` constants.\n",
        "\n",
        "- A list is created using the list comprehension method:\n",
        "\n",
        "    - By first generating 12 random integers between `0` and `93`. They act as indices for any 12 items of the alphanumeric string.\n",
        "\n",
        "    - Then, by adding the items to the list that are retrieved from the alphanumeric string.\n",
        "\n",
        "- The `join()` function joins the items of the above list about an empty string."
      ]
    },
    {
      "cell_type": "markdown",
      "metadata": {
        "id": "ASoiuhx3yPzV"
      },
      "source": [
        "---"
      ]
    },
    {
      "cell_type": "markdown",
      "metadata": {
        "id": "JEnaq7CeyQ9Q"
      },
      "source": [
        "#### Activity 4: The `capitalize(), lower(), upper()` & `title()` Functions\n",
        "\n",
        "The `capitalize()` function, capitalizes only the item at `index = 0` provided that the item is a lowercase English letter. The syntax is `string.capitalize()`."
      ]
    },
    {
      "cell_type": "code",
      "metadata": {
        "id": "ln7sQZkV9h-_",
        "colab": {
          "base_uri": "https://localhost:8080/"
        },
        "outputId": "629d03fa-d790-400e-92ed-71f2c1e7bdb0"
      },
      "source": [
        "# Student Action: Create a string having the first item as a lowercase English letter. Then, apply the 'capitalize()' function on it.\n",
        "quote = \"tell me and i forget. teach me and i remember. involve me and i learn.\"\n",
        "cap_str=quote.capitalize()\n",
        "print(cap_str)"
      ],
      "execution_count": null,
      "outputs": [
        {
          "output_type": "stream",
          "text": [
            "Tell me and i forget. teach me and i remember. involve me and i learn.\n"
          ],
          "name": "stdout"
        }
      ]
    },
    {
      "cell_type": "markdown",
      "metadata": {
        "id": "CyONvRyCJCB-"
      },
      "source": [
        "The `lower()` function converts all the uppercase English letters to the lowercase letters. The syntax is `string.lower()`"
      ]
    },
    {
      "cell_type": "code",
      "metadata": {
        "id": "2nFS5jxiw0Kt",
        "colab": {
          "base_uri": "https://localhost:8080/"
        },
        "outputId": "2ea64ed1-f5f8-4894-b7df-da051eae79dc"
      },
      "source": [
        "# Student Action: Apply the 'lower()' function on the above capitalized string.\n",
        "low_str=quote.lower()\n",
        "print(low_str)"
      ],
      "execution_count": null,
      "outputs": [
        {
          "output_type": "stream",
          "text": [
            "tell me and i forget. teach me and i remember. involve me and i learn.\n"
          ],
          "name": "stdout"
        }
      ]
    },
    {
      "cell_type": "markdown",
      "metadata": {
        "id": "l-z_bvzIJoXo"
      },
      "source": [
        "The `upper()` function converts all the lowercase English letters to the uppercase letters. The syntax is `string.upper()`"
      ]
    },
    {
      "cell_type": "code",
      "metadata": {
        "id": "sbVqMkPCZxpv",
        "colab": {
          "base_uri": "https://localhost:8080/"
        },
        "outputId": "28b4a439-9684-4cf4-f88b-80a92d3ef5b2"
      },
      "source": [
        "# Student Action: Apply the 'upper()' function on the above lowercase string.\n",
        "up_str=quote.upper()\n",
        "print(up_str)"
      ],
      "execution_count": null,
      "outputs": [
        {
          "output_type": "stream",
          "text": [
            "TELL ME AND I FORGET. TEACH ME AND I REMEMBER. INVOLVE ME AND I LEARN.\n"
          ],
          "name": "stdout"
        }
      ]
    },
    {
      "cell_type": "markdown",
      "metadata": {
        "id": "trc26JlyK9Fk"
      },
      "source": [
        "The `title()` function capitalizes the first English letter of every word in a string provided that the words are separated in some way. The syntax is `string.title()`"
      ]
    },
    {
      "cell_type": "code",
      "metadata": {
        "id": "G3NPpHQPZwMK",
        "colab": {
          "base_uri": "https://localhost:8080/"
        },
        "outputId": "8307444c-09d6-41b2-cb51-e41e2196539c"
      },
      "source": [
        "# Student Action: Apply the 'title()' function on the above uppercase string.\n",
        "tit_str=quote.title()\n",
        "print(tit_str)"
      ],
      "execution_count": null,
      "outputs": [
        {
          "output_type": "stream",
          "text": [
            "Tell Me And I Forget. Teach Me And I Remember. Involve Me And I Learn.\n"
          ],
          "name": "stdout"
        }
      ]
    },
    {
      "cell_type": "markdown",
      "metadata": {
        "id": "jw7jMsa2NQ1q"
      },
      "source": [
        "---"
      ]
    },
    {
      "cell_type": "markdown",
      "metadata": {
        "id": "DtKI0JeVN9U5"
      },
      "source": [
        "#### Activity 5: The `isupper(), islower()` & `istitle()` Functions\n",
        "\n",
        "The `istitle()` function returns `True` if the words in a string are in a title case. Otherwise, it returns `False`."
      ]
    },
    {
      "cell_type": "code",
      "metadata": {
        "id": "9Rg7h5KHNipJ",
        "colab": {
          "base_uri": "https://localhost:8080/"
        },
        "outputId": "3918e1bf-6666-4b55-883d-091dfb435253"
      },
      "source": [
        "# Student Action: Apply the 'istitle()' function on the string that is in the title case.\n",
        "tit_str.istitle()"
      ],
      "execution_count": null,
      "outputs": [
        {
          "output_type": "execute_result",
          "data": {
            "text/plain": [
              "True"
            ]
          },
          "metadata": {},
          "execution_count": 21
        }
      ]
    },
    {
      "cell_type": "markdown",
      "metadata": {
        "id": "FXNvpkRgPQto"
      },
      "source": [
        "While applying the `istitle()` function on each English letter one-by-one, it returns `True` if the letter is in uppercase. Otherwise, it returns `False`."
      ]
    },
    {
      "cell_type": "code",
      "metadata": {
        "id": "soYffnhONsmM",
        "colab": {
          "base_uri": "https://localhost:8080/"
        },
        "outputId": "031b3f85-4248-4fa8-9eeb-2eb06e858d2c"
      },
      "source": [
        "# Student Action: Iterate through the first 10 items in the title cased string and also apply the 'istitle()' function.\n",
        "for i in tit_str[:10]:\n",
        "  print(i,i.istitle())"
      ],
      "execution_count": null,
      "outputs": [
        {
          "output_type": "stream",
          "text": [
            "T True\n",
            "e False\n",
            "l False\n",
            "l False\n",
            "  False\n",
            "M True\n",
            "e False\n",
            "  False\n",
            "A True\n",
            "n False\n"
          ],
          "name": "stdout"
        }
      ]
    },
    {
      "cell_type": "markdown",
      "metadata": {
        "id": "Mcn0DPyIQK4h"
      },
      "source": [
        "Similarly, the `isupper()` function returns `True` if an English letter is in uppercase and the `islower()` function returns `True` if an English letter is in lowercase. Otherwise, they return `False`."
      ]
    },
    {
      "cell_type": "markdown",
      "metadata": {
        "id": "UChMXLiTaWe3"
      },
      "source": [
        "---"
      ]
    },
    {
      "cell_type": "markdown",
      "metadata": {
        "id": "FppweQm1RI-U"
      },
      "source": [
        "#### Activity 6: The `ljust(), rjust()` & `center()` Functions^^^\n",
        "\n",
        "The `ljust()` function returns a fixed-length string padded with some special character and justifies (or aligns) it on the left-hand side of the output console. The syntax is `string.ljust(length, character)`\n",
        "\n",
        "Let's write a code to get the following output using the `ljust()` function.\n",
        "\n",
        "```\n",
        "1000\n",
        "2000\n",
        "3000\n",
        "4000\n",
        "5000\n",
        "```\n",
        "\n",
        "Each item in the above output is a string of length `4` padded with `0` and left justified.\n"
      ]
    },
    {
      "cell_type": "code",
      "metadata": {
        "id": "cuyFG-I2VaBP",
        "colab": {
          "base_uri": "https://localhost:8080/"
        },
        "outputId": "cf35bf54-29ca-42ab-dc16-f0bf3698110f"
      },
      "source": [
        "# Teacher Action: Write a code to get the above output using the 'ljust()' function.\n",
        "for i in range(1,6):\n",
        "  print(f'{i}'.ljust(4,'0'))"
      ],
      "execution_count": null,
      "outputs": [
        {
          "output_type": "stream",
          "text": [
            "1000\n",
            "2000\n",
            "3000\n",
            "4000\n",
            "5000\n"
          ],
          "name": "stdout"
        }
      ]
    },
    {
      "cell_type": "markdown",
      "metadata": {
        "id": "ZXwRU3aaWjxQ"
      },
      "source": [
        "**The `rjust()` function** returns a fixed-length string padded with some special character and justifies (or aligns) it on the right-hand side of the output console. The syntax is `string.rjust(length, character)`\n",
        "\n",
        "Now, write a code to get the following output using the `rjust()` function.\n",
        "\n",
        "```\n",
        "00001\n",
        "00002\n",
        "00003\n",
        "00004\n",
        "00005\n",
        "```\n",
        "\n",
        "Each item in the above output is a string of length `5` padded with `0` and right justified."
      ]
    },
    {
      "cell_type": "code",
      "metadata": {
        "id": "19-SPOeqW-tj",
        "colab": {
          "base_uri": "https://localhost:8080/"
        },
        "outputId": "71755bf5-22bc-48f3-c412-5ded80615ac5"
      },
      "source": [
        "# Student Action: Write a code to get the above output using the 'rjust()' function.\n",
        "for i in range(1,6):\n",
        "  print(f'{i}'.rjust(5,'0'))"
      ],
      "execution_count": null,
      "outputs": [
        {
          "output_type": "stream",
          "text": [
            "00001\n",
            "00002\n",
            "00003\n",
            "00004\n",
            "00005\n"
          ],
          "name": "stdout"
        }
      ]
    },
    {
      "cell_type": "markdown",
      "metadata": {
        "id": "BC-_dts8XKQ5"
      },
      "source": [
        "**The `center()` function** returns a fixed-length string padded with some special character and justifies (or aligns) it at the center of the output console. The syntax is `string.center(length, character)`\n",
        "\n",
        "Now, write a code to get the following output.\n",
        "\n",
        "```\n",
        "-------#-------\n",
        "------###------\n",
        "-----#####-----\n",
        "----#######----\n",
        "---#########---\n",
        "--###########--\n",
        "-#############-\n",
        "###############\n",
        "```\n",
        "\n",
        "Each item in the above output is a string of length `15` padded with `-` and centre justified."
      ]
    },
    {
      "cell_type": "code",
      "metadata": {
        "id": "8rd5mmeMXfqu",
        "colab": {
          "base_uri": "https://localhost:8080/",
          "height": 131
        },
        "outputId": "a889afc2-423c-4bfc-c008-26c85b7e32c1"
      },
      "source": [
        "# Student Action: Write a code to get the above output using the 'center()' function.\n",
        "for i in range(1,16):\n",
        "  if i%2!=0:\n",
        "    print(f'{'#'*i}'.center(15,'-'))"
      ],
      "execution_count": null,
      "outputs": [
        {
          "output_type": "error",
          "ename": "SyntaxError",
          "evalue": "ignored",
          "traceback": [
            "\u001b[0;36m  File \u001b[0;32m\"<ipython-input-31-a2e5d2067611>\"\u001b[0;36m, line \u001b[0;32m4\u001b[0m\n\u001b[0;31m    print(f'{'#'*i}'.center(15,'-'))\u001b[0m\n\u001b[0m                                    ^\u001b[0m\n\u001b[0;31mSyntaxError\u001b[0m\u001b[0;31m:\u001b[0m unexpected EOF while parsing\n"
          ]
        }
      ]
    },
    {
      "cell_type": "code",
      "metadata": {
        "id": "htVBKhBjugVA"
      },
      "source": [
        "for i in range(1, 16):\n",
        "  if i % 2 != 0:\n",
        "    print(f\"{'#' * i}\".center(15, '-'))"
      ],
      "execution_count": null,
      "outputs": []
    },
    {
      "cell_type": "markdown",
      "metadata": {
        "id": "1gvWPJgHZY2R"
      },
      "source": [
        "**Note:** If the `character` value is not defined in the `ljust(), rjust()` and `center()` functions, then they take whitespace as the default character."
      ]
    },
    {
      "cell_type": "markdown",
      "metadata": {
        "id": "BXxvHiMXZHyC"
      },
      "source": [
        "---"
      ]
    },
    {
      "cell_type": "markdown",
      "metadata": {
        "id": "Wql1_zNhFaYO"
      },
      "source": [
        "#### Activity 7: The `replace()` Function^^\n",
        "\n",
        "If you want to replace an item in a string with some other item, then you can use the `replace()` function.\n",
        "\n",
        "**Syntax:** `string.replace(item_to_be_replaced, new_item)`\n",
        "\n",
        "Let's learn this concept with the help of an example. Consider the text below.\n",
        "\n",
        "*Who invented the sole? How can we scientifically prove that a sole exists? If the sole is an energy, then what kind of energy it is? The laws of physics state that energy can neither be created nor be destroyed. So, if the sole is an energy, then how does it transfer from one form to another after the death of a person? We know that the laws of physics are universally true. So, it means either the sole is not an energy or it doesn't exist.*\n",
        "\n",
        "The word *soul* has been mistakenly reported as *sole* by a machine because they are *homophone*. Two or more words having the same pronunciation are called *homophone*.\n",
        "\n",
        "We can replace the word *sole* with *soul* using the `replace()` function."
      ]
    },
    {
      "cell_type": "code",
      "metadata": {
        "id": "-SSWzWCWFzQX",
        "colab": {
          "base_uri": "https://localhost:8080/",
          "height": 86
        },
        "outputId": "511424e0-9b41-4ad8-eec9-6afec3586b1c"
      },
      "source": [
        "# Student Action: Replace the word 'sole' with 'soul' in the given paragraph.\n",
        "sole=\"\"\"\n",
        "Who invented the sole? How can we scientifically prove that a sole exists?\n",
        " If the sole is an energy, then what kind of energy it is?\n",
        " The laws of physics state that energy can neither be created nor be destroyed.\n",
        "  So, if the sole is an energy, then how does it transfer from one form to another after the death of a person?\n",
        " We know that the laws of physics are universally true. So, it means either the sole is not an energy or it doesn't exist.\"\"\"\n",
        "sole_replaced = sole.replace('sole','soul')\n",
        "sole_replaced"
      ],
      "execution_count": null,
      "outputs": [
        {
          "output_type": "execute_result",
          "data": {
            "application/vnd.google.colaboratory.intrinsic+json": {
              "type": "string"
            },
            "text/plain": [
              "\"\\nWho invented the soul? How can we scientifically prove that a soul exists?\\n If the soul is an energy, then what kind of energy it is? \\n The laws of physics state that energy can neither be created nor be destroyed.\\n  So, if the soul is an energy, then how does it transfer from one form to another after the death of a person?\\n We know that the laws of physics are universally true. So, it means either the soul is not an energy or it doesn't exist.\""
            ]
          },
          "metadata": {},
          "execution_count": 4
        }
      ]
    },
    {
      "cell_type": "markdown",
      "metadata": {
        "id": "IRf9TEYTZryM"
      },
      "source": [
        "**Note:** If you print a multiline string without using the `print()` function, then you will get a single-line string containing the newline `\\n` character. In fact, this is how all the multiline strings are stored in Python."
      ]
    },
    {
      "cell_type": "code",
      "metadata": {
        "id": "Ej-CGR7yFBYT",
        "colab": {
          "base_uri": "https://localhost:8080/"
        },
        "outputId": "d90c4f06-bdc2-495b-d334-ab98ce04ba2f"
      },
      "source": [
        "# Student Action: Print the above modified multiline string without using the 'print()' function.\n",
        "print(sole_replaced)"
      ],
      "execution_count": null,
      "outputs": [
        {
          "output_type": "stream",
          "name": "stdout",
          "text": [
            "\n",
            "Who invented the soul? How can we scientifically prove that a soul exists?\n",
            " If the soul is an energy, then what kind of energy it is? \n",
            " The laws of physics state that energy can neither be created nor be destroyed.\n",
            "  So, if the soul is an energy, then how does it transfer from one form to another after the death of a person?\n",
            " We know that the laws of physics are universally true. So, it means either the soul is not an energy or it doesn't exist.\n"
          ]
        }
      ]
    },
    {
      "cell_type": "markdown",
      "metadata": {
        "id": "LJIdIS5Zaa-Z"
      },
      "source": [
        "Let's split the above string about the newline character."
      ]
    },
    {
      "cell_type": "code",
      "metadata": {
        "id": "qnZHgVG1CDwS",
        "colab": {
          "base_uri": "https://localhost:8080/"
        },
        "outputId": "357e2db6-3ed7-4b01-d9a3-202cb0bdb7e3"
      },
      "source": [
        "# Student Action: Split the above string about the newline character.\n",
        "sole_list = sole_replaced.split(\"\\n\")\n",
        "sole_list"
      ],
      "execution_count": null,
      "outputs": [
        {
          "output_type": "execute_result",
          "data": {
            "text/plain": [
              "['',\n",
              " 'Who invented the soul? How can we scientifically prove that a soul exists?',\n",
              " ' If the soul is an energy, then what kind of energy it is? ',\n",
              " ' The laws of physics state that energy can neither be created nor be destroyed.',\n",
              " '  So, if the soul is an energy, then how does it transfer from one form to another after the death of a person?',\n",
              " \" We know that the laws of physics are universally true. So, it means either the soul is not an energy or it doesn't exist.\"]"
            ]
          },
          "metadata": {},
          "execution_count": 7
        }
      ]
    },
    {
      "cell_type": "markdown",
      "metadata": {
        "id": "cFqmonOnatLL"
      },
      "source": [
        "The output is a list containing several single-line strings without having the newline character.\n",
        "\n",
        "Now, right justify the strings in the above list such that each string length is equal to the length of the longest string. But before that remove any unwanted strings from the list using the `remove()` function."
      ]
    },
    {
      "cell_type": "code",
      "metadata": {
        "id": "xLl67ztwbc_y"
      },
      "source": [
        "# Student Action: Remove the unwanted strings from the above list.\n",
        "# Note: This exercise may not be required depending on how you indent a multiline string.\n",
        "sole_list.remove(sole_list[0])"
      ],
      "execution_count": null,
      "outputs": []
    },
    {
      "cell_type": "code",
      "metadata": {
        "id": "clb2lNO-Sdh4",
        "colab": {
          "base_uri": "https://localhost:8080/"
        },
        "outputId": "81baee4c-c630-4127-ff96-5468d7f6aef7"
      },
      "source": [
        "# Student Action: Right justify the strings in the above list such that each string length is equal to the length of the longest string.\n",
        "for i in sole_list:\n",
        "  i = i.strip(\" \")\n",
        "  print(i.rjust(len(sole_list[-1])))"
      ],
      "execution_count": null,
      "outputs": [
        {
          "output_type": "stream",
          "name": "stdout",
          "text": [
            "                                                Who invented the soul? How can we scientifically prove that a soul exists?\n",
            "                                                                 If the soul is an energy, then what kind of energy it is?\n",
            "                                            The laws of physics state that energy can neither be created nor be destroyed.\n",
            "             So, if the soul is an energy, then how does it transfer from one form to another after the death of a person?\n",
            " We know that the laws of physics are universally true. So, it means either the soul is not an energy or it doesn't exist.\n"
          ]
        }
      ]
    },
    {
      "cell_type": "code",
      "metadata": {
        "id": "IB4QPuapDjKY",
        "colab": {
          "base_uri": "https://localhost:8080/"
        },
        "outputId": "f76a2d6d-75a6-449a-ffc3-8f5d7db333ef"
      },
      "source": [
        "# Student Action: Center justify the strings in the above list such that each string length is equal to the length of the longest string.\n",
        "for i in sole_list:\n",
        "  i = i.strip(\" \")\n",
        "  print(i.center(len(sole_list[-1])))"
      ],
      "execution_count": null,
      "outputs": [
        {
          "output_type": "stream",
          "name": "stdout",
          "text": [
            "                        Who invented the soul? How can we scientifically prove that a soul exists?                        \n",
            "                                If the soul is an energy, then what kind of energy it is?                                 \n",
            "                      The laws of physics state that energy can neither be created nor be destroyed.                      \n",
            "      So, if the soul is an energy, then how does it transfer from one form to another after the death of a person?       \n",
            "We know that the laws of physics are universally true. So, it means either the soul is not an energy or it doesn't exist. \n"
          ]
        }
      ]
    },
    {
      "cell_type": "markdown",
      "metadata": {
        "id": "g7Ke-E7hpwS8"
      },
      "source": [
        "---"
      ]
    },
    {
      "cell_type": "markdown",
      "metadata": {
        "id": "WZuh0OGvpxqo"
      },
      "source": [
        "#### Activity 8: The Escape Character (`\\`)^\n",
        "\n",
        "Sometimes you might have to create a string which would contain a combination of single quotes (`''`), double quotes (`\"\"`) or an apostrophe (`'`). In such cases, Python will terminate the string before it is complete. To create such strings, you can use the **escape character** represented by backslash sign (`\\`).\n",
        "\n",
        "Let's create the following string using the escape character.\n",
        "\n",
        "`\"She just said 'That should work' and walked out the door\", he clarified.`\n",
        "\n",
        "To create the above string using double-quotes, you will have to put one backslash before `\"She...` as shown below.\n",
        "\n",
        "`\\\"She...`\n",
        "\n",
        "and one backslash before `\", he...` as shown below\n",
        "\n",
        "`\\\", he...`\n"
      ]
    },
    {
      "cell_type": "code",
      "metadata": {
        "id": "1fm0xW6ip2_V",
        "colab": {
          "base_uri": "https://localhost:8080/",
          "height": 35
        },
        "outputId": "971b9583-fe96-48c9-8ea9-8d29cb488e9a"
      },
      "source": [
        "# Student Action: Create the above string using double quotes and the escape character.\n",
        "\"\\\"Twisha\\\" is a good girl\"\n"
      ],
      "execution_count": null,
      "outputs": [
        {
          "output_type": "execute_result",
          "data": {
            "application/vnd.google.colaboratory.intrinsic+json": {
              "type": "string"
            },
            "text/plain": [
              "'\"Twisha\" is a good girl'"
            ]
          },
          "metadata": {},
          "execution_count": 12
        }
      ]
    },
    {
      "cell_type": "markdown",
      "metadata": {
        "id": "g15ezx0gdLHR"
      },
      "source": [
        "To create the given string using single-quotes, you will have to put one backslash before `'That...` as shown below\n",
        "\n",
        "`\\'That...`\n",
        "\n",
        "and one backslash before `' and...\"` as shown below\n",
        "\n",
        "`\\' and...'`"
      ]
    },
    {
      "cell_type": "code",
      "metadata": {
        "id": "T8mbYWCedAuY",
        "colab": {
          "base_uri": "https://localhost:8080/",
          "height": 130
        },
        "outputId": "d07db359-f8b4-41f7-aaf4-ab45b4ea0cc6"
      },
      "source": [
        "# Student Action: Create the given string using single quotes and the escape character.\n",
        "\"\"Twisha\" is a good girl\""
      ],
      "execution_count": null,
      "outputs": [
        {
          "output_type": "error",
          "ename": "SyntaxError",
          "evalue": "ignored",
          "traceback": [
            "\u001b[0;36m  File \u001b[0;32m\"<ipython-input-13-08b98c4aca20>\"\u001b[0;36m, line \u001b[0;32m2\u001b[0m\n\u001b[0;31m    \"\"Twisha\" is a good girl\"\u001b[0m\n\u001b[0m           ^\u001b[0m\n\u001b[0;31mSyntaxError\u001b[0m\u001b[0;31m:\u001b[0m invalid syntax\n"
          ]
        }
      ]
    },
    {
      "cell_type": "markdown",
      "metadata": {
        "id": "ncUKXmHXsalK"
      },
      "source": [
        "If you create the above string without putting the escape character, then Python will throw a `SyntaxError`."
      ]
    },
    {
      "cell_type": "code",
      "metadata": {
        "id": "NQhTFa9OsgrW"
      },
      "source": [
        "# Student Action: Create the above string without putting the escape character.\n"
      ],
      "execution_count": null,
      "outputs": []
    },
    {
      "cell_type": "markdown",
      "metadata": {
        "id": "sNreCXeMfx02"
      },
      "source": [
        "We have covered pretty much everything about the string operations that we need.\n",
        "\n",
        "Congratulations! You have set a new benchmark. Brace yourself! Your new challenge is ready. You have to apply the programming constructs learned during the past few classes to develop the **Guess a word game** (Capstone Project 10).\n",
        "\n",
        "In the next class, we will learn how to work with `datetime` values, i.e., how to extract date, time, day, month and year from a `datetime` value.\n",
        "\n",
        "\n",
        "\n",
        "\n",
        "\n",
        "\n"
      ]
    },
    {
      "cell_type": "markdown",
      "metadata": {
        "id": "tzBGoUi1_vIj"
      },
      "source": [
        "---"
      ]
    }
  ]
}