{
  "nbformat": 4,
  "nbformat_minor": 0,
  "metadata": {
    "colab": {
      "provenance": [],
      "include_colab_link": true
    },
    "kernelspec": {
      "name": "python3",
      "display_name": "Python 3"
    }
  },
  "cells": [
    {
      "cell_type": "markdown",
      "metadata": {
        "id": "view-in-github",
        "colab_type": "text"
      },
      "source": [
        "<a href=\"https://colab.research.google.com/github/twisha-k/Python_notes/blob/main/52_coding.ipynb\" target=\"_parent\"><img src=\"https://colab.research.google.com/assets/colab-badge.svg\" alt=\"Open In Colab\"/></a>"
      ]
    },
    {
      "cell_type": "markdown",
      "metadata": {
        "id": "sNuO5ta_jX6X"
      },
      "source": [
        "# Lesson 52: Classes and Objects"
      ]
    },
    {
      "cell_type": "markdown",
      "metadata": {
        "id": "CtkpVNvlmYML"
      },
      "source": [
        "### Teacher-Student Activities\n",
        "\n",
        "So far in Python, we were using Procedural Programming paradigm which is nothing but writing code in a number of sequential steps and sometimes combining these steps into functions. However, Python is also an **Object Oriented Programming** language since its beginning.\n",
        "\n",
        "In this class, we will learn different concepts of classes and objects in Python which forms a basis for Object Oriented Programming.\n",
        "\n",
        "#### About OOP\n",
        "\n",
        "Object Oriented Programming (OOP) is a design methodology used for developing large software. OOP allows us to break our problems into small units of work called objects and then we build functions around those objects.\n",
        "\n",
        "OOP allows us to interact with our code in the same way as we interact with actual objects in the real world by creating classes. This enables us to create reusable code and remove unnecessary or redundant code. That is why this concept is also known as DRY (Don't Repeat Yourself).\n",
        "\n",
        "The four principles of OOP are:\n",
        "\n",
        "*   Inheritance\n",
        "*   Polymorphism\n",
        "*   Abstraction\n",
        "*   Encapsulation\n",
        "\n",
        "To get started with object oriented programming we need to know the concept of a class and an object."
      ]
    },
    {
      "cell_type": "code",
      "source": [
        "from sklearn.ensemble import RandomForestClassifier\n",
        "rfclf  = RandomForestClassifier(njobs = -1,n_estimators = 100)\n",
        "#rfclf is an object and RandomForestClassifier() is a constructor,njobs and n_estimators are called instance variables"
      ],
      "metadata": {
        "id": "6JGllF_fJQ-9"
      },
      "execution_count": null,
      "outputs": []
    },
    {
      "cell_type": "markdown",
      "metadata": {
        "id": "IDc5xEJ1Jug-"
      },
      "source": [
        "---"
      ]
    },
    {
      "cell_type": "markdown",
      "metadata": {
        "id": "GzbX1rvdYssQ"
      },
      "source": [
        "#### Activity 1: Revisiting the `Type()` Function\n",
        "\n",
        "Recall that we used the `type()` function a lot to check the data-type of a value. You might have noticed a term called `class` in the outputs."
      ]
    },
    {
      "cell_type": "code",
      "metadata": {
        "id": "i6n2APqZZTgr",
        "colab": {
          "base_uri": "https://localhost:8080/"
        },
        "outputId": "493cdaa4-52da-4281-f7c8-e9833f7afa31"
      },
      "source": [
        "# S1.1: Run the code below to print the types of data-types.\n",
        "import numpy as np\n",
        "import pandas as pd\n",
        "import matplotlib.pyplot as plt\n",
        "\n",
        "py_list = [i for i in range(1, 11)]\n",
        "py_tuple = (2, 3)\n",
        "\n",
        "print(type('Bruce Wayne'))\n",
        "print(type(28))\n",
        "print(type(3.14))\n",
        "print(type(True))\n",
        "print(type(np))\n",
        "print(type(np.arange(1,20)))\n",
        "print(type(pd))\n",
        "print(type(plt))\n",
        "print(type(py_list))\n",
        "print(type(py_tuple))"
      ],
      "execution_count": null,
      "outputs": [
        {
          "output_type": "stream",
          "name": "stdout",
          "text": [
            "<class 'str'>\n",
            "<class 'int'>\n",
            "<class 'float'>\n",
            "<class 'bool'>\n",
            "<class 'module'>\n",
            "<class 'numpy.ndarray'>\n",
            "<class 'module'>\n",
            "<class 'module'>\n",
            "<class 'list'>\n",
            "<class 'tuple'>\n"
          ]
        }
      ]
    },
    {
      "cell_type": "markdown",
      "metadata": {
        "id": "CB3_zubpLBa7"
      },
      "source": [
        "As you can see, the output displays the term `class`. Here is a fun fact. Every entity in Python is a **class**. Because of the classes, the same code can be reused for different applications by creating its object.\n",
        "\n",
        "For e.g.\n",
        "\n",
        "`import numpy as np`\n",
        "\n",
        "> where `numpy` is the class where we are creating its object `np`\n",
        "\n",
        "The concept of class is a part of a paradigm called Object-Oriented Programming.\n",
        "\n",
        "In fact, not only in python every practical entity can also be defined as a class. So that means we can define every practical entity in Python as well.\n",
        "\n",
        "So now the question is what is a **class** and how to create them in python?\n"
      ]
    },
    {
      "cell_type": "markdown",
      "metadata": {
        "id": "63o9BoRALArx"
      },
      "source": [
        "---"
      ]
    },
    {
      "cell_type": "markdown",
      "metadata": {
        "id": "LC-vCJvkgDjt"
      },
      "source": [
        "\n",
        "#### Class and Object\n",
        "\n",
        "A class in OOP is a template or a blueprint for creating an object. It is similar to the blueprint of a house or that of a car.\n",
        "\n",
        "Using this template or blueprint, we can create as many numbers of objects (or examples or instances) as we want and all those objects will get the same attributes and behaviour as that of their class.\n",
        "\n",
        "For example, like how we can create multiple objects of a module like\n",
        "\n",
        "> `import numpy as np`\n",
        "\n",
        "> `import numpy as n`\n",
        "\n",
        "Both `n` and `np` will have the same features of `numpy` class\n",
        "\n",
        "Because of these classes, the same code can be reused for different applications.\n",
        "\n",
        "In the same way, we can create a class of any entity as a structure of it then create its multiple objects\n",
        "\n",
        "#### Example of Classes\n",
        "\n",
        "Consider two species. A dog and a bird.\n",
        "\n",
        "<img src='https://student-datasets-bucket.s3.ap-south-1.amazonaws.com/images/golden-retriever.jpg' width=600>\n",
        "\n",
        "<img src='https://student-datasets-bucket.s3.ap-south-1.amazonaws.com/images/hawk.jpg' width=600>\n",
        "\n",
        "Both of them have some unique characteristics to them. Few of the examples are listed in the table below:\n",
        "\n",
        "|#|Dog|Bird|\n",
        "|-|-|-|\n",
        "|1.|A dog has 4 legs|A bird has 2 legs|\n",
        "|2.|A dog can't fly|A bird can fly|\n",
        "|3.|A dog has 42 teeth|A bird doesn't have teeth|\n",
        "|4.|A dog has a mouth|A bird has a beak|\n",
        "|3.|A dog gives birth to young puppies|A bird lays eggs|\n",
        "\n",
        "Similarly, based on other biological differences they are classified into two different species. This classification allows us to study these two species independently and treat them accordingly. A veterinary doctor won't treat a dog with a medical procedure which is developed exclusively for birds and vice-versa.\n",
        "\n",
        "Similarly, in the world of computer programming, we try to develop codes in such a manner so that they can be used independently.\n",
        "\n",
        "For example, in the first release of **WhatsApp**, it didn't have a video calling feature. The developers built this feature later and added to **WhatsApp**. For this purpose, they didn't reinvent the app. They had just added an additional feature in the existing application. This was possible because the developers built the app using the Object-Oriented Programming approach."
      ]
    },
    {
      "cell_type": "markdown",
      "metadata": {
        "id": "dmP6z-z4F2wH"
      },
      "source": [
        "---"
      ]
    },
    {
      "cell_type": "markdown",
      "metadata": {
        "id": "qBfE2MnRB2Qm"
      },
      "source": [
        "#### Activity 2: Defining a Python Class\n",
        "\n",
        "Now let's create the blue-prints/class of the above examples\n",
        "\n",
        "In the case of a dog, the blueprint would contain the properties of a dog such as the number of legs, eyes, teeth etc and the action a dog performs, for example, the sound it makes, the food it eats etc.\n",
        "\n",
        "Now, let's create an empty class called `Dog` which doesn't have any property or behaviour.\n",
        "\n",
        "To create a class, use the `class` keyword and then write the name of the class followed by the colon (`:`) sign. Inside the class, enter a keyword called `pass` so that Python knows that this class does not have any variable or a function."
      ]
    },
    {
      "cell_type": "code",
      "metadata": {
        "id": "9Aew5c7_CHjZ"
      },
      "source": [
        "# S2.1: Create two empty classes; 'Dog' and 'Bird'.\n",
        "class Dog:\n",
        "  pass\n",
        "class Bird:\n",
        "  pass"
      ],
      "execution_count": null,
      "outputs": []
    },
    {
      "cell_type": "markdown",
      "metadata": {
        "id": "t-DMhKkiCJzz"
      },
      "source": [
        "The first letter of the name of a class must always be capital. Here, we have a used keyword called `pass` after declaring the `Dog` and `Bird` classes so that Python knows that we are creating two empty classes and when we execute them, Python doesn't throw an error."
      ]
    },
    {
      "cell_type": "markdown",
      "metadata": {
        "id": "9sM7nM-yGucA"
      },
      "source": [
        "---"
      ]
    },
    {
      "cell_type": "markdown",
      "metadata": {
        "id": "bv5bfslmEILz"
      },
      "source": [
        "#### Activity 3: Defining Class Variable\n",
        "\n",
        "A class variable defines the properties of a class. For example, a property of a dog is that it has 4 legs.\n",
        "\n",
        "Now, let's add the properties or characteristics of a dog into the `Dog` class using class variables. Let's create five variables to store the properties of a dog. They are:\n",
        "\n",
        "1. `num_of_legs = 4`\n",
        "\n",
        "2. `can_fly = False`\n",
        "\n",
        "3. `num_of_teeth = 42`\n",
        "\n",
        "4. `have_beak = False`\n",
        "\n",
        "5. `lay_eggs = False`"
      ]
    },
    {
      "cell_type": "code",
      "metadata": {
        "id": "rxdOL00tECKC"
      },
      "source": [
        "# S3.1: Add the above five properties to the 'Dog' class using class variables.\n",
        "class Dog:\n",
        "  num_of_legs = 4\n",
        "\n",
        "  can_fly = False\n",
        "\n",
        "  num_of_teeth = 42\n",
        "\n",
        "  have_beak = False\n",
        "\n",
        "  lay_eggs = False"
      ],
      "execution_count": null,
      "outputs": []
    },
    {
      "cell_type": "markdown",
      "metadata": {
        "id": "i7KhEa07GkD8"
      },
      "source": [
        "In general, a variable created inside a class is called a **class variable**.\n",
        "\n",
        "**Note:** We don't have to add the `pass` keyword after adding a property or behaviour to a class.\n",
        "\n",
        "Since the above five variables are defined inside the `Dog` class, they can be accessed inside the `Dog` class only. In other words, if you try to print the value of any of the variables, say `num_of_legs`, then Python will throw an error called `NameError`.\n",
        "\n",
        "**Note:** The code below will throw `NameError`"
      ]
    },
    {
      "cell_type": "code",
      "metadata": {
        "id": "sT5cZ6tI_xMW",
        "colab": {
          "base_uri": "https://localhost:8080/",
          "height": 183
        },
        "outputId": "ec8dbd6b-76bb-434c-a132-54b358f8a132"
      },
      "source": [
        "# S3.2: Print the value stored in the 'num_of_legs' variable.\n",
        "print(num_of_legs)"
      ],
      "execution_count": null,
      "outputs": [
        {
          "output_type": "error",
          "ename": "NameError",
          "evalue": "ignored",
          "traceback": [
            "\u001b[0;31m---------------------------------------------------------------------------\u001b[0m",
            "\u001b[0;31mNameError\u001b[0m                                 Traceback (most recent call last)",
            "\u001b[0;32m<ipython-input-5-fc08b28e5aa1>\u001b[0m in \u001b[0;36m<module>\u001b[0;34m()\u001b[0m\n\u001b[1;32m      1\u001b[0m \u001b[0;31m# S3.2: Print the value stored in the 'num_of_legs' variable.\u001b[0m\u001b[0;34m\u001b[0m\u001b[0;34m\u001b[0m\u001b[0;34m\u001b[0m\u001b[0m\n\u001b[0;32m----> 2\u001b[0;31m \u001b[0mprint\u001b[0m\u001b[0;34m(\u001b[0m\u001b[0mnum_of_legs\u001b[0m\u001b[0;34m)\u001b[0m\u001b[0;34m\u001b[0m\u001b[0;34m\u001b[0m\u001b[0m\n\u001b[0m",
            "\u001b[0;31mNameError\u001b[0m: name 'num_of_legs' is not defined"
          ]
        }
      ]
    },
    {
      "cell_type": "markdown",
      "metadata": {
        "id": "f5n7I8-5_-e4"
      },
      "source": [
        "However, if you try to print the value using the class name, then Python will not throw an error."
      ]
    },
    {
      "cell_type": "code",
      "metadata": {
        "id": "tw1lSG_9AEa6",
        "colab": {
          "base_uri": "https://localhost:8080/"
        },
        "outputId": "7913fb66-c945-4c99-e156-68a5ae5f95d7"
      },
      "source": [
        "# S3.3: Print the value stored in the 'num_of_legs' variable by calling it from the 'Dog' class.\n",
        "Dog.num_of_legs"
      ],
      "execution_count": null,
      "outputs": [
        {
          "output_type": "execute_result",
          "data": {
            "text/plain": [
              "4"
            ]
          },
          "metadata": {},
          "execution_count": 6
        }
      ]
    },
    {
      "cell_type": "markdown",
      "metadata": {
        "id": "hkRGN2ZI_iBA"
      },
      "source": [
        "To use the variable of a class, use the following syntax:\n",
        "\n",
        "**Syntax:** `class_name.required_variable`\n",
        "\n",
        "where `class_name` is the name of the class in which a variable exists and `required_variable` is the variable whose value you want to use.\n",
        "\n",
        "Now, you add the same variables to the `Bird` class and change the values so that they reflect the properties of a bird."
      ]
    },
    {
      "cell_type": "code",
      "metadata": {
        "id": "-yegE9oDGX1-"
      },
      "source": [
        "# S3.4: Add the properties of a bird to the 'Bird' class using class variables.\n",
        "class Bird:\n",
        "  num_of_legs = 2\n",
        "\n",
        "  can_fly = True\n",
        "\n",
        "  num_of_teeth = 0\n",
        "\n",
        "  have_beak = True\n",
        "\n",
        "  lay_eggs = True"
      ],
      "execution_count": null,
      "outputs": []
    },
    {
      "cell_type": "markdown",
      "metadata": {
        "id": "nXDEXLSR-_Um"
      },
      "source": [
        "Since the above five variables are defined inside the `Bird` class, they can be accessed inside the `Bird` class only."
      ]
    },
    {
      "cell_type": "code",
      "metadata": {
        "id": "-M5-dQPRA9gt",
        "colab": {
          "base_uri": "https://localhost:8080/"
        },
        "outputId": "8a79da5b-7b7a-4ab5-81e2-db178d9c6075"
      },
      "source": [
        "# S3.5: Print the value stored in the 'num_of_legs' variable by calling it from the 'Bird' class.\n",
        "Bird.have_beak"
      ],
      "execution_count": null,
      "outputs": [
        {
          "output_type": "execute_result",
          "data": {
            "text/plain": [
              "True"
            ]
          },
          "metadata": {},
          "execution_count": 8
        }
      ]
    },
    {
      "cell_type": "markdown",
      "metadata": {
        "id": "5T75Sg58BH19"
      },
      "source": [
        "Even though the `Dog` and the `Bird` classes have the same variable names, the values stored in them are different."
      ]
    },
    {
      "cell_type": "markdown",
      "metadata": {
        "id": "DtWbnWz9JI4b"
      },
      "source": [
        "---"
      ]
    },
    {
      "cell_type": "markdown",
      "metadata": {
        "id": "gutNc0EdITsc"
      },
      "source": [
        "#### Activity 4: Class Object or Instance\n",
        "\n",
        "This is the point where the concept of OOP gets interesting. From this point, you will understand the need for OOP.\n",
        "\n",
        "There are different breeds of a dog such as Golden Retriever, Husky, Beagle etc. They are all instances of the same species called a dog. Hence, it means a class can have multiple instances. Similarly, you can create an instance or object of a class in a programming language as well, recall the `numpy` class object `np`.  \n",
        "\n",
        "An instance or object of a class can also be understood as what is the kind of a class. For e.g., what kind (or breed) of a dog do you like? I like the golden retriever. Similarly, what kind (or breed) of a bird do you like? I like parrots.\n",
        "\n",
        "To create an instance or object of a class, just write the name of the object and set it equal to the class followed by common brackets.\n",
        "\n",
        "**Syntax:** `object_name = ClassName()`"
      ]
    },
    {
      "cell_type": "code",
      "metadata": {
        "id": "DQZ3l1CgI0CX"
      },
      "source": [
        "# S4.1: Create three different instances or objects of the 'Dog' class. Name them 'golden_retriever', 'husky' and 'beagle'.\n",
        "golden_retriever=Dog()\n",
        "husky=Dog()\n",
        "beagle=Dog()"
      ],
      "execution_count": null,
      "outputs": []
    },
    {
      "cell_type": "code",
      "metadata": {
        "id": "SR67mXhJJrjJ"
      },
      "source": [
        "# S4.2: Create three different instances of the 'Bird' class. Name them 'eagle', 'hawk' and 'parrot'.\n",
        "eagle=Bird()\n",
        "hawk=Bird()\n",
        "parrot=Bird()"
      ],
      "execution_count": null,
      "outputs": []
    },
    {
      "cell_type": "markdown",
      "metadata": {
        "id": "cbwROy4dpdVE"
      },
      "source": [
        "Using the `type()` function, we can verify that `golden_retriever, husky, beagle, eagle, hawk` and `parrot` are the objects of the `Dog` and the `Bird` classes respectively."
      ]
    },
    {
      "cell_type": "code",
      "metadata": {
        "id": "JZlN2pZKp6Bp",
        "colab": {
          "base_uri": "https://localhost:8080/"
        },
        "outputId": "9dbc3708-daf5-4b61-c00e-a1e72274f943"
      },
      "source": [
        "# S4.3: Verify that 'golden_retriever', 'husky', 'beagle', 'eagle', 'hawk' and 'parrot' are the objects of the 'Dog' and the 'Bird' classes.\n",
        "# Dog objects\n",
        "print(type(husky))\n",
        "# Bird objects\n",
        "print(type(hawk))"
      ],
      "execution_count": null,
      "outputs": [
        {
          "output_type": "stream",
          "name": "stdout",
          "text": [
            "<class '__main__.Dog'>\n",
            "<class '__main__.Bird'>\n"
          ]
        }
      ]
    },
    {
      "cell_type": "markdown",
      "metadata": {
        "id": "sp9O59eiOlde"
      },
      "source": [
        "As you can see, we have verified that the six objects indeed belong to the `Dog` and `Bird` classes. Ignore the term `__main__` for the time being.\n",
        "\n",
        "We can print the properties of each of these objects using the `print()` function. Also, to call class variables (or attributes) for an object (or instance), use the dot `(.)` operator."
      ]
    },
    {
      "cell_type": "code",
      "metadata": {
        "id": "NptStmIEOhHL",
        "colab": {
          "base_uri": "https://localhost:8080/"
        },
        "outputId": "d262dd4e-a83f-46ba-e402-6dc404c319e1"
      },
      "source": [
        "# S4.4: Print all properties of the 'husky' object.\n",
        "husky.num_of_legs\n",
        "beagle.num_of_legs\n",
        "golden_retriever.num_of_legs"
      ],
      "execution_count": null,
      "outputs": [
        {
          "output_type": "execute_result",
          "data": {
            "text/plain": [
              "4"
            ]
          },
          "metadata": {},
          "execution_count": 15
        }
      ]
    },
    {
      "cell_type": "code",
      "metadata": {
        "id": "oDaOsC6aO4eX",
        "colab": {
          "base_uri": "https://localhost:8080/"
        },
        "outputId": "8fd10e61-9b4d-4ddb-80c2-748bb9a51565"
      },
      "source": [
        "# S4.5: Print all the 5 properties of a bird for the 'parrot' object.\n",
        "parrot.num_of_legs,parrot.have_beak,parrot.can_fly,parrot.num_of_teeth,parrot.lay_eggs\n"
      ],
      "execution_count": null,
      "outputs": [
        {
          "output_type": "execute_result",
          "data": {
            "text/plain": [
              "(2, True, True, 0, True)"
            ]
          },
          "metadata": {},
          "execution_count": 16
        }
      ]
    },
    {
      "cell_type": "markdown",
      "metadata": {
        "id": "R_qSgVRRMcXy"
      },
      "source": [
        "---"
      ]
    },
    {
      "cell_type": "markdown",
      "metadata": {
        "id": "6jShE7pBUApl"
      },
      "source": [
        "#### Activity 5: Class Methods or Functions^\n",
        "\n",
        "So far we have defined only the characteristics of a dog and a bird. Let's give them some functions or some actions.\n",
        "\n",
        "What does a dog do?\n",
        "\n",
        "1. It runs\n",
        "\n",
        "2. It barks\n",
        "\n",
        "3. It fetches a ball\n",
        "\n",
        "and many more\n",
        "\n",
        "Let's define the bark action by creating a function. The `bark()` function should return `Woof-Woof!` as an output. Any function created in a class must take the `self` keyword as an input."
      ]
    },
    {
      "cell_type": "code",
      "metadata": {
        "id": "MDK6RGlsPqXW"
      },
      "source": [
        "# S5.1: Create the 'bark()' function inside the 'Dog' class.\n",
        "class Dog:\n",
        "  num_of_legs = 4\n",
        "\n",
        "  can_fly = False\n",
        "\n",
        "  num_of_teeth = 42\n",
        "\n",
        "  have_beak = False\n",
        "\n",
        "  lay_eggs = False\n",
        "  def bark(self):\n",
        "    return 'Woof-Woof!'"
      ],
      "execution_count": null,
      "outputs": []
    },
    {
      "cell_type": "markdown",
      "metadata": {
        "id": "f1iJ4Ir3d6EQ"
      },
      "source": [
        "In any programming language, a function is also called a method. In python, a class method (or function) will always take the `self` object as an argument.\n",
        "\n",
        "Let's again create an object called `husky` of the `Dog` class and call the `bark()` function."
      ]
    },
    {
      "cell_type": "code",
      "metadata": {
        "id": "rq6hztsud5eT",
        "colab": {
          "base_uri": "https://localhost:8080/",
          "height": 35
        },
        "outputId": "577093a2-1107-4070-9f60-9fb10c372bf6"
      },
      "source": [
        "# S5.2: Print the value returned by the 'bark()' function.\n",
        "husky=Dog()\n",
        "husky.bark()"
      ],
      "execution_count": null,
      "outputs": [
        {
          "output_type": "execute_result",
          "data": {
            "application/vnd.google.colaboratory.intrinsic+json": {
              "type": "string"
            },
            "text/plain": [
              "'Woof-Woof!'"
            ]
          },
          "metadata": {},
          "execution_count": 18
        }
      ]
    },
    {
      "cell_type": "markdown",
      "metadata": {
        "id": "ZvMxas-_9v6t"
      },
      "source": [
        "If you don't provide the `self` keyword as an input to the `bark()` function, then Python will throw an error called `TypeError`.\n",
        "\n",
        "**Note:** The code below will throw `TypeError`."
      ]
    },
    {
      "cell_type": "code",
      "metadata": {
        "id": "3eHaYAbr95nt",
        "colab": {
          "base_uri": "https://localhost:8080/",
          "height": 201
        },
        "outputId": "4cf70620-b38f-481d-a8d9-b11f7ae528f7"
      },
      "source": [
        "# S5.3: Create the 'bark()' function without using the 'self' object and then print it's value.\n",
        "class Dog:\n",
        "  num_of_legs = 4\n",
        "\n",
        "  can_fly = False\n",
        "\n",
        "  num_of_teeth = 42\n",
        "\n",
        "  have_beak = False\n",
        "\n",
        "  lay_eggs = False\n",
        "  def bark():\n",
        "    return 'Woof-Woof!'\n",
        "husky=Dog()\n",
        "husky.bark()"
      ],
      "execution_count": null,
      "outputs": [
        {
          "output_type": "error",
          "ename": "TypeError",
          "evalue": "ignored",
          "traceback": [
            "\u001b[0;31m---------------------------------------------------------------------------\u001b[0m",
            "\u001b[0;31mTypeError\u001b[0m                                 Traceback (most recent call last)",
            "\u001b[0;32m<ipython-input-19-0ee95c9e7d52>\u001b[0m in \u001b[0;36m<module>\u001b[0;34m()\u001b[0m\n\u001b[1;32m     13\u001b[0m     \u001b[0;32mreturn\u001b[0m \u001b[0;34m'Woof-Woof!'\u001b[0m\u001b[0;34m\u001b[0m\u001b[0;34m\u001b[0m\u001b[0m\n\u001b[1;32m     14\u001b[0m \u001b[0mhusky\u001b[0m\u001b[0;34m=\u001b[0m\u001b[0mDog\u001b[0m\u001b[0;34m(\u001b[0m\u001b[0;34m)\u001b[0m\u001b[0;34m\u001b[0m\u001b[0;34m\u001b[0m\u001b[0m\n\u001b[0;32m---> 15\u001b[0;31m \u001b[0mhusky\u001b[0m\u001b[0;34m.\u001b[0m\u001b[0mbark\u001b[0m\u001b[0;34m(\u001b[0m\u001b[0;34m)\u001b[0m\u001b[0;34m\u001b[0m\u001b[0;34m\u001b[0m\u001b[0m\n\u001b[0m",
            "\u001b[0;31mTypeError\u001b[0m: bark() takes 0 positional arguments but 1 was given"
          ]
        }
      ]
    },
    {
      "cell_type": "markdown",
      "metadata": {
        "id": "rS4TAlaKec3x"
      },
      "source": [
        "As you could see, the process of calling a class method is the exactly same as calling a class variable. You just have to use the dot `(.)` operator to call a class method."
      ]
    },
    {
      "cell_type": "code",
      "metadata": {
        "id": "it0pB4w3ebMx"
      },
      "source": [
        "# S5.4: Add a method called 'lay_eggs()' in the 'Bird' class which returns the number of eggs laid by a bird.\n",
        "# The number of eggs laid must vary from 4 to 30.\n",
        "import random\n",
        "class Bird:\n",
        "  num_of_legs = 2\n",
        "\n",
        "  can_fly = True\n",
        "\n",
        "  num_of_teeth = 0\n",
        "\n",
        "  have_beak = True\n",
        "\n",
        "  lay_eggs = True\n",
        "  def lay_eggs(self):\n",
        "    return random.randint(4,30)"
      ],
      "execution_count": null,
      "outputs": []
    },
    {
      "cell_type": "code",
      "metadata": {
        "id": "rrTWX8YNI-nQ",
        "colab": {
          "base_uri": "https://localhost:8080/"
        },
        "outputId": "c92b1844-006a-4b72-a900-acd573961ddf"
      },
      "source": [
        "# S5.5: Create an object called 'robin' of the 'Bird' class and then print the number of eggs laid by the 'robin' bird.\n",
        "robin=Bird()\n",
        "robin.lay_eggs()"
      ],
      "execution_count": null,
      "outputs": [
        {
          "output_type": "execute_result",
          "data": {
            "text/plain": [
              "5"
            ]
          },
          "metadata": {},
          "execution_count": 27
        }
      ]
    },
    {
      "cell_type": "markdown",
      "metadata": {
        "id": "MdvK9ThIHvzM"
      },
      "source": [
        "Observe how we call the class name as a function when we create its object? Like from above:\n",
        "\n",
        "> `robin = Bird()`\n",
        "\n",
        "The creation of an object requires a special type of function which is called a **constructor**. So here, `Bird()` is not a class but a function.\n",
        "\n",
        "\n",
        "Let's learn more about Constructors in the next section."
      ]
    },
    {
      "cell_type": "markdown",
      "metadata": {
        "id": "i7gJ9J_dOLwa"
      },
      "source": [
        "---"
      ]
    },
    {
      "cell_type": "markdown",
      "metadata": {
        "id": "gorjooXWOU_0"
      },
      "source": [
        "#### Activity 6: Constructors^^\n",
        "\n",
        "A constructor is used to initialise the class variables.\n",
        "\n",
        "Let's say you want to build an app which has information about all your family members in the world. This app stores the information for your family members such as their name, age and relation.\n",
        "\n",
        "To store information for each family member, you will have to repetitively create the same variables for each member which will become a humongous task. To avoid this repetition, we create a **constructor**.\n",
        "\n",
        "A **constructor** in Python, for any class, is a function with name `__init__()`. By default, a constructor takes the `self` keyword as a mandatory input. A constructor never returns anything. Hence, it will never have the `return` keyword.\n",
        "\n",
        "Inside the constructor argument, i.e., inside the brackets of the `__init__()` function, you need to declare the variables whose values needs to be initiated whenever a new object of a class is created. Such variables are known as **instance variables**. This means that for each object (or instance) of a class, the instance variables will have different values, whereas **class variables** have same values for every instance of a class.\n",
        "\n",
        "In the case of creating `Family` class to store your family member details, we need to initialise the following instance variables:\n",
        "\n",
        "1. `first_name` - This variable will store the first name of your family member.\n",
        "\n",
        "2. `last_name` - This variable will store the last name of your family member.\n",
        "\n",
        "3. `age` - This variable will store the age name of your family member.\n",
        "\n",
        "4. `relation` - This variable will store your relationship with the family member.\n",
        "\n",
        "The above variables act as proxies (or substitute values) for the actual values. These proxies are assigned to the instance variables using the following method.\n",
        "\n",
        "1. `self.first_name = first_name`\n",
        "\n",
        "2. `self.last_name = last_name`\n",
        "\n",
        "3. `self.age = age`\n",
        "\n",
        "4. `self.relation = relation`\n",
        "\n",
        "Inside the constructor, or the `__init__()` function, you have to follow the process shown above to initialize the variables.\n",
        "\n",
        "The `Family` class should also have a function called `full_name()` which doesn't take any input (apart from the `self` keyword) and returns the full name of the member by combining the values stored in the `first_name` and the `last_name` variables."
      ]
    },
    {
      "cell_type": "code",
      "source": [
        "from sklearn.ensemble import RandomForestClassifier\n",
        "rfclf  = RandomForestClassifier(njobs = -1,n_estimators = 100)#this line creates an object for the class\n",
        "#rfclf is an object and RandomForestClassifier() is a constructor,njobs and n_estimators are called instance variables"
      ],
      "metadata": {
        "id": "CsgOeMGrJnzO",
        "colab": {
          "base_uri": "https://localhost:8080/",
          "height": 218
        },
        "outputId": "f2c3b37d-371b-42a5-e99e-d7d6621ce4e6"
      },
      "execution_count": null,
      "outputs": [
        {
          "output_type": "error",
          "ename": "TypeError",
          "evalue": "ignored",
          "traceback": [
            "\u001b[0;31m---------------------------------------------------------------------------\u001b[0m",
            "\u001b[0;31mTypeError\u001b[0m                                 Traceback (most recent call last)",
            "\u001b[0;32m<ipython-input-28-9c449dd903b2>\u001b[0m in \u001b[0;36m<module>\u001b[0;34m()\u001b[0m\n\u001b[1;32m      1\u001b[0m \u001b[0;32mfrom\u001b[0m \u001b[0msklearn\u001b[0m\u001b[0;34m.\u001b[0m\u001b[0mensemble\u001b[0m \u001b[0;32mimport\u001b[0m \u001b[0mRandomForestClassifier\u001b[0m\u001b[0;34m\u001b[0m\u001b[0;34m\u001b[0m\u001b[0m\n\u001b[0;32m----> 2\u001b[0;31m \u001b[0mrfclf\u001b[0m  \u001b[0;34m=\u001b[0m \u001b[0mRandomForestClassifier\u001b[0m\u001b[0;34m(\u001b[0m\u001b[0mnjobs\u001b[0m \u001b[0;34m=\u001b[0m \u001b[0;34m-\u001b[0m\u001b[0;36m1\u001b[0m\u001b[0;34m,\u001b[0m\u001b[0mn_estimators\u001b[0m \u001b[0;34m=\u001b[0m \u001b[0;36m100\u001b[0m\u001b[0;34m)\u001b[0m\u001b[0;31m#this line creates an object for the class\u001b[0m\u001b[0;34m\u001b[0m\u001b[0;34m\u001b[0m\u001b[0m\n\u001b[0m\u001b[1;32m      3\u001b[0m \u001b[0;31m#rfclf is an object and RandomForestClassifier() is a constructor,njobs and n_estimators are called instance variables\u001b[0m\u001b[0;34m\u001b[0m\u001b[0;34m\u001b[0m\u001b[0;34m\u001b[0m\u001b[0m\n",
            "\u001b[0;31mTypeError\u001b[0m: __init__() got an unexpected keyword argument 'njobs'"
          ]
        }
      ]
    },
    {
      "cell_type": "markdown",
      "source": [],
      "metadata": {
        "id": "vXNlwZZfKDnp"
      }
    },
    {
      "cell_type": "code",
      "source": [
        "class Name:\n",
        "  #class variables\n",
        "  a = 10\n",
        "  b = 20\n",
        "  c = \"string\"\n",
        "\n",
        "  def __init__(self,var1,var2):#this line is a constructor-->constructor is used to initialize the instance variables\n",
        "    #initialize the instance variables\n",
        "    self.var1 = var1\n",
        "    self.var2 = var2\n",
        ""
      ],
      "metadata": {
        "id": "q5on-bFuKbxh"
      },
      "execution_count": null,
      "outputs": []
    },
    {
      "cell_type": "code",
      "metadata": {
        "id": "6fBkmIm4PvRc"
      },
      "source": [
        "# S6.1: Demonstrate how to initialise the instance variables through a constructor.\n",
        "class Fmily:\n",
        "  def __init__(self,first_name,last_name,age,relation):\n",
        "    self.first_name=first_name\n",
        "    self.last_name=last_name\n",
        "    self.age=age\n",
        "    self.relation=relation\n",
        "  def full_name(self):\n",
        "    return self.first_name+' '+self.last_name\n",
        "\n"
      ],
      "execution_count": null,
      "outputs": []
    },
    {
      "cell_type": "markdown",
      "metadata": {
        "id": "a7EyFxpxtImV"
      },
      "source": [
        "Here we have successfully created a class with the name `Family`.  \n",
        "\n",
        "Let's now create an object and store the information of a Family member with the class `Family`."
      ]
    },
    {
      "cell_type": "code",
      "metadata": {
        "id": "NW2rp5bmRsyX",
        "colab": {
          "base_uri": "https://localhost:8080/",
          "height": 35
        },
        "outputId": "e0805f92-13ed-40b7-86e2-c24e5fddab0d"
      },
      "source": [
        "# S6.2: Create an object 'father' and enter the values as 'first_name', 'last_name', age, 'relation' inside the bracket.\n",
        "father=Fmily('Dipak','Kamani',43,'father')\n",
        "# 1. print the full name of 'father' object by calling the 'full_name()' function.\n",
        "father.full_name()\n",
        "# 2. Similarly, print the age and relation attributes of the Family member by calling the class variables.\n",
        "father.age,father.relation"
      ],
      "execution_count": null,
      "outputs": [
        {
          "output_type": "execute_result",
          "data": {
            "application/vnd.google.colaboratory.intrinsic+json": {
              "type": "string"
            },
            "text/plain": [
              "'Dipak Kamani'"
            ]
          },
          "metadata": {},
          "execution_count": 33
        }
      ]
    },
    {
      "cell_type": "markdown",
      "metadata": {
        "id": "o0tpJFhHvy6_"
      },
      "source": [
        "As you can see the `Family()` object acts like a function. Actually, behind the scenes, this `Family()` object is a constructor. It asks for the values for the `first_name, last_name, age` and `relation` class variables.\n",
        "\n",
        "So, the constructor `Family('bob', 'parr', 40, 'father')` stores the value,\n",
        "\n",
        "- `'bob'` in the `first_name` instance variable\n",
        "\n",
        "- `'parr'` in the `last_name` instance variable\n",
        "\n",
        "- `40` in the `age` instance variable, and\n",
        "\n",
        "- `'father'` in the `'relation'` instance variable\n",
        "\n",
        "Whenever you create an object (or an instance) of a class, Python calls the constructor of that class. The values that you enter inside the constructor are assigned to the corresponding instance variables. Thus, a constructor for a class is a function which initialises the instance variables."
      ]
    },
    {
      "cell_type": "code",
      "metadata": {
        "id": "8Abo8rs1SnxH",
        "colab": {
          "base_uri": "https://localhost:8080/"
        },
        "outputId": "76589c59-03b9-4e98-acff-97b4618f7b3c"
      },
      "source": [
        "# S6.3: Create an empty list called 'parr_family' and add the objects for father, mother, sister and brother in the list.\n",
        "parr_family = []\n",
        "\n",
        "# 2. Append the 'father' object to the list.\n",
        "parr_family.append(father)\n",
        "\n",
        "# 3. Create the following objects with their corresponding values:\n",
        "# 3.1 mother - 'helen', 'parr', 38, 'mother'\n",
        "# 3.2 sibling_1 - 'violet', 'parr', 14, 'sister'\n",
        "# 3.3 sibling_2 - 'dash', 'parr', 10, 'brother'\n",
        "\n",
        "mother = Fmily('helen', 'parr', 38, 'mother')\n",
        "sibling_1 = Fmily('violet', 'parr', 14, 'sister')\n",
        "sibling_2 = Fmily('dash', 'parr', 10, 'brother')\n",
        "\n",
        "# 4. Append each object created previously inside the family_member\n",
        "parr_family.append(mother)\n",
        "parr_family.append(sibling_1)\n",
        "parr_family.append(sibling_2)\n",
        "\n",
        "# 5. Print the attributes of each member using a 'for' loop.\n",
        "for member in parr_family:\n",
        "  print(\"Full Name:\", member.full_name(),\n",
        "        \"\\nAge:\", member.age,\n",
        "        \"\\nRelation:\", member.relation, \"\\n\")"
      ],
      "execution_count": null,
      "outputs": [
        {
          "output_type": "stream",
          "name": "stdout",
          "text": [
            "Full Name: Dipak Kamani \n",
            "Age: 43 \n",
            "Relation: father \n",
            "\n",
            "Full Name: helen parr \n",
            "Age: 38 \n",
            "Relation: mother \n",
            "\n",
            "Full Name: violet parr \n",
            "Age: 14 \n",
            "Relation: sister \n",
            "\n",
            "Full Name: dash parr \n",
            "Age: 10 \n",
            "Relation: brother \n",
            "\n"
          ]
        }
      ]
    },
    {
      "cell_type": "markdown",
      "metadata": {
        "id": "lvFnGAlhxyYA"
      },
      "source": [
        "So different people can use the same `Family` class to define members of the family. Such kind of functionality is widely used in the security apps of a cooperative housing society. The security personnel can create objects for different members of a family and can later cross-check the details to verify whether a person is a resident of that society or not.\n",
        "\n",
        "You can create more such objects of various members such as uncles, aunt, cousin etc and add them to the list.\n",
        "\n",
        "Let's stop here. In the next class, we will study more about OOP."
      ]
    },
    {
      "cell_type": "markdown",
      "metadata": {
        "id": "MnJGOTdElDIw"
      },
      "source": [
        "---"
      ]
    },
    {
      "cell_type": "markdown",
      "metadata": {
        "id": "HVr7S7ls8kZl"
      },
      "source": [
        "### **Project**\n",
        "You can now attempt the **Applied Tech. Project 52- Classes and Objects** on your own.\n",
        "\n",
        "**Applied Tech. Project 52- Classes and Objects**: https://colab.research.google.com/drive/1ES6E4FS0TLyQ4wr8tRfEfwhvIwhKR1d1?usp=sharing"
      ]
    },
    {
      "cell_type": "markdown",
      "metadata": {
        "id": "IphhMVkJ8qyy"
      },
      "source": [
        "---"
      ]
    }
  ]
}