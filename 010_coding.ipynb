{
  "nbformat": 4,
  "nbformat_minor": 0,
  "metadata": {
    "colab": {
      "provenance": [],
      "include_colab_link": true
    },
    "kernelspec": {
      "name": "python3",
      "display_name": "Python 3"
    }
  },
  "cells": [
    {
      "cell_type": "markdown",
      "metadata": {
        "id": "view-in-github",
        "colab_type": "text"
      },
      "source": [
        "<a href=\"https://colab.research.google.com/github/twisha-k/Python_notes/blob/main/10_coding.ipynb\" target=\"_parent\"><img src=\"https://colab.research.google.com/assets/colab-badge.svg\" alt=\"Open In Colab\"/></a>"
      ]
    },
    {
      "cell_type": "markdown",
      "metadata": {
        "id": "7LlG_PPFjJUz"
      },
      "source": [
        "# Lesson 10: NumPy Arrays II\n"
      ]
    },
    {
      "cell_type": "markdown",
      "metadata": {
        "id": "3rJJF2_hNmmS"
      },
      "source": [
        "### Teacher-Student Activities\n",
        "\n",
        "In the previous lesson, we learnt how to create a NumPy array using different functions. In this lesson, we are going to learn a few of the mathematical operations that can be done on a NumPy array.\n",
        "\n",
        "At the end of the class, we will compare the performance of a NumPy array with a Python list."
      ]
    },
    {
      "cell_type": "code",
      "metadata": {
        "colab": {
          "base_uri": "https://localhost:8080/"
        },
        "id": "wT72WQGWkP4Z",
        "outputId": "d3aefd6e-60eb-47d3-d64e-ecdf8dcacdb0"
      },
      "source": [
        "import numpy as np\n",
        "arr=np.arange(1,10)\n",
        "arr1 = np.arange(2,11)\n",
        "arr+arr1"
      ],
      "execution_count": null,
      "outputs": [
        {
          "output_type": "execute_result",
          "data": {
            "text/plain": [
              "array([ 3,  5,  7,  9, 11, 13, 15, 17, 19])"
            ]
          },
          "metadata": {
            "tags": []
          },
          "execution_count": 1
        }
      ]
    },
    {
      "cell_type": "code",
      "metadata": {
        "id": "twAc2e0Fk9kL"
      },
      "source": [],
      "execution_count": null,
      "outputs": []
    },
    {
      "cell_type": "code",
      "metadata": {
        "colab": {
          "base_uri": "https://localhost:8080/"
        },
        "id": "vHbfH_THkeut",
        "outputId": "b7df50fc-7355-4f6d-cca1-e98beb6ceac6"
      },
      "source": [
        "list1 = [1,2,3,4]\n",
        "list2 = [1,2,3,4]\n",
        "list1+list2 #cannot do math"
      ],
      "execution_count": null,
      "outputs": [
        {
          "output_type": "execute_result",
          "data": {
            "text/plain": [
              "[1, 2, 3, 4, 1, 2, 3, 4]"
            ]
          },
          "metadata": {
            "tags": []
          },
          "execution_count": 2
        }
      ]
    },
    {
      "cell_type": "code",
      "metadata": {
        "colab": {
          "base_uri": "https://localhost:8080/"
        },
        "id": "c1Aox-Wwk-ks",
        "outputId": "fbc34667-2bd7-495a-8224-05e71078fdcf"
      },
      "source": [
        "arr2= np.array([list1])\n",
        "print(arr2,type(arr2))"
      ],
      "execution_count": null,
      "outputs": [
        {
          "output_type": "stream",
          "text": [
            "[[1 2 3 4]] <class 'numpy.ndarray'>\n"
          ],
          "name": "stdout"
        }
      ]
    },
    {
      "cell_type": "code",
      "metadata": {
        "colab": {
          "base_uri": "https://localhost:8080/"
        },
        "id": "xiscWkn1kmOI",
        "outputId": "62dc58c0-d21d-4fca-b3fc-f1c228b3ea04"
      },
      "source": [
        "for i in list1:\n",
        "  for j in list2:\n",
        "    print(i+j)"
      ],
      "execution_count": null,
      "outputs": [
        {
          "output_type": "stream",
          "text": [
            "2\n",
            "3\n",
            "4\n",
            "5\n",
            "3\n",
            "4\n",
            "5\n",
            "6\n",
            "4\n",
            "5\n",
            "6\n",
            "7\n",
            "5\n",
            "6\n",
            "7\n",
            "8\n"
          ],
          "name": "stdout"
        }
      ]
    },
    {
      "cell_type": "markdown",
      "metadata": {
        "id": "IFaexN7T8zWE"
      },
      "source": [
        "---"
      ]
    },
    {
      "cell_type": "markdown",
      "metadata": {
        "id": "8C6arOgwIdZR"
      },
      "source": [
        "#### Activity 1: Array Length\n",
        "\n",
        "Let's begin the lesson with array length. The length of an array (or array length) is:\n",
        "\n",
        "- The number of items in a one-dimensional array.\n",
        "\n",
        "- The number of rows in a two-dimensional array.\n",
        "\n",
        "- The number of blocks in a three-dimensional array.\n",
        "\n",
        "To calculate the length of a NumPy array, you can use the `len()` function.\n",
        "\n",
        "Let's create an array for all the three different dimensions and calculate their lengths using the `len()` function.\n",
        "\n",
        "\n"
      ]
    },
    {
      "cell_type": "code",
      "metadata": {
        "id": "vlgvfn4lhd2L",
        "colab": {
          "base_uri": "https://localhost:8080/"
        },
        "outputId": "fa9c75ac-a0de-4e10-c123-446b61ed918b"
      },
      "source": [
        "# Teacher Action: Create a NumPy array for all the three different dimensions and calculate their lengths.\n",
        "#size = (2)\n",
        "#size = (2,3)\n",
        "#size = (2,3,4)\n",
        "import numpy as np\n",
        "arr_1_dim=np.array([1,2,3,4,5,6,7,8,9])\n",
        "arr_2_dim=np.arange(1,10).reshape(3,3)\n",
        "arr_3_dim=np.arange(1,10).reshape(3,3,1)\n",
        "print(arr_1_dim)\n",
        "print(arr_2_dim)\n",
        "print(arr_3_dim)\n",
        "print(len(arr_1_dim))\n",
        "print(len(arr_2_dim))\n",
        "print(len(arr_3_dim))\n",
        "print(arr_1_dim.size)\n",
        "print(arr_2_dim.size)\n",
        "print(arr_3_dim.size)\n"
      ],
      "execution_count": null,
      "outputs": [
        {
          "output_type": "stream",
          "text": [
            "[1 2 3 4 5 6 7 8 9]\n",
            "[[1 2 3]\n",
            " [4 5 6]\n",
            " [7 8 9]]\n",
            "[[[1]\n",
            "  [2]\n",
            "  [3]]\n",
            "\n",
            " [[4]\n",
            "  [5]\n",
            "  [6]]\n",
            "\n",
            " [[7]\n",
            "  [8]\n",
            "  [9]]]\n",
            "9\n",
            "3\n",
            "3\n",
            "9\n",
            "9\n",
            "9\n"
          ],
          "name": "stdout"
        }
      ]
    },
    {
      "cell_type": "markdown",
      "metadata": {
        "id": "5DCa_G49YKsh"
      },
      "source": [
        "**Note:** You do not have to create the arrays with the exact same items. You can choose to have different items in the arrays.\n",
        "\n",
        "As you can see, the `len()` function gives different outputs for multi-dimensional NumPy arrays."
      ]
    },
    {
      "cell_type": "markdown",
      "metadata": {
        "id": "YzE3GMSkW-Nx"
      },
      "source": [
        "---"
      ]
    },
    {
      "cell_type": "markdown",
      "metadata": {
        "id": "rCnmusCAc6gI"
      },
      "source": [
        "#### Activity 2: The `size` Keyword\n",
        "\n",
        "To find the number of items in a NumPy array, you can use the `size` keyword. Regardless of dimensions, the `size` keyword will always return the number of items in a NumPy array."
      ]
    },
    {
      "cell_type": "code",
      "metadata": {
        "id": "AXL0BiNXc7iK"
      },
      "source": [
        "# Student Action: Compute the number of items in the 'one_dim_ar', 'two_dim_ar' and 'three_dim_ar' NumPy arrays.\n"
      ],
      "execution_count": null,
      "outputs": []
    },
    {
      "cell_type": "markdown",
      "metadata": {
        "id": "vL9yDI_laAVX"
      },
      "source": [
        "**Note:** The `size` keyword is not available for a Python list."
      ]
    },
    {
      "cell_type": "markdown",
      "metadata": {
        "id": "EDbcN7r-Z83a"
      },
      "source": [
        "---"
      ]
    },
    {
      "cell_type": "markdown",
      "metadata": {
        "id": "qkZj_ZVTiHz9"
      },
      "source": [
        "#### Activity 3: Descriptive Statistics\n",
        "\n",
        "Using NumPy arrays, we can easily do some statistical calculations.\n",
        "\n",
        "Consider that you are a smartphone retailer and you have few smartphones in your inventory.\n",
        "\n",
        "|Smartphone Model|Price (INR)|# Units Available|\n",
        "|-|-|-|\n",
        "|Samsung Galaxy M30S|\t13999|\t9|\n",
        "Realme C2| 6298| 8|\n",
        "Xiaomi Redmi Note 7 Pro| 10999| 9|\n",
        "Xiaomi Redmi Note 8 Pro| 14999| 9|\n",
        "Realme C2 32GB| 7298| 8|\n",
        "Realme C2 2GB RAM| 6385| 8|\n",
        "Realme 5| 8999| 9|\n",
        "Xiaomi Redmi Note 7S 64GB| 9999| 6|\n",
        "Xiaomi Redmi Note 8| 9999| 5|\n",
        "Vivo Z1 Pro| 13868| 7|\n",
        "\n",
        "Suppose you decided to do some analysis of your inventory. In the process, you want to find answers to the following questions:\n",
        "\n",
        "1. What is the total monetary value of the inventory?\n",
        "\n",
        "2. What is the average (or mean) price of a smartphone ?\n",
        "\n",
        "3. What is the price of the cheapest smartphone in the inventory?\n",
        "\n",
        "4. What is the price of the most expensive smartphone in the inventory?\n",
        "\n",
        "5. What is the median price of a smartphone?\n",
        "\n",
        "6. What is the most commonly occurring price of a smartphone?\n",
        "\n",
        "You can answer all these questions in a few seconds by creating NumPy arrays and by applying the `sum(), mean(), median(), min()` and `max()` functions.\n",
        "\n",
        "**Note**: A median value is the middle value in an array when the values are arranged in an increasing order. Consider the five numbers `6, 1 , 5, 32,` and `13`.\n",
        "\n",
        "**How to find the median value?**\n",
        "\n",
        "To find the median value, follow two steps:\n",
        "\n",
        "1. First, arrange all the numbers in the increasing order, i.e., `1, 5, 6, 13, 32`.\n",
        "\n",
        "2. Look for the middle value which in this case is `6`. So, the required median value is `6`.\n",
        "\n",
        "In general, let $n$ be the number of numbers in a set.\n",
        "\n",
        "1. If $n$ is odd, the median value lies at the\n",
        "$\\left(\\frac{n + 1}{2}\\right)^{th}$\n",
        "position after arranging the numbers in the ascending order.\n",
        "\n",
        "2. If $n$ is even, the median value is the mean (or average) of the values at the\n",
        "$\\left(\\frac{n}{2}\\right)^{th}$\n",
        "and\n",
        "$\\left(\\frac{n}{2} + 1\\right)^{th}$\n",
        "positions.\n",
        "\n",
        "Let's say we want to find the median of the numbers `34, 12, 8, 7, 21, 19`.\n",
        "\n",
        "1. First, arrange the numbers in increasing order, i.e., `7, 8, 12, 19, 21, 24`.\n",
        "\n",
        "2. There are 6 numbers, so the middle values are `12` and `19`. Their mean (or average) is\n",
        "$\\frac{12+19}{2}$\n",
        "`= 15.5`.\n",
        "So, the required median value is `15.5`\n",
        "\n",
        "Let's first create a NumPy array for the phone data given above, then find the answers to these questions one-by-one.\n"
      ]
    },
    {
      "cell_type": "code",
      "metadata": {
        "id": "t8FrljUgoUTQ"
      },
      "source": [
        "# Student Action: Create two NumPy arrays: one for the smartphone prices and another for the number of units available.\n",
        "arr_prize=np.array([13999,6298,10999,14999,7298,6385,8999,9999,9999,13868])\n",
        "arr_units=np.array([9,8,9,9,8,8,9,6,5,7])"
      ],
      "execution_count": null,
      "outputs": []
    },
    {
      "cell_type": "markdown",
      "metadata": {
        "id": "ljuEdRWDp41V"
      },
      "source": [
        "Now, let's answer the first question. To find the total monetary value of the inventory, you have to multiply each smartphone price with its corresponding number of units available and then add all the products of the multiplications.\n",
        "\n",
        "Let the total monetary value be\n",
        "$M$\n",
        ", price of a smartphone be\n",
        "$p$\n",
        ", the number of units available be $u$ and the varieties of smartphones be\n",
        "$n$\n",
        ". Then\n",
        "$M = p_1 \\times u_1 + p_2 \\times u_2 + p_3 \\times u_3 + \\dots + p_n \\times u_n$\n",
        "\n",
        "Therefore, we have to multiply the `prices` array values with the `units_available` array values to get a new array containing total prices for each smartphone. Then using the `sum()` function, we will add all the values of the new array."
      ]
    },
    {
      "cell_type": "code",
      "metadata": {
        "id": "Wwjrkh75pDQZ",
        "colab": {
          "base_uri": "https://localhost:8080/"
        },
        "outputId": "edf3102d-8298-4b46-b326-c8ac90ca6e1b"
      },
      "source": [
        "# Teacher Action: Compute the total monetary value of the inventory.\n",
        "total_prize=arr_prize*arr_units\n",
        "print(total_prize)\n",
        "# Create an array containing total price for each smartphone.\n",
        "np.sum(total_prize)\n",
        "# Calculate the total monetary value.\n"
      ],
      "execution_count": null,
      "outputs": [
        {
          "output_type": "stream",
          "text": [
            "[125991  50384  98991 134991  58384  51080  80991  59994  49995  97076]\n"
          ],
          "name": "stdout"
        },
        {
          "output_type": "execute_result",
          "data": {
            "text/plain": [
              "807877"
            ]
          },
          "metadata": {
            "tags": []
          },
          "execution_count": 6
        }
      ]
    },
    {
      "cell_type": "markdown",
      "metadata": {
        "id": "1PF75230rVO_"
      },
      "source": [
        "**Note:** We cannot add, subtract, multiply and divide two Python lists like NumPy arrays.\n",
        "\n",
        "Now, using the `mean()` function, compute the average price of a smartphone."
      ]
    },
    {
      "cell_type": "code",
      "metadata": {
        "id": "HOVg5kWlsLyO",
        "colab": {
          "base_uri": "https://localhost:8080/"
        },
        "outputId": "5447433a-e805-4bbb-ab0e-9191cb948f4e"
      },
      "source": [
        "# Student Action: Compute the average price of a smartphone.\n",
        "np.mean(arr_prize)"
      ],
      "execution_count": null,
      "outputs": [
        {
          "output_type": "execute_result",
          "data": {
            "text/plain": [
              "10284.3"
            ]
          },
          "metadata": {
            "tags": []
          },
          "execution_count": 7
        }
      ]
    },
    {
      "cell_type": "markdown",
      "metadata": {
        "id": "RKjJufyVsYU2"
      },
      "source": [
        "Now, using the `min()` function, compute the price of the cheapest smartphone."
      ]
    },
    {
      "cell_type": "code",
      "metadata": {
        "id": "5Owx2KmysuPk",
        "colab": {
          "base_uri": "https://localhost:8080/"
        },
        "outputId": "7349e3bd-7d6b-466b-dd7d-74b949377b90"
      },
      "source": [
        "# Student Action: Using the 'min()' function, compute the lowest price of a smartphone.\n",
        "np.min(arr_prize)"
      ],
      "execution_count": null,
      "outputs": [
        {
          "output_type": "execute_result",
          "data": {
            "text/plain": [
              "6298"
            ]
          },
          "metadata": {
            "tags": []
          },
          "execution_count": 8
        }
      ]
    },
    {
      "cell_type": "markdown",
      "metadata": {
        "id": "dTC1iDGvs5sc"
      },
      "source": [
        "Now, using the `max()` function, compute the price of the expensive smartphone."
      ]
    },
    {
      "cell_type": "code",
      "metadata": {
        "id": "XK4SfK97tCSa",
        "colab": {
          "base_uri": "https://localhost:8080/"
        },
        "outputId": "7a9d5aab-f8e7-416c-ef7b-5af0f964debd"
      },
      "source": [
        "# Student Action: Using the 'max()' function, compute the highest price of a smartphone.\n",
        "np.max(arr_prize)"
      ],
      "execution_count": null,
      "outputs": [
        {
          "output_type": "execute_result",
          "data": {
            "text/plain": [
              "14999"
            ]
          },
          "metadata": {
            "tags": []
          },
          "execution_count": 9
        }
      ]
    },
    {
      "cell_type": "markdown",
      "metadata": {
        "id": "O6PyAgR4tK0P"
      },
      "source": [
        "Now, using the `median()` function, compute the median price of a smartphone."
      ]
    },
    {
      "cell_type": "code",
      "metadata": {
        "id": "q-7oX4kOtSSe",
        "colab": {
          "base_uri": "https://localhost:8080/"
        },
        "outputId": "6165201e-4f3a-4a47-d831-23671881238b"
      },
      "source": [
        "# Student Action: Using the 'median()' function, compute the median price of a smartphone.\n",
        "np.median(arr_prize)"
      ],
      "execution_count": null,
      "outputs": [
        {
          "output_type": "execute_result",
          "data": {
            "text/plain": [
              "9999.0"
            ]
          },
          "metadata": {
            "tags": []
          },
          "execution_count": 10
        }
      ]
    },
    {
      "cell_type": "markdown",
      "metadata": {
        "id": "d64CX_uctqpC"
      },
      "source": [
        "Now, let's compute the most commonly occurring price of a smartphone. If you look at the dataset, the most commonly occurring price is `9999` because it occurs twice. Rest of the prices occur only once.\n",
        "\n",
        "The value which occurs the most number of times is called the **modal** value or simply **mode**.\n",
        "\n",
        "Unfortunately, the `numpy` module does not have a function to calculate the modal value. So, either we can create our own function which is a very complicated process or we can use the `mode()` function from the `scipy` library.\n",
        "\n",
        "For the time being we will choose the second option. At the end of the class we will create our own version of the `mode()` function.\n",
        "\n",
        "In the `scipy` library, there is a module called `stats` which contains the `mode()` function. So we have to import the `stats` module from the `scipy` library."
      ]
    },
    {
      "cell_type": "code",
      "metadata": {
        "id": "YwAgYtduxJXq",
        "colab": {
          "base_uri": "https://localhost:8080/"
        },
        "outputId": "1bf0bf02-d466-4e2a-ea86-c1509ddc14c2"
      },
      "source": [
        "# Teacher Action: Compute the modal value using the 'mode()' function from the 'scipy.stats' module.\n",
        "from scipy import stats\n",
        "stats.mode(arr_prize)\n"
      ],
      "execution_count": null,
      "outputs": [
        {
          "output_type": "execute_result",
          "data": {
            "text/plain": [
              "ModeResult(mode=array([9999]), count=array([2]))"
            ]
          },
          "metadata": {
            "tags": []
          },
          "execution_count": 12
        }
      ]
    },
    {
      "cell_type": "markdown",
      "metadata": {
        "id": "5qUdoLwT0uxW"
      },
      "source": [
        "In the output, you can see that `9999` is the modal value and it occurs twice in the `prices` array.\n",
        "\n",
        "**Note:** `from library_name import module_name` is another way of importing a module. It is also a standard practice."
      ]
    },
    {
      "cell_type": "markdown",
      "metadata": {
        "id": "2doxkX1qyC9S"
      },
      "source": [
        "---"
      ]
    },
    {
      "cell_type": "markdown",
      "metadata": {
        "id": "wtaOw65FDEGk"
      },
      "source": [
        "#### Activity 4: Few More Operations On A NumPy Array^^\n",
        "\n",
        "Performing mathematical operations on a NumPy array is easier compared to a Python list.\n",
        "\n",
        "Let's say you have a NumPy array with radii of 20 circles and want to compute the area of every circle. Then you can simply use the double-asterisk (`**`) operator on the NumPy array to square the values. Then multiply the NumPy array with `pi`.\n",
        "\n",
        "**Note:** Area of a circle with the radius\n",
        "$r$\n",
        "is\n",
        "$\\pi r^{2}$."
      ]
    },
    {
      "cell_type": "code",
      "metadata": {
        "id": "vxc4TQw2DyBP"
      },
      "source": [
        "# Teacher Action: Square the values in a numpy array.\n",
        "\n",
        "# 1. First create a Python list having radii of 20 circles where each radii is a random number from 1 to 10.\n",
        "\n",
        "# 2. Convert the list into a NumPy array using the 'array()' function.\n",
        "\n",
        "# 3. Square the elements of NumPy array using the exponent (**) operator. Use can use the 'np.pi' keyword to get the value of 'pi'.\n"
      ],
      "execution_count": null,
      "outputs": []
    },
    {
      "cell_type": "markdown",
      "metadata": {
        "id": "TrpQfzfkFd4N"
      },
      "source": [
        "Notice that when you print the values of a NumPy array (in this case `np_radii`) using the `print()` function, the items of the NumPy array are not separated by comma in the output. For all practical purposes, this is just a different behaviour of a NumPy array. Do not worry about it.\n",
        "\n",
        "If you try to square the radii values stored in a Python list using the same process, then Python will throw the `TypeError` error."
      ]
    },
    {
      "cell_type": "code",
      "metadata": {
        "id": "ooklQ4d-Fk4b"
      },
      "source": [
        "# Teacher Action: Directly apply the exponent (**) operator on a Python list.\n"
      ],
      "execution_count": null,
      "outputs": []
    },
    {
      "cell_type": "markdown",
      "metadata": {
        "id": "oorQuIB_wbFp"
      },
      "source": [
        "Even if you simply multiply a list containing numeric values with a floating-point number, then also Python will throw the `TypeError` error"
      ]
    },
    {
      "cell_type": "code",
      "metadata": {
        "id": "unq5Iqlbv94k"
      },
      "source": [
        "# Teacher Action: Directly multiply a Python list with a number.\n"
      ],
      "execution_count": null,
      "outputs": []
    },
    {
      "cell_type": "markdown",
      "metadata": {
        "id": "-TcTxsAKFpOb"
      },
      "source": [
        "To find the area of the circles whose radii are stored in a Python list, you will have to use a loop."
      ]
    },
    {
      "cell_type": "code",
      "metadata": {
        "id": "xAZOdQ-AF1Mt"
      },
      "source": [
        "# Teacher Action: Square all the items in a Python list.\n"
      ],
      "execution_count": null,
      "outputs": []
    },
    {
      "cell_type": "markdown",
      "metadata": {
        "id": "5aXQrRkz6K0r"
      },
      "source": [
        "Now, using the same approach, you create two NumPy arrays: one having radii (numbers from `1` to `10`) of `10` cylinders and another having their corresponding heights (numbers from `11` to `20`).\n",
        "\n",
        "**Note:** The volume of a cylinder is\n",
        "$\\pi r^{2}h$\n",
        ", where\n",
        "$h$\n",
        "is height of the cylinder and\n",
        "$r$\n",
        "is the radius of the cylinder."
      ]
    },
    {
      "cell_type": "code",
      "metadata": {
        "id": "VegrJMaAhoJv"
      },
      "source": [
        "# Student Action: Create two NumPy arrays. One having a radii of 10 cylinders and another having their corresponding heights.\n",
        "# Compute the volume of the 10 cylinders by multiplying the NumPy arrays and store the new NumPy array in the new variable.\n"
      ],
      "execution_count": null,
      "outputs": []
    },
    {
      "cell_type": "markdown",
      "metadata": {
        "id": "XwOCb3OTBxYD"
      },
      "source": [
        "So, here we got an array containing the volumes of the corresponding cylinders."
      ]
    },
    {
      "cell_type": "markdown",
      "metadata": {
        "id": "o0_iHJJ96hGL"
      },
      "source": [
        "---"
      ]
    },
    {
      "cell_type": "markdown",
      "metadata": {
        "id": "Qoc4ydT3yEDx"
      },
      "source": [
        "#### Activity 5: Python List And NumPy Array Performance Comparison^\n",
        "\n",
        "As we discussed earlier, the execution time for a NumPy array is lesser as compared to a Python list. The difference is most significant when the sizes of lists and arrays are in thousands and above.\n",
        "\n",
        "Let's first create a Python list and a NumPy array both having 100 thousand (or 1 lakh) items. Then let's compute how much time (in seconds) is taken to create the list and the array."
      ]
    },
    {
      "cell_type": "code",
      "metadata": {
        "id": "MqWJKrzoyB8q"
      },
      "source": [
        "# Student Action: Run the code shown below to see that NumPy arrays are faster than Python lists.\n",
        "# 1. Import the 'numpy' and 'time' modules\n",
        "import numpy as np\n",
        "import time\n",
        "\n",
        "# 2. Record the time before creating a Python list.\n",
        "py_t0 = time.time()\n",
        "\n",
        "# 3. Create a Python list containing 100,000 items from 1 to 100,000.\n",
        "py_list = [i for i in range(1, 100001)]\n",
        "\n",
        "# 4. Record the time after creating the list.\n",
        "py_t1 = time.time()\n",
        "\n",
        "# 5. Calculate the time taken to create a Python list by computing the time difference.\n",
        "py_time_diff = (py_t1 - py_t0)\n",
        "print(\"Time taken to create a Python list is\", py_time_diff, \"seconds.\")\n",
        "# 6. Record the time before creating a NumPy array.\n",
        "np_t0 = time.time()\n",
        "\n",
        "# 7. Create a NumPy array containing just one row and 100,000 items from 1 to 100,000.\n",
        "np_ones = np.arange(1, 100001)\n",
        "\n",
        "# 8. Record the time after creating the NumPy array.\n",
        "np_t1 = time.time()\n",
        "\n",
        "# 9. Calculate the time taken to create a NumPy array by computing the time difference.\n",
        "np_time_diff = (np_t1 - np_t0)\n",
        "print(\"Time taken to create a NumPy array is\", np_time_diff, \"seconds.\")\n",
        "\n",
        "# 10. Calculate the factor by which a NumPy array creation is faster than a Python list creation.\n",
        "print(\"A NumPy array is\", py_time_diff // np_time_diff, \"times faster than a Python list for the same size.\")\n",
        "# Recall that // means floor division."
      ],
      "execution_count": null,
      "outputs": []
    },
    {
      "cell_type": "markdown",
      "metadata": {
        "id": "C1_TvZuZyCQf"
      },
      "source": [
        "If you run the above code several times, you will see that almost always NumPy arrays are faster than Python lists by a huge margin."
      ]
    },
    {
      "cell_type": "markdown",
      "metadata": {
        "id": "2kwv0EiQ6lWL"
      },
      "source": [
        "---"
      ]
    },
    {
      "cell_type": "markdown",
      "metadata": {
        "id": "vjz9h-lBLNat"
      },
      "source": [
        "#### Activity 6: The User-Defined `mode()` Function^^^\n",
        "\n",
        "Now let's create our own version of the `mode()` function. It should take a one-dimensional NumPy array (`input_array`) as an input and should return a pair of the modal value and its count as an output.\n",
        "\n",
        "To create this function:\n",
        "\n",
        "1. First we will create an empty Python list to store the count of every item in the `input_array`.\n",
        "\n",
        "  ```\n",
        "  counts_list = []\n",
        "  ```\n",
        "\n",
        "2. Next, we will convert the `input_array` to a Python list and store it in the `input_list` variable.\n",
        "\n",
        "  ```\n",
        "  input_list = list(input_array)\n",
        "  ```\n",
        "\n",
        "3. We will iterate through each item in the `input_list` and count its value. Then we will add the counts to the `counts_list` using the `append()` function.\n",
        "\n",
        "  ```\n",
        "  for item in input_list:\n",
        "      item_count = input_list.count(item)\n",
        "      counts_list.append(item_count)\n",
        "  ```\n",
        "\n",
        "4. Then we will convert the `counts_list` into a NumPy array.\n",
        "\n",
        "  ```\n",
        "  counts_array = np.array(counts_list)\n",
        "  ```\n",
        "\n",
        "5. Next, we will compute the maximum count value in the `counts_array` using the `count()` function.\n",
        "\n",
        "  ```\n",
        "  max_count = np.max(counts_array)\n",
        "  ```\n",
        "\n",
        "6. Then, we will find the index of the `max_count` value using the `index()` function.\n",
        "\n",
        "  ```\n",
        "  max_count_index = counts_list.index(max_count)\n",
        "  ```\n",
        "\n",
        "7. Finally, we will find the modal value using the list indexing method.\n",
        "  \n",
        "  ```\n",
        "  mode = input_list[max_count_index]\n",
        "  ```\n",
        "\n",
        "**Note:** There could be other ways to create the `mode()` function. You are free to explore them in your own time."
      ]
    },
    {
      "cell_type": "code",
      "metadata": {
        "id": "_fCdTIyI-zqL"
      },
      "source": [
        "# Student Action: Create the 'mode()' function which takes a 1D NumPy array as an input and returns the modal value and its count as an output.\n"
      ],
      "execution_count": null,
      "outputs": []
    },
    {
      "cell_type": "markdown",
      "metadata": {
        "id": "eprcVQyBRvKJ"
      },
      "source": [
        "So, in this way, we can create the `mode()` function which takes a one-dimensional array as an input and returns a pair of the modal value and its count as an output.\n",
        "\n",
        "Now, we are well equipped to build the actual Mind Reader game algorithm. We will create it in the next class."
      ]
    },
    {
      "cell_type": "markdown",
      "metadata": {
        "id": "tYfqpd06TrIq"
      },
      "source": [
        "---"
      ]
    }
  ]
}
