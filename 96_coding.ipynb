{
  "nbformat": 4,
  "nbformat_minor": 0,
  "metadata": {
    "colab": {
      "provenance": [],
      "include_colab_link": true
    },
    "kernelspec": {
      "name": "python3",
      "display_name": "Python 3"
    },
    "language_info": {
      "name": "python"
    }
  },
  "cells": [
    {
      "cell_type": "markdown",
      "metadata": {
        "id": "view-in-github",
        "colab_type": "text"
      },
      "source": [
        "<a href=\"https://colab.research.google.com/github/twisha-k/Python_notes/blob/main/96_coding.ipynb\" target=\"_parent\"><img src=\"https://colab.research.google.com/assets/colab-badge.svg\" alt=\"Open In Colab\"/></a>"
      ]
    },
    {
      "cell_type": "markdown",
      "metadata": {
        "id": "2zKfD5teVlHx"
      },
      "source": [
        "# Lesson 96 -  Multipage Streamlit App I"
      ]
    },
    {
      "cell_type": "markdown",
      "metadata": {
        "id": "wdwT65byXA4A"
      },
      "source": [
        "### Teacher-Student Activities\n",
        "\n",
        "In the previous class, we added various functionalities to the glass type prediction app such as data exploration and SVM and Random Forest Classifier implementation. In this process, we explored many useful Streamlit widgets which not only helped us in visualising data but also proved useful in performing hyperparameter tuning smoothly.  \n",
        "\n",
        "Continuing from the previous class, today we will add Logistic Regression classifier to our app with hyperparameter tuning.\n",
        "Further, we will start learning how to build a multi-page web app using Streamlit.\n",
        "\n",
        "\n",
        "Let's quickly go through the activities covered in the previous class and begin this class from **Activity 1: Implementing Logistic Regression with Hyperparameter Tuning** section.\n",
        "\n"
      ]
    },
    {
      "cell_type": "markdown",
      "metadata": {
        "id": "N2y29RJxvwn5"
      },
      "source": [
        "---"
      ]
    },
    {
      "cell_type": "markdown",
      "metadata": {
        "id": "AijE2L9l1IHa"
      },
      "source": [
        "**Note:** Don't run the code shown below. It will throw an error."
      ]
    },
    {
      "cell_type": "code",
      "metadata": {
        "id": "GEZ9oRhP08mX"
      },
      "source": [
        "# Importing the necessary Python modules.\n",
        "import numpy as np\n",
        "import pandas as pd\n",
        "import seaborn as sns\n",
        "import matplotlib.pyplot as plt\n",
        "import streamlit as st\n",
        "\n",
        "from sklearn.model_selection import train_test_split, GridSearchCV\n",
        "from sklearn.metrics import plot_confusion_matrix\n",
        "\n",
        "# ML classifier Python modules\n",
        "from sklearn.svm import SVC\n",
        "from sklearn.ensemble import RandomForestClassifier\n",
        "from sklearn.linear_model import LogisticRegression\n",
        "\n",
        "# Loading the dataset.\n",
        "@st.cache()\n",
        "def load_data():\n",
        "    file_path = \"glass-types.csv\"\n",
        "    df = pd.read_csv(file_path, header = None)\n",
        "    # Droping the 0th column as it contains only the serial numbers.\n",
        "    df.drop(columns = 0, inplace = True)\n",
        "    column_headers = ['RI', 'Na', 'Mg', 'Al', 'Si', 'K', 'Ca', 'Ba', 'Fe', 'GlassType']\n",
        "    columns_dict = {}\n",
        "    # Renaming columns with suitable column headers.\n",
        "    for i in df.columns:\n",
        "        columns_dict[i] = column_headers[i - 1]\n",
        "        # Rename the columns.\n",
        "        df.rename(columns_dict, axis = 1, inplace = True)\n",
        "\n",
        "    return df\n",
        "\n",
        "glass_df = load_data()\n",
        "\n",
        "# Creating the features data-frame holding all the columns except the last column.\n",
        "X = glass_df.iloc[:, :-1]\n",
        "\n",
        "# Creating the target series that holds last column.\n",
        "y = glass_df['GlassType']\n",
        "\n",
        "# Spliting the data into training and testing sets.\n",
        "X_train, X_test, y_train, y_test = train_test_split(X, y, test_size = 0.3, random_state = 42)\n",
        "\n",
        "@st.cache()\n",
        "def prediction(model, ri, na, mg, al, si, k, ca, ba, fe):\n",
        "    glass_type = model.predict([[ri, na, mg, al, si, k, ca, ba, fe]])\n",
        "    glass_type = glass_type[0]\n",
        "    if glass_type == 1:\n",
        "        return \"building windows float processed\".upper()\n",
        "    elif glass_type == 2:\n",
        "        return \"building windows non float processed\".upper()\n",
        "    elif glass_type == 3:\n",
        "        return \"vehicle windows float processed\".upper()\n",
        "    elif glass_type == 4:\n",
        "        return \"vehicle windows non float processed\".upper()\n",
        "    elif glass_type == 5:\n",
        "        return \"containers\".upper()\n",
        "    elif glass_type == 6:\n",
        "        return \"tableware\".upper()\n",
        "    else:\n",
        "        return \"headlamps\".upper()\n",
        "\n",
        "# Add title on the main page and in the sidebar.\n",
        "st.title(\"Glass Type Predictor\")\n",
        "st.sidebar.title(\"Exploratory Data Analysis\")\n",
        "\n",
        "# Using if statement, display raw data on the click of the checkbox.\n",
        "if st.sidebar.checkbox(\"Show raw data\"):\n",
        "    st.subheader(\"Full Dataset\")\n",
        "    st.dataframe(glass_df)\n",
        "\n",
        "# Sidebar for scatter plot\n",
        "st.sidebar.subheader(\"Scatter Plot\")\n",
        "\n",
        "# Remove deprecation warning.\n",
        "st.set_option('deprecation.showPyplotGlobalUse', False)\n",
        "\n",
        "# Choosing x-axis values for scatter plots.\n",
        "features_list = st.sidebar.multiselect(\"Select the x-axis values:\",\n",
        "                                        ('RI', 'Na', 'Mg', 'Al', 'Si', 'K', 'Ca', 'Ba', 'Fe'))\n",
        "# Create scatter plots.\n",
        "for feature in features_list:\n",
        "    st.subheader(f\"Scatter plot between {feature} and GlassType\")\n",
        "    plt.figure(figsize = (12, 6))\n",
        "    sns.scatterplot(x = feature, y = 'GlassType', data = glass_df)\n",
        "    st.pyplot()\n",
        "\n",
        "# Add a multiselect widget to allow the user to select multiple visualisation.\n",
        "# Add a subheader in the sidebar with label \"Visualisation Selector\"\n",
        "st.sidebar.subheader(\"Visualisation Selector\")\n",
        "\n",
        "# Add a multiselect in the sidebar with label 'Select the charts or plots:'\n",
        "# and pass the remaining 6 plot types as a tuple i.e. ('Histogram', 'Box Plot', 'Count Plot', 'Pie Chart', 'Correlation Heatmap', 'Pair Plot').\n",
        "# Store the current value of this widget in a variable 'plot_types'.\n",
        "plot_types = st.sidebar.multiselect(\"Select the charts or plots:\",\n",
        "                                    ('Histogram', 'Box Plot', 'Count Plot', 'Pie Chart', 'Correlation Heatmap', 'Pair Plot'))\n",
        "\n",
        "\n",
        "# Display box plot using the 'matplotlib.pyplot' module and the 'st.pyplot()' function.\n",
        "if 'Histogram' in plot_types:\n",
        "    st.subheader(\"Histogram\")\n",
        "    columns = st.sidebar.selectbox(\"Select the column to create its histogram\",\n",
        "                                  ('RI', 'Na', 'Mg', 'Al', 'Si', 'K', 'Ca', 'Ba', 'Fe'))\n",
        "    # Note: Histogram is generally created for continous values not for discrete values.\n",
        "    plt.figure(figsize = (12, 6))\n",
        "    plt.title(f\"Histogram for {columns}\")\n",
        "    plt.hist(glass_df[columns], bins = 'sturges', edgecolor = 'black')\n",
        "    st.pyplot()\n",
        "\n",
        "# Create box plot using the 'seaborn' module and the 'st.pyplot()' function.\n",
        "if 'Box Plot' in plot_types:\n",
        "    st.subheader(\"Box Plot\")\n",
        "    columns = st.sidebar.selectbox(\"Select the column to create its box plot\",\n",
        "                                  ('RI', 'Na', 'Mg', 'Al', 'Si', 'K', 'Ca', 'Ba', 'Fe', 'GlassType'))\n",
        "    plt.figure(figsize = (12, 2))\n",
        "    plt.title(f\"Box plot for {columns}\")\n",
        "    sns.boxplot(glass_df[columns])\n",
        "    st.pyplot()\n",
        "\n",
        "# Create count plot using the 'seaborn' module and the 'st.pyplot()' function.\n",
        "if 'Count Plot' in plot_types:\n",
        "    st.subheader(\"Count plot\")\n",
        "    sns.countplot(x = 'GlassType', data = glass_df)\n",
        "    st.pyplot()\n",
        "\n",
        "# Create a pie chart using the 'matplotlib.pyplot' module and the 'st.pyplot()' function.\n",
        "if 'Pie Chart' in plot_types:\n",
        "    st.subheader(\"Pie Chart\")\n",
        "    pie_data = glass_df['GlassType'].value_counts()\n",
        "    plt.figure(figsize = (5, 5))\n",
        "    plt.pie(pie_data, labels = pie_data.index, autopct = '%1.2f%%',\n",
        "            startangle = 30, explode = np.linspace(.06, .16, 6))\n",
        "    st.pyplot()\n",
        "\n",
        "# Display correlation heatmap using the 'seaborn' module and the 'st.pyplot()' function.\n",
        "if 'Correlation Heatmap' in plot_types:\n",
        "    st.subheader(\"Correlation Heatmap\")\n",
        "    plt.figure(figsize = (10, 6))\n",
        "    ax = sns.heatmap(glass_df.corr(), annot = True) # Creating an object of seaborn axis and storing it in 'ax' variable\n",
        "    bottom, top = ax.get_ylim() # Getting the top and bottom margin limits.\n",
        "    ax.set_ylim(bottom + 0.5, top - 0.5) # Increasing the bottom and decreasing the bottom margins respectively.\n",
        "    st.pyplot()\n",
        "\n",
        "# Display pair plots using the the 'seaborn' module and the 'st.pyplot()' function.\n",
        "if 'Pair Plot' in plot_types:\n",
        "    st.subheader(\"Pair Plots\")\n",
        "    plt.figure(figsize = (15, 15))\n",
        "    sns.pairplot(glass_df)\n",
        "    st.pyplot()\n",
        "\n",
        "# Add 9 slider widgets for accepting user input for 9 features.\n",
        "st.sidebar.subheader(\"Select your values:\")\n",
        "ri = st.sidebar.slider(\"Input Ri\", float(glass_df['RI'].min()), float(glass_df['RI'].max()))\n",
        "na = st.sidebar.slider(\"Input Na\", float(glass_df['Na'].min()), float(glass_df['Na'].max()))\n",
        "mg = st.sidebar.slider(\"Input Mg\", float(glass_df['Mg'].min()), float(glass_df['Mg'].max()))\n",
        "al = st.sidebar.slider(\"Input Al\", float(glass_df['Al'].min()), float(glass_df['Al'].max()))\n",
        "si = st.sidebar.slider(\"Input Si\", float(glass_df['Si'].min()), float(glass_df['Si'].max()))\n",
        "k = st.sidebar.slider(\"Input K\", float(glass_df['K'].min()), float(glass_df['K'].max()))\n",
        "ca = st.sidebar.slider(\"Input Ca\", float(glass_df['Ca'].min()), float(glass_df['Ca'].max()))\n",
        "ba = st.sidebar.slider(\"Input Ba\", float(glass_df['Ba'].min()), float(glass_df['Ba'].max()))\n",
        "fe = st.sidebar.slider(\"Input Fe\", float(glass_df['Fe'].min()), float(glass_df['Fe'].max()))\n",
        "\n",
        "# Add a subheader and multiselect widget.\n",
        "# Add a subheader in the sidebar with label \"Choose Classifier\"\n",
        "st.sidebar.subheader(\"Choose Classifier\")\n",
        "\n",
        "# Add a selectbox in the sidebar with label 'Classifier'.\n",
        "# and with 2 options passed as a tuple ('Support Vector Machine', 'Random Forest Classifier').\n",
        "# Store the current value of this slider in a variable 'classifier'.\n",
        "classifier = st.sidebar.selectbox(\"Classifier\",\n",
        "                                 ('Support Vector Machine', 'Random Forest Classifier', 'Logistic Regression'))\n",
        "\n",
        "# Implement SVM with hyperparameter tuning\n",
        "# if classifier == 'Support Vector Machine', ask user to input the values of 'C','kernel' and 'gamma'.\n",
        "if classifier == 'Support Vector Machine':\n",
        "    st.sidebar.subheader(\"Model Hyperparameters\")\n",
        "    c_value = st. sidebar.number_input(\"C (Error Rate)\", 1, 100, step = 1)\n",
        "    kernel_input = st.sidebar.radio(\"Kernel\", (\"linear\", \"rbf\", \"poly\"))\n",
        "    gamma_input = st. sidebar.number_input(\"Gamma\", 1, 100, step = 1)\n",
        "\n",
        "    if st.sidebar.button('Classify'):\n",
        "        st.subheader(\"Support Vector Machine\")\n",
        "        svc_model=SVC(C = c_value, kernel = kernel_input, gamma = gamma_input)\n",
        "        svc_model.fit(X_train,y_train)\n",
        "        y_pred = svc_model.predict(X_test)\n",
        "        accuracy = svc_model.score(X_test, y_test)\n",
        "        glass_type = prediction(svc_model, ri, na, mg, al, si, k, ca, ba, fe)\n",
        "        st.write(\"The Type of glass predicted is:\", glass_type)\n",
        "        st.write(\"Accuracy\", accuracy.round(2))\n",
        "        plot_confusion_matrix(svc_model, X_test, y_test)\n",
        "        st.pyplot()\n",
        "\n",
        "# Random Forest Classifier\n",
        "if classifier == 'Random Forest Classifier':\n",
        "    st.sidebar.subheader(\"Model Hyperparameters\")\n",
        "    n_estimators_input = st.sidebar.number_input(\"Number of trees in the forest\", 100, 5000, step = 10)\n",
        "    max_depth_input = st.sidebar.number_input(\"Maximum depth of the tree\", 1, 100, step = 1)\n",
        "\n",
        "    if st.sidebar.button('Classify'):\n",
        "        st.subheader(\"Random Forest Classifier\")\n",
        "        rf_clf = RandomForestClassifier(n_estimators = n_estimators_input, max_depth = max_depth_input, n_jobs = -1)\n",
        "        rf_clf.fit(X_train,y_train)\n",
        "        accuracy = rf_clf.score(X_test, y_test)\n",
        "        glass_type = prediction(rf_clf, ri, na, mg, al, si, k, ca, ba, fe)\n",
        "        st.write(\"The Type of glass predicted is:\", glass_type)\n",
        "        st.write(\"Accuracy\", accuracy.round(2))\n",
        "        plot_confusion_matrix(rf_clf, X_test, y_test)\n",
        "        st.pyplot()"
      ],
      "execution_count": null,
      "outputs": []
    },
    {
      "cell_type": "markdown",
      "metadata": {
        "id": "Q3dfbgEYRC3t"
      },
      "source": [
        "---"
      ]
    },
    {
      "cell_type": "markdown",
      "metadata": {
        "id": "96wAnZgD2GWh"
      },
      "source": [
        "#### Activity 1: Implementing Logistic Regression with Hyperparameter Tuning\n",
        "\n",
        "For Logistic Regression, the front-end for hyperparameter tuning must look like this:\n",
        "\n",
        "<center><img src=\"https://s3-whjr-v2-prod-bucket.whjr.online/7fd71f2c-ca3c-4437-997c-8a26eb96bbf1.PNG\"/></center>\n",
        "\n",
        "Recall the syntax for creating object of Logistic Regression:\n",
        "\n",
        "`LogisticRegression(C, max_iter)`\n",
        "\n",
        "where,\n",
        "   - `C` is the error rate (same as the one used in Support Vector Machine).\n",
        "   - `max_iter` is the maximum number of iterations taken by the solvers during model fitting. Default value is `100`.\n",
        "  \n",
        "\n",
        "For our app, we will ask the user to input the `C` and `max_iter` values using `st.number_input()` and `st.slider()` widgets.\n",
        "\n",
        "\n",
        "Follow the steps given below to implement Logistic Regression with hyperparameter tuning:\n",
        "\n",
        "- If `classifier == 'Logistic Regression'`,\n",
        "  \n",
        "  1. Display a subheader with label `\"Model Hyperparameters:\"` in the sidebar.\n",
        "  \n",
        "  2. Accept the value of hyperparameters i.e `C`  using `st.sidebar.number_input()` function and `max_iter` using `st.sidebar.slider()` function. The default mininum values of `C` and `max_iter` should be `1` and `100` respectively.\n",
        "  \n",
        "  3. Store the current value of these hyperparameters in two different variables `c_value` and `max_iter_input`.\n",
        "  \n",
        "  4. If the user clicks on `Classify` button created in sidebar:\n",
        "     \n",
        "     - Create an object of `LogisticRegression` class and store it in a variable, say `log_reg`. Pass the hyperparameter values to its constructor as follows:\n",
        "      ```python\n",
        "      LogisticRegression(C = c_value, max_iter = max_iter_input)\n",
        "      ```\n",
        "     - Call the `fit()` function on `LogisticRegression` object created above with the train set as inputs.\n",
        "     - Determine the accuracy of the model by calling the `score()` function on the test set.\n",
        "     - Call the `prediction()` function and pass the `LogisticRegression` object i.e `log_reg` and input widgets values to this function. Store the glass type returned by this function in the `glass_type` variable.\n",
        "     - Print the predicted glass type (`glass_type`) and accuracy score of the model.\n",
        "     - Call `plot_confusion_matrix` function with `log_reg` and test set as inputs. Use `st.pyplot()` after `plot_confusion_matrix()` function.\n",
        "\n",
        "**Note:** Don't run the code shown below. It will throw an error."
      ]
    },
    {
      "cell_type": "code",
      "metadata": {
        "id": "CWE7D51J2JPJ"
      },
      "source": [
        "# S1.1: Implement Logistic Regression with hyperparameter tuning\n",
        "if classifier == 'Logistic Regression':\n",
        "    st.sidebar.subheader(\"Model Hyperparameters\")\n",
        "    z = st.sidebar.number_input(\"c\", 1, 100, step = 1)\n",
        "    max_iter_input = st.sidebar.number_input(\"Maximum itrations\", 10, 1000, step = 10)\n",
        "\n",
        "    if st.sidebar.button('Classify'):\n",
        "        st.subheader(\"Logistic regression\")\n",
        "        log_reg = LogisticRegression(C = c_value, max_iter = max_iter_input)\n",
        "        log_reg.fit(X_train, y_train)\n",
        "        accuracy = log_reg.score(X_test, y_test)\n",
        "        glass_type = prediction(log_reg, ri, na, mg, al, si, k, ca, ba, fe)\n",
        "        st.write(\"The Type of glass predicted is:\", glass_type)\n",
        "        st.write(\"Accuracy\", accuracy.round(2))\n",
        "        plot_confusion_matrix(log_reg, X_test, y_test)\n",
        "        st.pyplot()"
      ],
      "execution_count": null,
      "outputs": []
    },
    {
      "cell_type": "markdown",
      "metadata": {
        "id": "cxXy1rrK2czX"
      },
      "source": [
        "After adding the above Streamlit code and rerunning the entire app, it will look like this:\n",
        "<center>\n",
        "<img src=\"https://s3-whjr-v2-prod-bucket.whjr.online/9f401dd8-3fd3-4969-905b-e8f50eb3b40c.PNG\"/></center>\n",
        "\n",
        "\n",
        "In the above app, a user can adjust the hyperparameter values to achieve the desired accuracy.\n",
        "\n",
        "Hence, we have completed the entire code needed for creating our glass type prediction web app.\n",
        "\n",
        "Further, you can host the web app on Streamlit Sharing or Heroku using the process you learnt in the previous classes. After hosting it on Heroku, your app should look like the following:\n",
        "\n",
        "https://glass-type-predictor.herokuapp.com/\n",
        "\n",
        "Here's the GitHub repository for the same:\n",
        "\n",
        "https://github.com/srahuliitb/glass-type-predictor\n",
        "\n",
        "You may deploy it on Streamlit sharing service as well.\n",
        "\n",
        "Now, let us develop a new Streamlit multi-page web app to implement a regression problem. Before that, let's quickly go through the dataset used for this regression problem.\n"
      ]
    },
    {
      "cell_type": "markdown",
      "metadata": {
        "id": "HgfOr4bq2hmv"
      },
      "source": [
        "---"
      ]
    },
    {
      "cell_type": "markdown",
      "metadata": {
        "id": "XsXsFoil2iLY"
      },
      "source": [
        "#### Car Price Prediction - Problem Statement\n",
        "\n",
        "Recall the linear regression model that you had built in one of your previous classes wherein you predicted the price of cars based on its technical specifications such as car manufacturer, its engine capacity, fuel efficiency, body-type etc.\n",
        "\n",
        "\n",
        "**Dataset Description:**\n",
        "\n",
        "The dataset contains 205 rows and 26 columns. Each column represents an attribute of a car as described in the table below.\n",
        "\n",
        "|Sr No.|Attribute|Attribute Information|\n",
        "|-|-|-|\n",
        "|1|Car_ID|Unique id of each car (Integer)|\n",
        "|2|Symboling|Assigned insurance risk rating; a value of +3 indicates that the car is risky; -3 suggests that it is probably a safe car (Categorical)|\n",
        "|3|carCompany|Name of car company (Categorical)|\n",
        "|4|fueltype| fuel-type i.e. petrol or diesel (Categorical)|\n",
        "|5|aspiration|Aspiration used in a car (Categorical)|\n",
        "|6|doornumber|Number of doors in a car (Categorical)|\n",
        "|7|carbody|Body-type of a car (Categorical)|\n",
        "|8|drivewheel|Type of drive wheel (Categorical)|\n",
        "|9|enginelocation|Location of car engine (Categorical)|\n",
        "|10|wheelbase|Weelbase of car (Numeric)|\n",
        "|11|carlength|Length of car (Numeric)|\n",
        "|12|carwidth|Width of car (Numeric)|\n",
        "|13|carheight|Height of car (Numeric)|\n",
        "|14|curbweight|The weight of a car without occupants or baggage (Numeric)|\n",
        "|15|enginetype|Type of engine (Categorical)|\n",
        "|16|cylindernumber|Number of cylinders placed in the car engine (Categorical)|\n",
        "|17|enginesize|Capacity of an engine (Numeric)|\n",
        "|18|fuelsystem|Fuel system of a car (Categorical)|\n",
        "|19|boreratio|Bore ratio of car (Numeric)|\n",
        "|20|stroke|Stroke or volume inside the engine (Numeric)|\n",
        "|21|compressionratio|Compression ratio of an engine (Numeric)|\n",
        "|22|horsepower|Power output of an engine (Numeric)|\n",
        "|23|peakrpm|Peak revolutions per minute (Numeric)|\n",
        "|24|citympg|Mileage in city (Numeric)|\n",
        "|25|highwaympg|Mileage on highway (Numeric)|\n",
        "|26|price(Dependent variable)|Price of a car (Numeric)|\n",
        "\n",
        "\n",
        "**Dataset source:** https://archive.ics.uci.edu/ml/datasets/Automobile\n",
        "\n",
        "**Credits:** `Dua, D., & Graff, C.. (2017). UCI Machine Learning Repository`\n",
        "\n",
        "For ease of implementation, we will use only following four features that we had obtained after performing feature selection using RFE (Recursive Feature Elimination) in one of the previous lessons:\n",
        "\n",
        "|Sr No.|Features|Target|\n",
        "|-|-|-|\n",
        "|1|`'carwidth'`|price|\n",
        "|2|`'enginesize'`|\n",
        "|3|`'horsepower'`|\n",
        "|4|`'drivewheel_fwd'`|\n",
        "|5|`'car_company_buick'`|\n",
        "\n",
        "Let's start creating a multi-page application to implement the above regression problem using Streamlit.\n",
        "\n",
        "\n",
        "\n",
        "\n",
        "\n"
      ]
    },
    {
      "cell_type": "markdown",
      "metadata": {
        "id": "XtXubB44hl84"
      },
      "source": [
        "---"
      ]
    },
    {
      "cell_type": "code",
      "source": [],
      "metadata": {
        "id": "9I765zObfCud"
      },
      "execution_count": null,
      "outputs": []
    },
    {
      "cell_type": "markdown",
      "metadata": {
        "id": "3D5zivpdhZmE"
      },
      "source": [
        "#### Activity 2: Main Page Configuration\n",
        "\n",
        "A multipage application is one is a web having having multiple web pages linked with the home page. The different web apps have their own widgets. To get a better understanding, let's learn create a web app having three different web pages using Streamlit using radio buttons.\n",
        "\n",
        "This web app will do the following:\n",
        "\n",
        "1. Display the name of the app and its brief description.\n",
        "\n",
        "2. Display raw data and provide data description through one of the pages.\n",
        "\n",
        "3. Create different types of charts or plots to find a pattern (if exists) in the data through another web page\n",
        "\n",
        "4. Build an ML model to make predictions through the final web page.\n",
        "\n",
        "To do this we will need to create 5 Python (`.py`) scripts. The four of them will do the above mentioned tasks and  the fifth one  (**main page**) will act as an anchor for the four web pages.\n",
        "\n",
        "Let's first set the title of the home page that will appear on the browser tab. For this, you need the `set_page_config()` function of the `streamlit` module.\n",
        "\n",
        "The main objective of the `set_page_config()` function configures the default settings of the page. Its **syntax** is:\n",
        "\n",
        "```python\n",
        "streamlit.set_page_config(page_title = None,\n",
        "                          page_icon = None,\n",
        "                          layout = 'centered',\n",
        "                          initial_sidebar_state = 'auto')\n",
        "```\n",
        "\n",
        "- **`page_title` (`str` or `None`):** The page title, shown in the browser tab. If set to `None`, defaults to the filename of the script (eg., `app.py` would show `app • Streamlit`).\n",
        "\n",
        "- **`page_icon` (Anything supported by `st.image` or `str` or `None`):** The page favicon. Besides the types supported by `st.image` (like URLs or numpy arrays), you can pass in an emoji as a string (`\"🦈\"`) or a shortcode (`\":shark:\"`). If you're feeling lucky, try `\"random\"` for a random emoji! Emoji icons are courtesy of [Twemoji](https://twemoji.twitter.com/) and loaded from [MaxCDN](https://www.stackpath.com/maxCDN).\n",
        "\n",
        "- **`layout` (`\"centered\"` or `\"wide\"`):** How the page content should be laid out. Defaults to `\"centered\"`, which constraints the elements into a centered column of fixed width; `\"wide\"` uses the entire screen.\n",
        "\n",
        "- **`initial_sidebar_state` (`\"auto\"` or `\"expanded\"` or `\"collapsed\"`):** How the sidebar should start out. Defaults to `\"auto\"`, which hides the sidebar on mobile-sized devices, and shows it otherwise. `\"expanded\"` shows the sidebar initially; `\"collapsed\"` hides it.\n",
        "\n",
        "**Note:** The `set_page_config()` **must be the first** Streamlit function used in your app (of course after importing the `streamlit` module), and **must only be set once**.\n",
        "\n",
        "So now create the main python file `main_app.py` in Sublime editor and save it in a new folder (say **multipage**). In the `main_app.py` file:\n",
        "\n",
        "- Import the `streamlit` module\n",
        "\n",
        "- Configure your main page by setting its title and icon that will be displayed in a browser tab.\n",
        "\n",
        "- Load the dataset.\n",
        "\n",
        "- Create a navigation bar to navigate through multiple pages.\n",
        "\n",
        "**Note:** Do not run the code shown below in Google Colab. It will throw an error."
      ]
    },
    {
      "cell_type": "code",
      "metadata": {
        "id": "sFP9UmIs2PSh"
      },
      "source": [
        "# S2.1: Configure your home page by setting its title and icon that will be displayed in a browser tab.\n",
        "# Importing the necessary Python modules.\n",
        "\n",
        "# Configure your home page.\n"
      ],
      "execution_count": null,
      "outputs": []
    },
    {
      "cell_type": "markdown",
      "metadata": {
        "id": "48mhPkhy2PrD"
      },
      "source": [
        "---"
      ]
    },
    {
      "cell_type": "markdown",
      "metadata": {
        "id": "hO4snRI42mgw"
      },
      "source": [
        "#### Activity 3: Loading Data\n",
        "\n",
        "In the `main_app.py` file, import the `numpy` and `pandas` modules and create a function (say `load_data()`) that loads the dataset and returns a Pandas data-frame. The body of the function should contain the following code that you already created in one of the previous lesson(s):\n",
        "\n",
        "```python\n",
        "# Reading the dataset\n",
        "    cars_df = pd.read_csv(\"car-prices.csv\")\n",
        "    # Extract the name of the manufactures from the car names and display the first 25 cars to verify whether names are extracted successfully.\n",
        "    car_companies = pd.Series([car.split(\" \")[0] for car in cars_df['CarName']], index = cars_df.index)\n",
        "    # Create a new column named 'car_company'. It should store the company names of a the cars.\n",
        "    cars_df['car_company'] = car_companies\n",
        "    # Replace the misspelled 'car_company' names with their correct names.\n",
        "    cars_df.loc[(cars_df['car_company'] == \"vw\") | (cars_df['car_company'] == \"vokswagen\"), 'car_company'] = 'volkswagen'\n",
        "    cars_df.loc[cars_df['car_company'] == \"porcshce\", 'car_company'] = 'porsche'\n",
        "    cars_df.loc[cars_df['car_company'] == \"toyouta\", 'car_company'] = 'toyota'\n",
        "    cars_df.loc[cars_df['car_company'] == \"Nissan\", 'car_company'] = 'nissan'\n",
        "    cars_df.loc[cars_df['car_company'] == \"maxda\", 'car_company'] = 'mazda'\n",
        "    cars_df.drop(columns= ['CarName'], axis = 1, inplace = True)\n",
        "    cars_numeric_df = cars_df.select_dtypes(include = ['int64', 'float64'])\n",
        "    cars_numeric_df.drop(columns = ['car_ID'], axis = 1, inplace = True)\n",
        "    # Map the values of the 'doornumber' and 'cylindernumber' columns to their corresponding numeric values.\n",
        "    cars_df[['cylindernumber', 'doornumber']] = cars_df[['cylindernumber', 'doornumber']].apply(num_map, axis = 1)\n",
        "    # Create dummy variables for the 'carbody' columns.\n",
        "    car_body_dummies = pd.get_dummies(cars_df['carbody'], dtype = int)\n",
        "    # Create dummy variables for the 'carbody' columns with 1 column less.\n",
        "    car_body_new_dummies = pd.get_dummies(cars_df['carbody'], drop_first = True, dtype = int)\n",
        "    # Create a DataFrame containing all the non-numeric type features.\n",
        "    cars_categorical_df = cars_df.select_dtypes(include = ['object'])\n",
        "    #Get dummy variables for all the categorical type columns using the dummy coding process.\n",
        "    cars_dummies_df = pd.get_dummies(cars_categorical_df, drop_first = True, dtype = int)\n",
        "    #  Drop the categorical type columns from the 'cars_df' DataFrame.\n",
        "    cars_df.drop(list(cars_categorical_df.columns), axis = 1, inplace = True)\n",
        "    # Concatenate the 'cars_df' and 'cars_dummies_df' DataFrames.\n",
        "    cars_df = pd.concat([cars_df, cars_dummies_df], axis = 1)\n",
        "    #  Drop the 'car_ID' column\n",
        "    cars_df.drop('car_ID', axis = 1, inplace = True)\n",
        "    final_columns = ['carwidth', 'enginesize', 'horsepower', 'drivewheel_fwd', 'car_company_buick', 'price']\n",
        "```\n",
        "\n",
        "Also, add the following dictionary and function before the `load_data()` function.\n",
        "\n",
        "```python\n",
        "# Dictionary containing positive integers in the form of words as keys and corresponding former as values.\n",
        "words_dict = {\"two\": 2, \"three\": 3, \"four\": 4, \"five\": 5, \"six\": 6, \"eight\": 8, \"twelve\": 12}\n",
        "def num_map(series):\n",
        "    return series.map(words_dict)\n",
        "```\n",
        "\n",
        "**Note:** Do not run the code shown below. It will thrown an error."
      ]
    },
    {
      "cell_type": "code",
      "metadata": {
        "id": "QzUEUwcNAsf0"
      },
      "source": [
        "# S3.1: Create a function, say, 'load_data()' in the 'main_app.py' file to load the dataset.\n",
        "import numpy as np\n",
        "import pandas as pd\n",
        "\n",
        "# Dictionary containing positive integers in the form of words as keys and corresponding former as values.\n",
        "words_dict = {\"two\": 2, \"three\": 3, \"four\": 4, \"five\": 5, \"six\": 6, \"eight\": 8, \"twelve\": 12}\n",
        "def num_map(series):\n",
        "    return series.map(words_dict)\n",
        "\n",
        "# Loading the dataset.\n",
        "@st.cache()\n",
        "def load_data():\n",
        "    # Reading the dataset\n",
        "    cars_df = pd.read_csv(\"car-prices.csv\")\n",
        "    # Extract the name of the manufactures from the car names and display the first 25 cars to verify whether names are extracted successfully.\n",
        "    car_companies = pd.Series([car.split(\" \")[0] for car in cars_df['CarName']], index = cars_df.index)\n",
        "    # Create a new column named 'car_company'. It should store the company names of a the cars.\n",
        "    cars_df['car_company'] = car_companies\n",
        "    # Replace the misspelled 'car_company' names with their correct names.\n",
        "    cars_df.loc[(cars_df['car_company'] == \"vw\") | (cars_df['car_company'] == \"vokswagen\"), 'car_company'] = 'volkswagen'\n",
        "    cars_df.loc[cars_df['car_company'] == \"porcshce\", 'car_company'] = 'porsche'\n",
        "    cars_df.loc[cars_df['car_company'] == \"toyouta\", 'car_company'] = 'toyota'\n",
        "    cars_df.loc[cars_df['car_company'] == \"Nissan\", 'car_company'] = 'nissan'\n",
        "    cars_df.loc[cars_df['car_company'] == \"maxda\", 'car_company'] = 'mazda'\n",
        "    cars_df.drop(columns= ['CarName'], axis = 1, inplace = True)\n",
        "    cars_numeric_df = cars_df.select_dtypes(include = ['int64', 'float64'])\n",
        "    cars_numeric_df.drop(columns = ['car_ID'], axis = 1, inplace = True)\n",
        "    # Map the values of the 'doornumber' and 'cylindernumber' columns to their corresponding numeric values.\n",
        "    cars_df[['cylindernumber', 'doornumber']] = cars_df[['cylindernumber', 'doornumber']].apply(num_map, axis = 1)\n",
        "    # Create dummy variables for the 'carbody' columns.\n",
        "    car_body_dummies = pd.get_dummies(cars_df['carbody'], dtype = int)\n",
        "    # Create dummy variables for the 'carbody' columns with 1 column less.\n",
        "    car_body_new_dummies = pd.get_dummies(cars_df['carbody'], drop_first = True, dtype = int)\n",
        "    # Create a DataFrame containing all the non-numeric type features.\n",
        "    cars_categorical_df = cars_df.select_dtypes(include = ['object'])\n",
        "    #Get dummy variables for all the categorical type columns using the dummy coding process.\n",
        "    cars_dummies_df = pd.get_dummies(cars_categorical_df, drop_first = True, dtype = int)\n",
        "    #  Drop the categorical type columns from the 'cars_df' DataFrame.\n",
        "    cars_df.drop(list(cars_categorical_df.columns), axis = 1, inplace = True)\n",
        "    # Concatenate the 'cars_df' and 'cars_dummies_df' DataFrames.\n",
        "    cars_df = pd.concat([cars_df, cars_dummies_df], axis = 1)\n",
        "    #  Drop the 'car_ID' column\n",
        "    cars_df.drop('car_ID', axis = 1, inplace = True)\n",
        "    final_columns = ['carwidth', 'enginesize', 'horsepower', 'drivewheel_fwd', 'car_company_buick', 'price']\n",
        "    return cars_df[final_columns]\n",
        "\n",
        "final_cars_df = load_data()"
      ],
      "execution_count": null,
      "outputs": []
    },
    {
      "cell_type": "markdown",
      "metadata": {
        "id": "_BjuOuNFC4GD"
      },
      "source": [
        "**Note:** You have to store the `car-prices.csv` file in your computer in the same folder that contains the above Python script. You can download the `car-prices.csv` file from the link provided below.\n",
        "\n",
        "https://s3-student-datasets-bucket.whjr.online/whitehat-ds-datasets/car-prices.csv\n"
      ]
    },
    {
      "cell_type": "markdown",
      "metadata": {
        "id": "aQvn1hDc2u_I"
      },
      "source": [
        "---"
      ]
    },
    {
      "cell_type": "markdown",
      "metadata": {
        "id": "5wDzeTvxZxeO"
      },
      "source": [
        "#### Activity 4: Pages Navigator\n",
        "\n",
        "Now, let's add another widget to navigate through multiple web pages in web app as shown in the image below.\n",
        "\n",
        "<img src=\"https://s3-whjr-v2-prod-bucket.whjr.online/d632d029-0970-4b30-8854-2e9c3794254e.png\">\n",
        "\n",
        "But before that let's create four empty Python files that are `home.py`, `data.py`, `plots.py` and `predict.py` inside the same folder that contains the `main_app.py` as well. The objective of creating the four files is the following:\n",
        "\n",
        "- When a user selects the `Home` option, the `home.py` script will be rendered which contains the code to display only title and a brief description of the web app.\n",
        "\n",
        "- When a user selects the `View Data` option, the `data.py` script will be rendered which contains the code to display raw data and provide data description.\n",
        "\n",
        "- When a user selects the `Visualise Data` option, the `plots.py` script will be rendered which contains the code to create different types of charts or plots to find a pattern (if exists) in the data.\n",
        "\n",
        "- When a user selects the `Predict` option, the `predict.py` script will be rendered which contains the code to build an ML model to make predictions.\n",
        "\n",
        "To create this navigation bar, perform the following tasks:\n",
        "\n",
        "1. Import the `home.py, data.py, plots.py` and `predict.py` files in the `main_app.py` files as `home`, `data`, `plots` and `predict` respectively.\n",
        "\n",
        "2. Create a dictionary, say `pages_dict`, with keys being the label to be displayed in the navigation bar and values being the name of Python script to be rendered:\n",
        "\n",
        "  ```python\n",
        "  pages_dict = {\n",
        "                \"Home:\" home,\n",
        "                \"View Data\": data,\n",
        "                \"Visualise Data\": plots,\n",
        "                \"Predict\": predict\n",
        "            }\n",
        "  ```\n",
        "\n",
        "3. Add a title in the sidebar with the label `'Navigation'`.\n",
        "\n",
        "4. Add a radio button widget with label `'Go to'` and options as keys of the `pages_dict` dictionary. Pass these keys in the form of a list or a tuple as the options to the radio button widget can only be provided in the form of a list or a tuple.\n",
        "\n",
        "5. Store the current value of this radio button widget in a variable `user_choice`.\n",
        "\n",
        "6. Obtain the corresponding value of the key stored in `user_choice` variable by passing it to the `pages_dict` dictionary. Store the value obtained from dictionary in a variable, say `selected_page`. It will have any value amongst `home`, `data`, `plots` or `predict`.\n",
        "\n",
        "7. Call a user defined function, say `app()` on `selected_page` with `final_cars_df` as its input (except for `home`). We will define the `app()` function in all the four files to perform their respective tasks as you will see shortly.\n",
        "\n",
        "  For instance, if we select `'Visualise Data'` option in the navigation, the `app()` function inside the `plots.py` file will be called.\n",
        "\n",
        "**Note:**\n",
        "\n",
        "- Except for `home`, the `final_cars_df` DataFrame must be passed as an input to the `app()` function so that there is no need to load and create the DataFrame again on every page. Thus the `final_cars_df` is being transported from the main page to the respective python script.\n",
        "\n",
        "- If you do not create four empty Python files (i.e. `home.py`, `data.py`, `plots.py` and `predict.py`), then the above code will throw `ModuleNotFoundError` as shown below:\n",
        "\n",
        "  <center><img src=\"https://s3-whjr-v2-prod-bucket.whjr.online/acf63f9e-55e5-4716-b811-0ebcda2ba290.PNG\"></center>\n",
        "\n",
        "  We will write the codes for the above files shortly.\n",
        "\n",
        "- Do not run the code shown below in Google Colab. It will thrown an error.\n"
      ]
    },
    {
      "cell_type": "code",
      "metadata": {
        "id": "qUipzNQfirfw"
      },
      "source": [
        "# S4.1: Adding a navigation in the sidebar using radio buttons\n",
        "# Import the individual Python files\n",
        "import home\n",
        "import data\n",
        "import plots\n",
        "import predict\n",
        "\n",
        "# create a dictionary 'pages_dict'\n",
        "pages_dict = {\n",
        "                \"Home\": home,\n",
        "                \"View Data\": data,\n",
        "                \"Visualise Data\": plots,\n",
        "                \"Predict\": predict\n",
        "            }\n",
        "\n",
        "# Add radio buttons in the sidebar for navigation and call the respective pages based on 'user_choice'.\n",
        "st.sidebar.title('Navigation')\n",
        "user_choice = st.sidebar.radio(\"Go to\", tuple(pages_dict.keys()))\n",
        "if user_choice == \"Home\":\n",
        "    home.app() # The 'app()' function should not take any input if the selection option is \"Home\".\n",
        "else:\n",
        "    selected_page = pages_dict[user_choice]\n",
        "    selected_page.app(final_cars_df)"
      ],
      "execution_count": null,
      "outputs": []
    },
    {
      "cell_type": "markdown",
      "metadata": {
        "id": "hQU9YHsDoyxW"
      },
      "source": [
        "After adding the above Streamlit code and rerunning the entire app, it will look as shown below:\n",
        "\n",
        "<img src=\"https://s3-whjr-v2-prod-bucket.whjr.online/1d764910-d926-43af-9b5f-48aac2632302.png\">\n",
        "\n",
        "At this point, if you select any option, you will get `AttributeError`. This is because, the `app()` function is being called whenever the user selects a page, but this function is not yet defined in any of the individual pages. We will define this function while creating the individual python scripts (`home.py`, `data.py`, `plots.py`, `predict.py`).\n",
        "\n",
        "Thus, we have completed the `main_app.py` file. You can download the `main_app.py` from the link given below:\n",
        "\n",
        "https://drive.google.com/file/d/1xHzwCXZIuxiug3IfwMCk-Hgqwz9MkBMH/view?usp=sharing"
      ]
    },
    {
      "cell_type": "markdown",
      "metadata": {
        "id": "4688ftzkb8ad"
      },
      "source": [
        "---"
      ]
    },
    {
      "cell_type": "markdown",
      "metadata": {
        "id": "UdugGzOglJER"
      },
      "source": [
        "#### Activity 5: Home Page Configuration\n",
        "\n",
        "Now, let's define the our home page by writing Python code for the same so that it appears as shown below:\n",
        "\n",
        "<center><img src=\"https://s3-whjr-v2-prod-bucket.whjr.online/e9181831-7df6-424a-aa22-7520d057b4d5.png\"></center>\n",
        "\n",
        "To define the home page:\n",
        "- Open the empty python file `home.py` that you had created in the previous activity.\n",
        "\n",
        "- Import the `streamlit` module.\n",
        "\n",
        "- Define the `app()` function which doesn't take any input and doesn't return anything. Inside this function:\n",
        "\n",
        "  - Set the title for the home page using the `header()` of the `streamlit` module.\n",
        "\n",
        "  - Write a brief description of your web app, say, `This web app allows a user to predict the prices of a car based on their engine size, horse power, dimensions and the drive wheel type parameters.` using the `text()` function of the `streamlit` module.\n",
        "\n",
        "\n",
        "**Note:** Do not run the code shown below in Google Colab. It will thrown an error."
      ]
    },
    {
      "cell_type": "code",
      "metadata": {
        "id": "N54Qik-br9pg"
      },
      "source": [
        "# S5.1: Configure the home as directed above.\n",
        "import streamlit as st\n",
        "\n",
        "def app():\n",
        "\tst.header(\"Car Price Prediction App\")\n",
        "\tst.text(\"\"\"\n",
        "            This web app allows a user to predict the prices of a car based on their\n",
        "            engine size, horse power, dimensions and the drive wheel type parameters.\n",
        "        \t\"\"\")"
      ],
      "execution_count": null,
      "outputs": []
    },
    {
      "cell_type": "markdown",
      "metadata": {
        "id": "sVGyrkhTlYyg"
      },
      "source": [
        "---"
      ]
    },
    {
      "cell_type": "markdown",
      "metadata": {
        "id": "d_cO3TJGb9PB"
      },
      "source": [
        "#### Activity 6: The `View Data` Page Configuration\n",
        "\n",
        "Now, let's write a Python program to display raw data and data descriptions in the empty `data.py` file. When a user chooses `View Data` option through the navigation section in the sidebar, the `app()` function of the `data.py`file should get called in the `main_app.py` file and the `car_df` data-frame should be an input to the `app()` function. This function doesn't return anything.\n",
        "\n",
        "You need to perform the following tasks inside the `app()` function of `data.py` file:\n",
        "\n",
        "**1. Display the original dataset:**\n",
        "\n",
        "- We have already used `st.dataframe()` function to display a scrollable and interactive DataFrame.\n",
        "\n",
        "- However, instead of drawing a DataFrame as an interactive table, you may want to draw it as a static table. For this, use the `st.table()` function.\n",
        "  \n",
        "  **Syntax:**  `st.table(data)` where `data` is the pandas DataFrame.\n",
        "\n",
        "- Use `st.beta_expander` to display or hide the DataFrame.\n",
        "\n",
        "**Note:** Do not run the code shown below. It will throw an error."
      ]
    },
    {
      "cell_type": "code",
      "metadata": {
        "id": "UY5DZamreJXt"
      },
      "source": [
        "# S6.1: Design the View Data page of the multipage app.\n",
        "# Import necessary modules\n",
        "import numpy as np\n",
        "import pandas as pd\n",
        "import streamlit as st\n",
        "\n",
        "# Define a function 'app()' which accepts 'car_df' as an input.\n",
        "def app(car_df):\n",
        "    st.header(\"View Data\")\n",
        "    # Add an expander and display the dataset as a static table within the expander.\n",
        "    with st.beta_expander(\"View Dataset\"):\n",
        "        st.table(car_df)"
      ],
      "execution_count": null,
      "outputs": []
    },
    {
      "cell_type": "markdown",
      "metadata": {
        "id": "xc0FLexfbnct"
      },
      "source": [
        "**2. Measures of central tendency**\n",
        "\n",
        "You can display the mean, median, quartile and standard deviation values of the numeric columns of a dataset using the `table()` function of the Streamlit module. Hence,\n",
        "\n",
        "  - Using the `subheader()` function of the Streamlit module, display `Column Description:` as text.\n",
        "\n",
        "  - Display the descriptive statistics of the numeric columns of `car_df` data-frame.\n"
      ]
    },
    {
      "cell_type": "code",
      "metadata": {
        "id": "o-yMKibsb8gL"
      },
      "source": [
        "# S6.2: Design the View Data page of the multipage app.\n",
        "# Import necessary modules\n",
        "import numpy as np\n",
        "import pandas as pd\n",
        "import streamlit as st\n",
        "\n",
        "# Define a function 'app()' which accepts 'car_df' as an input.\n",
        "def app(car_df):\n",
        "    st.header(\"View Data\")\n",
        "    # Add an expander and display the dataset as a static table within the expander.\n",
        "    with st.beta_expander(\"View Dataset\"):\n",
        "        st.table(car_df)\n",
        "\n",
        "    # ADD NEW CODE HERE.\n",
        ""
      ],
      "execution_count": null,
      "outputs": []
    },
    {
      "cell_type": "markdown",
      "metadata": {
        "id": "Gwst1RGqe01m"
      },
      "source": [
        "**3. Display widgets horizontally:**\n",
        "\n",
        "While creating web apps, sometimes we wish to customise the horizontal layout of the web page such that multiple elements or widgets can appear side by side as shown below:\n",
        "  \n",
        "  <center><img src=\"https://s3-whjr-v2-prod-bucket.whjr.online/612c1abe-0c03-45b2-afc1-e790a3aafdc1.PNG\"></center>\n",
        "\n",
        "- In Streamlit, this is done using the `beta_columns` function. It allows you to make multiple containers appear side by side.\n",
        "\n",
        "  **Syntax:** `st.beta_columns(spec)` where `spec` is an integer or a list of numbers.\n",
        "    \n",
        "    - If `spec` is an integer, the `beta_columns` function returns that many number of columns having equal width.\n",
        "    \n",
        "    For eg., `st.beta_columns(3)` will return three equal width columns.\n",
        "    \n",
        "    - If `spec` is a list of numbers, the `beta_columns` function returns a column for each number, and each column's width is proportional to the number provided. The numbers can be integers or floats, but they must be positive.\n",
        "\n",
        "    For eg., `st.beta_columns([3, 1, 2])` creates 3 columns where the first column is 3 times the width of the second, and the last column is 2 times the width of the second.\n",
        "  \n",
        "- To add one or more elements to the columns, use `with` notation as follows:\n",
        "\n",
        "  ```python\n",
        "  beta_col1, beta_col2 = st.beta_columns(2)\n",
        "  with beta_col1:\n",
        "    # adding widgets to the first column\n",
        "    ...\n",
        "  with beta_col2:\n",
        "    # adding widgets to the second column\n",
        "    ...\n",
        "  ```\n",
        "\n",
        "- For our app, we will create two columns inside the `app()` function.\n",
        "  \n",
        "  - First column must display all columns names on the click of a checkbox\n",
        "  \n",
        "  - Second column must display all the rows of the selected column on the click of a checkbox as shown below:\n",
        "\n",
        "    <center><img src = \"https://s3-whjr-v2-prod-bucket.whjr.online/7bf48efc-30ab-4d70-af91-e62d01deeda8.gif\"></center>\n",
        "\n",
        "Let us create the horizontal layout as visible in the above gif using the `st.beta_columns()` function.\n",
        "\n",
        "**Note:**\n",
        "\n",
        "- Be careful with the indentation. The code for creating `beta_columns` must be strictly placed inside `app()` function created above.\n",
        "\n",
        "- Do not run the code shown below. It will throw an error."
      ]
    },
    {
      "cell_type": "code",
      "metadata": {
        "id": "mF3ou5Zbe8Ks"
      },
      "source": [
        "# S6.3: Divide the web page into three columns to add more widgets.\n",
        "def app(car_df):\n",
        "    # Displaying orginal dataset\n",
        "    st.header(\"View Data\")\n",
        "    # Add an expander and display the dataset as a static table within the expander.\n",
        "    with st.beta_expander(\"View Dataset\"):\n",
        "        st.table(car_df)\n",
        "\n",
        "    # Display descriptive statistics.\n",
        "    st.subheader(\"Columns Description:\")\n",
        "    if st.checkbox(\"Show summary\"):\n",
        "        st.table(car_df.describe())\n",
        "\n",
        "    # ADD NEW CODE FROM HERE\n",
        "    # Add a subheader and create three columns. Store the columns in two separate variables.\n",
        "    beta_col1, beta_col2, beta_col3 = st.beta_columns(3)\n",
        "\n",
        "    # Add a checkbox in the first column. Display the column names of 'car_df' on the click of checkbox.\n",
        "    with beta_col1:\n",
        "        if st.checkbox(\"Show all column names\"):\n",
        "            st.table(list(car_df.columns))\n",
        "\n",
        "    # Add a checkbox in the second column. Display the column data-types of 'car_df' on the click of checkbox.\n",
        "    with beta_col2:\n",
        "        if st.checkbox(\"View column data-type\"):\n",
        "            st.table(car_df.dtypes)a\n",
        "\n",
        "    # Add a checkbox in the third column followed by a selectbox which accepts the column name whose data needs to be displayed.\n",
        "    with beta_col3:\n",
        "        if st.checkbox(\"View column data\"):\n",
        "            column_data = st.selectbox('Select column', tuple(car_df.columns))\n",
        "            st.write(car_df[column_data])\n"
      ],
      "execution_count": null,
      "outputs": []
    },
    {
      "cell_type": "markdown",
      "metadata": {
        "id": "mIQlcd19fFx8"
      },
      "source": [
        "Hence, we have completed the entire code for `data.py` file. Now run your web app  by running the `main_app.py` file using the following command:\n",
        "\n",
        "`streamlit run main_app.py`\n",
        "\n",
        "You will see the following output:\n",
        "\n",
        "<center>\n",
        "<img src=\"https://s3-whjr-v2-prod-bucket.whjr.online/8583eed7-ff66-4cc5-a3ea-9ddaab722918.gif\"/></center>\n",
        "\n",
        "**Note to the Teacher:** You can download the entire `data.py` file from the link given below:\n",
        "\n",
        "https://drive.google.com/file/d/1uMWpePAoAcqW8_Jc6qK9So8MiHz03sgr\n",
        "\n",
        "\n",
        "We will stop here. In the next class, we will create the remaining two Python pages."
      ]
    },
    {
      "cell_type": "markdown",
      "metadata": {
        "id": "RQONjGlpcBob"
      },
      "source": [
        "---"
      ]
    },
    {
      "cell_type": "markdown",
      "metadata": {
        "id": "HDFWljfFj1EZ"
      },
      "source": [
        "### **Project**\n",
        "You can now attempt the **Applied Tech.Project 96 - Multipage Streamlit App I** on your own.\n",
        "**Applied Tech.Project 96 - Multipage Streamlit App I**: https://colab.research.google.com/drive/1_2dMWdc8o-GTY0_ktUikE1aQD9Ia5C2d"
      ]
    },
    {
      "cell_type": "markdown",
      "metadata": {
        "id": "6ldz0QqAj86q"
      },
      "source": [
        "---"
      ]
    }
  ]
}