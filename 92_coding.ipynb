{
  "nbformat": 4,
  "nbformat_minor": 0,
  "metadata": {
    "colab": {
      "provenance": [],
      "include_colab_link": true
    },
    "kernelspec": {
      "name": "python3",
      "display_name": "Python 3"
    },
    "language_info": {
      "name": "python"
    }
  },
  "cells": [
    {
      "cell_type": "markdown",
      "metadata": {
        "id": "view-in-github",
        "colab_type": "text"
      },
      "source": [
        "<a href=\"https://colab.research.google.com/github/twisha-k/Python_notes/blob/main/92_coding.ipynb\" target=\"_parent\"><img src=\"https://colab.research.google.com/assets/colab-badge.svg\" alt=\"Open In Colab\"/></a>"
      ]
    },
    {
      "cell_type": "markdown",
      "metadata": {
        "id": "2zKfD5teVlHx"
      },
      "source": [
        "# Lesson 92 - Streamlit Framework I"
      ]
    },
    {
      "cell_type": "markdown",
      "metadata": {
        "id": "wdwT65byXA4A"
      },
      "source": [
        "### Teacher-Student Activities\n",
        "\n",
        "In the previous classes, we built several machine learning models using algorithms such as Linear Regression, Logistic Regression, Support Vector Machines etc.\n",
        "\n",
        "Suppose you want to build a front end for your machine learning model and integrate it into a web application so that you can easily share it with other people over the internet. The easiest and the quickest way to do this is by using the Streamlit framework.\n",
        "\n",
        "Let us start learning how to create highly interactive and beautiful web apps for machine learning models using the Streamlit framework.\n",
        "\n",
        "\n",
        "\n"
      ]
    },
    {
      "cell_type": "markdown",
      "metadata": {
        "id": "N2y29RJxvwn5"
      },
      "source": [
        "---"
      ]
    },
    {
      "cell_type": "markdown",
      "metadata": {
        "id": "uDvvl2ts3hF5"
      },
      "source": [
        "#### Activity 1: Python Installation for Microsoft Windows\n",
        "\n",
        "Since Google Colab does not support web application creation, you need to install Python and another code editor (or IDE) on your personal computer (aka local machine) and learn how to run Python programs on it.\n",
        "\n",
        "**Note:** Skip this activity if you are using Mac OS.\n",
        "\n",
        "Let us learn how to download and install Python and set up the development environment. We will install Python 3.7 as it is one of the most stable versions and works seamlessly with `Streamlit`.\n",
        "\n",
        "**Step 1: Download the installer**\n",
        "\n",
        "- To download Python 3.7 on your local machine, you can visit the official [Python website](https://www.python.org/downloads/release/python-370/) and scroll down to the Files section to download Python 3.7 depending on the operating system you use as shown in the image below.\n",
        "  \n",
        "  <center><b> Python Official Website</b><br><img src=\"https://s3-whjr-v2-prod-bucket.whjr.online/19ef6c68-4ae9-4383-b82e-028d19fe2efc.PNG\" width= 800><h3>OR</h3></center>\n",
        "\n",
        "- If you are using Windows 64 bit operating system, you can download Python 3.7 executable file directly from the link given below:\n",
        "\n",
        "  https://drive.google.com/uc?id=18fRk1CWT_JHgDGTZsVFPLOo8nyzb_sbd&export=download\n",
        "\n",
        "  <center><b>Google Drive link for Python Executable for Microsoft Windows </b><br><img src=\"https://s3-whjr-v2-prod-bucket.whjr.online/a02cd6e7-4394-42af-a8e1-c643fdfd798c.png\"></center>\n",
        "\n",
        "\n",
        "- Click on <img src=\"https://s3-whjr-v2-prod-bucket.whjr.online/db2e6946-9e9a-4e22-a47b-c04b4d7d953b.png\"> to download the Python 3.7 executable file.\n",
        "\n",
        "<br>\n",
        "\n",
        "**Step 2: Run the installer**\n",
        "\n",
        "- Run the installer by double-clicking the downloaded file. Remember to click on the checkbox highlighted below to add Python 3.7 to your system path.\n",
        "\n",
        "  <center><b> Python Installer </b><br><img src=\"https://s3-whjr-v2-prod-bucket.whjr.online/2a3efb36-7922-4a0e-8175-e2db03785b68.PNG\"></center>\n",
        "\n",
        "- Click on `Install Now` to start the installation.\n",
        "\n",
        "  <center><b> Python Installer </b><br><img src=\"https://s3-whjr-v2-prod-bucket.whjr.online/5e48fefc-7a41-48c5-ad71-bee0b4fb4681.png\"> </center>\n",
        "\n",
        "- Once the installation is done, you will see a window like this.\n",
        "\n",
        "  <center><b> Python Installer </b><br><img src=\"https://s3-whjr-v2-prod-bucket.whjr.online/84349248-bb58-4218-826f-0eebb3b0368c.PNG\"></center>\n",
        "\n",
        "- Click on the **Close** button to close the installer window.\n",
        "\n",
        "<br>\n",
        "\n",
        "**Step 3: Check Python version using Command Prompt**\n",
        "\n",
        "- To verify whether Python 3.7 was successfully installed on your system, open **Command Prompt** by typing either `cmd` or `Command Prompt` in  the search bar. Once you open the command prompt, a black window like this would appear.\n",
        "\n",
        "  <center><b>Command Prompt</b><br><img src=\"https://s3-whjr-v2-prod-bucket.whjr.online/cc2e0477-0753-45c4-ba57-48972e4be45d.PNG\"></center>\n",
        "  \n",
        "  *In simple terms, a **command prompt** is a text-based user interface screen for our operating system.*\n",
        "\n",
        "- Type the command below in the command prompt window to check your Python version.\n",
        "\n",
        "  ```\n",
        "  python --version\n",
        "  ```\n",
        "\n",
        "  <center><b>Command Prompt - Python Version Verification</b><br><img src=\"https://s3-whjr-v2-prod-bucket.whjr.online/71dc710d-3fa3-44e7-944c-e36237d03df9.PNG\"> </center>\n",
        "  \n",
        "\n",
        "This confirms that Python 3.7 is successfully installed on your Windows OS computer."
      ]
    },
    {
      "cell_type": "markdown",
      "metadata": {
        "id": "7B2xAfaE3pz-"
      },
      "source": [
        "---"
      ]
    },
    {
      "cell_type": "markdown",
      "metadata": {
        "id": "WzR1dgGM3qSG"
      },
      "source": [
        "#### Activity 2: Python Installation for Mac OS\n",
        "\n",
        "**Note:** Skip this activity if you are using Microsoft Windows OS.\n",
        "\n",
        "Python 2 usually comes preinstalled on older versions of macOS. However, we will install Python 3.7 as it is strongly recommended.\n",
        "\n",
        "**Step 1: Download the installer**\n",
        "\n",
        "- To download Python 3.7 for your Mac machine, you can then visit the official [Python website](https://www.python.org/downloads/release/python-370/) and download Python 3.7 depending on the operating system you use.\n",
        "\n",
        "  <center><b>Python Official Website</b><br><img src=\"https://s3-whjr-v2-prod-bucket.whjr.online/439035d4-546a-4bec-b669-0fe188924763.PNG\" width=700><br><h3>OR</h3></center>\n",
        "\n",
        "- You can also directly download Python 3.7 from the link given below:\n",
        "  https://drive.google.com/file/d/1fNYU_FFPeytlXaqwAm_cySQf9pcqutaC/view?usp=sharing\n",
        "\n",
        "<br>\n",
        "\n",
        "**Step 2: Run the installer**\n",
        "\n",
        "- Run the installer by double-clicking the downloaded file. You should see the following window:\n",
        "\n",
        "  <center><img src=\"https://s3-whjr-v2-prod-bucket.whjr.online/71c04968-a93a-46d2-928f-fec907b8881f.PNG\" width=700><br></center>\n",
        "\n",
        "- Press `Continue` a few times until you're asked to agree to the software license agreement. Then click `Agree`.\n",
        "\n",
        "  <center><img src=\"https://s3-whjr-v2-prod-bucket.whjr.online/c2b59f3b-275e-4103-b66c-909dc70242c2.PNG\" width=700><br></center>\n",
        "\n",
        "- You'll be shown a window that tells you the install destination and how much space it will take. You most likely don’t want to change the default location, so go ahead and click on the `Install` button to start the installation.\n",
        "\n",
        "  <center><img src=\"https://s3-whjr-v2-prod-bucket.whjr.online/f73d28f6-046c-4aca-9199-10f303865139.PNG\" width=700><br></center>\n",
        "\n",
        "- Enter your password when prompted. Click on the `Install Software` button to complete the installation process.\n",
        "\n",
        "  <center><img src=\"https://s3-whjr-v2-prod-bucket.whjr.online/aeb17cde-1d50-4422-a974-0e00f0914630.PNG\" width=700><br></center>\n",
        "\n",
        "- Once the installation is done, you will see a window like this. Click on the `Close` button to close the installer window.\n",
        "  \n",
        "  <center><img src=\"https://s3-whjr-v2-prod-bucket.whjr.online/9ec5c480-5b59-4f47-b931-754b86b39ac9.PNG\" width=700></center>\n",
        "\n",
        "<br>\n",
        "\n",
        "**Step 3: Check Python version from terminal**\n",
        "\n",
        "- From the Terminal application, simply type the following command to verify whether Python 3 is successfully installed or not:\n",
        "\n",
        "  ```\n",
        "  python3 --version\n",
        "  ```\n",
        "  \n",
        "  <center><b> Terminal </b><br><img src=\"https://s3-whjr-v2-prod-bucket.whjr.online/cecb903e-fbcc-420b-97f1-908b84da1f81.PNG\" width=700></center>\n",
        "\n",
        "This confirms that Python 3.7 is successfully installed on your Mac OS computer."
      ]
    },
    {
      "cell_type": "markdown",
      "metadata": {
        "id": "rUvtD5Jc3wjH"
      },
      "source": [
        "---"
      ]
    },
    {
      "cell_type": "markdown",
      "metadata": {
        "id": "LzzU1WhQ3xIv"
      },
      "source": [
        "#### Activity 3: Sublime Text Installation for Microsoft Windows\n",
        "\n",
        "Now you need to install a code editor or an Integrated Development Environment (IDE) to write a computer program on your computer. In general, an IDE is any software that can be used for software development. It helps a developer increase their productivity by combining the most common development process activities at one place.\n",
        "\n",
        "Some of the common python IDEs are Sublime Text, PyCharm etc. We will use Sublime Text as our IDE for now because it has a very simple interface and is lightweight i.e., it occupies less space in your computer's physical storage drive.\n",
        "\n",
        "**Note:** Skip this activity if you are using Mac OS.\n",
        "\n",
        "Let us learn how to download and install Sublime text on Microsoft Windows.\n",
        "\n",
        "**Step 1: Download the installer**\n",
        "\n",
        "- To download Sublime 3 on your local machine, you can then visit the official [Sublime Website](https://www.sublimetext.com/3) and select the version build of Sublime 3 depending on the operating system you use.\n",
        "\n",
        "  <center><b>Sublime Text Official Website</b><br><img src=\"https://s3-whjr-v2-prod-bucket.whjr.online/656fea28-6658-4157-b85a-38627c577033.PNG\"><h3>OR</h3></center>\n",
        "\n",
        "- If you are using Windows 64 bit operating system, you can download the Sublime Text executable file directly from the link given below:\n",
        "\n",
        "  https://drive.google.com/file/d/18eNb3xuYZobQkShy-p157gcoG1eJGIEr/view?usp=sharing\n",
        "\n",
        "<br>\n",
        "\n",
        "**Step 2: Installation Process**\n",
        "\n",
        "To install the Sublime 3 watch the [video](https://youtu.be/RGwUiG11klk) and follow the steps."
      ]
    },
    {
      "cell_type": "markdown",
      "metadata": {
        "id": "6vttCZXf31U6"
      },
      "source": [
        "---"
      ]
    },
    {
      "cell_type": "markdown",
      "metadata": {
        "id": "xLDvo_mZ310P"
      },
      "source": [
        "#### Activity 4: Sublime Text Installation for Mac OS\n",
        "\n",
        "**Note:** Skip this activity if you are using Microsoft Windows OS.\n",
        "\n",
        "Let us learn how to download and install Sublime Text for Mac OS.\n",
        "\n",
        "**Step 1: Download the installer**\n",
        "\n",
        "- To download Sublime 3 on your local machine, you can visit the official [Sublime Website](https://www.sublimetext.com/3) and select the version build of Sublime 3 depending on the operating system you use (OSX).\n",
        "\n",
        "  <center><b>Sublime Text Official Website</b><br><img src=\"https://s3-whjr-v2-prod-bucket.whjr.online/656fea28-6658-4157-b85a-38627c577033.PNG\"><h3>OR</h3></center>\n",
        "\n",
        "- You can download the Sublime 3 executable file directly from the link given below:\n",
        "\n",
        "  https://drive.google.com/file/d/18w-ufkg9xlKSyHCGjgp5PLkeNenHhJuW/view?usp=sharing  \n",
        "\n",
        "<br>\n",
        "\n",
        "**Step 2: Installation Process**\n",
        "\n",
        "To install the Sublime 3 watch the [video](https://youtu.be/C_XAxRKPrEg) and follow the steps."
      ]
    },
    {
      "cell_type": "markdown",
      "metadata": {
        "id": "MH7GOFzF3gZm"
      },
      "source": [
        "---"
      ]
    },
    {
      "cell_type": "markdown",
      "metadata": {
        "id": "c3YwKqQ836Yp"
      },
      "source": [
        "#### Activity 5: Python Module Installation on Local Machine - Manually\n",
        "\n",
        "After the Python and IDE setup, we need to install Python modules like NumPy and Pandas to use them in our Python programs.\n",
        "\n",
        "\n",
        "**Step 1: Check Python version using Command Prompt/Terminal**\n",
        "\n",
        "- Open **Command Prompt** by typing either `cmd` or `Command Prompt` in  the search bar. Once you open the command prompt, a black window like this would appear.\n",
        "\n",
        "  <center><b>Command Prompt</b><br><img src=\"https://s3-whjr-v2-prod-bucket.whjr.online/cc2e0477-0753-45c4-ba57-48972e4be45d.PNG\"></center>\n",
        "  \n",
        "\n",
        "- Type the command below in the command prompt to check your Python version.\n",
        "\n",
        "  ```\n",
        "  python --version\n",
        "  ```\n",
        "\n",
        "<center><b>Python Version Check</b><br><img src=\"https://s3-whjr-v2-prod-bucket.whjr.online/71dc710d-3fa3-44e7-944c-e36237d03df9.PNG\"></center>\n",
        "\n",
        "<br>\n",
        "\n",
        "**Step 2: Install NumPy module**\n",
        "\n",
        "- Type the command below in the command prompt to install the NumPy module that is compatible with Python 3.7.\n",
        "\n",
        "  ```\n",
        "  pip install numpy==1.9\n",
        "  ```\n",
        "\n",
        "  `pip` is the standard Package manager for Python. It is used to install and manage new packages. Python installation has its own `pip` executable which can be used for package installation.\n",
        "\n",
        "  From the command above, `numpy` package of version `1.9` will be installed using `pip`.\n",
        "\n",
        "<center><b>NumPy installation using PIP</b><br><img src=\"https://s3-whjr-v2-prod-bucket.whjr.online/cc414671-723a-43ef-a4f2-fed328fa7716.PNG\"></center>\n",
        "\n",
        "Now, the problem here is that the installation of packages manually one by one will take time, hence we can automate the process by creating a batch/shell file."
      ]
    },
    {
      "cell_type": "markdown",
      "metadata": {
        "id": "YPGv_C6b35yg"
      },
      "source": [
        "---"
      ]
    },
    {
      "cell_type": "markdown",
      "metadata": {
        "id": "3Yje5sBZ3-i9"
      },
      "source": [
        "#### Activity 6: Python Package Installation - Batch/Shell Files\n",
        "\n",
        "A batch processing file contains a series of commands that need to be executed on the command prompt in simple terms. It has an extension as `.bat` for Microsoft Windows. They are used to automate and execute repetitive tasks or a group of certain tasks together.\n",
        "\n",
        "**Python Module Installation - Microsoft Windows Batch Files**\n",
        "\n",
        "**Note:** Skip this step if you are using Mac OS.\n",
        "\n",
        "**Step 1: Download the batch file**\n",
        "\n",
        "- Click on the link below to download the batch file for Windows OS:\n",
        "\n",
        "  https://drive.google.com/file/d/1wHO8NhggZIWzjfD_3BliuZnz9t3xF0xg/view?usp=sharing\n",
        "  \n",
        "  In the file, we are mentioning the packages to be installed using the `pip` command as well as the version of the packages compatible with python 3.7. It is important to have the packages installed with compatible versions. The version incompatibility will result in errors at the time of program execution.\n",
        "\n",
        "<center><b>Batch File</b><br><img src=\"https://s3-whjr-v2-prod-bucket.whjr.online/17d55a91-fb7f-4d7f-b301-a09fcb8ecedf.PNG\"> </center>\n",
        "\n",
        "<br>\n",
        "\n",
        "**Step 2: Execute the file**\n",
        "\n",
        "- Double click on the file to execute it.\n",
        "\n",
        "<center><b>Batch File Execution</b><br><img src=\"https://s3-whjr-v2-prod-bucket.whjr.online/a48d7385-7adb-4969-a0e9-4a9e44cd9748.PNG\"/> </center>\n",
        "\n",
        "In this way, we can download and install all the packages together.\n",
        "\n",
        "<br>\n",
        "\n",
        "**Python Package Installation - Mac OS Shell Files**\n",
        "\n",
        "**Note:** Skip this activity if you are using Microsoft Windows OS.\n",
        "\n",
        "**Step 1: Download the shell file**\n",
        "\n",
        "- Click on the link below to download the shell file for Mac OS. Save the file on the desktop:\n",
        "  https://drive.google.com/file/d/16kUg6c5twJmRDLgscKM6WHmZHXmp0AAD/view?usp=sharing\n",
        "\n",
        "  <center><b>Shell File</b><br><img src=\"https://s3-whjr-v2-prod-bucket.whjr.online/26277e82-0764-46cf-9282-f7e36930a9f0.PNG\"></center>\n",
        "\n",
        "<br>\n",
        "\n",
        "**Step 2: Change the Permissions and Execute the file**\n",
        "\n",
        "- Open the terminal and type the below command to make the file executable.\n",
        "\n",
        "  ```\n",
        "  chmod 755 modules.sh\n",
        "  ```\n",
        "\n",
        "- Right-click on the file and push the `option` key to copy the path of the file\n",
        "\n",
        "  <center><b>Copy file path</b><br><img src=\"https://s3-whjr-v2-prod-bucket.whjr.online/787d5458-2c1f-4d78-81ac-95e22090984d.PNG\"></center>\n",
        "\n",
        "<br>\n",
        "\n",
        "- Paste the path on the terminal and install the packages.\n",
        "\n",
        "  <center><b>Shell File Execution</b><br><img src=\"https://s3-whjr-v2-prod-bucket.whjr.online/efdf3045-713d-4b79-be55-bc5833ebb2fb.png\" width=700></center>\n",
        "\n",
        "In this way, we can download and install all the packages together."
      ]
    },
    {
      "cell_type": "markdown",
      "metadata": {
        "id": "YbGjv_xY3-Bp"
      },
      "source": [
        "---"
      ]
    },
    {
      "cell_type": "markdown",
      "metadata": {
        "id": "427AbCTyvxSD"
      },
      "source": [
        "#### Activity 7: Introduction to Streamlit\n",
        "\n",
        "**What is Streamlit?**\n",
        "- Streamlit is a frontend open-source framework used to build machine learning web apps in a short time in Python.\n",
        "- With Streamlit, you can easily add some cool widgets into your web application without exhaustive coding. These web apps can be shared with other people on the platform or hosted on the internet.\n",
        "\n",
        "**Why Streamlit?**\n",
        "- Creating any web application is not an easy task and requires knowledge of various technologies like HTML, CSS, and Javascript.\n",
        "- The best thing about Streamlit is that it doesn't require any knowledge of web development. If you know Python, you're good to go!\n",
        "\n",
        "Let us see some examples of Streamlit machine learning web apps.\n",
        "\n",
        "**1. Iris flower species prediction app:**\n",
        "\n",
        "> This Streamlit app  predicts species of Iris flower from its features. This app is created using a simple Python script and Streamlit widgets. It is deployed using the **Streamlit sharing** option which you will learn in the upcoming classes.\n",
        "\n",
        "> https://share.streamlit.io/whitehatjr-test/iris-species/main/iris_app.py\n",
        "\n",
        "> <img src=\"https://s3-whjr-v2-prod-bucket.whjr.online/c1574ec8-a50b-4fc1-9946-4a53f7068409.PNG\"/>\n",
        "\n",
        "\n",
        "**2. Mushroom classification web app:**\n",
        "\n",
        "> It is a  machine learning web app that classifies whether a mushroom is edible or poisonous.  \n",
        "\n",
        "> https://share.streamlit.io/whitehatjr-test/mushroom/main/app.py\n",
        ">  <img src=\"https://s3-whjr-v2-prod-bucket.whjr.online/b6b6a705-3a38-4b26-9cf5-2f50266e94b9.png\"/>\n",
        "\n",
        "\n",
        "> This Streamlit app allows users to interactively choose their\n",
        "classification algorithms such as Support Vector Machine,\n",
        "Logistic Regression or Random Forest and set their values for the hyperparameter settings. It also allows users to choose the evaluation metrics to be plotted for the model.\n",
        "\n",
        "\n",
        "\n",
        "Let us first learn how to install Streamlit on a local machine and create a simple machine learning web app."
      ]
    },
    {
      "cell_type": "markdown",
      "metadata": {
        "id": "r3UbNRvy6li7"
      },
      "source": [
        "---"
      ]
    },
    {
      "cell_type": "markdown",
      "metadata": {
        "id": "fWWJnNOv6mq6"
      },
      "source": [
        "#### Activity 8: Installing Streamlit\n",
        "\n",
        "**Prerequisites:**\n",
        "\n",
        "Before you get started, make sure you have already installed the following tools:\n",
        "\n",
        "- A text editor (Sublime Text)\n",
        "\n",
        "- Python 3.7\n",
        "\n",
        "**Install Streamlit:**\n",
        "\n",
        "- For both Microsoft Windows and Mac OS users, just type the following command in your terminal or command prompt to install Streamlit:\n",
        "    \n",
        "  `pip install streamlit==0.84.2`\n",
        "\n",
        " **Note**: It is mandatory to install streamlit version 0.84.2 for the streamlit activities to execute properly."
      ]
    },
    {
      "cell_type": "markdown",
      "metadata": {
        "id": "8Bye3fwfI-ok"
      },
      "source": [
        "---"
      ]
    },
    {
      "cell_type": "markdown",
      "metadata": {
        "id": "mQZ08o_kI_hE"
      },
      "source": [
        "#### Activity 9: Importing Streamlit\n",
        "\n",
        "Let us explore Streamlit by first running a simple python script. Follow the steps given below:\n",
        "\n",
        "1. Create a new folder `Python_scripts` on your machine whose path is as follows:\n",
        "  - **Windows:** `C:\\Users\\\\[username]\\Python_scripts\\`\n",
        "  - **Mac:** `/Users/[username]/Python_scripts/`\n",
        "   \n",
        "2. Open Sublime Text editor and type the following code:\n",
        "\n",
        "  ```python\n",
        "import streamlit as st\n",
        "num = 4\n",
        "st.write('square of ', num, 'is', num ** 2)\n",
        "```\n",
        "  In the above code, we first imported Streamlit and displayed the square of `4`.\n",
        "\n",
        "3. Save this file as `app.py` within your `Python_scripts` folder. The `.py` extension indicates that it is a python script.\n",
        "\n",
        "4. Open a terminal or command prompt. Make sure you are in the same working directory in which your python file is saved. For e.g, in our case `app.py` is saved in the `Python_scripts` folder, so navigate to the `Python_scripts` folder from your command prompt or terminal using `cd` command as follows:\n",
        "\n",
        "  `cd /Users/[username]/Python_scripts`\n",
        "\n",
        " (`cd` is the terminal command to change the directory you're working in.)\n",
        "\n",
        " <img src=\"https://s3-whjr-v2-prod-bucket.whjr.online/ffe4518b-ff05-45df-92b9-17cc0e69b9d1.PNG\"/>\n",
        "\n",
        "5. Run `app.py` by typing the following command:\n",
        "\n",
        "  `streamlit run app.py`\n",
        "\n",
        "  <img src=\"https://s3-whjr-v2-prod-bucket.whjr.online/5276058e-691a-4018-ba27-638c782ead53.PNG\"/>\n",
        "\n",
        "  A new tab will open in your default browser. This is what you will see in your web browser.\n",
        "\n",
        "  <img src=\"https://s3-whjr-v2-prod-bucket.whjr.online/47816c42-b203-4a86-b0e5-692ee321881c.PNG\"/>\n",
        "\n",
        "**Note:** The port number may be different depending on what other local servers are running and how they are using specific ports.\n",
        "\n",
        "Let's make it more interactive by including a slider widget in our code. Modify your `app.py` code using Sublime editor as follows:\n",
        "\n",
        "```python\n",
        "import streamlit as st\n",
        "num = st.slider(\"Choose your number\", 1, 100)\n",
        "st.write('square of ', num, 'is', num ** 2)\n",
        "```\n",
        "\n",
        "In the above code, we added a streamlit slider widget that ranges from `1` to `100` using `st.slider()` function. We will explore more such widgets in the upcoming classes.\n",
        "\n",
        "After modifying the `app.py` file, save the file and go back to the browser to observe the changes.\n",
        "\n",
        "**OUTPUT**\n",
        "\n",
        "<center><img src=\"https://s3-whjr-v2-prod-bucket.whjr.online/7714738c-5a41-4ddf-8070-6bb089d7aa09.gif\"></center>\n",
        "\n",
        "**Note:**\n",
        "\n",
        "- Every time you want to update your app, save the source file.\n",
        "\n",
        "- When you do that, Streamlit detects if there is a change and asks you whether you want to rerun your app.\n",
        "\n",
        "- Choose \"Always rerun\" at the top-right of your screen to automatically update your app every time you change its source code.\n",
        "\n",
        "<center><img src=\"https://s3-whjr-v2-prod-bucket.whjr.online/5929a39d-d745-486e-a5d1-624ecf9b2d31.png\"></center>\n",
        "\n",
        "You can terminate the app at any time by pushing the **ctrl** and **c** keys together (**Ctrl + c** in Windows and **control + c** in Mac) when you are active in the command prompt or terminal window.\n",
        "\n",
        "<center><img src=\"https://s3-whjr-v2-prod-bucket.whjr.online/0d529d86-f8c1-4082-a3a5-021ab921898d.PNG\"/></center>"
      ]
    },
    {
      "cell_type": "markdown",
      "metadata": {
        "id": "Wbbx-9XXcXjd"
      },
      "source": [
        "---"
      ]
    },
    {
      "cell_type": "markdown",
      "metadata": {
        "id": "_WMGJd1Jcb6z"
      },
      "source": [
        "#### Activity 10: Iris Species Classification web app using Streamlit\n",
        "\n",
        "Streamlit is extremely useful when you want to showcase your data analytics skills by wrapping your machine learning model into a web app.\n",
        "\n",
        "Let's create a simple Iris flower species prediction app.\n",
        "\n",
        "**Step 1:** First create a python file `iris_app.py` in Sublime editor and save it in the `Python_scripts` folder created earlier. Copy the code given below in the `iris_app.py` file. You are already aware of this code which creates an iris classification model using SVM *(Learnt in  **Support Vector Machines - Introduction**)*.\n",
        "\n",
        "**Dataset credits:** https://archive.ics.uci.edu/ml/datasets/iris\n",
        "\n",
        "**Note:** Do not run the code shown below. It will throw an error.\n"
      ]
    },
    {
      "cell_type": "code",
      "metadata": {
        "id": "NYvpjnI8VC7G"
      },
      "source": [
        "# S10.1: Copy this code cell in 'iris_app.py' using the Sublime text editor. You have already created this ML model in the previous class(es).\n",
        "\n",
        "# Importing the necessary libraries.\n",
        "import numpy as np\n",
        "import pandas as pd\n",
        "import matplotlib.pyplot as plt\n",
        "import seaborn as sns\n",
        "import streamlit as st\n",
        "from sklearn.model_selection import train_test_split\n",
        "from sklearn.svm import SVC\n",
        "\n",
        "# Loading the dataset.\n",
        "iris_df = pd.read_csv(\"iris-species.csv\")\n",
        "\n",
        "# Adding a column in the Iris DataFrame to resemble the non-numeric 'Species' column as numeric using the 'map()' function.\n",
        "# Creating the numeric target column 'Label' to 'iris_df' using the 'map()' function.\n",
        "iris_df['Label'] = iris_df['Species'].map({'Iris-setosa': 0, 'Iris-virginica': 1, 'Iris-versicolor':2})\n",
        "\n",
        "# Creating a model for Support Vector classification to classify the flower types into labels '0', '1', and '2'.\n",
        "\n",
        "# Creating features and target DataFrames.\n",
        "X = iris_df[['SepalLengthCm','SepalWidthCm', 'PetalLengthCm', 'PetalWidthCm']]\n",
        "y = iris_df['Label']\n",
        "\n",
        "# Splitting the data into training and testing sets.\n",
        "X_train, X_test, y_train, y_test = train_test_split(X, y, test_size = 0.33, random_state = 42)\n",
        "\n",
        "# Creating the SVC model and storing the accuracy score in a variable 'score'.\n",
        "svc_model = SVC(kernel = 'linear')\n",
        "svc_model.fit(X_train, y_train)\n",
        "score = svc_model.score(X_train, y_train)"
      ],
      "execution_count": null,
      "outputs": []
    },
    {
      "cell_type": "markdown",
      "metadata": {
        "id": "SZKqqB49x-gs"
      },
      "source": [
        "**Note:** You have to store the `iris-species.csv` file in your computer in the same folder that contains the above Python script. You can download the `iris-species.csv` file from the link provided below.\n",
        "\n",
        "https://s3-student-datasets-bucket.whjr.online/whitehat-ds-datasets/iris-species.csv\n",
        "\n",
        "**Dataset Credits:** https://archive.ics.uci.edu/ml/datasets/iris  \n",
        "\n",
        "**Dataset Creator:** R.A. Fisher\n",
        "\n",
        "**Citation:**\n",
        "```\n",
        "Dua, D., & Graff, C.. (2017). UCI Machine Learning Repository.\n",
        "```\n",
        "\n",
        "In the above code,\n",
        "\n",
        "- We built and trained an SVM classification model to classify species of iris flower.\n",
        "\n",
        "- We have also imported `streamlit` as we  will add streamlit widgets in our app.\n",
        "\n",
        "- We saved the accuracy score of our model in a variable, say `score`, to display it using a Streamlit widget.\n",
        "\n",
        "<br>\n",
        "\n",
        "**Step 2:** Let us add a function, say `prediction()`, that will predict the species of a flower for every unique combination of `SepalLength`, `SepalWidth`, `PetalLength` and `PetalWidth` values. Follow the steps given below to create this function:\n",
        "\n",
        "1. The `prediction()` function takes 4 inputs:\n",
        "\n",
        "  - `SepalLength`\n",
        "  - `SepalWidth`\n",
        "  - `PetalLength`\n",
        "  - `PetalWidth`\n",
        "\n",
        "2. Inside the `prediction()` function:\n",
        "\n",
        "  - Call the `predict()` function on the SVC object. This function will predict the species type based on the values of the features variables.\n",
        "   \n",
        "    **Note:** Pass the values of all the feature variables to the `predict()` function in the form of a 2D array as follows:\n",
        "\n",
        "    `model.predict([[SepalLength, SepalWidth, PetalLength, PetalWidth]])`\n",
        "\n",
        "  - The `predict()` function returns an array containing a single-digit integer value that would be either 0, 1 or 2 where\n",
        "    - `0` denotes `'Iris-setosa'`\n",
        "    - `1` denotes `'Iris-virginica'`\n",
        "    - `2` denotes `'Iris-versicolor'`\n",
        "   \n",
        "  - Extract the integer value using the indexing method i.e. `array_name[0]`.\n",
        "\n",
        "  - Return the name of the species by checking the value of the `species` variable i.e.,\n",
        "  \n",
        "    - If `species == 0`, then return `\"Iris-setosa\"`\n",
        "  \n",
        "    - Else if `species == 1`, then return `\"Iris-virginica\"`\n",
        "  \n",
        "    - Else return `\"Iris-versicolor\"`\n",
        "\n",
        "    Recall that we had mapped the species name to numeric value using the `map()` function as `'Iris-setosa': 0, 'Iris-virginica': 1, 'Iris-versicolor': 2`.\n",
        "\n",
        "**Note:** Do not run the code shown below. It will throw an error."
      ]
    },
    {
      "cell_type": "code",
      "metadata": {
        "id": "oRjHvvHwjCWN"
      },
      "source": [
        "# S10.2: Perform this activity in Sublime editor after adding the above code.\n",
        "# Create a function 'prediction()' that accepts 'SepalLength', 'SepalWidth', 'PetalLength' and 'PetalWidth' as inputs and returns the species name.\n",
        "@st.cache()\n",
        "def prediction(SepalLength, SepalWidth, PetalLength, PetalWidth):\n",
        "  species = svc_model.predict([[SepalLength, SepalWidth, PetalLength, PetalWidth]])\n",
        "  species = species[0]\n",
        "  if species == 0:\n",
        "    return \"Iris-setosa\"\n",
        "  elif species == 1:\n",
        "    return \"Iris-virginica\"\n",
        "  else:\n",
        "    return \"Iris-versicolor\""
      ],
      "execution_count": null,
      "outputs": []
    },
    {
      "cell_type": "markdown",
      "metadata": {
        "id": "5sauM7_GmZrm"
      },
      "source": [
        "In the above code,\n",
        "\n",
        "- The `predict()` function is called on an SVC model, i.e., `svc_model`. This function accepts a 2D array as an input. Thus, the inputs are passed using two square brackets `[[]]`.\n",
        "\n",
        "- The `predict()` function will return an array containing a single-digit integer value which is extracted using the indexing method.\n",
        "\n",
        "- We return an Iris flower species name based on the single-digit integer value returned by the `predict()` function.\n",
        "\n",
        "- We have also marked the `prediction()` function with Streamlit decorator `@st.cache()`. This decorator ensures that the app loads faster if there are not many changes in the inputs passed to the function, thereby improving the performance of the app.\n",
        "\n",
        "**Note:** We will learn about decorators whenever we encounter them from time to time."
      ]
    },
    {
      "cell_type": "markdown",
      "metadata": {
        "id": "0pm6TKkuAEcH"
      },
      "source": [
        "**Step 3:** Next step is to add some Streamlit code to our python file.\n",
        "\n",
        "Now, our next aim is to create the following look of our Streamlit web app:\n",
        "\n",
        "<center><img src=\"https://i.imgur.com/gPHAXWl.png\" width=600></center>\n",
        "\n",
        "To get the above output, we will use the following Streamlit widgets to create this app:\n",
        "\n",
        "1. **`st.title(label)`:** To add the title `\"Iris Flower Species Prediction App\"`\n",
        "\n",
        "2. **`st.slider(label, min_value, max_value)`:** To create four sliders so that the user can dynamically choose the sepal length, sepal width, petal length and petal width of a flower. The minimum and maximum values for these sliders would be `0.0` and `10.0` respectively.\n",
        "\n",
        "3. **`st.button(label)`:** To create the `Predict` button.\n",
        "\n",
        "4. **`st.write(some_text)`:** To display the predicted species and accuracy score of the model on the click of `Predict` button.\n",
        "\n",
        "   <img src=\"https://i.imgur.com/4MNNcYi.png\" width=660>\n",
        "\n",
        "Perform the following tasks in Sublime editor below the `prediction()` function:\n",
        "\n",
        "1. Add a title to the app using the `st.title()` function.\n",
        "\n",
        "2. Add four sliders for sepal length, sepal width, petal length and petal width. Store the current value of these slider widgets in four different variables.\n",
        "\n",
        "3. If the user clicks on the `Predict` button, call the `prediction()` function and pass the slider widgets values to this function. Store the species name returned by the `prediction()` function in a variable.\n",
        "\n",
        "4. Print the predicted species name and accuracy score of the model using `st.write()` function.\n",
        "\n",
        "**Note:** Be careful with the indentation. The code in the following code cell must be outside the `prediction()` function.\n"
      ]
    },
    {
      "cell_type": "code",
      "metadata": {
        "id": "M2X0k4oImp-A"
      },
      "source": [
        "# S10.3: Perform this activity in Sublime editor after adding the above code.\n",
        "# Add title widget\n",
        "st.title(\"Iris Flower Species Prediction App\")\n",
        "\n",
        "# Add 4 sliders and store the value returned by them in 4 separate variables.\n",
        "s_length = st.slider(\"Sepal Length\", 0.0, 10.0)\n",
        "s_width = st.slider(\"Sepal Width\", 0.0, 10.0)\n",
        "p_length = st.slider(\"Petal Length\", 0.0, 10.0)\n",
        "p_width = st.slider(\"Petal Width\", 0.0, 10.0)\n",
        "\n",
        "# When 'Predict' button is pushed, the 'prediction()' function must be called\n",
        "# and the value returned by it must be stored in a variable, say 'species_type'.\n",
        "# Print the value of 'species_type' and 'score' variable using the 'st.write()' function.\n",
        "if st.button(\"Predict\"):\n",
        "\tspecies_type = prediction(s_length, s_width, p_length, p_width)\n",
        "\tst.write(\"Species predicted:\", species_type)\n",
        "\tst.write(\"Accuracy score of this model is:\", score)"
      ],
      "execution_count": null,
      "outputs": []
    },
    {
      "cell_type": "markdown",
      "metadata": {
        "id": "ja3qMqA2FNO7"
      },
      "source": [
        "We have completed the code needed for creating our first ML web app using the Streamlit framework.\n",
        "\n",
        "**Note to the Teacher:** The Python file, say `iris_app.py`, for creating a Streamlit web app will comprise all the above 3 code cells. You can download the same from the link given below:\n",
        "\n",
        "https://drive.google.com/drive/folders/1A8Ri0hb4b-qbhTo2P2LKw-eEJFeSI1xE\n",
        "\n",
        "The `iris_app.py` file is saved as `iris_species_clf.py` in the above Google drive.\n"
      ]
    },
    {
      "cell_type": "markdown",
      "metadata": {
        "id": "_WkdLav-Kaj5"
      },
      "source": [
        "---"
      ]
    },
    {
      "cell_type": "markdown",
      "metadata": {
        "id": "SnEE5WJkKbVz"
      },
      "source": [
        "#### Activity 11: Running the Iris App\n",
        "\n",
        "Now, it is time to run the `iris_app.py` file from the command prompt or terminal window.\n",
        "\n",
        "Run the `iris_app.py` file on your Mac OS terminal or Command Prompt in Windows using the following command:\n",
        "\n",
        "> `streamlit run iris_app.py`\n",
        "\n",
        "<center><img src=\"https://s3-whjr-v2-prod-bucket.whjr.online/f1c8cc83-d097-4a80-b279-15ea48f21626.PNG\"></center>\n",
        "\n",
        "Thus you have created a simple machine learning web app using Streamlit."
      ]
    },
    {
      "cell_type": "markdown",
      "metadata": {
        "id": "ZzxvtcFpZWwy"
      },
      "source": [
        "---"
      ]
    },
    {
      "cell_type": "markdown",
      "metadata": {
        "id": "6y-hLA5fwXqh"
      },
      "source": [
        "#### Activity 12: Streamlit Sharing Invite\n",
        "\n",
        "In the upcoming classes, you will deploy your Streamlit app so that you can share it with your friends and make it accessible to anyone in the world.\n",
        "\n",
        "One of the best ways of deploying your Streamlit app is by using **Streamlit sharing** feature which we will learn about in more detail in the upcoming classes.\n",
        "\n",
        "However, you first need to request an invite from the Streamlit community. Let us see how to do that:\n",
        "\n",
        "1. Visit https://streamlit.io/sharing-sign-up.\n",
        "\n",
        "  <img src=\"https://i.imgur.com/ivcXEmq.png\" width=600/>\n",
        "\n",
        "2. Enter your first name, last name and email address. If you already have an account on Github, enter the email address used for that Github account. Otherwise, enter any of your personal email addresses. Click on \"Sign up now\". You will see a message like this:\n",
        "\n",
        "  <img src=\"https://i.imgur.com/3XBGOFE.png\" width=600/>\n",
        "\n",
        "\n",
        "3. After couple of days, you will receive an invite email like this:\n",
        "\n",
        "  <img src=\"https://s3-whjr-v2-prod-bucket.whjr.online/3200fc8c-5d47-4304-938e-79e799e6c685.PNG\"/>\n",
        "\n",
        "4. Once you receive your invite email, you're ready to deploy your Streamlit apps.\n",
        "\n",
        "Let's stop here. You will learn to host a Streamlit-based web app on a Heroku server in the next class. Also, you will learn to use more functionalities of the Streamlit framework to make your web app more exhaustive and give it a professional touch."
      ]
    },
    {
      "cell_type": "markdown",
      "metadata": {
        "id": "80ULZhJFPIve"
      },
      "source": [
        "---"
      ]
    },
    {
      "cell_type": "markdown",
      "metadata": {
        "id": "_1mO5mMBhrNj"
      },
      "source": [
        "### **Project**\n",
        "You can now attempt the **Applied Tech. Project 92 - Streamlit Framework I** on your own.\n",
        "\n",
        "**Applied Tech. Project 92 - Streamlit Framework I**: https://colab.research.google.com/drive/1ENKsDawDjF-ylErt8kNS6vesj05bXxsV"
      ]
    },
    {
      "cell_type": "markdown",
      "metadata": {
        "id": "IFE-qyvkh6ls"
      },
      "source": [
        "---"
      ]
    }
  ]
}